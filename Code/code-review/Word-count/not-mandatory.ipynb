{
 "cells": [
  {
   "cell_type": "code",
   "execution_count": null,
   "metadata": {},
   "outputs": [],
   "source": [
    "import os\n",
    "import re\n",
    "\n",
    "from collections import Counter\n",
    "\n",
    "\n",
    "working_folder=\"Input\"\n",
    "path=os.chdir(working_folder)\n",
    "folders = [\"105-extracted-date\"]\n",
    "files=[]\n",
    "for folder in folders:\n",
    "    list_folder= os.listdir(working_folder+\"/\"+folder)\n",
    "    full_path=[working_folder+\"/\"+folder+\"/\"+file for file in list_folder]\n",
    "    files.extend(full_path)"
   ]
  },
  {
   "cell_type": "code",
   "execution_count": null,
   "metadata": {},
   "outputs": [],
   "source": [
    "\n",
    "\"\"\"\n",
    "Create a function that takes a string removes punctuation\n",
    "lower-case letters and return lower cased string  \n",
    "\"\"\"\n",
    "\n",
    "def remove_junk(text):\n",
    "    text_no_punc=re.sub(r'\\W+', ' ',text)\n",
    "    text_clean=re.sub(r'\\d', '', text_no_punc)\n",
    "    return text_clean.split()\n",
    "\n",
    "nltk = open(\"Inputs/nltk_stopwords.txt\", mode='r')\n",
    "nltk_stopwords=[element.replace(\"\\n\",\"\") for element in nltk.readlines()]\n",
    "\n",
    "stopwords = [element.replace(\"\\n\",\"\") for element in open(\"droplist.txt\", mode='r').readlines()]\n",
    "\n",
    "stopwords_final=stopwords\n",
    "if nltk_stopwords!=stopwords:\n",
    "    for element in nltk_stopwords:\n",
    "        if element not in  stopwords:\n",
    "            stopwords_final.append(element)"
   ]
  },
  {
   "cell_type": "code",
   "execution_count": null,
   "metadata": {},
   "outputs": [],
   "source": [
    "\n",
    "\"\"\"\n",
    "Create a function that writes a dictionary into a file  \n",
    "\"\"\"\n",
    "\n",
    "#write the dictionary in a text file\n",
    "def write_dict_to_text(file_name, dictionary):\n",
    "    Write_file=open('../Output/counter_freq.txt', 'w') \n",
    "    Write_file.write(\"file\" +\";\" +'word' +\";\" +\"frequency\"+\"\\n\")\n",
    "    for key, value in Counter(dictionary).items():\n",
    "        Write_file.write(file_name +\";\" +key + ';' + str(value) + \"\\n\")\n",
    "    Write_file.close()\n"
   ]
  },
  {
   "cell_type": "code",
   "execution_count": null,
   "metadata": {},
   "outputs": [],
   "source": [
    "\n",
    "for file in files:\n",
    "        #print(file)\n",
    "    f = open(file , mode='r', encoding=\"latin1\" )\n",
    "    text=f.read().lower()\n",
    "    text_clean=\"\"\n",
    "    for element in text.split():\n",
    "        if element not in stopwords_final:\n",
    "            text_clean=text_clean+ \" \"+element\n",
    "    list_words=remove_junk(text_clean)\n",
    "    dict_pol=Counter(list_words)\n",
    "    write_dict_to_text(file.split(\"/\")[-1], dict_pol)"
   ]
  }
 ],
 "metadata": {
  "kernelspec": {
   "display_name": "Python 3",
   "language": "python",
   "name": "python3"
  },
  "language_info": {
   "codemirror_mode": {
    "name": "ipython",
    "version": 3
   },
   "file_extension": ".py",
   "mimetype": "text/x-python",
   "name": "python",
   "nbconvert_exporter": "python",
   "pygments_lexer": "ipython3",
   "version": "3.8.5"
  }
 },
 "nbformat": 4,
 "nbformat_minor": 2
}
