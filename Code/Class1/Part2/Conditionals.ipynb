{
 "cells": [
  {
   "cell_type": "markdown",
   "metadata": {},
   "source": [
    "<center><u><H1>Flow Control -- if, elif, else </H1></u></center>"
   ]
  },
  {
   "cell_type": "markdown",
   "metadata": {},
   "source": [
    "Decisions when the program has more than one choice of actions depending on a variable's value. Think of the decision to take an umbrella. If it rains, we take the umbrella. If it is sunny, we don't. These are logical decisions that depend on the state of the nature. "
   ]
  },
  {
   "cell_type": "markdown",
   "metadata": {},
   "source": [
    "<img src=\"../../../Slides/figures/flow-control.png\" width=\"400\" height=\"500\">"
   ]
  },
  {
   "cell_type": "markdown",
   "metadata": {},
   "source": [
    "### Boolean Values\n",
    "The Boolean data type has only two values: True and False, differently from other types of data such as strings, integers, floats have an unlimited number of possible value. Like any other value, Boolean values are used in expressions and can be stored in variables. If you don’t use the proper case or you try to use True and False for variable names, Python will give you an error message."
   ]
  },
  {
   "cell_type": "markdown",
   "metadata": {},
   "source": [
    "### Comparison Operators\n",
    "Comparison operators compare two values and evaluate down to a single Boolean value. \n",
    "\n",
    "<img src=\"../../../Slides/figures/comparison_operators.png\" width=\"400\" height=\"500\">\n",
    "\n",
    "These operators evaluate to True or False depending on the values you give them. Let’s try some operators now, starting with `==` and `!=`."
   ]
  },
  {
   "cell_type": "code",
   "execution_count": 1,
   "metadata": {},
   "outputs": [],
   "source": [
    "type_flower = \"tulip\"\n",
    "price_flower = 10"
   ]
  },
  {
   "cell_type": "code",
   "execution_count": 2,
   "metadata": {},
   "outputs": [
    {
     "data": {
      "text/plain": [
       "False"
      ]
     },
     "execution_count": 2,
     "metadata": {},
     "output_type": "execute_result"
    }
   ],
   "source": [
    "type_flower == \"rose\""
   ]
  },
  {
   "cell_type": "code",
   "execution_count": 3,
   "metadata": {
    "scrolled": true
   },
   "outputs": [
    {
     "data": {
      "text/plain": [
       "True"
      ]
     },
     "execution_count": 3,
     "metadata": {},
     "output_type": "execute_result"
    }
   ],
   "source": [
    "price_flower > 9"
   ]
  },
  {
   "cell_type": "markdown",
   "metadata": {},
   "source": [
    "### Boolean operators: `and` operator"
   ]
  },
  {
   "cell_type": "markdown",
   "metadata": {},
   "source": [
    "<img src=\"../../../Slides/figures/and-operator.png\" width=\"400\" height=\"500\">"
   ]
  },
  {
   "cell_type": "markdown",
   "metadata": {},
   "source": [
    "### Boolean operators: `or` operator\n",
    "<img src=\"../../../Slides/figures/or-operator.png\" width=\"400\" height=\"500\">"
   ]
  },
  {
   "cell_type": "markdown",
   "metadata": {},
   "source": [
    "### Boolean operators: `not` operator\n",
    "\n",
    "<img src=\"../../../Slides/figures/not-operator.png\" width=\"400\" height=\"500\">"
   ]
  },
  {
   "cell_type": "markdown",
   "metadata": {},
   "source": [
    "### Elements of Flow Control\n",
    "Flow control statements often start with a part called the condition, and all are followed by a block of code called the clause. Conditions always evaluate down to a Boolean value -- True or False. A flow control statement decides what to do based on whether its condition is True or False, and almost every flow control statement uses a condition."
   ]
  },
  {
   "cell_type": "markdown",
   "metadata": {},
   "source": [
    "### Blocks of Code\n",
    "- Lines of Python code can be grouped together in blocks. You can tell when a block begins and ends from the indentation of the lines of code. There are three rules for blocks.\n",
    "\n",
    "- Blocks begin when the indentation increases.\n",
    "\n",
    "- Blocks can contain other blocks.\n",
    "\n",
    "- Blocks end when the indentation decreases to zero or to a containing block’s indentation."
   ]
  },
  {
   "cell_type": "markdown",
   "metadata": {},
   "source": [
    "### if statement\n",
    "An if statement could be read as, “If this condition is true, execute the code in the clause.” In Python, an if statement consists of the following:\n",
    "\n",
    "- The if keyword\n",
    "\n",
    "- A condition (that is, an expression that evaluates to True or False)\n",
    "\n",
    "- A colon\n",
    "\n",
    "- Starting on the next line, an indented block of code (called the if clause)"
   ]
  },
  {
   "cell_type": "markdown",
   "metadata": {},
   "source": [
    "We check if a condition is true with `==` which asks whether two values are the same as each other. This is different from assignment operator which only has one `=` that puts the value on the right into the variable on the left."
   ]
  },
  {
   "cell_type": "code",
   "execution_count": 4,
   "metadata": {},
   "outputs": [
    {
     "name": "stdout",
     "output_type": "stream",
     "text": [
      "Yay\n"
     ]
    }
   ],
   "source": [
    "if price_flower == 10:\n",
    "    print(\"Yay\")"
   ]
  },
  {
   "cell_type": "markdown",
   "metadata": {},
   "source": [
    "### else statement\n",
    "An if statement can be followed by an else statement. The else clause is executed only when the if statement’s condition is False. An else statement could be read as, “If this condition is true, execute this code. Or else, execute that code.” An else statement doesn’t have a condition, and in code, an else statement always consists of the following:\n",
    "\n",
    "- The else keyword\n",
    "\n",
    "- A colon\n",
    "\n",
    "- Starting on the next line, an indented block of code (called the else clause)"
   ]
  },
  {
   "cell_type": "code",
   "execution_count": 5,
   "metadata": {},
   "outputs": [
    {
     "name": "stdout",
     "output_type": "stream",
     "text": [
      "Yay\n"
     ]
    }
   ],
   "source": [
    "if price_flower > 9:\n",
    "    print(\"Yay\")\n",
    "else:\n",
    "    print(\"Nay\")"
   ]
  },
  {
   "cell_type": "markdown",
   "metadata": {},
   "source": [
    "Indentation tells Python that the print function depends on the if or else condition."
   ]
  },
  {
   "cell_type": "code",
   "execution_count": 6,
   "metadata": {},
   "outputs": [
    {
     "name": "stdout",
     "output_type": "stream",
     "text": [
      "Yay!!\n",
      "End program\n"
     ]
    }
   ],
   "source": [
    "var1 = \"flower\"\n",
    "var2 = \"FLOWER\".lower()\n",
    "if var2 == var1:\n",
    "    print(\"Yay!!\")\n",
    "else:\n",
    "    print(\"Words did not match\")\n",
    "\n",
    "print(\"End program\")"
   ]
  },
  {
   "cell_type": "markdown",
   "metadata": {},
   "source": [
    "The last print never enters the loop (it's not dependent of the if/else statements)."
   ]
  },
  {
   "cell_type": "markdown",
   "metadata": {},
   "source": [
    "### elif Statement\n",
    "\n",
    "While only one of the if or else clauses will execute, you may have a case where you want one of many possible clauses to execute. The elif statement is an “else if” statement that always follows an if or another elif statement. It provides another condition that is checked only if all of the previous conditions were False. In code, an elif statement always consists of the following:\n",
    "\n",
    "- The elif keyword\n",
    "\n",
    "- A condition (that is, an expression that evaluates to True or False)\n",
    "\n",
    "- A colon\n",
    "\n",
    "- Starting on the next line, an indented block of code (called the elif clause)"
   ]
  },
  {
   "cell_type": "code",
   "execution_count": 7,
   "metadata": {},
   "outputs": [
    {
     "name": "stdout",
     "output_type": "stream",
     "text": [
      "yay\n"
     ]
    }
   ],
   "source": [
    "if type_flower == \"TULIP\".lower() and price_flower == 10:\n",
    "    print(\"yay\")  \n",
    "elif type_flower == \"rose\":\n",
    "    print(\"Nay\")   \n",
    "else:\n",
    "    print(\"not even close\")"
   ]
  },
  {
   "cell_type": "markdown",
   "metadata": {},
   "source": [
    "### Challenge: Write some conditions that print True if the variable a is within 10% of the variable b and False otherwise. Compare your implementation with your partner’s: do you get the same answer for all possible pairs of numbers?"
   ]
  },
  {
   "cell_type": "markdown",
   "metadata": {},
   "source": [
    "### References -- This tutorial is heavily based on\n",
    "\n",
    "https://automatetheboringstuff.com/chapter2/"
   ]
  }
 ],
 "metadata": {
  "kernelspec": {
   "display_name": "Python 3",
   "language": "python",
   "name": "python3"
  },
  "language_info": {
   "codemirror_mode": {
    "name": "ipython",
    "version": 3
   },
   "file_extension": ".py",
   "mimetype": "text/x-python",
   "name": "python",
   "nbconvert_exporter": "python",
   "pygments_lexer": "ipython3",
   "version": "3.7.3"
  }
 },
 "nbformat": 4,
 "nbformat_minor": 2
}
