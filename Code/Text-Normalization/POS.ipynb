{
 "cells": [
  {
   "cell_type": "code",
   "execution_count": 14,
   "metadata": {},
   "outputs": [],
   "source": [
    "from nltk import word_tokenize\n",
    "from nltk import pos_tag"
   ]
  },
  {
   "cell_type": "code",
   "execution_count": 15,
   "metadata": {},
   "outputs": [
    {
     "name": "stdout",
     "output_type": "stream",
     "text": [
      "[('I', 'PRP'), ('was', 'VBD'), ('watching', 'VBG'), ('movies', 'NNS')]\n"
     ]
    }
   ],
   "source": [
    "string = \"I was watching movies\"\n",
    "print(pos_tag(word_tokenize(string)))"
   ]
  },
  {
   "cell_type": "code",
   "execution_count": 6,
   "metadata": {},
   "outputs": [],
   "source": [
    "# PRP: Personal pronoun\n",
    "# VBD: Verb, past tense\n",
    "# VBG: Verb, gerund\n",
    "# NNS: Noun plural"
   ]
  },
  {
   "cell_type": "code",
   "execution_count": 16,
   "metadata": {},
   "outputs": [],
   "source": [
    "#Retrieving all nouns\n",
    "string = 'Stephen Hawking received an honorary doctorate from the University of Oxford'\n",
    "tagged = pos_tag(word_tokenize(string))"
   ]
  },
  {
   "cell_type": "code",
   "execution_count": 17,
   "metadata": {},
   "outputs": [
    {
     "data": {
      "text/plain": [
       "[('Stephen', 'NNP'),\n",
       " ('Hawking', 'NNP'),\n",
       " ('received', 'VBD'),\n",
       " ('an', 'DT'),\n",
       " ('honorary', 'JJ'),\n",
       " ('doctorate', 'NN'),\n",
       " ('from', 'IN'),\n",
       " ('the', 'DT'),\n",
       " ('University', 'NNP'),\n",
       " ('of', 'IN'),\n",
       " ('Oxford', 'NNP')]"
      ]
     },
     "execution_count": 17,
     "metadata": {},
     "output_type": "execute_result"
    }
   ],
   "source": [
    "tagged"
   ]
  },
  {
   "cell_type": "code",
   "execution_count": 18,
   "metadata": {},
   "outputs": [
    {
     "data": {
      "text/plain": [
       "['Stephen', 'Hawking', 'doctorate', 'University', 'Oxford']"
      ]
     },
     "execution_count": 18,
     "metadata": {},
     "output_type": "execute_result"
    }
   ],
   "source": [
    "allnoun = [word for word, pos in tagged if pos in ['NN','NNP']]\n",
    "allnoun"
   ]
  },
  {
   "cell_type": "markdown",
   "metadata": {},
   "source": [
    "The Brown Corpus was the first million-word electronic corpus of English,\n",
    "created in 1961 at Brown University. This corpus contains text from 500 sources, \n",
    "and the sources have been categorized by genre, such as news, editorial...\n",
    " \n",
    " https://en.wikipedia.org/wiki/Brown_Corpus\n",
    "\n",
    "\n",
    "from nltk.corpus import brown\n",
    "\n",
    "brown.categories()\n",
    "\n",
    "tags = [tag for (word, tag) in brown.tagged_words(categories='news')]\n",
    "\n",
    "import operator\n",
    "from nltk import FreqDist\n",
    "freq = FreqDist(tags)\n",
    "tags_freq = sorted(freq.items(), key=operator.itemgetter(1))\n",
    "tags_freq[-10:]"
   ]
  },
  {
   "cell_type": "code",
   "execution_count": 10,
   "metadata": {},
   "outputs": [
    {
     "name": "stdout",
     "output_type": "stream",
     "text": [
      "(S\n",
      "  (NE Stephen/NNP Hawking/NNP)\n",
      "  taught/VBD\n",
      "  the/DT\n",
      "  (NE University/NNP)\n",
      "  of/IN\n",
      "  (NE Oxford/NNP)\n",
      "  in/IN\n",
      "  (NE England/NNP))\n"
     ]
    }
   ],
   "source": [
    "#%http://www.nltk.org/api/nltk.tag.html#module-nltk.tag.stanford\n",
    "from nltk import ne_chunk\n",
    "\n",
    "text = \"Stephen Hawking taught the University of Oxford in England\"\n",
    "\n",
    "\n",
    "# if bynary parameter is True it provides the output for the entire\n",
    "# sentence tree and tags everything.\n",
    "print(ne_chunk(pos_tag(word_tokenize(text)), binary=True))"
   ]
  }
 ],
 "metadata": {
  "kernelspec": {
   "display_name": "Python 3",
   "language": "python",
   "name": "python3"
  },
  "language_info": {
   "codemirror_mode": {
    "name": "ipython",
    "version": 3
   },
   "file_extension": ".py",
   "mimetype": "text/x-python",
   "name": "python",
   "nbconvert_exporter": "python",
   "pygments_lexer": "ipython3",
   "version": "3.7.7"
  }
 },
 "nbformat": 4,
 "nbformat_minor": 2
}
