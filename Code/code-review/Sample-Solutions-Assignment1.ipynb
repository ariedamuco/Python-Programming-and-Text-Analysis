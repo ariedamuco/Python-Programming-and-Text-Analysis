{
 "cells": [
  {
   "cell_type": "markdown",
   "metadata": {},
   "source": [
    "Each version of the code below, is a solution provided by one of your peers for Assignment 1. Do the following steps:\n",
    
    "1) Test the code. Does it run?\n",
    "\n",
    "2) Does it do what is supposed to do?\n",
    "\n",
    "3) Give one positive comment\n",
    "\n",
    "4) Give an exception where the function fails to do what it should do\n",
    "\n",
    "5) Provide an improved version of the code where applicable\n",
    "\n",
    "\"\"\"\n",
    "Assignment 1:\n",
    "Create a function that has as argument a string and does the following: 1) removes the numeric characters, 2) removes punctuation, 3) converts the string in lower-case letters, 4) returns a list whose elements are the words of the string (each word in the list should not contain, punctuation, numbers and it is in lower-case letters). Submit an .ipynb that is named name-surname.ipynb. Feel free to work in groups but submit individual solutions.\n",
    "\"\"\""
   ]
  },
  {
   "cell_type": "code",
   "execution_count": 1,
   "metadata": {},
   "outputs": [],
   "source": [
    "#Version 1\n",
    "def trans_text1(string):\n",
    "    my_string = ''\n",
    "    for i in string.lower():\n",
    "        if i in ('abcdefghijklmnopqrstuvwxyz'):\n",
    "            my_string = my_string + i\n",
    "    return my_string\n"
   ]
  },
  {
   "cell_type": "code",
   "execution_count": 4,
   "metadata": {},
   "outputs": [],
   "source": [
    "# Version2\n",
    "def trans_text2(sample):\n",
    "    n = list([])\n",
    "    for i in sample:\n",
    "        if not i.isdigit():\n",
    "            n.append(i)\n",
    "    return \"\".join(n).lower()\n"
   ]
  },
  {
   "cell_type": "code",
   "execution_count": 3,
   "metadata": {},
   "outputs": [],
   "source": [
    "# Version3\n",
    "def trans_text3(text):\n",
    "    output = \"\"\n",
    "    for char in text:\n",
    "        if char not in '1234567890'+'!\"#$%&\\'()*+,-./:;<=>?@[\\]^_`{|}~':\n",
    "            output = output + char\n",
    "    return output.lower().split()"
   ]
  },
  {
   "cell_type": "code",
   "execution_count": 5,
   "metadata": {},
   "outputs": [],
   "source": [
    "#Version4\n",
    "\n",
    "def  trans_text3(str):\n",
    "    nodigits_str = \"\"\n",
    "    \n",
    "    #1) removing numeric characters\n",
    "    for char in str:\n",
    "        if char.isnumeric():\n",
    "            str = str.replace(char,\"\")\n",
    "            \n",
    "    #2) removing punctuations\n",
    "    punc = '''!()-[]{};:'\"\\,<>./?@#$%^&*_~'''\n",
    "    for char in str:\n",
    "        if char in punc: \n",
    "            str = str.replace(char,\"\")\n",
    "    \n",
    "    #3) convert to lower\n",
    "    str = str.lower()\n",
    "    \n",
    "    #4) split to list\n",
    "    str_list = str.split()\n",
    "\n",
    "    return str_list\n"
   ]
  }
 ],
 "metadata": {
  "kernelspec": {
   "display_name": "Python 3",
   "language": "python",
   "name": "python3"
  },
  "language_info": {
   "codemirror_mode": {
    "name": "ipython",
    "version": 3
   },
   "file_extension": ".py",
   "mimetype": "text/x-python",
   "name": "python",
   "nbconvert_exporter": "python",
   "pygments_lexer": "ipython3",
   "version": "3.7.7"
  }
 },
 "nbformat": 4,
 "nbformat_minor": 4
}
