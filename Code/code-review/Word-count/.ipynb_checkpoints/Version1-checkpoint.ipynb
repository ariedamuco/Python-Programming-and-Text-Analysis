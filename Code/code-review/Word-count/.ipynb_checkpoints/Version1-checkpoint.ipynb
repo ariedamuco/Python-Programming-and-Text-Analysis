{
 "cells": [
  {
   "cell_type": "code",
   "execution_count": 1,
   "metadata": {},
   "outputs": [],
   "source": [
    "#importing all neccessary libraries\n",
    "import os\n",
    "from collections import Counter\n",
    "import pandas as pd\n",
    "from tqdm import tqdm"
   ]
  },
  {
   "cell_type": "code",
   "execution_count": 2,
   "metadata": {},
   "outputs": [],
   "source": [
    "# Question 1\n",
    "rootdir = \"Input\"\n",
    "folders = [\"105-extracted-date\", \"106-extracted-date\"]\n",
    "\n",
    "files = []\n",
    "for folder in folders: \n",
    "    for r, d, f in os.walk(rootdir+\"/\"+folder):\n",
    "        for file in f:\n",
    "            if '.txt' in file:\n",
    "                files.append(os.path.join(r, file))"
   ]
  },
  {
   "cell_type": "code",
   "execution_count": 3,
   "metadata": {},
   "outputs": [],
   "source": [
    "# =============================================================================\n",
    "# Question 2\n",
    "# =============================================================================\n",
    "                \n",
    "words_list = [] \n",
    "for file in files: \n",
    "    file_read=open(file, \"r\", encoding='latin1')\n",
    "    words_list.append(file_read.read().replace('\\n', '').split(' '))"
   ]
  },
  {
   "cell_type": "code",
   "execution_count": 4,
   "metadata": {},
   "outputs": [],
   "source": [
    "import re\n",
    "\n",
    "for i, ii in enumerate(words_list): \n",
    "    words_list[i] = [word for word in ii if '<' not in word]\n",
    "\n",
    "for char in words_list:\n",
    "    for i in range(len(char)):\n",
    "        char[i]= re.sub('[\\W_]+', \"\", char[i])\n",
    "        char[i]=char[i].lower()\n",
    "        char[i]=char[i].replace(\" \", \"\")\n",
    "        char[i]=char[i].strip()"
   ]
  },
  {
   "cell_type": "code",
   "execution_count": null,
   "metadata": {},
   "outputs": [],
   "source": [
    "# =============================================================================\n",
    "# Question 4\n",
    "# =============================================================================\n",
    "#importing the droplist\n",
    "droplist=open(\"droplist.txt\",'r', encoding='latin1')\n",
    "content=droplist.readlines()\n",
    "file=\" \".join(content)\n",
    "drop_list=file.split()\n",
    "\n",
    "for i in range(len(drop_list)):\n",
    "    drop_list[i]= re.sub('[\\W_]+', \"\", drop_list[i])\n",
    "\n",
    "droplist.close()\n",
    "\n",
    "#importing stopwords from ntlk library\n",
    "nltk = open(\"droplist.txt\",'r', encoding = \"utf-8\")\n",
    "stopwords_final = droplist_r.readlines().replace('\\n', '')\n",
    "\n",
    "stopwords_final.extend(x for x in drop_list if x not in stopwords_final)\n",
    "\n",
    "#cleaning the list of words from the stopwords we have aggregated in the final\n",
    "#list of stopwords\n",
    "\n",
    "for i, ii in enumerate(words_list): \n",
    "    words_list[i] = [word for word in ii if word not in stopwords_final]"
   ]
  },
  {
   "cell_type": "code",
   "execution_count": null,
   "metadata": {},
   "outputs": [],
   "source": [
    "# =============================================================================\n",
    "# Question 5\n",
    "# =============================================================================\n",
    "    \n",
    "frequencies = []\n",
    "for ii in words_list:\n",
    "    frequencies.append(Counter(ii))\n",
    "\n",
    "file_list=[]\n",
    "word_list=[]\n",
    "frequency_list = []\n",
    "for i in tqdm(range(len(frequencies))):\n",
    "    file_list.extend([files[i].split('\\\\')[1] for j in range(len(frequencies[i]))])\n",
    "    current_keys = list(frequencies[i].keys())\n",
    "    word_list.extend(current_keys)\n",
    "    frequency_list.extend([frequencies[i][j] for j in current_keys])\n",
    "\n",
    "df = pd.DataFrame(data={'file': file_list, 'word': word_list, 'frequency': frequency_list})\n",
    "\n",
    "df.to_csv(\"Output/Frequency.csv\", index=False)"
   ]
  }
 ],
 "metadata": {
  "kernelspec": {
   "display_name": "Python 3",
   "language": "python",
   "name": "python3"
  },
  "language_info": {
   "codemirror_mode": {
    "name": "ipython",
    "version": 3
   },
   "file_extension": ".py",
   "mimetype": "text/x-python",
   "name": "python",
   "nbconvert_exporter": "python",
   "pygments_lexer": "ipython3",
   "version": "3.8.5"
  }
 },
 "nbformat": 4,
 "nbformat_minor": 2
}
