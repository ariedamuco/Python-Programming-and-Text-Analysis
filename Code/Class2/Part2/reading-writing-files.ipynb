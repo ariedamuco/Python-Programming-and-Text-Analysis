{
 "cells": [
  {
   "cell_type": "markdown",
   "metadata": {},
   "source": [
    "### Raw Strings\n",
    "In Python, we use `r` before the beginning quotation mark of a string -- single or double quote -- to declare a raw string. A raw string ignores all escape characters it might encounter and prints them. Python considers the backslash as part of the string and not as the start of an escape character. Raw strings are helpful if you are typing string values that contain many backslashes, such as the strings used for regular expressions (which we will cover in our next meeting).\n"
   ]
  },
  {
   "cell_type": "code",
   "execution_count": 2,
   "metadata": {},
   "outputs": [
    {
     "name": "stdout",
     "output_type": "stream",
     "text": [
      "The history of Budapest began when an early Celtic settlement transformed into the Roman town of Aquincum, \\n the capital of Lower Pannonia.\\n\n"
     ]
    },
    {
     "data": {
      "application/javascript": [
       "\n",
       "            setTimeout(function() {\n",
       "                var nbb_cell_id = 2;\n",
       "                var nbb_unformatted_code = \"print(\\n    r\\\"The history of Budapest began when an early Celtic settlement transformed into the Roman town of Aquincum, \\\\n the capital of Lower Pannonia.\\\\n\\\"\\n)\";\n",
       "                var nbb_formatted_code = \"print(\\n    r\\\"The history of Budapest began when an early Celtic settlement transformed into the Roman town of Aquincum, \\\\n the capital of Lower Pannonia.\\\\n\\\"\\n)\";\n",
       "                var nbb_cells = Jupyter.notebook.get_cells();\n",
       "                for (var i = 0; i < nbb_cells.length; ++i) {\n",
       "                    if (nbb_cells[i].input_prompt_number == nbb_cell_id) {\n",
       "                        if (nbb_cells[i].get_text() == nbb_unformatted_code) {\n",
       "                             nbb_cells[i].set_text(nbb_formatted_code);\n",
       "                        }\n",
       "                        break;\n",
       "                    }\n",
       "                }\n",
       "            }, 500);\n",
       "            "
      ],
      "text/plain": [
       "<IPython.core.display.Javascript object>"
      ]
     },
     "metadata": {},
     "output_type": "display_data"
    }
   ],
   "source": [
    "print(\n",
    "    r\"The history of Budapest began when an early Celtic settlement transformed into the Roman town of Aquincum, \\n the capital of Lower Pannonia.\\n\"\n",
    ")"
   ]
  },
  {
   "cell_type": "markdown",
   "metadata": {},
   "source": [
    "### Multiline Strings with Triple Quotes\n",
    "While you can use the `\\n` escape character to put a newline into a string, it is often easier to use multiline strings. A multiline string in Python begins and ends with either three single quotes or three double quotes. Any quotes, tabs, or newlines in between the \"triple quotes\" are considered part of the string. Python's indentation rules for blocks do not apply to lines inside a multiline string."
   ]
  },
  {
   "cell_type": "code",
   "execution_count": 3,
   "metadata": {},
   "outputs": [
    {
     "data": {
      "application/javascript": [
       "\n",
       "            setTimeout(function() {\n",
       "                var nbb_cell_id = 3;\n",
       "                var nbb_unformatted_code = \"budapest_paragraph = \\\"\\\"\\\"The history of Budapest began when an early Celtic settlement transformed into the Roman town of Aquincum,[15][16] the capital of Lower Pannonia.[15] The Hungarians arrived in the territory in the late 9th century.[17] \\nThe area was pillaged by the Mongols in 1241.[18] Buda, the settlements on the west bank of the river,\\nbecame one of the centres of Renaissance humanist culture by the 15th century.[19][20][21] \\nThe Battle of Moh\\u00e1cs, in 1526, was followed by nearly 150 years of Ottoman rule.[22]\\nAfter the reconquest of Buda in 1686, the region entered a new age of prosperity. \\nPest-Buda became a global city with the unification of Buda, \\u00d3buda, and Pest on 17 November 1873, with the name\\n'Budapest' given to the new capital.[12][23] Budapest also became the co-capital of the Austro-Hungarian Empire,\\n[24] a great power that dissolved in 1918, following World War I. The city was the focal point of the Hungarian \\nRevolution of 1848, the Battle of Budapest in 1945, \\nand the Hungarian Revolution of 1956.[25][26]\\\"\\\"\\\"\";\n",
       "                var nbb_formatted_code = \"budapest_paragraph = \\\"\\\"\\\"The history of Budapest began when an early Celtic settlement transformed into the Roman town of Aquincum,[15][16] the capital of Lower Pannonia.[15] The Hungarians arrived in the territory in the late 9th century.[17] \\nThe area was pillaged by the Mongols in 1241.[18] Buda, the settlements on the west bank of the river,\\nbecame one of the centres of Renaissance humanist culture by the 15th century.[19][20][21] \\nThe Battle of Moh\\u00e1cs, in 1526, was followed by nearly 150 years of Ottoman rule.[22]\\nAfter the reconquest of Buda in 1686, the region entered a new age of prosperity. \\nPest-Buda became a global city with the unification of Buda, \\u00d3buda, and Pest on 17 November 1873, with the name\\n'Budapest' given to the new capital.[12][23] Budapest also became the co-capital of the Austro-Hungarian Empire,\\n[24] a great power that dissolved in 1918, following World War I. The city was the focal point of the Hungarian \\nRevolution of 1848, the Battle of Budapest in 1945, \\nand the Hungarian Revolution of 1956.[25][26]\\\"\\\"\\\"\";\n",
       "                var nbb_cells = Jupyter.notebook.get_cells();\n",
       "                for (var i = 0; i < nbb_cells.length; ++i) {\n",
       "                    if (nbb_cells[i].input_prompt_number == nbb_cell_id) {\n",
       "                        if (nbb_cells[i].get_text() == nbb_unformatted_code) {\n",
       "                             nbb_cells[i].set_text(nbb_formatted_code);\n",
       "                        }\n",
       "                        break;\n",
       "                    }\n",
       "                }\n",
       "            }, 500);\n",
       "            "
      ],
      "text/plain": [
       "<IPython.core.display.Javascript object>"
      ]
     },
     "metadata": {},
     "output_type": "display_data"
    }
   ],
   "source": [
    "budapest_paragraph = \"\"\"The history of Budapest began when an early Celtic settlement transformed into the Roman town of Aquincum,[15][16] the capital of Lower Pannonia.[15] The Hungarians arrived in the territory in the late 9th century.[17] \n",
    "The area was pillaged by the Mongols in 1241.[18] Buda, the settlements on the west bank of the river,\n",
    "became one of the centres of Renaissance humanist culture by the 15th century.[19][20][21] \n",
    "The Battle of Mohács, in 1526, was followed by nearly 150 years of Ottoman rule.[22]\n",
    "After the reconquest of Buda in 1686, the region entered a new age of prosperity. \n",
    "Pest-Buda became a global city with the unification of Buda, Óbuda, and Pest on 17 November 1873, with the name\n",
    "'Budapest' given to the new capital.[12][23] Budapest also became the co-capital of the Austro-Hungarian Empire,\n",
    "[24] a great power that dissolved in 1918, following World War I. The city was the focal point of the Hungarian \n",
    "Revolution of 1848, the Battle of Budapest in 1945, \n",
    "and the Hungarian Revolution of 1956.[25][26]\"\"\""
   ]
  },
  {
   "cell_type": "code",
   "execution_count": 4,
   "metadata": {},
   "outputs": [
    {
     "data": {
      "text/plain": [
       "str"
      ]
     },
     "execution_count": 4,
     "metadata": {},
     "output_type": "execute_result"
    },
    {
     "data": {
      "application/javascript": [
       "\n",
       "            setTimeout(function() {\n",
       "                var nbb_cell_id = 4;\n",
       "                var nbb_unformatted_code = \"type(budapest_paragraph)\";\n",
       "                var nbb_formatted_code = \"type(budapest_paragraph)\";\n",
       "                var nbb_cells = Jupyter.notebook.get_cells();\n",
       "                for (var i = 0; i < nbb_cells.length; ++i) {\n",
       "                    if (nbb_cells[i].input_prompt_number == nbb_cell_id) {\n",
       "                        if (nbb_cells[i].get_text() == nbb_unformatted_code) {\n",
       "                             nbb_cells[i].set_text(nbb_formatted_code);\n",
       "                        }\n",
       "                        break;\n",
       "                    }\n",
       "                }\n",
       "            }, 500);\n",
       "            "
      ],
      "text/plain": [
       "<IPython.core.display.Javascript object>"
      ]
     },
     "metadata": {},
     "output_type": "display_data"
    }
   ],
   "source": [
    "type(budapest_paragraph)"
   ]
  },
  {
   "cell_type": "markdown",
   "metadata": {},
   "source": [
    "### Reading files \n",
    "\n",
    "We can import string from a file and store it in a variable. Let's do this using the file named `Hello.txt`.\n",
    "\n",
    "In Python, we open a file using the `open()` method and pass the file you want to open. Usually, we can open a file to read or write. Main exceptions are pdf where we cannot only write a pdf combining information from existing pdfs. More on this later. Text files with the .txt extension or Python script files with the .py extension are examples of plain text files. \n",
    "\n",
    "We are going to start reading and writing text files. Your programs can easily read the contents of plaintext files and treat them as an ordinary string value. (Binary files are all other file types, such as word processing documents, PDFs, images, spreadsheets, etc.)"
   ]
  },
  {
   "cell_type": "code",
   "execution_count": 5,
   "metadata": {},
   "outputs": [
    {
     "data": {
      "application/javascript": [
       "\n",
       "            setTimeout(function() {\n",
       "                var nbb_cell_id = 5;\n",
       "                var nbb_unformatted_code = \"import os\";\n",
       "                var nbb_formatted_code = \"import os\";\n",
       "                var nbb_cells = Jupyter.notebook.get_cells();\n",
       "                for (var i = 0; i < nbb_cells.length; ++i) {\n",
       "                    if (nbb_cells[i].input_prompt_number == nbb_cell_id) {\n",
       "                        if (nbb_cells[i].get_text() == nbb_unformatted_code) {\n",
       "                             nbb_cells[i].set_text(nbb_formatted_code);\n",
       "                        }\n",
       "                        break;\n",
       "                    }\n",
       "                }\n",
       "            }, 500);\n",
       "            "
      ],
      "text/plain": [
       "<IPython.core.display.Javascript object>"
      ]
     },
     "metadata": {},
     "output_type": "display_data"
    }
   ],
   "source": [
    "import os"
   ]
  },
  {
   "cell_type": "code",
   "execution_count": 6,
   "metadata": {},
   "outputs": [
    {
     "data": {
      "text/plain": [
       "'/Users/ariedamuco/Dropbox (CEU Econ)/Python-Programming-and-Text-Analysis/Code/Class2/Part2'"
      ]
     },
     "execution_count": 6,
     "metadata": {},
     "output_type": "execute_result"
    },
    {
     "data": {
      "application/javascript": [
       "\n",
       "            setTimeout(function() {\n",
       "                var nbb_cell_id = 6;\n",
       "                var nbb_unformatted_code = \"pwd\";\n",
       "                var nbb_formatted_code = \"pwd\";\n",
       "                var nbb_cells = Jupyter.notebook.get_cells();\n",
       "                for (var i = 0; i < nbb_cells.length; ++i) {\n",
       "                    if (nbb_cells[i].input_prompt_number == nbb_cell_id) {\n",
       "                        if (nbb_cells[i].get_text() == nbb_unformatted_code) {\n",
       "                             nbb_cells[i].set_text(nbb_formatted_code);\n",
       "                        }\n",
       "                        break;\n",
       "                    }\n",
       "                }\n",
       "            }, 500);\n",
       "            "
      ],
      "text/plain": [
       "<IPython.core.display.Javascript object>"
      ]
     },
     "metadata": {},
     "output_type": "display_data"
    }
   ],
   "source": [
    "pwd"
   ]
  },
  {
   "cell_type": "code",
   "execution_count": 7,
   "metadata": {},
   "outputs": [
    {
     "data": {
      "application/javascript": [
       "\n",
       "            setTimeout(function() {\n",
       "                var nbb_cell_id = 7;\n",
       "                var nbb_unformatted_code = \"os.chdir(\\\"../\\\")\";\n",
       "                var nbb_formatted_code = \"os.chdir(\\\"../\\\")\";\n",
       "                var nbb_cells = Jupyter.notebook.get_cells();\n",
       "                for (var i = 0; i < nbb_cells.length; ++i) {\n",
       "                    if (nbb_cells[i].input_prompt_number == nbb_cell_id) {\n",
       "                        if (nbb_cells[i].get_text() == nbb_unformatted_code) {\n",
       "                             nbb_cells[i].set_text(nbb_formatted_code);\n",
       "                        }\n",
       "                        break;\n",
       "                    }\n",
       "                }\n",
       "            }, 500);\n",
       "            "
      ],
      "text/plain": [
       "<IPython.core.display.Javascript object>"
      ]
     },
     "metadata": {},
     "output_type": "display_data"
    }
   ],
   "source": [
    "os.chdir(\"../\")"
   ]
  },
  {
   "cell_type": "code",
   "execution_count": 8,
   "metadata": {},
   "outputs": [
    {
     "data": {
      "text/plain": [
       "'/Users/ariedamuco/Dropbox (CEU Econ)/Python-Programming-and-Text-Analysis/Code/Class2'"
      ]
     },
     "execution_count": 8,
     "metadata": {},
     "output_type": "execute_result"
    },
    {
     "data": {
      "application/javascript": [
       "\n",
       "            setTimeout(function() {\n",
       "                var nbb_cell_id = 8;\n",
       "                var nbb_unformatted_code = \"pwd\";\n",
       "                var nbb_formatted_code = \"pwd\";\n",
       "                var nbb_cells = Jupyter.notebook.get_cells();\n",
       "                for (var i = 0; i < nbb_cells.length; ++i) {\n",
       "                    if (nbb_cells[i].input_prompt_number == nbb_cell_id) {\n",
       "                        if (nbb_cells[i].get_text() == nbb_unformatted_code) {\n",
       "                             nbb_cells[i].set_text(nbb_formatted_code);\n",
       "                        }\n",
       "                        break;\n",
       "                    }\n",
       "                }\n",
       "            }, 500);\n",
       "            "
      ],
      "text/plain": [
       "<IPython.core.display.Javascript object>"
      ]
     },
     "metadata": {},
     "output_type": "display_data"
    }
   ],
   "source": [
    "pwd"
   ]
  },
  {
   "cell_type": "code",
   "execution_count": 9,
   "metadata": {},
   "outputs": [
    {
     "ename": "FileNotFoundError",
     "evalue": "[Errno 2] No such file or directory: '/Users/ariedamuco/Downloads/Introduction-to-Python/input/Hello.txt'",
     "output_type": "error",
     "traceback": [
      "\u001b[0;31m---------------------------------------------------------------------------\u001b[0m",
      "\u001b[0;31mFileNotFoundError\u001b[0m                         Traceback (most recent call last)",
      "\u001b[0;32m<ipython-input-9-f0b098c46610>\u001b[0m in \u001b[0;36m<module>\u001b[0;34m\u001b[0m\n\u001b[0;32m----> 1\u001b[0;31m \u001b[0mhello\u001b[0m \u001b[0;34m=\u001b[0m \u001b[0mopen\u001b[0m\u001b[0;34m(\u001b[0m\u001b[0;34m\"/Users/ariedamuco/Downloads/Introduction-to-Python/input/Hello.txt\"\u001b[0m\u001b[0;34m)\u001b[0m\u001b[0;34m\u001b[0m\u001b[0;34m\u001b[0m\u001b[0m\n\u001b[0m",
      "\u001b[0;31mFileNotFoundError\u001b[0m: [Errno 2] No such file or directory: '/Users/ariedamuco/Downloads/Introduction-to-Python/input/Hello.txt'"
     ]
    },
    {
     "data": {
      "application/javascript": [
       "\n",
       "            setTimeout(function() {\n",
       "                var nbb_cell_id = 9;\n",
       "                var nbb_unformatted_code = \"hello = open(\\\"/Users/ariedamuco/Downloads/Introduction-to-Python/input/Hello.txt\\\")\";\n",
       "                var nbb_formatted_code = \"hello = open(\\\"/Users/ariedamuco/Downloads/Introduction-to-Python/input/Hello.txt\\\")\";\n",
       "                var nbb_cells = Jupyter.notebook.get_cells();\n",
       "                for (var i = 0; i < nbb_cells.length; ++i) {\n",
       "                    if (nbb_cells[i].input_prompt_number == nbb_cell_id) {\n",
       "                        if (nbb_cells[i].get_text() == nbb_unformatted_code) {\n",
       "                             nbb_cells[i].set_text(nbb_formatted_code);\n",
       "                        }\n",
       "                        break;\n",
       "                    }\n",
       "                }\n",
       "            }, 500);\n",
       "            "
      ],
      "text/plain": [
       "<IPython.core.display.Javascript object>"
      ]
     },
     "metadata": {},
     "output_type": "display_data"
    }
   ],
   "source": [
    "hello = open(\"/Users/ariedamuco/Downloads/Introduction-to-Python/input/Hello.txt\")"
   ]
  },
  {
   "cell_type": "code",
   "execution_count": null,
   "metadata": {},
   "outputs": [],
   "source": [
    "os.chdir(\"/Users/ariedamuco/Downloads/Introduction-to-Python-main\")"
   ]
  },
  {
   "cell_type": "code",
   "execution_count": null,
   "metadata": {},
   "outputs": [],
   "source": [
    "os.listdir()"
   ]
  },
  {
   "cell_type": "code",
   "execution_count": null,
   "metadata": {},
   "outputs": [],
   "source": [
    "file_open = open(\"input/Hello.txt\")"
   ]
  },
  {
   "cell_type": "code",
   "execution_count": null,
   "metadata": {},
   "outputs": [],
   "source": [
    "file_open"
   ]
  },
  {
   "cell_type": "code",
   "execution_count": null,
   "metadata": {},
   "outputs": [],
   "source": [
    "file_open.read()"
   ]
  },
  {
   "cell_type": "code",
   "execution_count": null,
   "metadata": {},
   "outputs": [],
   "source": [
    "os.listdir(\"input\")"
   ]
  },
  {
   "cell_type": "markdown",
   "metadata": {},
   "source": [
    "### Access Modes\n",
    "\n",
    "Access modes define in which way you want to open a file, whether you want to open a file in:\n",
    "\n",
    "-- read-only mode -- denoted by `r`, the default mode \n",
    "\n",
    "-- write-only mode -- denoted by `w` \n",
    "\n",
    "-- append mode -- denoted by `a` \n",
    "\n",
    "The most commonly used ones are read and write modes. Sometimes when looking for help on the internet you might encounter that the file is opened both in both read and write mode  -- denoted by `rw`. Be careful when using both read and write method contemporaneously as you may modify original files, which you usually do not want to. "
   ]
  },
  {
   "cell_type": "markdown",
   "metadata": {},
   "source": [
    "Now let's read the content of our file."
   ]
  },
  {
   "cell_type": "code",
   "execution_count": null,
   "metadata": {},
   "outputs": [],
   "source": [
    "hello_string = hello.read()"
   ]
  },
  {
   "cell_type": "code",
   "execution_count": null,
   "metadata": {},
   "outputs": [],
   "source": [
    "type(hello_string)"
   ]
  },
  {
   "cell_type": "code",
   "execution_count": null,
   "metadata": {},
   "outputs": [],
   "source": [
    "budapest = open(\"../input/budapest.txt\", mode='r', encoding=\"utf-8\" )"
   ]
  },
  {
   "cell_type": "code",
   "execution_count": null,
   "metadata": {},
   "outputs": [],
   "source": [
    "budapest.readlines()"
   ]
  },
  {
   "cell_type": "code",
   "execution_count": null,
   "metadata": {},
   "outputs": [],
   "source": [
    "type(budapest.readlines())"
   ]
  },
  {
   "cell_type": "markdown",
   "metadata": {},
   "source": [
    "We can also write our own text files."
   ]
  },
  {
   "cell_type": "code",
   "execution_count": null,
   "metadata": {},
   "outputs": [],
   "source": [
    "my_file = open(\"../output/first_file.txt\",'w') "
   ]
  },
  {
   "cell_type": "code",
   "execution_count": null,
   "metadata": {},
   "outputs": [],
   "source": [
    "my_file.write(\"This is the first file that I write with Python.\")"
   ]
  },
  {
   "cell_type": "markdown",
   "metadata": {},
   "source": [
    "To see what's writen in the file, we should first close it. An alternative way would be to do the following\n",
    "```\n",
    "with open(\"Output/first_file.txt\",'w') as my_file:\n",
    "    my_file.write(\"This is the first file that I write with Python.\")\n",
    "```"
   ]
  },
  {
   "cell_type": "code",
   "execution_count": null,
   "metadata": {},
   "outputs": [],
   "source": [
    "my_file.close()"
   ]
  },
  {
   "cell_type": "code",
   "execution_count": null,
   "metadata": {},
   "outputs": [],
   "source": [
    "my_file = open(\"../output/first_file.txt\",'w') "
   ]
  },
  {
   "cell_type": "code",
   "execution_count": null,
   "metadata": {},
   "outputs": [],
   "source": [
    "lines = [\"First Line\",\"Second Line\",\"Third Line\",\"Fourth Line\"]"
   ]
  },
  {
   "cell_type": "code",
   "execution_count": null,
   "metadata": {},
   "outputs": [],
   "source": [
    "with open(\"../output/first_file.txt\",'w') as my_file:\n",
    "    for line in lines:\n",
    "        my_file.write(line + \"\\n\")"
   ]
  },
  {
   "cell_type": "code",
   "execution_count": null,
   "metadata": {},
   "outputs": [],
   "source": [
    "f = open(\"../output/first_file.txt\",'r')\n",
    "f.readlines()"
   ]
  },
  {
   "cell_type": "markdown",
   "metadata": {},
   "source": [
    "In case you want to append the list to the first line you wrote previously, use append mode."
   ]
  },
  {
   "cell_type": "code",
   "execution_count": null,
   "metadata": {},
   "outputs": [],
   "source": [
    "#!pip install Wikipedia"
   ]
  },
  {
   "cell_type": "code",
   "execution_count": null,
   "metadata": {},
   "outputs": [],
   "source": [
    "import wikipedia"
   ]
  },
  {
   "cell_type": "code",
   "execution_count": null,
   "metadata": {},
   "outputs": [],
   "source": [
    "wikipedia.search(\"Budapest\")"
   ]
  },
  {
   "cell_type": "code",
   "execution_count": null,
   "metadata": {},
   "outputs": [],
   "source": [
    "budapest_wiki = wikipedia.page('Budapest')"
   ]
  },
  {
   "cell_type": "code",
   "execution_count": null,
   "metadata": {},
   "outputs": [],
   "source": [
    "budapest_wiki.title"
   ]
  },
  {
   "cell_type": "code",
   "execution_count": null,
   "metadata": {},
   "outputs": [],
   "source": [
    "budapest_wiki.url"
   ]
  },
  {
   "cell_type": "code",
   "execution_count": null,
   "metadata": {},
   "outputs": [],
   "source": [
    "budapest_summary = wikipedia.summary(\"Budapest\")"
   ]
  },
  {
   "cell_type": "code",
   "execution_count": null,
   "metadata": {},
   "outputs": [],
   "source": [
    "budapest_summary"
   ]
  },
  {
   "cell_type": "code",
   "execution_count": null,
   "metadata": {},
   "outputs": [],
   "source": [
    "budapest_content = budapest_wiki.content"
   ]
  },
  {
   "cell_type": "code",
   "execution_count": null,
   "metadata": {},
   "outputs": [],
   "source": [
    "budapest_content"
   ]
  },
  {
   "cell_type": "markdown",
   "metadata": {},
   "source": [
    "### Challenge: Write the string stored with the name BP_page in a file named `Budapest_wiki.txt`. Save the file in the `Output` folder. "
   ]
  },
  {
   "cell_type": "code",
   "execution_count": null,
   "metadata": {},
   "outputs": [],
   "source": [
    "import re\n",
    "budapest_content_clean = re.sub('[^a-zA-Z]+', ' ', budapest_content)"
   ]
  },
  {
   "cell_type": "code",
   "execution_count": null,
   "metadata": {},
   "outputs": [],
   "source": [
    "budapest_content_tokens=budapest_content_clean.lower().split()"
   ]
  },
  {
   "cell_type": "code",
   "execution_count": null,
   "metadata": {},
   "outputs": [],
   "source": [
    "budapest_content_tokens[0:10]"
   ]
  },
  {
   "cell_type": "markdown",
   "metadata": {},
   "source": [
    "### Challenge: Open the file nltk_stopwords.txt and store it's content in a list called `nltk_stopwords` where each element of the list is a line of the document. Use the method `replace()`  if needed."
   ]
  },
  {
   "cell_type": "code",
   "execution_count": null,
   "metadata": {},
   "outputs": [],
   "source": [
    "nltk= open(\"../input/nltk_stopwords.txt\", mode='r')\n",
    "nltk_stopwords=[element.replace(\"\\n\",\"\") for element in nltk.readlines()]"
   ]
  },
  {
   "cell_type": "code",
   "execution_count": null,
   "metadata": {},
   "outputs": [],
   "source": [
    "budapest_stopwords_removed = [word for word in budapest_content_tokens if word not in nltk_stopwords and len(word)>3]"
   ]
  },
  {
   "cell_type": "code",
   "execution_count": null,
   "metadata": {},
   "outputs": [],
   "source": [
    "from collections import Counter\n",
    "\n",
    "dict_bp = Counter(budapest_stopwords_removed)\n",
    "dict_bp"
   ]
  },
  {
   "cell_type": "code",
   "execution_count": null,
   "metadata": {},
   "outputs": [],
   "source": [
    "#!conda install WordCloud\n",
    "import matplotlib.pyplot as plt\n",
    "from wordcloud import WordCloud"
   ]
  },
  {
   "cell_type": "code",
   "execution_count": null,
   "metadata": {},
   "outputs": [],
   "source": [
    "wc = WordCloud(width=1800, height=900, background_color=\"white\",\n",
    "               max_words = 20, relative_scaling = 0.5, \n",
    "               normalize_plurals = False).generate_from_frequencies(dict_bp)\n",
    "plt.imshow(wc)"
   ]
  },
  {
   "cell_type": "markdown",
   "metadata": {},
   "source": [
    "### Challenge: Create a function named `count_elements` that counts the unique elements of the list and returns a dictionary that has keys the unique elemets of the list and values that count the number of time each element appears in the dictionary. Use  `count_elements` to plot the word cloud."
   ]
  },
  {
   "cell_type": "code",
   "execution_count": null,
   "metadata": {},
   "outputs": [],
   "source": [
    "#write the dictionary in a text file\n",
    "write_budapest = open('../output/Budapest_counter_freq.txt', 'w') \n",
    "write_budapest.write('word' + \";\" + \"frequency\" + \"\\n\")\n",
    "for key, value in Counter(dict_bp).items():\n",
    "    #print (key, value)\n",
    "    write_budapest.write(key + ';' + str(value) + \"\\n\")\n",
    "write_budapest.close()"
   ]
  },
  {
   "cell_type": "code",
   "execution_count": null,
   "metadata": {},
   "outputs": [],
   "source": [
    "\"\"\"\n",
    "# Using the csv library\n",
    "import csv\n",
    "\n",
    "with open('Output/Budapest_counter.csv', 'w') as csv_file:\n",
    "    writer = csv.writer(csv_file, delimiter=';')\n",
    "    writer.writerow(['word','frequency'])\n",
    "    for key, value in dict_counts.items():\n",
    "       writer.writerow([key, value])\n",
    "\"\"\""
   ]
  },
  {
   "cell_type": "markdown",
   "metadata": {},
   "source": [
    "With Python we can open, read and write other types of files. One of them is `pdf` format. While we can read pdfs we cannot write pdf from scratch, we only write content that is already in pdf format. To do this, we'll use another third party module called PyPDF2. "
   ]
  },
  {
   "cell_type": "code",
   "execution_count": null,
   "metadata": {},
   "outputs": [],
   "source": [
    "#install third party module\n",
    "#!pip install PyPDF2"
   ]
  },
  {
   "cell_type": "code",
   "execution_count": null,
   "metadata": {},
   "outputs": [],
   "source": [
    "import PyPDF2"
   ]
  },
  {
   "cell_type": "code",
   "execution_count": null,
   "metadata": {},
   "outputs": [],
   "source": [
    "AEJ_health = open('../input/app20170295.pdf', \"rb\") #read binary\n",
    "reader_health = PyPDF2.PdfFileReader(AEJ_health)"
   ]
  },
  {
   "cell_type": "code",
   "execution_count": null,
   "metadata": {},
   "outputs": [],
   "source": [
    "reader_health"
   ]
  },
  {
   "cell_type": "code",
   "execution_count": null,
   "metadata": {},
   "outputs": [],
   "source": [
    "reader_health.numPages"
   ]
  },
  {
   "cell_type": "code",
   "execution_count": null,
   "metadata": {},
   "outputs": [],
   "source": [
    "page1_health = reader_health.getPage(0)"
   ]
  },
  {
   "cell_type": "code",
   "execution_count": null,
   "metadata": {},
   "outputs": [],
   "source": [
    "page1_health.extractText()"
   ]
  },
  {
   "cell_type": "code",
   "execution_count": null,
   "metadata": {},
   "outputs": [],
   "source": [
    "writer_AEJ_health=PyPDF2.PdfFileWriter()"
   ]
  },
  {
   "cell_type": "code",
   "execution_count": null,
   "metadata": {},
   "outputs": [],
   "source": [
    "writer_AEJ_health.addPage(page1_health)"
   ]
  },
  {
   "cell_type": "code",
   "execution_count": null,
   "metadata": {},
   "outputs": [],
   "source": [
    "outputFile_health=open('../output/AEJ_health_abstract.pdf','wb')\n",
    "writer_AEJ_health.write(outputFile_health)\n",
    "outputFile_health.close()"
   ]
  },
  {
   "cell_type": "code",
   "execution_count": null,
   "metadata": {},
   "outputs": [],
   "source": [
    "#read other AEJ file\n",
    "AEJ_temperature=open('../input/app20170223.pdf', \"rb\") \n",
    "reader_temperature=PyPDF2.PdfFileReader(AEJ_temperature)\n",
    "page1_temperature=reader_temperature.getPage(0)"
   ]
  },
  {
   "cell_type": "code",
   "execution_count": null,
   "metadata": {},
   "outputs": [],
   "source": [
    "writer_AEJ=PyPDF2.PdfFileWriter()\n",
    "writer_AEJ.addPage(page1_temperature)\n",
    "writer_AEJ.addPage(page1_health)\n",
    "outputFile=open('../output/AEJ_combined.pdf','wb')\n",
    "writer_AEJ.write(outputFile)\n",
    "outputFile.close()"
   ]
  },
  {
   "cell_type": "markdown",
   "metadata": {},
   "source": [
    "### Challenge: Write a function that combines odd pages from `app20170295.pdf` and even pages from  `app20170223.pdf `. "
   ]
  },
  {
   "cell_type": "markdown",
   "metadata": {},
   "source": [
    "### References \n",
    "https://www.datacamp.com/community/tutorials/reading-writing-files-python\n",
    "\n",
    "https://automatetheboringstuff.com/chapter6\n",
    "\n",
    "https://pypi.org/project/wikipedia/\n",
    "\n",
    "https://medium.com/@Alexander_H/scraping-wikipedia-with-python-8000fc9c9e6c\n",
    "\n",
    "https://automatetheboringstuff.com/chapter8/\n",
    "\n",
    "https://automatetheboringstuff.com/chapter13/"
   ]
  }
 ],
 "metadata": {
  "kernelspec": {
   "display_name": "Python 3",
   "language": "python",
   "name": "python3"
  },
  "language_info": {
   "codemirror_mode": {
    "name": "ipython",
    "version": 3
   },
   "file_extension": ".py",
   "mimetype": "text/x-python",
   "name": "python",
   "nbconvert_exporter": "python",
   "pygments_lexer": "ipython3",
   "version": "3.8.5"
  }
 },
 "nbformat": 4,
 "nbformat_minor": 2
}
