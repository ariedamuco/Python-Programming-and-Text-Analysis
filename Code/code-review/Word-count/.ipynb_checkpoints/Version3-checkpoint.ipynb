{
 "cells": [
  {
   "cell_type": "code",
   "execution_count": null,
   "metadata": {},
   "outputs": [],
   "source": [
    "# Directory management\n",
    "import os\n",
    "# Counter for the words\n",
    "from collections import Counter\n"
   ]
  },
  {
   "cell_type": "code",
   "execution_count": null,
   "metadata": {},
   "outputs": [],
   "source": [
    "dir_name=\"Input\"\n",
    "os.chdir(dir_name)\n",
    "\n",
    "files=[]\n",
    "for root, dirs, files_in_dir in os.walk(\".\", topdown=False):\n",
    "    for name in files_in_dir:\n",
    "        f=os.path.join(root, name)\n",
    "        files.append(f)"
   ]
  },
  {
   "cell_type": "code",
   "execution_count": null,
   "metadata": {},
   "outputs": [],
   "source": [
    "files_interest=[f for f in files if \"extracted-date\" in f]"
   ]
  },
  {
   "cell_type": "code",
   "execution_count": null,
   "metadata": {},
   "outputs": [],
   "source": [
    "droplist_r = open(\"droplist.txt\",'r', encoding = \"utf-8\")\n",
    "droplist = droplist_r.readlines()\n",
    "stopwords_final = stopwords.words('english') + [\"doc\",\"docno\",\"text\"] + droplist"
   ]
  },
  {
   "cell_type": "code",
   "execution_count": null,
   "metadata": {},
   "outputs": [],
   "source": [
    "for i in range( len(files_interest[0:30]) ):\n",
    "    # Open the file and read\n",
    "    file_read = open((dir_name+ files_interest[i]).replace(\"./\", \"/\") ,\"r\", encoding='utf8', errors='ignore')\n",
    "    content = file_read.readlines()\n",
    "    file_read.close()\n",
    "    # convert to a string with only lower letter\n",
    "    str1 = ''.join(content).lower()\n",
    "    #   1) Split the text based on blanks (space) into words and store them in a list\n",
    "    words = [word.lower() for word in nltk.word_tokenize(str1)]\n",
    "    #   2) Loop over words in the list and remove non‐alphanumeric characters\n",
    "    words_clean = [ word for word in words if word not in stopwords_final ]\n",
    "    # Save to the file\n",
    "    # Place to write the results\n",
    "    fw_pol = open( \"../Output/assign2.txt\" , 'a+' )\n",
    "    for key, value in Counter( words_clean ).items():\n",
    "        # Save the file name w\\o the .txt and the words and the values\n",
    "        fw_pol.write( files_interest[i].split(\"/\")[-1] + ';' + key + ';' + str( value  ) + '\\n' )\n",
    "    fw_pol.close()\n",
    "        "
   ]
  }
 ],
 "metadata": {
  "kernelspec": {
   "display_name": "Python 3",
   "language": "python",
   "name": "python3"
  },
  "language_info": {
   "codemirror_mode": {
    "name": "ipython",
    "version": 3
   },
   "file_extension": ".py",
   "mimetype": "text/x-python",
   "name": "python",
   "nbconvert_exporter": "python",
   "pygments_lexer": "ipython3",
   "version": "3.8.5"
  }
 },
 "nbformat": 4,
 "nbformat_minor": 2
}
