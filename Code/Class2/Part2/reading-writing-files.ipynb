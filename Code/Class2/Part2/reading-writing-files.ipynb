{
 "cells": [
  {
   "cell_type": "markdown",
   "metadata": {},
   "source": [
    "### Raw Strings\n",
    "In Python, we use `r` before the beginning quotation mark of a string -- single or double quote -- to declare a raw string. A raw string ignores all escape characters it might encounter and prints them. Python considers the backslash as part of the string and not as the start of an escape character. Raw strings are helpful if you are typing string values that contain many backslashes, such as the strings used for regular expressions (which we will cover in our next meeting).\n"
   ]
  },
  {
   "cell_type": "code",
   "execution_count": 45,
   "metadata": {},
   "outputs": [
    {
     "name": "stdout",
     "output_type": "stream",
     "text": [
      "The history of Budapest began when an early Celtic settlement transformed into the Roman town of Aquincum, \\n the capital of Lower Pannonia.\\n\n"
     ]
    }
   ],
   "source": [
    "print(r'The history of Budapest began when an early Celtic settlement transformed into the Roman town of Aquincum, \\n the capital of Lower Pannonia.\\n')"
   ]
  },
  {
   "cell_type": "markdown",
   "metadata": {},
   "source": [
    "### Multiline Strings with Triple Quotes\n",
    "While you can use the `\\n` escape character to put a newline into a string, it is often easier to use multiline strings. A multiline string in Python begins and ends with either three single quotes or three double quotes. Any quotes, tabs, or newlines in between the \"triple quotes\" are considered part of the string. Python's indentation rules for blocks do not apply to lines inside a multiline string."
   ]
  },
  {
   "cell_type": "code",
   "execution_count": 46,
   "metadata": {},
   "outputs": [],
   "source": [
    "budapest_paragraph = \"\"\"The history of Budapest began when an early Celtic settlement transformed into the Roman town of Aquincum,[15][16] the capital of Lower Pannonia.[15] The Hungarians arrived in the territory in the late 9th century.[17] \n",
    "The area was pillaged by the Mongols in 1241.[18] Buda, the settlements on the west bank of the river,\n",
    "became one of the centres of Renaissance humanist culture by the 15th century.[19][20][21] \n",
    "The Battle of Mohács, in 1526, was followed by nearly 150 years of Ottoman rule.[22]\n",
    "After the reconquest of Buda in 1686, the region entered a new age of prosperity. \n",
    "Pest-Buda became a global city with the unification of Buda, Óbuda, and Pest on 17 November 1873, with the name\n",
    "'Budapest' given to the new capital.[12][23] Budapest also became the co-capital of the Austro-Hungarian Empire,\n",
    "[24] a great power that dissolved in 1918, following World War I. The city was the focal point of the Hungarian \n",
    "Revolution of 1848, the Battle of Budapest in 1945, \n",
    "and the Hungarian Revolution of 1956.[25][26]\"\"\""
   ]
  },
  {
   "cell_type": "code",
   "execution_count": 47,
   "metadata": {},
   "outputs": [
    {
     "data": {
      "text/plain": [
       "str"
      ]
     },
     "execution_count": 47,
     "metadata": {},
     "output_type": "execute_result"
    }
   ],
   "source": [
    "type(budapest_paragraph)"
   ]
  },
  {
   "cell_type": "markdown",
   "metadata": {},
   "source": [
    "### Reading files \n",
    "\n",
    "We can import string from a file and store it in a variable. Let's do this using the file named `Hello.txt`.\n",
    "\n",
    "In Python, we open a file using the `open()` method and pass the file you want to open. Usually, we can open a file to read or write. Main exceptions are pdf where we cannot only write a pdf combining information from existing pdfs. More on this later. Text files with the .txt extension or Python script files with the .py extension are examples of plaintext files. \n",
    "\n",
    "We are going to start reading and writing text files. Your programs can easily read the contents of plaintext files and treat them as an ordinary string value. (Binary files are all other file types, such as word processing documents, PDFs, images, spreadsheets, etc.)"
   ]
  },
  {
   "cell_type": "code",
   "execution_count": 48,
   "metadata": {},
   "outputs": [],
   "source": [
    "import os"
   ]
  },
  {
   "cell_type": "code",
   "execution_count": 49,
   "metadata": {},
   "outputs": [],
   "source": [
    "my_dir = \"your course directory\""
   ]
  },
  {
   "cell_type": "code",
   "execution_count": 50,
   "metadata": {},
   "outputs": [],
   "source": [
    "#os.chdir(my_dir) #set directory uncommenting this cell"
   ]
  },
  {
   "cell_type": "code",
   "execution_count": 51,
   "metadata": {},
   "outputs": [],
   "source": [
    "hello = open(\"Input/Hello.txt\")"
   ]
  },
  {
   "cell_type": "code",
   "execution_count": 52,
   "metadata": {},
   "outputs": [
    {
     "data": {
      "text/plain": [
       "<_io.TextIOWrapper name='Input/Hello.txt' mode='r' encoding='UTF-8'>"
      ]
     },
     "execution_count": 52,
     "metadata": {},
     "output_type": "execute_result"
    }
   ],
   "source": [
    "hello"
   ]
  },
  {
   "cell_type": "markdown",
   "metadata": {},
   "source": [
    "### Access Modes\n",
    "\n",
    "Access modes define in which way you want to open a file, whether you want to open a file in:\n",
    "\n",
    "-- read-only mode -- denoted by `r`, the default mode \n",
    "\n",
    "-- write-only mode -- denoted by `w` \n",
    "\n",
    "-- append mode -- denoted by `a` \n",
    "\n",
    "The most commonly used ones are read and write modes. Sometimes when looking for help on the internet you might encounter that the file is opened both in both read and write mode  -- denoted by `rw`. Be careful when using both read and write method contemporaneously as you may modify original files, which you usually do not want to. "
   ]
  },
  {
   "cell_type": "markdown",
   "metadata": {},
   "source": [
    "Now let's read the content of our file."
   ]
  },
  {
   "cell_type": "code",
   "execution_count": 53,
   "metadata": {},
   "outputs": [],
   "source": [
    "hello_string = hello.read()"
   ]
  },
  {
   "cell_type": "code",
   "execution_count": 54,
   "metadata": {},
   "outputs": [
    {
     "data": {
      "text/plain": [
       "str"
      ]
     },
     "execution_count": 54,
     "metadata": {},
     "output_type": "execute_result"
    }
   ],
   "source": [
    "type(hello_string)"
   ]
  },
  {
   "cell_type": "code",
   "execution_count": 55,
   "metadata": {},
   "outputs": [],
   "source": [
    "budapest = open(\"Input/budapest.txt\", mode='r', encoding=\"utf-8\" )"
   ]
  },
  {
   "cell_type": "code",
   "execution_count": 56,
   "metadata": {},
   "outputs": [
    {
     "data": {
      "text/plain": [
       "['The history of Budapest began when an early Celtic settlement transformed into the Roman town of Aquincum, the capital of Lower Pannonia.\\n',\n",
       " 'The Hungarians arrived in the territory in the late 9th century.\\n',\n",
       " ' The area was pillaged by the Mongols in 1241.\\n',\n",
       " ' Buda, the settlements on the west bank of the river, became one of the centres of Renaissance humanist culture by the 15th century.']"
      ]
     },
     "execution_count": 56,
     "metadata": {},
     "output_type": "execute_result"
    }
   ],
   "source": [
    "budapest.readlines()"
   ]
  },
  {
   "cell_type": "code",
   "execution_count": 57,
   "metadata": {},
   "outputs": [
    {
     "data": {
      "text/plain": [
       "list"
      ]
     },
     "execution_count": 57,
     "metadata": {},
     "output_type": "execute_result"
    }
   ],
   "source": [
    "type(budapest.readlines())"
   ]
  },
  {
   "cell_type": "markdown",
   "metadata": {},
   "source": [
    "We can also write our own text files."
   ]
  },
  {
   "cell_type": "code",
   "execution_count": 58,
   "metadata": {},
   "outputs": [],
   "source": [
    "my_file = open(\"Output/first_file.txt\",'w') "
   ]
  },
  {
   "cell_type": "code",
   "execution_count": 59,
   "metadata": {},
   "outputs": [
    {
     "data": {
      "text/plain": [
       "48"
      ]
     },
     "execution_count": 59,
     "metadata": {},
     "output_type": "execute_result"
    }
   ],
   "source": [
    "my_file.write(\"This is the first file that I write with Python.\")"
   ]
  },
  {
   "cell_type": "markdown",
   "metadata": {},
   "source": [
    "To see what's writen in the file, we should first close it. An alternative way would be to do the following\n",
    "```\n",
    "with open(\"Output/first_file.txt\",'w') as my_file:\n",
    "    my_file.write(\"This is the first file that I write with Python.\")\n",
    "```"
   ]
  },
  {
   "cell_type": "code",
   "execution_count": 60,
   "metadata": {},
   "outputs": [],
   "source": [
    "my_file.close()"
   ]
  },
  {
   "cell_type": "code",
   "execution_count": 61,
   "metadata": {},
   "outputs": [],
   "source": [
    "my_file = open(\"Output/first_file.txt\",'w') "
   ]
  },
  {
   "cell_type": "code",
   "execution_count": 62,
   "metadata": {},
   "outputs": [],
   "source": [
    "lines = [\"First Line\",\"Second Line\",\"Third Line\",\"Fourth Line\"]"
   ]
  },
  {
   "cell_type": "code",
   "execution_count": 63,
   "metadata": {},
   "outputs": [],
   "source": [
    "with open(\"Output/first_file.txt\",'w') as my_file:\n",
    "    for line in lines:\n",
    "        my_file.write(line + \"\\n\")"
   ]
  },
  {
   "cell_type": "code",
   "execution_count": 64,
   "metadata": {},
   "outputs": [
    {
     "data": {
      "text/plain": [
       "['First Line\\n', 'Second Line\\n', 'Third Line\\n', 'Fourth Line\\n']"
      ]
     },
     "execution_count": 64,
     "metadata": {},
     "output_type": "execute_result"
    }
   ],
   "source": [
    "f = open(\"Output/first_file.txt\",'r')\n",
    "f.readlines()"
   ]
  },
  {
   "cell_type": "markdown",
   "metadata": {},
   "source": [
    "In case you want to append the list to the first line you wrote previously, use append mode."
   ]
  },
  {
   "cell_type": "code",
   "execution_count": 65,
   "metadata": {},
   "outputs": [],
   "source": [
    "#!conda install Wikipedia"
   ]
  },
  {
   "cell_type": "code",
   "execution_count": 66,
   "metadata": {},
   "outputs": [],
   "source": [
    "import wikipedia"
   ]
  },
  {
   "cell_type": "code",
   "execution_count": 67,
   "metadata": {},
   "outputs": [
    {
     "data": {
      "text/plain": [
       "['Budapest',\n",
       " 'The Grand Budapest Hotel',\n",
       " 'Budapest Highflyer',\n",
       " 'Club of Budapest',\n",
       " 'Siege of Budapest',\n",
       " 'Budapest Honvéd FC',\n",
       " 'Budapest Ferenc Liszt International Airport',\n",
       " 'Budapest (disambiguation)',\n",
       " 'Budapest Metro',\n",
       " 'Budapest Bank']"
      ]
     },
     "execution_count": 67,
     "metadata": {},
     "output_type": "execute_result"
    }
   ],
   "source": [
    "wikipedia.search(\"Budapest\")"
   ]
  },
  {
   "cell_type": "code",
   "execution_count": 68,
   "metadata": {},
   "outputs": [],
   "source": [
    "budapest_wiki = wikipedia.page('Budapest')"
   ]
  },
  {
   "cell_type": "code",
   "execution_count": 69,
   "metadata": {},
   "outputs": [
    {
     "data": {
      "text/plain": [
       "'Budapest'"
      ]
     },
     "execution_count": 69,
     "metadata": {},
     "output_type": "execute_result"
    }
   ],
   "source": [
    "budapest_wiki.title"
   ]
  },
  {
   "cell_type": "code",
   "execution_count": 70,
   "metadata": {},
   "outputs": [
    {
     "data": {
      "text/plain": [
       "'https://en.wikipedia.org/wiki/Budapest'"
      ]
     },
     "execution_count": 70,
     "metadata": {},
     "output_type": "execute_result"
    }
   ],
   "source": [
    "budapest_wiki.url"
   ]
  },
  {
   "cell_type": "code",
   "execution_count": 71,
   "metadata": {},
   "outputs": [],
   "source": [
    "budapest_summary = wikipedia.summary(\"Budapest\")"
   ]
  },
  {
   "cell_type": "code",
   "execution_count": 72,
   "metadata": {},
   "outputs": [
    {
     "data": {
      "text/plain": [
       "\"Budapest (, Hungarian pronunciation: [ˈbudɒpɛʃt]) is the capital and the most populous city of Hungary, and the ninth-largest city in the European Union by population within city limits. The city has an estimated population of 1,752,286 over a land area of about 525 square kilometres (203 square miles). Budapest is both a city and county, and forms the centre of the Budapest metropolitan area, which has an area of 7,626 square kilometres (2,944 square miles) and a population of 3,303,786, comprising 33% of the population of Hungary.The history of Budapest began when an early Celtic settlement transformed into the Roman town of Aquincum, the capital of Lower Pannonia. The Hungarians arrived in the territory in the late 9th century, but the area was pillaged by the Mongols in 1241–42. Re-established Buda became one of the centres of Renaissance humanist culture by the 15th century.\\nThe Battle of Mohács, in 1526, was followed by nearly 150 years of Ottoman rule. After the reconquest of Buda in 1686, the region entered a new age of prosperity, with Pest-Buda becoming a global city after the unification of Buda, Óbuda, and Pest on 17 November 1873, with the name 'Budapest' given to the new capital. Budapest also became the co-capital of the Austro-Hungarian Empire, a great power that dissolved in 1918, following World War I. The city was the focal point of the Hungarian Revolution of 1848, the Battle of Budapest in 1945, and the Hungarian Revolution of 1956.Budapest is an Beta + global city with strengths in commerce, finance, media, art, fashion, research, technology, education, and entertainment. It is Hungary's financial centre and was ranked as the second fastest-developing urban economy in Europe. Budapest is the headquarters of the European Institute of Innovation and Technology, the European Police College and the first foreign office of the China Investment Promotion Agency. Over 40 colleges and universities are located in Budapest, including the Eötvös Loránd University, the Semmelweis University and the Budapest University of Technology and Economics. Opened in 1896, the city's subway system, the Budapest Metro, serves 1.27 million, while the Budapest Tram Network serves 1.08 million passengers daily.The central area of Budapest along the Danube River is classified as a UNESCO World Heritage Site and has several notable monuments, including the Hungarian Parliament and the Buda Castle. The city also has around 80 geothermal springs, the largest thermal water cave system, second largest synagogue, and third largest Parliament building in the world. Budapest attracts around 12 million international tourists per year, making it a highly popular destination in Europe. The city was chosen as the Best European Destination of 2019, a major poll conducted by EBD, a tourism organisation partnering with the European Commission. It also topped the Best European Destinations 2020 list by Big7Media. Budapest also ranks as the 3rd-best European city in a similar poll conducted by Which? Magazine.\\n\\n\""
      ]
     },
     "execution_count": 72,
     "metadata": {},
     "output_type": "execute_result"
    }
   ],
   "source": [
    "budapest_summary"
   ]
  },
  {
   "cell_type": "code",
   "execution_count": 73,
   "metadata": {},
   "outputs": [],
   "source": [
    "budapest_content = budapest_wiki.content"
   ]
  },
  {
   "cell_type": "code",
   "execution_count": 74,
   "metadata": {},
   "outputs": [
    {
     "data": {
      "text/plain": [
       "'Budapest (, Hungarian pronunciation: [ˈbudɒpɛʃt]) is the capital and the most populous city of Hungary, and the ninth-largest city in the European Union by population within city limits. The city has an estimated population of 1,752,286 over a land area of about 525 square kilometres (203 square miles). Budapest is both a city and county, and forms the centre of the Budapest metropolitan area, which has an area of 7,626 square kilometres (2,944 square miles) and a population of 3,303,786, comprising 33% of the population of Hungary.The history of Budapest began when an early Celtic settlement transformed into the Roman town of Aquincum, the capital of Lower Pannonia. The Hungarians arrived in the territory in the late 9th century, but the area was pillaged by the Mongols in 1241–42. Re-established Buda became one of the centres of Renaissance humanist culture by the 15th century.\\nThe Battle of Mohács, in 1526, was followed by nearly 150 years of Ottoman rule. After the reconquest of Buda in 1686, the region entered a new age of prosperity, with Pest-Buda becoming a global city after the unification of Buda, Óbuda, and Pest on 17 November 1873, with the name \\'Budapest\\' given to the new capital. Budapest also became the co-capital of the Austro-Hungarian Empire, a great power that dissolved in 1918, following World War I. The city was the focal point of the Hungarian Revolution of 1848, the Battle of Budapest in 1945, and the Hungarian Revolution of 1956.Budapest is an Beta + global city with strengths in commerce, finance, media, art, fashion, research, technology, education, and entertainment. It is Hungary\\'s financial centre and was ranked as the second fastest-developing urban economy in Europe. Budapest is the headquarters of the European Institute of Innovation and Technology, the European Police College and the first foreign office of the China Investment Promotion Agency. Over 40 colleges and universities are located in Budapest, including the Eötvös Loránd University, the Semmelweis University and the Budapest University of Technology and Economics. Opened in 1896, the city\\'s subway system, the Budapest Metro, serves 1.27 million, while the Budapest Tram Network serves 1.08 million passengers daily.The central area of Budapest along the Danube River is classified as a UNESCO World Heritage Site and has several notable monuments, including the Hungarian Parliament and the Buda Castle. The city also has around 80 geothermal springs, the largest thermal water cave system, second largest synagogue, and third largest Parliament building in the world. Budapest attracts around 12 million international tourists per year, making it a highly popular destination in Europe. The city was chosen as the Best European Destination of 2019, a major poll conducted by EBD, a tourism organisation partnering with the European Commission. It also topped the Best European Destinations 2020 list by Big7Media. Budapest also ranks as the 3rd-best European city in a similar poll conducted by Which? Magazine.\\n\\n\\n== Etymology and pronunciation ==\\nThe previously separate towns of Buda, Óbuda, and Pest were in 1873 officially unified and given the new name Budapest. Before this, the towns together had sometimes been referred to colloquially as \"Pest-Buda\". Pest has also been sometimes used colloquially as a shortened name for Budapest.All varieties of English pronounce the -s- as in the English word pest. The -u in Buda- is pronounced either /u/ like food (as in US: ) or /ju/ like cue (as in UK: ). In Hungarian, the -s- is pronounced /ʃ/ as in wash; in IPA: Hungarian: [ˈbudɒpɛʃt] (listen).\\nThe origin of the names \"Buda\" and \"Pest\" is obscure. Buda was\\n\\nprobably the name of the first constable of the fortress built on the Castle Hill in the 11th century\\nor a derivative of Bod or Bud, a personal name of Turkic origin, meaning \\'twig\\'.\\nor a Slavic personal name, Buda, the short form of Budimír, Budivoj.Linguistically, however, a German origin through the Slavic derivative вода (voda, water) is not possible, and there is no certainty that a Turkic word really comes from the word buta ~ buda \\'branch, twig\\'.According to a legend recorded in chronicles from the Middle Ages, \"Buda\" comes from the name of its founder, Bleda, brother of Hunnic ruler Attila.\\nThere are several theories about Pest. One states that the name derives from Roman times, since there was a local fortress (Contra-Aquincum) called by Ptolemaios \"Pession\" (\"Πέσσιον\", iii.7.§ 2). Another has it that Pest originates in the Slavic word for cave, пещера, or peštera. A third cites пещ, or pešt, referencing a cave where fires burned or a limekiln.\\n\\n\\n== History ==\\n\\n\\n=== Early history ===\\n\\nThe first settlement on the territory of Budapest was built by Celts before 1 AD. It was later occupied by the Romans. The Roman settlement – Aquincum – became the main city of Pannonia Inferior in 106 AD. At first it was a military settlement, and gradually the city rose around it, making it the focal point of the city\\'s commercial life. Today this area corresponds to the Óbuda district within Budapest. The Romans constructed roads, amphitheaters, baths and houses with heated floors in this fortified military camp. The Roman city of Aquincum is the best-conserved of the Roman sites in Hungary. The archaeological site was turned into a museum with inside and open-air sections.The Magyar tribes led by Árpád, forced out of their original homeland north of Bulgaria by Tsar Simeon after the Battle of Southern Buh, settled in the territory at the end of the 9th century displacing the founding Bulgarian settlers of the towns of Buda and Pest, and a century later officially founded the Kingdom of Hungary. Research places the probable residence of the Árpáds as an early place of central power near what became Budapest. The Tatar invasion in the 13th century quickly proved it is difficult to defend a plain. King Béla IV of Hungary therefore ordered the construction of reinforced stone walls around the towns and set his own royal palace on the top of the protecting hills of Buda. In 1361 it became the capital of Hungary.The cultural role of Buda was particularly significant during the reign of King Matthias Corvinus. The Italian Renaissance had a great influence on the city. His library, the Bibliotheca Corviniana, was Europe\\'s greatest collection of historical chronicles and philosophic and scientific works in the 15th century, and second in size only to the Vatican Library. After the foundation of the first Hungarian university in Pécs in 1367 (University of Pécs), the second one was established in Óbuda in 1395 (University of Óbuda). The first Hungarian book was printed in Buda in 1473. Buda had about 5,000 inhabitants around 1500.\\n\\nThe Ottomans conquered Buda in 1526, as well in 1529, and finally occupied it in 1541. The Turkish Rule lasted for more than 150 years. The Ottoman Turks constructed many prominent bathing facilities within the city. Some of the baths that the Turks erected during their rule are still in use 500 years later (Rudas Baths and Király Baths). By 1547 the number of Christians was down to about a thousand, and by 1647 it had fallen to only about seventy. The unoccupied western part of the country became part of the Habsburg Monarchy as Royal Hungary.\\nIn 1686, two years after the unsuccessful siege of Buda, a renewed campaign was started to enter the Hungarian capital. This time, the Holy League\\'s army was twice as large, containing over 74,000 men, including German, Croat, Dutch, Hungarian, English, Spanish, Czech, Italian, French, Burgundian, Danish and Swedish soldiers, along with other Europeans as volunteers, artillerymen, and officers. The Christian forces seized Buda, and in the next few years, all of the former Hungarian lands, except areas near Temesvár (Timișoara), were taken from the Turks. In the 1699 Treaty of Karlowitz, these territorial changes were officially recognized to show the end of the rule of the Turks, and in 1718 the entire Kingdom of Hungary was removed from Ottoman rule.\\n\\n\\n=== Contemporary history after Unification ===\\n\\nThe 19th century was dominated by the Hungarian struggle for independence and modernisation. The national insurrection against the Habsburgs began in the Hungarian capital in 1848 and was defeated one and a half years later, with the help of the Russian Empire. 1867 was the year of Reconciliation that brought about the birth of Austria-Hungary. This made Budapest the twin capital of a dual monarchy. It was this compromise which opened the second great phase of development in the history of Budapest, lasting until World War I. In 1849 the Chain Bridge linking Buda with Pest was opened as the first permanent bridge across the Danube and in 1873 Buda and Pest were officially merged with the third part, Óbuda (Old Buda), thus creating the new metropolis of Budapest. The dynamic Pest grew into the country\\'s administrative, political, economic, trade and cultural hub. Ethnic Hungarians overtook Germans in the second half of the 19th century due to mass migration from the overpopulated rural Transdanubia and Great Hungarian Plain. Between 1851 and 1910 the proportion of Hungarians increased from 35.6% to 85.9%, Hungarian became the dominant language, and German was crowded out. The proportion of Jews peaked in 1900 with 23.6%. Due to the prosperity and the large Jewish community of the city at the start of the 20th century, Budapest was often called the \"Jewish Mecca\" or \"Judapest\".\\nIn 1918, Austria-Hungary lost the war and collapsed; Hungary declared itself an independent republic (Republic of Hungary). In 1920 the Treaty of Trianon partitioned the country, and as a result, Hungary lost over two-thirds of its territory, and about two-thirds of its inhabitants, including 3.3 million out of 15 million ethnic Hungarians.\\n\\nIn 1944, a year before the end of World War II, Budapest was partly destroyed by British and American air raids (first attack 4 April 1944).\\nFrom 24 December 1944 to 13 February 1945, the city was besieged during the Battle of Budapest. Budapest suffered major damage caused by the attacking Soviet and Romanian troops and the defending German and Hungarian troops. More than 38,000 civilians lost their lives during the conflict. All bridges were destroyed by the Germans. The stone lions that have decorated the Chain Bridge since 1852 survived the devastation of the war.Between 20% and 40% of Greater Budapest\\'s 250,000 Jewish inhabitants died through Nazi and Arrow Cross Party, during the German occupation of Hungary, from 1944 to early 1945.Swiss diplomat Carl Lutz rescued tens of thousands of Jews by issuing Swiss protection papers and designating numerous buildings, including the now famous Glass House (Üvegház) at Vadász Street 29, to be Swiss protected territory. About 3,000 Hungarian Jews found refuge at the Glass House and in a neighboring building. Swedish diplomat Raoul Wallenberg saved the lives of tens of thousands of Jews in Budapest by giving them Swedish protection papers and taking them under his consular protection. Wallenberg was abducted by the Russians on 17 January 1945 and never regained freedom. Giorgio Perlasca, an Italian citizen, saved thousands of Hungarian Jews posing as a Spanish diplomat. Some other diplomats also abandoned diplomatic protocol and rescued Jews. There are two monuments for Wallenberg, one for Carl Lutz and one for Giorgio Perlasca in Budapest.\\nFollowing the liberation of Hungary from Nazi Germany by the Red Army, Soviet military occupation ensued, which ended only in 1991. The Soviets exerted significant influence on Hungarian political affairs. In 1949, Hungary was declared a communist People\\'s Republic (People\\'s Republic of Hungary). The new Communist government considered the buildings like the Buda Castle symbols of the former regime, and during the 1950s the palace was gutted and all the interiors were destroyed (also see Stalin era).\\nOn 23 October 1956 citizens held a large peaceful demonstration in Budapest demanding democratic reform. The demonstrators went to the Budapest radio station and demanded to publish their demands. The regime ordered troops to shoot into the crowd. Hungarian soldiers gave rifles to the demonstrators who were now able to capture the building. This initiated the Hungarian Revolution of 1956. The demonstrators demanded to appoint Imre Nagy to be Prime Minister of Hungary. To their surprise, the central committee of the \"Hungarian Working People\\'s Party\" did so that same evening. This uprising was an anti-Soviet revolt that lasted from 23 October until 11 November. After Nagy had declared that Hungary was to leave the Warsaw Pact and become neutral, Soviet tanks and troops entered the country to crush the revolt. Fighting continued until mid November, leaving more than 3000 dead. A monument was erected at the fiftieth anniversary of the revolt in 2006, at the edge of the City Park. Its shape is a wedge with a 56 angle degree made in rusted iron that gradually becomes shiny, ending in an intersection to symbolize Hungarian forces that temporarily eradicated the Communist leadership.From the 1960s to the late 1980s Hungary was often satirically referred to as \"the happiest barrack\" within the Eastern bloc, and much of the wartime damage to the city was finally repaired. Work on Erzsébet Bridge, the last to be rebuilt, was finished in 1964. In the early 1970s, Budapest Metro\\'s east–west M2 line was first opened, followed by the M3 line in 1976. In 1987, Buda Castle and the banks of the Danube were included in the UNESCO list of World Heritage Sites. Andrássy Avenue (including the Millennium Underground Railway, Hősök tere, and Városliget) was added to the UNESCO list in 2002. In the 1980s, the city\\'s population reached 2.1 million. In recent times a significant decrease in population occurred mainly due to a massive movement to the neighbouring agglomeration in Pest county, i.e., suburbanisation.In the last decades of the 20th century the political changes of 1989–90 (Fall of the Iron Curtain) concealed changes in civil society and along the streets of Budapest. The monuments of the dictatorship were removed from public places, into Memento Park. In the first 20 years of the new democracy, the development of the city was managed by its mayor, Gábor Demszky.\\n\\n\\n== Geography ==\\n\\n\\n=== Topography ===\\n\\nBudapest, strategically placed at the centre of the Carpathian Basin, lies on an ancient route linking the hills of Transdanubia with the Great Plain.  By road it is 216 kilometres (134 mi) south-east of Vienna, 545 kilometres (339 mi) south of Warsaw, 1,565 kilometres (972 mi) south-west of Moscow, 1,122 kilometres (697 mi) north of Athens, 788 kilometres (490 mi) north-east of Milan, and 443 kilometres (275 mi) south-east of Prague.The 525 square kilometres (203 sq mi) area of Budapest lies in Central Hungary, surrounded by settlements of the agglomeration in Pest county. The capital extends 25 and 29 km (16 and 18 mi) in the north–south, east–west direction respectively. The Danube enters the city from the north; later it encircles two islands, Óbuda Island and Margaret Island. The third island Csepel Island is the largest of the Budapest Danube islands, however only its northernmost tip is within city limits. The river that separates the two parts of the city is 230 m (755 ft) wide at its narrowest point in Budapest. Pest lies on the flat terrain of the Great Plain while Buda is rather hilly.The wide Danube was always fordable at this point because of a small number of islands in the middle of the river. The city has marked topographical contrasts: Buda is built on the higher river terraces and hills of the western side, while the considerably larger Pest spreads out on a flat and featureless sand plain on the river\\'s opposite bank. Pest\\'s terrain rises with a slight eastward gradient, so the easternmost parts of the city lie at the same altitude as Buda\\'s smallest hills, notably Gellért Hill and Castle Hill.The Buda hills consist mainly of limestone and dolomite, the water created speleothems, the most famous ones being the Pálvölgyi cave (total length 7,200 m or 23,600 ft) and the Szemlőhegyi cave (total length 2,200 m or 7,200 ft). The hills were formed in the Triassic Period. The highest point of the hills and of Budapest is János Hill, at 527 metres (1,729 feet) above sea level. The lowest point is the line of the Danube which is 96 metres (315 feet) above sea level.  Budapest is also rich in green areas. Of the 525 square kilometres (203 square miles) occupied by the city, 83 square kilometres (32 square miles) is green area, park and forest. The forests of Buda hills are environmentally protected.The city\\'s importance in terms of traffic is very central, because many major European roads and European railway lines lead to Budapest. The Danube was and is still an important water-way and this region in the centre of the Carpathian Basin lies at the cross-roads of trade routes.\\nBudapest is one of only three capital cities in the world which has thermal springs (the other being Reykjavík in Iceland and Sofia in Bulgaria). Some 125 springs produce 70 million litres (15,000,000 imperial gallons; 18,000,000 US gallons) of thermal water a day, with temperatures ranging up to 58 Celsius. Some of these waters have medicinal effects due to their medically valuable mineral contents.\\n\\n\\n=== Climate ===\\n\\nBudapest has a humid subtropical climate (Cfa in Köppen climate classification), with relatively cold winters (near of a humid continental climate when the 0 °C isotherm is used) and warm summers (near of an oceanic climate) according to the 1971–2000 climatological norm. Winter (November until early March) can be cold and the city receives little sunshine. Snowfall is fairly frequent in most years, and nighttime temperatures of −10 °C (14 °F) are not uncommon between mid-December and mid-February. The spring months (March and April) see variable conditions, with a rapid increase in the average temperature. The weather in late March and in April is often very agreeable during the day and fresh at night. Budapest\\'s long summer – lasting from May until mid-September – is warm or very warm. Sudden heavy showers also occur, particularly in May and June. The autumn in Budapest (mid-September until late October) is characterised by little rain and long sunny days with moderate temperatures. Temperatures often turn abruptly colder in late October or early November.\\nMean annual precipitation in Budapest is around 23.5 inches (596.9 mm). On average, there are 84 days with precipitation and 1988 hours of sunshine (of a possible 4383) each year. From March to October, average sunshine totals are roughly equal to those seen in northern Italy (Venice).\\nThe city lies on the boundary between Zone 6 and Zone 7 in terms of the hardiness zone.\\n\\n\\n== Architecture ==\\n\\nBudapest has architecturally noteworthy buildings in a wide range of styles and from distinct time periods, from the ancient times as Roman City of Aquincum in Óbuda (District III), which dates to around 89 AD, to the most modern Palace of Arts, the contemporary arts museum and concert hall.Most buildings in Budapest are relatively low: in the early 2010s there were around 100 buildings higher than 45 metres (148 ft). The number of high-rise buildings is kept low by building legislation, which is aimed at preserving the historic cityscape and to meet the requirements of the World Heritage Site. Strong rules apply to the planning, authorisation and construction of high-rise buildings and consequently much of the inner city does not have any. Some planners would like see an easing of the rules for the construction of skyscrapers, and the possibility of building skyscrapers outside the city\\'s historic core has been raised.In the chronological order of architectural styles Budapest represents on the entire timeline. Start with the Roman City of Aquincum represents the ancient architecture.\\nThe next determinative style is the Gothic architecture in Budapest. The few remaining Gothic buildings can be found in the Castle District. Buildings of note are no. 18, 20 and 22 on Országház Street, which date back to the 14th century and No. 31 Úri Street, which has a Gothic façade that dates back to the 15th century. Another buildings with Gothic remains is the Inner City Parish Church, built in the 12th century, and the Mary Magdalene Church, completed in the 15th century. The most characteristic Gothic-style buildings are actually Neo-Gothic, like the most well-known Budapest landmarks, the Hungarian Parliament Building and the Matthias Church, where much of the original material was used (originally built in Romanesque style in 1015).The next chapter in the history of human architecture is Renaissance architecture. One of the earliest places to be influenced by the Renaissance style of architecture was Hungary, and Budapest in particular. The style appeared following the marriage of King Matthias Corvinus and Beatrice of Naples in 1476. Many Italian artists, craftsmen and masons came to Buda with the new queen. Today, many of the original renaissance buildings disappeared during the varied history of Buda, but Budapest is still rich in renaissance and neo-renaissance buildings, like the famous Hungarian State Opera House, St. Stephen\\'s Basilica and the Hungarian Academy of Sciences.\\n\\nDuring the Turkish occupation (1541–1686), Islamic culture flourished in Budapest; multiple mosques and baths were built in the city. These were great examples of Ottoman architecture, which was influenced by Muslims from around the world including Turkish, Iranian, Arabian and to a larger extent, Byzantine architecture as well as Islamic traditions. After the Holy League conquered Budapest, they replaced most of the mosques with churches and minarets were turned into bell towers and cathedral spires. At one point the distinct sloping central square in Budapest became a bustling Oriental bazaar, which was filled with \"the chatter of camel caravans on their way to Yemen and India\". Budapest is in fact one of the few places in the world with functioning original Turkish bathhouses dating back to the 16th century, like Rudas Baths or Király Baths. Budapest is home to the northernmost place where the tomb of influential Islamic Turkish Sufi Dervish, Gül Baba is found. Various cultures converged in Hungary seemed to coalesce well with each other, as if all these different cultures and architecture styles are digested into Hungary\\'s own way of cultural blend. A precedent to show the city\\'s self-conscious is the top section of the city\\'s main square, named as Szechenyi. When Turks came to the city, they built mosques here which was aggressively replaced with Gothic church of St. Bertalan. The rationale of reusing the base of the former Islamic building mosque and reconstruction into Gothic Church but Islamic style architecture over it is typically Islamic are still visible. An official term for the rationale is spolia. The mosque was called the djami of Pasha Gazi Kassim, and djami means mosque in Arabic. After Turks and Muslims were expelled and massacred from Budapest, the site was reoccupied by Christians and reformed into a church, the Inner City Parish Church (Budapest). The minaret and Turkish entranceway were removed. The shape of the architecture is its only hint of exotic past—\"two surviving prayer niches facing Mecca and an ecumenical symbol atop its cupola: a cross rising above the Turkish crescent moon\".\\n\\nAfter 1686, the Baroque architecture designated the dominant style of art in catholic countries from the 17th century to the 18th century. There are many Baroque-style buildings in Budapest and one of the finest examples of preserved Baroque-style architecture is the Church of St. Anna in Batthyhány square. An interesting part of Budapest is the less touristy Óbuda, the main square of which also has some beautiful preserved historic buildings with Baroque façades. The Castle District is another place to visit where the best-known landmark Buda Royal Palace and many other buildings were built in the Baroque style.The Classical architecture and Neoclassical architecture are the next in the timeline. Budapest had not one but two architects that were masters of the Classicist style. Mihály Pollack (1773–1855) and József Hild (1789–1867), built many beautiful Classicist-style buildings in the city. Some of the best examples are the Hungarian National Museum, the Lutheran Church of Budavár (both designed by Pollack) and the seat of the Hungarian president, the Sándor Palace. The most iconic and widely known Classicist-style attraction in Budapest is the Széchenyi Chain Bridge. Budapest\\'s two most beautiful Romantic architecture buildings are the Great Synagogue in Dohány Street and the Vigadó Concert Hall on the Danube Promenade, both designed by architect Frigyes Feszl (1821–1884). Another noteworthy structure is the Budapest Western Railway Station, which was designed by August de Serres and built by the Eiffel Company of Paris in 1877.\\n\\nArt Nouveau came into fashion in Budapest by the exhibitions which were held in and around 1896 and organised in connection with the Hungarian Millennium celebrations. Art Nouveau in Hungary (Szecesszió in Hungarian) is a blend of several architectural styles, with a focus on Hungary\\'s specialities. One of the leading Art Nouveau architects, Ödön Lechner (1845–1914), was inspired by Indian and Syrian architecture as well as traditional Hungarian decorative designs. One of his most beautiful buildings in Budapest is the Museum of Applied Arts. Another examples for Art Nouveau in Budapest is the Gresham Palace in front of the Chain Bridge, the Hotel Gellért, the Franz Liszt Academy of Music or Budapest Zoo and Botanical Garden.The second half of the 20th century also saw, under the communist regime, the construction of blocks of flats (panelház), as in other Eastern European countries. In the 21st century, Budapest faces new challenges in its architecture. The pressure towards the high-rise buildings is unequivocal among today\\'s world cities, but preserving Budapest\\'s unique cityscape and its very diverse architecture, along with green areas, is force Budapest to balance between them. The Contemporary architecture has wide margin in the city. Public spaces attract heavy investment by business and government also, so that the city has gained entirely new (or renovated and redesigned) squares, parks and monuments, for example the city central Kossuth Lajos square, Deák Ferenc square and Liberty Square. Budapest\\'s urban landscape is one of the modern and contemporary architecture. Numerous landmarks are created in the last decade in Budapest, like the National Theatre, Palace of Arts, Rákóczi Bridge, Megyeri Bridge, Budapest Airport Sky Court among others, and millions of square meters of new office buildings and apartments. But there are still large opportunities in real estate development in the city.\\n\\n\\n== Districts ==\\n\\nMost of today\\'s Budapest is the result of a late-nineteenth-century renovation, but the wide boulevards laid out then only bordered and bisected much older quarters of activity created by centuries of Budapest\\'s city evolution.\\nBudapest\\'s vast urban area is often described using a set of district names. These are either informal designations, reflect the names of villages that have been absorbed by sprawl, or are superseded administrative units of former boroughs.\\nSuch names have remained in use through tradition, each referring to a local area with its own distinctive character, but without official boundaries.\\nOriginally Budapest had 10 districts after coming into existence upon the unification of the three cities in 1873. Since 1950, Greater Budapest has been divided into 22 boroughs (and 23 since 1994). At that time there were changes both in the order of districts and in their sizes. The city now consists of 23 districts, 6 in Buda, 16 in Pest and 1 on Csepel Island between them.\\nThe city centre itself in a broader sense comprises the District V, VI, VII, VIII, IX and XIII on the Pest side, and the I, II, XI and XII on the Buda side of the city.District I is a small area in central Buda, including the historic Buda Castle. District II is in Buda again, in the northwest, and District III stretches along in the northernmost part of Buda. To reach District IV, one must cross the Danube to find it in Pest (the eastern side), also at north. With District V, another circle begins, it is located in the absolute centre of Pest. Districts VI, VII, VIII and IX are the neighbouring areas to the east, going southwards, one after the other.\\nDistrict X is another, more external circle also in Pest, while one must jump to the Buda side again to find Districts XI and XII, going northwards. No more districts remaining in Buda in this circle, we must turn our steps to Pest again to find Districts XIII, XIV, XV, XVI, XVII, XVIII, XIX and XX (mostly external city parts), almost regularly in a semicircle, going southwards again.\\nDistrict XXI is the extension of the above route over a branch of the Danube, the northern tip of a long island south from Budapest. District XXII is still on the same route in southwest Buda, and finally District XXIII is again in southernmost Pest, irregular only because it was part of District XX until 1994.\\n\\n\\n== Demographics ==\\n\\nBudapest is the most populous city in Hungary and one of the largest cities in the European Union, with a growing number of inhabitants, estimated at 1,763,913 in 2019, whereby inward migration exceeds outward migration. These trends are also seen throughout the Budapest metropolitan area, which is home to 3.3 million people. This amounts to about 34% of Hungary\\'s population.\\nIn 2014, the city had a population density of 3,314 people per square kilometre (8,580/sq mi), rendering it the most densely populated of all municipalities in Hungary. The population density of Elisabethtown-District VII is 30,989/km2 (80,260/sq mi), which is the highest population density figure in Hungary and one of the highest in the world, for comparison the density in Manhattan is 25,846/km2.Budapest is the fourth most \"dynamically growing city\" by population in Europe, and the Euromonitor predicts a population increase of almost 10% between 2005 and 2030. The European Observation Network for Territorial Development and Cohesion says Budapest\\'s population will increase by 10% to 30% only due to migration by 2050. A constant inflow of migrants in recent years has fuelled population growth in Budapest. Productivity gains and the relatively large economically active share of the population explain why household incomes have increased in Budapest to a greater extent than in other parts of Hungary. Higher incomes in Budapest are reflected in the lower share of expenditure the city\\'s inhabitants allocate to necessity spending such as food and non-alcoholic drinks.At the 2016 microcensus, there were 1,764,263 people with 907,944 dwellings living in Budapest. Some 1.6 million persons from the metropolitan area may be within Budapest\\'s boundaries during work hours, and during special events. This fluctuation of people is caused by hundreds of thousands of suburban residents who travel to the city for work, education, health care, and special events.By ethnicity there were 1,697,039 (96.2%) Hungarians, 34,909 (2%) Germans, 16,592 (0.9%) Romani, 9,117 (0.5%) Romanians and 5,488 (0.3%) Slovaks. In Hungary people can declare multiple ethnic identities, hence the sum may exceed 100%. The share of ethnic Hungarians in Budapest (96.2%) is slighly lower than the national average (98.3%) due to the international migration.According to the 2011 census, 1,712,153 people (99.0%) speak Hungarian, of whom 1,692,815 people (97.9%) speak it as a first language, while 19,338 people (1.1%) speak it as a second language. Other spoken (foreign) languages were: English (536,855 speakers, 31.0%), German (266,249 speakers, 15.4%), French (56,208 speakers, 3.3%) and Russian (54,613 speakers, 3.2%).According to the same census, 1,600,585 people (92.6%) were born in Hungary, 126,036 people (7.3%) outside Hungary while the birthplace of 2,419 people (0.1%) was unknown.\\nAlthough only 1.7% of the population of Hungary in 2009 were foreigners, 43% of them lived in Budapest, making them 4.4% of the city\\'s population (up from 2% in 2001). Nearly two-thirds of foreigners living in Hungary were under 40 years old. The primary motivation for this age group living in Hungary was employment.Budapest is home to one of the most populous Christian communities in Central Europe, numbering 698,521 people (40.4%) in 2011. According to the 2011 census, there were 501,117 (29.0%) Roman Catholics, 146,756 (8.5%) Calvinists, 30,293 (1.8%) Lutherans, 16,192 (0.9%) Greek Catholics, 7,925 (0.5%) Jews and 3,710 (0.2%) Orthodox in Budapest. 395,964 people (22.9%) were irreligious while 585,475 people (33.9%) did not declare their religion. The city is also home to one of the largest Jewish communities in Europe.\\n\\n\\n== Economy ==\\n\\nBudapest is a significant economic hub, classified as an Beta + world city in the study by the Globalization and World Cities Research Network and it is the second fastest-developing urban economy in Europe as GDP per capita in the city increased by 2.4 per cent and employment by 4.7 per cent compared to the previous year in 2014.\\nOn national level, Budapest is the primate city of Hungary regarding business and economy, accounting for 39% of the national income, the city has a gross metropolitan product more than $100 billion in 2015, making it one of the largest regional economy in the European Union.\\nAccording to the Eurostat GDP per capita in purchasing power parity is 147% of the EU average in Budapest, which means €37,632 ($42,770) per capita.\\nBudapest is also among the Top100 GDP performing cities in the world, measured by PricewaterhouseCoopers.\\nThe city was named as the 52nd most important business centre in the world in the Worldwide Centres of Commerce Index, ahead of Beijing, São Paulo or Shenzhen and ranking 3rd (out of 65 cities) on MasterCard Emerging Markets Index.\\nThe city is 48th on the UBS The most expensive and richest cities in the world list, standing before cities such as Prague, Shanghai, Kuala Lumpur or Buenos Aires.\\nIn a global city competitiveness ranking by EIU, Budapest stands before Tel Aviv, Lisbon, Moscow and Johannesburg among others.The city is a major centre for banking and finance, real estate, retailing, trade, transportation, tourism, new media as well as traditional media, advertising, legal services, accountancy, insurance, fashion and the arts in Hungary and regionally. Budapest is home not only to almost all national institutions and government agencies, but also to many domestic and international companies, in 2014 there are 395.804 companies registered in the city. Most of these entities are headquartered in the Budapest\\'s Central Business District, in the District V and District XIII. The retail market of the city (and the country) is also concentrated in the downtown, among others through the two largest shopping centre in Central and Eastern Europe, the 186,000 sqm WestEnd City Center and the 180,000 sqm Arena Plaza.Budapest has notable innovation capabilities as a technology and start-up hub, many start-ups are headquartered and begin its business in the city, for instance deserve to mention the most well-known Prezi, LogMeIn or NNG. Budapest is the highest ranked Central and Eastern European city on Innovation Cities\\' Top 100 index. A good indicator of the city\\'s potential for innovation and research also, is that the European Institute of Innovation and Technology chose Budapest for its headquarters, along with the UN, which Regional Representation for Central Europe office is in the city, responsible for UN operations in seven countries.\\nMoreover, the global aspect of the city\\'s research activity is shown through the establishment of the European Chinese Research Institute in the city. Other important sectors include also, as natural science research, information technology and medical research, non-profit institutions, and universities. The leading business schools and universities in Budapest, the Budapest Business School, the CEU Business School and Corvinus University of Budapest offers a whole range of courses in economics, finance and management in English, French, German and Hungarian. The unemployment rate is far the lowest in Budapest within Hungary, it was 2.7%, besides the many thousands of employed foreign citizens.Budapest is among the 25 most visited cities in the world, the city welcoming more than 4.4 million international visitors each year, therefore the traditional and the congress tourism industry also deserve a mention, it contributes greatly to the city\\'s economy. The capital being home to many convention centre and thousands of restaurants, bars, coffee houses and party places, besides the full assortment of hotels. In restaurant offerings can be found the highest quality Michelin-starred restaurants, like Onyx, Costes, Tanti or Borkonyha. The city ranked as the most liveable city in Central and Eastern Europe on EIU\\'s quality of life index in 2010.\\n\\n\\n=== Finance and corporate location ===\\nBudapest Stock Exchange, key institution of the publicly offered securities in Hungary and Central and Eastern Europe is situated in Budapest\\'s CBD at Liberty Square. BSE also trades other securities such as government bonds and derivatives such as stock options. Large Hungarian multinational corporations headquartered in Budapest are listed on BSE, for instance the Fortune Global 500 firm MOL Group, the OTP Bank, FHB Bank, Gedeon Richter Plc., Magyar Telekom, CIG Pannonia, Zwack Unicum and more.\\nNowadays nearly all branches of industry can be found in Budapest, there is no particularly special industry in the city\\'s economy, but the financial centre role of the city is strong, nearly 40 major banks are presented in the city, also those like Bank of China, KDB Bank and Hanwha Bank, which is unique in the region.\\nAlso support the financial industry of Budapest, the firms of international banks and financial service providers, such as Citigroup, Morgan Stanley, GE Capital, Deutsche Bank, Sberbank, ING Group, Allianz, KBC Group, UniCredit and MSCI among others. Another particularly strong industry in the capital city is biotechnology and pharmaceutical industry, these are also traditionally strong in Budapest, through domestic companies, as Egis, Gedeon Richter, Chinoin and through international biotechnology corporations, like Pfizer, Teva, Novartis, Sanofi, who are also has R&D and production division here. Further high-tech industries, such as software development, engineering notable as well, the Nokia, Ericcson, Bosch, Microsoft, IBM employs thousands of engineers in research and development in the city. Game design also highly represented through headquarters of domestic Digital Reality, Black Hole and studio of Crytek or Gameloft. Beyond the above, there are regional headquarters of global firms, such as Alcoa, General Motors, GE, Exxon Mobil, British Petrol, British Telecom, Flextronics, Panasonic Corp, Huawei, Knorr-Bremse, Liberty Global, Tata Consultancy, Aegon, WizzAir, TriGránit, MVM Group, Graphisoft, there is a base for Nissan CEE, Volvo, Saab, Ford, including but not limited to.\\n\\n\\n== Politics and government ==\\n\\nAs the capital of Hungary, Budapest is the seat of the country\\'s national government. The President of Hungary resides at the Sándor Palace in the District I (Buda Castle District), while the office of the Hungarian Prime Minister is in the Hungarian Parliament. Government ministries are all located in various parts of the city, most of them are in the District V, Leopoldtown. The National Assembly is seated in the Hungarian Parliament, which also located in the District V. The President of the National Assembly, the third-highest public official in Hungary, is also seated in the largest building in the country, in the Hungarian Parliament.\\nHungary\\'s highest courts are located in Budapest. The Curia (supreme court of Hungary), the highest court in the judicial order, which reviews criminal and civil cases, is located in the District V, Leopoldtown. Under the authority of its president it has three departments: criminal, civil and administrative-labour law departments. Each department has various chambers. The Curia guarantees the uniform application of law. The decisions of the Curia on uniform jurisdiction are binding for other courts.\\nThe second most important judicial authority, the National Judicial Council, is also housed in the District V, with the tasks of controlling the financial management of the judicial administration and the courts and giving an opinion on the practice of the president of the National Office for the Judiciary and the Curia deciding about the applications of judges and court leaders, among others.\\nThe Constitutional Court of Hungary is one of the highest level actors independent of the politics in the country. The Constitutional Court serves as the main body for the protection of the Constitution, its tasks being the review of the constitutionality of statutes. The Constitutional Court performs its tasks independently. With its own budget and its judges being elected by Parliament it does not constitute a part of the ordinary judicial system. The constitutional court passes on the constitutionality of laws, and there is no right of appeal on these decisions.Budapest hosts the main and regional headquarters of many international organizations as well, including United Nations High Commissioner for Refugees, Food and Agriculture Organization of the United Nations, European Institute of Innovation and Technology, European Police Academy, International Centre for Democratic Transition, Institute of International Education, International Labour Organization, International Organization for Migration, International Red Cross, Regional Environmental Center for Central and Eastern Europe, Danube Commission and even others. The city is also home to more than 100 embassies and representative bodies as an international political actor.\\nEnvironmental issues have a high priority among Budapest\\'s politics. Institutions such as the Regional Environmental Center for Central and Eastern Europe, located in Budapest, are very important assets.\\nTo decrease the use of cars and greenhouse gas emissions, the city has worked to improve public transportation, and nowadays the city has one of the highest mass transit usage in Europe. Budapest has one of the best public transport systems in Europe with an efficient network of buses, trolleys, trams and subway. Budapest has an above-average proportion of people commuting on public transport or walking and cycling for European cities.\\nRiding on bike paths is one of the best ways to see Budapest – there are about 180 kilometres (110 miles) of bicycle paths in the city, fitting into the EuroVelo system.Crime in Budapest investigated by different bodies. United Nations Office on Drugs and Crime notes in their 2011 Global Study on Homicide that, according to criminal justice sources, the homicide rate in Hungary, calculated based on UN population estimates, was 1.4 in 2009, compared to Canada\\'s rate of 1.8 that same year.\\nThe homicide rate in Budapest is below the EU capital cities\\' average according to WHO also. However, the organised crime is associated with the city, the Institute of Defence in a UN study named Budapest as the \"global epicentres\" of illegal pornography, money laundering and contraband tobacco, and also the negotiation center for international crime group leaders.\\n\\n\\n=== City governance ===\\n\\nBudapest has been a metropolitan municipality with a mayor-council form of government since its consolidation in 1873, but Budapest also holds a special status as a county-level government, and also special within that, as holds a capital-city territory status. In Budapest, the central government is responsible for the urban planning, statutory planning, public transport, housing, waste management, municipal taxes, correctional institutions, libraries, public safety, recreational facilities, among others. The Mayor is responsible for all city services, police and fire protection, enforcement of all city and state laws within the city, and administration of public property and most public agencies. Besides, each of Budapest\\' twenty-three districts has its own town hall and a directly elected council and the directly elected mayor of district.The Mayor of Budapest is Gergely Karácsony who was elected on 13 October 2019. The mayor and members of General Assembly are elected to five-year terms.\\nThe Budapest General Assembly is a unicameral body consisting of 33 members, which consist of the 23 mayors of the districts, 9 from the electoral lists of political parties, plus Mayor of Budapest (the Mayor is elected directly). Each term for the mayor and assembly members lasts five years. Submitting the budget of Budapest is the responsibility of the Mayor and the deputy-mayor in charge of finance. The latest, 2014 budget was approved with 18 supporting votes from ruling Fidesz and 14 votes against by the opposition lawmakers.\\n\\n\\n== Main sights and tourism ==\\n\\nThe most well-known sight of the capital is the neo-Gothic Parliament, the biggest building in Hungary with its 268 metres (879 ft) length, holding (since 2001) also the Hungarian Crown Jewels.\\nSaint Stephen\\'s Basilica is the most important religious building of the city, where the Holy Right Hand of Hungary\\'s first king, Saint Stephen is on display as well.\\nThe Hungarian cuisine and café culture can be seen and tasted in a lot of places, like Gerbeaud Café, the Százéves, Biarritz, Fortuna, Alabárdos, Arany Szarvas, Kárpátia and the world-famous Mátyás-pince restaurans and beer bars.\\nThere are Roman remains at the Aquincum Museum, and historic furniture at the Nagytétény Castle Museum, just 2 out of 223 museums in Budapest. Another historical museum is the House of Terror, hosted in the building that was the venue of the Nazi Headquarters. The Castle Hill, the River Danube embankments and the whole of Andrássy út have been officially recognized as UNESCO World Heritage Sites.\\nCastle Hill and the Castle District; there are three churches here, six museums, and a host of interesting buildings, streets and squares. The former Royal Palace is one of the symbols of Hungary – and has been the scene of battles and wars ever since the 13th century. Nowadays it houses two impressive museums and the National Széchenyi Library. The nearby Sándor Palace contains the offices and official residence of the President of Hungary. The seven-hundred-year-old Matthias Church is one of the jewels of Budapest, it is in neo-Gothic style, decorated with coloured shingles and elegant pinnacles. Next to it is an equestrian statue of the first king of Hungary, King Saint Stephen, and behind that is the Fisherman\\'s Bastion, built in 1905 by the architect Frigyes Schulek, the Fishermen\\'s Bastions owes its name to the namesake corporation that during the Middle Ages was responsible of the defence of this part of ramparts, from where opens out a panoramic view of the whole city. Statues of the Turul, the mythical guardian bird of Hungary, can be found in both the Castle District and the Twelfth District.\\n\\nIn Pest, arguably the most important sight is Andrássy út. This Avenue is an elegant 2.5 kilometres (2 miles) long tree-lined street that covers the distance from Deák Ferenc tér to the Heroes Square. On this Avenue overlook many important sites. It is a UNESCO World Heritage Site. As far as Kodály körönd and Oktogon both sides are lined with large shops and flats built close together. Between there and Heroes\\' Square the houses are detached and altogether grander. Under the whole runs continental Europe\\'s oldest Underground railway, most of whose stations retain their original appearance. Heroes\\' Square is dominated by the Millenary Monument, with the Tomb of the Unknown Soldier in front. To the sides are the Museum of Fine Arts and the Kunsthalle Budapest, and behind City Park opens out, with Vajdahunyad Castle. One of the jewels of Andrássy út is the Hungarian State Opera House. Statue Park, a theme park with striking statues of the Communist era, is located just outside the main city and is accessible by public transport.\\n\\nThe Dohány Street Synagogue is the largest synagogue in Europe, and the second largest active synagogue in the world. The synagogue is located in the Jewish district taking up several blocks in central Budapest bordered by Király utca, Wesselényi utca, Grand Boulevard and Bajcsy Zsilinszky road. It was built in moorish revival style in 1859 and has a seating capacity of 3,000. Adjacent to it is a sculpture reproducing a weeping willow tree in steel to commemorate the Hungarian victims of the Holocaust.\\nThe city is also home to the largest medicinal bath in Europe (Széchenyi Medicinal Bath) and the third largest Parliament building in the world, once the largest in the world. Other attractions are the bridges of the capital. Seven bridges provide crossings over the Danube, and from north to south are: the Árpád Bridge (built in 1950 at the north of Margaret Island); the Margaret Bridge (built in 1901, destroyed during the war by an explosion and then rebuilt in 1948); the Chain Bridge (built in 1849, destroyed during World War II and the rebuilt in 1949); the Elisabeth Bridge (completed in 1903 and dedicated to the murdered Queen Elisabeth, it was destroyed by the Germans during the war and replaced with a new bridge in 1964); the Liberty Bridge (opened in 1896 and rebuilt in 1989 in Art Nouveau style); the Petőfi Bridge (completed in 1937, destroyed during the war and rebuilt in 1952); the Rákóczi Bridge (completed in 1995). Most remarkable for their beauty are the Margaret Bridge, the Chain Bridge and the Liberty Bridge.\\nThe world\\'s largest panorama photograph was created in (and of) Budapest in 2010.Tourists visiting Budapest can receive free maps and information from the nonprofit Budapest Festival and Tourism Center at its info-points. The info centers also offer the Budapest Card which allows free public transit and discounts for several museums, restaurants and other places of interest.  Cards are available for 24-, 48- or 72-hour durations. The city is also well known for its ruin bars both day and night.\\n\\n\\n=== Squares ===\\n\\nIn Budapest there are many smaller and larger squares, the most significant of which are Heroes\\' Square, Kossuth Square, Liberty Square, St. Stephen\\'s Square, Ferenc Deák Square, Vörösmarty Square, Erzsébet Square, St. George\\'s Square and Széchenyi István Square. The Heroes\\' Square at the end of Andrássy Avenue is the largest and most influential square in the capital, with the Millennium Monument in the center, and the Museum of Fine Arts and The Hall of Art. Kossuth Square is a symbolic place of the Hungarian statehood, the Hungarian Parliament Building, the Palace of Justice and the Ministry of Agriculture. The Liberty Square is located in the Belváros-Lipótváros District (Inner City District), as one of Budapest\\'s most beautiful squares. There are buildings such as the Hungarian National Bank, the embassy of the United States, the Stock Exchange Palace, as well as numerous statues and monuments such as the Soviet War Memorial, the Statue of Ronald Reagan or the controversial Monument to the victims of the German occupation. In the St. Stephen\\'s Square is the St. Stephen\\'s Basilica, the square is connected by a walking street, the Zrínyi Street, to the Széchenyi István Square at the foot of The Chain Bridge. The Hungarian Academy of Sciences and the Gresham Palace and the Ministry of Interior are also located here. Deák Ferenc Square is a central square of the capital, a major transport hub, where three Budapest subways meet. Here is the oldest and best known Evangelical Church of Budapest, the Deák Ferenc Square Luteran Church. Vörösmarty Square is located in Belváros-Lipótváros District (Inner City District) behind the Vigadó of Pest as one of the endpoints of Váci Street. The Confectionery Gerbeaud is here, and the annual Christmas Fair is held in the Square, as well as is the centre of the Holiday Book Week.\\n\\n\\n=== Parks and gardens ===\\n\\nBudapest has many municipal parks and most have playgrounds for children and seasonal activities like skating in the winter and boating in the summer. Access from the city center is quick and easy with the Millennium Underground. Budapest has a complex park system, with various lands operated by the Budapest City Gardening Ltd.\\nThe wealth of greenspace afforded by Budapest\\'s parks is further augmented by a network of open spaces containing forest, streams, and lakes that are set aside as natural areas which lie not far from the inner city, including the Budapest Zoo and Botanical Garden (established in 1866) in the City Park.\\nThe most notable and popular parks in Budapest are the City Park which was established in 1751 (302 acres) along with Andrássy Avenue, the Margaret Island in the Danube (238 acres or 96 hectares), the People\\'s Park, the Római Part, and the Kopaszi Dam.The Buda Hills also offer a variety of outdoor activities and views. A place frequented by locals is Normafa, offering activities for all seasons. With a modest ski run, it is also used by skiers and snow boarders – if there is enough snowfall in winter.\\n\\n\\n=== Islands ===\\n\\nA number of islands can be found on the Danube in Budapest:\\n\\nMargaret Island (Hungarian: Margit-sziget [ˈmɒrɡit.siɡɛt]) is a 2.5 km (1.6 mi) long island and 0.965 square kilometres (238 acres) in area. The island mostly consists of a park and is a popular recreational area for tourists and locals alike. The island lies between bridges Margaret Bridge (south) and Árpád Bridge (north). Dance clubs, swimming pools, an aqua park, athletic and fitness centres, bicycle and running tracks can be found around the Island. During the day the island is occupied by people doing sports, or just resting. In the summer (generally on the weekends) mostly young people go to the island at night to party on its terraces, or to recreate with a bottle of alcohol on a bench or on the grass (this form of entertainment is sometimes referred to as bench-partying).\\nCsepel Island (Hungarian: Csepel-sziget [ˈt͡ʃɛpɛlsiɡɛt]) is the largest island of the River Danube in Hungary. It is 48 km (30 mi) long; its width is 6 to 8 km (4 to 5 mi) and its area comprises 257 km2 (99 sq mi). However, only the northern tip of the island is inside the city limits.\\nHajógyári Island (Hungarian: Hajógyári-sziget [ˈhɒjoːɟaːrisiɡɛt]), also known as Óbuda Island (Hungarian: Óbudai-sziget), is a man-made island located in the third district. This island hosts many activities such as: wake-boarding, jet-skiing during the day, and dance clubs during the night. This is the island where the famous Sziget Festival takes place, hosting hundreds of performances per year and now around 400,000 visitors in its last edition. Many building projects are taking place to make this island into one of the biggest entertainment centres of Europe. The plan is to build apartment buildings, hotels, casinos and a marina.\\nMolnár Island (Hungarian: Molnár-sziget) is an island in the channel of the Danube that separates Csepel Island from the east bank of the river.The islands of Palotai Island, Nép Island, and Háros Island also formerly existed within the city, but have been joined to the mainland.\\nThe Ínség Rock (Hungarian: Ínség-szikla) is a reef in the Danube close to the shore under the Gellért Hill. It is only exposed during drought periods when the river level is very low.\\nJust outside the city boundary to the north lies the large Szentendre Island (Hungarian: Szentendrei-sziget) and the much smaller Lupa Island (Hungarian: Lupa-sziget).\\n\\n\\n=== Spas ===\\n\\nOne of the reasons the Romans first colonised the area immediately to the west of the River Danube and established their regional capital at Aquincum (now part of Óbuda, in northern Budapest) is so that they could use and enjoy the thermal springs. There are still ruins visible today of the enormous baths that were built during that period. The new baths that were constructed during the Turkish period (1541–1686) served both bathing and medicinal purposes, and some of these are still in use to this day.Budapest gained its reputation as a city of spas in the 1920s, following the first realisation of the economic potential of the thermal waters in drawing in visitors. Indeed, in 1934 Budapest was officially ranked as a \"City of Spas\". Today, the baths are mostly frequented by the older generation, as, with the exception of the \"Magic Bath\" and \"Cinetrip\" water discos, young people tend to prefer the lidos which are open in the summer.\\nConstruction of the Király Baths started in 1565, and most of the present-day building dates from the Turkish period, including most notably the fine cupola-topped pool.\\nThe Rudas Baths are centrally placed – in the narrow strip of land between Gellért Hill and the River Danube – and also an outstanding example of architecture dating from the Turkish period. The central feature is an octagonal pool over which light shines from a 10 metres (33 ft) diameter cupola, supported by eight pillars.\\nThe Gellért Baths and Hotel were built in 1918, although there had once been Turkish baths on the site, and in the Middle Ages a hospital. In 1927, the Baths were extended to include the wave pool, and the effervescent bath was added in 1934. The well-preserved Art Nouveau interior includes colourful mosaics, marble columns, stained glass windows and statues.\\nThe Lukács Baths are also in Buda and are also Turkish in origin, although they were only revived at the end of the 19th century. This was also when the spa and treatment centre were founded. There is still something of an atmosphere of fin-de-siècle about the place, and all around the inner courtyard there are marble tablets recalling the thanks of patrons who were cured there. Since the 1950s it has been regarded as a centre for intellectuals and artists.\\nThe Széchenyi Baths are one of the largest bathing complexes in all Europe, and the only \"old\" medicinal baths to be found in the Pest side of the city. The indoor medicinal baths date from 1913 and the outdoor pools from 1927. There is an atmosphere of grandeur about the whole place with the bright, largest pools resembling aspects associated with Roman baths, the smaller bath tubs reminding one of the bathing culture of the Greeks, and the saunas and diving pools borrowed from traditions emanating in northern Europe. The three outdoor pools (one of which is a fun pool) are open all year, including winter. Indoors there are over ten separate pools, and a whole host of medical treatments is also available. The Szécheny Baths are built in modern Renaissance style.\\n\\n\\n== Infrastructure and transportation ==\\n\\n\\n=== Airport ===\\n\\nBudapest is served by Budapest Ferenc Liszt International Airport (BUD) (named after Franz Liszt, the notable Hungarian composer), one of the busiest airports in Central and Eastern Europe, located 16 kilometres (9.9 mi) east-southeast of the centre of Budapest, in the District XVIII. The airport offers international connections among all major European cities, and also to North America, Africa, Asia and the Middle East.\\nAs Hungary\\'s busiest airport, it handles nearly all of the country\\'s air passenger traffic. Budapest Liszt Ferenc handled around 250 scheduled flights daily in 2013, and an ever-rising number of charters. London, Brussels, Frankfurt, Munich, Paris, and Amsterdam are the busiest international connections respectively, while Toronto, Montreal, Dubai, Doha and Alicante are the most unusual in the region.\\nToday the airport serves as a base for Ryanair, Wizz Air, Budapest Aircraft Service, CityLine Hungary, Farnair Hungary and Travel Service Hungary among others. The airport is accessible via public transportation from the city centre by the Metro line 3 and then the airport bus No. 200E.As part of a strategic development plan, €561 million have been spent on expanding and modernising the airport infrastructure until December 2012. Most of these improvements are already completed, the postponed ones are the new cargo area and new piers for terminal 2A and 2B, but these development are on standby also, and will start immediately, when the airport traffic will reach the appropriate level.\\nSkyCourt, the newest, state-of-the-art building between the 2A and 2B terminals with 5 levels. Passenger safety checks were moved here along with new baggage classifiers and the new Malév and SkyTeam business lounges, as well as the first MasterCard lounge in Europe.\\n\\n\\n=== Public transportation ===\\n\\nPublic transit in Budapest is provided by the Centre for Budapest Transport (BKK, Budapesti Közlekedési Központ), one of the largest transportation authorities in Europe. BKK operates 4 metro lines (including the historic Line 1, the oldest underground railway in continental Europe), 5 suburban railway lines, 33 tram lines, 15 trolleybus lines, 264 bus lines (including 40 night routes), 4 boat services, and BuBi, a smart bicycle sharing network. On an average weekday, BKK lines transports 3.9 million riders; in 2011, it handled a total of 1.4 billion passengers. In 2014, the 65% of the passenger traffic in Budapest was by public transport and 35% by car. The aim is 80%–20% by 2030 in accordance with the strategy of BKK.The development of complex intelligent transportation system in the city is advancing; the application of smart traffic lights is widespread, they are GPS and computer controlled and give priority to the GPS connected public transport vehicles automatically, as well as the traffic is measured and analyzed on the roads and car drivers informed about the expected travel time and traffic by intelligent displays (EasyWay project). Public transport users are immediately notified of any changes in public transport online, on smartphones and on PIDS displays, as well car drivers can keep track of changes in traffic and road management in real-time online and on smartphones through the BKK Info. As well all vehicles can be followed online and on smartphones in real-time throughout the city with the Futár PIDS system, while the continuous introducing of integrated e-ticket system will help the measurement of passenger numbers on each line and the intelligent control of service frequency.\\nThe development of Futár, the citywide real-time passenger information system and real-time route planner is finished already and now all of the public transport vehicle is connected via satellite system. The real-time information of trams, buses and trolleybuses are available for both the operators in the control room and for all the passengers in all stops on smartphone and on city street displays.\\nThe implementation of latest generation automated fare collection and e-ticket system with NFC compatibility and reusable contactless smart cards for making electronic payments in online and offline systems in Budapest is started in 2014, the project is implemented and operated by the operator of Hong Kong Octopus card jointly with one of the leading European companies of e-ticket and automated fare collection, Scheidt & Bachmann. The deployment of 300 new digital contactless ticket vending machine will be finished by the end of 2014 in harmonization with the e-ticket system.\\n\\nThe tram lines no. 4 and 6 are the busiest city tram lines in the world, with one of the world\\'s longest trams (54-metre long Siemens Combino) running at 2–3-minute intervals at peak time and 4–5 minutes off-peak. Day services are usually from 4 am until between 11 pm and 0:30 am. Hungarian State Railways operates an extensive network of commuter rail services, their importance in the suburban commuter passenger traffic is significant, but in travel within the city is limited.\\nThe organiser of public transport in Budapest is the municipal corporation Centre for Budapest Transport (Budapesti Közlekedési Központ – BKK), that is responsible for planning and organising network and services, planning and developing tariff concepts, attending to public service procurer duties, managing public service contracts, operating controlling and monitoring systems, setting and monitoring service level agreements related to public transport, attending to customer service duties, selling and monitoring tickets and passes, attending to integrated passenger information duties, unified Budapest-centric traffic control within public transport, attending to duties related to river navigation, plus the management of Budapest roads, operating taxi stations, unified control of bicycle traffic development in the capital, preparing parking strategy and developing an operational concept, preparation of road traffic management, developing an optimal traffic management system, organising and co-ordinating road reconstruction and more, in short, everything which is related to transport in the city.\\n\\n\\n=== Roads and railways ===\\n\\nBudapest is the most important Hungarian road terminus, all of the major highways and railways end within the city limits. The road system in the city is designed in a similar manner to that of Paris, with several ring roads, and avenues radiating out from the center. Ring road M0 around Budapest is nearly completed, with only one section missing on the west side due to local disputes. The ring road is 80 kilometres (50 miles) in length, and once finished it will be 107 kilometres (66 mi) of highway in length.\\nThe city is a vital traffic hub because all major European roads and European railway lines lead to Budapest. The Danube was and is still today an important water-way and this region in the centre of the Carpathian Basin lies at the cross-roads of trade routes.\\nHungarian main line railways are operated by Hungarian State Railways. There are three main railway station in Budapest, Keleti (Eastern), Nyugati (Western) and Déli (Southern), operating both domestic and international rail services. Budapest is one of the main stops of the on its Central and Eastern European route. There is also a suburban rail service in and around Budapest, three lines of which are operated under the name HÉV.\\n\\n\\n=== Ports, shipping and others ===\\nThe river Danube flows through Budapest on its way from (Germany) to the Black Sea. The river is easily navigable and so Budapest historically has a major commercial port at Csepel District and at New Pest District also. The Pest side is also a famous port place with international shipping ports for cargo and for passenger ships. In the summer months, a scheduled hydrofoil service operates on the Danube connecting the city to Vienna.\\nBKK (through the operator BKV) also provides public transport with boat service within the borders of the city. Two routes, marked D11 and D12, connect the two banks with Margaret Island and Óbuda Island, from Rómaifürdő (Buda side, north to Óbuda Island) or Árpád Bridge (Pest side) to Rákóczi Bridge, with a total of 18 stops, while route D2 circulates in the downtown. Line D14 is a ferry service, connecting Királyerdő on the Csepel Island with Molnár Island on the Pest side, south to the city centre. In addition, several companies provides sightseeing boat trips and also an amphibious vehicle (bus and boat) operates constantly.\\nWater quality in Budapest harbours improved dramatically in the recent years, treatment facilities processed 100% of generated sewage in 2010. Budapesters regularly kayak, canoe, jet-ski and sail on the Danube, which has continuously become a major recreational site for the city.\\nSpecial vehicles in Budapest, besides metros, include suburban rails, trams and boats. There are a couple of less common vehicles in Budapest, like the trolleybus on several lines in Pest, the Castle Hill Funicular between the Chain Bridge and Buda Castle, the cyclecar for rent in Margaret Island, the chairlift, the Budapest Cog-wheel Railway and children\\'s railway. The latter three vehicles run among Buda hills.\\n\\n\\n== Culture and contemporary life ==\\n\\nThe culture of Budapest is reflected by Budapest\\'s size and variety. Most Hungarian cultural movements first emerged in the city. Budapest is an important center for music, film, theatre, dance and visual art. Artists have been drawn into the city by opportunity, as the city government funds the arts with adequate financial resources.\\nBudapest is the headquarters of the Hungarian LGBT community.\\nBudapest was named \"City of Design\" in December 2015 and has been a member of UNESCO Creative Cities Network since then.\\n\\n\\n=== Museums and galleries ===\\n\\nBudapest is packed with museums and galleries. The city glories in 223 museums and galleries, which presents several memories, next to the Hungarian ones as well those of universal and European culture and science. Here are the greatest examples among them: the Hungarian National Museum, the Hungarian National Gallery, the Museum of Fine Arts (where can see the pictures of Hungarian painters, like Victor Vasarely, Mihály Munkácsy and a great collection about Italian art, Dutch art, Spanish art and British art from before the 19th century and French art, British art, German art, Austrian art after the 19th century), the House of Terror, the Budapest Historical Museum, the Aquincum Museum, the Memento Park, Museum of Applied Arts and the contemporary arts exhibition Palace of Arts Budapest. In Budapest there are  837 monuments, which represent the most of the European artistic style. The classical and unique Hungarian Art Nouveau buildings are prominent.\\n\\n\\n=== Libraries ===\\nA lot of libraries have unique collections in Budapest, such as the National Széchenyi Library, which keeps historical relics from the age before the printing of books. The Metropolitan Szabó Ervin Library plays an important role in the general education of the capital\\'s population. Other libraries: The Library of the Hungarian Academy of Sciences, Eötvös University Library, the Parliamentary Library, Library of the Hungarian Central Statistical Office and the National Library of Foreign Literature.\\n\\n\\n=== Opera and theatres ===\\n\\nIn Budapest there are forty theatres, seven concert halls and an opera house. Outdoor festivals, concerts and lectures enrich the cultural offer of summer, which are often held in historical buildings. The largest theatre facilities are the Budapest Operetta and Musical Theatre, the József Attila Theatre, the Katona József Theatre, the Madách Theatre, the Hungarian State Opera House, the National Theatre, the Vigadó Concert Hall, Radnóti Miklós Theatre, the Comedy Theatre and the Palace of Arts, known as MUPA. The Budapest Opera Ball is an annual Hungarian society event taking place in the building of the Budapest Opera (Operaház) on the last Saturday of the carnival season, usually late February.\\n\\n\\n=== Performing arts and festivals ===\\n\\nSeveral annual festivals take place in Budapest.  The Sziget Festival is one of the largest outdoor music festival in Europe.  The Budapest Spring Festival includes concerts at several venues across the city. The Café Budapest Contemporary Arts Festival (formerly the Budapest Autumn Festival) brings free music, dance, art, and other cultural events to the streets of the city. The Budapest Wine Festival and Budapest Pálinka Festival, occurring each May, are gastronomy festivals focusing on culinary pleasures. The Budapest Pride (or Budapest Pride Film and Cultural Festival) occurs annually across the city, and usually involves a parade on the Andrássy Avenue. Other festivals include the Budapest Fringe Festival, which brings more than 500 artists in about 50 shows to produce a wide range of works in alternative theatre, dance, music and comedy outside the mainstream. The LOW Festival is a multidisciplinary contemporary cultural festival held in Hungary in the cities Budapest and Pécs from February until March; the name of the festival alludes to the Low Countries, the region encompassing the Netherlands and Flanders. The Budapest Jewish Summer Festival, in late August, is one of the largest in Europe.\\nThere are many symphony orchestras in Budapest, with the Budapest Philharmonic Orchestra being the preeminent one.  It was founded in 1853 by Ferenc Erkel and still presents regular concerts in the Hungarian State Opera House and National Theatre. Budapest also has one of the more active jazz scenes in Central Europe.The dance tradition of the Carpathian Basin is a unique area of the European dance culture, which is also a special transition between the Balkans and Western Europe regions. The city is home to several authentic Hungarian folk dance ensembles which range from small ensembles to professional troupes. Budapest is one of the few cities in the world with a high school for learning folk dance.\\n\\n\\n=== Fashion ===\\nBudapest is home to a fashion week twice a year, where the city\\'s fashion designers and houses present their collections and provide a meeting place for the fashion industry representatives. Budapest Fashion Week additionally a place for designers from other countries may present their collections in Budapest. Hungarian models, like Barbara Palvin, Enikő Mihalik, Diána Mészáros, Viktória Vámosi usually appearing at these events along international participants.\\nFashion brands like Zara, H&M, Mango, ESPRIT, Douglas AG, Lacoste, Nike and other retail fashion brands are common across the city\\'s shopping malls and on the streets.Major luxury fashion brands such as Roberto Cavalli, Dolce & Gabbana, Gucci, Versace, Ferragamo, Moschino, Prada and Hugo Boss, can be found among the city\\'s most prestigious shopping streets, the Fashion Street, Váci Street and Andrássy Avenue in Budapest\\'s main upscale fashion district, the Leopoldtown.\\n\\n\\n=== Media ===\\n\\nBudapest is a prominent location for the Hungarian entertainment industry, with many films, television series, books, and other media set there. Budapest is the largest centre for film and television production in Hungary. In 2011, it employed more than 50,000 people and generated 63.9% of revenues of the media industry in the country.\\nBudapest is the media centre of Hungary, and the location of the main headquarters of Hungarian Television and other local and national TV and radio stations, such as M1, M2, Duna TV, Duna World, RTL Klub, TV2 (Hungary), EuroNews, Comedy Central, MTV Hungary, VIVA Hungary, Viasat 3, Cool TV, and Pro4, and politics and news channels such as Hír TV, ATV, and Echo TV. Documentary channels include Discovery Channel, Discovery Science, Discovery World, National Geographic Channel, Nat Geo Wild, Spektrum, and BBC Entertainment. This is less than a quarter of the channels broadcast from Budapest; for the whole picture see Television in Hungary.\\nIn 2012, there were 7.2 million internet users in Hungary (72% of the population). and there were 2.3 million subscriptions for mobile broadband.\\n\\n\\n=== Cuisine ===\\n\\nIn the modern age, Budapest developed its own peculiar cuisine, based on products of the nearby region, such as lamb, pork and vegetables special to the region. Modern Hungarian cuisine is a synthesis of ancient Asiatic components mixed with French, Germanic, Italian, and Slavic elements. The food of Hungary can be considered a melting pot of the continent, with a culinary base formed from its own, original Magyar cuisine. Considerable numbers of Saxons, Armenians, Italians, Jews and Serbs settled in the Hungarian basin and in Transylvania, also contributing with different new dishes. Elements of ancient Turkish cuisine were adopted during the Ottoman era, in the form of sweets (for example different nougats, like white nougat called törökméz), quince (birsalma), Turkish delight, Turkish coffee or rice dishes like pilaf, meat and vegetable dishes like the eggplant, used in eggplant salads and appetizers, stuffed peppers and stuffed cabbage called töltött káposzta. Hungarian cuisine was influenced by Austrian cuisine under the Austro-Hungarian Empire, dishes and methods of food preparation have often been borrowed from Austrian cuisine, and vice versa.Budapest restaurants reflect diversity, with menus carrying traditional regional cuisine, fusions of various culinary influences, or innovating in the leading edge of new techniques. Budapest\\' food shops also have a solid reputation for supplying quality specialised culinary products and supplies, reputations that are often built up over generations. These include many shops, such as Café Gerbeaud, one of the greatest and most traditional coffeehouses in Europe, or the Gundel restaurant and gastro shop in the City Park.\\nFoodies can also find the highest quality foods served in several Michelin-starred restaurants, like Onyx, Costes, Borkonyha or Tanti.\\n\\n\\n=== In fiction ===\\nThe 1906 novel The Paul Street Boys, the 1937 novel Journey by Moonlight, the 1957 book The Bridge at Andau, the 1975 novel Fateless, the 1977 novel The End of a Family Story, the 1986 book Between the Woods and the Water, the 1992 novel Under the Frog, the 1987 novel The Door, the 2002 novel Prague, the 2003 book Budapeste, the 2004 novel Ballad of the Whisky Robber, the 2005 novels Parallel Stories and The Historian, the 2012 novel Budapest Noir are set, amongst others, partly or entirely in Budapest. Some of the better known feature films set in Budapest are Kontroll, The District!, Ein Lied von Liebe und Tod, Sunshine, An American Rhapsody, As You Desire Me, The Good Fairy, Hanna\\'s War, The Journey, Ladies in Love, Music Box, The Shop Around the Corner, Zoo in Budapest, Underworld, Mission: Impossible – Ghost Protocol and Spy. The Grand Budapest Hotel (2014) is a Wes Anderson film. It was filmed in Germany, and set in the fictional Republic of Zubrowka, which is in the alpine mountains of Hungary.\\n\\n\\n== Sports ==\\n\\nBudapest hosted many global sport event in the past, among others the 1994 IAAF World Cross Country Championships, 1997 World Amateur Boxing Championships, 2000 World Fencing Championships, 2001 World Allround Speed Skating Championships, Bandy World Championship 2004, 2008 World Interuniversity Games, 2008 World Modern Pentathlon Championships, 2010 ITU World Championship Series, 2011 IIHF World Championship, 2012 European Speed Skating Championships, 2013 World Fencing Championships, 2013 World Wrestling Championships, 2014 World Masters Athletics Championships, 2017 World Aquatics Championships, and 2017 World Judo Championships, only in the last two-decade. Besides these, Budapest was the home of many European-level tournaments, like 2006 European Aquatics Championships, 2010 European Aquatics Championships, 2010 UEFA Futsal Championship, 2013 European Judo Championships, 2013 European Karate Championships and will be the host of 2023 World Championships in Athletics and 4 matches in the UEFA Euro 2020, which will be held in the 67,215-seat new multi-purpose Puskás Ferenc Stadium, to mention a few.\\nIn 2015 the Assembly of the Hungarian Olympic Committee and the Assembly of Budapest decided to bid for the 2024 Summer Olympics. Budapest has lost several bids to host the games, in 1916, 1920, 1936, 1944, and 1960 to Berlin, Antwerp, London, and Rome, respectively. The Hungarian Parliament also voted to support the bid on 28 January 2016, later Budapest City Council approved list of venues and Budapest became an official candidate for the 2024 Summer Olympic Games. However, they have recently withdrawn and only Paris and Los Angeles remain as candidates for the 2024 Olympics.\\nNumerous Olympic, World, and European Championship winners and medalists reside in the city, which follows from Hungary\\'s 8th place among all the nations of the world in the All-time Olympic Games medal table.\\nHungarians have always been avid sports people: during the history of the Summer Olympic Games, Hungarians have brought home 476 medals, of which 167 are gold. The top events in which Hungarians have excelled are fencing, swimming, water polo, canoeing, wrestling and track & field sports. Beside classic sports, recreational modern sports such as bowling, pool billiard, darts, go-carting, wakeboarding and squash are very popular in Budapest, and extreme sports are also gaining ground. Furthermore, the Budapest Marathon and Budapest Half Marathon also attract many people every year. The city\\'s largest football stadium is named after Ferenc Puskás, recognised as the top scorer of the 20th century and for whom FIFA\\'s Puskás Award (Ballon d\\'Or) was named.One of Budapest\\'s most popular sport is football and it has many Hungarian League football club, including in the top level Nemzeti Bajnokság I league, like Ferencvárosi TC (29 Hungarian League titles), MTK Budapest FC (23 titles), Újpest FC (20 titles), Budapest Honvéd FC (13 titles), Vasas SC (6 titles), Csepel SC (4 titles), Budapesti TC (2 titles).\\nThe Hungarian Grand Prix in Formula One has been held at the Hungaroring just outside the city, which circuit has FIA Grade 1 license. Since 1986, the race has been a round of the FIA Formula One World Championship. At the 2013 Hungarian Grand Prix, it was confirmed that Hungary will continue to host a Formula 1 race until 2021. The track was completely resurfaced for the first time in early 2016, and it was announced the Grand Prix\\'s deal was extended for a further 5 years, until 2026.Budapest is home to three four-star UEFA stadiums: Puskás Aréna, Groupama Aréna and two three-star UEFA stadia: Hidegkuti Nándor Stadion and Bozsik József Stadion.\\n\\n\\n== Education ==\\n\\nBudapest is home to over 35 higher education institutions, many of which are universities. Under the Bologna Process, many offered qualifications are recognised in countries across Europe. Medicine, dentistry, pharmaceuticals, veterinary programs, and engineering are among the most popular fields for foreigners to undertake in Budapest. Most universities in Budapest offer courses in English, as well as in other languages like German, French, and Dutch, aimed specifically at foreigners. Many students from other European countries spend one or two semesters in Budapest through the Erasmus Programme.\\n\\n\\n== Notable people ==\\n\\n\\n== International relations ==\\nBudapest has quite a few sister cities and many partner cities around the world.\\nLike Budapest, many of them are the most influential and largest cities of their country and region, most of them are the primate city and political, economical, cultural capital of their country.\\nThe Mayor of Budapest says the aim of improving sister city relationships is to allow and encourage a mutual exchange of information and experiences, as well as co-operation, in the areas of city management, education, culture, tourism, media and communication, trade and business development.\\n\\n\\n=== Historic sister cities ===\\n\\n\\n=== Partnerships around the world ===\\nSome of the city\\'s districts are also twinned to small cities or districts of other big cities; for details see the article List of districts and towns in Budapest.\\n\\n\\n== See also ==\\n\\nBridges of Budapest\\nBudapest metropolitan area\\nFort Budapest\\nList of cemeteries in Budapest\\nList of films shot in Budapest\\nList of historical capitals of Hungary\\nMusic of Budapest\\nOutline of Hungary\\nSpas in Budapest\\nUrban and Suburban Transit Association (most of its activity is centred on Budapest)\\n\\n\\n== References ==\\n\\n\\n=== Bibliography ===\\nBudapest: Eyewitness Travel Guildes. DK Travel. 2007. ISBN 978-0-7566-2435-4.\\nBarber, Annabel (2004). Visible Cities Budapest: A City Guide. Somerset. ISBN 978-963-212-986-0.\\nUngvary, Krisztian (2006). The Siege of Budapest: One Hundred Days in World War II. Yale University Press. ISBN 978-0-300-11985-5.\\nMolnar, Miklos (2001). A Concise History of Hungary. Cambridge Concise Histories. Cambridge University Press. ISBN 978-0-521-66736-4.\\nFallon, Steve (2016), Boston, Massachusetts, https://www.lonelyplanet.com/hungary/budapest\\n\\n\\n== External links ==\\n\\nOfficial website'"
      ]
     },
     "execution_count": 74,
     "metadata": {},
     "output_type": "execute_result"
    }
   ],
   "source": [
    "budapest_content"
   ]
  },
  {
   "cell_type": "markdown",
   "metadata": {},
   "source": [
    "### Challenge: Write the string stored with the name BP_page in a file named `Budapest_wiki.txt`. Save the file in the `Output` folder. "
   ]
  },
  {
   "cell_type": "code",
   "execution_count": 75,
   "metadata": {},
   "outputs": [],
   "source": [
    "import re\n",
    "budapest_content_clean = re.sub('[^a-zA-Z]+', ' ', budapest_content)"
   ]
  },
  {
   "cell_type": "code",
   "execution_count": 76,
   "metadata": {},
   "outputs": [],
   "source": [
    "budapest_content_tokens=budapest_content_clean.lower().split()"
   ]
  },
  {
   "cell_type": "code",
   "execution_count": 77,
   "metadata": {},
   "outputs": [
    {
     "data": {
      "text/plain": [
       "['budapest',\n",
       " 'hungarian',\n",
       " 'pronunciation',\n",
       " 'bud',\n",
       " 'p',\n",
       " 't',\n",
       " 'is',\n",
       " 'the',\n",
       " 'capital',\n",
       " 'and']"
      ]
     },
     "execution_count": 77,
     "metadata": {},
     "output_type": "execute_result"
    }
   ],
   "source": [
    "budapest_content_tokens[0:10]"
   ]
  },
  {
   "cell_type": "markdown",
   "metadata": {},
   "source": [
    "### Challenge: Open the file nltk_stopwords.txt and store it's content in a list called `nltk_stopwords` where each element of the list is a line of the document. Use the method `replace()`  if needed."
   ]
  },
  {
   "cell_type": "code",
   "execution_count": 78,
   "metadata": {},
   "outputs": [],
   "source": [
    "nltk= open(\"Input/nltk_stopwords.txt\", mode='r')\n",
    "nltk_stopwords=[element.replace(\"\\n\",\"\") for element in nltk.readlines()]"
   ]
  },
  {
   "cell_type": "code",
   "execution_count": 79,
   "metadata": {},
   "outputs": [],
   "source": [
    "budapest_stopwords_removed = [word for word in budapest_content_tokens if word not in nltk_stopwords and len(word)>3]"
   ]
  },
  {
   "cell_type": "code",
   "execution_count": 80,
   "metadata": {},
   "outputs": [
    {
     "data": {
      "text/plain": [
       "Counter({'budapest': 261,\n",
       "         'hungarian': 86,\n",
       "         'pronunciation': 2,\n",
       "         'capital': 24,\n",
       "         'populous': 3,\n",
       "         'city': 152,\n",
       "         'hungary': 76,\n",
       "         'ninth': 1,\n",
       "         'largest': 27,\n",
       "         'european': 35,\n",
       "         'union': 3,\n",
       "         'population': 20,\n",
       "         'within': 14,\n",
       "         'limits': 4,\n",
       "         'estimated': 2,\n",
       "         'land': 2,\n",
       "         'area': 20,\n",
       "         'square': 44,\n",
       "         'kilometres': 17,\n",
       "         'miles': 7,\n",
       "         'county': 4,\n",
       "         'forms': 1,\n",
       "         'centre': 23,\n",
       "         'metropolitan': 7,\n",
       "         'comprising': 1,\n",
       "         'history': 9,\n",
       "         'began': 2,\n",
       "         'early': 9,\n",
       "         'celtic': 1,\n",
       "         'settlement': 4,\n",
       "         'transformed': 1,\n",
       "         'roman': 10,\n",
       "         'town': 2,\n",
       "         'aquincum': 9,\n",
       "         'lower': 3,\n",
       "         'pannonia': 3,\n",
       "         'hungarians': 9,\n",
       "         'arrived': 1,\n",
       "         'territory': 6,\n",
       "         'late': 8,\n",
       "         'century': 26,\n",
       "         'pillaged': 1,\n",
       "         'mongols': 1,\n",
       "         'established': 5,\n",
       "         'buda': 62,\n",
       "         'became': 9,\n",
       "         'centres': 4,\n",
       "         'renaissance': 8,\n",
       "         'humanist': 1,\n",
       "         'culture': 9,\n",
       "         'battle': 4,\n",
       "         'followed': 3,\n",
       "         'nearly': 6,\n",
       "         'years': 13,\n",
       "         'ottoman': 5,\n",
       "         'rule': 5,\n",
       "         'reconquest': 1,\n",
       "         'region': 9,\n",
       "         'entered': 2,\n",
       "         'prosperity': 2,\n",
       "         'pest': 33,\n",
       "         'becoming': 1,\n",
       "         'global': 10,\n",
       "         'unification': 3,\n",
       "         'november': 5,\n",
       "         'name': 11,\n",
       "         'given': 2,\n",
       "         'also': 67,\n",
       "         'austro': 2,\n",
       "         'empire': 3,\n",
       "         'great': 9,\n",
       "         'power': 3,\n",
       "         'dissolved': 1,\n",
       "         'following': 4,\n",
       "         'world': 52,\n",
       "         'focal': 2,\n",
       "         'point': 7,\n",
       "         'revolution': 3,\n",
       "         'beta': 2,\n",
       "         'strengths': 1,\n",
       "         'commerce': 2,\n",
       "         'finance': 5,\n",
       "         'media': 9,\n",
       "         'fashion': 13,\n",
       "         'research': 9,\n",
       "         'technology': 7,\n",
       "         'education': 7,\n",
       "         'entertainment': 5,\n",
       "         'financial': 6,\n",
       "         'ranked': 4,\n",
       "         'second': 11,\n",
       "         'fastest': 2,\n",
       "         'developing': 5,\n",
       "         'urban': 6,\n",
       "         'economy': 7,\n",
       "         'europe': 31,\n",
       "         'headquarters': 8,\n",
       "         'institute': 6,\n",
       "         'innovation': 6,\n",
       "         'police': 3,\n",
       "         'college': 1,\n",
       "         'first': 18,\n",
       "         'foreign': 4,\n",
       "         'office': 7,\n",
       "         'china': 2,\n",
       "         'investment': 2,\n",
       "         'promotion': 1,\n",
       "         'agency': 1,\n",
       "         'colleges': 1,\n",
       "         'universities': 5,\n",
       "         'located': 14,\n",
       "         'including': 16,\n",
       "         'university': 10,\n",
       "         'semmelweis': 1,\n",
       "         'economics': 2,\n",
       "         'opened': 5,\n",
       "         'subway': 2,\n",
       "         'system': 14,\n",
       "         'metro': 4,\n",
       "         'serves': 4,\n",
       "         'million': 14,\n",
       "         'tram': 4,\n",
       "         'network': 9,\n",
       "         'passengers': 3,\n",
       "         'daily': 2,\n",
       "         'central': 26,\n",
       "         'along': 9,\n",
       "         'danube': 25,\n",
       "         'river': 14,\n",
       "         'classified': 2,\n",
       "         'unesco': 6,\n",
       "         'heritage': 5,\n",
       "         'site': 7,\n",
       "         'several': 14,\n",
       "         'notable': 6,\n",
       "         'monuments': 6,\n",
       "         'parliament': 11,\n",
       "         'castle': 17,\n",
       "         'around': 19,\n",
       "         'geothermal': 1,\n",
       "         'springs': 4,\n",
       "         'thermal': 5,\n",
       "         'water': 10,\n",
       "         'cave': 5,\n",
       "         'synagogue': 6,\n",
       "         'third': 7,\n",
       "         'building': 17,\n",
       "         'attracts': 1,\n",
       "         'international': 21,\n",
       "         'tourists': 3,\n",
       "         'year': 13,\n",
       "         'making': 5,\n",
       "         'highly': 2,\n",
       "         'popular': 6,\n",
       "         'destination': 2,\n",
       "         'chosen': 1,\n",
       "         'best': 9,\n",
       "         'major': 12,\n",
       "         'poll': 2,\n",
       "         'conducted': 2,\n",
       "         'tourism': 6,\n",
       "         'organisation': 1,\n",
       "         'partnering': 1,\n",
       "         'commission': 2,\n",
       "         'topped': 2,\n",
       "         'destinations': 1,\n",
       "         'list': 9,\n",
       "         'ranks': 1,\n",
       "         'similar': 2,\n",
       "         'magazine': 1,\n",
       "         'etymology': 1,\n",
       "         'previously': 1,\n",
       "         'separate': 2,\n",
       "         'towns': 5,\n",
       "         'officially': 6,\n",
       "         'unified': 3,\n",
       "         'together': 2,\n",
       "         'sometimes': 3,\n",
       "         'referred': 3,\n",
       "         'colloquially': 2,\n",
       "         'used': 5,\n",
       "         'shortened': 1,\n",
       "         'varieties': 1,\n",
       "         'english': 6,\n",
       "         'pronounce': 1,\n",
       "         'word': 4,\n",
       "         'pronounced': 2,\n",
       "         'either': 2,\n",
       "         'like': 25,\n",
       "         'food': 6,\n",
       "         'wash': 1,\n",
       "         'listen': 1,\n",
       "         'origin': 4,\n",
       "         'names': 4,\n",
       "         'obscure': 1,\n",
       "         'probably': 1,\n",
       "         'constable': 1,\n",
       "         'fortress': 2,\n",
       "         'built': 20,\n",
       "         'hill': 9,\n",
       "         'derivative': 2,\n",
       "         'personal': 2,\n",
       "         'turkic': 2,\n",
       "         'meaning': 1,\n",
       "         'twig': 2,\n",
       "         'slavic': 4,\n",
       "         'short': 2,\n",
       "         'form': 4,\n",
       "         'budim': 1,\n",
       "         'budivoj': 1,\n",
       "         'linguistically': 1,\n",
       "         'however': 5,\n",
       "         'german': 10,\n",
       "         'voda': 1,\n",
       "         'possible': 2,\n",
       "         'certainty': 1,\n",
       "         'really': 1,\n",
       "         'comes': 2,\n",
       "         'buta': 1,\n",
       "         'branch': 2,\n",
       "         'according': 8,\n",
       "         'legend': 1,\n",
       "         'recorded': 1,\n",
       "         'chronicles': 2,\n",
       "         'middle': 5,\n",
       "         'ages': 3,\n",
       "         'founder': 1,\n",
       "         'bleda': 1,\n",
       "         'brother': 1,\n",
       "         'hunnic': 1,\n",
       "         'ruler': 1,\n",
       "         'attila': 2,\n",
       "         'theories': 1,\n",
       "         'states': 2,\n",
       "         'derives': 1,\n",
       "         'times': 3,\n",
       "         'since': 10,\n",
       "         'local': 4,\n",
       "         'contra': 1,\n",
       "         'called': 5,\n",
       "         'ptolemaios': 1,\n",
       "         'pession': 1,\n",
       "         'another': 9,\n",
       "         'originates': 1,\n",
       "         'tera': 1,\n",
       "         'cites': 1,\n",
       "         'referencing': 1,\n",
       "         'fires': 1,\n",
       "         'burned': 1,\n",
       "         'limekiln': 1,\n",
       "         'celts': 1,\n",
       "         'later': 6,\n",
       "         'occupied': 4,\n",
       "         'romans': 3,\n",
       "         'main': 12,\n",
       "         'inferior': 1,\n",
       "         'military': 3,\n",
       "         'gradually': 2,\n",
       "         'rose': 1,\n",
       "         'commercial': 2,\n",
       "         'life': 3,\n",
       "         'today': 8,\n",
       "         'corresponds': 1,\n",
       "         'district': 41,\n",
       "         'constructed': 3,\n",
       "         'roads': 9,\n",
       "         'amphitheaters': 1,\n",
       "         'baths': 21,\n",
       "         'houses': 5,\n",
       "         'heated': 1,\n",
       "         'floors': 1,\n",
       "         'fortified': 1,\n",
       "         'camp': 1,\n",
       "         'conserved': 1,\n",
       "         'sites': 4,\n",
       "         'archaeological': 1,\n",
       "         'turned': 2,\n",
       "         'museum': 14,\n",
       "         'inside': 2,\n",
       "         'open': 4,\n",
       "         'sections': 1,\n",
       "         'magyar': 3,\n",
       "         'tribes': 1,\n",
       "         'forced': 1,\n",
       "         'original': 6,\n",
       "         'homeland': 1,\n",
       "         'north': 12,\n",
       "         'bulgaria': 2,\n",
       "         'tsar': 1,\n",
       "         'simeon': 1,\n",
       "         'southern': 2,\n",
       "         'settled': 2,\n",
       "         'displacing': 1,\n",
       "         'founding': 1,\n",
       "         'bulgarian': 1,\n",
       "         'settlers': 1,\n",
       "         'founded': 3,\n",
       "         'kingdom': 2,\n",
       "         'places': 7,\n",
       "         'probable': 1,\n",
       "         'residence': 2,\n",
       "         'place': 15,\n",
       "         'near': 4,\n",
       "         'tatar': 1,\n",
       "         'invasion': 1,\n",
       "         'quickly': 1,\n",
       "         'proved': 1,\n",
       "         'difficult': 1,\n",
       "         'defend': 1,\n",
       "         'plain': 5,\n",
       "         'king': 6,\n",
       "         'therefore': 2,\n",
       "         'ordered': 2,\n",
       "         'construction': 5,\n",
       "         'reinforced': 1,\n",
       "         'stone': 2,\n",
       "         'walls': 1,\n",
       "         'royal': 4,\n",
       "         'palace': 15,\n",
       "         'protecting': 1,\n",
       "         'hills': 10,\n",
       "         'cultural': 9,\n",
       "         'role': 3,\n",
       "         'particularly': 4,\n",
       "         'significant': 6,\n",
       "         'reign': 1,\n",
       "         'matthias': 4,\n",
       "         'corvinus': 3,\n",
       "         'italian': 6,\n",
       "         'influence': 2,\n",
       "         'library': 10,\n",
       "         'bibliotheca': 1,\n",
       "         'corviniana': 1,\n",
       "         'greatest': 3,\n",
       "         'collection': 4,\n",
       "         'historical': 6,\n",
       "         'philosophic': 1,\n",
       "         'scientific': 1,\n",
       "         'works': 2,\n",
       "         'size': 2,\n",
       "         'vatican': 1,\n",
       "         'foundation': 1,\n",
       "         'book': 5,\n",
       "         'printed': 1,\n",
       "         'inhabitants': 5,\n",
       "         'ottomans': 1,\n",
       "         'conquered': 2,\n",
       "         'well': 22,\n",
       "         'finally': 3,\n",
       "         'turkish': 15,\n",
       "         'lasted': 2,\n",
       "         'turks': 6,\n",
       "         'many': 29,\n",
       "         'prominent': 3,\n",
       "         'bathing': 4,\n",
       "         'facilities': 4,\n",
       "         'erected': 2,\n",
       "         'still': 11,\n",
       "         'rudas': 3,\n",
       "         'number': 6,\n",
       "         'christians': 2,\n",
       "         'thousand': 1,\n",
       "         'fallen': 1,\n",
       "         'seventy': 1,\n",
       "         'unoccupied': 1,\n",
       "         'western': 5,\n",
       "         'part': 11,\n",
       "         'country': 13,\n",
       "         'habsburg': 1,\n",
       "         'monarchy': 2,\n",
       "         'unsuccessful': 1,\n",
       "         'siege': 2,\n",
       "         'renewed': 1,\n",
       "         'campaign': 1,\n",
       "         'started': 3,\n",
       "         'enter': 1,\n",
       "         'time': 12,\n",
       "         'holy': 3,\n",
       "         'league': 5,\n",
       "         'army': 2,\n",
       "         'twice': 2,\n",
       "         'large': 8,\n",
       "         'containing': 2,\n",
       "         'croat': 1,\n",
       "         'dutch': 3,\n",
       "         'spanish': 3,\n",
       "         'czech': 1,\n",
       "         'french': 6,\n",
       "         'burgundian': 1,\n",
       "         'danish': 1,\n",
       "         'swedish': 3,\n",
       "         'soldiers': 2,\n",
       "         'europeans': 1,\n",
       "         'volunteers': 1,\n",
       "         'artillerymen': 1,\n",
       "         'officers': 1,\n",
       "         'christian': 2,\n",
       "         'forces': 2,\n",
       "         'seized': 1,\n",
       "         'next': 6,\n",
       "         'former': 5,\n",
       "         'lands': 2,\n",
       "         'except': 1,\n",
       "         'areas': 6,\n",
       "         'temesv': 1,\n",
       "         'timi': 1,\n",
       "         'oara': 1,\n",
       "         'taken': 1,\n",
       "         'treaty': 2,\n",
       "         'karlowitz': 1,\n",
       "         'territorial': 2,\n",
       "         'changes': 6,\n",
       "         'recognized': 2,\n",
       "         'show': 2,\n",
       "         'entire': 2,\n",
       "         'removed': 3,\n",
       "         'contemporary': 8,\n",
       "         'dominated': 2,\n",
       "         'struggle': 1,\n",
       "         'independence': 1,\n",
       "         'modernisation': 1,\n",
       "         'national': 22,\n",
       "         'insurrection': 1,\n",
       "         'habsburgs': 1,\n",
       "         'defeated': 1,\n",
       "         'half': 4,\n",
       "         'help': 2,\n",
       "         'russian': 2,\n",
       "         'reconciliation': 1,\n",
       "         'brought': 2,\n",
       "         'birth': 1,\n",
       "         'austria': 2,\n",
       "         'made': 3,\n",
       "         'twin': 1,\n",
       "         'dual': 1,\n",
       "         'compromise': 1,\n",
       "         'phase': 1,\n",
       "         'development': 12,\n",
       "         'lasting': 2,\n",
       "         'chain': 8,\n",
       "         'bridge': 26,\n",
       "         'linking': 2,\n",
       "         'permanent': 1,\n",
       "         'across': 5,\n",
       "         'merged': 1,\n",
       "         'thus': 1,\n",
       "         'creating': 1,\n",
       "         'metropolis': 1,\n",
       "         'dynamic': 1,\n",
       "         'grew': 1,\n",
       "         'administrative': 3,\n",
       "         'political': 6,\n",
       "         'economic': 3,\n",
       "         'trade': 5,\n",
       "         'ethnic': 4,\n",
       "         'overtook': 1,\n",
       "         'germans': 4,\n",
       "         'mass': 2,\n",
       "         'migration': 6,\n",
       "         'overpopulated': 1,\n",
       "         'rural': 1,\n",
       "         'transdanubia': 2,\n",
       "         'proportion': 3,\n",
       "         'increased': 3,\n",
       "         'dominant': 2,\n",
       "         'language': 3,\n",
       "         'crowded': 1,\n",
       "         'jews': 8,\n",
       "         'peaked': 1,\n",
       "         'jewish': 6,\n",
       "         'community': 2,\n",
       "         'start': 5,\n",
       "         'often': 8,\n",
       "         'mecca': 2,\n",
       "         'judapest': 1,\n",
       "         'lost': 4,\n",
       "         'collapsed': 1,\n",
       "         'declared': 3,\n",
       "         'independent': 2,\n",
       "         'republic': 5,\n",
       "         'trianon': 1,\n",
       "         'partitioned': 1,\n",
       "         'result': 2,\n",
       "         'thirds': 3,\n",
       "         'partly': 2,\n",
       "         'destroyed': 7,\n",
       "         'british': 5,\n",
       "         'american': 2,\n",
       "         'raids': 1,\n",
       "         'attack': 1,\n",
       "         'april': 3,\n",
       "         'december': 4,\n",
       "         'february': 4,\n",
       "         'besieged': 1,\n",
       "         'suffered': 1,\n",
       "         'damage': 2,\n",
       "         'caused': 2,\n",
       "         'attacking': 1,\n",
       "         'soviet': 5,\n",
       "         'romanian': 1,\n",
       "         'troops': 4,\n",
       "         'defending': 1,\n",
       "         'civilians': 1,\n",
       "         'lives': 2,\n",
       "         'conflict': 1,\n",
       "         'bridges': 5,\n",
       "         'lions': 1,\n",
       "         'decorated': 2,\n",
       "         'survived': 1,\n",
       "         'devastation': 1,\n",
       "         'greater': 3,\n",
       "         'died': 1,\n",
       "         'nazi': 3,\n",
       "         'arrow': 1,\n",
       "         'cross': 7,\n",
       "         'party': 4,\n",
       "         'occupation': 4,\n",
       "         'swiss': 3,\n",
       "         'diplomat': 3,\n",
       "         'carl': 2,\n",
       "         'lutz': 2,\n",
       "         'rescued': 2,\n",
       "         'tens': 2,\n",
       "         'thousands': 7,\n",
       "         'issuing': 1,\n",
       "         'protection': 5,\n",
       "         'papers': 2,\n",
       "         'designating': 1,\n",
       "         'numerous': 4,\n",
       "         'buildings': 26,\n",
       "         'famous': 6,\n",
       "         'glass': 3,\n",
       "         'house': 9,\n",
       "         'vegh': 1,\n",
       "         'street': 13,\n",
       "         'protected': 2,\n",
       "         'found': 10,\n",
       "         'refuge': 1,\n",
       "         'neighboring': 1,\n",
       "         'raoul': 1,\n",
       "         'wallenberg': 3,\n",
       "         'saved': 2,\n",
       "         'giving': 2,\n",
       "         'taking': 4,\n",
       "         'consular': 1,\n",
       "         'abducted': 1,\n",
       "         'russians': 1,\n",
       "         'january': 2,\n",
       "         'never': 1,\n",
       "         'regained': 1,\n",
       "         'freedom': 1,\n",
       "         'giorgio': 2,\n",
       "         'perlasca': 2,\n",
       "         'citizen': 1,\n",
       "         'posing': 1,\n",
       "         'diplomats': 1,\n",
       "         'abandoned': 1,\n",
       "         'diplomatic': 1,\n",
       "         'protocol': 2,\n",
       "         'liberation': 1,\n",
       "         'germany': 3,\n",
       "         'ensued': 1,\n",
       "         'ended': 1,\n",
       "         'soviets': 1,\n",
       "         'exerted': 1,\n",
       "         'affairs': 1,\n",
       "         'communist': 5,\n",
       "         'people': 26,\n",
       "         'government': 11,\n",
       "         'considered': 2,\n",
       "         'symbols': 2,\n",
       "         'regime': 3,\n",
       "         'gutted': 1,\n",
       "         'interiors': 1,\n",
       "         'stalin': 1,\n",
       "         'october': 6,\n",
       "         'citizens': 2,\n",
       "         'held': 7,\n",
       "         'peaceful': 1,\n",
       "         'demonstration': 1,\n",
       "         'demanding': 1,\n",
       "         'democratic': 2,\n",
       "         'reform': 1,\n",
       "         'demonstrators': 3,\n",
       "         'went': 1,\n",
       "         'radio': 2,\n",
       "         'station': 3,\n",
       "         'demanded': 2,\n",
       "         'publish': 1,\n",
       "         'demands': 1,\n",
       "         'shoot': 1,\n",
       "         'crowd': 1,\n",
       "         'gave': 1,\n",
       "         'rifles': 1,\n",
       "         'able': 1,\n",
       "         'capture': 1,\n",
       "         'initiated': 1,\n",
       "         'appoint': 1,\n",
       "         'imre': 1,\n",
       "         'nagy': 2,\n",
       "         'prime': 2,\n",
       "         'minister': 2,\n",
       "         'surprise': 1,\n",
       "         'committee': 2,\n",
       "         'working': 1,\n",
       "         'evening': 1,\n",
       "         'uprising': 1,\n",
       "         'anti': 1,\n",
       "         'revolt': 3,\n",
       "         'leave': 1,\n",
       "         'warsaw': 2,\n",
       "         'pact': 1,\n",
       "         'become': 2,\n",
       "         'neutral': 1,\n",
       "         'tanks': 1,\n",
       "         'crush': 1,\n",
       "         'fighting': 1,\n",
       "         'continued': 1,\n",
       "         'leaving': 1,\n",
       "         'dead': 1,\n",
       "         'monument': 4,\n",
       "         'fiftieth': 1,\n",
       "         'anniversary': 1,\n",
       "         'edge': 2,\n",
       "         'park': 14,\n",
       "         'shape': 2,\n",
       "         'wedge': 1,\n",
       "         'angle': 1,\n",
       "         'degree': 1,\n",
       "         'rusted': 1,\n",
       "         'iron': 2,\n",
       "         'becomes': 1,\n",
       "         'shiny': 1,\n",
       "         'ending': 1,\n",
       "         'intersection': 1,\n",
       "         'symbolize': 1,\n",
       "         'temporarily': 1,\n",
       "         'eradicated': 1,\n",
       "         'leadership': 1,\n",
       "         'satirically': 1,\n",
       "         'happiest': 1,\n",
       "         'barrack': 1,\n",
       "         'eastern': 12,\n",
       "         'bloc': 1,\n",
       "         'much': 5,\n",
       "         'wartime': 1,\n",
       "         'repaired': 1,\n",
       "         'work': 3,\n",
       "         'erzs': 2,\n",
       "         'last': 6,\n",
       "         'rebuilt': 5,\n",
       "         'finished': 4,\n",
       "         'east': 9,\n",
       "         'west': 5,\n",
       "         'line': 8,\n",
       "         'banks': 4,\n",
       "         'included': 1,\n",
       "         'andr': 8,\n",
       "         'avenue': 7,\n",
       "         'millennium': 4,\n",
       "         'underground': 4,\n",
       "         'railway': 10,\n",
       "         'tere': 1,\n",
       "         'rosliget': 1,\n",
       "         'added': 2,\n",
       "         'reached': 1,\n",
       "         'recent': 3,\n",
       "         'decrease': 2,\n",
       "         'occurred': 1,\n",
       "         'mainly': 2,\n",
       "         'massive': 1,\n",
       "         'movement': 1,\n",
       "         'neighbouring': 2,\n",
       "         'agglomeration': 2,\n",
       "         'suburbanisation': 1,\n",
       "         'decades': 1,\n",
       "         'fall': 1,\n",
       "         'curtain': 1,\n",
       "         'concealed': 1,\n",
       "         'civil': 3,\n",
       "         'society': 2,\n",
       "         'streets': 5,\n",
       "         'dictatorship': 1,\n",
       "         'public': 26,\n",
       "         'memento': 2,\n",
       "         'democracy': 1,\n",
       "         'managed': 1,\n",
       "         'mayor': 12,\n",
       "         'demszky': 1,\n",
       "         'geography': 1,\n",
       "         'topography': 1,\n",
       "         'strategically': 1,\n",
       "         'placed': 2,\n",
       "         'carpathian': 4,\n",
       "         'basin': 5,\n",
       "         'lies': 8,\n",
       "         'ancient': 5,\n",
       "         'route': 6,\n",
       "         'road': 9,\n",
       "         'south': 9,\n",
       "         'vienna': 2,\n",
       "         'moscow': 2,\n",
       "         'athens': 1,\n",
       "         'milan': 1,\n",
       "         'prague': 3,\n",
       "         'surrounded': 1,\n",
       "         'settlements': 1,\n",
       "         'extends': 1,\n",
       "         'direction': 1,\n",
       "         'respectively': 3,\n",
       "         'enters': 1,\n",
       "         'encircles': 1,\n",
       "         'islands': 6,\n",
       "         'island': 38,\n",
       "         'margaret': 9,\n",
       "         'csepel': 8,\n",
       "         'northernmost': 3,\n",
       "         'separates': 2,\n",
       "         'parts': 5,\n",
       "         'wide': 6,\n",
       "         'narrowest': 1,\n",
       "         'flat': 2,\n",
       "         'terrain': 2,\n",
       "         'rather': 1,\n",
       "         'hilly': 1,\n",
       "         'always': 2,\n",
       "         'fordable': 1,\n",
       "         'small': 4,\n",
       "         'marked': 2,\n",
       "         'topographical': 1,\n",
       "         'contrasts': 1,\n",
       "         'higher': 4,\n",
       "         'terraces': 2,\n",
       "         'side': 11,\n",
       "         'considerably': 1,\n",
       "         'larger': 3,\n",
       "         'spreads': 1,\n",
       "         'featureless': 1,\n",
       "         'sand': 1,\n",
       "         'opposite': 1,\n",
       "         'bank': 9,\n",
       "         'rises': 1,\n",
       "         'slight': 1,\n",
       "         'eastward': 1,\n",
       "         'gradient': 1,\n",
       "         'easternmost': 1,\n",
       "         'altitude': 1,\n",
       "         'smallest': 1,\n",
       "         'notably': 2,\n",
       "         'gell': 5,\n",
       "         'consist': 2,\n",
       "         'limestone': 1,\n",
       "         'dolomite': 1,\n",
       "         'created': 4,\n",
       "         'speleothems': 1,\n",
       "         'ones': 3,\n",
       "         'lgyi': 1,\n",
       "         'total': 4,\n",
       "         'length': 5,\n",
       "         'szeml': 1,\n",
       "         'hegyi': 1,\n",
       "         'formed': 2,\n",
       "         'triassic': 1,\n",
       "         'period': 5,\n",
       "         'highest': 11,\n",
       "         'metres': 5,\n",
       "         'feet': 2,\n",
       "         'level': 10,\n",
       "         'lowest': 2,\n",
       "         'rich': 2,\n",
       "         'green': 3,\n",
       "         'forest': 2,\n",
       "         'forests': 1,\n",
       "         'environmentally': 1,\n",
       "         'importance': 2,\n",
       "         'terms': 3,\n",
       "         'traffic': 14,\n",
       "         'lines': 12,\n",
       "         'lead': 2,\n",
       "         'important': 12,\n",
       "         'routes': 4,\n",
       "         'three': 12,\n",
       "         'cities': 24,\n",
       "         'reykjav': 1,\n",
       "         'iceland': 1,\n",
       "         'sofia': 1,\n",
       "         'produce': 2,\n",
       "         'litres': 1,\n",
       "         'imperial': 1,\n",
       "         'gallons': 2,\n",
       "         'temperatures': 4,\n",
       "         'ranging': 1,\n",
       "         'celsius': 1,\n",
       "         'waters': 2,\n",
       "         'medicinal': 6,\n",
       "         'effects': 1,\n",
       "         'medically': 1,\n",
       "         'valuable': 1,\n",
       "         'mineral': 1,\n",
       "         'contents': 1,\n",
       "         'climate': 5,\n",
       "         'humid': 2,\n",
       "         'subtropical': 1,\n",
       "         'ppen': 1,\n",
       "         'classification': 1,\n",
       "         'relatively': 3,\n",
       "         'cold': 2,\n",
       "         'winters': 1,\n",
       "         'continental': 3,\n",
       "         'isotherm': 1,\n",
       "         'warm': 3,\n",
       "         'summers': 1,\n",
       "         'oceanic': 1,\n",
       "         'climatological': 1,\n",
       "         'norm': 1,\n",
       "         'winter': 4,\n",
       "         'march': 5,\n",
       "         'receives': 1,\n",
       "         'little': 2,\n",
       "         'sunshine': 4,\n",
       "         'snowfall': 2,\n",
       "         'fairly': 1,\n",
       "         'frequent': 1,\n",
       "         'nighttime': 1,\n",
       "         'uncommon': 1,\n",
       "         'spring': 2,\n",
       "         'months': 2,\n",
       "         'variable': 1,\n",
       "         'conditions': 1,\n",
       "         'rapid': 1,\n",
       "         'increase': 3,\n",
       "         'average': 8,\n",
       "         'temperature': 1,\n",
       "         'weather': 1,\n",
       "         'agreeable': 1,\n",
       "         'fresh': 1,\n",
       "         'night': 5,\n",
       "         'long': 7,\n",
       "         'summer': 10,\n",
       "         'september': 2,\n",
       "         'sudden': 1,\n",
       "         'heavy': 2,\n",
       "         'showers': 1,\n",
       "         'occur': 1,\n",
       "         'june': 1,\n",
       "         'autumn': 2,\n",
       "         'characterised': 1,\n",
       "         'rain': 1,\n",
       "         'sunny': 1,\n",
       "         'days': 3,\n",
       "         'moderate': 1,\n",
       "         'turn': 2,\n",
       "         'abruptly': 1,\n",
       "         'colder': 1,\n",
       "         'mean': 1,\n",
       "         'annual': 4,\n",
       "         'precipitation': 2,\n",
       "         'inches': 1,\n",
       "         'hours': 2,\n",
       "         'totals': 1,\n",
       "         'roughly': 1,\n",
       "         'equal': 1,\n",
       "         'seen': 3,\n",
       "         'northern': 5,\n",
       "         'italy': 1,\n",
       "         'venice': 1,\n",
       "         'boundary': 2,\n",
       "         'zone': 3,\n",
       "         'hardiness': 1,\n",
       "         'architecture': 22,\n",
       "         'architecturally': 1,\n",
       "         'noteworthy': 2,\n",
       "         'range': 4,\n",
       "         'styles': 4,\n",
       "         'distinct': 2,\n",
       "         'periods': 2,\n",
       "         'dates': 3,\n",
       "         'modern': 7,\n",
       "         'arts': 15,\n",
       "         'concert': 4,\n",
       "         'hall': 5,\n",
       "         'high': 7,\n",
       "         'rise': 3,\n",
       "         'kept': 1,\n",
       "         'legislation': 1,\n",
       "         'aimed': 2,\n",
       "         'preserving': 2,\n",
       "         'historic': 7,\n",
       "         'cityscape': 2,\n",
       "         'meet': 2,\n",
       "         'requirements': 1,\n",
       "         'strong': 4,\n",
       "         'rules': 2,\n",
       "         'apply': 1,\n",
       "         'planning': 5,\n",
       "         'authorisation': 1,\n",
       "         'consequently': 1,\n",
       "         'inner': 7,\n",
       "         'planners': 1,\n",
       "         'would': 1,\n",
       "         'easing': 1,\n",
       "         'skyscrapers': 2,\n",
       "         'possibility': 1,\n",
       "         'outside': 6,\n",
       "         'core': 1,\n",
       "         'raised': 1,\n",
       "         'chronological': 1,\n",
       "         'order': 3,\n",
       "         'architectural': 2,\n",
       "         'represents': 2,\n",
       "         'timeline': 2,\n",
       "         'determinative': 1,\n",
       "         'style': 18,\n",
       "         'gothic': 10,\n",
       "         'remaining': 2,\n",
       "         'note': 1,\n",
       "         'orsz': 1,\n",
       "         'date': 2,\n",
       "         'back': 3,\n",
       "         'remains': 2,\n",
       "         'parish': 2,\n",
       "         'church': 12,\n",
       "         'mary': 1,\n",
       "         'magdalene': 1,\n",
       "         'completed': 6,\n",
       "         'characteristic': 1,\n",
       "         'actually': 1,\n",
       "         'known': 10,\n",
       "         'landmarks': 2,\n",
       "         'material': 1,\n",
       "         'originally': 2,\n",
       "         'romanesque': 1,\n",
       "         'chapter': 1,\n",
       "         'human': 1,\n",
       "         'earliest': 1,\n",
       "         'influenced': 3,\n",
       "         'particular': 1,\n",
       "         'appeared': 1,\n",
       "         'marriage': 1,\n",
       "         'beatrice': 1,\n",
       "         'naples': 1,\n",
       "         'artists': 4,\n",
       "         'craftsmen': 1,\n",
       "         'masons': 1,\n",
       "         'came': 3,\n",
       "         'queen': 2,\n",
       "         'disappeared': 1,\n",
       "         'varied': 1,\n",
       "         'state': 8,\n",
       "         'opera': 8,\n",
       "         'stephen': 7,\n",
       "         'basilica': 3,\n",
       "         'academy': 5,\n",
       "         'sciences': 3,\n",
       "         'islamic': 6,\n",
       "         'flourished': 1,\n",
       "         'multiple': 2,\n",
       "         'mosques': 3,\n",
       "         'examples': 5,\n",
       "         'muslims': 2,\n",
       "         'iranian': 1,\n",
       "         'arabian': 1,\n",
       "         'extent': 2,\n",
       "         'byzantine': 1,\n",
       "         'traditions': 2,\n",
       "         'replaced': 3,\n",
       "         'churches': 2,\n",
       "         'minarets': 1,\n",
       "         'bell': 1,\n",
       "         'towers': 1,\n",
       "         'cathedral': 1,\n",
       "         'spires': 1,\n",
       "         'sloping': 1,\n",
       "         'bustling': 1,\n",
       "         'oriental': 1,\n",
       "         'bazaar': 1,\n",
       "         'filled': 1,\n",
       "         'chatter': 1,\n",
       "         'camel': 1,\n",
       "         'caravans': 1,\n",
       "         'yemen': 1,\n",
       "         'india': 1,\n",
       "         'fact': 1,\n",
       "         'functioning': 1,\n",
       "         'bathhouses': 1,\n",
       "         'dating': 2,\n",
       "         'home': 14,\n",
       "         'tomb': 2,\n",
       "         'influential': 3,\n",
       "         'sufi': 1,\n",
       "         'dervish': 1,\n",
       "         'baba': 1,\n",
       "         'various': 5,\n",
       "         'cultures': 2,\n",
       "         'converged': 1,\n",
       "         'seemed': 1,\n",
       "         'coalesce': 1,\n",
       "         'different': 4,\n",
       "         'digested': 1,\n",
       "         'blend': 2,\n",
       "         ...})"
      ]
     },
     "execution_count": 80,
     "metadata": {},
     "output_type": "execute_result"
    }
   ],
   "source": [
    "from collections import Counter\n",
    "\n",
    "dict_BP = Counter(budapest_stopwords_removed)\n",
    "dict_BP"
   ]
  },
  {
   "cell_type": "code",
   "execution_count": 81,
   "metadata": {},
   "outputs": [],
   "source": [
    "#conda install WordCloud\n",
    "import matplotlib.pyplot as plt\n",
    "from wordcloud import WordCloud"
   ]
  },
  {
   "cell_type": "code",
   "execution_count": 82,
   "metadata": {},
   "outputs": [
    {
     "data": {
      "text/plain": [
       "<matplotlib.image.AxesImage at 0x7fee58e9dd50>"
      ]
     },
     "execution_count": 82,
     "metadata": {},
     "output_type": "execute_result"
    },
    {
     "data": {
      "image/png": "[encoded data removed]",
      "text/plain": [
       "<Figure size 432x288 with 1 Axes>"
      ]
     },
     "metadata": {
      "needs_background": "light"
     },
     "output_type": "display_data"
    }
   ],
   "source": [
    "wc = WordCloud(width=1800, height=900, background_color=\"white\",\n",
    "               max_words = 20, relative_scaling = 0.5, \n",
    "               normalize_plurals = False).generate_from_frequencies(dict_BP)\n",
    "plt.imshow(wc)"
   ]
  },
  {
   "cell_type": "code",
   "execution_count": 83,
   "metadata": {},
   "outputs": [],
   "source": [
    "#write the dictionary in a text file\n",
    "write_budapest = open('Output/Budapest_counter_freq.txt', 'w') \n",
    "write_budapest.write('word' + \";\" + \"frequency\" + \"\\n\")\n",
    "for key, value in Counter(dict_BP).items():\n",
    "    #print (key, value)\n",
    "    write_budapest.write(key + ';' + str(value) + \"\\n\")\n",
    "write_budapest.close()"
   ]
  },
  {
   "cell_type": "code",
   "execution_count": 84,
   "metadata": {},
   "outputs": [
    {
     "data": {
      "text/plain": [
       "\"\\n# Using the csv library\\nimport csv\\n\\nwith open('Output/Budapest_counter.csv', 'w') as csv_file:\\n    writer = csv.writer(csv_file, delimiter=';')\\n    writer.writerow(['word','frequency'])\\n    for key, value in dict_counts.items():\\n       writer.writerow([key, value])\\n\""
      ]
     },
     "execution_count": 84,
     "metadata": {},
     "output_type": "execute_result"
    }
   ],
   "source": [
    "\"\"\"\n",
    "# Using the csv library\n",
    "import csv\n",
    "\n",
    "with open('Output/Budapest_counter.csv', 'w') as csv_file:\n",
    "    writer = csv.writer(csv_file, delimiter=';')\n",
    "    writer.writerow(['word','frequency'])\n",
    "    for key, value in dict_counts.items():\n",
    "       writer.writerow([key, value])\n",
    "\"\"\""
   ]
  },
  {
   "cell_type": "markdown",
   "metadata": {},
   "source": [
    "With Python we can open, read and write other types of files. One of them is `pdf` format. While we can read pdfs we cannot write pdf from scratch, we only write content that is already in pdf format. To do this, we'll use another third party module called PyPDF2. "
   ]
  },
  {
   "cell_type": "code",
   "execution_count": 85,
   "metadata": {},
   "outputs": [],
   "source": [
    "#install third party module\n",
    "#! conda install PyPDF2"
   ]
  },
  {
   "cell_type": "code",
   "execution_count": 86,
   "metadata": {},
   "outputs": [],
   "source": [
    "import PyPDF2"
   ]
  },
  {
   "cell_type": "code",
   "execution_count": 88,
   "metadata": {},
   "outputs": [],
   "source": [
    "AEJ_health = open('Input/pdfs/app20170295.pdf', \"rb\") #read binary\n",
    "reader_health = PyPDF2.PdfFileReader(AEJ_health)"
   ]
  },
  {
   "cell_type": "code",
   "execution_count": 89,
   "metadata": {},
   "outputs": [
    {
     "data": {
      "text/plain": [
       "<PyPDF2.pdf.PdfFileReader at 0x7fee685d4a50>"
      ]
     },
     "execution_count": 89,
     "metadata": {},
     "output_type": "execute_result"
    }
   ],
   "source": [
    "reader_health"
   ]
  },
  {
   "cell_type": "code",
   "execution_count": 90,
   "metadata": {},
   "outputs": [
    {
     "data": {
      "text/plain": [
       "31"
      ]
     },
     "execution_count": 90,
     "metadata": {},
     "output_type": "execute_result"
    }
   ],
   "source": [
    "reader_health.numPages"
   ]
  },
  {
   "cell_type": "code",
   "execution_count": 91,
   "metadata": {},
   "outputs": [],
   "source": [
    "page1_health = reader_health.getPage(0)"
   ]
  },
  {
   "cell_type": "code",
   "execution_count": 92,
   "metadata": {},
   "outputs": [
    {
     "data": {
      "text/plain": [
       "'American Economic Journal: Applied Economics 2019, 11(2): 302Œ332\\n https://doi.org/10.1257/app.20170295\\n302* Curto: Department of Health Policy and Management, T.H. Chan School of Public Health, Harvard University, \\n677 Huntington Avenue, Boston, MA 02115-6028 \\n(email: vcurto@hsph.harvard.edu); Einav: Department of \\nEconomics, Stanford University, 579 Serra Mall, Stanford, CA 94305-6072 \\n(email: leinav@stanford.edu) and \\nNBER; Finkelstein: Department of Economics, MIT, 50 Memorial Drive, Cambridge, MA 02142-1347 \\n(email: \\nafink@mit.edu) and NBER; Levin: Graduate School of Business, Stanford University, 655 Knight Way, Stanford, \\n\\nCA 94305-7298 \\n(email: jdlevin@stanford.edu\\n) and NBER; Bhattacharya: School of Medicine, Stanford University, \\n616 Serra Street, Stanford, CA 94305-6019 (email: jay@stanford.edu). Ilyana Kuziemko was coeditor for this \\n\\narticle. We are grateful to Diego Jimenez, Andelyn Russell, Daniel Salmon, and Martina Uccioli for excellent \\n\\nresearch assistance. We thank three anonymous referees and numerous seminar participants for helpful comments. \\n\\nWe gratefully acknowledge support from the NSF \\n(SES-1527942, Bhattacharya, Einav, and Levin\\n), the NIA (R01 \\nAG032449, Einav and Finkelstein; R37 AG036791, Bhattacharya\\n), and the Sloan Foundation \\n(Bhattacharya, Einav, \\nFinkelstein, and Levin\\n). The authors acknowledge the assistance of the Health Care Cost Institute \\n(HCCI) and its \\ndata contributors, Aetna, Humana, and UnitedHealthcare, in providing the claims data analyzed in this study. \\nƒ Go to https://doi.org/10.1257/app.20170295 to visit the article page for additional materials and author \\n disclosure statements or to comment in the online discussion forum.Health Care Spending and Utilization \\n in Public and Private Medicare\\nƒBy V˜˚˛˝ C˙ˆˇ˘˝, , \\n ˝ˇˇ˝˝*\\nWe compare health care spending in public and private Medicare \\nusing newly available claims data from Medicare Advantage \\n(MA) \\ninsurers. MA insurer revenues are \\n30 percent higher than their health \\n\\ncare spending. Adjusting for enrollee mix\\n, health care spending per \\n\\nenrollee in MA is \\n9 to \\n30 percent lower than in Traditional Medicare \\n(TM), depending on the way we de˜ne ﬁcomparableﬂ enrollees. \\nSpending differences primarily re˚ect differences in health care uti\\n-lization, with similar reductions for ﬁhigh-valueﬂ and ﬁlow-valueﬂ \\n\\ncare\\n, rather than health care prices. We present evidence consistent \\n\\nwith MA plans encouraging substitution to less expensive care and \\n\\nengaging in utilization management. \\n(JEL G22, H44, H51, I11, I13)A  long-standing question in economics concerns the appropriate roles of the public sector and private sector in providing services that society has decided \\nare essential. This question comes up in many contexts, including education, utili\\n-ties, transportation, and pensions. It is especially relevant in health care, where the \\nUnited States is unusual among developed countries in its distinctive mix of public \\n\\nand private health insurance. Comparisons of public and private health insurance \\n\\nsystems are difwever, since they typically do not operate at a similar scale, \\n\\nfor the same population, in the same markets, or with the same health care providers.\\nThe US Medicare program in recent years has been an exception because of the \\nﬁside by sideﬂ operation of public and private insurance programs. While Traditional \\n\\nMedicare (TM) of\\n'"
      ]
     },
     "execution_count": 92,
     "metadata": {},
     "output_type": "execute_result"
    }
   ],
   "source": [
    "page1_health.extractText()"
   ]
  },
  {
   "cell_type": "code",
   "execution_count": 93,
   "metadata": {},
   "outputs": [],
   "source": [
    "writer_AEJ_health=PyPDF2.PdfFileWriter()"
   ]
  },
  {
   "cell_type": "code",
   "execution_count": 94,
   "metadata": {},
   "outputs": [],
   "source": [
    "writer_AEJ_health.addPage(page1_health)"
   ]
  },
  {
   "cell_type": "code",
   "execution_count": 95,
   "metadata": {},
   "outputs": [],
   "source": [
    "outputFile_health=open('Output/AEJ_health_abstract.pdf','wb')\n",
    "writer_AEJ_health.write(outputFile_health)\n",
    "outputFile_health.close()"
   ]
  },
  {
   "cell_type": "code",
   "execution_count": 96,
   "metadata": {},
   "outputs": [],
   "source": [
    "#read other AEJ file\n",
    "AEJ_temperature=open('Input/pdfs/app20170223.pdf', \"rb\") \n",
    "reader_temperature=PyPDF2.PdfFileReader(AEJ_temperature)\n",
    "page1_temperature=reader_temperature.getPage(0)"
   ]
  },
  {
   "cell_type": "code",
   "execution_count": 98,
   "metadata": {},
   "outputs": [],
   "source": [
    "writer_AEJ=PyPDF2.PdfFileWriter()\n",
    "writer_AEJ.addPage(page1_temperature)\n",
    "writer_AEJ.addPage(page1_health)\n",
    "outputFile=open('Output/AEJ_combined.pdf','wb')\n",
    "writer_AEJ.write(outputFile)\n",
    "outputFile.close()"
   ]
  },
  {
   "cell_type": "markdown",
   "metadata": {},
   "source": [
    "### Challenge: Write a function that combines odd pages from `app20170295.pdf` and even pages from  `app20170223.pdf `. "
   ]
  },
  {
   "cell_type": "markdown",
   "metadata": {},
   "source": [
    "### References \n",
    "https://www.datacamp.com/community/tutorials/reading-writing-files-python\n",
    "\n",
    "https://automatetheboringstuff.com/chapter6\n",
    "\n",
    "https://pypi.org/project/wikipedia/\n",
    "\n",
    "https://medium.com/@Alexander_H/scraping-wikipedia-with-python-8000fc9c9e6c\n",
    "\n",
    "https://automatetheboringstuff.com/chapter8/\n",
    "\n",
    "https://automatetheboringstuff.com/chapter13/"
   ]
  }
 ],
 "metadata": {
  "kernelspec": {
   "display_name": "Python 3",
   "language": "python",
   "name": "python3"
  },
  "language_info": {
   "codemirror_mode": {
    "name": "ipython",
    "version": 3
   },
   "file_extension": ".py",
   "mimetype": "text/x-python",
   "name": "python",
   "nbconvert_exporter": "python",
   "pygments_lexer": "ipython3",
   "version": "3.8.5"
  }
 },
 "nbformat": 4,
 "nbformat_minor": 2
}
