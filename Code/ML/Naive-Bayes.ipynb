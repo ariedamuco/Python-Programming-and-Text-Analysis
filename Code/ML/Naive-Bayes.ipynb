{
 "cells": [
  {
   "cell_type": "markdown",
   "metadata": {},
   "source": [
    "## Naive Bayes Classifier\n",
    "\n",
    "\n",
    "Text data is usually represented as strings, which in turn are concatenation of characters. The type and length of text will vary accross projects.\n",
    "\n",
    "Due to it's nature, text is clearly very different from the numeric features and we will need to process it differently before we can do analysis with it and apply our machine learning algorithms to it. \n",
    "\n",
    "This notebook will cover the Naive Bayes Classifier that is one of the best ML techniques we can applly to labelled text data."
   ]
  },
  {
   "cell_type": "code",
   "execution_count": 1,
   "metadata": {},
   "outputs": [],
   "source": [
    "import os"
   ]
  },
  {
   "cell_type": "code",
   "execution_count": 2,
   "metadata": {},
   "outputs": [
    {
     "data": {
      "text/plain": [
       "'/Users/ariedamuco/Desktop/Booth/Code/ML'"
      ]
     },
     "execution_count": 2,
     "metadata": {},
     "output_type": "execute_result"
    }
   ],
   "source": [
    "os.getcwd()"
   ]
  },
  {
   "cell_type": "code",
   "execution_count": 4,
   "metadata": {},
   "outputs": [],
   "source": [
    "os.chdir(\"/Users/ariedamuco/Desktop/Booth/\")"
   ]
  },
  {
   "cell_type": "code",
   "execution_count": 5,
   "metadata": {},
   "outputs": [
    {
     "data": {
      "text/plain": [
       "['.DS_Store',\n",
       " 'Input',\n",
       " 'Output',\n",
       " 'Code',\n",
       " 'Slides',\n",
       " '.gitignore',\n",
       " 'Figures',\n",
       " '.git']"
      ]
     },
     "execution_count": 5,
     "metadata": {},
     "output_type": "execute_result"
    }
   ],
   "source": [
    "os.listdir()"
   ]
  },
  {
   "cell_type": "code",
   "execution_count": 5,
   "metadata": {},
   "outputs": [],
   "source": [
    "#os.chdir(\"../..\")"
   ]
  },
  {
   "cell_type": "code",
   "execution_count": 7,
   "metadata": {},
   "outputs": [],
   "source": [
    "file=open('Input/smsspamcollection/SMSSpamCollection').read()"
   ]
  },
  {
   "cell_type": "code",
   "execution_count": 9,
   "metadata": {},
   "outputs": [
    {
     "data": {
      "text/plain": [
       "str"
      ]
     },
     "execution_count": 9,
     "metadata": {},
     "output_type": "execute_result"
    }
   ],
   "source": [
    "type(file)"
   ]
  },
  {
   "cell_type": "code",
   "execution_count": 11,
   "metadata": {},
   "outputs": [
    {
     "data": {
      "text/plain": [
       "'ham\\tGo until jurong point, crazy.. Available only in bugis n great world la e buffet... Cine there got amore wat...\\nham\\tOk lar... Joking wif u oni...\\nspam\\tFree entry in 2 a wkly comp to win FA Cup final tkts 21st May 2005. Text FA to 87121 to receive entry question(std txt rate)T&C\\'s apply 08452810075over18\\'s\\nham\\tU dun say so early hor... U c already then say...\\nham\\tNah I don\\'t think he goes to usf, he lives around here though\\nspam\\tFreeMsg Hey there darling it\\'s been 3 week\\'s now and no word back! I\\'d like some fun you up for it still? Tb ok! XxX std chgs to send, £1.50 to rcv\\nham\\tEven my brother is not like to speak with me. They treat me like aids patent.\\nham\\tAs per your request \\'Melle Melle (Oru Minnaminunginte Nurungu Vettam)\\' has been set as your callertune for all Callers. Press *9 to copy your friends Callertune\\nspam\\tWINNER!! As a valued network customer you have been selected to receivea £900 prize reward! To claim call 09061701461. Claim code KL341. Valid 12 hours only.\\nspam\\tHad your mobile 11 months or more? U R entitled to Update to the latest colour mobiles with camera for Free! Call The Mobile Update Co FREE on 08002986030\\nham\\tI\\'m gonna be home soon and i don\\'t want to talk about this stuff anymore tonight, k? I\\'ve cried enough today.\\nspam\\tSIX chances to win CASH! From 100 to 20,000 pounds txt> CSH11 and send to 87575. Cost 150p/day, 6days, 16+ TsandCs apply Reply HL 4 info\\nspam\\tURGENT! You have won a 1 week FREE membership in our £100,000 Prize Jackpot! Txt the word: CLAIM to No: 81010 T&C www.dbuk.net LCCLTD POBOX 4403LDNW1A7RW18\\nham\\tI\\'ve been searching for the right words to thank you for this breather. I promise i wont take your help for granted and will fulfil my promise. You have been wonderful and a blessing at all times.\\nham\\tI HAVE A DATE ON SUNDAY WITH WILL!!\\nspam\\tXXXMobileMovieClub: To use your credit, click the WAP link in the next txt message or click here>> http://wap. xxxmobilemovieclub.com?n=QJKGIGHJJGCBL\\nham\\tOh k...i\\'m watching here:)\\nham\\tEh u remember how 2 spell his name... Yes i did. He v naughty make until i v wet.\\nham\\tFine if that\\x92s the way u feel. That\\x92s the way its gota b\\nspam\\tEngland v Macedonia - dont miss the goals/team news. Txt ur national team to 87077 eg ENGLAND to 87077 Try:WALES, SCOTLAND 4txt/ú1.20 POBOXox36504W45WQ 16+\\nham\\tIs that seriously how you spell his name?\\nham\\tI‘m going to try for 2 months ha ha only joking\\nham\\tSo ü pay first lar... Then when is da stock comin...\\nham\\tAft i finish my lunch then i go str down lor. Ard 3 smth lor. U finish ur lunch already?\\nham\\tFfffffffff. Alright no way I can meet up with you sooner?\\nham\\tJust forced myself to eat a slice. I\\'m really not hungry tho. This sucks. Mark is getting worried. He knows I\\'m sick when I turn down pizza. Lol\\nham\\tLol your always so convincing.\\nham\\tDid you catch the bus ? Are you frying an egg ? Did you make a tea? Are you eating your mom\\'s left over dinner ? Do you feel my Love ?\\nham\\tI\\'m back &amp; we\\'re packing the car now, I\\'ll let you know if there\\'s room\\nham\\tAhhh. Work. I vaguely remember that! What does it feel like? Lol\\nham\\tWait that\\'s still not all that clear, were you not sure about me being sarcastic or that that\\'s why x doesn\\'t want to live with us\\nham\\tYeah he got in at 2 and was v apologetic. n had fallen out and she was actin like spoilt child and he got caught up in that. Till 2! But we won\\'t go there! Not doing too badly cheers. You? \\nham\\tK tell me anything about you.\\nham\\tFor fear of fainting with the of all that housework you just did? Quick have a cuppa\\nspam\\tThanks for your subscription to Ringtone UK your mobile will be charged £5/month Please confirm by replying YES or NO. If you reply NO you will not be charged\\nham\\tYup... Ok i go home look at the timings then i msg ü again... Xuhui going to learn on 2nd may too but her lesson is at 8am\\nham\\tOops, I\\'ll let you know when my roommate\\'s done\\nham\\tI see the letter B on my car\\nham\\tAnything lor... U decide...\\nham\\tHello! How\\'s you and how did saturday go? I was just texting to see if you\\'d decided to do anything tomo. Not that i\\'m trying to invite myself or anything!\\nham\\tPls go ahead with watts. I just wanted to be sure. Do have a great weekend. Abiola\\nham\\tDid I forget to tell you ? I want you , I need you, I crave you ... But most of all ... I love you my sweet Arabian steed ... Mmmmmm ... Yummy\\nspam\\t07732584351 - Rodger Burns - MSG = We tried to call you re your reply to our sms for a free nokia mobile + free camcorder. Please call now 08000930705 for delivery tomorrow\\nham\\tWHO ARE YOU SEEING?\\nham\\tGreat! I hope you like your man well endowed. I am  &lt;#&gt;  inches...\\nham\\tNo calls..messages..missed calls\\nham\\tDidn\\'t you get hep b immunisation in nigeria.\\nham\\tFair enough, anything going on?\\nham\\tYeah hopefully, if tyler can\\'t do it I could maybe ask around a bit\\nham\\tU don\\'t know how stubborn I am. I didn\\'t even want to go to the hospital. I kept telling Mark I\\'m not a weak sucker. Hospitals are for weak suckers.\\nham\\tWhat you thinked about me. First time you saw me in class.\\nham\\tA gram usually runs like  &lt;#&gt; , a half eighth is smarter though and gets you almost a whole second gram for  &lt;#&gt;\\nham\\tK fyi x has a ride early tomorrow morning but he\\'s crashing at our place tonight\\nham\\tWow. I never realized that you were so embarassed by your accomodations. I thought you liked it, since i was doing the best i could and you always seemed so happy about \"the cave\". I\\'m sorry I didn\\'t and don\\'t have more to give. I\\'m sorry i offered. I\\'m sorry your room was so embarassing.\\nspam\\tSMS. ac Sptv: The New Jersey Devils and the Detroit Red Wings play Ice Hockey. Correct or Incorrect? End? Reply END SPTV\\nham\\tDo you know what Mallika Sherawat did yesterday? Find out now @  &lt;URL&gt;\\nspam\\tCongrats! 1 year special cinema pass for 2 is yours. call 09061209465 now! C Suprman V, Matrix3, StarWars3, etc all 4 FREE! bx420-ip4-5we. 150pm. Dont miss out! \\nham\\tSorry, I\\'ll call later in meeting.\\nham\\tTell where you reached\\nham\\tYes..gauti and sehwag out of odi series.\\nham\\tYour gonna have to pick up a $1 burger for yourself on your way home. I can\\'t even move. Pain is killing me.\\nham\\tHa ha ha good joke. Girls are situation seekers.\\nham\\tIts a part of checking IQ\\nham\\tSorry my roommates took forever, it ok if I come by now?\\nham\\tOk lar i double check wif da hair dresser already he said wun cut v short. He said will cut until i look nice.\\nspam\\tAs a valued customer, I am pleased to advise you that following recent review of your Mob No. you are awarded with a £1500 Bonus Prize, call 09066364589\\nham\\tToday is \"song dedicated day..\" Which song will u dedicate for me? Send this to all ur valuable frnds but first rply me...\\nspam\\tUrgent UR awarded a complimentary trip to EuroDisinc Trav, Aco&Entry41 Or £1000. To claim txt DIS to 87121 18+6*£1.50(moreFrmMob. ShrAcomOrSglSuplt)10, LS1 3AJ\\nspam\\tDid you hear about the new \"Divorce Barbie\"? It comes with all of Ken\\'s stuff!\\nham\\tI plane to give on this month end.\\nham\\tWah lucky man... Then can save money... Hee...\\nham\\tFinished class where are you.\\nham\\tHI BABE IM AT HOME NOW WANNA DO SOMETHING? XX\\nham\\tK..k:)where are you?how did you performed?\\nham\\tU can call me now...\\nham\\tI am waiting machan. Call me once you free.\\nham\\tThats cool. i am a gentleman and will treat you with dignity and respect.\\nham\\tI like you peoples very much:) but am very shy pa.\\nham\\tDoes not operate after  &lt;#&gt;  or what\\nham\\tIts not the same here. Still looking for a job. How much do Ta\\'s earn there.\\nham\\tSorry, I\\'ll call later\\nham\\tK. Did you call me just now ah? \\nham\\tOk i am on the way to home hi hi\\nham\\tYou will be in the place of that man\\nham\\tYup next stop.\\nham\\tI call you later, don\\'t have network. If urgnt, sms me.\\nham\\tFor real when u getting on yo? I only need 2 more tickets and one more jacket and I\\'m done. I already used all my multis.\\nham\\tYes I started to send requests to make it but pain came back so I\\'m back in bed. Double coins at the factory too. I gotta cash in all my nitros.\\nham\\tI\\'m really not up to it still tonight babe\\nham\\tEla kano.,il download, come wen ur free..\\nham\\tYeah do! Don‘t stand to close tho- you‘ll catch something!\\nham\\tSorry to be a pain. Is it ok if we meet another night? I spent late afternoon in casualty and that means i haven\\'t done any of y stuff42moro and that includes all my time sheets and that. Sorry. \\nham\\tSmile in Pleasure Smile in Pain Smile when trouble pours like Rain Smile when sum1 Hurts U Smile becoz SOMEONE still Loves to see u Smiling!!\\nspam\\tPlease call our customer service representative on 0800 169 6031 between 10am-9pm as you have WON a guaranteed £1000 cash or £5000 prize!\\nham\\tHavent planning to buy later. I check already lido only got 530 show in e afternoon. U finish work already?\\nspam\\tYour free ringtone is waiting to be collected. Simply text the password \"MIX\" to 85069 to verify. Get Usher and Britney. FML, PO Box 5249, MK17 92H. 450Ppw 16\\nham\\tWatching telugu movie..wat abt u?\\nham\\ti see. When we finish we have loads of loans to pay\\nham\\tHi. Wk been ok - on hols now! Yes on for a bit of a run. Forgot that i have hairdressers appointment at four so need to get home n shower beforehand. Does that cause prob for u?\"\\nham\\tI see a cup of coffee animation\\nham\\tPlease don\\'t text me anymore. I have nothing else to say.\\nham\\tOkay name ur price as long as its legal! Wen can I pick them up? Y u ave x ams xx\\nham\\tI\\'m still looking for a car to buy. And have not gone 4the driving test yet.\\nham\\tAs per your request \\'Melle Melle (Oru Minnaminunginte Nurungu Vettam)\\' has been set as your callertune for all Callers. Press *9 to copy your friends Callertune\\nham\\twow. You\\'re right! I didn\\'t mean to do that. I guess once i gave up on boston men and changed my search location to nyc, something changed. Cuz on my signin page it still says boston.\\nham\\tUmma my life and vava umma love you lot dear\\nham\\tThanks a lot for your wishes on my birthday. Thanks you for making my birthday truly memorable.\\nham\\tAight, I\\'ll hit you up when I get some cash\\nham\\tHow would my ip address test that considering my computer isn\\'t a minecraft server\\nham\\tI know! Grumpy old people. My mom was like you better not be lying. Then again I am always the one to play jokes...\\nham\\tDont worry. I guess he\\'s busy.\\nham\\tWhat is the plural of the noun research?\\nham\\tGoing for dinner.msg you after.\\nham\\tI\\'m ok wif it cos i like 2 try new things. But i scared u dun like mah. Cos u said not too loud.\\nspam\\tGENT! We are trying to contact you. Last weekends draw shows that you won a £1000 prize GUARANTEED. Call 09064012160. Claim Code K52. Valid 12hrs only. 150ppm\\nham\\tWa, ur openin sentence very formal... Anyway, i\\'m fine too, juz tt i\\'m eatin too much n puttin on weight...Haha... So anythin special happened?\\nham\\tAs I entered my cabin my PA said, \\'\\' Happy B\\'day Boss !!\\'\\'. I felt special. She askd me 4 lunch. After lunch she invited me to her apartment. We went there.\\nspam\\tYou are a winner U have been specially selected 2 receive £1000 or a 4* holiday (flights inc) speak to a live operator 2 claim 0871277810910p/min (18+) \\nham\\tGoodo! Yes we must speak friday - egg-potato ratio for tortilla needed! \\nham\\tHmm...my uncle just informed me that he\\'s paying the school directly. So pls buy food.\\nspam\\tPRIVATE! Your 2004 Account Statement for 07742676969 shows 786 unredeemed Bonus Points. To claim call 08719180248 Identifier Code: 45239 Expires\\nspam\\tURGENT! Your Mobile No. was awarded £2000 Bonus Caller Prize on 5/9/03 This is our final try to contact U! Call from Landline 09064019788 BOX42WR29C, 150PPM\\nham\\there is my new address -apples&pairs&all that malarky\\nspam\\tTodays Voda numbers ending 7548 are selected to receive a $350 award. If you have a match please call 08712300220 quoting claim code 4041 standard rates app\\nham\\tI am going to sao mu today. Will be done only at 12 \\nham\\tÜ predict wat time ü\\'ll finish buying?\\nham\\tGood stuff, will do.\\nham\\tJust so that you know,yetunde hasn\\'t sent money yet. I just sent her a text not to bother sending. So its over, you dont have to involve yourself in anything. I shouldn\\'t have imposed anything on you in the first place so for that, i apologise.\\nham\\tAre you there in room.\\nham\\tHEY GIRL. HOW R U? HOPE U R WELL ME AN DEL R BAK! AGAIN LONG TIME NO C! GIVE ME A CALL SUM TIME FROM LUCYxx\\nham\\tK..k:)how much does it cost?\\nham\\tI\\'m home.\\nham\\tDear, will call Tmorrow.pls accomodate.\\nham\\tFirst answer my question.\\nspam\\tSunshine Quiz Wkly Q! Win a top Sony DVD player if u know which country the Algarve is in? Txt ansr to 82277. £1.50 SP:Tyrone\\nspam\\tWant 2 get laid tonight? Want real Dogging locations sent direct 2 ur mob? Join the UK\\'s largest Dogging Network bt Txting GRAVEL to 69888! Nt. ec2a. 31p.msg@150p\\nham\\tI only haf msn. It\\'s yijue@hotmail.com\\nham\\tHe is there. You call and meet him\\nham\\tNo no. I will check all rooms befor activities\\nspam\\tYou\\'ll not rcv any more msgs from the chat svc. For FREE Hardcore services text GO to: 69988 If u get nothing u must Age Verify with yr network & try again\\nham\\tGot c... I lazy to type... I forgot ü in lect... I saw a pouch but like not v nice...\\nham\\tK, text me when you\\'re on the way\\nham\\tSir, Waiting for your mail.\\nham\\tA swt thought: \"Nver get tired of doing little things 4 lovable persons..\" Coz..somtimes those little things occupy d biggest part in their Hearts.. Gud ni8\\nham\\tI know you are. Can you pls open the back?\\nham\\tYes see ya not on the dot\\nham\\tWhats the staff name who is taking class for us?\\nspam\\tFreeMsg Why haven\\'t you replied to my text? I\\'m Randy, sexy, female and live local. Luv to hear from u. Netcollex Ltd 08700621170150p per msg reply Stop to end\\nham\\tUmmma.will call after check in.our life will begin from qatar so pls pray very hard.\\nham\\tK..i deleted my contact that why?\\nham\\tSindu got job in birla soft ..\\nham\\tThe wine is flowing and i\\'m i have nevering..\\nham\\tYup i thk cine is better cos no need 2 go down 2 plaza mah.\\nham\\tOk... Ur typical reply...\\nham\\tAs per your request \\'Melle Melle (Oru Minnaminunginte Nurungu Vettam)\\' has been set as your callertune for all Callers. Press *9 to copy your friends Callertune\\nham\\tYou are everywhere dirt, on the floor, the windows, even on my shirt. And sometimes when i open my mouth, you are all that comes flowing out. I dream of my world without you, then half my chores are out too. A time of joy for me, lots of tv shows i.ll see. But i guess like all things you just must exist, like rain, hail and mist, and when my time here is done, you and i become one.\\nham\\tAaooooright are you at work?\\nham\\tI\\'m leaving my house now...\\nham\\tHello, my love. What are you doing? Did you get to that interview today? Are you you happy? Are you being a good boy? Do you think of me?Are you missing me ?\\nspam\\tCustomer service annoncement. You have a New Years delivery waiting for you. Please call 07046744435 now to arrange delivery\\nspam\\tYou are a winner U have been specially selected 2 receive £1000 cash or a 4* holiday (flights inc) speak to a live operator 2 claim 0871277810810\\nham\\tKeep yourself safe for me because I need you and I miss you already and I envy everyone that see\\'s you in real life\\nham\\tNew car and house for my parents.:)i have only new job in hand:)\\nham\\tI\\'m so in love with you. I\\'m excited each day i spend with you. You make me so happy.\\nspam\\t-PLS STOP bootydelious (32/F) is inviting you to be her friend. Reply YES-434 or NO-434 See her: www.SMS.ac/u/bootydelious STOP? Send STOP FRND to 62468\\nspam\\tBangBabes Ur order is on the way. U SHOULD receive a Service Msg 2 download UR content. If U do not, GoTo wap. bangb. tv on UR mobile internet/service menu\\nham\\tI place all ur points on e cultures module already.\\nspam\\tURGENT! We are trying to contact you. Last weekends draw shows that you have won a £900 prize GUARANTEED. Call 09061701939. Claim code S89. Valid 12hrs only\\nham\\tHi frnd, which is best way to avoid missunderstding wit our beloved one\\'s?\\nham\\tGreat escape. I fancy the bridge but needs her lager. See you tomo \\nham\\tYes :)it completely in out of form:)clark also utter waste.\\nham\\tSir, I need AXIS BANK account no and bank address.\\nham\\tHmmm.. Thk sure got time to hop ard... Ya, can go 4 free abt... Muz call u to discuss liao... \\nham\\tWhat time you coming down later? \\nham\\tBloody hell, cant believe you forgot my surname Mr . Ill give u a clue, its spanish and begins with m... \\nham\\tWell, i\\'m gonna finish my bath now. Have a good...fine night.\\nham\\tLet me know when you\\'ve got the money so carlos can make the call\\nham\\tU still going to the mall?\\nham\\tTurns out my friends are staying for the whole show and won\\'t be back til ~ &lt;#&gt; , so feel free to go ahead and smoke that $ &lt;#&gt;  worth\\nham\\tText her. If she doesnt reply let me know so i can have her log in\\nham\\tHi! You just spoke to MANEESHA V. We\\'d like to know if you were satisfied with the experience. Reply Toll Free with Yes or No.\\nham\\tYou lifted my hopes with the offer of money. I am in need. Especially when the end of the month approaches and it hurts my studying. Anyways have a gr8 weekend\\nham\\tLol no. U can trust me.\\nham\\tok. I am a gentleman and will treat you with dignity and respect.\\nham\\tHe will, you guys close?\\nham\\tGoing on nothing great.bye\\nham\\tHello handsome ! Are you finding that job ? Not being lazy ? Working towards getting back that net for mummy ? Where\\'s my boytoy now ? Does he miss me ?\\nham\\tHaha awesome, be there in a minute\\nspam\\tPlease call our customer service representative on FREEPHONE 0808 145 4742 between 9am-11pm as you have WON a guaranteed £1000 cash or £5000 prize!\\nham\\tHave you got Xmas radio times. If not i will get it now\\nham\\tI jus reached home. I go bathe first. But my sis using net tell u when she finishes k...\\nspam\\tAre you unique enough? Find out from 30th August. www.areyouunique.co.uk\\nham\\tI\\'m sorry. I\\'ve joined the league of people that dont keep in touch. You mean a great deal to me. You have been a friend at all times even at great personal cost. Do have a great week.|\\nham\\tHi :)finally i completed the course:)\\nham\\tIt will stop on itself. I however suggest she stays with someone that will be able to give ors for every stool.\\nham\\tHow are you doing? Hope you\\'ve settled in for the new school year. Just wishin you a gr8 day\\nham\\tGud mrng dear hav a nice day\\nham\\tDid u got that persons story\\nham\\tis your hamster dead? Hey so tmr i meet you at 1pm orchard mrt? \\nham\\tHi its Kate how is your evening? I hope i can see you tomorrow for a bit but i have to bloody babyjontet! Txt back if u can. :) xxx\\nham\\tFound it, ENC  &lt;#&gt; , where you at?\\nham\\tI sent you  &lt;#&gt;  bucks\\nham\\tHello darlin ive finished college now so txt me when u finish if u can love Kate xxx\\nham\\tYour account has been refilled successfully by INR  &lt;DECIMAL&gt; . Your KeralaCircle prepaid account balance is Rs  &lt;DECIMAL&gt; . Your Transaction ID is KR &lt;#&gt; .\\nham\\tGoodmorning sleeping ga.\\nham\\tU call me alter at 11 ok.\\nham\\tÜ say until like dat i dun buy ericsson oso cannot oredi lar...\\nham\\tAs I entered my cabin my PA said, \\'\\' Happy B\\'day Boss !!\\'\\'. I felt special. She askd me 4 lunch. After lunch she invited me to her apartment. We went there.\\nham\\tAight yo, dats straight dogg\\nham\\tYou please give us connection today itself before  &lt;DECIMAL&gt;  or refund the bill\\nham\\tBoth :) i shoot big loads so get ready!\\nham\\tWhat\\'s up bruv, hope you had a great break. Do have a rewarding semester.\\nham\\tHome so we can always chat\\nham\\tK:)k:)good:)study well.\\nham\\tYup... How ü noe leh...\\nham\\tSounds great! Are you home now?\\nham\\tFinally the match heading towards draw as your prediction.\\nham\\tTired. I haven\\'t slept well the past few nights.\\nham\\tEasy ah?sen got selected means its good..\\nham\\tI have to take exam with march 3\\nham\\tYeah you should. I think you can use your gt atm now to register. Not sure but if there\\'s anyway i can help let me know. But when you do be sure you are ready.\\nham\\tOk no prob. Take ur time.\\nham\\tThere is os called ubandu which will run without installing in hard disk...you can use that os to copy the important files in system and give it to repair shop..\\nham\\tSorry, I\\'ll call later\\nham\\tU say leh... Of course nothing happen lar. Not say v romantic jus a bit only lor. I thk e nite scenery not so nice leh.\\nspam\\t500 New Mobiles from 2004, MUST GO! Txt: NOKIA to No: 89545 & collect yours today!From ONLY £1 www.4-tc.biz 2optout 087187262701.50gbp/mtmsg18\\nham\\tWould really appreciate if you call me. Just need someone to talk to.\\nspam\\tWill u meet ur dream partner soon? Is ur career off 2 a flyng start? 2 find out free, txt HORO followed by ur star sign, e. g. HORO ARIES\\nham\\tHey company elama po mudyadhu.\\nham\\tLife is more strict than teacher... Bcoz Teacher teaches lesson &amp; then conducts exam, But Life first conducts Exam &amp; then teaches Lessons. Happy morning. . .\\nham\\tDear good morning now only i am up\\nham\\tGet down in gandhipuram and walk to cross cut road. Right side &lt;#&gt; street road and turn at first right.\\nham\\tDear we are going to our rubber place\\nham\\tSorry battery died, yeah I\\'m here\\nham\\tYes:)here tv is always available in work place..\\nspam\\tText & meet someone sexy today. U can find a date or even flirt its up to U. Join 4 just 10p. REPLY with NAME & AGE eg Sam 25. 18 -msg recd@thirtyeight pence\\nham\\tI have printed it oh. So  &lt;#&gt;  come upstairs\\nham\\tOr ill be a little closer like at the bus stop on the same street\\nham\\tWhere are you?when wil you reach here?\\nham\\tNew Theory: Argument wins d SITUATION, but loses the PERSON. So dont argue with ur friends just.. . . . kick them &amp; say, I\\'m always correct.!\\nspam\\tU 447801259231 have a secret admirer who is looking 2 make contact with U-find out who they R*reveal who thinks UR so special-call on 09058094597\\nham\\tTomarrow final hearing on my laptop case so i cant.\\nham\\tPLEASSSSSSSEEEEEE TEL ME V AVENT DONE SPORTSx\\nham\\tOkay. No no, just shining on. That was meant to be signing, but that sounds better.\\nham\\tAlthough i told u dat i\\'m into baig face watches now but i really like e watch u gave cos it\\'s fr u. Thanx 4 everything dat u\\'ve done today, i\\'m touched...\\nham\\tU don\\'t remember that old commercial?\\nham\\tToo late. I said i have the website. I didn\\'t i have or dont have the slippers\\nham\\tI asked you to call him now ok\\nham\\tKallis wont bat in 2nd innings.\\nham\\tIt didnt work again oh. Ok goodnight then. I.ll fix and have it ready by the time you wake up. You are very dearly missed have a good night sleep.\\nspam\\tCongratulations ur awarded 500 of CD vouchers or 125gift guaranteed & Free entry 2 100 wkly draw txt MUSIC to 87066 TnCs www.Ldew.com1win150ppmx3age16\\nham\\tRanjith cal drpd Deeraj and deepak 5min hold\\nham\\tWen ur lovable bcums angry wid u, dnt take it seriously.. Coz being angry is d most childish n true way of showing deep affection, care n luv!.. kettoda manda... Have nice day da.\\nham\\tWhat you doing?how are you?\\nham\\tUps which is 3days also, and the shipping company that takes 2wks. The other way is usps which takes a week but when it gets to lag you may have to bribe nipost to get your stuff.\\nham\\tI\\'m back, lemme know when you\\'re ready\\nham\\tDon\\'t necessarily expect it to be done before you get back though because I\\'m just now headin out\\nham\\tMmm so yummy babe ... Nice jolt to the suzy\\nham\\tWhere are you lover ? I need you ...\\nspam\\tWe tried to contact you re your reply to our offer of a Video Handset? 750 anytime networks mins? UNLIMITED TEXT? Camcorder? Reply or call 08000930705 NOW\\nham\\tI‘m parked next to a MINI!!!! When are you coming in today do you think?\\nham\\tYup\\nham\\tAnyway i\\'m going shopping on my own now. Cos my sis not done yet. Dun disturb u liao.\\nham\\tMY NO. IN LUTON 0125698789 RING ME IF UR AROUND! H*\\nspam\\tHey I am really horny want to chat or see me naked text hot to 69698 text charged at 150pm to unsubscribe text stop 69698\\nham\\tWhy you Dint come with us.\\nham\\tSame. Wana plan a trip sometme then\\nham\\tNot sure yet, still trying to get a hold of him\\nspam\\tUr ringtone service has changed! 25 Free credits! Go to club4mobiles.com to choose content now! Stop? txt CLUB STOP to 87070. 150p/wk Club4 PO Box1146 MK45 2WT\\nham\\tThe evo. I just had to download flash. Jealous?\\nspam\\tRingtone Club: Get the UK singles chart on your mobile each week and choose any top quality ringtone! This message is free of charge.\\nham\\tCome to mu, we\\'re sorting out our narcotics situation\\nham\\tNight has ended for another day, morning has come in a special way. May you smile like the sunny rays and leaves your worries at the blue blue bay.\\nspam\\tHMV BONUS SPECIAL 500 pounds of genuine HMV vouchers to be won. Just answer 4 easy questions. Play Now! Send HMV to 86688 More info:www.100percent-real.com\\nham\\tUsf I guess, might as well take 1 car\\nham\\tNo objection. My bf not coming.\\nham\\tThanx...\\nham\\tTell rob to mack his gf in the theater\\nham\\tAwesome, I\\'ll see you in a bit\\nham\\tJust sent it. So what type of food do you like?\\nham\\tAll done? All handed in? Celebrations in full swing yet?\\nham\\tYou got called a tool?\\nham\\t\"Wen u miss someone, the person is definitely special for u..... But if the person is so special, why to miss them, just Keep-in-touch\" gdeve..\\nham\\tOk. I asked for money how far\\nham\\tOkie...\\nham\\tYeah I think my usual guy\\'s still passed out from last night, if you get ahold of anybody let me know and I\\'ll throw down\\nham\\tK, I might come by tonight then if my class lets out early\\nham\\tOk..\\nham\\thi baby im cruisin with my girl friend what r u up 2? give me a call in and hour at home if thats alright or fone me on this fone now love jenny xxx\\nham\\tMy life Means a lot to me, Not because I love my life, But because I love the people in my life, The world calls them friends, I call them my World:-).. Ge:-)..\\nham\\tDear,shall mail tonite.busy in the street,shall update you tonite.things are looking ok.varunnathu edukkukayee raksha ollu.but a good one in real sense.\\nham\\tHey you told your name to gautham ah?\\nham\\tHaf u found him? I feel so stupid da v cam was working.\\nham\\tOops. 4 got that bit.\\nham\\tAre you this much buzy\\nham\\tI accidentally deleted the message. Resend please.\\nspam\\tT-Mobile customer you may now claim your FREE CAMERA PHONE upgrade & a pay & go sim card for your loyalty. Call on 0845 021 3680.Offer ends 28thFeb.T&C\\'s apply\\nham\\tUnless it\\'s a situation where YOU GO GURL would be more appropriate\\nham\\tHurt me... Tease me... Make me cry... But in the end of my life when i die plz keep one rose on my grave and say STUPID I MISS U.. HAVE A NICE DAY BSLVYL\\nham\\tI cant pick the phone right now. Pls send a message\\nham\\tNeed a coffee run tomo?Can\\'t believe it\\'s that time of week already\\nham\\tAwesome, I remember the last time we got somebody high for the first time with diesel :V\\nham\\tShit that is really shocking and scary, cant imagine for a second. Def up for night out. Do u think there is somewhere i could crash for night, save on taxi?\\nham\\tOh and by the way you do have more food in your fridge! Want to go out for a meal tonight? \\nham\\tHe is a womdarfull actor\\nspam\\tSMS. ac Blind Date 4U!: Rodds1 is 21/m from Aberdeen, United Kingdom. Check Him out http://img. sms. ac/W/icmb3cktz8r7!-4 no Blind Dates send HIDE\\nham\\tYup... From what i remb... I think should be can book... \\nham\\tJos ask if u wana meet up?\\nham\\tLol yes. Our friendship is hanging on a thread cause u won\\'t buy stuff.\\nspam\\tTheMob> Check out our newest selection of content, Games, Tones, Gossip, babes and sport, Keep your mobile fit and funky text WAP to 82468\\nham\\tWhere are the garage keys? They aren\\'t on the bookshelf\\nham\\tToday is ACCEPT DAY..U Accept me as? Brother Sister Lover Dear1 Best1 Clos1 Lvblefrnd Jstfrnd Cutefrnd Lifpartnr Belovd Swtheart Bstfrnd No rply means enemy\\nspam\\tThink ur smart ? Win £200 this week in our weekly quiz, text PLAY to 85222 now!T&Cs WinnersClub PO BOX 84, M26 3UZ. 16+. GBP1.50/week\\nham\\tHe says he\\'ll give me a call when his friend\\'s got the money but that he\\'s definitely buying before the end of the week\\nham\\tHi the way I was with u 2day, is the normal way&this is the real me. UR unique&I hope I know u 4 the rest of mylife. Hope u find wot was lost.\\nham\\tYou made my day. Do have a great day too.\\nham\\tK.k:)advance happy pongal.\\nham\\tHmmm... Guess we can go 4 kb n power yoga... Haha, dunno we can tahan power yoga anot... Thk got lo oso, forgot liao...\\nham\\tNot really dude, have no friends i\\'m afraid :(\\nspam\\tDecember only! Had your mobile 11mths+? You are entitled to update to the latest colour camera mobile for Free! Call The Mobile Update Co FREE on 08002986906\\nham\\tCoffee cake, i guess...\\nham\\tMerry Christmas to you too babe, i love ya *kisses*\\nham\\tHey... Why dont we just go watch x men and have lunch... Haha \\nham\\tcud u tell ppl im gona b a bit l8 cos 2 buses hav gon past cos they were full & im still waitin 4 1. Pete x\\nham\\tThat would be great. We\\'ll be at the Guild. Could meet on Bristol road or somewhere - will get in touch over weekend. Our plans take flight! Have a good week\\nham\\tNo problem. How are you doing?\\nham\\tNo calls..messages..missed calls\\nham\\tHi da:)how is the todays class?\\nham\\tI\\'d say that\\'s a good sign but, well, you know my track record at reading women\\nham\\tCool, text me when you\\'re parked\\nham\\tI\\'m reading the text i just sent you. Its meant to be a joke. So read it in that light\\nham\\tK.k:)apo k.good movie.\\nham\\tMaybe i could get book out tomo then return it immediately ..? Or something.\\nspam\\tCall Germany for only 1 pence per minute! Call from a fixed line via access number 0844 861 85 85. No prepayment. Direct access!\\nham\\tAny chance you might have had with me evaporated as soon as you violated my privacy by stealing my phone number from your employer\\'s paperwork. Not cool at all. Please do not contact me again or I will report you to your supervisor.\\nspam\\tValentines Day Special! Win over £1000 in our quiz and take your partner on the trip of a lifetime! Send GO to 83600 now. 150p/msg rcvd. CustCare:08718720201.\\nham\\tTa-Daaaaa! I am home babe, are you still up ?\\nham\\tCool. So how come you havent been wined and dined before?\\nham\\tJust sleeping..and surfing\\nham\\tSorry, I\\'ll call later\\nham\\tU calling me right? Call my hand phone...\\nham\\tOk that\\'s great thanx a lot.\\nham\\tI take it the post has come then! You must have 1000s of texts now! Happy reading. My one from wiv hello caroline at the end is my favourite. Bless him\\nham\\tWhere u been hiding stranger?\\nham\\tAm not interested to do like that.\\nham\\tMy sister cleared two round in birla soft yesterday.\\nham\\tGudnite....tc...practice going on\\nham\\tDis is yijue. I jus saw ur mail. In case huiming havent sent u my num. Dis is my num.\\nham\\tOne small prestige problem now.\\nspam\\tFancy a shag? I do.Interested? sextextuk.com txt XXUK SUZY to 69876. Txts cost 1.50 per msg. TnCs on website. X\\nham\\tJust checking in on you. Really do miss seeing Jeremiah. Do have a great month\\nham\\tNah can\\'t help you there, I\\'ve never had an iphone\\nham\\tIf you\\'re not in my car in an hour and a half I\\'m going apeshit\\nham\\tTODAY is Sorry day.! If ever i was angry with you, if ever i misbehaved or hurt you? plz plz JUST SLAP URSELF Bcoz, Its ur fault, I\\'m basically GOOD\\nham\\tYo you guys ever figure out how much we need for alcohol? Jay and I are trying to figure out how much we can safely spend on weed\\nham\\t&lt;#&gt; ISH MINUTES WAS 5 MINUTES AGO. WTF.\\nham\\tThank You for calling.Forgot to say Happy Onam to you Sirji.I am fine here and remembered you when i met an insurance person.Meet You in Qatar Insha Allah.Rakhesh, ex Tata AIG who joined TISSCO,Tayseer.\\nspam\\tCongratulations ur awarded 500 of CD vouchers or 125gift guaranteed & Free entry 2 100 wkly draw txt MUSIC to 87066 TnCs www.Ldew.com1win150ppmx3age16\\nspam\\tUr cash-balance is currently 500 pounds - to maximize ur cash-in now send CASH to 86688 only 150p/msg. CC: 08708800282 HG/Suite342/2Lands Row/W1J6HL\\nham\\tI\\'m an actor. When i work, i work in the evening and sleep late. Since i\\'m unemployed at the moment, i ALWAYS sleep late. When you\\'re unemployed, every day is saturday.\\nham\\tHello! Just got here, st andrews-boy its a long way! Its cold. I will keep you posted\\nham\\tHa ha cool cool chikku chikku:-):-DB-)\\nham\\tOh ok no prob..\\nham\\tCheck audrey\\'s status right now\\nham\\tBusy here. Trying to finish for new year. I am looking forward to finally meeting you...\\nham\\tGood afternoon sunshine! How dawns that day ? Are we refreshed and happy to be alive? Do we breathe in the air and smile ? I think of you, my love ... As always\\nham\\tWell i know Z will take care of me. So no worries.\\nspam\\tUpdate_Now - Xmas Offer! Latest Motorola, SonyEricsson & Nokia & FREE Bluetooth! Double Mins & 1000 Txt on Orange. Call MobileUpd8 on 08000839402 or call2optout/F4Q=\\nspam\\tHere is your discount code RP176781. To stop further messages reply stop. www.regalportfolio.co.uk. Customer Services 08717205546\\nham\\tWat uniform? In where get?\\nham\\tCool, text me when you\\'re ready\\nham\\tHello my boytoy ... Geeee I miss you already and I just woke up. I wish you were here in bed with me, cuddling me. I love you ...\\nham\\tI will spoil you in bed as well :)\\nham\\tI\\'m going for bath will msg you next  &lt;#&gt;  min..\\nham\\tI cant keep talking to people if am not sure i can pay them if they agree to price. So pls tell me what you want to really buy and how much you are willing to pay\\nspam\\tThanks for your Ringtone Order, Reference T91. You will be charged GBP 4 per week. You can unsubscribe at anytime by calling customer services on 09057039994\\nham\\tCan you say what happen\\nham\\tYou could have seen me..i did\\'t recognise you Face.:)\\nham\\tWell there\\'s not a lot of things happening in Lindsay on New years *sighs* Some bars in Ptbo and the blue heron has something going\\nham\\tKeep my payasam there if rinu brings\\nham\\tI taught that Ranjith sir called me. So only i sms like that. Becaus hes verifying about project. Prabu told today so only pa dont mistake me..\\nham\\tI guess that\\'s why you re worried. You must know that there\\'s a way the body repairs itself. And i\\'m quite sure you shouldn\\'t worry. We\\'ll take it slow. First the tests, they will guide when your ovulation is then just relax. Nothing you\\'ve said is a reason to worry but i.ll keep on followin you up.\\nham\\tYeah sure, give me a couple minutes to track down my wallet\\nham\\tHey leave it. not a big deal:-) take care.\\nham\\tHey i will be late ah... Meet you at 945+\\nspam\\tDouble mins and txts 4 6months FREE Bluetooth on Orange. Available on Sony, Nokia Motorola phones. Call MobileUpd8 on 08000839402 or call2optout/N9DX\\nham\\tIt took Mr owl 3 licks\\nham\\tCustomer place i will call you.\\nham\\tMm that time you dont like fun\\nspam\\t4mths half price Orange line rental & latest camera phones 4 FREE. Had your phone 11mths ? Call MobilesDirect free on 08000938767 to update now! or2stoptxt\\nham\\tYup having my lunch buffet now.. U eat already?\\nham\\tHuh so late... Fr dinner?\\nham\\tHey so this sat are we going for the intro pilates only? Or the kickboxing too? \\nham\\tMorning only i can ok.\\nham\\tYes i think so. I am in office but my lap is in room i think thats on for the last few days. I didnt shut that down\\nham\\tPick you up bout 7.30ish? What time are  and that going?\\nham\\tFrom here after The performance award is calculated every two month.not for current one month period..\\nham\\tWas actually sleeping and still might when u call back. So a text is gr8. You rock sis. Will send u a text wen i wake.\\nham\\tYou are always putting your business out there. You put pictures of your ass on facebook. You are one of the most open people i\\'ve ever met. Why would i think a picture of your room would hurt you, make you feel violated.\\nham\\tGood evening Sir, Al Salam Wahleykkum.sharing a happy news.By the grace of God, i got an offer from Tayseer,TISSCO and i joined.Hope you are fine.Inshah Allah,meet you sometime.Rakhesh,visitor from India.\\nham\\tHmmm...k...but i want to change the field quickly da:-)i wanna get system administrator or network administrator..\\nspam\\tFREE RINGTONE text FIRST to 87131 for a poly or text GET to 87131 for a true tone! Help? 0845 2814032 16 after 1st free, tones are 3x£150pw to e£nd txt stop\\nham\\tDear how is chechi. Did you talk to her\\nham\\tThe hair cream has not been shipped.\\nham\\tNone of that\\'s happening til you get here though\\nham\\tYep, the great loxahatchee xmas tree burning of  &lt;#&gt;  starts in an hour\\nham\\tHaha get used to driving to usf man, I know a lot of stoners\\nham\\tAll was well until slightly disastrous class this pm with my fav darlings! Hope day off ok. Coffee wld be good as can\\'t stay late tomorrow. Same time + place as always?\\nham\\tHello! Good week? Fancy a drink or something later?\\nham\\tHeadin towards busetop\\nham\\tMessage:some text missing* Sender:Name Missing* *Number Missing *Sent:Date missing *Missing U a lot thats y everything is missing sent via fullonsms.com\\nham\\tCome by our room at some point so we can iron out the plan for this weekend\\nham\\tCos i want it to be your thing\\nham\\tOkies... I\\'ll go yan jiu too... We can skip ard oso, go cine den go mrt one, blah blah blah... \\nham\\tBring home some Wendy =D\\nspam\\t100 dating service cal;l 09064012103 box334sk38ch\\nham\\tWhatsup there. Dont u want to sleep\\nham\\tAlright i have a new goal now\\nspam\\tFREE entry into our £250 weekly competition just text the word WIN to 80086 NOW. 18 T&C www.txttowin.co.uk\\nham\\tAlright, I\\'ll head out in a few minutes, text me where to meet you\\nspam\\tSend a logo 2 ur lover - 2 names joined by a heart. Txt LOVE NAME1 NAME2 MOBNO eg LOVE ADAM EVE 07123456789 to 87077 Yahoo! POBox36504W45WQ TxtNO 4 no ads 150p\\nham\\tYes:)from last week itself i\\'m taking live call.\\nspam\\tSomeone has contacted our dating service and entered your phone because they fancy you! To find out who it is call from a landline 09111032124 . PoBox12n146tf150p\\nham\\tSiva is in hostel aha:-.\\nspam\\tURGENT! Your Mobile number has been awarded with a £2000 prize GUARANTEED. Call 09058094455 from land line. Claim 3030. Valid 12hrs only\\nham\\tSend this to ur friends and receive something about ur voice..... How is my speaking expression? 1.childish 2.naughty 3.Sentiment 4.rowdy 5.ful of attitude 6.romantic 7.shy 8.Attractive 9.funny  &lt;#&gt; .irritating  &lt;#&gt; .lovable. reply me..\\nham\\tOk. She\\'ll be ok. I guess\\nham\\taathi..where are you dear..\\nham\\tAny pain on urination any thing else?\\nham\\t7 at esplanade.. Do ü mind giving me a lift cos i got no car today..\\nham\\tI wnt to buy a BMW car urgently..its vry urgent.but hv a shortage of  &lt;#&gt; Lacs.there is no source to arng dis amt. &lt;#&gt; lacs..thats my prob\\nham\\tAt home watching tv lor.\\nham\\tDoes she usually take fifteen fucking minutes to respond to a yes or no question\\nspam\\tCongrats! Nokia 3650 video camera phone is your Call 09066382422 Calls cost 150ppm Ave call 3mins vary from mobiles 16+ Close 300603 post BCM4284 Ldn WC1N3XX\\nham\\tBooked ticket for pongal?\\nham\\tYou available now? I\\'m like right around hillsborough &amp;  &lt;#&gt; th\\nham\\tThe message sent is askin for  &lt;#&gt; dollars. Shoul i pay  &lt;#&gt;  or  &lt;#&gt; ?\\nham\\tAsk g or iouri, I\\'ve told the story like ten times already\\nham\\tHow long does applebees fucking take\\nham\\tHi hope u get this txt~journey hasnt been gd,now about 50 mins late I think.\\nham\\tBut i have to. I like to have love and arrange.\\nham\\tYes..he is really great..bhaji told kallis best cricketer after sachin in world:).very tough to get out.\\nham\\tYou were supposed to wake ME up &gt;:(\\nham\\tOic... I saw him too but i tot he din c me... I found a group liao...\\nham\\tSorry, I\\'ll call later\\nham\\t\"HEY HEY WERETHE MONKEESPEOPLE SAY WE MONKEYAROUND! HOWDY GORGEOUS, HOWU DOIN? FOUNDURSELF A JOBYET SAUSAGE?LOVE JEN XXX\"\\nham\\tSorry, my battery died, I can come by but I\\'m only getting a gram for now, where\\'s your place?\\nham\\tWell done, blimey, exercise, yeah, i kinda remember wot that is, hmm. \\nham\\tI wont get concentration dear you know you are my mind and everything :-)\\nham\\tLOL ... Have you made plans for new years?\\nham\\t10 min later k...\\nham\\thanks lotsly!\\nham\\tThanks for this hope you had a good day today\\nham\\tK:)k:)what are detail you want to transfer?acc no enough?\\nham\\tOk i will tell her to stay out. Yeah its been tough but we are optimistic things will improve this month.\\nspam\\tLoan for any purpose £500 - £75,000. Homeowners + Tenants welcome. Have you been previously refused? We can still help. Call Free 0800 1956669 or text back \\'help\\'\\nham\\tSi si. I think ill go make those oreo truffles.\\nham\\tLOOK AT AMY URE A BEAUTIFUL, INTELLIGENT WOMAN AND I LIKE U A LOT. I KNOW U DON\\x92T LIKE ME LIKE THAT SO DON\\x92T WORRY.\\nham\\tI hope you that\\'s the result of being consistently intelligent and kind. Start asking him about practicum links and keep your ears open and all the best. ttyl\\nham\\t1.20 that call cost. Which i guess isnt bad. Miss ya, need ya, want ya, love ya\\nham\\tGoing thru a very different feeling.wavering decisions and coping up with the same is the same individual.time will heal everything i believe.\\nham\\tWhere did u go? My phone is gonna die you have to stay in here\\nham\\tGreat. Never been better. Each day gives even more reasons to thank God\\nspam\\tUpgrdCentre Orange customer, you may now claim your FREE CAMERA PHONE upgrade for your loyalty. Call now on 0207 153 9153. Offer ends 26th July. T&C\\'s apply. Opt-out available\\nham\\tSorry, I\\'ll call later ok bye\\nham\\tOk i am on the way to railway\\nham\\tgreat princess! I love giving and receiving oral. Doggy style is my fave position. How about you? I enjoy making love  &lt;#&gt;  times per night :)\\nham\\tThey don\\'t put that stuff on the roads to keep it from getting slippery over there?\\nham\\tWhen are you going to ride your bike?\\nham\\tYup, no need. I\\'ll jus wait 4 e rain 2 stop.\\nham\\tThere are many company. Tell me the language.\\nspam\\tokmail: Dear Dave this is your final notice to collect your 4* Tenerife Holiday or #5000 CASH award! Call 09061743806 from landline. TCs SAE Box326 CW25WX 150ppm\\nham\\tHow long has it been since you screamed, princess?\\nham\\tNothing. I meant that once the money enters your account here, the bank will remove its flat rate. Someone transfered  &lt;#&gt;  to my account and  &lt;#&gt; dollars got removed. So the banks differ and charges also differ.be sure you trust the 9ja person you are sending account details to cos...\\nspam\\tWant 2 get laid tonight? Want real Dogging locations sent direct 2 ur Mob? Join the UK\\'s largest Dogging Network by txting MOAN to 69888Nyt. ec2a. 31p.msg@150p\\nham\\tNice line said by a broken heart- Plz don\\'t cum 1 more times infront of me... Other wise once again I ll trust U... Good 9t:)\\nham\\tOk I\\'m gonna head up to usf in like fifteen minutes\\nham\\tLove you aathi..love u lot..\\nham\\tTension ah?what machi?any problem?\\nham\\tK, can I pick up another 8th when you\\'re done?\\nham\\tWhen\\'re you guys getting back? G said you were thinking about not staying for mcr\\nham\\tAlmost there, see u in a sec\\nham\\tYo carlos, a few friends are already asking me about you, you working at all this weekend?\\nham\\tWatching tv lor...\\nham\\tThank you baby! I cant wait to taste the real thing...\\nham\\tYou should change your fb to jaykwon thuglyfe falconerf\\nham\\tIf we win its really no 1 side for long time.\\nspam\\tFREE MESSAGE Activate your 500 FREE Text Messages by replying to this message with the word FREE For terms & conditions, visit www.07781482378.com\\nham\\tDear reached railway. What happen to you\\nham\\tDepends on quality. If you want the type i sent boye, faded glory, then about 6. If you want ralphs maybe 2\\nham\\tI think i\\'ve fixed it can you send a test message?\\nham\\tSorry man my account\\'s dry or I would, if you want we could trade back half or I could buy some shit with my credit card\\nspam\\tCongrats! 1 year special cinema pass for 2 is yours. call 09061209465 now! C Suprman V, Matrix3, StarWars3, etc all 4 FREE! bx420-ip4-5we. 150pm. Dont miss out!\\nham\\tSorry,in meeting I\\'ll call later\\nham\\tWhat class of  &lt;#&gt;  reunion?\\nham\\tAre you free now?can i call now?\\nham\\tGot meh... When?\\nham\\tNope... Think i will go for it on monday... Sorry i replied so late\\nham\\tSome of them told accenture is not confirm. Is it true.\\nham\\tKate jackson rec center before 7ish, right?\\nham\\tDear i have reache room\\nham\\tFighting with the world is easy, u either win or lose bt fightng with some1 who is close to u is dificult if u lose - u lose if u win - u still lose.\\nham\\tWhen can ü come out?\\nham\\tCheck with nuerologist.\\nham\\tLolnice. I went from a fish to ..water.?\\nspam\\t+123 Congratulations - in this week\\'s competition draw u have won the £1450 prize to claim just call 09050002311 b4280703. T&Cs/stop SMS 08718727868. Over 18 only 150ppm\\nham\\tNo it\\'s waiting in e car dat\\'s bored wat. Cos wait outside got nothing 2 do. At home can do my stuff or watch tv wat.\\nham\\tMaybe westshore or hyde park village, the place near my house?\\nham\\tYou should know now. So how\\'s anthony. Are you bringing money. I\\'ve school fees to pay and rent and stuff like that. Thats why i need your help. A friend in need....|\\nham\\tWhat\\'s the significance?\\nham\\tYour opinion about me? 1. Over 2. Jada 3. Kusruthi 4. Lovable 5. Silent 6. Spl character 7. Not matured 8. Stylish 9. Simple Pls reply..\\nham\\t8 at the latest, g\\'s still there if you can scrounge up some ammo and want to give the new ak a try\\nham\\tPrabha..i\\'m soryda..realy..frm heart i\\'m sory\\nham\\tLol ok your forgiven :)\\nham\\tNo..jst change tat only..\\nspam\\tYou are guaranteed the latest Nokia Phone, a 40GB iPod MP3 player or a £500 prize! Txt word: COLLECT to No: 83355! IBHltd LdnW15H 150p/Mtmsgrcvd18+\\nham\\tS:)no competition for him.\\nspam\\tBoltblue tones for 150p Reply POLY# or MONO# eg POLY3 1. Cha Cha Slide 2. Yeah 3. Slow Jamz 6. Toxic 8. Come With Me or STOP 4 more tones txt MORE\\nspam\\tYour credits have been topped up for http://www.bubbletext.com Your renewal Pin is tgxxrz\\nham\\tThat way transport is less problematic than on sat night. By the way, if u want to ask  n  to join my bday, feel free. But need to know definite nos as booking on fri. \\nham\\tUsually the person is unconscious that\\'s in children but in adults they may just behave abnormally. I.ll call you now\\nham\\tBut that\\'s on ebay it might be less elsewhere.\\nham\\tShall i come to get pickle\\nham\\tWere gonna go get some tacos\\nham\\tThat\\'s very rude, you on campus?\\nspam\\tURGENT!: Your Mobile No. was awarded a £2,000 Bonus Caller Prize on 02/09/03! This is our 2nd attempt to contact YOU! Call 0871-872-9755 BOX95QU\\nham\\tHi i won\\'t b ard 4 christmas. But do enjoy n merry x\\'mas.\\nspam\\tToday\\'s Offer! Claim ur £150 worth of discount vouchers! Text YES to 85023 now! SavaMob, member offers mobile! T Cs 08717898035. £3.00 Sub. 16 . Unsub reply X\\nham\\tYes! How is a pretty lady like you single?\\nspam\\tYou will recieve your tone within the next 24hrs. For Terms and conditions please see Channel U Teletext Pg 750\\nham\\tJay says that you\\'re a double-faggot\\nspam\\tPRIVATE! Your 2003 Account Statement for 07815296484 shows 800 un-redeemed S.I.M. points. Call 08718738001 Identifier Code 41782 Expires 18/11/04 \\nham\\tWhat Today-sunday..sunday is holiday..so no work..\\nham\\tGudnite....tc...practice going on\\nham\\tI\\'ll be late...\\nham\\tI\\'ve not called you in a while. This is hoping it was l8r malaria and that you know that we miss you guys. I miss Bani big, so pls give her my love especially. Have a great day.\\nham\\tGood afternoon, my love! How goes that day ? I hope maybe you got some leads on a job. I think of you, boytoy and send you a passionate kiss from across the sea\\nham\\tProbably gonna be here for a while, see you later tonight &lt;)\\nham\\tOr maybe my fat fingers just press all these buttons and it doesn\\'t know what to do.\\nham\\tUmmmmmaah Many many happy returns of d day my dear sweet heart.. HAPPY BIRTHDAY dear\\nham\\tI am in tirupur da, once you started from office call me.\\nspam\\tfrom www.Applausestore.com MonthlySubscription@50p/msg max6/month T&CsC web age16 2stop txt stop\\nham\\tA famous quote : when you develop the ability to listen to \\'anything\\' unconditionally without losing your temper or self confidence, it means you are ......... \\'MARRIED\\'\\nham\\tBut am going to college pa. What to do. are else ill come there it self. Pa.\\nham\\t4 oclock at mine. Just to bash out a flat plan.\\nham\\tThis girl does not stay in bed. This girl doesn\\'t need recovery time. Id rather pass out while having fun then be cooped up in bed\\nham\\tThen any special there?\\nham\\tI know but you need to get hotel now. I just got my invitation but i had to apologise. Cali is to sweet for me to come to some english bloke\\'s weddin\\nham\\tSorry that took so long, omw now\\nham\\tWait  &lt;#&gt;  min..\\nham\\tOk give me 5 minutes I think I see her. BTW you\\'re my alibi. You were cutting my hair the whole time.\\nham\\tImagine you finally get to sink into that bath after I have put you through your paces, maybe even having you eat me for a while before I left ... But also imagine the feel of that cage on your cock surrounded by the bath water, reminding you always who owns you ... Enjoy, my cuck\\nham\\tHurry up, I\\'ve been weed-deficient for like three days\\nham\\tSure, if I get an acknowledgement from you that it\\'s astoundingly tactless and generally faggy to demand a blood oath fo\\nham\\tOk. Every night take a warm bath drink a cup of milk and you\\'ll see a work of magic. You still need to loose weight. Just so that you know\\nham\\tI‘ll have a look at the frying pan in case it‘s cheap or a book perhaps. No that‘s silly a frying pan isn‘t likely to be a book\\nham\\tO. Well uv causes mutations. Sunscreen is like essential thesedays\\nham\\tHaving lunch:)you are not in online?why?\\nham\\tI know that my friend already told that.\\nham\\tHi Princess! Thank you for the pics. You are very pretty. How are you?\\nham\\tAiyo... U always c our ex one... I dunno abt mei, she haven reply... First time u reply so fast... Y so lucky not workin huh, got bao by ur sugardad ah...gee.. \\nham\\tHi msg me:)i\\'m in office..\\nham\\tThanx 4 e brownie it\\'s v nice...\\nham\\tGeeeee ... I love you so much I can barely stand it\\nspam\\tGENT! We are trying to contact you. Last weekends draw shows that you won a £1000 prize GUARANTEED. Call 09064012160. Claim Code K52. Valid 12hrs only. 150ppm \\nham\\tFuck babe ... I miss you already, you know ? Can\\'t you let me send you some money towards your net ? I need you ... I want you ... I crave you ...\\nham\\tIll call u 2mrw at ninish, with my address that icky American freek wont stop callin me 2 bad Jen k eh?\\nham\\tOooh bed ridden ey? What are YOU thinking of?\\nham\\tSo anyways, you can just go to your gym or whatever, my love *smiles* I hope your ok and having a good day babe ... I miss you so much already\\nham\\tLove it! Daddy will make you scream with pleasure! I am going to slap your ass with my dick!\\nham\\tWOT U WANNA DO THEN MISSY?\\nham\\tYar lor wait 4 my mum 2 finish sch then have lunch lor... I whole morning stay at home clean my room now my room quite clean... Hee...\\nham\\tDo you know where my lab goggles went\\nham\\tCan you open the door?\\nham\\tWaiting for your call.\\nham\\tNope i waiting in sch 4 daddy... \\nspam\\tYou have won ?1,000 cash or a ?2,000 prize! To claim, call09050000327\\nham\\tI\\'m tired of arguing with you about this week after week. Do what you want and from now on, i\\'ll do the same.\\nham\\tÜ wait 4 me in sch i finish ard 5..\\nspam\\tour mobile number has won £5000, to claim calls us back or ring the claims hot line on 09050005321.\\nham\\tArngd marriage is while u r walkin unfortuntly a snake bites u. bt love marriage is dancing in frnt of d snake &amp; sayin Bite me, bite me.\\nham\\tHuh so early.. Then ü having dinner outside izzit?\\nham\\tOk anyway no need to change with what you said\\nspam\\tWe tried to contact you re your reply to our offer of 750 mins 150 textand a new video phone call 08002988890 now or reply for free delivery tomorrow\\nham\\tmy ex-wife was not able to have kids. Do you want kids one day?\\nham\\tSo how\\'s scotland. Hope you are not over showing your JJC tendencies. Take care. Live the dream\\nham\\tTell them u have a headache and just want to use 1 hour of sick time.\\nham\\tI dun thk i\\'ll quit yet... Hmmm, can go jazz ? Yogasana oso can... We can go meet em after our lessons den... \\nham\\t\"Pete can you please ring meive hardly gotany credit\"\\nham\\tYa srsly better than yi tho\\nham\\tI\\'m in a meeting, call me later at\\nspam\\tFor ur chance to win a £250 wkly shopping spree TXT: SHOP to 80878. T\\'s&C\\'s www.txt-2-shop.com custcare 08715705022, 1x150p/wk\\nspam\\tYou have been specially selected to receive a 2000 pound award! Call 08712402050 BEFORE the lines close. Cost 10ppm. 16+. T&Cs apply. AG Promo\\nspam\\tPRIVATE! Your 2003 Account Statement for 07753741225 shows 800 un-redeemed S. I. M. points. Call 08715203677 Identifier Code: 42478 Expires 24/10/04\\nham\\tYou still at grand prix?\\nham\\tI met you as a stranger and choose you as my friend. As long as the world stands, our friendship never ends. Lets be Friends forever!!! Gud nitz...\\nham\\tI am great! How are you?\\nham\\tGud mrng dear have a nice day\\nspam\\tYou have an important customer service announcement. Call FREEPHONE 0800 542 0825 now!\\nham\\tWill do. Was exhausted on train this morning. Too much wine and pie. You sleep well too\\nham\\tI\\'m going out to buy mum\\'s present ar.\\nham\\tMind blastin.. No more Tsunamis will occur from now on.. Rajnikant stopped swimming in Indian Ocean..:-D\\nham\\tIf u sending her home first it\\'s ok lor. I\\'m not ready yet.\\nham\\tSpeaking of does he have any cash yet?\\nham\\tBe happy there. I will come after noon\\nham\\tMeet after lunch la...\\nham\\tTaKe CaRE n gET WeLL sOOn\\nspam\\tXCLUSIVE@CLUBSAISAI 2MOROW 28/5 SOIREE SPECIALE ZOUK WITH NICHOLS FROM PARIS.FREE ROSES 2 ALL LADIES !!! info: 07946746291/07880867867 \\nham\\twhat I meant to say is cant wait to see u again getting bored of this bridgwater banter\\nham\\tNeva mind it\\'s ok..\\nham\\tIt\\'s fine, imma get a drink or somethin. Want me to come find you?\\nspam\\t22 days to kick off! For Euro2004 U will be kept up to date with the latest news and results daily. To be removed send GET TXT STOP to 83222\\nham\\tIts a valentine game. . . Send dis msg to all ur friends. .. If 5 answers r d same then someone really loves u. Ques- which colour suits me the best?rply me\\nham\\tI have many dependents\\nham\\tTHANX4 TODAY CER IT WAS NICE 2 CATCH UP BUT WE AVE 2 FIND MORE TIME MORE OFTEN OH WELL TAKE CARE C U SOON.C\\nham\\tI called and said all to him:)then he have to choose this future.\\nham\\t\"Happy valentines day\" I know its early but i have hundreds of handsomes and beauties to wish. So i thought to finish off aunties and uncles 1st...\\nham\\tHe like not v shock leh. Cos telling shuhui is like telling leona also. Like dat almost all know liao. He got ask me abt ur reaction lor.\\nham\\tFor my family happiness..\\nham\\tI come n pick ü up... Come out immediately aft ur lesson...\\nham\\tLet there be snow. Let there be snow. This kind of weather brings ppl together so friendships can grow.\\nham\\tDear we got  &lt;#&gt;  dollars hi hi\\nham\\tGood words.... But words may leave u in dismay many times.\\nham\\tMAKE SURE ALEX KNOWS HIS BIRTHDAY IS OVER IN FIFTEEN MINUTES AS FAR AS YOU\\'RE CONCERNED\\nham\\tsorry, no, have got few things to do. may be in pub later.\\nham\\tNah it\\'s straight, if you can just bring bud or drinks or something that\\'s actually a little more useful than straight cash\\nham\\tHaha good to hear, I\\'m officially paid and on the market for an 8th\\nham\\tHow many licks does it take to get to the center of a tootsie pop?\\nham\\tYup i thk they r e teacher said that will make my face look longer. Darren ask me not 2 cut too short.\\nspam\\tNew TEXTBUDDY Chat 2 horny guys in ur area 4 just 25p Free 2 receive Search postcode or at gaytextbuddy.com. TXT ONE name to 89693\\nspam\\tTodays Vodafone numbers ending with 4882 are selected to a receive a £350 award. If your number matches call 09064019014 to receive your £350 award.\\nham\\tPlease dont say like that. Hi hi hi\\nham\\tThank u!\\nham\\tOh that was a forwarded message. I thought you send that to me\\nham\\tGot it. Seventeen pounds for seven hundred ml – hope ok.\\nspam\\tDear Voucher Holder, 2 claim this weeks offer, at your PC go to http://www.e-tlp.co.uk/expressoffer Ts&Cs apply.2 stop texts txt STOP to 80062.\\nham\\tMe n him so funny...\\nham\\tSweetheart, hope you are not having that kind of day! Have one with loads of reasons to smile. Biola\\nham\\tWhen ü login dat time... Dad fetching ü home now?\\nham\\tWhat will we do in the shower, baby?\\nham\\tI had askd u a question some hours before. Its answer\\nham\\tWell imma definitely need to restock before thanksgiving, I\\'ll let you know when I\\'m out\\nham\\t said kiss, kiss, i can\\'t do the sound effects! He is a gorgeous man isn\\'t he! Kind of person who needs a smile to brighten his day! \\nham\\tProbably gonna swing by in a wee bit\\nham\\tYa very nice. . .be ready on thursday\\nham\\tAllo! We have braved the buses and taken on the trains and triumphed. I mean we‘re in b‘ham. Have a jolly good rest of week\\nham\\tWatching cartoon, listening music &amp; at eve had to go temple &amp; church.. What about u?\\nham\\tDo you mind if I ask what happened? You dont have to say if it is uncomfortable.\\nspam\\tPRIVATE! Your 2003 Account Statement for shows 800 un-redeemed S. I. M. points. Call 08715203694 Identifier Code: 40533 Expires 31/10/04\\nham\\tNo prob. I will send to your email.\\nspam\\tYou have won ?1,000 cash or a ?2,000 prize! To claim, call09050000327. T&C: RSTM, SW7 3SS. 150ppm\\nham\\tThats cool! Sometimes slow and gentle. Sonetimes rough and hard :)\\nham\\tI\\'m gonna say no. Sorry. I would but as normal am starting to panic about time. Sorry again! Are you seeing on Tuesday?\\nham\\tWait, do you know if wesleys in town? I bet she does hella drugs!\\nham\\tFine i miss you very much.\\nham\\tDid u got that persons story\\nham\\tTell them the drug dealer\\'s getting impatient\\nham\\tSun cant come to earth but send luv as rays. cloud cant come to river but send luv as rain. I cant come to meet U, but can send my care as msg to U. Gud evng\\nham\\tYou will be in the place of that man\\nham\\tIt doesnt make sense to take it there unless its free. If you need to know more, wikipedia.com\\nspam\\t88800 and 89034 are premium phone services call 08718711108\\nham\\tUnder the sea, there lays a rock. In the rock, there is an envelope. In the envelope, there is a paper. On the paper, there are 3 words... \\'\\nham\\tThen mum\\'s repent how?\\nham\\tSorry me going home first... Daddy come fetch ü later...\\nham\\tLeave it de:-). Start Prepare for next:-)..\\nham\\tYes baby! We can study all the positions of the kama sutra ;)\\nham\\tEn chikku nange bakra msg kalstiya..then had tea/coffee?\\nham\\tCarlos\\'ll be here in a minute if you still need to buy\\nham\\tThis pay is  &lt;DECIMAL&gt;  lakhs:)\\nham\\tHave a good evening! Ttyl\\nham\\tDid u receive my msg?\\nham\\tHo ho - big belly laugh! See ya tomo\\nspam\\tSMS. ac sun0819 posts HELLO:\"You seem cool, wanted to say hi. HI!!!\" Stop? Send STOP to 62468\\nspam\\tGet ur 1st RINGTONE FREE NOW! Reply to this msg with TONE. Gr8 TOP 20 tones to your phone every week just £1.50 per wk 2 opt out send STOP 08452810071 16\\nham\\tDitto. And you won\\'t have to worry about me saying ANYTHING to you anymore. Like i said last night, you do whatever you want and i\\'ll do the same. Peace.\\nham\\tI\\'ve got  &lt;#&gt; , any way I could pick up?\\nham\\tI dont knw pa, i just drink milk..\\nham\\tMaybe?! Say hi to  and find out if  got his card. Great escape or wetherspoons? \\nham\\tPiggy, r u awake? I bet u\\'re still sleeping. I\\'m going 4 lunch now...\\nham\\tCause I\\'m not freaky lol\\nham\\tMissed your call cause I was yelling at scrappy. Miss u. Can\\'t wait for u to come home. I\\'m so lonely today.\\nham\\tWhat is this \\'hex\\' place you talk of? Explain!\\nham\\tÜ log off 4 wat. It\\'s sdryb8i\\nham\\tIs xy going 4 e lunch?\\nspam\\tHi I\\'m sue. I am 20 years old and work as a lapdancer. I love sex. Text me live - I\\'m i my bedroom now. text SUE to 89555. By TextOperator G2 1DA 150ppmsg 18+\\nham\\tI wanted to ask ü to wait 4 me to finish lect. Cos my lect finishes in an hour anyway.\\nham\\tHave you finished work yet? :)\\nham\\tEvery King Was Once A Crying Baby And Every Great Building Was Once A Map.. Not Imprtant Where U r TODAY, BUT Where U Wil Reach TOMORW. Gud ni8\\nham\\tDear,Me at cherthala.in case u r coming cochin pls call bfore u start.i shall also reach accordingly.or tell me which day u r coming.tmorow i am engaged ans its holiday.\\nham\\tThanks love. But am i doing torch or bold.\\nspam\\t<Forwarded from 448712404000>Please CALL 08712404000 immediately as there is an urgent message waiting for you.\\nham\\tWas the farm open?\\nham\\tSorry to trouble u again. Can buy 4d for my dad again? 1405, 1680, 1843. All 2 big 1 small, sat n sun. Thanx.\\nham\\tMy sister in law, hope you are having a great month. Just saying hey. Abiola\\nham\\tWill purchase d stuff today and mail to you. Do you have a po box number?\\nham\\tAh poop. Looks like ill prob have to send in my laptop to get fixed cuz it has a gpu problem\\nham\\tGood. Good job. I like entrepreneurs\\nham\\tAight, you close by or still down around alex\\'s place?\\nham\\tmeet you in corporation st outside gap … you can see how my mind is working!\\nham\\tMum ask ü to buy food home...\\nham\\tK..u also dont msg or reply to his msg..\\nham\\tHow much r ü willing to pay?\\nham\\tSorry, I\\'ll call later\\nham\\tWhat is important is that you prevent dehydration by giving her enough fluids\\nham\\tThats a bit weird, even ?- where is the do supposed to be happening? But good idea, sure they will be in pub!\\nham\\tTrue dear..i sat to pray evening and felt so.so i sms\\'d you in some time...\\nham\\tI don\\'t think I can get away for a trek that long with family in town, sorry\\nham\\tSo when do you wanna gym harri\\nham\\tQuite late lar... Ard 12 anyway i wun b drivin...\\nspam\\tTo review and KEEP the fantastic Nokia N-Gage game deck with Club Nokia, go 2 www.cnupdates.com/newsletter. unsubscribe from alerts reply with the word OUT\\nspam\\t4mths half price Orange line rental & latest camera phones 4 FREE. Had your phone 11mths+? Call MobilesDirect free on 08000938767 to update now! or2stoptxt T&Cs\\nham\\tHeight of Confidence: All the Aeronautics professors wer calld &amp; they wer askd 2 sit in an aeroplane. Aftr they sat they wer told dat the plane ws made by their students. Dey all hurried out of d plane.. Bt only 1 didnt move... He said:\"if it is made by my students,this wont even start........ Datz confidence..\\nham\\tIt just seems like weird timing that the night that all you and g want is for me to come smoke is the same day as when a shitstorm is attributed to me always coming over and making everyone smoke\\nspam\\t08714712388 between 10am-7pm Cost 10p\\nham\\tSave yourself the stress. If the person has a dorm account, just send your account details and the money will be sent to you.\\nham\\tHe also knows about lunch menu only da. . I know\\nham\\tWhen i have stuff to sell i.ll tell you\\nspam\\t+449071512431 URGENT! This is the 2nd attempt to contact U!U have WON £1250 CALL 09071512433 b4 050703 T&CsBCM4235WC1N3XX. callcost 150ppm mobilesvary. max£7. 50\\nham\\tBook which lesson? then you msg me... I will call up after work or sth... I\\'m going to get specs. My membership is PX3748\\nspam\\tYou have WON a guaranteed £1000 cash or a £2000 prize. To claim yr prize call our customer service representative on 08714712394 between 10am-7pm\\nham\\tMacha dont feel upset.i can assume your mindset.believe me one evening with me and i have some wonderful plans for both of us.LET LIFE BEGIN AGAIN.call me anytime\\nham\\tOh is it? Send me the address\\nham\\tS\\'fine. Anytime. All the best with it.\\nham\\tThat is wondar full flim.\\nham\\tYa even those cookies have jelly on them\\nham\\tThe world is running and i am still.maybe all are feeling the same,so be it.or i have to admit,i am mad.then where is the correction?or let me call this is life.and keep running with the world,may be u r also running.lets run.\\nham\\tGot it! It looks scrumptious... daddy wants to eat you all night long!\\nham\\tOf cos can lar i\\'m not so ba dao ok... 1 pm lor... Y u never ask where we go ah... I said u would ask on fri but he said u will ask today...\\nham\\tAlright omw, gotta change my order to a half8th\\nham\\tExactly. Anyways how far. Is jide her to study or just visiting\\nham\\tDunno y u ask me.\\nspam\\tEmail AlertFrom: Jeri StewartSize: 2KBSubject: Low-cost prescripiton drvgsTo listen to email call 123\\nham\\tNo he didn\\'t. Spring is coming early yay!\\nham\\tLol you won\\'t feel bad when I use her money to take you out to a steak dinner =D\\nham\\tEven u dont get in trouble while convincing..just tel him once or twice and just tel neglect his msgs dont c and read it..just dont reply\\nham\\tLeaving to qatar tonite in search of an opportunity.all went fast.pls add me in ur prayers dear.Rakhesh\\nham\\tThen why no one talking to me\\nham\\tThanks for looking out for me. I really appreciate.\\nspam\\tHi. Customer Loyalty Offer:The NEW Nokia6650 Mobile from ONLY £10 at TXTAUCTION! Txt word: START to No: 81151 & get yours Now! 4T&Ctxt TC 150p/MTmsg\\nham\\tWish i were with you now!\\nham\\tHaha mayb u\\'re rite... U know me well. Da feeling of being liked by someone is gd lor. U faster go find one then all gals in our group attached liao.\\nham\\tYes i will be there. Glad you made it.\\nham\\tDo well :)all will for little time. Thing of good times ahead:\\nham\\tJust got up. have to be out of the room very soon. …. i hadn\\'t put the clocks back til at 8 i shouted at everyone to get up and then realised it was 7. wahay. another hour in bed.\\nham\\tOk. There may be a free gym about.\\nham\\tMen like shorter ladies. Gaze up into his eyes.\\nham\\tDunno he jus say go lido. Same time 930.\\nham\\tI promise to take good care of you, princess. I have to run now. Please send pics when you get a chance. Ttyl!\\nspam\\tU are subscribed to the best Mobile Content Service in the UK for £3 per 10 days until you send STOP to 82324. Helpline 08706091795\\nham\\tIs there a reason we\\'ve not spoken this year? Anyways have a great week and all the best in your exam\\nham\\tBy monday next week. Give me the full gist\\nspam\\tDo you realize that in about 40 years, we\\'ll have thousands of old ladies running around with tattoos?\\nspam\\tYou have an important customer service announcement from PREMIER.\\nham\\tDont gimme that lip caveboy\\nham\\tWhen did you get to the library\\nham\\tRealy sorry-i don\\'t recognise this number and am now confused :) who r u please?! \\nham\\tSo why didnt you holla?\\nham\\tCant think of anyone with * spare room off * top of my head\\nham\\tFaith makes things possible,Hope makes things work,Love makes things beautiful,May you have all three this Christmas!Merry Christmas!\\nham\\tU should have made an appointment\\nham\\tCall me when you/carlos is/are here, my phone\\'s vibrate is acting up and I might not hear texts\\nspam\\tRomantic Paris. 2 nights, 2 flights from £79 Book now 4 next year. Call 08704439680Ts&Cs apply.\\nham\\tWe are at grandmas. Oh dear, u still ill? I felt Shit this morning but i think i am just hungover! Another night then. We leave on sat.\\nspam\\tUrgent Ur £500 guaranteed award is still unclaimed! Call 09066368327 NOW closingdate04/09/02 claimcode M39M51 £1.50pmmorefrommobile2Bremoved-MobyPOBox734LS27YF\\nham\\tNothing but we jus tot u would ask cos u ba gua... But we went mt faber yest... Yest jus went out already mah so today not going out... Jus call lor...\\nham\\tWishing you and your family Merry \"X\" mas and HAPPY NEW Year in advance..\\nspam\\tUR awarded a City Break and could WIN a £200 Summer Shopping spree every WK. Txt STORE to 88039 . SkilGme. TsCs087147403231Winawk!Age16 £1.50perWKsub\\nham\\tI\\'m nt goin, got somethin on, unless they meetin 4 dinner lor... Haha, i wonder who will go tis time...\\nham\\tSorry, I\\'ll call later\\nham\\tI cant pick the phone right now. Pls send a message\\nham\\tLol I know! They\\'re so dramatic. Schools already closed for tomorrow. Apparently we can\\'t drive in the inch of snow were supposed to get.\\nham\\tNot getting anywhere with this damn job hunting over here!\\nham\\tLol! U drunkard! Just doing my hair at d moment. Yeah still up 4 tonight. Wats the plan? \\nham\\tidc get over here, you are not weaseling your way out of this shit twice in a row\\nham\\tI wil be there with in  &lt;#&gt;  minutes. Got any space\\nham\\tJust sleeping..and surfing\\nham\\tThanks for picking up the trash.\\nham\\tWhy don\\'t you go tell your friend you\\'re not sure you want to live with him because he smokes too much then spend hours begging him to come smoke\\nham\\t\"Hi its Kate it was lovely to see you tonight and ill phone you tomorrow. I got to sing and a guy gave me his card! xxx\"\\nham\\tHappy New year my dear brother. I really do miss you. Just got your number and decided to send you this text wishing you only happiness. Abiola\\nham\\tThat means get the door\\nham\\tYour opinion about me? 1. Over 2. Jada 3. Kusruthi 4. Lovable 5. Silent 6. Spl character 7. Not matured 8. Stylish 9. Simple Pls reply..\\nham\\tHmmm ... I thought we said 2 hours slave, not 3 ... You are late ... How should I punish you ?\\nham\\tBeerage?\\nspam\\tYou have an important customer service announcement from PREMIER. Call FREEPHONE 0800 542 0578 now!\\nham\\tDont think so. It turns off like randomlly within 5min of opening\\nham\\tShe was supposed to be but couldn\\'t make it, she\\'s still in town though\\nham\\tIt does it on its own. Most of the time it fixes my spelling. But sometimes it gets a completely diff word. Go figure\\nspam\\tEver thought about living a good life with a perfect partner? Just txt back NAME and AGE to join the mobile community. (100p/SMS)\\nspam\\t5 Free Top Polyphonic Tones call 087018728737, National Rate. Get a toppoly tune sent every week, just text SUBPOLY to 81618, £3 per pole. UnSub 08718727870.\\nham\\tGud mrng dear hav a nice day\\nham\\tThis is hoping you enjoyed your game yesterday. Sorry i\\'ve not been in touch but pls know that you are fondly bein thot off. Have a great week. Abiola\\nham\\tAll e best 4 ur driving tmr :-)\\nham\\tY?WHERE U AT DOGBREATH? ITS JUST SOUNDING LIKE JAN C THAT\\x92S AL!!!!!!!!!\\nham\\tOmg I want to scream. I weighed myself and I lost more weight! Woohoo!\\nham\\tThere generally isn\\'t one. It\\'s an uncountable noun - u in the dictionary. pieces of research?\\nham\\tit\\'s really getting me down just hanging around.\\nspam\\tOrange customer, you may now claim your FREE CAMERA PHONE upgrade for your loyalty. Call now on 0207 153 9996. Offer ends 14thMarch. T&C\\'s apply. Opt-out availa\\nham\\t\"Petey boy whereare you me and all your friendsare in theKingshead come down if you canlove Nic\"\\nham\\tOk i msg u b4 i leave my house.\\nham\\t\"Gimme a few\" was  &lt;#&gt;  minutes ago\\nspam\\tLast Chance! Claim ur £150 worth of discount vouchers today! Text SHOP to 85023 now! SavaMob, offers mobile! T Cs SavaMob POBOX84, M263UZ. £3.00 Sub. 16\\nham\\tAppt is at &lt;TIME&gt; am. Not my fault u don\\'t listen. I told u twice\\nspam\\tFREE for 1st week! No1 Nokia tone 4 ur mobile every week just txt NOKIA to 8077 Get txting and tell ur mates. www.getzed.co.uk POBox 36504 W45WQ 16+ norm150p/tone\\nspam\\tYou have won a guaranteed £200 award or even £1000 cashto claim UR award call free on 08000407165 (18+) 2 stop getstop on 88222 PHP. RG21 4JX\\nham\\tK I\\'ll be there before 4.\\nham\\tI dled 3d its very imp\\nham\\tsure, but make sure he knows we ain\\'t smokin yet\\nham\\tBoooo you always work. Just quit.\\nham\\tI am taking half day leave bec i am not well\\nham\\tUgh I don\\'t wanna get out of bed. It\\'s so warm.\\nham\\tS:)s.nervous  &lt;#&gt; :)\\nham\\tSo there\\'s a ring that comes with the guys costumes. It\\'s there so they can gift their future yowifes. Hint hint\\nspam\\tCongratulations ur awarded either £500 of CD gift vouchers & Free entry 2 our £100 weekly draw txt MUSIC to 87066 TnCs www.Ldew.com1win150ppmx3age16\\nham\\tI borrow ur bag ok.\\nspam\\tU were outbid by simonwatson5120 on the Shinco DVD Plyr. 2 bid again, visit sms. ac/smsrewards 2 end bid notifications, reply END OUT\\nham\\tWhere\\'s my boytoy? I miss you ... What happened?\\nham\\tHe has lots of used ones babe, but the model doesn\\'t help. Youi have to bring it over and he\\'ll match it up\\nham\\tAlso are you bringing galileo or dobby\\nham\\tThen why you not responding\\nham\\t\"BOO BABE! U ENJOYIN YOURJOB? U SEEMED 2 B GETTIN ON WELL HUNNY!HOPE URE OK?TAKE CARE & I\\x92LLSPEAK 2U SOONLOTS OF LOVEME XXXX.\"\\nham\\tGood afternoon starshine! How\\'s my boytoy? Does he crave me yet? Ache to fuck me ? *sips cappuccino* I miss you babe *teasing kiss*\\nham\\tOn the road so cant txt\\nspam\\tSMSSERVICES. for yourinclusive text credits, pls goto www.comuk.net login= 3qxj9 unsubscribe with STOP, no extra charge. help 08702840625.COMUK. 220-CM2 9AE\\nspam\\t25p 4 alfie Moon\\'s Children in need song on ur mob. Tell ur m8s. Txt Tone charity to 8007 for Nokias or Poly charity for polys: zed 08701417012 profit 2 charity.\\nham\\tHave a good evening! Ttyl\\nham\\tHmm .. Bits and pieces lol ... *sighs* ...\\nham\\tHahaha..use your brain dear\\nham\\tHey. You got any mail?\\nham\\tSorry light turned green, I meant another friend wanted  &lt;#&gt;  worth but he may not be around\\nham\\tThanks for yesterday sir. You have been wonderful. Hope you enjoyed the burial. MojiBiola\\nspam\\tU have a secret admirer. REVEAL who thinks U R So special. Call 09065174042. To opt out Reply REVEAL STOP. 1.50 per msg recd. Cust care 07821230901\\nham\\tHi mate its RV did u hav a nice hol just a message 3 say hello coz haven\\x92t sent u 1 in ages started driving so stay off roads!RVx\\nspam\\tDear Voucher Holder, To claim this weeks offer, at you PC please go to http://www.e-tlp.co.uk/expressoffer Ts&Cs apply. To stop texts, txt STOP to 80062\\nham\\tThank you so much. When we skyped wit kz and sura, we didnt get the pleasure of your company. Hope you are good. We\\'ve given you ultimatum oh! We are countin down to aburo. Enjoy! This is the message i sent days ago\\nham\\tSurely result will offer:)\\nham\\tGood Morning my Dear........... Have a great &amp; successful day.\\nspam\\tDo you want 750 anytime any network mins 150 text and a NEW VIDEO phone for only five pounds per week call 08002888812 or reply for delivery tomorrow\\nham\\tSir, I have been late in paying rent for the past few months and had to pay a $ &lt;#&gt;  charge. I felt it would be inconsiderate of me to nag about something you give at great cost to yourself and that\\'s why i didnt speak up. I however am in a recession and wont be able to pay the charge this month hence my askin well ahead of month\\'s end. Can you please help. Thanks\\nspam\\tWe tried to contact you re our offer of New Video Phone 750 anytime any network mins HALF PRICE Rental camcorder call 08000930705 or reply for delivery Wed\\nspam\\tLast chance 2 claim ur £150 worth of discount vouchers-Text YES to 85023 now!SavaMob-member offers mobile T Cs 08717898035. £3.00 Sub. 16 . Remove txt X or STOP\\nham\\tI luv u soo much u don\\x92t understand how special u r 2 me ring u 2morrow luv u xxx\\nham\\tPls send me a comprehensive mail about who i\\'m paying, when and how much.\\nham\\tOur Prashanthettan\\'s mother passed away last night. pray for her and family.\\nspam\\tUrgent! call 09066350750 from your landline. Your complimentary 4* Ibiza Holiday or 10,000 cash await collection SAE T&Cs PO BOX 434 SK3 8WP 150 ppm 18+ \\nham\\tK.k:)when are you going?\\nham\\tMeanwhile in the shit suite: xavier decided to give us  &lt;#&gt;  seconds of warning that samantha was coming over and is playing jay\\'s guitar to impress her or some shit. Also I don\\'t think doug realizes I don\\'t live here anymore\\nham\\tMy stomach has been thru so much trauma I swear I just can\\'t eat. I better lose weight.\\nham\\tI am in office:)whats the matter..msg me now.i will call you at break:).\\nham\\tYeah there\\'s barely enough room for the two of us, x has too many fucking shoes. Sorry man, see you later\\nspam\\tToday\\'s Offer! Claim ur £150 worth of discount vouchers! Text YES to 85023 now! SavaMob, member offers mobile! T Cs 08717898035. £3.00 Sub. 16 . Unsub reply X\\nham\\tU reach orchard already? U wan 2 go buy tickets first?\\nham\\tI am real, baby! I want to bring out your inner tigress...\\nham\\tNo da if you run that it activate the full version da.\\nham\\t\"AH POOR BABY!HOPE URFEELING BETTERSN LUV! PROBTHAT OVERDOSE OF WORK HEY GO CAREFUL SPK 2 U SN LOTS OF LOVEJEN XXX.\"\\nham\\tStop the story. I\\'ve told him i\\'ve returned it and he\\'s saying i should not re order it.\\nspam\\tTalk sexy!! Make new friends or fall in love in the worlds most discreet text dating service. Just text VIP to 83110 and see who you could meet.\\nham\\tGoing to take your babe out ?\\nham\\tHai ana tomarrow am coming on morning.  &lt;DECIMAL&gt;  ill be there in sathy then we ll go to RTO office. Reply me after came to home.\\nham\\tSpoons it is then okay?\\nham\\tDid he just say somebody is named tampa\\nham\\tIn work now. Going have in few min.\\nham\\tYour brother is a genius\\nham\\tSorry, I guess whenever I can get a hold of my connections, maybe an hour or two? I\\'ll text you\\nham\\tDid u find out what time the bus is at coz i need to sort some stuff out.\\nham\\tDude ive been seeing a lotta corvettes lately\\nspam\\tCongratulations ur awarded either a yrs supply of CDs from Virgin Records or a Mystery Gift GUARANTEED Call 09061104283 Ts&Cs www.smsco.net £1.50pm approx 3mins\\nham\\tSame here, but I consider walls and bunkers and shit important just because I never play on peaceful but I guess your place is high enough that it don\\'t matter\\nspam\\tPRIVATE! Your 2003 Account Statement for 07808 XXXXXX shows 800 un-redeemed S. I. M. points. Call 08719899217 Identifier Code: 41685 Expires 07/11/04\\nspam\\tHello. We need some posh birds and chaps to user trial prods for champneys. Can i put you down? I need your address and dob asap. Ta r\\nspam\\tWhat do U want for Xmas? How about 100 free text messages & a new video phone with half price line rental? Call free now on 0800 0721072 to find out more!\\nham\\tWell am officially in a philosophical hole, so if u wanna call am at home ready to be saved!\\nham\\tIts going good...no problem..but still need little experience to understand american customer voice...\\nham\\tI\\'ll text you when I drop x off\\nham\\tUgh its been a long day. I\\'m exhausted. Just want to cuddle up and take a nap\\nham\\tTalk With Yourself Atleast Once In A Day...!!! Otherwise You Will Miss Your Best FRIEND In This WORLD...!!! -Shakespeare- SHESIL  &lt;#&gt;\\nspam\\tShop till u Drop, IS IT YOU, either 10K, 5K, £500 Cash or £100 Travel voucher, Call now, 09064011000. NTT PO Box CR01327BT fixedline Cost 150ppm mobile vary\\nham\\tAre you in castor? You need to see something\\nspam\\tSunshine Quiz Wkly Q! Win a top Sony DVD player if u know which country Liverpool played in mid week? Txt ansr to 82277. £1.50 SP:Tyrone\\nspam\\tU have a secret admirer who is looking 2 make contact with U-find out who they R*reveal who thinks UR so special-call on 09058094565\\nspam\\tU have a Secret Admirer who is looking 2 make contact with U-find out who they R*reveal who thinks UR so special-call on 09065171142-stopsms-08\\nspam\\tReminder: You have not downloaded the content you have already paid for. Goto http://doit. mymoby. tv/ to collect your content.\\nham\\tsee, i knew giving you a break a few times woul lead to you always wanting to miss curfew. I was gonna gibe you \\'til one, but a MIDNIGHT movie is not gonna get out til after 2. You need to come home. You need to getsleep and, if anything, you need to b studdying ear training.\\nham\\tI love to give massages. I use lots of baby oil... What is your fave position?\\nham\\tDude we should go sup again\\nham\\tYoyyooo u know how to change permissions for a drive in mac. My usb flash drive\\nham\\tGibbs unsold.mike hussey\\nham\\tI like to talk pa but am not able to. I dont know y.\\nham\\tY dun cut too short leh. U dun like ah? She failed. She\\'s quite sad.\\nham\\tYou unbelievable faglord\\nham\\tWife.how she knew the time of murder exactly\\nham\\tWhy do you ask princess?\\nham\\tI am great princess! What are you thinking about me? :)\\nham\\tNutter. Cutter. Ctter. Cttergg. Cttargg. Ctargg. Ctagg. ie you\\nham\\tIt\\'s ok i noe u\\'re busy but i\\'m really too bored so i msg u. I oso dunno wat colour she choose 4 me one.\\nham\\tDoesn\\'t g have class early tomorrow and thus shouldn\\'t be trying to smoke at  &lt;#&gt;\\nham\\tSuperb Thought- \"Be grateful that u dont have everything u want. That means u still have an opportunity to be happier tomorrow than u are today.\":-)\\nham\\tHope you are having a good week. Just checking in\\nham\\tI\\'m used to it. I just hope my agents don\\'t drop me since i\\'ve only booked a few things this year. This whole me in boston, them in nyc was an experiment.\\nham\\tThursday night? Yeah, sure thing, we\\'ll work it out then\\nspam\\tYour free ringtone is waiting to be collected. Simply text the password \"MIX\" to 85069 to verify. Get Usher and Britney. FML, PO Box 5249, MK17 92H. 450Ppw 16\\nham\\tProbably money worries. Things are coming due and i have several outstanding invoices for work i did two and three months ago.\\nham\\tHow is it possible to teach you. And where.\\nham\\tI wonder if your phone battery went dead ? I had to tell you, I love you babe\\nham\\tLovely smell on this bus and it ain\\'t tobacco... \\nham\\tWe\\'re all getting worried over here, derek and taylor have already assumed the worst\\nham\\tHey what\\'s up charles sorry about the late reply.\\nspam\\tall the lastest from Stereophonics, Marley, Dizzee Racal, Libertines and The Strokes! Win Nookii games with Flirt!! Click TheMob WAP Bookmark or text WAP to 82468\\nham\\tI.ll give her once i have it. Plus she said grinule greet you whenever we speak\\nham\\tWHITE FUDGE OREOS ARE IN STORES\\nspam\\tJanuary Male Sale! Hot Gay chat now cheaper, call 08709222922. National rate from 1.5p/min cheap to 7.8p/min peak! To stop texts call 08712460324 (10p/min)\\nham\\tMy love ! How come it took you so long to leave for Zaher\\'s? I got your words on ym and was happy to see them but was sad you had left. I miss you\\nham\\tI am sorry it hurt you.\\nham\\tCan\\'t. I feel nauseous. I\\'m so pissed. I didn\\'t eat any sweets all week cause today I was planning to pig out. I was dieting all week. And now I\\'m not hungry :/\\nham\\tOk lor but not too early. Me still having project meeting now.\\nham\\tCall me da, i am waiting for your call.\\nham\\tI could ask carlos if we could get more if anybody else can chip in\\nham\\tWas actually about to send you a reminder today. Have a wonderful weekend\\nham\\tWhen people see my msgs, They think Iam addicted to msging... They are wrong, Bcoz They don\\\\\\'t know that Iam addicted to my sweet Friends..!! BSLVYL\\nham\\tHey you gave them your photo when you registered for driving ah? Tmr wanna meet at yck? \\nham\\tDont talk to him ever ok its my word.\\nham\\tWhen u wana see it then\\nham\\tOn ma way to school. Can you pls send me ashley\\'s number\\nham\\tIt shall be fine. I have avalarr now. Will hollalater\\nham\\tShe went to attend another two rounds today..but still did\\'t reach home..\\nham\\tActually i deleted my old website..now i m blogging at magicalsongs.blogspot.com\\nham\\tK, wait chikku..il send aftr  &lt;#&gt; mins\\nham\\tBut I\\'m on a diet. And I ate 1 too many slices of pizza yesterday. Ugh I\\'m ALWAYS on a diet.\\nham\\tK:)i will give my kvb acc details:)\\nham\\tOh all have to come ah?\\nspam\\tmoney!!! you r a lucky winner ! 2 claim your prize text money 2 88600 over £1million to give away ! ppt150x3+normal text rate box403 w1t1jy\\nham\\tI\\'m really sorry i won\\'t b able 2 do this friday.hope u can find an alternative.hope yr term\\'s going ok:-)\\nham\\tCongratulations ore mo owo re wa. Enjoy it and i wish you many happy moments to and fro wherever you go\\nham\\tSo do you have samus shoulders yet\\nham\\tWhat time you think you\\'ll have it? Need to know when I should be near campus\\nspam\\tDear Matthew please call 09063440451 from a landline, your complimentary 4*Lux Tenerife holiday or £1000 CASH await collection. ppm150 SAE T&Cs Box334 SK38XH.\\nham\\tThen dun wear jeans lor...\\nham\\tSince when, which side, any fever, any vomitin.\\nham\\tK:)k.are you in college?\\nspam\\tUrgent! call 09061749602 from Landline. Your complimentary 4* Tenerife Holiday or £10,000 cash await collection SAE T&Cs BOX 528 HP20 1YF 150ppm 18+\\nham\\tBetter. Made up for Friday and stuffed myself like a pig yesterday. Now I feel bleh. But at least its not writhing pain kind of bleh.\\nham\\tNo we sell it all so we\\'ll have tons if coins. Then sell our coins to someone thru paypal. Voila! Money back in life pockets:)\\nham\\tTheyre doing it to lots of places. Only hospitals and medical places are safe.\\nspam\\tHow about getting in touch with folks waiting for company? Just txt back your NAME and AGE to opt in! Enjoy the community (150p/SMS)\\nham\\tAnd also I\\'ve sorta blown him off a couple times recently so id rather not text him out of the blue looking for weed\\nham\\tI sent my scores to sophas and i had to do secondary application for a few schools. I think if you are thinking of applying, do a research on cost also. Contact joke ogunrinde, her school is one me the less expensive ones\\nham\\tI cant wait to see you! How were the photos were useful? :)\\nspam\\tUr cash-balance is currently 500 pounds - to maximize ur cash-in now send GO to 86688 only 150p/msg. CC: 08718720201 PO BOX 114/14 TCR/W1\\nham\\tHey i booked the kb on sat already... what other lessons are we going for ah? Keep your sat night free we need to meet and confirm our lodging \\nham\\tChk in ur belovd ms dict\\nham\\tIs that what time you want me to come?\\nham\\tAwesome, lemme know whenever you\\'re around\\nham\\tShb b ok lor... Thanx...\\nham\\tBeautiful Truth against Gravity.. Read carefully: \"Our heart feels light when someone is in it.. But it feels very heavy when someone leaves it..\" GOOD NIGHT\\nham\\tAlso remember to get dobby\\'s bowl from your car\\nspam\\tFilthy stories and GIRLS waiting for your\\nham\\tSorry i now then c ur msg... Yar lor so poor thing... But only 4 one night... Tmr u\\'ll have a brand new room 2 sleep in...\\nham\\tLove isn\\'t a decision, it\\'s a feeling. If we could decide who to love, then, life would be much simpler, but then less magical\\nham\\tWelp apparently he retired\\nham\\tMy sort code is  and acc no is . The bank is natwest. Can you reply to confirm i\\'ve sent this to the right person!\\nham\\tWhere @\\nham\\tU sure u can\\'t take any sick time?\\nspam\\tURGENT! We are trying to contact U. Todays draw shows that you have won a £800 prize GUARANTEED. Call 09050001808 from land line. Claim M95. Valid12hrs only\\nham\\tWatching cartoon, listening music &amp; at eve had to go temple &amp; church.. What about u?\\nham\\tYo chad which gymnastics class do you wanna take? The site says Christians class is full..\\nham\\tAre you this much buzy\\nham\\tOr better still can you catch her and let ask her if she can sell  &lt;#&gt;  for me.\\nham\\tI am not sure about night menu. . . I know only about noon menu\\nham\\tWhat do u want when i come back?.a beautiful necklace as a token of my heart for you.thats what i will give but ONLY to MY WIFE OF MY LIKING.BE THAT AND SEE..NO ONE can give you that.dont call me.i will wait till i come.\\nham\\tAre you willing to go for aptitude class.\\nham\\tIt wont b until 2.15 as trying 2 sort house out, is that ok?\\nham\\tYar lor he wan 2 go c horse racing today mah, so eat earlier lor. I ate chicken rice. U?\\nham\\tHaha awesome, omw back now then\\nham\\tYup i thk so until e shop closes lor.\\nham\\twhat is your account number?\\nham\\tEh u send wrongly lar...\\nham\\tHey no I ad a crap nite was borin without ya 2 boggy with me u boring biatch! Thanx but u wait til nxt time il ave ya \\nham\\tOk i shall talk to him\\nham\\tDont hesitate. You know this is the second time she has had weakness like that. So keep i notebook of what she eat and did the day before or if anything changed the day before so that we can be sure its nothing\\nham\\tHey you can pay. With salary de. Only  &lt;#&gt; .\\nham\\tAnother month. I need chocolate weed and alcohol.\\nham\\tIf he started searching he will get job in few days.he have great potential and talent.\\nham\\tReckon need to be in town by eightish to walk from * carpark.\\nspam\\tCongrats! 2 mobile 3G Videophones R yours. call 09063458130 now! videochat wid your mates, play java games, Dload polyPH music, noline rentl.\\nham\\tLOOK AT THE FUCKIN TIME. WHAT THE FUCK YOU THINK IS UP\\nham\\tYo guess what I just dropped\\nham\\tCarlos says he\\'ll be at mu in  &lt;#&gt;  minutes\\nham\\tI\\'m in office now . I will call you  &lt;#&gt;  min:)\\nham\\tGeeee ... I miss you already, you know ? Your all I can think about. Fuck, I can\\'t wait till next year when we will be together ... *loving kiss*\\nham\\tYun ah.the ubi one say if ü wan call by tomorrow.call 67441233 look for irene.ere only got bus8,22,65,61,66,382. Ubi cres,ubi tech park.6ph for 1st 5wkg days.èn\\nham\\tUgh. Gotta drive back to sd from la. My butt is sore.\\nham\\t26th OF JULY\\nham\\tHi im having the most relaxing time ever! we have to get up at 7am every day! was the party good the other night? I get home tomorrow at 5ish.\\nham\\tUp to ü... Ü wan come then come lor... But i din c any stripes skirt...\\nham\\tThe Xmas story is peace.. The Xmas msg is love.. The Xmas miracle is jesus.. Hav a blessed month ahead &amp; wish U Merry Xmas...\\nham\\tI can\\'t, I don\\'t have her number!\\nham\\tChange again... It\\'s e one next to escalator...\\nham\\tYetunde i\\'m in class can you not run water on it to make it ok. Pls now.\\nham\\tNot a lot has happened here. Feels very quiet. Beth is at her aunts and charlie is working lots. Just me and helen in at the mo. How have you been? \\nham\\tThen ü wait 4 me at bus stop aft ur lect lar. If i dun c ü then i go get my car then come back n pick ü.\\nham\\tAight will do, thanks again for comin out\\nham\\tNo..but heard abt tat..\\nspam\\tPlease call our customer service representative on FREEPHONE 0808 145 4742 between 9am-11pm as you have WON a guaranteed £1000 cash or £5000 prize!\\nham\\tYes..he is really great..bhaji told kallis best cricketer after sachin in world:).very tough to get out.\\nham\\t&lt;#&gt;  am I think? Should say on syllabus\\nham\\tUmma. Did she say anything\\nham\\tGive me a sec to think think about it\\nspam\\tPanasonic & BluetoothHdset FREE. Nokia FREE. Motorola FREE & DoubleMins & DoubleTxt on Orange contract. Call MobileUpd8 on 08000839402 or call 2optout\\nham\\tI don\\'t quite know what to do. I still can\\'t get hold of anyone. I cud pick you up bout 7.30pm and we can see if they\\'re in the pub?\\nham\\tPoyyarikatur,kolathupalayam,unjalur post,erode dis, &lt;#&gt; .\\nham\\tDear Hero,i am leaving to qatar tonite for an apt opportunity.pls do keep in touch at  &lt;EMAIL&gt; ,kerala\\nham\\tLol I would but my mom would have a fit and tell the whole family how crazy and terrible I am\\nham\\tI just got home babe, are you still awake ?\\nham\\tI dunno they close oredi not... Ü v ma fan...\\nham\\tJust buy a pizza. Meat lovers or supreme. U get to pick.\\nham\\tYa, told..she was asking wats matter?\\nham\\tDear,regret i cudnt pick call.drove down frm ctla now at cochin home.left mobile in car..ente style ishtamayoo?happy bakrid!\\nspam\\tFREE for 1st week! No1 Nokia tone 4 ur mob every week just txt NOKIA to 8007 Get txting and tell ur mates www.getzed.co.uk POBox 36504 W45WQ norm150p/tone 16+\\nham\\tShall i send that exe to your mail id.\\nham\\tNope watching tv at home... Not going out. V bored...\\nham\\tDon know..wait i will check it.\\nham\\tGood afternoon on this glorious anniversary day, my sweet J !! I hope this finds you happy and content, my Prey. I think of you and send a teasing kiss from across the sea coaxing images of fond souveniers ... You Cougar-Pen\\nspam\\tGuess what! Somebody you know secretly fancies you! Wanna find out who it is? Give us a call on 09065394514 From Landline DATEBox1282EssexCM61XN 150p/min 18\\nham\\tWe still on for tonight?\\nham\\tMay i call You later Pls\\nham\\tHasn\\'t that been the pattern recently crap weekends?\\nham\\tI have a sore throat. It\\'s scratches when I talk\\nham\\tYes da. Any plm at ur office\\nham\\tAre you not around or just still asleep? :V\\nham\\tLol you forgot it eh ? Yes, I\\'ll bring it in babe\\nham\\tIts good, we\\'ll find a way\\nham\\tCan not use foreign stamps in this country. Good lecture .\\nham\\tYup bathe liao...\\nham\\tHAPPY NEW YEAR MY NO.1 MAN\\nham\\tOH MR SHEFFIELD! You wanna play THAT game, okay. You\\'re the boss and I\\'m the nanny. You give me a raise and I\\'ll give YOU one!!\\nham\\tZOE IT JUST HIT ME 2 IM FUCKING SHITIN MYSELF IL DEFO TRY MY HARDEST 2 CUM 2MOROW LUV U MILLIONS LEKDOG\\nham\\tHello baby, did you get back to your mom\\'s ? Are you setting up the computer now ? Filling your belly ? How goes it loverboy ? I miss you already ... *sighs*\\nham\\tNo my blankets are sufficient, thx\\nham\\tnaughty little thought: \\'its better to flirt, flirt n flirt, rather than loving someone n gettin hurt, hurt n hurt...:-) Gud nyt\\nham\\tEdison has rightly said, \"A fool can ask more questions than a wise man can answer\" Now you know why all of us are speechless during ViVa.. GM,GN,GE,GNT:-)\\nham\\tThey just talking thats it de. They wont any other.\\nham\\tToday am going to college so am not able to atten the class.\\nham\\tI\\'m in class. Will holla later\\nham\\tEasy ah?sen got selected means its good..\\nham\\tMmm thats better now i got a roast down me! i\\x92d b better if i had a few drinks down me 2! Good indian?\\nspam\\tWe know someone who you know that fancies you. Call 09058097218 to find out who. POBox 6, LS15HB 150p\\nham\\tCome round, it\\'s . \\nham\\tDo 1 thing! Change that sentence into: \"Because i want 2 concentrate in my educational career im leaving here..\"\\nspam\\t1000\\'s flirting NOW! Txt GIRL or BLOKE & ur NAME & AGE, eg GIRL ZOE 18 to 8007 to join and get chatting!\\nham\\tI walked an hour 2 c u! doesn\\x92t that show I care y wont u believe im serious?\\nspam\\t18 days to Euro2004 kickoff! U will be kept informed of all the latest news and results daily. Unsubscribe send GET EURO STOP to 83222.\\nham\\tAre you available for soiree on June 3rd?\\nham\\tDo u noe wat time e place dat sells 4d closes?\\nham\\tI got another job! The one at the hospital doing data analysis or something, starts on monday! Not sure when my thesis will got finished\\nham\\tJay\\'s getting really impatient and belligerent\\nham\\tHIYA COMIN 2 BRISTOL 1 ST WEEK IN APRIL. LES GOT OFF + RUDI ON NEW YRS EVE BUT I WAS SNORING.THEY WERE DRUNK! U BAK AT COLLEGE YET? MY WORK SENDS INK 2 BATH.\\nham\\tI\\'m at work. Please call\\nham\\tThen u drive lor.\\nham\\tArd 515 like dat. Y?\\nham\\tTell me they\\'re female :V how\\'re you throwing in? We\\'re deciding what all to get now\\nspam\\tEASTENDERS TV Quiz. What FLOWER does DOT compare herself to? D= VIOLET E= TULIP F= LILY txt D E or F to 84025 NOW 4 chance 2 WIN £100 Cash WKENT/150P16+\\nham\\tI\\'m working technical support :)voice process.networking field.\\nham\\tI might come to kerala for 2 days.so you can be prepared to take a leave once i finalise .dont plan any travel during my visit.need to finish urgent works.\\nham\\tOk. Not sure what time tho as not sure if can get to library before class. Will try. See you at some point! Have good eve.\\nspam\\tWe have new local dates in your area - Lots of new people registered in YOUR AREA. Reply DATE to start now! 18 only www.flirtparty.us REPLYS150\\nham\\tThat\\'s fine, I\\'ll bitch at you about it later then\\nham\\tNo my mum went 2 dentist.\\nham\\tOnce free call me sir. I am waiting for you.\\nham\\tMeeting u is my work. . . Tel me when shall i do my work tomorrow\\nspam\\tSomeone U know has asked our dating service 2 contact you! Cant Guess who? CALL 09058091854 NOW all will be revealed. PO BOX385 M6 6WU\\nham\\tJus finish bathing...\\nham\\talright, I\\'ll make sure the car is back tonight\\nspam\\tURGENT! We are trying to contact U. Todays draw shows that you have won a £800 prize GUARANTEED. Call 09050003091 from land line. Claim C52. Valid12hrs only\\nspam\\tDear U\\'ve been invited to XCHAT. This is our final attempt to contact u! Txt CHAT to 86688\\nham\\tLul im gettin some juicy gossip at the hospital. Two nurses are talking about how fat they are gettin. And one thinks shes obese. Oyea.\\nham\\tAight ill get on fb in a couple minutes\\nham\\tOi. Ami parchi na re. Kicchu kaaj korte iccha korche na. Phone ta tul na. Plz. Plz.\\nham\\tWhere can download clear movies. Dvd copies.\\nham\\tYep, by the pretty sculpture\\nham\\tConvey my regards to him\\nham\\tMe too watching surya movie only. . .after 6 pm vijay movie POKKIRI\\nham\\tYou tell what happen dont behave like this to me. Ok no need to say\\nham\\tCan u get pic msgs to your phone?\\nham\\tSend to someone else :-)\\nham\\tWat makes some people dearer is not just de happiness dat u feel when u meet them but de pain u feel when u miss dem!!!\\nham\\tFor me the love should start with attraction.i should feel that I need her every time around me.she should be the first thing which comes in my thoughts.I would start the day and end it with her.she should be there every time I dream.love will be then when my every breath has her name.my life should happen around her.my life will be named to her.I would cry for her.will give all my happiness and take all her sorrows.I will be ready to fight with anyone for her.I will be in love when I will be doing the craziest things for her.love will be when I don\\'t have to proove anyone that my girl is the most beautiful lady on the whole planet.I will always be singing praises for her.love will be when I start up making chicken curry and end up makiing sambar.life will be the most beautiful then.will get every morning and thank god for the day because she is with me.I would like to say a lot..will tell later..\\nham\\tFR\\'NDSHIP is like a needle of a clock. Though V r in d same clock, V r nt able 2 met. Evn if V meet,itz only 4few seconds. Bt V alwys stay conected. Gud 9t;-)\\nham\\tI don\\'t think he has spatula hands!\\nham\\tYou can never do NOTHING\\nspam\\tYou are awarded a SiPix Digital Camera! call 09061221061 from landline. Delivery within 28days. T Cs Box177. M221BP. 2yr warranty. 150ppm. 16 . p p£3.99\\nham\\tGoodmorning today i am late for  &lt;DECIMAL&gt; min.\\nspam\\tWIN URGENT! Your mobile number has been awarded with a £2000 prize GUARANTEED call 09061790121 from land line. claim 3030 valid 12hrs only 150ppm \\nham\\tPlease da call me any mistake from my side sorry da. Pls da goto doctor.\\nham\\tWhere r we meeting?\\nham\\tWell the weather in cali\\'s great. But its complexities are great. You need a car to move freely, its taxes are outrageous. But all in all its a great place. The sad part is i missing home.\\nham\\tNow only i reached home. . . I am very tired now. . I will come tomorro\\nham\\tRyder unsold.now gibbs.\\nspam\\tDear Subscriber ur draw 4 £100 gift voucher will b entered on receipt of a correct ans. When was Elvis Presleys Birthday? TXT answer to 80062\\nham\\tDon\\'t fret. I\\'ll buy the ovulation test strips and send them to you. You wont get them til like march. Can you send me your postal address.u\\'ll be alright.Okay.\\nham\\tNO GIFTS!! You trying to get me to throw myself off a cliff or something?\\nham\\tBeen up to ne thing interesting. Did you have a good birthday? When are u wrking nxt? I started uni today.\\nham\\tYou busy or can I come by at some point and figure out what we\\'re doing tomorrow\\nham\\tYeah go on then, bored and depressed sittin waitin for phone to ring... Hope the wind drops though, scary\\nham\\tBlack shirt n blue jeans... I thk i c ü...\\nham\\tAiyah sorry lor... I watch tv watch until i forgot 2 check my phone.\\nspam\\tMessage Important information for O2 user. Today is your lucky day! 2 find out why log onto http://www.urawinner.com there is a fantastic surprise awaiting you\\nham\\ton hen night. Going with a swing\\nham\\tGood afternoon, my love. How goes your day ? What are you up to ? I woke early and am online waiting for you ... Hmmm ... Italian boy is online I see . *grins*\\nham\\tFrom someone not to smoke when every time I\\'ve smoked in the last two weeks is because of you calling or texting me that you wanted to smoke\\nham\\tNo you\\'ll just get a headache trying to figure it out. U can trust me to do the math. I promise. O:-)\\nham\\tS s..first time..dhoni rocks...\\nham\\tOk ill tell the company\\nham\\tAwesome, think we can get an 8th at usf some time tonight?\\nham\\tSo that means you still think of teju\\nham\\tNo I\\'m good for the movie, is it ok if I leave in an hourish?\\nham\\tNo no:)this is kallis home ground.amla home town is durban:)\\nham\\tSo lets make it saturday or monday as per convenience.\\nham\\tHey... What time is your driving on fri? We go for evaluation on fri?\\nspam\\t449050000301 You have won a £2,000 price! To claim, call 09050000301.\\nham\\tI\\'m going 4 lunch now wif my family then aft dat i go str 2 orchard lor.\\nspam\\tBored of speed dating? Try SPEEDCHAT, txt SPEEDCHAT to 80155, if you don\\'t like em txt SWAP and get a new chatter! Chat80155 POBox36504W45WQ 150p/msg rcd 16\\nham\\tCancel cheyyamo?and get some money back?\\nspam\\tDo you want 750 anytime any network mins 150 text and a NEW video phone for only five pounds per week call 08000776320 now or reply for delivery Tomorrow\\nham\\tOk.ok ok..then..whats ur todays plan\\nham\\tGood morning princess! How are you?\\nham\\tAiyar sorry lor forgot 2 tell u...\\nspam\\tFor taking part in our mobile survey yesterday! You can now have 500 texts 2 use however you wish. 2 get txts just send TXT to 80160 T&C www.txt43.com 1.50p\\nham\\tNot tonight mate. Catching up on some sleep. This is my new number by the way. \\nham\\tHeight of \"Oh shit....!!\" situation: A guy throws a luv letter on a gal but falls on her brothers head whos a gay,.;-):-D\\nspam\\tUr HMV Quiz cash-balance is currently £500 - to maximize ur cash-in now send HMV1 to 86688 only 150p/msg\\nham\\tSo check your errors and if you had difficulties, do correction.\\nham\\tHowz pain?hope u r fine..\\nham\\tSorry, I\\'ll call later\\nham\\tGood morning princess! How are you?\\nham\\tAs I entered my cabin my PA said, \\'\\' Happy B\\'day Boss !!\\'\\'. I felt special. She askd me 4 lunch. After lunch she invited me to her apartment. We went there.\\nham\\tU wake up already? Thanx 4 e tau sar piah it\\'s quite nice.\\nham\\tK do I need a login or anything\\nspam\\tDont forget you can place as many FREE Requests with 1stchoice.co.uk as you wish. For more Information call 08707808226.\\nham\\tLOL ... No just was busy\\nham\\tWhat * u wearing?\\nham\\tMessage:some text missing* Sender:Name Missing* *Number Missing *Sent:Date missing *Missing U a lot thats y everything is missing sent via fullonsms.com\\nham\\tOh:)as usual vijay film or its different?\\nspam\\tI don\\'t know u and u don\\'t know me. Send CHAT to 86688 now and let\\'s find each other! Only 150p/Msg rcvd. HG/Suite342/2Lands/Row/W1J6HL LDN. 18 years or over.\\nham\\tHave you had a good day? Mine was really busy are you up to much tomorrow night?\\nham\\tAnd is there a way you can send shade\\'s stuff to her. And she has been wonderful too.\\nham\\tReally... I tot ur paper ended long ago... But wat u copied jus now got use? U happy lar... I still haf 2 study :-(\\nspam\\tThank you, winner notified by sms. Good Luck! No future marketing reply STOP to 84122 customer services 08450542832\\nham\\tBabe ? I lost you ... :-(\\nham\\tOk... Help me ask if she\\'s working tmr a not?\\nham\\tI\\'m not driving... Raining! Then i\\'ll get caught at e mrt station lor.\\nham\\tNot a drop in the tank\\nham\\t(That said can you text him one more time?)\\nham\\tSorry, I\\'ll call later\\nham\\tOk i go change also...\\nspam\\t1000\\'s of girls many local 2 u who r virgins 2 this & r ready 2 4fil ur every sexual need. Can u 4fil theirs? text CUTE to 69911(£1.50p. m)\\nham\\tDid u find a sitter for kaitlyn? I was sick and slept all day yesterday.\\nham\\tSorry man, accidentally left my phone on silent last night and didn\\'t check it til I got up\\nham\\tHey.. Something came up last min.. Think i wun be signing up tmr.. Hee\\nham\\tHe\\'s an adult and would learn from the experience. There\\'s no real danger. I just dont like peeps using drugs they dont need. But no comment\\nham\\tHey! There\\'s veggie pizza... :/\\nham\\tYun buying... But school got offer 2000 plus only...\\nham\\tYou sure your neighbors didnt pick it up\\nham\\tK. I will sent it again\\nspam\\tFree entry in 2 a wkly comp to win FA Cup final tkts 21st May 2005. Text FA to 87121 to receive entry question(std txt rate)T&C\\'s apply 08452810075over18\\'s\\nham\\tNew Theory: Argument wins d SITUATION, but loses the PERSON. So dont argue with ur friends just.. . . . kick them &amp; say, I\\'m always correct.!\\nham\\tWell. Im computerless. Time to make some oreo truffles\\nham\\tHaha yeah I see that now, be there in a sec\\nham\\tI am not having her number sir\\nham\\tLol now I\\'m after that hot air balloon!\\nham\\tOk . . now i am in bus. . If i come soon i will come otherwise tomorrow\\nham\\tMsgs r not time pass.They silently say that I am thinking of U right now and also making U think of me at least 4 a moment. Gd nt.swt drms @Shesil\\nham\\tYeah, we can probably swing by once my roommate finishes up with his girl\\nspam\\tGot what it takes 2 take part in the WRC Rally in Oz? U can with Lucozade Energy! Text RALLY LE to 61200 (25p), see packs or lucozade.co.uk/wrc & itcould be u!\\nham\\tHappy new years melody!\\nham\\tÜ dun need to pick ur gf?\\nham\\tYay! You better not have told that to 5 other girls either.\\nham\\tHorrible u eat macs eat until u forgot abt me already rite... U take so long 2 reply. I thk it\\'s more toot than b4 so b prepared. Now wat shall i eat?\\nham\\tDid he say how fantastic I am by any chance, or anything need a bigger life lift as losing the will 2 live, do you think I would be the first person 2 die from N V Q? \\nham\\tJust nw i came to hme da..\\nham\\tI\\'m outside islands, head towards hard rock and you\\'ll run into me\\nham\\tTo day class is there are no class.\\nham\\tI\\'m in chennai velachery:)\\nham\\tYou flippin your shit yet?\\nham\\tK give me a sec, breaking a  &lt;#&gt;  at cstore\\nham\\tAm i that much bad to avoid like this?\\nham\\tYo, you around? Just got my car back\\nham\\tAnnoying isn\\'t it.\\nham\\tGoodmorning, Today i am late for  &lt;#&gt; min.\\nham\\tThere\\'s no point hangin on to mr not right if he\\'s not makin u happy\\nham\\tAll will come alive.better correct any good looking figure there itself..\\nham\\tIn that case I guess I\\'ll see you at campus lodge\\nham\\tWe\\'re done...\\nham\\tCome to my home for one last time i wont do anything. Trust me.\\nham\\tI was up all night too worrying about this appt. It\\'s a shame we missed a girls night out with quizzes popcorn and you doing my hair.\\nspam\\tSex up ur mobile with a FREE sexy pic of Jordan! Just text BABE to 88600. Then every wk get a sexy celeb! PocketBabe.co.uk 4 more pics. 16 £3/wk 087016248\\nham\\tOk... C ya...\\nspam\\tYou have 1 new voicemail. Please call 08719181503\\nham\\tWhat he said is not the matter. My mind saying some other matter is there.\\nham\\tHe also knows about lunch menu only da. . I know\\nham\\tAl he does is moan at me if n e thin goes wrong its my fault&al de arguments r my fault&fed up of him of himso y bother? Hav 2go, thanx.xx\\nham\\tNEFT Transaction with reference number  &lt;#&gt;  for Rs. &lt;DECIMAL&gt;  has been credited to the beneficiary account on  &lt;#&gt;  at  &lt;TIME&gt; : &lt;#&gt;\\nham\\tOtherwise had part time job na-tuition..\\nham\\tI know she called me\\nham\\tMe also da, i feel yesterday night  wait til 2day night dear.\\nham\\tThanks for understanding. I\\'ve been trying to tell sura that.\\nspam\\tWIN a year supply of CDs 4 a store of ur choice worth £500 & enter our £100 Weekly draw txt MUSIC to 87066 Ts&Cs www.Ldew.com.subs16+1win150ppmx3\\nham\\tThe whole car appreciated the last two! Dad and are having a map reading semi argument but apart from that things are going ok. P.\\nspam\\tAs a SIM subscriber, you are selected to receive a Bonus! Get it delivered to your door, Txt the word OK to No: 88600 to claim. 150p/msg, EXP. 30Apr\\nham\\tI need you to be in my strong arms...\\nham\\tAlso maaaan are you missing out\\nham\\tHis bday real is in april .\\nham\\tGuessin you ain\\'t gonna be here before 9?\\nham\\tOk then i will come to ur home after half an hour\\nham\\tYo, the game almost over? Want to go to walmart soon\\nham\\tYeah, probably but not sure. Ilol let u know, but personally I wuldnt bother, then again if ur goin to then I mite as well!!\\nham\\tI\\'ll text now! All creepy like so he won\\'t think that we forgot\\nham\\tthat would be good … I\\'ll phone you tomo lunchtime, shall I, to organise something?\\nspam\\tYou have 1 new voicemail. Please call 08719181513.\\nham\\tDamn, can you make it tonight or do you want to just wait til tomorrow\\nham\\tK..k..i\\'m also fine:)when will you complete the course?\\nham\\tTrue. It is passable. And if you get a high score and apply for phd, you get 5years of salary. So it makes life easier.\\nspam\\tNo. 1 Nokia Tone 4 ur mob every week! Just txt NOK to 87021. 1st Tone FREE ! so get txtin now and tell ur friends. 150p/tone. 16 reply HL 4info\\nham\\tPrakesh is there know.\\nham\\tTeach me apps da. When you come to college.\\nham\\tRofl betta invest in some  anti aging products\\nspam\\tYou are a winner U have been specially selected 2 receive £1000 cash or a 4* holiday (flights inc) speak to a live operator 2 claim 0871277810810\\nham\\tsir, you will receive the account no another 1hr time. Sorry for the delay.\\nspam\\tReply with your name and address and YOU WILL RECEIVE BY POST a weeks completely free accommodation at various global locations www.phb1.com ph:08700435505150p\\nham\\tSo ü\\'ll be submitting da project tmr rite?\\nspam\\tFREE entry into our £250 weekly comp just send the word ENTER to 84128 NOW. 18 T&C www.textcomp.com cust care 08712405020.\\nham\\tJus ans me lar. U\\'ll noe later.\\nham\\tI want to send something that can sell fast.  &lt;#&gt; k is not easy money.\\nham\\thave got * few things to do. may be in * pub later.\\nham\\t1\\'s finish meeting call me.\\nham\\tLol ok. I\\'ll snatch her purse too.\\nham\\t\"Hello-/@drivby-:0quit edrunk sorry iff pthis makes no senrd-dnot no how ^ dancce 2 drum n basq!ihave fun 2nhite x ros xxxxxxx\"\\nham\\tYour opinion about me? 1. Over 2. Jada 3. Kusruthi 4. Lovable 5. Silent 6. Spl character 7. Not matured 8. Stylish 9. Simple Pls reply..\\nham\\tHow much are we getting?\\nham\\tIs ur paper in e morn or aft tmr?\\nham\\tDear relieved of westonzoyland, all going to plan this end too!\\nham\\tHope you are having a great new semester. Do wish you the very best. You are made for greatness.\\nham\\tOh yes I can speak txt 2 u no! Hmm. Did u get  email?\\nham\\tI want to show you the world, princess :) how about europe?\\nham\\tNobody can decide where to eat and dad wants Chinese\\nham\\tNo shoot me. I\\'m in the docs waiting room. :/\\nham\\tNow? I\\'m going out 4 dinner soon..\\nham\\tHello which the site to download songs its urgent pls\\nham\\tI do know what u mean,  is the king of not havin credit! I\\'m goin2bed now. Night night sweet! Only1more sleep! \\nham\\tHorrible gal. Me in sch doing some stuff. How come u got mc?\\nham\\tHI HUN! IM NOT COMIN 2NITE-TELL EVERY1 IM SORRY 4 ME, HOPE U AVA GOODTIME!OLI RANG MELNITE IFINK IT MITE B SORTED,BUT IL EXPLAIN EVERYTHIN ON MON.L8RS.x\\nham\\tI call you later, don\\'t have network. If urgnt, sms me.\\nham\\tUmmmmmaah Many many happy returns of d day my dear sweet heart.. HAPPY BIRTHDAY dear\\nspam\\tPlease CALL 08712402779 immediately as there is an urgent message waiting for you\\nham\\tYeah like if it goes like it did with my friends imma flip my shit in like half an hour\\nham\\tMum say we wan to go then go... Then she can shun bian watch da glass exhibition... \\nham\\tWhat your plan for pongal?\\nham\\tJust wait till end of march when el nino gets himself. Oh.\\nham\\tNot yet chikku..going to room nw, i\\'m in bus..\\nham\\tAm also doing in cbe only. But have to pay.\\nham\\tHoney boo I\\'m missing u.\\nham\\tWe have sent JD for Customer Service cum Accounts Executive to ur mail id, For details contact us\\nham\\tYo, I\\'m at my parents\\' gettin cash. Good news: we picked up a downstem\\nham\\tThank you so much. When we skyped wit kz and sura, we didnt get the pleasure of your company. Hope you are good. We\\'ve given you ultimatum oh! We are countin down to aburo. Enjoy!\\nspam\\tHungry gay guys feeling hungry and up 4 it, now. Call 08718730555 just 10p/min. To stop texts call 08712460324 (10p/min)\\nham\\tOk. No wahala. Just remember that a friend in need ...\\nham\\tI will see in half an hour\\nham\\tIm in inperialmusic listening2the weirdest track ever by\\x94leafcutter john\\x94-sounds like insects being molested&someone plumbing,remixed by evil men on acid!\\nham\\t\"Hey sorry I didntgive ya a a bellearlier hunny,just been in bedbut mite go 2 thepub l8tr if uwana mt up?loads a luv Jenxxx.\"\\nham\\tSERIOUSLY. TELL HER THOSE EXACT WORDS RIGHT NOW.\\nspam\\tCan U get 2 phone NOW? I wanna chat 2 set up meet Call me NOW on 09096102316 U can cum here 2moro Luv JANE xx Calls£1/minmoremobsEMSPOBox45PO139WA\\nham\\tTee hee. Off to lecture, cheery bye bye.\\nham\\tSorry chikku, my cell got some problem thts y i was nt able to reply u or msg u..\\nham\\tIf you still havent collected the dough pls let me know so i can go to the place i sent it to get the control number\\nham\\tOk...\\nspam\\tnetwork operator. The service is free. For T & C\\'s visit 80488.biz\\nham\\tLet me know how to contact you. I\\'ve you settled in a room. Lets know you are ok.\\nham\\tWot u up 2 u weirdo?\\nham\\tCan do lor...\\nham\\tDont put your phone on silent mode ok\\nham\\tCan i meet ü at 5.. As 4 where depends on where ü wan 2 in lor..\\nham\\tWaiting 4 my tv show 2 start lor... U leh still busy doing ur report?\\nham\\tOh ho. Is this the first time u use these type of words\\nham\\tAm I the only one who doesn\\'t stalk profiles?\\nham\\tEver green quote ever told by Jerry in cartoon \"A Person Who Irritates u Always Is the one Who Loves u Vry Much But Fails to Express It...!..!! :-) :-) gud nyt\\nham\\tYes i thought so. Thanks.\\nham\\tBut if she.s drinkin i\\'m ok.\\nham\\tJust wondering, the others just took off\\nham\\tNight has ended for another day, morning has come in a special way. May you smile like the sunny rays and leaves your worries at the blue blue bay. Gud mrng\\nham\\tWhat do you do, my dog ? Must I always wait till the end of your day to have word from you ? Did you run out of time on your cell already?\\nham\\tHappy new year to u too!\\nham\\tHey...Great deal...Farm tour 9am to 5pm $95/pax, $50 deposit by 16 May\\nham\\tEat jap done oso aft ur lect wat... Ü got lect at 12 rite... \\nham\\tHey babe! I saw you came online for a second and then you disappeared, what happened ?\\nham\\tDa my birthdate in certificate is in april but real date is today. But dont publish it. I shall give you a special treat if you keep the secret. Any way thanks for the wishes\\nham\\tHappy birthday... May all ur dreams come true...\\nham\\tAiyah u did ok already lar. E nydc at wheellock?\\nham\\tTELL HER I SAID EAT SHIT.\\nham\\tSure! I am driving but will reach my destination soon.\\nham\\tK so am I, how much for an 8th? Fifty?\\nham\\tYour daily text from me – a favour this time\\nham\\tGreat to hear you are settling well. So what\\'s happenin wit ola?\\nham\\tThose cocksuckers. If it makes you feel better ipads are worthless garbage novelty items and you should feel bad for even wanting one\\nham\\tI tot u reach liao. He said t-shirt.\\nham\\tFRAN I DECIDED 2 GO N E WAY IM COMPLETELY BROKE AN KNACKERED I GOT UP BOUT 3 C U 2MRW LOVE JANX P.S THIS IS MY DADS FONE, -NO CREDIT\\nham\\tI cant pick the phone right now. Pls send a message\\nham\\tYour right! I\\'ll make the appointment right now.\\nham\\tDesignation is software developer and may be she get chennai:)\\nspam\\tEnjoy the jamster videosound gold club with your credits for 2 new videosounds+2 logos+musicnews! get more fun from jamster.co.uk! 16+only Help? call: 09701213186 \\nspam\\tGet 3 Lions England tone, reply lionm 4 mono or lionp 4 poly. 4 more go 2 www.ringtones.co.uk, the original n best. Tones 3GBP network operator rates apply\\nham\\tI jokin oni lar.. Ü busy then i wun disturb ü.\\nham\\tOk, be careful ! Don\\'t text and drive !\\nham\\tI.ll always be there, even if its just in spirit. I.ll get a bb soon. Just trying to be sure i need it.\\nham\\tU r too much close to my heart. If u go away i will be shattered. Plz stay with me.\\nham\\tI love u 2 babe! R u sure everything is alrite. Is he being an idiot? Txt bak girlie\\nham\\tHow abt making some of the pics bigger?\\nham\\tGot but got 2 colours lor. One colour is quite light n e other is darker lor. Actually i\\'m done she\\'s styling my hair now.\\nham\\tWhenevr ur sad, Whenevr ur gray, Remembr im here 2 listn 2 watevr u wanna say, Jus walk wid me a little while,&amp; I promise I\\'ll bring back ur smile.:-)\\nham\\tWhy nothing. Ok anyway give me treat\\nspam\\tWin the newest “Harry Potter and the Order of the Phoenix (Book 5) reply HARRY, answer 5 questions - chance to be the first among readers!\\nham\\tOk...\\nham\\tCorrect. So how was work today\\nham\\tJust sent again. Do you scream and moan in bed, princess?\\nham\\tI wake up long ago already... Dunno, what other thing?\\nham\\tOh just getting even with u.... u?\\nham\\tI thk 50 shd be ok he said plus minus 10.. Did ü leave a line in between paragraphs?\\nham\\tCan you call me plz. Your number shows out of coveragd area. I have urgnt call in vasai &amp; have to reach before 4\\'o clock so call me plz\\nham\\tYeah jay\\'s sort of a fucking retard\\nham\\tSorry, was in the bathroom, sup\\nspam\\tUr balance is now £500. Ur next question is: Who sang \\'Uptown Girl\\' in the 80\\'s ? 2 answer txt ur ANSWER to 83600. Good luck!\\nham\\tMy exam is for february 4. Wish you a great day.\\nham\\tI dont know what to do to come out of this so only am ask questions like this dont mistake me.\\nham\\tAight no rush, I\\'ll ask jay\\nham\\tGood Morning plz call me sir\\nham\\tIt\\'s ok lar. U sleep early too... Nite...\\nham\\tOh... Icic... K lor, den meet other day...\\nham\\tOh ! A half hour is much longer in Syria than Canada, eh ? Wow you must get SO much more work done in a day than us with all that extra time ! *grins*\\nham\\tSometimes we put walls around our hearts,not just to be safe from getting hurt.. But to find out who cares enough to break the walls &amp; get closer.. GOODNOON:)\\nham\\tSweet, we may or may not go to 4U to meet carlos so gauge patty\\'s interest in that\\nham\\tThen she buying today? Ü no need to c meh...\\nham\\tAight sorry I take ten years to shower. What\\'s the plan?\\nham\\tEvery monday..nxt week vl be completing..\\nham\\tMight ax well im there.\\nham\\tJust chill for another 6hrs. If you could sleep the pain is not a surgical emergency so see how it unfolds. Okay\\nham\\tYeah I\\'ll try to scrounge something up\\nham\\tCrazy ar he\\'s married. Ü like gd looking guys not me. My frens like say he\\'s korean leona\\'s fave but i dun thk he is. Aft some thinking mayb most prob i\\'ll go.\\nham\\tWere somewhere on Fredericksburg\\nham\\tQue pases un buen tiempo or something like that\\nham\\tIs it ok if I stay the night here? Xavier has a sleeping bag and I\\'m getting tired\\nham\\tShe doesnt need any test.\\nham\\tNothing much, chillin at home. Any super bowl plan?\\nspam\\tFREE2DAY sexy St George\\'s Day pic of Jordan!Txt PIC to 89080 dont miss out, then every wk a saucy celeb!4 more pics c PocketBabe.co.uk 0870241182716 £3/wk\\nham\\tBugis oso near wat... \\nham\\tYo theres no class tmrw right?\\nham\\tLet Ur Heart Be Ur Compass Ur Mind Ur Map Ur Soul Ur Guide And U Will Never loose in world....gnun - Sent via WAY2SMS.COM\\nham\\tGoodnight, sleep well da please take care pa. Please.\\nham\\tBaaaaabe! I misss youuuuu ! Where are you ? I have to go and teach my class at 5 ...\\nham\\tConvey my regards to him\\nham\\tU ned to convince him tht its not possible witot hurting his feeling its the main\\nham\\tGood afternoon loverboy ! How goes you day ? Any luck come your way? I think of you, sweetie and send my love across the sea to make you smile and happy\\nham\\tIf i start sending blackberry torch to nigeria will you find buyer for me?like 4a month. And tell dad not to buy bb from anyone oh.\\nham\\t&lt;#&gt; %of pple marry with their lovers... becz they hav gud undrstndng dat avoids problems. i sent dis 2 u, u wil get gud news on friday by d person you like. And tomorrow will be the best day of your life. Dont break this chain. If you break you will suffer. send this to  &lt;#&gt;  frnds in &lt;#&gt;  mins whn u read...\\nham\\tYo dude guess who just got arrested the other day\\nham\\tShuhui say change 2 suntec steamboat? U noe where? Where r u now?\\nham\\tWhat does the dance river do?\\nham\\tYetunde, i\\'m sorry but moji and i seem too busy to be able to go shopping. Can you just please find some other way to get what you wanted us to get. Please forgive me. You can reply free via yahoo messenger.\\nham\\tHey i will be really pretty late... You want to go for the lesson first? I will join you. I\\'m only reaching tp mrt\\nspam\\tHOT LIVE FANTASIES call now 08707509020 Just 20p per min NTT Ltd, PO Box 1327 Croydon CR9 5WB 0870..k\\nham\\tBbq this sat at mine from 6ish. Ur welcome 2 come\\nham\\tI don\\'t know, same thing that\\'s wrong everyso often, he panicks starts goin on bout not bein good enough …\\nham\\tAlright. I\\'m out--have a good night!\\nham\\tDid you try making another butt.\\nham\\tHope you are feeling great. Pls fill me in. Abiola\\nham\\tI though we shd go out n have some fun so bar in town or something – sound ok?\\nham\\t1) Go to write msg 2) Put on Dictionary mode 3)Cover the screen with hand, 4)Press  &lt;#&gt; . 5)Gently remove Ur hand.. Its interesting..:)\\nspam\\tBears Pic Nick, and Tom, Pete and ... Dick. In fact, all types try gay chat with photo upload call 08718730666 (10p/min). 2 stop texts call 08712460324\\nspam\\t500 New Mobiles from 2004, MUST GO! Txt: NOKIA to No: 89545 & collect yours today!From ONLY £1 www.4-tc.biz 2optout 087187262701.50gbp/mtmsg18 TXTAUCTION\\nham\\tWe\\'re finally ready fyi\\nham\\tAuntie huai juan never pick up her phone\\nspam\\tDouble Mins & Double Txt & 1/2 price Linerental on Latest Orange Bluetooth mobiles. Call MobileUpd8 for the very latest offers. 08000839402 or call2optout/LF56\\nham\\tYa tel, wats ur problem..\\nspam\\tNo. 1 Nokia Tone 4 ur mob every week! Just txt NOK to 87021. 1st Tone FREE ! so get txtin now and tell ur friends. 150p/tone. 16 reply HL 4info\\nham\\ti dnt wnt to tlk wid u\\nham\\tWe spend our days waiting for the ideal path to appear in front of us.. But what we forget is.. \"paths are made by walking.. not by waiting..\" Goodnight!\\nham\\tIts ok my arm is feeling weak cuz i got a shot so we can go another time\\nham\\tPlease reserve ticket on saturday eve from chennai to thirunelvali and again from tirunelvali to chennai on sunday eve...i already see in net..no ticket available..i want to book ticket through tackle ..\\nham\\tStorming msg: Wen u lift d phne, u say \"HELLO\" Do u knw wt is d real meaning of HELLO?? . . . It\\'s d name of a girl..! . . . Yes.. And u knw who is dat girl?? \"Margaret Hello\" She is d girlfrnd f Grahmbell who invnted telphone... . . . . Moral:One can 4get d name of a person, bt not his girlfrnd... G o o d n i g h t . . .@\\nham\\tThat\\'s ok. I popped in to ask bout something and she said you\\'d been in. Are you around tonght wen this girl comes?\\nham\\tAll e best 4 ur exam later.\\nham\\tHope ur head doesn\\'t hurt 2 much ! Am ploughing my way through a pile of ironing ! Staying in with a chinky tonight come round if you like.\\nham\\tOh k.i think most of wi and nz players unsold.\\nham\\tHaha... Where got so fast lose weight, thk muz go 4 a month den got effect... Gee,later we go aust put bk e weight.\\nham\\tI wonder how you got online, my love ? Had you gone to the net cafe ? Did you get your phone recharged ? Were you on a friends net ? I think of you, boytoy\\nham\\tHaha just kidding, papa needs drugs\\nham\\tThk shld b can... Ya, i wana go 4 lessons... Haha, can go for one whole stretch...\\nham\\tOh ok..\\nham\\tR we still meeting 4 dinner tonight?\\nham\\tThats cool! I am a gentleman and will treat you with dignity and respect.\\nham\\tShall i start from hear.\\nham\\tThen we wait 4 u lor... No need 2 feel bad lar...\\nham\\tNo did you check? I got his detailed message now\\nham\\tYou have registered Sinco as Payee. Log in at icicibank.com and enter URN  &lt;#&gt;  to confirm. Beware of frauds. Do NOT share or disclose URN to anyone.\\nham\\tNo, I decided that only people who care about stuff vote and caring about stuff is for losers\\nham\\tKaiez... Enjoy ur tuition... Gee... Thk e second option sounds beta... I\\'ll go yan jiu den msg u...\\nham\\tYou have registered Sinco as Payee. Log in at icicibank.com and enter URN  &lt;#&gt;  to confirm. Beware of frauds. Do NOT share or disclose URN to anyone.\\nham\\tcool. We will have fun practicing making babies!\\nham\\tActually getting ready to leave the house.\\nham\\tK..k..any special today?\\nspam\\tURGENT, IMPORTANT INFORMATION FOR O2 USER. TODAY IS YOUR LUCKY DAY! 2 FIND OUT WHY LOG ONTO HTTP://WWW.URAWINNER.COM THERE IS A FANTASTIC SURPRISE AWAITING FOR YOU\\nham\\tThen we gotta do it after that\\nham\\tI\\'ve got ten bucks, jay is being noncomittal\\nham\\tWhere at were hungry too\\nham\\tPls speak to that customer machan.\\nham\\tsomewhere out there beneath the pale moon light someone think in of u some where out there where dreams come true... goodnite &amp; sweet dreams\\nham\\tWen ur lovable bcums angry wid u, dnt take it seriously.. Coz being angry is d most childish n true way of showing deep affection, care n luv!.. kettoda manda... Have nice day da.\\nspam\\tDear U\\'ve been invited to XCHAT. This is our final attempt to contact u! Txt CHAT to 86688 150p/MsgrcvdHG/Suite342/2Lands/Row/W1J6HL LDN 18 yrs\\nham\\tSo wats ur opinion abt him and how abt is character?\\nham\\tJay is snickering and tells me that x is totally fucking up the chords as we speak\\nham\\tNo..few hours before.went to hair cut .\\nham\\tNo wonder... Cos i dun rem seeing a silver car... But i thk i saw a black one...\\nham\\tLmao. Take a pic and send it to me.\\nham\\t\"Speak only when you feel your words are better than the silence...\" Gud mrng:-)\\nham\\tNo. She\\'s currently in scotland for that.\\nham\\tDo you work all this week ?\\nspam\\tCongratulations ur awarded either £500 of CD gift vouchers & Free entry 2 our £100 weekly draw txt MUSIC to 87066 TnCs www.Ldew.com 1 win150ppmx3age16\\nham\\tLol great now im getting hungry.\\nham\\tYes.. now only saw your message..\\nham\\tI\\'ll be at mu in like  &lt;#&gt;  seconds\\nham\\tOk...\\nham\\tTHING R GOOD THANX GOT EXAMS IN MARCH IVE DONE NO REVISION? IS FRAN STILL WITH BOYF? IVE GOTTA INTERVIW 4 EXETER BIT WORRIED!x\\nham\\tTell you what, if you make a little spreadsheet and track whose idea it was to smoke to determine who \"smokes too much\" for the entire month of february, I\\'ll come up\\nspam\\tFor sale - arsenal dartboard. Good condition but no doubles or trebles!\\nham\\tDon\\'t look back at the building because you have no coat and i don\\'t want you to get more sick. Just hurry home and wear a coat to the gym!!!\\nham\\tMy painful personal thought- \"I always try to keep everybody happy all the time. But nobody recognises me when i am alone\"\\nham\\tThanks for ve lovely wisheds. You rock\\nham\\tYou intrepid duo you! Have a great time and see you both soon. \\nham\\tI asked sen to come chennai and search for job.\\nham\\tDad went out oredi... \\nham\\tI jus hope its true that  missin me cos i\\'m really missin him! You haven\\'t done anything to feel guilty about, yet.\\nham\\tWat so late still early mah. Or we juz go 4 dinner lor. Aiya i dunno...\\nham\\tArms fine, how\\'s Cardiff and uni? \\nham\\tIn fact when do you leave? I think addie goes back to school tues or wed\\nham\\tCool breeze... Bright sun... Fresh flower... Twittering birds... All these waiting to wish u: \"GOODMORNING &amp; HAVE A NICE DAY\" :)\\nham\\tYa:)going for restaurant..\\nham\\tIts ok., i just askd did u knw tht no?\\nspam\\tFree 1st week entry 2 TEXTPOD 4 a chance 2 win 40GB iPod or £250 cash every wk. Txt POD to 84128 Ts&Cs www.textpod.net custcare 08712405020.\\nham\\tThose ducking chinchillas\\nham\\tI am in a marriage function\\nham\\tLooks like u wil b getting a headstart im leaving here bout 2.30ish but if u r desperate for my company I could head in earlier-we were goin to meet in rummer.\\nham\\tDon‘t give a flying monkeys wot they think and I certainly don‘t mind. Any friend of mine and all that!\\nspam\\tAs a registered optin subscriber ur draw 4 £100 gift voucher will be entered on receipt of a correct ans to 80062 Whats No1 in the BBC charts\\nham\\tsay thanks2. \\nham\\tMsg me when rajini comes.\\nham\\tYa! when are ü taking ure practical lessons? I start in june..  \\nham\\tThat\\'s good, because I need drugs\\nham\\tStupid.its not possible\\nham\\tCan ü all decide faster cos my sis going home liao..\\nspam\\tSummers finally here! Fancy a chat or flirt with sexy singles in yr area? To get MATCHED up just reply SUMMER now. Free 2 Join. OptOut txt STOP Help08714742804\\nham\\tU sleeping now.. Or you going to take? Haha.. I got spys wat.. Me online checking n replying mails lor..\\nspam\\tCLAIRE here am havin borin time & am now alone U wanna cum over 2nite? Chat now 09099725823 hope 2 C U Luv CLAIRE xx Calls£1/minmoremobsEMSPOBox45PO139WA\\nham\\tFighting with the world is easy, u either win or lose bt fightng with some1 who is close to u is dificult if u lose - u lose if u win - u still lose.\\nspam\\tBought one ringtone and now getting texts costing 3 pound offering more tones etc\\nham\\tYalru lyfu astne chikku.. Bt innu mundhe lyf ali halla ke bilo (marriage)program edhae, so lyf is nt yet ovr chikku..ali vargu lyfu meow meow:-D\\nham\\tKinda. First one gets in at twelve! Aah. Speak tomo\\nspam\\t09066362231 URGENT! Your mobile No 07xxxxxxxxx won a £2,000 bonus caller prize on 02/06/03! this is the 2nd attempt to reach YOU! call 09066362231 ASAP!\\nham\\tOk good then i later come find ü... C lucky i told ü to go earlier... Later pple take finish ü no more again...\\nham\\tWat makes u thk i\\'ll fall down. But actually i thk i\\'m quite prone 2 falls. Lucky my dad at home i ask him come n fetch me already.\\nspam\\tYOU 07801543489 are guaranteed the latests Nokia Phone, a 40GB iPod MP3 player or a £500 prize! Txt word:COLLECT to No:83355! TC-LLC NY-USA 150p/Mt msgrcvd18+\\nham\\tYour account has been refilled successfully by INR  &lt;DECIMAL&gt; . Your KeralaCircle prepaid account balance is Rs  &lt;DECIMAL&gt; . Your Transaction ID is KR &lt;#&gt; .\\nham\\tI wont touch you with out your permission.\\nspam\\tHi its LUCY Hubby at meetins all day Fri & I will B alone at hotel U fancy cumin over? Pls leave msg 2day 09099726395 Lucy x Calls£1/minMobsmoreLKPOBOX177HP51FL\\nham\\t7 wonders in My WORLD 7th You 6th Ur style 5th Ur smile 4th Ur Personality 3rd Ur Nature 2nd Ur SMS and 1st \"Ur Lovely Friendship\"... good morning dear\\nham\\tTake some small dose tablet for fever\\nham\\tOh. U must have taken your REAL Valentine out shopping first.\\nham\\tJust sent you an email – to an address with incomm in it, is that right?\\nham\\tWill do, you gonna be at blake\\'s all night? I might be able to get out of here a little early\\nham\\tFriendship is not a game to play, It is not a word to say, It doesn\\\\\\'t start on March and ends on May, It is tomorrow, yesterday, today and e\\nham\\tNice. Wait...should you be texting right now? I\\'m not gonna pay your ticket, ya know!\\nham\\tI\\'m watching lotr w my sis dis aft. So u wan 2 meet me 4 dinner at nite a not?\\nham\\tWhy you keeping me away like this\\nham\\tI think its far more than that but find out. Check google maps for a place from your dorm.\\nham\\tMy trip was ok but quite tiring lor. Uni starts today but it\\'s ok 4 me cos i\\'m not taking any modules but jus concentrating on my final yr project.\\nham\\tHave you always been saying welp?\\nham\\tI\\'m a guy, browsin is compulsory\\nham\\tOk...\\nham\\tPurity of friendship between two is not about smiling after reading the forwarded message..Its about smiling just by seeing the name. Gud evng musthu\\nham\\tSorry, I\\'ll call later\\nham\\t(I should add that I don\\'t really care and if you can\\'t I can at least get this dude to fuck off but hey, your money if you want it)\\nham\\tHello lover! How goes that new job? Are you there now? Are you happy? Do you think of me? I wake, my slave and send you a teasing kiss from across the sea\\nham\\tI told your number to gautham..\\nham\\tTell them no need to investigate about me anywhere.\\nham\\tOk i juz receive..\\nham\\tCant believe i said so many things to you this morning when all i really wanted to say was good morning, i love you! Have a beautiful morning. See you in the library later.\\nspam\\tYour account has been credited with 500 FREE Text Messages. To activate, just txt the word: CREDIT to No: 80488 T&Cs www.80488.biz\\nham\\tIn the end she might still vomit but its okay. Not everything will come out.\\nham\\tHow are you with moneY...as in to you...money aint a thing....how are you sha!\\nham\\tIt has everything to do with the weather. Keep extra warm. Its a cold but nothing serious. Pls lots of vitamin c\\nham\\tHey gals.. Anyone of u going down to e driving centre tmr?\\nham\\tI\\'m always on yahoo messenger now. Just send the message to me and i.ll get it you may have to send it in the mobile mode sha but i.ll get it. And will reply.\\nham\\tI\\'m putting it on now. It should be ready for  &lt;TIME&gt; \\nham\\tTime n Smile r the two crucial things in our life. Sometimes time makes us to forget smile, and sometimes someone\\'s smile makes us to forget time gud noon\\nspam\\tSMS. ac JSco: Energy is high, but u may not know where 2channel it. 2day ur leadership skills r strong. Psychic? Reply ANS w/question. End? Reply END JSCO\\nham\\tHost-based IDPS for linux systems.\\nspam\\tHOT LIVE FANTASIES call now 08707509020 Just 20p per min NTT Ltd, PO Box 1327 Croydon CR9 5WB 0870 is a national rate call\\nham\\tDon no da:)whats you plan?\\nham\\tIll be there on  &lt;#&gt;  ok.\\nham\\tOh my God. I\\'m almost home\\nham\\tTotal video converter free download type this in google search:)\\nspam\\tThanks for the Vote. Now sing along with the stars with Karaoke on your mobile. For a FREE link just reply with SING now.\\nham\\tWen ur lovable bcums angry wid u, dnt take it seriously.. Coz being angry is d most childish n true way of showing deep affection, care n luv!.. kettoda manda... Have nice day da.\\nham\\tSounds like something that someone testing me would sayy\\nham\\tWhen u love someone Dont make them to love u as much as u do. But Love them so much that they dont want to be loved by anyone except you... Gud nit.\\nham\\tPete,is this your phone still? Its Jenny from college and Leanne.what are you up to now?:)\\nham\\tOops sorry. Just to check that you don\\'t mind picking me up tomo at half eight from station. Would that be ok?\\nham\\tHey sweet, I was wondering when you had a moment if you might come to me ? I want to send a file to someone but it won\\'t go over yahoo for them because their connection sucks, remember when you set up that page for me to go to and download the format disc ? Could you tell me how to do that ? Or do you know some other way to download big files ? Because they can download stuff directly from the internet. Any help would be great, my prey ... *teasing kiss*\\nham\\tHows the champ just leaving glasgow!\\nham\\tK:)all the best:)congrats...\\nham\\tI wonder if you\\'ll get this text?\\nham\\tI need to come home and give you some good lovin...\\nspam\\tOur brand new mobile music service is now live. The free music player will arrive shortly. Just install on your phone to browse content from the top artists.\\nham\\tShall i ask one thing if you dont mistake me.\\nham\\tCheck wid corect speling i.e. Sarcasm\\nspam\\tURGENT! Your Mobile No was awarded a £2,000 Bonus Caller Prize on 1/08/03! This is our 2nd attempt to contact YOU! Call 0871-4719-523 BOX95QU BT National Rate\\nham\\tAre you angry with me. What happen dear\\nham\\tI thk u dun haf 2 hint in e forum already lor... Cos i told ron n darren is going 2 tell shuhui.\\nham\\tYup ok thanx...\\nham\\tHi:)cts employee how are you?\\nham\\tPls pls find out from aunt nike.\\nham\\tWow ... I love you sooo much, you know ? I can barely stand it ! I wonder how your day goes and if you are well, my love ... I think of you and miss you\\nham\\tNo screaming means shouting..\\nham\\tHey what happen de. Are you alright.\\nham\\tShould I have picked up a receipt or something earlier\\nham\\tI think chennai well settled?\\nham\\tOh dang! I didn\\'t mean o send that to you! Lol!\\nham\\tUnfortunately i\\'ve just found out that we have to pick my sister up from the airport that evening so don\\'t think i\\'ll be going out at all. We should try to go out one of th\\nham\\tHorrible bf... I now v hungry...\\nham\\tRemember on that day..\\nspam\\tYou have won a Nokia 7250i. This is what you get when you win our FREE auction. To take part send Nokia to 86021 now. HG/Suite342/2Lands Row/W1JHL 16+\\nham\\tHow\\'s it feel? Mr. Your not my real Valentine just my yo Valentine even tho u hardly play!!\\nham\\tAll sounds good. Fingers . Makes it difficult to type\\nham\\tMidnight at the earliest\\nham\\tYou\\'re not sure that I\\'m not trying to make xavier smoke because I don\\'t want to smoke after being told I smoke too much?\\nham\\tK come to nordstrom when you\\'re done\\nham\\tDo u konw waht is rael FRIENDSHIP Im gving yuo an exmpel: Jsut ese tihs msg.. Evrey splleing of tihs msg is wrnog.. Bt sitll yuo can raed it wihtuot ayn mitsake.. GOODNIGHT &amp; HAVE A NICE SLEEP..SWEET DREAMS..\\nham\\tNow press conference da:)\\nspam\\tHello from Orange. For 1 month\\'s free access to games, news and sport, plus 10 free texts and 20 photo messages, reply YES. Terms apply: www.orange.co.uk/ow\\nham\\tAfter completed degree. There is no use in joining finance.\\nham\\tGood afternoon, my love ! Any job prospects ? Are you missing me ? What do you do ? Are you being lazy and bleak, hmmm ? Or happy and filled with my love ?\\nham\\tShant disturb u anymore... Jia you...\\nham\\tBishan lar nearer... No need buy so early cos if buy now i gotta park my car...\\nham\\tMe, i dont know again oh\\nham\\tDude sux for snake. He got old and raiden got buff\\nham\\tHe says hi and to get your ass back to south tampa (preferably at a kegger)\\nham\\tIn e msg jus now. U said thanks for gift.\\nham\\tU too...\\nham\\tOk how you dear. Did you call chechi\\nham\\tYeah we do totes. When u wanna?\\nham\\tOk i found dis pierre cardin one which looks normal costs 20 its on sale.\\nham\\tGood sleep is about rhythm. The person has to establish a rhythm that the body will learn and use. If you want to know more :-)\\nham\\tWat r u doing?\\nham\\tMessage from . I am at Truro Hospital on ext. You can phone me here. as I have a phone by my side\\nham\\tSingle line with a big meaning::::: \"Miss anything 4 ur \"Best Life\" but, don\\'t miss ur best life for anything... Gud nyt...\\nham\\tJust got some gas money, any chance you and the gang want to go on a grand nature adventure?\\nham\\tDnt worry...use ice pieces in a cloth pack.also take 2 tablets.\\nham\\tDude just saw a parked car with its sunroof popped up. Sux\\nham\\tGet ready to put on your excellent sub face :)\\nham\\tTmrw. Im finishing 9 doors\\nham\\tThe  &lt;#&gt; g that i saw a few days ago, the guy wants sell wifi only for  &lt;#&gt;  and with 3g for  &lt;#&gt; . That\\'s why i blanked him.\\nham\\tI am late. I will be there at\\nham\\twhatever, im pretty pissed off.\\nham\\tToday is ACCEPT DAY..U Accept me as? Brother Sister Lover Dear1 Best1 Clos1 Lvblefrnd Jstfrnd Cutefrnd Lifpartnr Belovd Swtheart Bstfrnd No rply means enemy\\nham\\tI dont have that much image in class.\\nham\\tNo:-)i got rumour that you going to buy apartment in chennai:-)\\nham\\tNear kalainar tv office.thenampet\\nspam\\tUr cash-balance is currently 500 pounds - to maximize ur cash-in now send GO to 86688 only 150p/msg. CC 08718720201 HG/Suite342/2Lands Row/W1J6HL\\nspam\\tSMS AUCTION - A BRAND NEW Nokia 7250 is up 4 auction today! Auction is FREE 2 join & take part! Txt NOKIA to 86021 now! HG/Suite342/2Lands Row/W1J6HL\\nham\\tMy sis is catching e show in e afternoon so i\\'m not watching w her. So c u wan 2 watch today or tmr lor.\\nham\\tSounds gd... Haha... Can... Wah, u yan jiu so fast liao...\\nham\\tNo. To be nosy I guess. Idk am I over reacting if I\\'m freaked?\\nham\\tRemember all those whom i hurt during days of satanic imposter in me.need to pay a price,so be it.may destiny keep me going and as u said pray that i get the mind to get over the same.\\nham\\tHow to Make a girl Happy? It\\'s not at all difficult to make girls happy. U only need to be... 1. A friend 2. Companion 3. Lover 4. Chef . . .  &lt;#&gt; . Good listener  &lt;#&gt; . Organizer  &lt;#&gt; . Good boyfriend  &lt;#&gt; . Very clean  &lt;#&gt; . Sympathetic  &lt;#&gt; . Athletic  &lt;#&gt; . Warm . . .  &lt;#&gt; . Courageous  &lt;#&gt; . Determined  &lt;#&gt; . True  &lt;#&gt; . Dependable  &lt;#&gt; . Intelligent . . .  &lt;#&gt; . Psychologist  &lt;#&gt; . Pest exterminator  &lt;#&gt; . Psychiatrist  &lt;#&gt; . Healer . .  &lt;#&gt; . Stylist  &lt;#&gt; . Driver . . Aaniye pudunga venaam..\\nham\\tWhy is that, princess? I bet the brothas are all chasing you!\\nham\\tI shall book chez jules for half eight, if that\\'s ok with you?\\nham\\tHhahhaahahah rofl wtf nig was leonardo in your room or something\\nham\\tYep, at derek\\'s house now, see you Sunday &lt;3\\nham\\tIt\\'s cool, let me know before it kicks off around  &lt;#&gt; , I\\'ll be out and about all day\\nham\\tSorry, I\\'ll call later\\nham\\tI was wondering if it would be okay for you to call uncle john and let him know that things are not the same in nigeria as they r here. That  &lt;#&gt;  dollars is 2years sent and that you know its a strain but i plan to pay back every dime he gives. Every dime so for me to expect anything from you is not practical. Something like that.\\nham\\tThere are no other charges after transfer charges and you can withdraw anyhow you like\\nham\\tDont search love, let love find U. Thats why its called falling in love, bcoz U dont force yourself, U just fall and U know there is smeone to hold U... BSLVYL\\nham\\tAt 4. Let\\'s go to bill millers\\nham\\tI love you. You set my soul on fire. It is not just a spark. But it is a flame. A big rawring flame. XoXo\\nham\\tSomewhr someone is surely made 4 u. And God has decided a perfect time to make u meet dat person. . . . till den, . . . . . Enjoy ur crushes..!!!;-)\\nham\\tThat\\'s my honeymoon outfit. :)\\nham\\tWill it help if we propose going back again tomorrow\\nspam\\tPRIVATE! Your 2003 Account Statement for shows 800 un-redeemed S. I. M. points. Call 08719899230 Identifier Code: 41685 Expires 07/11/04\\nham\\tNever blame a day in ur life. Good days give u happiness. Bad days give u experience. Both are essential in life! All are Gods blessings! good morning.:\\nham\\tPls confirm the time to collect the cheque.\\nspam\\tAs a Registered Subscriber yr draw 4 a £100 gift voucher will b entered on receipt of a correct ans. When are the next olympics. Txt ans to 80062\\nspam\\tURGENT! Your Mobile number has been awarded with a £2000 prize GUARANTEED. Call 09061790121 from land line. Claim 3030. Valid 12hrs only 150ppm\\nham\\tDaddy will take good care of you :)\\nham\\tYeah probably, I still gotta check out with leo\\nham\\tK.then any other special?\\nham\\tCarlos is taking his sweet time as usual so let me know when you and patty are done/want to smoke and I\\'ll tell him to haul ass\\nham\\tOk pa. Nothing problem:-)\\nham\\tHave you heard about that job? I\\'m going to that wildlife talk again tonight if u want2come. Its that2worzels and a wizzle or whatever it is?! \\nham\\tGod picked up a flower and dippeditinaDEW, lovingly touched itwhichturnedinto u, and the he gifted tomeandsaid,THIS FRIEND IS 4U\\nham\\tWhen you came to hostel.\\nham\\tOk no prob... I\\'ll come after lunch then...\\nham\\tJus telling u dat i\\'ll b leaving 4 shanghai on 21st instead so we\\'ll haf more time 2 meet up cya...\\nham\\tAre your freezing ? Are you home yet ? Will you remember to kiss your mom in the morning? Do you love me ? Do you think of me ? Are you missing me yet ?\\nham\\tYou all ready for * big day tomorrow?\\nham\\tI\\'ll probably be around mu a lot\\nham\\t645\\nspam\\tRT-KIng Pro Video Club>> Need help? info@ringtoneking.co.uk or call 08701237397 You must be 16+ Club credits redeemable at www.ringtoneking.co.uk! Enjoy!\\nham\\tThnx dude. u guys out 2nite?\\nham\\tMe sef dey laugh you. Meanwhile how\\'s my darling anjie!\\nham\\tMm i had my food da from out\\nham\\tK, makes sense, btw carlos is being difficult so you guys are gonna smoke while I go pick up the second batch and get gas\\nham\\tDid u download the fring app?\\nham\\tThe 2 oz guy is being kinda flaky but one friend is interested in picking up $ &lt;#&gt;  worth tonight if possible\\nham\\tFriends that u can stay on fb chat with\\nham\\tFuck babe, I miss you sooooo much !! I wish you were here to sleep with me ... My bed is so lonely ... I go now, to sleep ... To dream of you, my love ...\\nham\\tLiving is very simple.. Loving is also simple.. Laughing is too simple.. Winning is tooo simple.. But, being \\'SIMPLE\\' is very difficult.. Gud nte.:-\\nspam\\tU have a secret admirer who is looking 2 make contact with U-find out who they R*reveal who thinks UR so special-call on 09058094599\\nham\\tAh, well that confuses things, doesn‘t it?\\nspam\\t500 free text msgs. Just text ok to 80488 and we\\'ll credit your account\\nham\\tHi Dear Call me its urgnt. I don\\'t know whats your problem. You don\\'t want to work or if you have any other problem at least tell me. Wating for your reply.\\nham\\tDear how you. Are you ok?\\nspam\\tYou have been selected to stay in 1 of 250 top British hotels - FOR NOTHING! Holiday Worth £350! To Claim, Call London 02072069400. Bx 526, SW73SS\\nham\\tYes princess! I want to make you happy...\\nham\\tSounds like you have many talents! would you like to go on a dinner date next week?\\nham\\tI am going to film 2day da. At 6pm. Sorry da.\\nham\\tWe not watching movie already. Xy wants 2 shop so i\\'m shopping w her now.\\nham\\tHello my little party animal! I just thought I\\'d buzz you as you were with your friends ...*grins*... Reminding you were loved and send a naughty adoring kiss\\nham\\tYesterday its with me only . Now am going home.\\nspam\\tEerie Nokia tones 4u, rply TONE TITLE to 8007 eg TONE DRACULA to 8007 Titles: GHOST, ADDAMSFA, MUNSTERS, EXORCIST, TWILIGHT www.getzed.co.uk POBox36504W45WQ 150p\\nham\\tYou have come into my life and brought the sun ..Shiny down on me, warming my heart. Putting a constant smile on my face ... Making me feel loved and cared for\\nham\\tNo shit, but I wasn\\'t that surprised, so I went and spent the evening with that french guy I met in town here and we fooled around a bit but I didn\\'t let him fuck me\\nspam\\t0A$NETWORKS allow companies to bill for SMS, so they are responsible for their \"suppliers\", just as a shop has to give a guarantee on what they sell. B. G.\\nham\\tGreat comedy..cant stop laughing da:)\\nspam\\tFreeMsg:Feelin kinda lnly hope u like 2 keep me company! Jst got a cam moby wanna c my pic?Txt or reply DATE to 82242 Msg150p 2rcv Hlp 08712317606 stop to 82242\\nham\\tAlright, we\\'re all set here, text the man\\nham\\tHi , where are you? We\\'re at  and they\\'re not keen to go out i kind of am but feel i shouldn\\'t so can we go out tomo, don\\'t mind do you?\\nham\\tSleeping nt feeling well\\nham\\tU WILL SWITCH YOUR FONE ON DAMMIT!!\\nham\\tIndia have to take lead:)\\nham\\tI.ll post her out l8r. In class\\nham\\tThts wat Wright Brother did to fly..\\nham\\tEvening * v good if somewhat event laden. Will fill you in, don\\'t you worry … Head * ok but throat * wrecked. See you at six then!\\nham\\tIf u laugh really loud.. If u talk spontaneously.. If u dont care what others feel.. U are probably with your dear &amp; best friends.. GOODEVENING Dear..:)\\nham\\tITS A LAPTOP TAKE IT WITH YOU.\\nham\\tI dont have any of your file in my bag..i was in work when you called me.i \\'ll tell you if i find anything in my room.\\nham\\tI wan but too early lei... Me outside now wun b home so early... Neva mind then...\\nspam\\tFor ur chance to win a £250 cash every wk TXT: ACTION to 80608. T\\'s&C\\'s www.movietrivia.tv custcare 08712405022, 1x150p/wk\\nham\\tI was at bugis juz now wat... But now i\\'m walking home oredi... Ü so late then reply... I oso saw a top dat i like but din buy... Where r ü now? \\nham\\tWishing you and your family Merry \"X\" mas and HAPPY NEW Year in advance..\\nham\\tAt 7 we will go ok na.\\nham\\tYes I posted a couple of pics on fb. There\\'s still snow outside too. I\\'m just waking up :)\\nham\\tS:-)if we have one good partnership going we will take lead:)\\nspam\\tRGENT! This is the 2nd attempt to contact U!U have WON £1250 CALL 09071512433 b4 050703 T&CsBCM4235WC1N3XX. callcost 150ppm mobilesvary. max£7. 50\\nham\\tYeah, where\\'s your class at?\\nham\\tNo just send to you. Bec you in temple na.\\nham\\tYou aren\\'t coming home between class, right? I need to work out and shower!\\nspam\\tHi if ur lookin 4 saucy daytime fun wiv busty married woman Am free all next week Chat now 2 sort time 09099726429 JANINExx Calls£1/minMobsmoreLKPOBOX177HP51FL\\nham\\tS but mostly not like that.\\nham\\tÜ v ma fan...\\nham\\tDunno cos i was v late n when i reach they inside already... But we ate spageddies lor... It\\'s e gals who r laughing at me lor...\\nham\\tGuess who spent all last night phasing in and out of the fourth dimension\\nham\\tSo now my dad is gonna call after he gets out of work and ask all these crazy questions.\\nham\\tYes..but they said its IT.,\\nham\\tVery hurting n meaningful lines ever: \"I compromised everything for my love, But at d end my love compromised me for everything:-(\".. Gud mornin:-)\\nham\\tLmao!nice 1\\nham\\tGlad to see your reply.\\nspam\\tURGENT! We are trying to contact U. Todays draw shows that you have won a £800 prize GUARANTEED. Call 09050001295 from land line. Claim A21. Valid 12hrs only\\nspam\\tMonthly password for wap. mobsi.com is 391784. Use your wap phone not PC.\\nham\\tNah dub but je still buff\\nham\\tPainful words- \"I thought being Happy was the most toughest thing on Earth... But, the toughest is acting Happy with all unspoken pain inside..\"\\nham\\tYeah, that\\'s fine! It\\'s £6 to get in, is that ok? \\nham\\tLol where do u come up with these ideas?\\nham\\tSo many people seems to be special at first sight, But only very few will remain special to you till your last sight.. Maintain them till life ends.. Sh!jas\\nham\\tToday is \"song dedicated day..\" Which song will u dedicate for me? Send this to all ur valuable frnds but first rply me...\\nham\\tOkay... We wait ah\\nham\\tY lei?\\nham\\tHI BABE U R MOST LIKELY TO BE IN BED BUT IM SO SORRY ABOUT TONIGHT! I REALLY WANNA SEE U TOMORROW SO CALL ME AT 9. LOVE ME XXX\\nham\\tAlready am squatting is the new way of walking\\nham\\tDo you want bold 2 or bb torch\\nham\\tCramps stopped. Going back to sleep\\nspam\\ttodays vodafone numbers ending with 0089(my last four digits) are selected to received a £350 award. If your number matches please call 09063442151 to claim your £350 award\\nspam\\tFree Top ringtone -sub to weekly ringtone-get 1st week free-send SUBPOLY to 81618-?3 per week-stop sms-08718727870\\nham\\tNan sonathaya soladha. Why boss?\\nham\\tBring tat cd don forget\\nspam\\tSunshine Quiz Wkly Q! Win a top Sony DVD player if u know which country the Algarve is in? Txt ansr to 82277. £1.50 SP:Tyrone\\nham\\tI don\\'t know but I\\'m raping dudes at poker\\nham\\tWeightloss! No more girl friends. Make loads of money on ebay or something. And give thanks to God.\\nham\\tWas gr8 to see that message. So when r u leaving? Congrats dear. What school and wat r ur plans.\\nham\\tÜ eatin later but i\\'m eatin wif my frens now lei... Ü going home first? \\nham\\tFinish already... Yar they keep saying i mushy... I so embarrassed ok...\\nham\\tSorry man, my stash ran dry last night and I can\\'t pick up more until sunday\\nham\\tHai priya are you right. What doctor said pa. Where are you.\\nspam\\tFree msg. Sorry, a service you ordered from 81303 could not be delivered as you do not have sufficient credit. Please top up to receive the service.\\nham\\tOk...\\nham\\tPlease ask mummy to call father\\nham\\tCan come my room but cannot come my house cos my house still messy... Haha...\\nham\\tI have lost 10 kilos as of today!\\nham\\tJust taste fish curry :-P\\nham\\tWhat can i do? Might accidant tookplace between somewhere ghodbandar rd. Traffic moves slovely. So plz slip &amp; don\\'t worry.\\nham\\tYun ah.now ü wkg where?btw if ü go nus sc. Ü wana specialise in wad?\\nham\\tYes! I am a one woman man! Please tell me your likes and dislikes in bed...\\nham\\tWas doing my test earlier. I appreciate you. Will call you tomorrow.\\nham\\tHow\\'s my loverboy doing ? What does he do that keeps him from coming to his Queen, hmmm ? Doesn\\'t he ache to speak to me ? Miss me desparately ?\\nham\\tU meet other fren dun wan meet me ah... Muz b a guy rite...\\nham\\t(No promises on when though, haven\\'t even gotten dinner yet)\\nham\\tI got your back! Do you have any dislikes in bed?\\nham\\to turns out i had stereo love on mi phone under the unknown album.\\nspam\\tHard LIVE 121 chat just 60p/min. Choose your girl and connect LIVE. Call 09094646899 now! Cheap Chat UK\\'s biggest live service. VU BCM1896WC1N3XX\\nham\\tYeah I don\\'t see why not\\nham\\tAsking do u knw them or nt? May be ur frnds or classmates?\\nham\\tSorry about earlier. Putting out fires.Are you around to talk after 9? Or do you actually have a life, lol!\\nspam\\tWOW! The Boys R Back. TAKE THAT 2007 UK Tour. Win VIP Tickets & pre-book with VIP Club. Txt CLUB to 81303. Trackmarque Ltd info@vipclub4u.\\nham\\tAs in missionary hook up, doggy hook up, standing...|\\nham\\tThen u better go sleep.. Dun disturb u liao.. U wake up then msg me lor..\\nham\\tFighting with the world is easy, u either win or lose bt fightng with some1 who is close to u is dificult if u lose - u lose if u win - u still lose.\\nham\\tAm watching house – very entertaining – am getting the whole hugh laurie thing – even with the stick – indeed especially with the stick.\\nham\\tThought praps you meant another one. Goodo! I\\'ll look tomorrow \\nham\\tHi Jon, Pete here, Ive bin 2 Spain recently & hav sum dinero left, Bill said u or ur \\x91rents mayb interested in it, I hav 12,000pes, so around £48, tb, James.\\nham\\tThere bold 2  &lt;#&gt; . Is that yours\\nham\\tYou know there is. I shall speak to you in  &lt;#&gt;  minutes then\\nham\\t\"ALRITE HUNNY!WOT U UP 2 2NITE? DIDNT END UP GOIN DOWN TOWN JUS DA PUB INSTEAD! JUS CHILLIN AT DA MO IN ME BEDROOM!LOVE JEN XXX.\"\\nham\\tI went to project centre\\nham\\tAs per your request \\'Maangalyam (Alaipayuthe)\\' has been set as your callertune for all Callers. Press *9 to copy your friends Callertune\\nham\\tLol yeah at this point I guess not\\nham\\tDoing project w frens lor. \\nham\\tLol. Well quality aint bad at all so i aint complaining\\nham\\tK, can that happen tonight?\\nspam\\tHi, this is Mandy Sullivan calling from HOTMIX FM...you are chosen to receive £5000.00 in our Easter Prize draw.....Please telephone 09041940223 to claim before 29/03/05 or your prize will be transferred to someone else....\\nham\\tI think we\\'re going to finn\\'s now, come\\nham\\tWhy tired what special there you had\\nham\\tI will come tomorrow di\\nham\\tI cant pick the phone right now. Pls send a message\\nham\\tK go and sleep well. Take rest:-).\\nham\\tU guys never invite me anywhere :(\\nspam\\tUR GOING 2 BAHAMAS! CallFREEFONE 08081560665 and speak to a live operator to claim either Bahamas cruise of£2000 CASH 18+only. To opt out txt X to 07786200117\\nham\\tI can do that! I want to please you both inside and outside the bedroom...\\nham\\t\"EY! CALM DOWNON THEACUSATIONS.. ITXT U COS IWANA KNOW WOTU R DOIN AT THEW/END... HAVENTCN U IN AGES..RING ME IF UR UP4 NETHING SAT.LOVE J XXX.\"\\nham\\tI love to wine and dine my lady!\\nspam\\tSomeone has conacted our dating service and entered your phone because they fancy you!To find out who it is call from landline 09111030116. PoBox12n146tf15\\nham\\tI\\x92m cool ta luv but v.tired 2 cause i have been doin loads of planning all wk, we have got our social services inspection at the nursery! Take care & spk sn x.\\nham\\tI don know account details..i will ask my mom and send you.my mom is out of reach now.\\nham\\tI think u have the wrong number.\\nham\\tFeel Yourself That You Are Always Happy.. Slowly It Becomes Your Habit &amp; Finally It Becomes Part Of Your Life.. Follow It.. Happy Morning &amp; Have A Happy Day:)\\nham\\tDO NOT B LATE LOVE MUM\\nham\\tGot it..mail panren paru..\\nham\\t* Was thinking about chuckin ur red green n black trainners 2 save carryin them bac on train\\nham\\tGive one miss from that number please\\nham\\tJus came back fr lunch wif my sis only. U leh?\\nham\\tHow is your schedule next week? I am out of town this weekend.\\nham\\tReally good:)dhanush rocks once again:)\\nham\\tLmao ok I wont be needing u to do my hair anymore.\\nham\\tMiss ya, need ya, want ya, love ya.\\nham\\tSorry i\\'m not free...\\nham\\tDo u ever get a song stuck in your head for no reason and it won\\'t go away til u listen to it like 5 times?\\nham\\tNt yet chikku..simple habba..hw abt u?\\nham\\tGot ur mail Dileep.thank you so muchand look forward to lots of support...very less contacts here,remember one venugopal you mentioned.tomorrow if not late,i shall try to come up till there.goodnight dear.\\nham\\tSometimes Heart Remembrs someone Very much... Forgets someone soon... Bcoz Heart will not like everyone. But liked ones will be Remembered Everytime... BSLVYL\\nham\\tJoy\\'s father is John. Then John is the NAME of Joy\\'s father. Mandan\\nspam\\tHi 07734396839 IBH Customer Loyalty Offer: The NEW NOKIA6600 Mobile from ONLY £10 at TXTAUCTION!Txt word:START to No:81151 & get Yours Now!4T&\\nham\\tHi this is yijue... It\\'s regarding the 3230 textbook it\\'s intro to algorithms second edition... I\\'m selling it for $50...\\nspam\\tSMS AUCTION You have won a Nokia 7250i. This is what you get when you win our FREE auction. To take part send Nokia to 86021 now. HG/Suite342/2Lands Row/W1JHL 16+\\nham\\tK, want us to come by now?\\nham\\tHow. Its a little difficult but its a simple way to enter this place\\nham\\tHa... Both of us doing e same thing. But i got tv 2 watch. U can thk of where 2 go tonight or u already haf smth in mind...\\nham\\tDont show yourself. How far. Put new pictures up on facebook.\\nham\\tWatching tv now. I got new job :)\\nham\\tGood afternoon sexy buns! How goes the job search ? I wake and you are my first thought as always, my love. I wish your fine and happy and know I adore you!\\nham\\tI\\'m not coming over, do whatever you want\\nham\\tIts ok chikku, and its my 1 of favourite song..:-)\\nham\\tDid u see what I posted on your Facebook?\\nspam\\tCall FREEPHONE 0800 542 0578 now!\\nspam\\tBuy Space Invaders 4 a chance 2 win orig Arcade Game console. Press 0 for Games Arcade (std WAP charge) See o2.co.uk/games 4 Terms + settings. No purchase\\nham\\t7 wonders in My WORLD 7th You 6th Ur style 5th Ur smile 4th Ur Personality 3rd Ur Nature 2nd Ur SMS and 1st \"Ur Lovely Friendship\"... good morning dear\\nspam\\tLoan for any purpose £500 - £75,000. Homeowners + Tenants welcome. Have you been previously refused? We can still help. Call Free 0800 1956669 or text back \\'help\\'\\nspam\\tBIG BROTHER ALERT! The computer has selected u for 10k cash or #150 voucher. Call 09064018838. NTT PO Box CRO1327 18+ BT Landline Cost 150ppm mobiles vary\\nham\\t;-( oh well, c u later\\nham\\tMy uncles in Atlanta. Wish you guys a great semester.\\nham\\tNo dear i do have free messages without any recharge. Hi hi hi\\nham\\tDont search love, let love find U. Thats why its called falling in love, bcoz U dont force yourself, U just fall and U know there is smeone to hold U... BSLVYL\\nham\\tI dun believe u. I thk u told him.\\nham\\tDo you know why god created gap between your fingers..? So that, One who is made for you comes &amp; fills those gaps by holding your hand with LOVE..!\\nham\\tYes:)sura in sun tv.:)lol.\\nham\\tArun can u transfr me d amt\\nham\\tTakin a shower now but yeah I\\'ll leave when I\\'m done\\nham\\tAm not working but am up to eyes in philosophy so will text u later when a bit more free for chat...\\nham\\tU haven\\x92t lost me ill always b here 4u.i didn\\x92t intend 2 hurt u but I never knew how u felt about me when Iwas+marine&that\\x92s what itried2tell urmom.i careabout u\\nspam\\tWIN: We have a winner! Mr. T. Foley won an iPod! More exciting prizes soon, so keep an eye on ur mobile or visit www.win-82050.co.uk\\nham\\tYou bad girl. I can still remember them\\nham\\tHow much i gave to you. Morning.\\nham\\tI hope your alright babe? I worry that you might have felt a bit desparate when you learned the job was a fake ? I am here waiting when you come back, my love\\nham\\tHey, can you tell me blake\\'s address? Carlos wanted me to meet him there but I got lost and he\\'s not answering his phone\\nham\\tCan i get your opinion on something first?\\nham\\tThat one week leave i put know that time. Why.\\nham\\tIf we hit it off, you can move in with me :)\\nham\\texcellent. I spent  &lt;#&gt;  years in the Air Force. Iraq and afghanistan. I am stable and honest. do you like traveling?\\nham\\tI wanna watch that movie\\nham\\tOk lor thanx... Ü in school?\\nham\\tI\\'m in class. Did you get my text.\\nham\\tThe bus leaves at  &lt;#&gt; \\nham\\tGod bless.get good sleep my dear...i will pray!\\nspam\\tTodays Voda numbers ending 1225 are selected to receive a £50award. If you have a match please call 08712300220 quoting claim code 3100 standard rates app \\nham\\tDo have a nice day today. I love you so dearly.\\nham\\tAiyo a bit pai seh ü noe... Scared he dun rem who i am then die... Hee... But he become better lookin oredi leh...\\nham\\tAight, I\\'ll ask a few of my roommates\\nham\\tNow, whats your house # again ? And do you have any beer there ?\\nham\\tDo ü all wan 2 meet up n combine all the parts? How\\'s da rest of da project going?\\nham\\t\"Getting tickets 4 walsall tue 6 th march. My mate is getting me them on sat. ill pay my treat. Want 2 go. Txt bak .Terry\"\\nham\\tYes we are chatting too.\\nham\\tHI ITS JESS I DONT KNOW IF YOU ARE AT WORK BUT CALL ME WHEN U CAN IM AT HOME ALL EVE. XXX\\nham\\tSian... Aft meeting supervisor got work 2 do liao... U working now?\\nham\\tAre you going to write ccna exam this week??\\nham\\tWell i will watch shrek in 3D!!B)\\nham\\tAm i that much dirty fellow?\\nham\\tDunno dat\\'s wat he told me. Ok lor...\\nham\\tI\\'ll probably be by tomorrow (or even later tonight if something\\'s going on)\\nham\\tI couldn\\'t say no as he is a dying man and I feel sad for him so I will go and I just wanted you to know I would probably be gone late into your night\\nham\\tIf you\\'re thinking of lifting me one then no.\\nham\\tSame as u... Dun wan... Y u dun like me already ah... Wat u doing now? Still eating?\\nham\\tSent me ur email id soon\\nham\\tWat makes some people dearer is not just de happiness dat u feel when u meet them but de pain u feel when u miss dem!!!\\nham\\tDude. What\\'s up. How Teresa. Hope you have been okay. When i didnt hear from these people, i called them and they had received the package since dec  &lt;#&gt; . Just thot you\\'ld like to know. Do have a fantastic year and all the best with your reading. Plus if you can really really Bam first aid for Usmle, then your work is done.\\nham\\tHey gorgeous man. My work mobile number is. Have a good one babe. Squishy Mwahs.\\nham\\tMay i call You later Pls\\nspam\\tHottest pics straight to your phone!! See me getting Wet and Wanting, just for you xx Text PICS to 89555 now! txt costs 150p textoperator g696ga 18 XxX\\nham\\tThat\\'s the way you should stay oh.\\nham\\tHello- thanx for taking that call. I got a job! Starts on monday!\\nham\\tWhat time is ur flight tmr?\\nham\\tWhen should I come over?\\nham\\tI have a rather prominent bite mark on my right cheek\\nham\\t* Will be september by then!\\nham\\tAre you wet right now?\\nham\\tAnd how\\'s your husband.\\nspam\\tHack Chat. Get backdoor entry into 121 chat rooms at a fraction of the cost. Reply NEO69 or call 09050280520, to subscribe 25p pm. DPS, Bcm box 8027 Ldn, wc1n3xx\\nham\\tAre we doing the norm tomorrow? I finish just a 4.15 cos of st tests. Need to sort library stuff out at some point tomo - got letter from today - access til end march so i better get move on!\\nham\\tYeah. I got a list with only u and Joanna if I\\'m feeling really anti social\\nham\\tI am in your office na.\\nham\\t\"Are you comingdown later?\"\\nham\\tSuper da:)good replacement for murali\\nham\\tDa is good good player.why he is unsold.\\nham\\tHi. || Do u want | to join me with sts later? || Meeting them at five. || Call u after class.\\nham\\tIts on in engalnd! But telly has decided it won\\'t let me watch it and mia and elliot were kissing! Damn it!\\nspam\\tFREE NOKIA Or Motorola with upto 12mths 1/2price linerental, 500 FREE x-net mins&100txt/mth FREE B\\'tooth*. Call Mobileupd8 on 08001950382 or call 2optout/D3WV\\nham\\tI dont want to hear philosophy. Just say what happen\\nham\\tYou got job in wipro:)you will get every thing in life in 2 or 3 years.\\nham\\tThen cant get da laptop? My matric card wif ü lei... \\nham\\tDunno da next show aft 6 is 850. Toa payoh got 650.\\nspam\\tThis is the 2nd time we have tried 2 contact u. U have won the 750 Pound prize. 2 claim is easy, call 08718726970 NOW! Only 10p per min. BT-national-rate \\nham\\tI just made some payments so dont have that much. Sorry. Would you want it fedex or the other way.\\nham\\tThey did\\'t play one day last year know even though they have very good team.. Like india.\\nham\\tK.:)you are the only girl waiting in reception ah?\\nham\\tSay this slowly.? GOD,I LOVE YOU &amp; I NEED YOU,CLEAN MY HEART WITH YOUR BLOOD.Send this to Ten special people &amp; u c miracle tomorrow, do it,pls,pls do it...\\nham\\tI hate when she does this. She turns what should be a fun shopping trip into an annoying day of how everything would look in her house.\\nham\\tSir, i am waiting for your call.\\nham\\tWhat\\'s up. Do you want me to come online?\\nham\\tIt could work, we\\'ll reach a consensus at the next meeting\\nham\\tAiyah then i wait lor. Then u entertain me. Hee...\\nham\\tThe last thing i ever wanted to do was hurt you. And i didn\\'t think it would have. You\\'d laugh, be embarassed, delete the tag and keep going. But as far as i knew, it wasn\\'t even up. The fact that you even felt like i would do it to hurt you shows you really don\\'t know me at all. It was messy wednesday, but it wasn\\'t bad. The problem i have with it is you HAVE the time to clean it, but you choose not to. You skype, you take pictures, you sleep, you want to go out. I don\\'t mind a few things here and there, but when you don\\'t make the bed, when you throw laundry on top of it, when i can\\'t have a friend in the house because i\\'m embarassed that there\\'s underwear and bras strewn on the bed, pillows on the floor, that\\'s something else. You used to be good about at least making the bed.\\nham\\tI\\'ll let you know when it kicks in\\nham\\tYou call him now ok i said call him\\nham\\tCall to the number which is available in appointment. And ask to connect the call to waheed fathima.\\nham\\tOr ü go buy wif him then i meet ü later can?\\nham\\tMmmm ... Fuck ... Not fair ! You know my weaknesses ! *grins* *pushes you to your knee\\'s* *exposes my belly and pulls your head to it* Don\\'t forget ... I know yours too *wicked smile*\\nham\\tToday my system sh get ready.all is well and i am also in the deep well\\nham\\tMom wants to know where you at\\nham\\tAight, I\\'ll text you when I\\'m back\\nham\\tDont know supports ass and srt i thnk. I think ps3 can play through usb too\\nham\\tOh ok i didnt know what you meant. Yep i am baby jontin\\nspam\\tYou have WON a guaranteed £1000 cash or a £2000 prize.To claim yr prize call our customer service representative on\\nspam\\tWould you like to see my XXX pics they are so hot they were nearly banned in the uk!\\nspam\\tHMV BONUS SPECIAL 500 pounds of genuine HMV vouchers to be won. Just answer 4 easy questions. Play Now! Send HMV to 86688 More info:www.100percent-real.com\\nham\\tWatching tv now. I got new job :)\\nham\\tThis pen thing is beyond a joke. Wont a Biro do? Don\\'t do a masters as can\\'t do this ever again! \\nham\\tI AM AT A PARTY WITH ALEX NICHOLS\\nspam\\tU have a secret admirer who is looking 2 make contact with U-find out who they R*reveal who thinks UR so special-call on 09058094594\\nham\\tJust seeing your missed call my dear brother. Do have a gr8 day.\\nham\\tOk.. Ü finishing soon?\\nham\\tSorry, I can\\'t help you on this.\\nham\\tCome to me, slave. Your doing it again ... Going into your shell and unconsciously avoiding me ... You are making me unhappy :-(\\nham\\tI love your ass! Do you enjoy doggy style? :)\\nham\\tI think asking for a gym is the excuse for lazy people. I jog.\\nspam\\tDear 0776xxxxxxx U\\'ve been invited to XCHAT. This is our final attempt to contact u! Txt CHAT to 86688 150p/MsgrcvdHG/Suite342/2Lands/Row/W1J6HL LDN 18yrs \\nspam\\tUrgent! Please call 09061743811 from landline. Your ABTA complimentary 4* Tenerife Holiday or £5000 cash await collection SAE T&Cs Box 326 CW25WX 150ppm\\nham\\tNo. On the way home. So if not for the long dry spell the season would have been over\\nham\\tI gotta collect da car at 6 lei.\\nham\\tOk but knackered. Just came home and went to sleep! Not good at this full time work lark.\\nham\\tProbably earlier than that if the station\\'s where I think it is\\nspam\\tCALL 09090900040 & LISTEN TO EXTREME DIRTY LIVE CHAT GOING ON IN THE OFFICE RIGHT NOW TOTAL PRIVACY NO ONE KNOWS YOUR [sic] LISTENING 60P MIN 24/7MP 0870753331018+\\nham\\tGood Morning plz call me sir\\nspam\\tFreeMsg Hey U, i just got 1 of these video/pic fones, reply WILD to this txt & ill send U my pics, hurry up Im so bored at work xxx (18 150p/rcvd STOP2stop)\\nham\\tUh, heads up we don\\'t have THAT much left\\nham\\tI tot u outside cos darren say u come shopping. Of course we nice wat. We jus went sim lim look at mp3 player.\\nham\\tAight, sounds good. When do you want me to come down?\\nham\\tWat would u like 4 ur birthday?\\nham\\tI love working from home :)\\nham\\tAnd miss vday the parachute and double coins??? U must not know me very well...\\nham\\tSorry, I\\'ll call later\\nham\\tMy sister got placed in birla soft da:-)\\nspam\\tFree entry in 2 a weekly comp for a chance to win an ipod. Txt POD to 80182 to get entry (std txt rate) T&C\\'s apply 08452810073 for details 18+\\nham\\tWah... Okie okie... Muz make use of e unlimited... Haha... \\nham\\tThere\\'re some people by mu, I\\'m at the table by lambda\\nham\\tAnd stop being an old man. You get to build snowman snow angels and snowball fights.\\nham\\tELLO BABE U OK?\\nham\\tHello beautiful r u ok? I\\'ve kinda ad a row wiv and he walked out the pub?? I wanted a night wiv u Miss u \\nham\\tThen u going ikea str aft dat?\\nham\\tBecoz its  &lt;#&gt;  jan whn al the post ofice is in holiday so she cn go fr the post ofice...got it duffer\\nham\\tLol grr my mom is taking forever with my prescription. Pharmacy is like 2 minutes away. Ugh.\\nham\\tFor real tho this sucks. I can\\'t even cook my whole electricity is out. And I\\'m hungry.\\nham\\tYou want to go? \\nspam\\tNew TEXTBUDDY Chat 2 horny guys in ur area 4 just 25p Free 2 receive Search postcode or at gaytextbuddy.com. TXT ONE name to 89693. 08715500022 rpl Stop 2 cnl\\nham\\tIts not that time of the month nor mid of the time?\\nham\\tFffff. Can you text kadeem or are you too far gone\\nham\\tWe not leaving yet. Ok lor then we go elsewhere n eat. U thk...\\nham\\tIs fujitsu s series lifebook good?\\nham\\tYar i wanted 2 scold u yest but late already... I where got zhong se qing you? If u ask me b4 he ask me then i\\'ll go out w u all lor. N u still can act so real.\\nham\\tDont know you bring some food\\nham\\tNo current and food here. I am alone also\\nham\\tI\\'ll be in sch fr 4-6... I dun haf da book in sch... It\\'s at home...\\nham\\tHello. They are going to the village pub at 8 so either come here or there accordingly. Ok?\\nham\\tOk\\nham\\tWe don call like  &lt;#&gt;  times oh. No give us hypertension oh.\\nham\\tDont give a monkeys wot they think and i certainly don\\'t mind. Any friend of mine&all that! Just don\\'t sleep wiv , that wud be annoyin!\\nham\\tOmg it could snow here tonite!\\nspam\\tCall from 08702490080 - tells u 2 call 09066358152 to claim £5000 prize. U have 2 enter all ur mobile & personal details @ the prompts. Careful!\\nspam\\tFree 1st week entry 2 TEXTPOD 4 a chance 2 win 40GB iPod or £250 cash every wk. Txt VPOD to 81303 Ts&Cs www.textpod.net custcare 08712405020.\\nham\\tCarry on not disturbing both of you\\nham\\tWhat pa tell me.. I went to bath:-)\\nham\\tJus finished avatar nigro\\nham\\tR u over scratching it?\\nham\\tHope you are having a great day.\\nham\\tDid either of you have any idea\\'s? Do you know of anyplaces doing something?\\nham\\tMy planning usually stops at \"find hella weed, smoke hella weed\"\\nham\\tThe fact that you\\'re cleaning shows you know why i\\'m upset. Your priority is constantly \"what i want to do,\" not \"what i need to do.\"\\nham\\tExcellent! Are you ready to moan and scream in ecstasy?\\nspam\\tMore people are dogging in your area now. Call 09090204448 and join like minded guys. Why not arrange 1 yourself. There\\'s 1 this evening. A£1.50 minAPN LS278BB\\nham\\tDude avatar 3d was imp. At one point i thought there were actually flies in the room and almost tried hittng one as a reflex\\nspam\\tWELL DONE! Your 4* Costa Del Sol Holiday or £5000 await collection. Call 09050090044 Now toClaim. SAE, TCs, POBox334, Stockport, SK38xh, Cost£1.50/pm, Max10mins\\nham\\tK...k:)why cant you come here and search job:)\\nham\\tI got lousy sleep. I kept waking up every 2 hours to see if my cat wanted to come in. I worry about him when its cold :(\\nham\\tYeah, I\\'ll leave in a couple minutes &amp; let you know when I get to mu\\nham\\tCan ü call me at 10:10 to make sure dat i\\'ve woken up...\\nham\\tHey we can go jazz power yoga hip hop kb and yogasana \\nham\\tThe battery is for mr adewale my uncle. Aka Egbon\\nham\\tI cant pick the phone right now. Pls send a message\\nham\\tWait 2 min..stand at bus stop\\nham\\tOh ic. I thought you meant mary jane.\\nham\\tHaha... Really oh no... How? Then will they deduct your lesson tmr?\\nham\\tNah im goin 2 the wrks with j wot bout u?\\nham\\tThen just eat a shit and wait for ur monkey face bitch.......... U asshole..................\\nham\\tGood night. Am going to sleep.\\nham\\tAight I\\'ll grab something to eat too, text me when you\\'re back at mu\\nham\\tK...k:)why cant you come here and search job:)\\nham\\tTake something for pain. If it moves however to any side in the next 6hrs see a doctor.\\nham\\tLol ... Oh no babe, I wont be sliding into your place after midnight, but thanks for the invite\\nham\\tHowz that persons story\\nspam\\tGuess what! Somebody you know secretly fancies you! Wanna find out who it is? Give us a call on 09065394973 from Landline DATEBox1282EssexCM61XN 150p/min 18\\nham\\tLOL that would be awesome payback.\\nspam\\tit to 80488. Your 500 free text messages are valid until 31 December 2005.\\nham\\tYes :)it completely in out of form:)clark also utter waste.\\nham\\tHoneybee Said: *I\\'m d Sweetest in d World* God Laughed &amp; Said: *Wait,U Havnt Met d Person Reading This Msg* MORAL: Even GOD Can Crack Jokes! GM+GN+GE+GN:)\\nham\\tThanks. It was only from tescos but quite nice. All gone now. Speak soon \\nham\\tWhat\\'s a feathery bowa? Is that something guys have that I don\\'t know about?\\nham\\tEven i cant close my eyes you are in me our vava playing umma :-D\\nham\\t2 laptop... I noe infra but too slow lar... I wan fast one\\nspam\\tYou have won a guaranteed £200 award or even £1000 cashto claim UR award call free on 08000407165 (18+) 2 stop getstop on 88222 PHP\\nham\\tNvm it\\'s ok...\\nham\\tEnjoy ur life. . Good night\\nham\\tYes but can we meet in town cos will go to gep and then home. You could text at bus stop. And don\\'t worry we\\'ll have finished by march … ish!\\nham\\tI had askd u a question some hours before. Its answer\\nham\\tThats cool. Where should i cum? On you or in you? :)\\nham\\tDelhi and chennai still silent.\\nham\\tLol alright i was thinkin that too haha\\nspam\\tReply to win £100 weekly! Where will the 2006 FIFA World Cup be held? Send STOP to 87239 to end service\\nham\\tNo I\\'m in the same boat. Still here at my moms. Check me out on yo. I\\'m half naked.\\nham\\tShhhhh nobody is supposed to know!\\nham\\tSorry, I\\'ll call later\\nham\\tSorry, I\\'ll call later in meeting any thing related to trade please call Arul. &lt;#&gt; \\nham\\tHey i will be late... i\\'m at amk. Need to drink tea or coffee\\nham\\tI wnt to buy a BMW car urgently..its vry urgent.but hv a shortage of  &lt;#&gt; Lacs.there is no source to arng dis amt. &lt;#&gt; lacs..thats my prob\\nspam\\tUrgent! Please call 09061743810 from landline. Your ABTA complimentary 4* Tenerife Holiday or #5000 cash await collection SAE T&Cs Box 326 CW25WX 150 ppm\\nham\\tThe length is e same but e top shorter n i got a fringe now. I thk i\\'m not going liao. Too lazy. Dun wan 2 distract u also.\\nham\\tS..antha num corrct dane\\nham\\tNo calls..messages..missed calls\\nham\\tSorry, I\\'ll call later\\nham\\tThe basket\\'s gettin full so I might be by tonight\\nham\\tHI DARLIN IVE JUST GOT BACK AND I HAD A REALLY NICE NIGHT AND THANKS SO MUCH FOR THE LIFT SEE U TOMORROW XXX\\nham\\tNo other Valentines huh? The proof is on your fb page. Ugh I\\'m so glad I really DIDN\\'T watch your rupaul show you TOOL!\\nspam\\tFree tones Hope you enjoyed your new content. text stop to 61610 to unsubscribe. help:08712400602450p Provided by tones2you.co.uk\\nham\\tEh den sat u book e kb liao huh...\\nham\\tHave you been practising your curtsey?\\nham\\tShall i come to get pickle\\nham\\tLol boo I was hoping for a laugh\\nham\\t\"YEH I AM DEF UP4 SOMETHING SAT,JUST GOT PAYED2DAY & I HAVBEEN GIVEN A£50 PAY RISE 4MY WORK & HAVEBEEN MADE PRESCHOOLCO-ORDINATOR 2I AM FEELINGOOD LUV\"\\nham\\tWell, I have to leave for my class babe ... You never came back to me ... :-( ... Hope you have a nice sleep, my love\\nham\\tLMAO where\\'s your fish memory when I need it?\\nham\\tBut i\\'ll b going 2 sch on mon. My sis need 2 take smth.\\nham\\tIdea will soon get converted to live:)\\nspam\\tTheMob>Yo yo yo-Here comes a new selection of hot downloads for our members to get for FREE! Just click & open the next link sent to ur fone...\\nham\\tS....s...india going to draw the series after many years in south african soil..\\nham\\tGoodmorning, today i am late for  &lt;DECIMAL&gt; min.\\nham\\tCan\\'t take any major roles in community outreach. You rock mel\\nham\\tShopping lor. Them raining mah hard 2 leave orchard.\\nham\\tHi here. have birth at on the  to  at 8lb 7oz. Mother and baby doing brilliantly.\\nham\\tSee the forwarding message for proof\\nham\\tI can\\'t keep going through this. It was never my intention to run you out, but if you choose to do that rather than keep the room clean so *I* don\\'t have to say no to visitors, then maybe that\\'s the best choice. Yes, I wanted you to be embarassed, so maybe you\\'d feel for once how I feel when i have a friend who wants to drop buy and i have to say no, as happened this morning. I\\'ve tried everything. I don\\'t know what else to do.\\nham\\tDunno lei... I thk mum lazy to go out... I neva ask her yet...\\nham\\tDo whatever you want. You know what the rules are. We had a talk earlier this week about what had to start happening, you showing responsibility. Yet, every week it\\'s can i bend the rule this way? What about that way? Do whatever. I\\'m tired of having thia same argument with you every week. And a  &lt;#&gt;  movie DOESNT inlude the previews. You\\'re still getting in after 1.\\nham\\tBeautiful Truth against Gravity.. Read carefully: \"Our heart feels light when someone is in it.. But it feels very heavy when someone leaves it..\" GOODMORNING\\nspam\\tGreat News! Call FREEFONE 08006344447 to claim your guaranteed £1000 CASH or £2000 gift. Speak to a live operator NOW!\\nham\\tAmbrith..madurai..met u in arun dha marrge..remembr?\\nham\\tJust re read it and I have no shame but tell me how he takes it and if he runs I will blame u 4 ever!! Not really 4 ever just a long time \\nham\\tPrincess, is your kitty shaved or natural?\\nham\\tBetter than bb. If he wont use it, his wife will or them doctor\\nham\\tYa it came a while ago\\nham\\tFrom tomorrow onwards eve 6 to 3 work.\\nham\\tAnything lor but toa payoh got place 2 walk meh...\\nham\\tI don\\'t have anybody\\'s number, I still haven\\'t thought up a tactful way to ask alex\\nspam\\tU can WIN £100 of Music Gift Vouchers every week starting NOW Txt the word DRAW to 87066 TsCs www.ldew.com SkillGame,1Winaweek, age16.150ppermessSubscription\\nham\\tIs there any movie theatre i can go to and watch unlimited movies and just pay once?\\nham\\tU having lunch alone? I now so bored...\\nham\\tYes obviously, but you are the eggs-pert and the potato head… Speak soon! \\nham\\tNah man, my car is meant to be crammed full of people\\nham\\tNo got new job at bar in airport on satsgettin 4.47per hour but means no lie in! keep in touch\\nham\\tKallis is ready for bat in 2nd innings\\nham\\tThanx but my birthday is over already.\\nham\\tUgh y can\\'t u just apologize, admit u were wrong and ask me to take u back?\\nham\\tI noe la... U wana pei bf oso rite... K lor, other days den...\\nham\\tYes, i\\'m small kid.. And boost is the secret of my energy..\\nham\\tIM GONNA MISS U SO MUCH\\nham\\tIs avatar supposed to have subtoitles\\nham\\tSimply sitting and watching match in office..\\nham\\tYou can jot down things you want to remember later.\\nham\\tOh sorry please its over\\nham\\tHey are we going for the lo lesson or gym? \\nham\\tDont pack what you can buy at any store.like cereals. If you must pack food, pack gari or something 9ja that you will miss.\\nham\\tYou always make things bigger than they are\\nham\\tÜ dun wan to watch infernal affair?\\nham\\tMe not waking up until 4 in the afternoon, sup\\nspam\\t4mths half price Orange line rental & latest camera phones 4 FREE. Had your phone 11mths ? Call MobilesDirect free on 08000938767 to update now! or2stoptxt\\nham\\tI can send you a pic if you like :)\\nham\\tOkay... I booked all already... Including the one at bugis.\\nham\\tAight fuck it, I\\'ll get it later\\nham\\tNo de. But call me after some time. Ill tell you k\\nham\\tSo dont use hook up any how\\nham\\tHow much is blackberry bold2 in nigeria.\\nham\\tHi where you. You in home or calicut?\\nham\\tHey darlin.. i can pick u up at college if u tell me wen & where 2 mt.. love Pete xx\\nspam\\tCall 09094100151 to use ur mins! Calls cast 10p/min (mob vary). Service provided by AOM, just GBP5/month. AOM Box61,M60 1ER until u stop. Ages 18+ only!\\nham\\tOh... I was thkin of goin yogasana at 10 den no nd to go at 3 den can rush to parco 4 nb... Okie lor, u call me when ready...\\nham\\tY so late but i need to go n get da laptop...\\nham\\tSir, I am waiting for your mail.\\nham\\t.Please charge my mobile when you get up in morning.\\nham\\tNothing, i got msg frm tht unknown no..\\nham\\tUgh fuck it I\\'m resubbing to eve\\nham\\tHe didn\\'t see his shadow. We get an early spring yay\\nham\\tI did. One slice and one breadstick. Lol\\nham\\tHey ! I want you ! I crave you ! I miss you ! I need you ! I love you, Ahmad Saeed al Hallaq ...\\nham\\tIs there any training tomorrow?\\nspam\\tURGENT! Your mobile No *********** WON a £2,000 Bonus Caller Prize on 02/06/03! This is the 2nd attempt to reach YOU! Call 09066362220 ASAP! BOX97N7QP, 150ppm\\nham\\tPass dis to all ur contacts n see wat u get! Red;i\\'m in luv wid u. Blue;u put a smile on my face. Purple;u r realy hot. Pink;u r so swt. Orange;i thnk i lyk u. Green;i realy wana go out wid u. Yelow;i wnt u bck. Black;i\\'m jealous of u. Brown;i miss you Nw plz giv me one color\\nham\\tCos daddy arranging time c wat time fetch ü mah...\\nham\\tThen. You are eldest know.\\nham\\tWho\\'s there say hi to our drugdealer\\nham\\tIts hard to believe things like this. All can say lie but think twice before saying anything to me.\\nspam\\tEerie Nokia tones 4u, rply TONE TITLE to 8007 eg TONE DRACULA to 8007 Titles: GHOST, ADDAMSFA, MUNSTERS, EXORCIST, TWILIGHT www.getzed.co.uk POBox36504W45WQ 150p \\nspam\\tSexy Singles are waiting for you! Text your AGE followed by your GENDER as wither M or F E.G.23F. For gay men text your AGE followed by a G. e.g.23G.\\nham\\tGood night my dear.. Sleepwell&amp;Take care\\nham\\tThat is wondarfull song\\nspam\\tFreeMsg: Claim ur 250 SMS messages-Text OK to 84025 now!Use web2mobile 2 ur mates etc. Join Txt250.com for 1.50p/wk. T&C BOX139, LA32WU. 16 . Remove txtX or stop\\nham\\tYar lor actually we quite fast... Cos da ge slow wat... Haha...\\nham\\tMust come later.. I normally bathe him in da afternoon mah..\\nham\\tTrust me. Even if isn\\'t there, its there.\\nham\\tHey hun-onbus goin 2 meet him. He wants 2go out 4a meal but I donyt feel like it cuz have 2 get last bus home!But hes sweet latelyxxx\\nspam\\t85233 FREE>Ringtone!Reply REAL\\nham\\tI can take you at like noon\\nham\\tWhere is it. Is there any opening for mca.\\nham\\tI\\'m aight. Wat\\'s happening on your side.\\nham\\tI\\'m done oredi...\\nham\\tyou are sweet as well, princess. Please tell me your likes and dislikes in bed...\\nham\\tHow are you. Wish you a great semester\\nham\\tMoji i love you more than words. Have a rich day\\nham\\tDude how do you like the buff wind.\\nham\\t\"alright babe, justthought i\\x92d sayhey! how u doin?nearly the endof me wk offdam nevamind!We will have 2Hook up sn if uwant m8? loveJen x.\"\\nspam\\tWell done ENGLAND! Get the official poly ringtone or colour flag on yer mobile! text TONE or FLAG to 84199 NOW! Opt-out txt ENG STOP. Box39822 W111WX £1.50\\nham\\tNo i\\'m not. I can\\'t give you everything you want and need. You actually could do better for yourself on yor own--you\\'ve got more money than i do. I can\\'t get work, i can\\'t get a man, i can\\'t pay the rent, i can\\'t even fill my fucking gas tank. yes, i\\'m stressed and depressed. I didn\\'t even call home for thanksgiving cuz i\\'ll have to tell them i,m up to nothing.\\nham\\tS:-)kallis wont play in first two odi:-)\\nham\\tThen get some cash together and I\\'ll text jason\\nham\\tOh, my love, it\\'s soooo good to hear from you. Omg I missed you so much today. I\\'m sorry your having problems with the provider but thank you for tming me\\nspam\\tFinal Chance! Claim ur £150 worth of discount vouchers today! Text YES to 85023 now! SavaMob, member offers mobile! T Cs SavaMob POBOX84, M263UZ. £3.00 Subs 16\\nspam\\tPRIVATE! Your 2004 Account Statement for 07742676969 shows 786 unredeemed Bonus Points. To claim call 08719180248 Identifier Code: 45239 Expires\\nham\\tProbably, want to pick up more?\\nham\\tI\\'m done...\\nham\\tAre you the cutest girl in the world or what\\nham\\tNo dice, art class 6 thru 9 :( thanks though. Any idea what time I should come tomorrow?\\nspam\\tSMS SERVICES. for your inclusive text credits, pls goto www.comuk.net login= ***** unsubscribe with STOP. no extra charge. help:08700469649. PO BOX420. IP4 5WE\\nham\\tOh Howda gud gud.. Mathe en samachara chikku:-)\\nham\\tI thk 530 lor. But dunno can get tickets a not. Wat u doing now?\\nham\\tAudrie lousy autocorrect\\nham\\tIts a site to simulate the test. It just gives you very tough questions to test your readiness.\\nham\\tAnyway seriously hit me up when you\\'re back because otherwise I have to light up with armand and he always has shit and/or is vomiting\\nham\\tI fetch yun or u fetch?\\nham\\tThank you. I like you as well...\\nham\\tHmmm ... And imagine after you\\'ve come home from that having to rub my feet, make me dinner and help me get ready for my date ! Are you sure your ready for that kind of life ?\\nspam\\tFREE2DAY sexy St George\\'s Day pic of Jordan!Txt PIC to 89080 dont miss out, then every wk a saucy celeb!4 more pics c PocketBabe.co.uk 0870241182716 £3/wk\\nham\\tLara said she can loan me  &lt;#&gt; .\\nham\\tDo we have any spare power supplies\\nham\\tYar he quite clever but aft many guesses lor. He got ask me 2 bring but i thk darren not so willing 2 go. Aiya they thk leona still not attach wat.\\nspam\\tYou are a winner you have been specially selected to receive £1000 cash or a £2000 award. Speak to a live operator to claim call 087123002209am-7pm. Cost 10p\\nham\\tYeah, don\\'t go to bed, I\\'ll be back before midnight\\nspam\\tSunshine Hols. To claim ur med holiday send a stamped self address envelope to Drinks on Us UK, PO Box 113, Bray, Wicklow, Eire. Quiz Starts Saturday! Unsub Stop\\nham\\tWell I wasn\\'t available as I washob nobbing with last night so they had to ask Nickey Platt instead of me!;\\nham\\tIt\\'s that time of the week again, ryan\\nham\\tWish u many many returns of the day.. Happy birthday vikky..\\nspam\\tU can WIN £100 of Music Gift Vouchers every week starting NOW Txt the word DRAW to 87066 TsCs www.Idew.com SkillGame, 1Winaweek, age16. 150ppermessSubscription\\nham\\tI hope you know I\\'m still mad at you.\\nham\\tArgh my 3g is spotty, anyway the only thing I remember from the research we did was that province and sterling were the only problem-free places we looked at\\nham\\tIn xam hall boy asked girl Tell me the starting term for dis answer I can den manage on my own After lot of hesitation n lookin around silently she said THE! intha ponnungale ipaditan;)\\nham\\tDo you know when the result.\\nspam\\t+123 Congratulations - in this week\\'s competition draw u have won the £1450 prize to claim just call 09050002311 b4280703. T&Cs/stop SMS 08718727868. Over 18 only 150ppm\\nham\\tBeautiful Truth against Gravity.. Read carefully: \"Our heart feels light when someone is in it.. But it feels very heavy when someone leaves it..\" GOOD NIGHT\\nham\\tSorry im getting up now, feel really bad- totally rejected that kinda me thing.\\nham\\tYou do got a shitload of diamonds though\\nham\\tTessy..pls do me a favor. Pls convey my birthday wishes to Nimya..pls dnt forget it. Today is her birthday Shijas\\nham\\tWell I\\'m going to be an aunty!\\nham\\tMine here like all fr china then so noisy.\\nham\\tLater i guess. I needa do mcat study too.\\nham\\tS...from the training manual it show there is no tech process:)its all about password reset and troubleshooting:)\\nspam\\tYour B4U voucher w/c 27/03 is MARSMS. Log onto www.B4Utele.com for discount credit. To opt out reply stop. Customer care call 08717168528\\nham\\tSpoke with uncle john today. He strongly feels that you need to sacrifice to keep me here. He\\'s going to call you. When he does, i beg you to just listen. Dont make any promises or make it clear things are not easy. And i need you to please let us work things out. As long as i keep expecting help, my creativity will be stifled so pls just keep him happy, no promises on your part.\\nham\\tIf he started searching he will get job in few days.he have great potential and talent.\\nham\\tCarlos took a while (again), we leave in a minute\\nham\\tWell done and ! luv ya all \\nham\\tThen why you came to hostel.\\nham\\tK still are you loving me.\\nham\\tBut i juz remembered i gotta bathe my dog today..\\nham\\tAfter the drug she will be able to eat.\\nham\\tAlright took the morphine. Back in yo.\\nham\\tYou see the requirements please\\nham\\tYou stayin out of trouble stranger!!saw Dave the other day he\\x92s sorted now!still with me bloke when u gona get a girl MR!ur mum still Thinks we will get 2GETHA! \\nspam\\tFreeMsg: Hey - I\\'m Buffy. 25 and love to satisfy men. Home alone feeling randy. Reply 2 C my PIX! QlynnBV Help08700621170150p a msg Send stop to stop txts\\nspam\\tSunshine Hols. To claim ur med holiday send a stamped self address envelope to Drinks on Us UK, PO Box 113, Bray, Wicklow, Eire. Quiz Starts Saturday! Unsub Stop\\nham\\tSo can collect ur laptop?\\nham\\tOk. Can be later showing around 8-8:30 if you want + cld have drink before. Wld prefer not to spend money on nosh if you don\\'t mind, as doing that nxt wk.\\nham\\tI will once i get home\\nham\\tWaaaat?? Lololo ok next time then!\\nham\\tThe table\\'s occupied, I\\'m waiting by the tree\\nham\\tI surely dont forgot to come:)i will always be in touch in with you:-)\\nham\\tHi kindly give us back our documents which we submitted for loan from STAPATI\\nham\\tI dont have i shall buy one dear\\nham\\tOh god i am happy to see your message after 3 days\\nham\\tWhat year. And how many miles.\\nham\\tHey cutie. How goes it? Here in WALES its kinda ok. There is like hills and shit but i still avent killed myself. \\nham\\tSad story of a Man - Last week was my b\\'day. My Wife did\\'nt wish me. My Parents forgot n so did my Kids . I went to work. Even my Colleagues did not wish. As I entered my cabin my PA said, \\'\\' Happy B\\'day Boss !!\\'\\'. I felt special. She askd me 4 lunch. After lunch she invited me to her apartment. We went there. She said,\\'\\' do u mind if I go into the bedroom for a minute ? \\'\\' \\'\\'OK\\'\\', I sed in a sexy mood. She came out 5 minuts latr wid a cake...n My Wife, My Parents, My Kidz, My Friends n My Colleagues. All screaming.. SURPRISE !! and I was waiting on the sofa.. ... ..... \\' NAKED...!\\nham\\tI think you should go the honesty road. Call the bank tomorrow. Its the tough decisions that make us great people.\\nspam\\tFREE for 1st week! No1 Nokia tone 4 ur mob every week just txt NOKIA to 87077 Get txting and tell ur mates. zed POBox 36504 W45WQ norm150p/tone 16+\\nham\\tNo. Its not specialisation. Can work but its slave labor. Will look for it this month sha cos no shakara 4 beggar.\\nham\\tIs she replying. Has boye changed his phone number\\nham\\t1) Go to write msg 2) Put on Dictionary mode 3)Cover the screen with hand, 4)Press  &lt;#&gt; . 5)Gently remove Ur hand.. Its interesting..:)\\nham\\thi my darlin im on my way to London and we have just been smashed into by another driver! and have a big dent! im really missing u what have u been up to? xxx\\nham\\tNothing really, just making sure everybody\\'s up to speed\\nham\\tI\\'m not coming home 4 dinner.\\nham\\tThank you. And by the way, I just lost.\\nham\\tYes.he have good crickiting mind\\nham\\tThx. All will be well in a few months\\nspam\\tShop till u Drop, IS IT YOU, either 10K, 5K, £500 Cash or £100 Travel voucher, Call now, 09064011000. NTT PO Box CR01327BT fixedline Cost 150ppm mobile vary\\nham\\t\"CAN I PLEASE COME UP NOW IMIN TOWN.DONTMATTER IF URGOIN OUTL8R,JUST REALLYNEED 2DOCD.PLEASE DONTPLEASE DONTIGNORE MYCALLS,U NO THECD ISV.IMPORTANT TOME 4 2MORO\"\\nham\\tI wont. So wat\\'s wit the guys\\nham\\tYavnt tried yet and never played original either\\nham\\tHiya, had a good day? Have you spoken to since the weekend?\\nham\\tSee? I thought it all through\\nham\\tI\\'m at work. Please call\\nham\\tget ready to moan and scream :)\\nham\\tOh k :)why you got job then whats up?\\nham\\tI don,t think so. You don\\'t need to be going out that late on a school night. ESPECIALLY when the one class you have is the one you missed last wednesday and probably failed a test in on friday\\nham\\tAnd popping &lt;#&gt; ibuprofens was no help.\\nham\\tBabe ! How goes that day ? What are you doing ? Where are you ? I sip my cappuccino and think of you, my love ... I send a kiss to you from across the sea\\nham\\tOk.\\nham\\tPS U no ur a grown up now right?\\nham\\tChinatown got porridge, claypot rice, yam cake, fishhead beehoon... Either we eat cheap den go cafe n tok or go nydc or somethin...\\nham\\tI know a few people I can hit up and fuck to the yes\\nham\\tPurity of friendship between two is not about smiling after reading the forwarded message..Its about smiling just by seeing the name. Gud evng\\nham\\tSo is there anything specific I should be doing with regards to jaklin or what because idk what the fuck\\nham\\tOh god. I\\'m gonna Google nearby cliffs now.\\nspam\\tFREE camera phones with linerental from 4.49/month with 750 cross ntwk mins. 1/2 price txt bundle deals also avble. Call 08001950382 or call2optout/J MF\\nham\\tYup i shd haf ard 10 pages if i add figures... Ü all got how many pages?\\nham\\tOoh, 4got, i\\'m gonna start belly dancing in moseley weds 6.30 if u want 2 join me, they have a cafe too. \\nham\\tThankyou so much for the call. I appreciate your care.\\nham\\tCongrats ! Treat pending.i am not on mail for 2 days.will mail once thru.Respect mother at home.check mails.\\nham\\tI called but no one pick up e phone. I ask both of them already they said ok.\\nham\\tHi my email address has changed now it is \\nham\\tV-aluable. A-ffectionate. L-oveable. E-ternal. N-oble. T-ruthful. I-ntimate. N-atural. E-namous. Happy \"VALENTINES DAY\" in advance\\nham\\tNot much, just some textin\\'. How bout you?\\nham\\tBring it if you got it\\nham\\tI\\'m in a movie. Call me 4 wat?\\nham\\tNot sure I have the stomach for it ...\\nham\\tHaha... can... But i\\'m having dinner with my cousin...\\nham\\tA boy was late 2 home. His father: \"POWER OF FRNDSHIP\"\\nham\\t(And my man carlos is definitely coming by mu tonight, no excuses)\\nham\\tsoon you will have the real thing princess! Do i make you wet? :)\\nham\\tRaji..pls do me a favour. Pls convey my Birthday wishes to Nimya. Pls. Today is her birthday.\\nham\\tHaha, my legs and neck are killing me and my amigos are hoping to end the night with a burn, think I could swing by in like an hour?\\nspam\\tURGENT! Your mobile No 07xxxxxxxxx won a £2,000 bonus caller prize on 02/06/03! this is the 2nd attempt to reach YOU! call 09066362231 ASAP! BOX97N7QP, 150PPM\\nham\\tUsually the body takes care of it buy making sure it doesnt progress. Can we pls continue this talk on saturday.\\nspam\\tURGENT!! Your 4* Costa Del Sol Holiday or £5000 await collection. Call 09050090044 Now toClaim. SAE, TC s, POBox334, Stockport, SK38xh, Cost£1.50/pm, Max10mins\\nham\\tHmm well, night night \\nham\\tJust wanted to say holy shit you guys weren\\'t kidding about this bud\\nham\\tJust gettin a bit arty with my collages at the mo, well tryin 2 ne way! Got a roast in a min lovely i shall enjoy that!\\nham\\tThis is one of the days you have a billion classes, right?\\nham\\tGoodmorning, today i am late for 2hrs. Because of back pain.\\nham\\tOk then i\\'ll let him noe later n ask him call u tmr...\\nham\\tPrabha..i\\'m soryda..realy..frm heart i\\'m sory\\nham\\tOK i\\'m waliking ard now... Do u wan me 2 buy anything go ur house?\\nham\\t* Will have two more cartons off u and is very pleased with shelves\\nham\\tNice talking to you! please dont forget my pix :) i want to see all of you...\\nspam\\tYou have WON a guaranteed £1000 cash or a £2000 prize. To claim yr prize call our customer service representative on 08714712379 between 10am-7pm Cost 10p\\nham\\tBut really quite funny lor wat... Then u shd haf run shorter distance wat...\\nham\\tI notice you like looking in the shit mirror youre turning into a right freak\\nham\\tGreat. I was getting worried about you. Just know that a wonderful and caring person like you will have only the best in life. Know that u r wonderful and God\\'s love is yours.\\nspam\\tThanks for your ringtone order, ref number K718. Your mobile will be charged £4.50. Should your tone not arrive please call customer services on 09065069120\\nham\\tI prefer my free days... Tues, wed, fri oso can... Ü ask those workin lor...\\nham\\tAlrite jod hows the revision goin? Keris bin doin a smidgin. N e way u wanna cum over after college?xx\\nham\\tIf you have belive me. Come to my home.\\nham\\tOh k.k..where did you take test?\\nham\\tThose were my exact intentions\\nham\\thaha but no money leh... Later got to go for tuition... Haha and looking for empty slots for driving lessons\\nham\\tHey... Thk we juz go accordin to wat we discussed yest lor, except no kb on sun... Cos there\\'s nt much lesson to go if we attend kb on sat...\\nham\\tK, wen ur free come to my home and also tel vikky i hav sent mail to him also.. Better come evening il be free today aftr 6pm..:-)\\nham\\tNothing just getting msgs by dis name wit different no\\'s..\\nham\\tGood Morning plz call me sir\\nham\\tWhat\\'s your room number again? Wanna make sure I\\'m knocking on the right door\\nham\\t\"Si.como no?!listened2the plaid album-quite gd&the new air1 which is hilarious-also bought\\x94braindance\\x94a comp.ofstuff on aphex\\x92s ;abel,u hav2hear it!c u sn xxxx\"\\nham\\tPls tell nelson that the bb\\'s are no longer comin. The money i was expecting aint coming\\nham\\tGive her something to drink, if she takes it and doesn\\'t vomit then you her temp might drop. If she unmits however let me know.\\nham\\tThink you sent the text to the home phone. That cant display texts. If you still want to send it his number is\\nham\\tEvery day i use to sleep after  &lt;#&gt;  so only.\\nham\\tK I\\'ll call you when I\\'m close\\nham\\tU buy newspapers already?\\nham\\tNope wif my sis lor... Aft bathing my dog then i can bathe... Looks like it\\'s going 2 rain soon.\\nham\\tBoo I\\'m on my way to my moms. She\\'s making tortilla soup. Yummmm\\nham\\tNo management puzzeles.\\nham\\tHow did you find out in a way that didn\\'t include all of these details\\nspam\\tHi ya babe x u 4goten bout me?\\' scammers getting smart..Though this is a regular vodafone no, if you respond you get further prem rate msg/subscription. Other nos used also. Beware!\\nspam\\tBack 2 work 2morro half term over! Can U C me 2nite 4 some sexy passion B4 I have 2 go back? Chat NOW 09099726481 Luv DENA Calls £1/minMobsmoreLKPOBOX177HP51FL\\nham\\twill you like to be spoiled? :)\\nspam\\tThanks for your ringtone order, ref number R836. Your mobile will be charged £4.50. Should your tone not arrive please call customer services on 09065069154\\nham\\tI am getting threats from your sales executive Shifad as i raised complaint against him. Its an official message.\\nham\\thope things went well at \\'doctors\\' ;) reminds me i still need 2go.did u c d little thing i left in the lounge?\\nham\\tDen wat will e schedule b lk on sun?\\nham\\tLol enjoy role playing much?\\nham\\tOk. Me watching tv too.\\nham\\tI just lov this line: \"Hurt me with the truth, I don\\'t mind,i wil tolerat.bcs ur my someone..... But, Never comfort me with a lie\" gud ni8 and sweet dreams\\nham\\tJust checked out, heading out to drop off my stuff now\\nham\\tHere got lots of hair dresser fr china.\\nham\\tSad story of a Man - Last week was my b\\'day. My Wife did\\'nt wish me. My Parents forgot n so did my Kids . I went to work. Even my Colleagues did not wish.\\nham\\tIll call you evening ill some ideas.\\nspam\\tSplashMobile: Choose from 1000s of gr8 tones each wk! This is a subscrition service with weekly tones costing 300p. U have one credit - kick back and ENJOY\\nham\\tDid you show him and wot did he say or could u not c him 4 dust?\\nham\\tIt should take about  &lt;#&gt;  min\\nspam\\tNot heard from U4 a while. Call 4 rude chat private line 01223585334 to cum. Wan 2C pics of me gettin shagged then text PIX to 8552. 2End send STOP 8552 SAM xxx\\nham\\tOk . . now i am in bus. . If i come soon i will come otherwise tomorrow\\nham\\tI cant pick the phone right now. Pls send a message\\nspam\\t<Forwarded from 88877>FREE entry into our £250 weekly comp just send the word ENTER to 88877 NOW. 18 T&C www.textcomp.com\\nham\\tFinish liao... U?\\nspam\\t88066 FROM 88066 LOST 3POUND HELP\\nham\\tHaha i think i did too\\nham\\tU know we watchin at lido?\\nham\\tLife spend with someone for a lifetime may be meaningless but a few moments spent with someone who really love you means more than life itself..\\nham\\tHaha awesome, I\\'ve been to 4u a couple times. Who all\\'s coming?\\nham\\tCold. Dont be sad dear\\nham\\tThink I could stop by in like an hour or so? My roommate\\'s looking to stock up for a trip\\nham\\tIs that on the telly? No its Brdget Jones!\\nham\\tLove you aathi..love u lot..\\nham\\tHello! How r u? Im bored. Inever thought id get bored with the tv but I am. Tell me something exciting has happened there? Anything! =/\\nham\\tHmm...Bad news...Hype park plaza $700 studio taken...Only left 2 bedrm-$900...\\nham\\tSorry, I\\'ll call later in meeting\\nham\\tR ü comin back for dinner?\\nham\\tI hav almost reached. Call, i m unable to connect u.\\nham\\tWhom you waited for yesterday\\nham\\tI reach home safe n sound liao...\\nham\\tVelly good, yes please!\\nham\\tHi, wkend ok but journey terrible. Wk not good as have huge back log of marking to do\\nham\\tI have had two more letters from . I will copy them for you cos one has a message for you. Speak soon\\nham\\tAlex knows a guy who sells mids but he\\'s down in south tampa and I don\\'t think I could set it up before like 8\\nham\\tDont you have message offer\\nspam\\tHad your mobile 11mths ? Update for FREE to Oranges latest colour camera mobiles & unlimited weekend calls. Call Mobile Upd8 on freefone 08000839402 or 2StopTx\\nham\\tHEY THERE BABE, HOW U DOIN? WOT U UP 2 2NITE LOVE ANNIE X.\\nham\\tRemind me how to get there and I shall do so\\nham\\t:-( that\\'s not v romantic!\\nham\\tHello. Damn this christmas thing. I think i have decided to keep this mp3 that doesnt work.\\nspam\\tYou have 1 new message. Please call 08718738034.\\nham\\tHI DARLIN IM MISSIN U HOPE YOU ARE HAVING A GOOD TIME. WHEN ARE U BACK AND WHAT TIME IF U CAN GIVE ME A CALL AT HOME. JESS XX\\nspam\\t<Forwarded from 21870000>Hi - this is your Mailbox Messaging SMS alert. You have 4 messages. You have 21 matches. Please call back on 09056242159 to retrieve your messages and matches\\nham\\tDraw va?i dont think so:)\\nham\\tDont pick up d call when something important is There to tell. Hrishi\\nspam\\tCongrats! 1 year special cinema pass for 2 is yours. call 09061209465 now! C Suprman V, Matrix3, StarWars3, etc all 4 FREE! bx420-ip4-5we. 150pm. Dont miss out!\\nham\\tNothin comes to my mind. Ü help me buy hanger lor. Ur laptop not heavy?\\nham\\t&lt;#&gt; , that\\'s all? Guess that\\'s easy enough\\nham\\tWe can make a baby in yo tho\\nham\\tShould I tell my friend not to come round til like  &lt;#&gt; ish?\\nham\\tFriendship poem: Dear O Dear U R Not Near But I Can Hear Dont Get Fear Live With Cheer No More Tear U R Always my Dear. Gud ni8\\nham\\tStill in the area of the restaurant. Ill try to come back soon\\nham\\tAight that\\'ll work, thanks\\nspam\\tWIN a year supply of CDs 4 a store of ur choice worth £500 & enter our £100 Weekly draw txt MUSIC to 87066 Ts&Cs www.Ldew.com.subs16+1win150ppmx3\\nspam\\tMoby Pub Quiz.Win a £100 High Street prize if u know who the new Duchess of Cornwall will be? Txt her first name to 82277.unsub STOP £1.50 008704050406 SP Arrow\\nham\\tI have 2 sleeping bags, 1 blanket and paper and  phone details. Anything else?\\nspam\\tYou have won a Nokia 7250i. This is what you get when you win our FREE auction. To take part send Nokia to 86021 now. HG/Suite342/2Lands Row/W1JHL 16+ \\nspam\\tCongratulations! Thanks to a good friend U have WON the £2,000 Xmas prize. 2 claim is easy, just call 08718726971 NOW! Only 10p per minute. BT-national-rate.\\nspam\\ttddnewsletter@emc1.co.uk (More games from TheDailyDraw) Dear Helen, Dozens of Free Games - with great prizesWith..\\nham\\tSo what do you guys do.\\nham\\tAlso that chat was awesome but don\\'t make it regular unless you can see her in person\\nham\\tThat\\'s significant but dont worry.\\nham\\tThat\\'s cause your old. I live to be high.\\nham\\tWaqt se pehle or naseeb se zyada kisi ko kuch nahi milta,Zindgi wo nahi he jo hum sochte hai Zindgi wo hai jo ham jeetey hai..........\\nham\\tOn the way to office da..\\nham\\tIn which place do you want da.\\nham\\tThis pain couldn\\'t have come at a worse time.\\nham\\tOk...\\nham\\tShould I be stalking u?\\nham\\tSorry dude. Dont know how i forgot. Even after Dan reminded me. Sorry. Hope you guys had fun.\\nham\\tOk lor.\\nham\\tApps class varaya elaya.\\nham\\tThe Xmas story is peace.. The Xmas msg is love.. The Xmas miracle is jesus.. Hav a blessed month ahead &amp; wish U Merry Xmas...\\nspam\\tURGENT! Your mobile number *************** WON a £2000 Bonus Caller prize on 10/06/03! This is the 2nd attempt to reach you! Call 09066368753 ASAP! Box 97N7QP, 150ppm\\nham\\tThat day you asked about anand number. Why:-)\\nham\\tAm surfing online store. For offers do you want to buy any thing.\\nham\\tLong beach lor. Expected... U having dinner now?\\nham\\tAt home by the way\\nham\\tWe are both fine. Thanks\\nham\\tWhat happen to her tell the truth\\nham\\tDo you like Italian food?\\nham\\tWhich is weird because I know I had it at one point\\nham\\t\"Aww you must be nearly dead!Well Jez isComing over toDo some workAnd that whillTake forever!\"\\nham\\tTell your friends what you plan to do on Valentines day @ &lt;URL&gt;\\nham\\tAlright, see you in a bit\\nham\\tCheers for the message Zogtorius. I\\x92ve been staring at my phone for an age deciding whether to text or not.\\nham\\tI will take care of financial problem.i will help:)\\nham\\tTell dear what happen to you. Why you talking to me like an alian\\nspam\\tDouble your mins & txts on Orange or 1/2 price linerental - Motorola and SonyEricsson with B/Tooth FREE-Nokia FREE Call MobileUpd8 on 08000839402 or2optout/HV9D\\nham\\t1) Go to write msg 2) Put on Dictionary mode 3)Cover the screen with hand, 4)Press  &lt;#&gt; . 5)Gently remove Ur hand.. Its interesting..:)\\nham\\tOkie...\\nham\\tHi this is yijue, can i meet u at 11 tmr?\\nham\\tIts posible dnt live in  &lt;#&gt; century cm frwd n thnk different\\nham\\tBut i dint slept in afternoon.\\nham\\tThat seems unnecessarily affectionate\\nham\\tYar else i\\'ll thk of all sorts of funny things.\\nham\\tYou will be in the place of that man\\nspam\\tDownload as many ringtones as u like no restrictions, 1000s 2 choose. U can even send 2 yr buddys. Txt Sir to 80082 £3 \\nham\\tThats cool. How was your day?\\nspam\\tPlease CALL 08712402902 immediately as there is an urgent message waiting for you.\\nham\\tR we going with the  &lt;#&gt;  bus?\\nham\\tHello, my love ! How went your day ? Are you alright ? I think of you, my sweet and send a jolt to your heart to remind you ... I LOVE YOU! Can you hear it ? I screamed it across the sea for all the world to hear. Ahmad al Hallaq is loved ! and owned ! *possessive passionate kiss*\\nham\\tNo..he joined today itself.\\nham\\tOkay same with me. Well thanks for the clarification\\nham\\tI\\'ll talk to the others and probably just come early tomorrow then\\nspam\\tSpook up your mob with a Halloween collection of a logo & pic message plus a free eerie tone, txt CARD SPOOK to 8007 zed 08701417012150p per logo/pic\\nham\\tHad the money issue weigh me down but thanks to you, I can breathe easier now. I.ll make sure you dont regret it. Thanks.\\nham\\tHi. I\\'m sorry i missed your call. Can you pls call back.\\nham\\tHow are you doing? Hope you\\'ve settled in for the new school year. Just wishin you a gr8 day\\nspam\\tFantasy Football is back on your TV. Go to Sky Gamestar on Sky Active and play £250k Dream Team. Scoring starts on Saturday, so register now!SKY OPT OUT to 88088\\nham\\tOk then no need to tell me anything i am going to sleep good night\\nham\\tOk try to do week end course in coimbatore.\\nspam\\tTone Club: Your subs has now expired 2 re-sub reply MONOC 4 monos or POLYC 4 polys 1 weekly @ 150p per week Txt STOP 2 stop This msg free Stream 0871212025016\\nham\\tV nice! Off 2 sheffield tom 2 air my opinions on categories 2 b used 2 measure ethnicity in next census. Busy transcribing. :-)\\nham\\tIf you r @ home then come down within 5 min\\nham\\tA Boy loved a gal. He propsd bt she didnt mind. He gv lv lttrs, Bt her frnds threw thm. Again d boy decided 2 aproach d gal , dt time a truck was speeding towards d gal. Wn it was about 2 hit d girl,d boy ran like hell n saved her. She asked \\'hw cn u run so fast?\\' D boy replied \"Boost is d secret of my energy\" n instantly d girl shouted \"our energy\" n Thy lived happily 2gthr drinking boost evrydy Moral of d story:- I hv free msgs:D;): gud ni8\\nham\\tThat day ü say ü cut ur hair at paragon, is it called hair sense? Do ü noe how much is a hair cut? \\nham\\tHmm, too many of them unfortunately... Pics obviously arent hot cakes. Its kinda fun tho\\nham\\tWatching tv lor... Y she so funny we bluff her 4 wat. Izzit because she thk it\\'s impossible between us?\\nspam\\tXMAS Prize draws! We are trying to contact U. Todays draw shows that you have won a £2000 prize GUARANTEED. Call 09058094565 from land line. Valid 12hrs only\\nham\\tDunno lei he neva say...\\nham\\tThanx 4 2day! U r a goodmate I THINK UR RITE SARY! ASUSUAL!1 U CHEERED ME UP! LOVE U FRANYxxxxx\\nham\\tI\\'m on my way home. Went to change batt 4 my watch then go shop a bit lor.\\nspam\\tYES! The only place in town to meet exciting adult singles is now in the UK. Txt CHAT to 86688 now! 150p/Msg.\\nham\\tHi, Mobile no.  &lt;#&gt;  has added you in their contact list on www.fullonsms.com It s a great place to send free sms to people For more visit fullonsms.com\\nham\\tGood evening Sir, hope you are having a nice day. I wanted to bring it to your notice that I have been late in paying rent for the past few months and have had to pay a $ &lt;#&gt;  charge. I felt it would be inconsiderate of me to nag about something you give at great cost to yourself and that\\'s why i didnt speak up. I however am in a recession and wont be able to pay the charge this month hence my askin well ahead of month\\'s end. Can you please help. Thank you for everything.\\nham\\tIf i let you do this, i want you in the house by 8am.\\nham\\tBest line said in Love: . \"I will wait till the day I can forget u Or The day u realize that u cannot forget me.\"... Gn\\nham\\tI will reach before ten morning\\nham\\tYour pussy is perfect!\\nham\\tSorry, I\\'ll call later\\nspam\\tSomeone has contacted our dating service and entered your phone becausethey fancy you! To find out who it is call from a landline 09058098002. PoBox1, W14RG 150p\\nham\\tNo message..no responce..what happend?\\nham\\tAlso where\\'s the piece\\nham\\twiskey Brandy Rum Gin Beer Vodka Scotch Shampain Wine \"KUDI\"yarasu dhina vaazhthukkal. ..\\nham\\tBoo. How\\'s things? I\\'m back at home and a little bored already :-(\\nham\\tFirst has she gained more than  &lt;#&gt; kg since she took in. Second has she done the blood sugar tests. If she has and its ok and her blood pressure is within normal limits then no worries\\nham\\tPICK UR FONE UP NOW U DUMB?\\nham\\tThanks da thangam, i feel very very happy dear. I also miss you da.\\nham\\tOkey doke. I\\'m at home, but not dressed cos laying around ill! Speak to you later bout times and stuff. \\nham\\tI don\\'t run away frm u... I walk slowly &amp; it kills me that u don\\'t care enough to stop me...\\nham\\tBabe, I\\'m back ... Come back to me ...\\nham\\tWell you told others you\\'d marry them...\\nham\\tNeshanth..tel me who r u?\\nham\\tYO YO YO BYATCH WHASSUP?\\nham\\tOh... Kay... On sat right?\\nham\\tHi! This is Roger from CL. How are you?\\nspam\\tBabe: U want me dont u baby! Im nasty and have a thing 4 filthyguys. Fancy a rude time with a sexy bitch. How about we go slo n hard! Txt XXX SLO(4msgs)\\nham\\tOh oh... Wasted... Den muz chiong on sat n sun liao...\\nham\\tJesus christ bitch I\\'m trying to give you drugs answer your fucking phone\\nham\\tPlease give it 2  or i will pick it up on Tuesday evening about 8 if that is ok.\\nham\\tI\\'m meeting Darren...\\nham\\tOne of best dialogue in cute reltnship..!! \"Wen i Die, Dont Come Near My Body..!! Bcoz My Hands May Not Come 2 Wipe Ur Tears Off That Time..!Gud ni8\\nham\\tSolve d Case : A Man Was Found Murdered On  &lt;DECIMAL&gt; . &lt;#&gt;  AfterNoon. 1,His wife called Police. 2,Police questioned everyone. 3,Wife: Sir,I was sleeping, when the murder took place. 4.Cook: I was cooking. 5.Gardener: I was picking vegetables. 6.House-Maid: I went 2 d post office. 7.Children: We went 2 play. 8.Neighbour: We went 2 a marriage. Police arrested d murderer Immediately. Who\\'s It? Reply With Reason, If U r Brilliant.\\nham\\tDear where you will be when i reach there\\nham\\tAww that\\'s the first time u said u missed me without asking if I missed u first. You DO love me! :)\\nham\\tOk... Thanx... Gd nite 2 ü too...\\nham\\tCome to me right now, Ahmad\\nspam\\tI don\\'t know u and u don\\'t know me. Send CHAT to 86688 now and let\\'s find each other! Only 150p/Msg rcvd. HG/Suite342/2Lands/Row/W1J6HL LDN. 18 years or over.\\nham\\tLol please do. Actually send a pic of yourself right now. I wanna see. Pose with a comb and hair dryer or something.\\nham\\tO was not into fps then.\\nham\\tHuh means computational science... Y they like dat one push here n there...\\nham\\tCould you not read me, my Love ? I answered you\\nham\\tOh... Lk tt den we take e one tt ends at cine lor... Dun wan yogasana oso can... \\nham\\tMadam,regret disturbance.might receive a reference check from DLF Premarica.kindly be informed.Rgds,Rakhesh,Kerala.\\nspam\\tSMS SERVICES For your inclusive text credits pls gotto www.comuk.net login 3qxj9 unsubscribe with STOP no extra charge help 08702840625 comuk.220cm2 9AE\\nham\\tOic... Then better quickly go bathe n settle down...\\nham\\tErr... Cud do. I\\'m going to  at 8pm. I haven\\'t got a way to contact him until then.\\nham\\tA bloo bloo bloo I\\'ll miss the first bowl\\nham\\tLmao but its so fun...\\nham\\tOh k k:)but he is not a big hitter.anyway good\\nham\\tHey!!! I almost forgot ... Happy B-day babe ! I love ya!!\\nspam\\tValentines Day Special! Win over £1000 in our quiz and take your partner on the trip of a lifetime! Send GO to 83600 now. 150p/msg rcvd. CustCare:08718720201\\nham\\tDo you think i can move  &lt;#&gt;  in a week\\nham\\tShe.s find. I sent you an offline message to know how anjola\\'s now.\\nspam\\tGuess who am I?This is the first time I created a web page WWW.ASJESUS.COM read all I wrote. I\\'m waiting for your opinions. I want to be your friend 1/1\\nham\\tHow was txting and driving\\nham\\tThat\\'s good. Lets thank God. Please complete the drug. Have lots of water. And have a beautiful day.\\nham\\tReally dun bluff me leh... U sleep early too. Nite...\\nham\\tIndians r poor but India is not a poor country. Says one of the swiss bank directors. He says that \" &lt;#&gt;  lac crore\" of Indian money is deposited in swiss banks which can be used for \\'taxless\\' budget for  &lt;#&gt;  yrs. Can give  &lt;#&gt;  crore jobs to all Indians. From any village to Delhi 4 lane roads. Forever free power suply to more than  &lt;#&gt;  social projects. Every citizen can get monthly  &lt;#&gt; /- for  &lt;#&gt;  yrs. No need of World Bank &amp; IMF loan. Think how our money is blocked by rich politicians. We have full rights against corrupt politicians. Itna forward karo ki pura INDIA padhe.g.m.\"\\nham\\tUncle boye. I need movies oh. Guide me. Plus you know torrents are not particularly legal here. And the system is slowing down. What should i do. Have a gr8 day. Plus have you started cos i dont meet you online. How was the honey moon.\\nham\\tOh ya ya. I remember da. .\\nham\\tBtw regarding that we should really try to see if anyone else can be our 4th guy before we commit to a random dude\\nspam\\tFor ur chance to win £250 cash every wk TXT: PLAY to 83370. T\\'s&C\\'s www.music-trivia.net custcare 08715705022, 1x150p/wk.\\nham\\tI not busy juz dun wan 2 go so early.. Hee.. \\nham\\tRightio. 11.48 it is then. Well arent we all up bright and early this morning.\\nham\\tGreat. I\\'m in church now, will holla when i get out\\nham\\tBack in brum! Thanks for putting us up and keeping us all and happy. See you soon \\nham\\tI donno if they are scorable\\nham\\t&lt;#&gt;  great loxahatchee xmas tree burning update: you can totally see stars here\\nham\\tYes but i dont care! I need you bad, princess!\\nham\\tThe guy (kadeem) hasn\\'t been selling since the break, I know one other guy but he\\'s paranoid as fuck and doesn\\'t like selling without me there and I can\\'t be up there til late tonight\\nham\\tSorry, I\\'ll call later\\nham\\tTmr then ü brin lar... Aiya later i come n c lar... Mayb ü neva set properly ü got da help sheet wif ü...\\nham\\tDo u knw dis no. &lt;#&gt; ?\\nham\\tThen she dun believe wat?\\nham\\tK..give back my thanks.\\nham\\tI know complain num only..bettr directly go to bsnl offc nd apply for it..\\nham\\tOkay. I\\'ve seen it. So i should pick it on friday?\\nham\\tHow much she payed. Suganya.\\nham\\tLeft dessert. U wan me 2 go suntec look 4 u?\\nham\\tAbeg, make profit. But its a start. Are you using it to get sponsors for the next event?\\nham\\tOnum ela pa. Normal than.\\nham\\tK.k..how is your sister kids?\\nham\\tCool, I\\'ll text you when I\\'m on the way\\nham\\tNope. Meanwhile she talk say make i greet you.\\nham\\ti cant talk to you now.i will call when i can.dont keep calling.\\nham\\tAnything lar...\\nham\\tRose needs water, season needs change, poet needs imagination..My phone needs ur sms and i need ur lovely frndship forever....\\nham\\tGood afternoon, babe. How goes that day ? Any job prospects yet ? I miss you, my love ... *sighs* ... :-(\\nham\\tThey will pick up and drop in car.so no problem..\\nham\\tS.i think he is waste for rr..\\nham\\tHe is world famamus....\\nham\\tIs there coming friday is leave for pongal?do you get any news from your work place.\\nham\\tLol well don\\'t do it without me. We could have a big sale together.\\nham\\t* Am on my way\\nham\\tEat at old airport road... But now 630 oredi... Got a lot of pple...\\nham\\tsry can\\'t talk on phone, with parents\\nspam\\tFinal Chance! Claim ur £150 worth of discount vouchers today! Text YES to 85023 now! SavaMob, member offers mobile! T Cs SavaMob POBOX84, M263UZ. £3.00 Subs 16\\nham\\tOk lor wat time ü finish?\\nham\\tPrincess, i like to make love  &lt;#&gt;  times per night. Hope thats not a problem!\\nham\\tMm i am on the way to railway\\nham\\ti dnt wnt to tlk wid u\\nham\\tI\\'m done. I\\'m sorry. I hope your next space gives you everything you want. Remember all the furniture is yours. If i\\'m not around when you move it, just lock all the locks and leave the key with jenne.\\nham\\tNot yet. Just i\\'d like to keep in touch and it will be the easiest way to do that from barcelona. By the way how ru and how is the house?\\nspam\\tSppok up ur mob with a Halloween collection of nokia logo&pic message plus a FREE eerie tone, txt CARD SPOOK to 8007\\nspam\\tUrgent! call 09066612661 from landline. Your complementary 4* Tenerife Holiday or £10,000 cash await collection SAE T&Cs PO Box 3 WA14 2PX 150ppm 18+ Sender: Hol Offer\\nham\\tK.:)do it at evening da:)urgent:)\\nham\\tPansy! You\\'ve been living in a jungle for two years! Its my driving you should be more worried about!\\nham\\tMm have some kanji dont eat anything heavy ok\\nham\\tOnly if you promise your getting out as SOON as you can. And you\\'ll text me in the morning to let me know you made it in ok.\\nham\\tLol that\\'s different. I don\\'t go trying to find every real life photo you ever took.\\nham\\tI dont thnk its a wrong calling between us\\nham\\tK ill drink.pa then what doing. I need srs model pls send it to my mail id pa.\\nham\\tAiyah e rain like quite big leh. If drizzling i can at least run home.\\nham\\tI have 2 docs appointments next week.:/ I\\'m tired of them shoving stuff up me. Ugh why couldn\\'t I have had a normal body?\\nham\\tDun b sad.. It\\'s over.. Dun thk abt it already. Concentrate on ur other papers k.\\nham\\tGreetings me, ! Consider yourself excused.\\nham\\tNo drama Pls.i have had enough from you and family while i am struggling in the hot sun in a strange place.No reason why there should be an ego of not going \\'IF NOT INVITED\\' when actually its necessity to go.wait for very serious reppurcussions.\\nham\\tthey released another Italian one today and it has a cosign option\\nham\\tYou at mu? You should try to figure out how much money everyone has for gas and alcohol, jay and I are trying to figure out our weed budget\\nspam\\tWINNER! As a valued network customer you hvae been selected to receive a £900 reward! To collect call 09061701444. Valid 24 hours only. ACL03530150PM\\nham\\tHCL chennai requires FRESHERS for voice process.Excellent english needed.Salary upto  &lt;#&gt; .Call Ms.Suman  &lt;#&gt;  for Telephonic interview -via Indyarocks.com\\nham\\tDai what this da.. Can i send my resume to this id.\\nham\\tI know where the  &lt;#&gt;  is, I\\'ll be there around 5\\nham\\tYup i\\'ve finished c ü there...\\nham\\tRemember to ask alex about his pizza\\nham\\tNo da..today also i forgot..\\nham\\tOla would get back to you maybe not today but I ve told him you can be his direct link in the US in getting cars he bids for online, you arrange shipping and you get a cut. Or U????? For a partnership where U????? Invest money for shipping and he takes care of the rest!U??Wud b self reliant soon dnt worry\\nham\\tFwiw the reason I\\'m only around when it\\'s time to smoke is that because of gas I can only afford to be around when someone tells me to be and that apparently only happens when somebody wants to light up\\nham\\tHello, my boytoy! I made it home and my constant thought is of you, my love. I hope your having a nice visit but I can\\'t wait till you come home to me ...*kiss*\\nham\\tCongrats kano..whr s the treat maga?\\nham\\tWho u talking about?\\nham\\tYup...\\nham\\tOk...\\nham\\tU wake up already? Wat u doing? U picking us up later rite? I\\'m taking sq825, reaching ard 7 smth 8 like dat. U can check e arrival time. C ya soon...\\nham\\tYunny i\\'m walking in citylink now ü faster come down... Me very hungry...\\nham\\tEr yep sure. Props?\\nham\\tHiya , have u been paying money into my account? If so, thanks. Got a pleasant surprise when i checked my balance -u c, i don\\'t get statements 4 that acc\\nspam\\tU have won a nokia 6230 plus a free digital camera. This is what u get when u win our FREE auction. To take part send NOKIA to 83383 now. POBOX114/14TCR/W1 16\\nham\\tOk ill send you with in  &lt;DECIMAL&gt;  ok.\\nham\\tBognor it is! Should be splendid at this time of year.\\nham\\tYes.i\\'m in office da:)\\nham\\tSorry, I\\'ll call later\\nham\\tJoy\\'s father is John. Then John is the NAME of Joy\\'s father. Mandan\\nham\\tOk. I only ask abt e movie. U wan ktv oso?\\nham\\tMisplaced your number and was sending texts to your old number. Wondering why i\\'ve not heard from you this year. All the best in your mcat. Got this number from my atlanta friends\\nham\\tSorry, I\\'ll call later\\nham\\tDunno lei... I might b eatin wif my frens... If ü wan to eat then i wait 4 ü lar\\nham\\tSorry, I\\'ll call later\\nspam\\tFREE entry into our £250 weekly comp just send the word WIN to 80086 NOW. 18 T&C www.txttowin.co.uk\\nham\\tSay this slowly.? GOD,I LOVE YOU &amp; I NEED YOU,CLEAN MY HEART WITH YOUR BLOOD.Send this to Ten special people &amp; u c miracle tomorrow, do it,pls,pls do it...\\nham\\tDo u noe how 2 send files between 2 computers?\\nham\\tMmmmm ... I loved waking to your words this morning ! I miss you too, my Love. I hope your day goes well and you are happy. I wait for us to be together again\\nham\\tjay says he\\'ll put in  &lt;#&gt;\\nham\\tCan you just come in for a sec? There\\'s somebody here I want you to see\\nham\\tSo the sun is anti sleep medicine.\\nham\\tWhat\\'s happening with you. Have you gotten a job and have you begun registration for permanent residency\\nham\\tYup ok...\\nham\\tGlad it went well :) come over at 11 then we\\'ll have plenty of time before claire goes to work.\\nham\\tOk enjoy . R u there in home.\\nham\\tCan you pls pls send me a mail on all you know about relatives coming to deliver here? All you know about costs, risks, benefits and anything else. Thanks.\\nham\\tYou do what all you like\\nham\\tThat\\'s y we haf to combine n c how lor...\\nham\\tThe monthly amount is not that terrible and you will not pay anything till 6months after finishing school.\\nham\\tHmmm:)how many players selected?\\nham\\tThey said if its gonna snow, it will start around 8 or 9 pm tonite! They are predicting an inch of accumulation.\\nham\\tI dont. Can you send it to me. Plus how\\'s mode.\\nham\\tAiyo please ü got time meh.\\nham\\tPackage all your programs well\\nham\\tShe is our sister.. She belongs 2 our family.. She is d hope of tomorrow.. Pray 4 her,who was fated 4 d Shoranur train incident. Lets hold our hands together &amp; fuelled by love &amp; concern prior 2 her grief &amp; pain. Pls join in dis chain &amp; pass it. STOP VIOLENCE AGAINST WOMEN.\\nham\\tSo are you guys asking that i get that slippers again or its gone with last year\\nham\\tCompany is very good.environment is terrific and food is really nice:)\\nspam\\tText82228>> Get more ringtones, logos and games from www.txt82228.com. Questions: info@txt82228.co.uk\\nham\\tHonestly i\\'ve just made a lovely cup of tea and promptly dropped my keys in it and then burnt my fingers getting them out!\\nham\\tYup but not studying surfing lor. I\\'m in e lazy mode today.\\nham\\tPlease sen :)my kind advice :-)please come here and try:-)\\nham\\tI\\'m done. C ü there.\\nham\\tOh fine, I\\'ll be by tonight\\nham\\tÜ give me some time to walk there.\\nham\\tI\\'ll reach in ard 20 mins ok...\\nspam\\tFreeMSG You have been awarded a FREE mini DIGITAL CAMERA, just reply SNAP to collect your prize! (quizclub Opt out? Stop 80122300p/wk SP:RWM Ph:08704050406)\\nham\\tFuck babe ... What happened to you ? How come you never came back?\\nspam\\tThis message is brought to you by GMW Ltd. and is not connected to the\\nham\\tSome friends want me to drive em someplace, probably take a while\\nham\\tI also thk too fast... Xy suggest one not me. U dun wan it\\'s ok. Going 2 rain leh where got gd.\\nham\\tAre you still getting the goods.\\nham\\tAnd maybe some pressies\\nham\\tYeah I am, so I\\'ll leave maybe 7ish?\\nham\\tK..k..i\\'m also fine:)when will you complete the course?\\nham\\tUnder the sea, there lays a rock. In the rock, there is an envelope. In the envelope, there is a paper. On the paper, there are 3 words... \\'\\nham\\tI told her I had a Dr appt next week. She thinks I\\'m gonna die. I told her its just a check. Nothing to be worried about. But she didn\\'t listen.\\nham\\tYou in your room? I need a few\\nham\\tI dont want to hear anything\\nham\\tHey. For me there is no leave on friday. Wait i will ask my superior and tell you..\\nham\\tUltimately tor motive tui achieve korli.\\nham\\tFrom 5 to 2 only my work timing.\\nham\\t… and don‘t worry we‘ll have finished by march … ish!\\nham\\tThe house is on the water with a dock, a boat rolled up with a newscaster who dabbles in jazz flute behind the wheel\\nspam\\tCongrats 2 mobile 3G Videophones R yours. call 09063458130 now! videochat wid ur mates, play java games, Dload polypH music, noline rentl. bx420. ip4. 5we. 150p\\nspam\\tYour next amazing xxx PICSFREE1 video will be sent to you enjoy! If one vid is not enough for 2day text back the keyword PICSFREE1 to get the next video.\\nham\\tNow thats going to ruin your thesis!\\nham\\tIn sch but neva mind u eat 1st lor..\\nham\\tHey whats up? U sleeping all morning?\\nham\\tErm. I thought the contract ran out the4th of october.\\nham\\tI dunno until when... Lets go learn pilates...\\nspam\\tU are subscribed to the best Mobile Content Service in the UK for £3 per ten days until you send STOP to 83435. Helpline 08706091795.\\nham\\tYup i\\'m elaborating on the safety aspects and some other issues..\\nspam\\t3 FREE TAROT TEXTS! Find out about your love life now! TRY 3 FOR FREE! Text CHANCE to 85555 16 only! After 3 Free, Msgs £1.50 each\\nham\\tGoodmorning, today i am late for 1hr.\\nham\\tHi happy birthday. Hi hi hi hi hi hi hi\\nham\\tI will be outside office take all from there\\nham\\tIf you don\\'t respond imma assume you\\'re still asleep and imma start calling n shit\\nham\\tAight, see you in a bit\\nham\\tMy superior telling that friday is leave for all other department except ours:)so it will be leave for you:)any way call waheed fathima hr and conform it:)\\nspam\\tJoin the UK\\'s horniest Dogging service and u can have sex 2nite!. Just sign up and follow the instructions. Txt ENTRY to 69888 now! Nyt.EC2A.3LP.msg@150p\\nham\\tLol I have to take it. member how I said my aunt flow didn\\'t visit for 6 months? It\\'s cause I developed ovarian cysts. Bc is the only way to shrink them.\\nham\\tStill work going on:)it is very small house.\\nham\\tMy friend just got here and says he\\'s upping his order by a few grams (he\\'s got $ &lt;#&gt; ), when can you get here?\\nham\\tTmr timin still da same wat cos i got lesson until 6...\\nham\\tThat‘s the thing with apes, u can fight to the death to keep something, but the minute they have it when u let go, thats it!\\nspam\\tSunshine Quiz Wkly Q! Win a top Sony DVD player if u know which country Liverpool played in mid week? Txt ansr to 82277. £1.50 SP:Tyrone\\nham\\tNo i\\'m not gonna be able to. || too late notice. || i\\'ll be home in a few weeks anyway. || what are the plans\\nham\\tGot fujitsu, ibm, hp, toshiba... Got a lot of model how to say...\\nham\\tOkie... Thanx...\\nham\\tGosh that , what a pain. Spose I better come then.\\nham\\tAs usual..iam fine, happy &amp; doing well..:)\\nham\\tOkie\\nham\\tSo when you gonna get rimac access \\nham\\t\"Im at arestaurant eating squid! i will be out about 10:30 wanna dosomething or is that to late?\"\\nham\\tYou call times job today ok umma and ask them to speed up\\nham\\t\"HELLO U.CALL WEN U FINISH WRK.I FANCY MEETIN UP WIV U ALL TONITE AS I NEED A BREAK FROM DABOOKS. DID 4 HRS LAST NITE+2 TODAY OF WRK!\"\\nham\\tR U &SAM P IN EACHOTHER. IF WE MEET WE CAN GO 2 MY HOUSE\\nham\\t:-) yeah! Lol. Luckily i didn\\'t have a starring role like you!\\nham\\tHello madam how are you ?\\nham\\tAwesome, text me when you\\'re restocked\\nham\\tAs usual..iam fine, happy &amp; doing well..:)\\nspam\\tKnock Knock Txt whose there to 80082 to enter r weekly draw 4 a £250 gift voucher 4 a store of yr choice. T&Cs www.tkls.com age16 to stoptxtstop£1.50/week\\nham\\tYes. It\\'s all innocent fun. O:-)\\nham\\tThanks for sending this mental ability question..\\nham\\tSir, hope your day is going smoothly. i really hoped i wont have to bother you about this. I have some bills that i can\\'t settle this month. I am out of all extra cash. I know this is a challenging time for you also but i have to let you know.\\nham\\t2marrow only. Wed at  &lt;#&gt;  to 2 aha.\\nham\\tI went to ur hon lab but no one is there.\\nham\\tI cant pick the phone right now. Pls send a message\\nham\\tHey pple...$700 or $900 for 5 nights...Excellent location wif breakfast hamper!!!\\nspam\\t<Forwarded from 21870000>Hi - this is your Mailbox Messaging SMS alert. You have 40 matches. Please call back on 09056242159 to retrieve your messages and matches cc100p/min\\nham\\tHow come?\\nham\\tLol! Nah wasn\\'t too bad thanks. Its good to b home but its been quite a reality check. Hows ur day been? Did u do anything with website?\\nham\\tOk lor...\\nham\\tI\\'m coming home 4 dinner.\\nham\\tS da..al r above  &lt;#&gt;\\nspam\\tFREE RING TONE just text \"POLYS\" to 87131. Then every week get a new tone. 0870737910216yrs only £1.50/wk.\\nham\\tUnni thank you dear for the recharge..Rakhesh\\nham\\tI know I\\'m lacking on most of this particular dramastorm\\'s details but for the most part I\\'m not worried about that\\nham\\tHaha... They cant what... At the most tmr forfeit... haha so how?\\nham\\tHey there! Glad u r better now. I hear u treated urself to a digi cam, is it good? We r off at 9pm. Have a fab new year, c u in coupla wks!\\nham\\tNo way I\\'m going back there!\\nspam\\tURGENT! Your mobile No 077xxx WON a £2,000 Bonus Caller Prize on 02/06/03! This is the 2nd attempt to reach YOU! Call 09066362206 ASAP! BOX97N7QP, 150ppm\\nham\\tI WILL CAL YOU SIR. In meeting\\nham\\tThat\\'s what I love to hear :V see you sundayish, then\\nham\\tSorry da thangam, very very sorry i am held up with prasad.\\nham\\tTiwary to rcb.battle between bang and kochi.\\nham\\tThank god they are in bed!\\nham\\tNo I don\\'t have cancer. Moms making a big deal out of a regular checkup aka pap smear\\nham\\tAm in gobi arts college\\nham\\tWhy she wants to talk to me\\nham\\tPandy joined 4w technologies today.he got job..\\nspam\\tYou are guaranteed the latest Nokia Phone, a 40GB iPod MP3 player or a £500 prize! Txt word: COLLECT to No: 83355! IBHltd LdnW15H 150p/Mtmsgrcvd18\\nham\\tThey can try! They can get lost, in fact. Tee hee\\nham\\tHi! You just spoke to MANEESHA V. We\\'d like to know if you were satisfied with the experience. Reply Toll Free with Yes or No.\\nham\\tMy friends use to call the same.\\nham\\tSorry, I\\'ll call later\\nham\\tEm, its olowoyey@ usc.edu have a great time in argentina. Not sad about secretary, everything is a blessing\\nham\\tIt,,s a taxt massage....tie-pos argh ok! Lool!\\nham\\tHi, can i please get a  &lt;#&gt;  dollar loan from you. I.ll pay you back by mid february. Pls.\\nham\\tYou might want to pull out more just in case and just plan on not spending it if you can, I don\\'t have much confidence in derek and taylor\\'s money management\\nham\\tDo you like shaking your booty on the dance floor?\\nham\\tText me when you get off, don\\'t call, my phones having problems\\nham\\tNo need for the drug anymore.\\nham\\tSorry da:)i was thought of calling you lot of times:)lil busy.i will call you at noon..\\nham\\tIts sarcasm.. .nt scarcasim\\nham\\tGreat! I have to run now so ttyl!\\nham\\tFeel like trying kadeem again? :V\\nham\\tDai  &lt;#&gt;  naal eruku.\\nham\\tNot yet chikku..wat abt u?\\nham\\tOk...\\nham\\tWant to finally have lunch today?\\nham\\tDo you know when dad will be back?\\nspam\\tHello darling how are you today? I would love to have a chat, why dont you tell me what you look like and what you are in to sexy?\\nspam\\t8007 FREE for 1st week! No1 Nokia tone 4 ur mob every week just txt NOKIA to 8007 Get txting and tell ur mates www.getzed.co.uk POBox 36504 W4 5WQ norm 150p/tone 16+\\nham\\tHe remains a bro amongst bros\\nham\\tR u meeting da ge at nite tmr?\\nham\\t* Was a nice day and, impressively, i was sensible, went home early and now feel fine. Or am i just boring?! When\\'s yours, i can\\'t remember.\\nham\\tWhy de. You looking good only:-)..\\nspam\\tWanna get laid 2nite? Want real Dogging locations sent direct to ur mobile? Join the UK\\'s largest Dogging Network. Txt PARK to 69696 now! Nyt. ec2a. 3lp £1.50/msg\\nspam\\twe tried to contact you re your response to our offer of a new nokia fone and camcorder hit reply or call 08000930705 for delivery\\nham\\tYes. They replied my mail. I\\'m going to the management office later. Plus will in to bank later also.or on wednesday.\\nham\\tThat\\'s cool, I\\'ll come by like  &lt;#&gt; ish\\nham\\tSuper msg da:)nalla timing.\\nham\\tGood afternoon, my boytoy ... How are you feeling today ? Better I hope? Are you being my good boy? Are you my obedient, slave? Do you please your Queen?\\nham\\tI am 6 ft. We will be a good combination!\\nham\\tI\\'m sick !! I\\'m needy !! I want you !! *pouts* *stomps feet* Where are you ?! *pouts* *stomps feet* I want my slave !! I want him now !!\\nham\\t* Am on a train back from northampton so i\\'m afraid not!\\nham\\tWhere in abj are you serving. Are you staying with dad or alone.\\nham\\tWas playng 9 doors game and gt racing on phone lol\\nspam\\tNew Tones This week include: 1)McFly-All Ab.., 2) Sara Jorge-Shock.. 3) Will Smith-Switch.. To order follow instructions on next message\\nham\\tSolve d Case : A Man Was Found Murdered On  &lt;DECIMAL&gt; . &lt;#&gt;  AfterNoon. 1,His wife called Police. 2,Police questioned everyone. 3,Wife: Sir,I was sleeping, when the murder took place. 4.Cook: I was cooking. 5.Gardener: I was picking vegetables. 6.House-Maid: I went 2 d post office. 7.Children: We went 2 play. 8.Neighbour: We went 2 a marriage. Police arrested d murderer Immediately. Who\\'s It? Reply With Reason, If U r Brilliant.\\nham\\tI\\'m on da bus going home...\\nham\\tI got a call from a landline number. . . I am asked to come to anna nagar . . . I will go in the afternoon\\nham\\tI\\'m okay. Chasing the dream. What\\'s good. What are you doing next.\\nham\\tYupz... I\\'ve oredi booked slots 4 my weekends liao... \\nspam\\tURGENT! We are trying to contact U. Todays draw shows that you have won a £800 prize GUARANTEED. Call 09050003091 from land line. Claim C52. Valid 12hrs only\\nham\\tThere r many model..sony ericson also der.. &lt;#&gt; ..it luks good bt i forgot modl no\\nham\\tOkie\\nham\\tYes I know the cheesy songs from frosty the snowman :)\\nham\\tYa ok, vikky vl c witin  &lt;#&gt; mins and il reply u..\\nspam\\tsports fans - get the latest sports news str* 2 ur mobile 1 wk FREE PLUS a FREE TONE Txt SPORT ON to 8007 www.getzed.co.uk 0870141701216+ norm 4txt/120p \\nham\\tHey tmr meet at bugis 930 ?\\nspam\\tUrgent Urgent! We have 800 FREE flights to Europe to give away, call B4 10th Sept & take a friend 4 FREE. Call now to claim on 09050000555. BA128NNFWFLY150ppm\\nham\\tAll these nice new shirts and the only thing I can wear them to is nudist themed ;_; you in mu?\\nham\\tHey sexy buns! What of that day? No word from you this morning on YM ... :-( ... I think of you\\nham\\tAnd whenever you and i see we can still hook up too.\\nham\\tNope but i\\'m going home now then go pump petrol lor... Like going 2 rain soon...\\nham\\tCan you use foreign stamps for whatever you send them off for? \\nspam\\tFROM 88066 LOST £12 HELP\\nham\\tOh baby of the house. How come you dont have any new pictures on facebook\\nham\\tFeb  &lt;#&gt;  is \"I LOVE U\" day. Send dis to all ur \"VALUED FRNDS\" evn me. If 3 comes back u\\'ll gt married d person u luv! If u ignore dis u will lose ur luv 4 Evr\\nham\\tHiya, sorry didn\\'t hav signal. I haven\\'t seen or heard from and neither has, which is unusual in itself! I\\'ll put on the case and get him to sort it out! Hugs and snogs.\\nham\\tOmw back to tampa from west palm, you hear what happened?\\nham\\tYup no more already... Thanx 4 printing n handing it up.\\nspam\\tFreeMsg: Fancy a flirt? Reply DATE now & join the UKs fastest growing mobile dating service. Msgs rcvd just 25p to optout txt stop to 83021. Reply DATE now!\\nham\\tWhat i mean is do they come chase you out when its over or is it stated you can watch as many movies as you want.\\nham\\tS now only i took tablets . Reaction morning only.\\nspam\\tGreat NEW Offer - DOUBLE Mins & DOUBLE Txt on best Orange tariffs AND get latest camera phones 4 FREE! Call MobileUpd8 free on 08000839402 NOW! or 2stoptxt T&Cs\\nham\\tNah, I\\'m a perpetual DD\\nham\\tSorry de i went to shop.\\nspam\\tHope you enjoyed your new content. text stop to 61610 to unsubscribe. help:08712400602450p Provided by tones2you.co.uk\\nham\\tWen ur lovable bcums angry wid u, dnt take it seriously.. Coz being angry is d most childish n true way of showing deep affection, care n luv!.. kettoda manda... Have nice day da.\\nham\\tHey you still want to go for yogasana? Coz if we end at cine then can go bathe and hav the steam bath\\nham\\tNope i\\'m not drivin... I neva develop da photos lei...\\nham\\tI am thinking of going down to reg for pract lessons.. Flung my advance.. Haha wat time u going?\\nham\\tCool. I am  &lt;#&gt;  inches long. hope you like them big!\\nham\\tHouse-Maid is the murderer, coz the man was murdered on  &lt;#&gt; th January.. As public holiday all govt.instituitions are closed,including post office..understand?\\nham\\tOkie.. Thanx..\\nspam\\t18 days to Euro2004 kickoff! U will be kept informed of all the latest news and results daily. Unsubscribe send GET EURO STOP to 83222.\\nham\\tGo where n buy? Juz buy when we get there lar.\\nham\\tOk lor...\\nham\\tI\\'m working technical support :)voice process.\\nham\\tIt\\'s justbeen overa week since we broke up and already our brains are going to mush!\\nham\\tTunde, how are you doing. This is just wishing you a great day. Abiola.\\nham\\tNope... C ü then...\\nham\\tNo. But we\\'ll do medical missions to nigeria\\nham\\tNo i am not having not any movies in my laptop\\nham\\tWhatsup there. Dont u want to sleep\\nspam\\tUrgent Please call 09066612661 from landline. £5000 cash or a luxury 4* Canary Islands Holiday await collection. T&Cs SAE award. 20M12AQ. 150ppm. 16+ “\\nspam\\tUrgent! Please call 09066612661 from your landline, your complimentary 4* Lux Costa Del Sol holiday or £1000 CASH await collection. ppm 150 SAE T&Cs James 28, EH74RR\\nham\\tI havent lei.. Next mon can?\\nham\\tMm feeling sleepy. today itself i shall get that dear\\nham\\tHow dare you stupid. I wont tell anything to you. Hear after i wont talk to you:-.\\nham\\tDo ü noe if ben is going?\\nham\\tCan you do a mag meeting this avo at some point?\\nham\\tI meant middle left or right?\\nham\\tReally? I crashed out cuddled on my sofa.\\nham\\tHi Chachi tried calling u now unable to reach u .. Pl give me a missed cal once u c tiz msg  Kanagu\\nham\\tI sent you the prices and do you mean the  &lt;#&gt; g,\\nham\\tAre you this much buzy\\nham\\tNothing. Can...\\nspam\\tI don\\'t know u and u don\\'t know me. Send CHAT to 86688 now and let\\'s find each other! Only 150p/Msg rcvd. HG/Suite342/2Lands/Row/W1J6HL LDN. 18 years or over.\\nham\\tNo * am working on the ringing u thing but have whole houseful of screaming brats so * am pulling my hair out! Loving u\\nham\\tBut my family not responding for anything. Now am in room not went to home for diwali but no one called me and why not coming. It makes me feel like died.\\nham\\tTick, tick, tick ... Babe\\nham\\tR ü going 4 today\\'s meeting?\\nham\\tK da:)how many page you want?\\nham\\tYa had just now.onion roast.\\nham\\tSend his number and give reply tomorrow morning for why you said that to him like that ok\\nham\\tYou said not now. No problem. When you can. Let me know.\\nham\\tOk but tell me half an hr b4 u come i need 2 prepare.\\nham\\tPlay w computer? Aiyah i tok 2 u lor?\\nham\\tSat right? Okay thanks... \\nham\\tDerp. Which is worse, a dude who always wants to party or a dude who files a complaint about the three drug abusers he lives with\\nham\\tOk Chinese food on its way. When I get fat you\\'re paying for my lipo.\\nham\\tWe r outside already.\\nham\\tHave a good trip. Watch out for . Remember when you get back we must decide about easter.\\nham\\tYo we are watching a movie on netflix\\nham\\tWhat time. I‘m out until prob 3 or so\\nham\\tCan meh? Thgt some will clash... Really ah, i dun mind... I dun seen to have lost any weight... Gee...\\nham\\tI dont thnk its a wrong calling between us\\nham\\tI am not sure about night menu. . . I know only about noon menu\\nham\\tARR birthday today:) i wish him to get more oscar.\\nham\\tSay this slowly.? GOD,I LOVE YOU &amp; I NEED YOU,CLEAN MY HEART WITH YOUR BLOOD.Send this to Ten special people &amp; u c miracle tomorrow, do it,pls,pls do it...\\nham\\tOpen rebtel with firefox. When it loads just put plus sign in the user name place, and it will show you two numbers. The lower number is my number. Once you pick that number the pin will display okay!\\nham\\t and  picking them up from various points\\nspam\\tMarried local women looking for discreet action now! 5 real matches instantly to your phone. Text MATCH to 69969 Msg cost 150p 2 stop txt stop BCMSFWC1N3XX\\nham\\tWow v v impressed. Have funs shopping!\\nham\\tI am on the way to ur home\\nspam\\tBurger King - Wanna play footy at a top stadium? Get 2 Burger King before 1st Sept and go Large or Super with Coca-Cola and walk out a winner\\nham\\tNo problem. Talk to you later\\nham\\tThen ur sis how?\\nham\\tStill in customer place\\nspam\\tHow come it takes so little time for a child who is afraid of the dark to become a teenager who wants to stay out all night?\\nham\\tDude u knw also telugu..thts gud..k, gud nyt..\\nham\\tWe confirm eating at esplanade?\\nham\\tSend me your id and password\\nham\\tKind of. Took it to garage. Centre part of exhaust needs replacing. Part ordered n taking it to be fixed tomo morning.\\nspam\\tFor ur chance to win a £250 cash every wk TXT: ACTION to 80608. T\\'s&C\\'s www.movietrivia.tv custcare 08712405022, 1x150p/wk.\\nham\\tWell I might not come then...\\nham\\tLong after I quit. I get on only like 5 minutes a day as it is.\\nham\\tThen its most likely called Mittelschmertz. Google it. If you dont have paracetamol dont worry it will go.\\nham\\tWell at this right I\\'m gonna have to get up and check today\\'s steam sales/pee so text me when you want me to come get you\\nham\\tJust arrived, see you in a couple days &lt;3\\nham\\tK, wat s tht incident?\\nham\\tYeah get the unlimited\\nham\\tcThen i thk shd b enuff.. Still got conclusion n contents pg n references.. I\\'ll b doing da contents pg n cover pg..\\nham\\tForgot it takes me 3 years to shower, sorry. Where you at/your phone dead yet?\\nham\\tÜ got wat to buy tell us then ü no need to come in again.\\nham\\tWhen you are big..| God will bring success.\\nspam\\tU’ve Bin Awarded £50 to Play 4 Instant Cash. Call 08715203028 To Claim. EVERY 9th Player Wins Min £50-£500. OptOut 08718727870\\nham\\t… we r stayin here an extra week, back next wed. How did we do in the rugby this weekend? Hi to and and , c u soon \"\\nham\\tWell there\\'s still a bit left if you guys want to tonight\\nham\\tNot from this campus. Are you in the library?\\nham\\tThe affidavit says  &lt;#&gt;  E Twiggs St, division g, courtroom  &lt;#&gt; , &lt;TIME&gt;  AM. I\\'ll double check and text you again tomorrow\\nham\\tHow will I creep on you now? ;_;\\nham\\tTell your friends what you plan to do on Valentines day @ &lt;URL&gt;\\nham\\tIf I get there before you after your ten billion calls and texts so help me god\\nham\\tPurity of friendship between two is not about smiling after reading the forwarded message..Its about smiling just by seeing the name. Gud evng musthu\\nham\\tI\\'ve told him that i\\'ve returned it. That should i re order it.\\nham\\tHouse-Maid is the murderer, coz the man was murdered on  &lt;#&gt; th January.. As public holiday all govt.instituitions are closed,including post office..\\nham\\tDepends on where u going lor.\\nham\\tAnd smile for me right now as you go and the world will wonder what you are smiling about and think your crazy and keep away from you ... *grins*\\nspam\\tFreeMsg>FAV XMAS TONES!Reply REAL\\nham\\tLil fever:) now fine:)\\nham\\tI think it\\'s all still in my car\\nham\\tCan a not?\\nspam\\tDecember only! Had your mobile 11mths+? You are entitled to update to the latest colour camera mobile for Free! Call The Mobile Update Co FREE on 08002986906 \\nham\\tYes princess! I want to catch you with my big strong hands...\\nham\\tOh yeah I forgot. U can only take 2 out shopping at once.\\nham\\tMm so you asked me not to call radio\\nham\\tThinkin about someone is all good. No drugs for that\\nham\\tSay this slowly.? GOD,I LOVE YOU &amp; I NEED YOU,CLEAN MY HEART WITH YOUR BLOOD.Send this to Ten special people &amp; u c miracle tomorrow, do it,pls,pls do it...\\nham\\tEnjoy the showers of possessiveness poured on u by ur loved ones, bcoz in this world of lies, it is a golden gift to be loved truly..\\nham\\tAlright if you\\'re sure, let me know when you\\'re leaving\\nham\\tSome are lasting as much as 2 hours. You might get lucky.\\nham\\tGenius what\\'s up. How your brother. Pls send his number to my skype.\\nspam\\tGr8 Poly tones 4 ALL mobs direct 2u rply with POLY TITLE to 8007 eg POLY BREATHE1 Titles: CRAZYIN, SLEEPINGWITH, FINEST, YMCA :getzed.co.uk POBox365O4W45WQ 300p\\nham\\tThk some of em find wtc too far... Weiyi not goin... E rest i dunno yet... R ur goin 4 dinner den i might b able to join...\\nham\\tDon\\'t forget who owns you and who\\'s private property you are ... And be my good boy always .. *passionate kiss*\\nspam\\tINTERFLORA - \\x93It\\'s not too late to order Interflora flowers for christmas call 0800 505060 to place your order before Midnight tomorrow.\\nham\\tOh god..taken the teeth?is it paining\\nspam\\tROMCAPspam Everyone around should be responding well to your presence since you are so warm and outgoing. You are bringing in a real breath of sunshine.\\nham\\tThen u ask darren go n pick u lor... But i oso sian tmr haf 2 meet lect...\\nham\\tNo need to buy lunch for me.. I eat maggi mee..\\nspam\\tCongratulations - Thanks to a good friend U have WON the £2,000 Xmas prize. 2 claim is easy, just call 08712103738 NOW! Only 10p per minute. BT-national-rate\\nham\\tOk lor...\\nham\\tOh right, ok. I\\'ll make sure that i do loads of work during the day!  got a really nasty cough today and is dry n shot so that should really help it!\\nham\\tWife.how she knew the time of murder exactly\\nspam\\tSend a logo 2 ur lover - 2 names joined by a heart. Txt LOVE NAME1 NAME2 MOBNO eg LOVE ADAM EVE 07123456789 to 87077 Yahoo! POBox36504W45WQ TxtNO 4 no ads 150p.\\nham\\tHowz that persons story\\nham\\tThanx 4 sending me home...\\nham\\tIts normally hot mail. Com you see!\\nspam\\tYou\\'ve won tkts to the EURO2004 CUP FINAL or £800 CASH, to collect CALL 09058099801 b4190604, POBOX 7876150ppm\\nham\\tU sick still can go shopping?\\nham\\tYa they are well and fine., BBD(pooja) full pimples..even she become quite black..and ur rite here its too cold, wearing sweatter..\\nham\\tNice.nice.how is it working?\\nham\\t1\\'s reach home call me.\\nham\\tWere trying to find a Chinese food place around here\\nham\\tEasy mate, * guess the quick drink was bit ambitious.\\nham\\tBABE !!! I miiiiiiissssssssss you ! I need you !!! I crave you !!! :-( ... Geeee ... I\\'m so sad without you babe ... I love you ...\\nham\\tOk thanx...\\nham\\taathi..where are you dear..\\nham\\tTunji, how\\'s the queen? how are you doing. This is just wishing you a great day. Abiola.\\nham\\tToday iZ Yellow rose day. If u love my frndship give me 1 misscall &amp; send this to ur frndZ &amp; See how many miss calls u get. If u get 6missed U marry ur Lover.\\nham\\tWill be out of class in a few hours. Sorry\\nham\\tWat time u finish ur lect today?\\nspam\\tFree-message: Jamster!Get the crazy frog sound now! For poly text MAD1, for real text MAD2 to 88888. 6 crazy sounds for just 3 GBP/week! 16+only! T&C\\'s apply\\nham\\tSad story of a Man - Last week was my b\\'day. My Wife did\\'nt wish me. My Parents forgot n so did my Kids . I went to work. Even my Colleagues did not wish. As I entered my cabin my PA said, \\'\\' Happy B\\'day Boss !!\\'\\'. I felt special. She askd me 4 lunch. After lunch she invited me to her apartment. We went there. She said,\\'\\' do u mind if I go into the bedroom for a minute ? \\'\\' \\'\\'OK\\'\\', I sed in a sexy mood. She came out 5 minuts latr wid a cake...n My Wife, My Parents, My Kidz, My Friends n My Colleagues. All screaming.. SURPRISE !! and I was waiting on the sofa.. ... ..... \\' NAKED...!\\nspam\\tYOUR CHANCE TO BE ON A REALITY FANTASY SHOW call now = 08707509020 Just 20p per min NTT Ltd, PO Box 1327 Croydon CR9 5WB 0870 is a national = rate call\\nham\\tShe\\'s fine. Good to hear from you. How are you my dear? Happy new year oh.\\nham\\tAre you going to wipro interview today?\\nham\\thow tall are you princess?\\nham\\tI doubt you could handle 5 times per night in any case...\\nham\\tHaha... Hope ü can hear the receipt sound... Gd luck!\\nham\\tYour gonna be the death if me. I\\'m gonna leave a note that says its all robs fault. Avenge me.\\nham\\tJapanese Proverb: If one Can do it, U too Can do it, If none Can do it,U must do it Indian version: If one Can do it, LET HIM DO it.. If none Can do it,LEAVE it!! And finally Kerala version: If one can do it, Stop him doing it.. If none can do it, Make a strike against it ...\\nham\\tToday i\\'m not workin but not free oso... Gee... Thgt u workin at ur fren\\'s shop ? \\nham\\tIn life when you face choices Just toss a coin not becoz its settle the question But while the coin in the air U will know what your heart is hoping for. Gudni8\\nham\\tDo you know why god created gap between your fingers..? So that, One who is made for you comes &amp; fills those gaps by holding your hand with LOVE..!\\nham\\tI want to be there so i can kiss you and feel you next to me\\nham\\tI am not at all happy with what you saying or doing\\nspam\\tAdult 18 Content Your video will be with you shortly\\nham\\tOk that would b lovely, if u r sure. Think about wot u want to do, drinkin, dancin, eatin, cinema, in, out, about... Up to u! Wot about ? \\nham\\tWhat I\\'m saying is if you haven\\'t explicitly told nora I know someone I\\'m probably just not gonna bother\\nham\\tHe says hi and to get your ass back to south tampa (preferably at a kegger)\\nham\\tSmith waste da.i wanna gayle.\\nham\\tMum, i\\'ve sent you many many messages since i got here. I just want to know that you are actually getting them. Do enjoy the rest of your day.\\nham\\tAight, tomorrow around  &lt;#&gt;  it is\\nham\\tHouse-Maid is the murderer, coz the man was murdered on  &lt;#&gt; th January.. As public holiday all govt.instituitions are closed,including post office..understand?\\nspam\\tYOUR CHANCE TO BE ON A REALITY FANTASY SHOW call now = 08707509020 Just 20p per min NTT Ltd, PO Box 1327 Croydon CR9 5WB 0870 is a national = rate call.\\nham\\tI actually did for the first time in a while. I went to bed not too long after i spoke with you. Woke up at 7. How was your night?\\nham\\tSee you there! \\nham\\tI dont understand your message.\\nham\\tCrucify is c not s. You should have told me earlier.\\nham\\tIdk. You keep saying that you\\'re not, but since he moved, we keep butting heads over freedom vs. responsibility. And i\\'m tired. I have so much other shit to deal with that i\\'m barely keeping myself together once this gets added to it.\\nham\\tFuck cedar key and fuck her (come over anyway tho)\\nham\\ttwenty past five he said will this train have been to durham already or not coz i am in a reserved seat\\nspam\\tHey Boys. Want hot XXX pics sent direct 2 ur phone? Txt PORN to 69855, 24Hrs free and then just 50p per day. To stop text STOPBCM SF WC1N3XX\\nham\\tU still painting ur wall?\\nspam\\tLast Chance! Claim ur £150 worth of discount vouchers today! Text SHOP to 85023 now! SavaMob, offers mobile! T Cs SavaMob POBOX84, M263UZ. £3.00 Sub. 16\\nham\\tPrinter is cool. I mean groovy. Wine is groovying\\nham\\tHi Harish\\'s rent has been transfred to ur Acnt.\\nham\\tAnything lor is she coming?\\nham\\tCbe is really good nowadays:)lot of shop and showrooms:)city is shaping good.\\nham\\tÜ still attending da talks?\\nham\\tNo probs hon! How u doinat the mo?\\nham\\tK I\\'ll take care of it\\nham\\tI take it we didn\\'t have the phone callon Friday. Can we assume we won\\'t have it this year now?\\nham\\tMy battery is low babe\\nham\\tShuhui has bought ron\\'s present it\\'s a swatch watch...\\nham\\tYeah there\\'s quite a bit left, I\\'ll swing by tomorrow when I get up\\nham\\tBabe? You said 2 hours and it\\'s been almost 4 ... Is your internet down ?\\nham\\tK I\\'ll be sure to get up before noon and see what\\'s what\\nham\\tK...k...yesterday i was in cbe .\\nham\\tWent to ganesh dress shop\\nspam\\tpdate_Now - Double mins and 1000 txts on Orange tariffs. Latest Motorola, SonyEricsson & Nokia & Bluetooth FREE! Call MobileUpd8 on 08000839402 or call2optout/!YHL\\nham\\tÜ collecting ur laptop then going to configure da settings izzit?\\nham\\tIf you r @ home then come down within 5 min\\nham\\tAight, I should be there by 8 at the latest, probably closer to 7. Are jay and tyler down or should we just do two trips?\\nham\\tCome aftr  &lt;DECIMAL&gt; ..now i m cleaning the house\\nspam\\tUr cash-balance is currently 500 pounds - to maximize ur cash-in now send CASH to 86688 only 150p/msg. CC: 08718720201 PO BOX 114/14 TCR/W1\\nham\\tBill, as in: Are there any letters for me. i’m expecting one from orange that isn’t a bill but may still say orange on it.\\nham\\tTell me pa. How is pain de.\\nham\\tHI DARLIN I HOPE YOU HAD A NICE NIGHT I WISH I HAD COME CANT WAIT TO SEE YOU LOVE FRAN PS I WANT DIRTY ANAL SEX AND I WANT A 10 MAN GANG BANG\\nham\\tHa. You don‘t know either. I did a a clever but simple thing with pears the other day, perfect for christmas.\\nham\\tHelloooo... Wake up..! \"Sweet\" \"morning\" \"welcomes\" \"You\" \"Enjoy\" \"This Day\" \"with full of joy\".. \"GUD MRNG\".\\nham\\tALRITE\\nham\\tWhy must we sit around and wait for summer days to celebrate. Such a magical sight when the worlds dressed in white. Oooooh let there be snow.\\nspam\\tURGENT! Your Mobile number has been awarded with a £2000 prize GUARANTEED. Call 09058094454 from land line. Claim 3030. Valid 12hrs only\\nham\\tHow do you guys go to see movies on your side.\\nham\\tSorry,in meeting I\\'ll call later\\nham\\tYou didn\\'t have to tell me that...now i\\'m thinking. Plus he\\'s going to stop all your runs\\nham\\tKindly send some one to our flat before  &lt;DECIMAL&gt;  today.\\nspam\\tSorry! U can not unsubscribe yet. THE MOB offer package has a min term of 54 weeks> pls resubmit request after expiry. Reply THEMOB HELP 4 more info\\nham\\tNothing lor... A bit bored too... Then y dun u go home early 2 sleep today...\\nham\\tWhat time should I tell my friend to be around?\\nham\\tYes. that will be fine. Love you. Be safe.\\nham\\tThanks chikku..:-) gud nyt:-*\\nham\\tIs xy in ur car when u picking me up?\\nham\\tThanx 4 the time we\\x92ve spent 2geva, its bin mint! Ur my Baby and all I want is u!xxxx\\nham\\tYo, any way we could pick something up tonight?\\nham\\tI\\'ve not sent it. He can send me.\\nham\\tFine am simply sitting.\\nham\\tThts god\\'s gift for birds as humans hav some natural gift frm god..\\nham\\tAre you coming to day for class.\\nham\\tIm done. Just studyn in library\\nham\\tOk... U enjoy ur shows...\\nham\\tAnything...\\nham\\tWhere wuld I be without my baby? The thought alone mite break me and I don\\x92t wanna go crazy but everyboy needs his lady xxxxxxxx\\nham\\tWat\\'s my dear doing? Sleeping ah?\\nham\\tHi\\' Test on  &lt;#&gt; rd ....\\nham\\tOnly 2% students solved this CAT question in \\'xam... 5+3+2= &lt;#&gt;  9+2+4= &lt;#&gt;  8+6+3= &lt;#&gt;  then 7+2+5=????? Tell me the answer if u r brilliant...1thing.i got d answr.\\nham\\tYo do you know anyone  &lt;#&gt;  or otherwise able to buy liquor? Our guy flaked and right now if we don\\'t get a hold of somebody its just 4 loko all night\\nham\\tYup n her fren lor. I\\'m meeting my fren at 730.\\nham\\tYeah, we got one lined up for us\\nham\\tAnd stop wondering \"wow is she ever going to stop tm\\'ing me ?!\" because I will tm you whenever I want because you are MINE ... *laughs*\\nham\\tLol yep did that yesterday. Already got my fireplace. Now its just another icon sitting there for me.\\nham\\tHey i\\'ve booked the pilates and yoga lesson already... Haha\\nham\\tAre you ok. What happen to behave like this\\nspam\\tYou have 1 new message. Please call 08712400200.\\nham\\tMy supervisor find 4 me one lor i thk his students. I havent ask her yet. Tell u aft i ask her.\\nham\\tHello. No news on job, they are making me wait a fifth week! Yeah im up for some woozles and weasels... In exeter still, but be home about 3. \\nham\\tNo message..no responce..what happend?\\nspam\\tWe currently have a message awaiting your collection. To collect your message just call 08718723815.\\nham\\tHey babe, sorry i didn\\'t get sooner. Gary can come and fix it cause he thinks he knows what it is but he doesn\\'t go as far a Ptbo and he says it will cost  &lt;#&gt;  bucks. I don\\'t know if it might be cheaper to find someone there ? We don\\'t have any second hand machines at all right now, let me know what you want to do babe\\nham\\tmake that 3! 4 fucks sake?! x\\nham\\tLeave it. U will always be ignorant.\\nham\\tNope but i\\'ll b going 2 sch on fri quite early lor cos mys sis got paper in da morn :-)\\nham\\tat bruce b downs &amp; fletcher now\\nham\\tWhere are you ? You said you would be here when I woke ... :-(\\nham\\tHey now am free you can call me.\\nham\\tTell me whos this pls:-)\\nspam\\tURGENT! Your mobile was awarded a £1,500 Bonus Caller Prize on 27/6/03. Our final attempt 2 contact U! Call 08714714011\\nham\\tThink i might have to give it a miss. Am teaching til twelve, then have lecture at two. Damn this working thing.\\nham\\tId have to check but there\\'s only like 1 bowls worth left\\nham\\tYes there were many sweets\\nham\\tI would but I\\'m still cozy. And exhausted from last night.nobody went to school or work. Everything is closed.\\nspam\\tU have a secret admirer. REVEAL who thinks U R So special. Call 09065174042. To opt out Reply REVEAL STOP. 1.50 per msg recd. Cust care 07821230901\\nham\\tBuzzzz! *grins* Did I buzz your ass? Buzz your chest ? Buzz your cock ? Where do you keep your phone ? Is the vibrator on ? Did you feel it shake ?\\nham\\tSir send to group mail check it.\\nham\\tI\\'m doing da intro covers energy trends n pros n cons... Brief description of nuclear fusion n oso brief history of iter n jet got abt 7 n half pages..\\nham\\t\"NONE!NOWHERE IKNO DOESDISCOUNT!SHITINNIT\"\\nham\\tYou dont know you jabo me abi.\\nspam\\tDo you ever notice that when you\\'re driving, anyone going slower than you is an idiot and everyone driving faster than you is a maniac?\\nham\\tNot yet had..ya sapna aunty manege y\\'day hogidhe..chinnu full weak and swalpa black agidhane..\\nham\\tAre you being good, baby? :)\\nham\\tNEFT Transaction with reference number  &lt;#&gt;  for Rs. &lt;DECIMAL&gt;  has been credited to the beneficiary account on  &lt;#&gt;  at  &lt;TIME&gt; : &lt;#&gt;\\nham\\tMostly sports type..lyk footbl,crckt..\\nham\\tMa head dey swell oh. Thanks for making my day\\nham\\tU should make a fb list\\nham\\tHeight of Confidence: All the Aeronautics professors wer calld &amp; they wer askd 2 sit in an aeroplane. Aftr they sat they wer told dat the plane ws made by their students. Dey all hurried out of d plane.. Bt only 1 didnt move... He said:\"if it is made by my students,this wont even start........ Datz confidence..\\nham\\tSary just need Tim in the bollox &it hurt him a lot so he tol me!\\nham\\tHappy New Year Princess!\\nham\\tI\\'ll text carlos and let you know, hang on\\nham\\tDon\\'t worry, * is easy once have ingredients!\\nham\\tI love u 2 my little pocy bell I am sorry but I love u\\nham\\tOk omw now, you at castor?\\nham\\tYar lor... Keep raining non stop... Or u wan 2 go elsewhere?\\nspam\\tXmas Offer! Latest Motorola, SonyEricsson & Nokia & FREE Bluetooth or DVD! Double Mins & 1000 Txt on Orange. Call MobileUpd8 on 08000839402 or call2optout/4QF2\\nham\\tWhat u mean u almost done? Done wif sleeping? But i tot u going to take a nap.. Yup i send her liao so i\\'m picking her up at ard 4 smth lor..\\nham\\t7 wonders in My WORLD 7th You 6th Ur style 5th Ur smile 4th Ur Personality 3rd Ur Nature 2nd Ur SMS and 1st \"Ur Lovely Friendship\"... good morning dear\\nham\\tTonight? Yeah, I\\'d be down for that\\nham\\tWhat should i eat fo lunch senor\\nham\\tHe said that he had a right giggle when he saw u again! You would possibly be the first person2die from NVQ, but think how much you could for! \\nham\\tNo break time one... How... I come out n get my stuff fr ü?\\nspam\\tReply to win £100 weekly! What professional sport does Tiger Woods play? Send STOP to 87239 to end service\\nham\\tI\\'m there and I can see you, but you can\\'t see me ? Maybe you should reboot ym ? I seen the buzz\\nham\\tDo you still have the grinder?\\nspam\\tNo 1 POLYPHONIC tone 4 ur mob every week! Just txt PT2 to 87575. 1st Tone FREE ! so get txtin now and tell ur friends. 150p/tone. 16 reply HL 4info\\nham\\tLove isn\\'t a decision, it\\'s a feeling. If we could decide who to love, then, life would be much simpler, but then less magical\\nspam\\tHOT LIVE FANTASIES call now 08707509020 Just 20p per min NTT Ltd, PO Box 1327 Croydon CR9 5WB 0870 is a national rate call\\nham\\tK.i did\\'t see you.:)k:)where are you now?\\nham\\tSo i\\'m doing a list of buyers.\\nham\\tNo idea, I guess we\\'ll work that out an hour after we\\'re supposed to leave since as usual nobody has any interest in figuring shit out before the last second\\nham\\tMm not entirely sure i understood that text but hey. Ho. Which weekend?\\nham\\tThey released vday shirts and when u put it on it makes your bottom half naked instead of those white underwear.\\nham\\tDon know..he is watching film in computer..\\nham\\tNo b4 Thursday\\nham\\tOh, then your phone phoned me but it disconnected\\nham\\tId onluy matters when getting on from offcampus\\nspam\\tThis message is free. Welcome to the new & improved Sex & Dogging club! To unsubscribe from this service reply STOP. msgs@150p 18+only\\nham\\tExcellent, I\\'ll see what riley\\'s plans are\\nham\\tI will see in half an hour\\nspam\\tYou\\'ve won tkts to the EURO2004 CUP FINAL or £800 CASH, to collect CALL 09058099801 b4190604, POBOX 7876150ppm\\nham\\tEw are you one of them?\\nham\\tAlso hi wesley how\\'ve you been\\nham\\tAh you see. You have to be in the lingo. I will let you know wot on earth it is when has finished making it!\\nspam\\tLoan for any purpose £500 - £75,000. Homeowners + Tenants welcome. Have you been previously refused? We can still help. Call Free 0800 1956669 or text back \\'help\\'\\nspam\\tUpdate_Now - 12Mths Half Price Orange line rental: 400mins...Call MobileUpd8 on 08000839402 or call2optout=J5Q\\nham\\tImagine Life WITHOUT ME... see.. How fast u are searching me?Don\\'t worry.. l\\'m always there To disturb U.. Goodnoon..:)\\nham\\tHm good morning, headache anyone? :-)\\nham\\tYeah no probs - last night is obviously catching up with you... Speak soon \\nspam\\tFREE UNLIMITED HARDCORE PORN direct 2 your mobile Txt PORN to 69200 & get FREE access for 24 hrs then chrgd@50p per day txt Stop 2exit. This msg is free\\nham\\tI might go 2 sch. Yar at e salon now v boring.\\nham\\t &lt;#&gt;  mins but i had to stop somewhere first.\\nham\\t&lt;#&gt;  is fast approaching. So, Wish u a very Happy New Year Happy Sankranti Happy republic day Happy Valentines Day Happy Shivratri Happy Ugadi Happy Fools day Happy May Day Happy Independence Day, Happy Friendship,Mother,Father,Teachers,Childrens Day, &amp; HAPPY BIRTHDAY 4 U. Happy Ganesh festival Happy Dasara Happy Diwali Happy Christmas  &lt;#&gt;  Good Mornings Afternoons, Evenings Nights. RememberI AM the first to WISHING U ALL THESE...your\\'s Raj\\nham\\tOne of the joys in lifeis waking up each daywith thoughts that somewhereSomeone cares enough tosend a warm morning greeting.. -\\nham\\tI didn\\'t get the second half of that message\\nham\\tWat time do u wan 2 meet me later?\\nham\\tI thank you so much for all you do with selflessness. I love you plenty.\\nham\\tAm in film ill call you later.\\nham\\tHow dare you change my ring\\nham\\tYou are a very very very very bad girl. Or lady.\\nham\\tI love ya too but try and budget your money better babe. Gary would freak on me if he knew\\nham\\tWhat part of \"don\\'t initiate\" don\\'t you understand\\nham\\tI finished my lunch already. U wake up already?\\nham\\tYou still at the game?\\nham\\tYou have got tallent but you are wasting.\\nham\\tWhat is your record for one night? :)\\nham\\tAlso sir, i sent you an email about how to log into the usc payment portal. I.ll send you another message that should explain how things are back home. Have a great weekend.\\nham\\t gonna let me know cos comes bak from holiday that day.  is coming. Don\\'t4get2text me  number. \\nham\\tJokin only lar... :-) depends on which phone my father can get lor...\\nham\\tAight, lemme know what\\'s up\\nham\\tGet ready for  &lt;#&gt;  inches of pleasure...\\nham\\tRaji..pls do me a favour. Pls convey my Birthday wishes to Nimya. Pls. Today is her birthday.\\nham\\t;-) ok. I feel like john lennon.\\nham\\tCos darren say ü considering mah so i ask ü...\\nham\\tYou are not bothering me but you have to trust my answers. Pls.\\nham\\tWishing you and your family Merry \"X\" mas and HAPPY NEW Year in advance..\\nham\\tOne day a crab was running on the sea shore..The waves came n cleared the footprints of the crab.. Crab asked: being my frnd y r u clearing my beautiful footprints? Waves replied: A fox was following ur footprints to catch you! thats y i cleared it off:) frndsship never lets u dwn :-) GUD nyt..\\nham\\tAight what time you want me to come up?\\nham\\tSlaaaaave ! Where are you ? Must I summon you to me all the time now ? Don\\'t you wish to come to me on your own anymore?\\nham\\tYour bill at 3 is £33.65 so thats not bad!\\nham\\tLet me know how it changes in the next 6hrs. It can even be appendix but you are out of that age range. However its not impossible. So just chill and let me know in 6hrs\\nham\\tHello, yeah i\\'ve just got out of the bath and need to do my hair so i\\'ll come up when i\\'m done, yeah?\\nham\\tSo how\\'s the weather over there?\\nham\\tOk. Not much to do here though. H&M Friday, cant wait. Dunno wot the hell im gonna do for another 3 weeks! Become a slob- oh wait, already done that! \\nham\\tDie... Now i have e toot fringe again...\\nham\\tLol they don\\'t know about my awesome phone. I could click delete right now if I want.\\nham\\tOk\\nham\\tAwesome question with a cute answer: Someone asked a boy \"how is ur life?\" . . He smiled &amp; answered: . . \"She is fine!\" Gudnite\\nham\\tPlease leave this topic..sorry for telling that..\\nham\\tPls send me the correct name da.\\nham\\tWhat happened to our yo date?\\nspam\\tEASTENDERS TV Quiz. What FLOWER does DOT compare herself to? D= VIOLET E= TULIP F= LILY txt D E or F to 84025 NOW 4 chance 2 WIN £100 Cash WKENT/150P16+\\nham\\tWebpage s not available!\\nham\\tJust woke up. Yeesh its late. But I didn\\'t fall asleep til &lt;#&gt; am :/\\nspam\\tYou are now unsubscribed all services. Get tons of sexy babes or hunks straight to your phone! go to http://gotbabes.co.uk. No subscriptions.\\nham\\tDear all, as we know  &lt;#&gt; th is the  &lt;#&gt; th birthday of our loving Gopalettan. We are planning to give a small gift on that day. Those who like to participate in that you are welcome. Please contact our admin team for more details\\nham\\tK..k...from tomorrow onwards started ah?\\nham\\tWhat u talking bout early morning? It\\'s almost noon where your at!\\nham\\tFine. Do you remember me.\\nspam\\tHi babe its Jordan, how r u? Im home from abroad and lonely, text me back if u wanna chat xxSP visionsms.com Text stop to stopCost 150p 08712400603\\nham\\tOk. How many should i buy.\\nham\\tSounds good, keep me posted\\nspam\\tGet a brand new mobile phone by being an agent of The Mob! Plus loads more goodies! For more info just text MAT to 87021.\\nham\\tOk. So april. Cant wait\\nham\\tBoy you best get yo ass out here quick\\nham\\tAy wana meet on sat?ü wkg on sat?\\nham\\tI\\'m now but have to wait till 2 for the bus to pick me.\\nham\\tApart from the one i told you about yesterday?\\nham\\tOk lor... But buy wat?\\nham\\tSomebody should go to andros and steal ice\\nham\\tDon know. I did\\'t msg him recently.\\nham\\tTake us out shopping and Mark will distract Isaiah.=D\\nham\\tMum, hope you are having a great day. Hoping this text meets you well and full of life. Have a great day. Abiola\\nham\\tThere is no sense in my foot and penis.\\nham\\tOkay but i thought you were the expert\\nham\\t*deep sigh* ... I miss you :-( ... I am really surprised you haven\\'t gone to the net cafe yet to get to me ... Don\\'t you miss me?\\nham\\tS.s:)i thinl role is like sachin.just standing. Others have to hit.\\nham\\tHave a great trip to India. And bring the light to everyone not just with the project but with everyone that is lucky to see you smile. Bye. Abiola\\nham\\tAnd very importantly, all we discuss is between u and i only.\\nham\\tK..k:)how about your training process?\\nham\\tOk lor. I ned 2 go toa payoh 4 a while 2 return smth u wan 2 send me there or wat?\\nham\\tIn da car park \\nham\\tI wish that I was with you. Holding you tightly. Making you see how important you are. How much you mean to me ... How much I need you ... In my life ...\\nham\\tSo i asked how\\'s anthony. Dad. And your bf\\nham\\t\\'Wnevr i wana fal in luv vth my books, My bed fals in luv vth me..!\\'\\' . Yen madodu, nav pretsorginta, nammanna pretsovru important alwa....!!:) Gud eveB-).\\nham\\tWhat Today-sunday..sunday is holiday..so no work..\\nham\\tAm going to take bath ill place the key in window:-)\\nspam\\tLORD OF THE RINGS:RETURN OF THE KING in store NOW!REPLY LOTR by 2 June 4 Chance 2 WIN LOTR soundtrack CDs StdTxtRate. Reply STOP to end txts\\nham\\tDear, take care. I am just reaching home.love u a lot.\\nham\\tstaff.science.nus.edu.sg/~phyhcmk/teaching/pc1323\\nham\\tHave you emigrated or something? Ok maybe 5.30 was a bit hopeful...\\nham\\tOlol i printed out a forum post by a guy with the exact same  prob which was fixed with a gpu replacement. Hopefully they dont ignore that.\\nham\\tWe walked from my moms. Right on stagwood pass right on winterstone left on victors hill. Address is &lt;#&gt;\\nham\\tYo, you at jp and hungry like a mofo?\\nham\\tThis is all just creepy and crazy to me.\\nham\\tOk... I din get ur msg...\\nham\\tTessy..pls do me a favor. Pls convey my birthday wishes to Nimya..pls dnt forget it. Today is her birthday Shijas\\nham\\tPathaya enketa maraikara pa\\'\\nham\\tEven if he my friend he is a priest call him now\\nham\\tU so lousy, run already come back then half dead... Hee...\\nham\\tThat\\'s y i said it\\'s bad dat all e gals know u... Wat u doing now?\\nham\\tOr remind me in a few hrs.\\nham\\tI had been hoping i would not have to send you this message. My rent is due and i dont have enough for it. My reserves are completely gone. Its a loan i need and was hoping you could her. The balance is  &lt;#&gt; . Is there a way i could get that from you, till mid march when i hope to pay back.\\nham\\tHi. Happy New Year. I dont mean to intrude but can you pls let me know how much tuition you paid last semester and how much this semester is. Thanks\\nham\\tHello hun how ru? Its here by the way. Im good. Been on 2 dates with that guy i met in walkabout so far. We have to meet up soon. Hows everyone else?\\nham\\tLol I was gonna last month. I cashed some in but I left &lt;#&gt; just in case. I was collecting more during the week cause they announced it on the blog.\\nspam\\tGood Luck! Draw takes place 28th Feb 06. Good Luck! For removal send STOP to 87239 customer services 08708034412\\nham\\tShort But Cute : \" Be a good person , but dont try to prove\" ..... Gud mrng...\\nham\\tJust haven\\'t decided where yet eh ?\\nham\\tWat time liao, where still got.\\nham\\tYes watching footie but worried we\\'re going to blow it - Phil Neville?\\nham\\tI wait 4 ü inside da car park...\\nham\\tUncle Abbey! Happy New Year. Abiola\\nham\\tNow am free call me pa.\\nham\\tR u saying i should re order the slippers cos i had to pay for returning it.\\nham\\tStop knowing me so well!\\nham\\tGood evening! this is roger. How are you?\\nham\\tSmall problem in auction:)punj now asking tiwary\\nspam\\tFree entry in 2 a weekly comp for a chance to win an ipod. Txt POD to 80182 to get entry (std txt rate) T&C\\'s apply 08452810073 for details 18+\\nham\\tHe telling not to tell any one. If so treat for me hi hi hi\\nham\\tMy uncles in Atlanta. Wish you guys a great semester.\\nspam\\t1st wk FREE! Gr8 tones str8 2 u each wk. Txt NOKIA ON to 8007 for Classic Nokia tones or HIT ON to 8007 for Polys. Nokia/150p Poly/200p 16+\\nham\\tU coming 2 pick me?\\nham\\tThats cool. i liked your photos. You are very sexy!\\nham\\twould u fuckin believe it they didnt know i had thurs pre booked off so they re cancelled me AGAIN! that needs to b sacked\\nham\\tHaha better late than ever, any way I could swing by?\\nham\\tOk. But i finish at 6.\\nspam\\tLookAtMe!: Thanks for your purchase of a video clip from LookAtMe!, you\\'ve been charged 35p. Think you can do better? Why not send a video in a MMSto 32323.\\nham\\tI\\'ve been barred from all B and Q stores for life!?This twat in orange dungerees came up to me and asked if I wanted decking? So I got the first punch in!!\\nham\\tSo no messages. Had food?\\nham\\tOk going to sleep. Hope i can meet her.\\nham\\tWat makes some people dearer is not just de happiness dat u feel when u meet them but de pain u feel when u miss dem!!!\\nham\\tCan you let me know details of fri when u find out cos I\\'m not in tom or fri. mentionned chinese. Thanks\\nham\\tYou\\'re right I have now that I think about it\\nham\\tWat r u doing now?\\nham\\tIs ur lecture over?\\nspam\\tsexy sexy cum and text me im wet and warm and ready for some porn! u up for some fun? THIS MSG IS FREE RECD MSGS 150P INC VAT 2 CANCEL TEXT STOP\\nham\\tCustomer place i will call you\\nham\\tNot planned yet :)going to join company on jan 5 only.don know what will happen after that.\\nham\\tBoy; I love u Grl: Hogolo Boy: gold chain kodstini Grl: Agalla Boy: necklace madstini Grl: agalla Boy: Hogli 1 mutai eerulli kodthini! Grl: I love U kano;-)\\nham\\tHaha I heard that, text me when you\\'re around\\nham\\tI.ll get there tomorrow and send it to you\\nham\\t\"SHIT BABE.. THASA BIT MESSED UP.YEH, SHE SHUDVETOLD U. DID URGRAN KNOW?NEWAY, ILLSPEAK 2 U2MORO WEN IM NOT ASLEEP...\"\\nham\\tOh thats late! Well have a good night and i will give u a call tomorrow. Iam now going to go to sleep night night\\nham\\t\"CHEERS U TEX MECAUSE U WEREBORED! YEAH OKDEN HUNNY R UIN WK SAT?SOUND\\x92S LIKEYOUR HAVIN GR8FUN J! KEEP UPDAT COUNTINLOTS OF LOVEME XXXXX.\"\\nham\\tSorry,  in meeting I\\'ll call you later\\nham\\tYo! Howz u? girls never rang after india. L\\nham\\tYeah but which is worse for i\\nspam\\tHard LIVE 121 chat just 60p/min. Choose your girl and connect LIVE. Call 09094646899 now! Cheap Chat UK\\'s biggest live service. VU BCM1896WC1N3XX\\nham\\tI tagged MY friends that you seemed to count as YOUR friends.\\nspam\\tNot heard from U4 a while. Call 4 rude chat private line 01223585334 to cum. Wan 2C pics of me gettin shagged then text PIX to 8552. 2End send STOP 8552 SAM xxx\\nham\\tOk...\\nham\\tLong time. You remember me today.\\nham\\tHavent shopping now lor i juz arrive only\\nham\\tThank u. IT BETTER WORK OUT CAUSE I WILL FEEL USED OTHERWISE\\nham\\tAre you up for the challenge? I know i am :)\\nham\\tHow much did ur hdd casing cost.\\nham\\tMystery solved! Just opened my email and he\\'s sent me another batch! Isn\\'t he a sweetie\\nham\\tI can\\'t describe how lucky you are that I\\'m actually awake by noon\\nspam\\tThis is the 2nd time we have tried to contact u. U have won the £1450 prize to claim just call 09053750005 b4 310303. T&Cs/stop SMS 08718725756. 140ppm\\nham\\tTODAY is Sorry day.! If ever i was angry with you, if ever i misbehaved or hurt you? plz plz JUST SLAP URSELF Bcoz, Its ur fault, I\\'m basically GOOD\\nham\\tCheers for the card ... Is it that time of year already?\\nspam\\tHOT LIVE FANTASIES call now 08707509020 Just 20p per min NTT Ltd, PO Box 1327 Croydon CR9 5WB 0870..k\\nham\\tWhen people see my msgs, They think Iam addicted to msging... They are wrong, Bcoz They don\\\\\\'t know that Iam addicted to my sweet Friends..!! BSLVYL\\nham\\tUgh hopefully the asus ppl dont randomly do a reformat.\\nham\\tHaven\\'t seen my facebook, huh? Lol!\\nham\\tMah b, I\\'ll pick it up tomorrow\\nham\\tStill otside le..u come 2morrow maga..\\nham\\tDo u still have plumbers tape and a wrench we could borrow?\\nspam\\tDear Voucher Holder, To claim this weeks offer, at you PC please go to http://www.e-tlp.co.uk/reward. Ts&Cs apply.\\nham\\tIt vl bcum more difficult..\\nspam\\tUR GOING 2 BAHAMAS! CallFREEFONE 08081560665 and speak to a live operator to claim either Bahamas cruise of£2000 CASH 18+only. To opt out txt X to 07786200117\\nham\\tHavent still waitin as usual... Ü come back sch oredi?\\nham\\tIn meeting da. I will call you\\nham\\tK k :-):-) then watch some films.\\nham\\tDoes cinema plus drink appeal tomo? * Is a fr thriller by director i like on at mac at 8.30.\\nham\\tThere the size of elephant tablets & u shove um up ur ass!!\\nham\\tSo many people seems to be special at first sight, But only very few will remain special to you till your last sight.. Maintain them till life ends.. take cr da\\nham\\tMy Parents, My Kidz, My Friends n My Colleagues. All screaming.. SURPRISE !! and I was waiting on the sofa.. ... ..... \\' NAKED...!\\nham\\tDunno i juz askin cos i got a card got 20% off 4 a salon called hair sense so i tot it\\'s da one ü cut ur hair. \\nham\\tGood morning pookie pie! Lol hope I didn\\'t wake u up\\nham\\tMAYBE IF YOU WOKE UP BEFORE FUCKING 3 THIS WOULDN\\'T BE A PROBLEM.\\nham\\tHappy birthday to you....dear.with lots of love.rakhesh NRI\\nham\\tHowz that persons story\\nspam\\tThis is the 2nd time we have tried 2 contact u. U have won the 750 Pound prize. 2 claim is easy, call 08712101358 NOW! Only 10p per min. BT-national-rate\\nham\\tX2  &lt;#&gt; . Are you going to get that\\nham\\tHi neva worry bout da truth coz the truth will lead me 2 ur heart. It\\x92s the least a unique person like u deserve. Sleep tight or morning\\nspam\\tUR awarded a City Break and could WIN a £200 Summer Shopping spree every WK. Txt STORE to 88039.SkilGme.TsCs087147403231Winawk!Age16+£1.50perWKsub\\nham\\tIs ur paper today in e morn or aft?\\nham\\tI will lick up every drop :) are you ready to use your mouth as well?\\nham\\tAnd you! Will expect you whenever you text! Hope all goes well tomo \\nham\\tGreat. P diddy is my neighbor and comes for toothpaste every morning\\nham\\tI av a new number,  . Wil u only use this one,ta.\\nham\\tSo its to be poking man everyday that they teach you in canada abi! How are you. Just saying hi.\\nham\\t7 lor... Change 2 suntec... Wat time u coming?\\nham\\tNo de.am seeing in online shop so that i asked.\\nham\\tJust curious because my cuz asked what I was up to\\nham\\tNice.nice.how is it working?\\nham\\tOkay lor... Wah... like that def they wont let us go... Haha... What did they say in the terms and conditions?\\nham\\tHaha... Yup hopefully  we will lose a few kg by mon. after hip hop can go orchard and weigh again\\nham\\tShe\\'s good. How are you. Where r u working now\\nham\\tOh, yes, I\\'ve just been a little under the weather so i\\'ve kind of been coccooning at home\\nham\\tAt home also.\\nham\\tThis phone has the weirdest auto correct.\\nham\\tOops my phone died and I didn\\'t even know. Yeah I like it better.\\nham\\tHavent mus ask if u can 1st wat. Of meet 4 lunch den u n him meet can already lor. Or u wan 2 go ask da ge 1st then confirm w me asap?\\nham\\tShe said,\\'\\' do u mind if I go into the bedroom for a minute ? \\'\\' \\'\\'OK\\'\\', I sed in a sexy mood. She came out 5 minuts latr wid a cake...n My Wife,\\nham\\tOH YEAH,AND HAV A GREAT TIME IN NEWQUAY-SEND ME A POSTCARD !1 LOOK AFTER ALL THE GIRLS WHILE IM GONE(U KNOW THE 1IM TALKIN BOUT!)xx\\nham\\tWe got a divorce. Lol. She.s here\\nham\\tWhat\\'s ur pin?\\nham\\tBabe, have you got enough money to pick up bread and milk ? And I\\'ll give you it back when you get home ?\\nham\\tI want snow. It\\'s just freezing and windy.\\nspam\\tURGENT! We are trying to contact U. Todays draw shows that you have won a £2000 prize GUARANTEED. Call 09066358361 from land line. Claim Y87. Valid 12hrs only\\nham\\tCome to mahal bus stop.. &lt;DECIMAL&gt;\\nham\\tDon know:)this week i\\'m going to tirunelvai da.\\nham\\tMe too baby! I promise to treat you well! I bet you will take good care of me...\\nham\\tIts like that hotel dusk game i think. You solve puzzles in a area thing\\nspam\\tThanks for your ringtone order, reference number X29. Your mobile will be charged 4.50. Should your tone not arrive please call customer services 09065989180\\nham\\tHi, my love! How goes that day? Fuck, this morning I woke and dropped my cell on the way down the stairs but it seems alright ... *phews* I miss you !\\nham\\tWell that must be a pain to catch\\nham\\tSorry da thangam.it\\'s my mistake.\\nham\\tI need... Coz i never go before \\nham\\tRose for red,red for blood,blood for heart,heart for u. But u for me.... Send tis to all ur friends.. Including me.. If u like me.. If u get back, 1-u r poor in relation! 2-u need some 1 to support 3-u r frnd 2 many 4-some1 luvs u 5+- some1 is praying god to marry u.:-) try it....\\nham\\tWife.how she knew the time of murder exactly\\nspam\\tSIX chances to win CASH! From 100 to 20,000 pounds txt> CSH11 and send to 87575. Cost 150p/day, 6days, 16+ TsandCs apply Reply HL 4 info\\nspam\\tUr cash-balance is currently 500 pounds - to maximize ur cash-in now send COLLECT to 83600 only 150p/msg. CC: 08718720201 PO BOX 114/14 TCR/W1\\nham\\tI feel like a dick because I keep sleeping through your texts and facebook messages. Sup, you in town?\\nham\\tNo plm i will come da. On the way.\\nham\\tGuess he wants alone time. We could just show up and watch when they do..\\nham\\tHeight of recycling: Read twice- People spend time for earning money and the same money is spent for spending time!;-) Good morning.. keep smiling:-)\\nham\\tYup ü not comin :-(\\nham\\tYes, princess. Toledo.\\nham\\tAight text me when you\\'re back at mu and I\\'ll swing by, need somebody to get the door for me\\nham\\tRon say fri leh. N he said ding tai feng cant make reservations. But he said wait lor.\\nham\\tGood. No swimsuit allowed :)\\nham\\tAm okay. Will soon be over. All the best\\nham\\tA cute thought for friendship: \"Its not necessary to share every secret with ur close Frnd, but watever u shared should be true\"....\\nham\\tOk i\\'ve sent u da latest version of da project.\\nham\\tGood Morning my Dear........... Have a great &amp; successful day.\\nham\\tPls accept me for one day. Or am begging you change the number.\\nham\\tSqueeeeeze!! This is christmas hug.. If u lik my frndshp den hug me back.. If u get 3 u r cute:) 6 u r luvd:* 9 u r so lucky;) None? People hate u:\\nham\\tIts ok, if anybody asks abt me, u tel them..:-P\\nham\\tFunny fact Nobody teaches volcanoes 2 erupt, tsunamis 2 arise, hurricanes 2 sway aroundn no 1 teaches hw 2 choose a wife Natural disasters just happens\\nham\\t* You gonna ring this weekend or wot?\\nham\\tAlso track down any lighters you can find\\nham\\tSorry, I can\\'t help you on this.\\nham\\tBabe, I need your advice\\nham\\tI‘ll leave around four, ok?\\nham\\tCome to medical college at 7pm ......forward it da\\nham\\tK:)k..its good:)when are you going?\\nham\\tI can make lasagna for you... vodka...\\nham\\tHI ITS KATE CAN U GIVE ME A RING ASAP XXX\\nham\\tWho were those people ? Were you in a tour ? I thought you were doing that sofa thing you sent me ? Your curious sugar\\nham\\tNo, but you told me you were going, before you got drunk!\\nham\\tHe fucking chickened out. He messaged me he would be late and woould buzz me and then I didn\\'t hear a word from him\\nspam\\tCongratulations! Thanks to a good friend U have WON the £2,000 Xmas prize. 2 claim is easy, just call 08718726978 NOW! Only 10p per minute. BT-national-rate\\nham\\tI\\'m always looking for an excuse to be in the city.\\nham\\tYup i\\'m still having coffee wif my frens... My fren drove she\\'ll give me a lift...\\nham\\tO shore are you takin the bus\\nham\\tSo u gonna get deus ex?\\nham\\tI will send them to your email. Do you mind  &lt;#&gt;  times per night?\\nspam\\t44 7732584351, Do you want a New Nokia 3510i colour phone DeliveredTomorrow? With 300 free minutes to any mobile + 100 free texts + Free Camcorder reply or call 08000930705.\\nham\\ttap & spile at seven. * Is that pub on gas st off broad st by canal. Ok?\\nham\\tOk then i come n pick u at engin?\\nham\\tWhich is why i never wanted to tell you any of this. Which is why i\\'m so short with you and on-edge as of late.\\nham\\tRaviyog Peripherals bhayandar east\\nham\\tK actually can you guys meet me at the sunoco on howard? It should be right on the way\\nspam\\tYou have 1 new voicemail. Please call 08719181513.\\nham\\tMOON has come to color your dreams, STARS to make them musical and my SMS to give you warm and Peaceful Sleep. Good Night\\nham\\tJust finished eating. Got u a plate. NOT leftovers this time.\\nham\\tThanx a lot...\\nham\\tHurry home u big butt. Hang up on your last caller if u have to. Food is done and I\\'m starving. Don\\'t ask what I cooked.\\nham\\tLol your right. What diet? Everyday I cheat anyway. I\\'m meant to be a fatty :(\\nham\\tIts a great day. Do have yourself a beautiful one.\\nham\\tWhat happened in interview?\\nham\\tSolve d Case : A Man Was Found Murdered On  &lt;DECIMAL&gt; . &lt;#&gt;  AfterNoon. 1,His wife called Police. 2,Police questioned everyone. 3,Wife: Sir,I was sleeping, when the murder took place. 4.Cook: I was cooking. 5.Gardener: I was picking vegetables. 6.House-Maid: I went 2 d post office. 7.Children: We went 2 play. 8.Neighbour: We went 2 a marriage. Police arrested d murderer Immediately. Who\\'s It? Reply With Reason, If U r Brilliant.\\nham\\tBadrith is only for chennai:)i will surely pick for us:)no competition for him.\\nham\\tI tot it\\'s my group mate... Lucky i havent reply... Wat time do ü need to leave... \\nham\\tHey you around? I\\'ve got enough for a half + the ten I owe you\\nham\\tHey tmr maybe can meet you at yck\\nham\\tALRITE SAM ITS NIC JUST CHECKIN THAT THIS IS UR NUMBER-SO IS IT?T.B*\\nham\\tThey are just making it easy to pay back. I have  &lt;#&gt; yrs to say but i can pay back earlier. You get?\\nham\\tNot to worry. I\\'m sure you\\'ll get it.\\nham\\tThe gas station is like a block away from my house, you\\'ll drive right by it since armenia ends at swann and you have to take howard\\nspam\\tSomeone U know has asked our dating service 2 contact you! Cant Guess who? CALL 09058097189 NOW all will be revealed. POBox 6, LS15HB 150p \\nspam\\tCamera - You are awarded a SiPix Digital Camera! call 09061221066 fromm landline. Delivery within 28 days\\nham\\tMy tuition is at 330. Hm we go for the 1120 to 1205 one? Do you mind?\\nham\\tI\\'m not smoking while people use \"wylie smokes too much\" to justify ruining my shit\\nham\\tDear good morning how you feeling dear\\nham\\tA little. Meds say take once every 8 hours. It\\'s only been 5 but pain is back. So I took another. Hope I don\\'t die\\nham\\tBeautiful tomorrow never comes.. When it comes, it\\'s already TODAY.. In the hunt of beautiful tomorrow don\\'t waste your wonderful TODAY.. GOODMORNING:)\\nham\\tDunno lei ü all decide lor. How abt leona? Oops i tot ben is going n i msg him.\\nham\\tHi there. We have now moved in2 our pub . Would be great 2 c u if u cud come up.\\nspam\\tTodays Voda numbers ending 5226 are selected to receive a ?350 award. If you hava a match please call 08712300220 quoting claim code 1131 standard rates app \\nspam\\tThis message is free. Welcome to the new & improved Sex & Dogging club! To unsubscribe from this service reply STOP. msgs@150p 18 only\\nham\\tHoneybee Said: *I\\'m d Sweetest in d World* God Laughed &amp; Said: *Wait,U Havnt Met d Person Reading This Msg* MORAL: Even GOD Can Crack Jokes! GM+GN+GE+GN:)\\nham\\tJust do what ever is easier for you\\nspam\\tRCT\\' THNQ Adrian for U text. Rgds Vatian\\nham\\tStop calling everyone saying I might have cancer. My throat hurts to talk. I can\\'t be answering everyones calls. If I get one more call I\\'m not babysitting on Monday\\nham\\tIt\\'ll be tough, but I\\'ll do what I have to\\nham\\tIM GONNAMISSU SO MUCH!!I WOULD SAY IL SEND U A POSTCARD BUTTHERES ABOUTAS MUCH CHANCE OF MEREMEMBERIN ASTHERE IS OFSI NOT BREAKIN HIS CONTRACT!! LUV Yaxx\\nham\\tEe msg na poortiyagi odalebeku: Hanumanji 7 name 1-Hanuman 2-Bajarangabali 3-Maruti 4-Pavanaputra 5-Sankatmochan 6-Ramaduth 7-Mahaveer ee 7 name  &lt;#&gt;  janarige ivatte kalisidare next saturday olage ondu good news keluviri...! Maretare inde 1 dodda problum nalli siguviri idu matra  &lt;#&gt; % true.. Don\\'t neglet.\\nham\\tHI DARLIN I FINISH AT 3 DO U 1 2 PICK ME UP OR MEET ME? TEXT BACK ON THIS NUMBER LUV KATE XXX\\nham\\tSet a place for me in your heart and not in your mind, as the mind easily forgets but the heart will always remember. Wish you Happy Valentines Day!\\nham\\tBut i\\'m surprised she still can guess right lor...\\nham\\tOkie ü wan meet at bishan? Cos me at bishan now. I\\'m not driving today.\\nham\\tOh ho. Is this the first time u use these type of words\\nham\\tHI DARLIN HOW WAS WORK DID U GET INTO TROUBLE? IJUST TALKED TO YOUR MUM ALL MORNING! I HAD A REALLY GOOD TIME LAST NIGHT IM GOIN OUT SOON BUT CALL ME IF U CAN\\nham\\tI know you are serving. I mean what are you doing now.\\nham\\tHuh... Hyde park not in mel ah, opps, got confused... Anyway, if tt\\'s e best choice den we juz have to take it...\\nham\\tOh gei. That happend to me in tron. Maybe ill dl it in 3d when its out\\nspam\\tFREE MESSAGE Activate your 500 FREE Text Messages by replying to this message with the word FREE For terms & conditions, visit www.07781482378.com\\nham\\tI know girls always safe and selfish know i got it pa. Thank you. good night.\\nham\\tNo worries, hope photo shoot went well. have a spiffing fun at workage. \\nham\\tI\\'m freezing and craving ice. Fml\\nham\\tKay... Since we are out already \\nham\\tEh sorry leh... I din c ur msg. Not sad already lar. Me watching tv now. U still in office?\\nham\\tYo im right by yo work\\nham\\tOk darlin i supose it was ok i just worry too much.i have to do some film stuff my mate and then have to babysit again! But you can call me there.xx\\nham\\tShe said,\\'\\' do u mind if I go into the bedroom for a minute ? \\'\\' \\'\\'OK\\'\\', I sed in a sexy mood. She came out 5 minuts latr wid a cake...n My Wife,\\nham\\tI don wake since. I checked that stuff and saw that its true no available spaces. Pls call the embassy or send a mail to them.\\nham\\tNope... Juz off from work...\\nham\\tHuh so fast... Dat means u havent finished painting?\\nham\\t what number do u live at? Is it 11?\\nham\\tNo we put party 7 days a week and study lightly, I think we need to draw in some custom checkboxes so they know we\\'re hardcore\\nham\\tSac will score big hundred.he is set batsman:-)\\nham\\tSend me yetty\\'s number pls.\\nham\\tHow much it will cost approx . Per month.\\nham\\tOk... The theory test? when are ü going to book? I think it\\'s on 21 may. Coz thought wanna go out with jiayin. But she isnt free\\nspam\\tYou are being contacted by our dating service by someone you know! To find out who it is, call from a land line 09050000928. PoBox45W2TG150P\\nham\\tThat\\'s fine, have him give me a call if he knows what he wants or has any questions\\nham\\tSorry, got a late start, we\\'re on the way\\nham\\tThen u go back urself lor...\\nham\\tI AM AT THE GAS STATION. GO THERE.\\nham\\tK, if u bored up just come to my home..\\nham\\tBabe !!!! I LOVE YOU !!!! *covers your face in kisses*\\nham\\tLike I made him throw up when we were smoking in our friend\\'s car one time, it was awesome\\nham\\tStill i have not checked it da. . .\\nham\\tYou will go to walmart. I.ll stay.\\nham\\tI haven\\'t forgotten you, i might have a couple bucks to send you tomorrow, k? I love ya too\\nham\\tOh great. I.ll disturb him more so that we can talk.\\nham\\tReverse is cheating. That is not mathematics.\\nham\\tU\\'re welcome... Caught u using broken english again...\\nham\\tNo problem baby. Is this is a good time to talk? I called and left a message.\\nham\\tSorry, I\\'ll call later\\nham\\tOh is it! Which brand?\\nham\\tSorry i cant take your call right now. It so happens that there r 2waxsto do wat you want. She can come and ill get her medical insurance. And she\\'ll be able to deliver and have basic care. I\\'m currently shopping for the right medical insurance for her. So just give me til friday morning. Thats when i.ll see the major person that can guide me to the right insurance.\\nham\\tAt what time are you coming.\\nham\\tCall him and say you not coming today ok and tell them not to fool me like this ok\\nham\\tI emailed yifeng my part oredi.. Can ü get it fr him..\\nham\\tR u sure they\\'ll understand that! Wine * good idea just had a slurp!\\nham\\tMinimum walk is 3miles a day.\\nham\\tOk not a problem will get them a taxi. C ing  tomorrow and tuesday. On tuesday think we r all going to the cinema. \\nham\\tBrainless Baby Doll..:-D;-), vehicle sariyag drive madoke barolla..\\nham\\tI don\\'t run away frm u... I walk slowly &amp; it kills me that u don\\'t care enough to stop me...\\nspam\\tSorry I missed your call let\\'s talk when you have the time. I\\'m on 07090201529\\nham\\tPlease attend the phone:)\\nham\\tYou only hate me. You can call any but you didnt accept even a single call of mine. Or even you messaged\\nham\\tNo messages on her phone. I\\'m holding it now\\nham\\tCan... I\\'m free...\\nham\\tYo my trip got postponed, you still stocked up?\\nham\\tSorry, I\\'ll call later\\nham\\tI am waiting for your call sir.\\nham\\tHey what are you doing. Y no reply pa..\\nham\\tHey elaine, is today\\'s meeting still on?\\nham\\tSorry i\\'ve not gone to that place. I.ll do so tomorrow. Really sorry.\\nham\\tMost of the tiime when i don\\'t let you hug me it\\'s so i don\\'t break into tears.\\nham\\tTomorrow i am not going to theatre. . . So i can come wherever u call me. . . Tell me where and when to come tomorrow\\nham\\tAnd now electricity just went out fml.\\nham\\tLooks like you found something to do other than smoke, great job!\\nham\\tAlso andros ice etc etc\\nham\\t:) \\nham\\tGood afternon, my love. How are today? I hope your good and maybe have some interviews. I wake and miss you babe. A passionate kiss from across the sea\\nham\\tYup. Wun believe wat? U really neva c e msg i sent shuhui?\\nham\\tHows that watch resizing\\nham\\tDear umma she called me now :-)\\nham\\tJust finished. Missing you plenty\\nspam\\tcomplimentary 4 STAR Ibiza Holiday or £10,000 cash needs your URGENT collection. 09066364349 NOW from Landline not to lose out! Box434SK38WP150PPM18+\\nham\\tWell, I meant as opposed to my drunken night of before\\nham\\tK... Must book a not huh? so going for yoga basic on sunday?\\nspam\\tFREE MSG:We billed your mobile number by mistake from shortcode 83332.Please call 08081263000 to have charges refunded.This call will be free from a BT landline\\nham\\tOk can...\\nham\\tOops - am at my mum\\'s in somerset... Bit far! Back tomo, see you soon x\\nham\\tSo u workin overtime nigpun?\\nham\\tSame as kallis dismissial in 2nd test:-).\\nham\\tO. Guess they both got screwd\\nspam\\tPlease CALL 08712402972 immediately as there is an urgent message waiting for you\\nham\\tI\\'m in a meeting, call me later at\\nham\\tWhat r u cooking me for dinner?\\nham\\tOk thanx...\\nham\\tBull. Your plan was to go floating off to IKEA with me without a care in the world. So i have to live with your mess another day.\\nham\\tThen i buy.\\nspam\\tURGENT! Your Mobile number has been awarded with a £2000 Bonus Caller Prize. Call 09058095201 from land line. Valid 12hrs only\\nham\\tHeehee that was so funny tho\\nham\\tIt only does simple arithmetic not percentages.\\nham\\tYeah we wouldn\\'t leave for an hour at least, how\\'s 4 sound?\\nspam\\tAs a valued customer, I am pleased to advise you that following recent review of your Mob No. you are awarded with a £1500 Bonus Prize, call 09066364589\\nham\\tThanks honey. Have a great day.\\nham\\t\\'An Amazing Quote\\'\\' - \"Sometimes in life its difficult to decide whats wrong!! a lie that brings a smile or the truth that brings a tear....\"\\nham\\tGood night my dear.. Sleepwell&amp;Take care\\nham\\tThen ü ask dad to pick ü up lar... Ü wan 2 stay until 6 meh...\\nham\\tJus chillaxin, what up\\nham\\t\"HEY DAS COOL... IKNOW ALL 2 WELLDA PERIL OF STUDENTFINANCIAL CRISIS!SPK 2 U L8R.\"\\nham\\tBeautiful Truth against Gravity.. Read carefully: \"Our heart feels light when someone is in it.. But it feels very heavy when someone leaves it..\" GOODMORNING\\nspam\\tDo you want a New Nokia 3510i colour phone DeliveredTomorrow? With 300 free minutes to any mobile + 100 free texts + Free Camcorder reply or call 08000930705\\nham\\tWhats that coming over the hill..... Is it a monster! Hope you have a great day. Things r going fine here, busy though! \\nham\\tJoy\\'s father is John. Then John is the ____ of Joy\\'s father. If u ans ths you hav  &lt;#&gt;  IQ. Tis s IAS question try to answer.\\nham\\tOnly once then after ill obey all yours.\\nham\\tNo she didnt. I will search online and let you know.\\nham\\tWhere do you need to go to get it?\\nham\\tNo pic. Please re-send.\\nham\\tHe remains a bro amongst bros\\nham\\tUhhhhrmm isnt having tb test bad when youre sick\\nham\\tBut i haf enuff space got like 4 mb...\\nspam\\tLIFE has never been this much fun and great until you came in. You made it truly special for me. I won\\'t forget you! enjoy @ one gbp/sms\\nspam\\tDo you want a new Video phone? 600 anytime any network mins 400 Inclusive Video calls AND downloads 5 per week Free delTOMORROW call 08002888812 or reply NOW\\nspam\\tAs a valued customer, I am pleased to advise you that following recent review of your Mob No. you are awarded with a £1500 Bonus Prize, call 09066368470\\nspam\\tWelcome! Please reply with your AGE and GENDER to begin. e.g 24M\\nspam\\tFreemsg: 1-month unlimited free calls! Activate SmartCall Txt: CALL to No: 68866. Subscriptn3gbp/wk unlimited calls Help: 08448714184 Stop?txt stop landlineonly\\nspam\\tHad your mobile 10 mths? Update to latest Orange camera/video phones for FREE. Save £s with Free texts/weekend calls. Text YES for a callback orno to opt out\\nspam\\tAm new 2 club & dont fink we met yet Will B gr8 2 C U Please leave msg 2day wiv ur area 09099726553 reply promised CARLIE x Calls£1/minMobsmore LKPOBOX177HP51FL\\nham\\tTrue. Its easier with her here.\\nham\\tSure but since my parents will be working on Tuesday I don\\'t really need a cover story\\nham\\tHaha okay... Today weekend leh... \\nham\\t\"Hi darlin did youPhone me? Im atHome if youwanna chat.\"\\nham\\tI don\\'t know jack shit about anything or i\\'d say/ask something helpful but if you want you can pretend that I did and just text me whatever in response to the hypotheticalhuagauahahuagahyuhagga\\nham\\tYou\\'ve always been the brainy one.\\nham\\tYeah if we do have to get a random dude we need to change our info sheets to PARTY  &lt;#&gt; /7 NEVER STUDY just to be safe\\nspam\\tCamera - You are awarded a SiPix Digital Camera! call 09061221066 fromm landline. Delivery within 28 days.\\nham\\tChristmas is An occasion that is Celebrated as a Reflection of UR... Values..., Desires..., Affections...&amp; Traditions.... Have an ideal Christmas...\\nham\\tSending you greetings of joy and happiness. Do have a gr8 evening\\nham\\t\"Hi darlin i cantdo anythingtomorrow as myparents aretaking me outfor a meal. when are u free? Katexxx\"\\nham\\tIf india win or level series means this is record:)\\nham\\tThen what about further plan?\\nham\\tIts good to hear from you\\nham\\tawesome, how do I deal with the gate? Charles told me last night but, uh, yeah\\nham\\tWhat time you thinkin of goin?\\nspam\\tGet a FREE mobile video player FREE movie. To collect text GO to 89105. Its free! Extra films can be ordered t\\'s and c\\'s apply. 18 yrs only\\nspam\\tSave money on wedding lingerie at www.bridal.petticoatdreams.co.uk Choose from a superb selection with national delivery. Brought to you by WeddingFriend\\nham\\tYour board is working fine. The issue of overheating is also reslove. But still software inst is pending. I will come around 8\\'o clock.\\nham\\tYes but I don\\'t care cause I know its there!\\nham\\twiskey Brandy Rum Gin Beer Vodka Scotch Shampain Wine \"KUDI\"yarasu dhina vaazhthukkal. ..\\nham\\tMon okie lor... Haha, best is cheap n gd food la, ex oso okie... Depends on whether wana eat western or chinese food... Den which u prefer... \\nham\\tSitting ard nothing to do lor. U leh busy w work?\\nham\\tIts  &lt;#&gt; k here oh. Should i send home for sale.\\nham\\tSorry. || mail? || \\nham\\tYa just telling abt tht incident..\\nham\\tYes we were outside for like 2 hours. And I called my whole family to wake them up cause it started at 1 am\\nham\\tUgh just got outta class\\nham\\tNowadays people are notixiquating the laxinorficated opportunity for bambling of entropication.... Have you ever oblisingately opted ur books for the masteriastering amplikater of fidalfication? It is very champlaxigating, i think it is atrocious.. Wotz Ur Opinion???? Junna\\nham\\tI dont have any of your file in my bag..i was in work when you called me.i \\'ll tell you if i find anything in my room.\\nham\\tNo need lar. Jus testing e phone card. Dunno network not gd i thk. Me waiting 4 my sis 2 finish bathing so i can bathe. Dun disturb u liao u cleaning ur room.\\nham\\tOk. I.ll do you right later.\\nham\\tFriendship poem: Dear O Dear U R Not Near But I Can Hear Dont Get Fear Live With Cheer No More Tear U R Always my Dear. Gud ni8\\nham\\tHave your lunch and come quickly and open the door:)\\nspam\\tNot heard from U4 a while. Call me now am here all night with just my knickers on. Make me beg for it like U did last time 01223585236 XX Luv Nikiyu4.net\\nham\\tI am back. Bit long cos of accident on a30. Had to divert via wadebridge.I had a brilliant weekend thanks. Speak soon. Lots of love\\nham\\tK.. I yan jiu liao... Sat we can go 4 bugis vill one frm 10 to 3 den hop to parco 4 nb. Sun can go cine frm 1030 to 2, den hop to orc mrt 4 hip hop at 4...\\nspam\\tBloomberg -Message center +447797706009 Why wait? Apply for your future http://careers. bloomberg.com\\nham\\ti am seeking a lady in the street and a freak in the sheets. Is that you?\\nham\\tMy phone\\nham\\tHaha figures, well I found the piece and priscilla\\'s bowl\\nham\\tActually fuck that, just do whatever, do find an excuse to be in tampa at some point before january though\\nspam\\tURGENT! We are trying to contact U. Todays draw shows that you have won a £800 prize GUARANTEED. Call 09050001808 from land line. Claim M95. Valid12hrs only\\nham\\tyay! finally lol. i missed our cinema trip last week :-(\\nham\\tAll day working day:)except saturday and sunday..\\nham\\taathi..where are you dear..\\nham\\tHeart is empty without love.. Mind is empty without wisdom.. Eyes r empty without dreams &amp; Life is empty without frnds.. So Alwys Be In Touch. Good night &amp; sweet dreams\\nham\\tI think I‘m waiting for the same bus! Inform me when you get there, if you ever get there.\\nham\\tYou getting back any time soon?\\nham\\t, how\\'s things? Just a quick question.\\nham\\tNight has ended for another day, morning has come in a special way. May you smile like the sunny rays and leaves your worries at the blue blue bay. Gud mrng\\nham\\tI can probably come by, everybody\\'s done around  &lt;#&gt;  right?\\nham\\tI got it before the new year cos yetunde said she wanted to surprise you with it but when i didnt see money i returned it mid january before the  &lt;#&gt; day return period ended.\\nham\\tI can ask around but there\\'s not a lot in terms of mids up here\\nham\\tBe sure to check your yahoo email. We sent photos yesterday\\nham\\tWhat was she looking for?\\nham\\tWherre\\'s my boytoy ? :-(\\nspam\\tDo you want a NEW video phone750 anytime any network mins 150 text for only five pounds per week call 08000776320 now or reply for delivery tomorrow\\nham\\tHello, my love! How goes that day ? I wish your well and fine babe and hope that you find some job prospects. I miss you, boytoy ... *a teasing kiss*\\nham\\tTell my  bad character which u Dnt lik in me. I\\'ll try to change in  &lt;#&gt; . I ll add tat 2 my new year resolution. Waiting for ur reply.Be frank...good morning.\\nham\\tNo:-)i got rumour that you going to buy apartment in chennai:-)\\nham\\tYeah, probably earlier than that\\nham\\tChange windows logoff sound..\\nham\\tStill i have not checked it da. . .\\nham\\tI\\'m also came to room.\\nham\\tHuh but i got lesson at 4 lei n i was thinkin of going to sch earlier n i tot of parkin at kent vale...  \\nham\\tOk.\\nham\\tI will reach office around  &lt;DECIMAL&gt; . &amp; my mobile have problem. You cann\\'t get my voice. So call you asa i\\'ll free\\nham\\tCool, text me when you head out\\nspam\\tYou are being contacted by our dating service by someone you know! To find out who it is, call from a land line 09050000878. PoBox45W2TG150P\\nspam\\tWan2 win a Meet+Greet with Westlife 4 U or a m8? They are currently on what tour? 1)Unbreakable, 2)Untamed, 3)Unkempt. Text 1,2 or 3 to 83049. Cost 50p +std text\\nham\\tHappy birthday... May u find ur prince charming soon n dun work too hard...\\nham\\tOh, the grand is having a bit of a party but it doesn\\'t mention any cover charge so it\\'s probably first come first served\\nham\\tYou said to me before i went back to bed that you can\\'t sleep for anything.\\nham\\tI hope you arnt pissed off but id would really like to see you tomorrow. Love me xxxxxxxxxxxxxX\\nspam\\tDorothy@kiefer.com (Bank of Granite issues Strong-Buy) EXPLOSIVE PICK FOR OUR MEMBERS *****UP OVER 300% *********** Nasdaq Symbol CDGT That is a $5.00 per..\\nham\\tsays the  &lt;#&gt;  year old with a man and money. I\\'m down to my last  &lt;#&gt; . Still waiting for that check.\\nham\\tI will come to ur home now\\nham\\tFree any day but i finish at 6 on mon n thurs...\\nham\\tWill you be here for food\\nham\\tlife alle mone,eppolum oru pole allalo\\nham\\tNite...\\nham\\tTwo fundamentals of cool life: \"Walk, like you are the KING\"...! OR \"Walk like you Dont care,whoever is the KING\"!... Gud nyt\\nham\\tCamera quite good, 10.1mega pixels, 3optical and 5digital dooms. Have a lovely holiday, be safe and i hope you hav a good journey! Happy new year to you both! See you in a couple of weeks! \\nham\\tHi Petey!noi\\x92m ok just wanted 2 chat coz avent spoken 2 u 4 a long time-hope ur doin alrite.have good nit at js love ya am.x\\nham\\tI just saw ron burgundy captaining a party boat so yeah\\nham\\tI\\'m serious. You are in the money base\\nham\\tAlready one guy loving you:-.\\nham\\tStaff of placement training in Amrita college.\\nham\\tI always chat with you. In fact i need money can you raise me?\\nham\\tI\\'m job profile seems like bpo..\\nham\\tWell, I was about to give up cos they all said no they didn‘t do one nighters. I persevered and found one but it is very cheap so i apologise in advance. It is just somewhere to sleep isnt it?\\nham\\tSo you think i should actually talk to him? Not call his boss in the morning? I went to this place last year and he told me where i could go and get my car fixed cheaper. He kept telling me today how much he hoped i would come back in, how he always regretted not getting my number, etc.\\nham\\tAre you willing to go for apps class.\\nham\\tHanging out with my brother and his family\\nham\\tNo it will reach by 9 only. She telling she will be there. I dont know\\nham\\tHey... are you going to quit soon? Xuhui and i working till end of the month \\nham\\tIm sorry bout last nite it wasn\\x92t ur fault it was me, spouse it was pmt or sumthin! U 4give me? I think u shldxxxx\\nham\\tTry neva mate!!\\nham\\tYeah that\\'d pretty much be the best case scenario\\nham\\tI not free today i haf 2 pick my parents up tonite...\\nham\\t\"HEY BABE! FAR 2 SPUN-OUT 2 SPK AT DA MO... DEAD 2 DA WRLD. BEEN SLEEPING ON DA SOFA ALL DAY, HAD A COOL NYTHO, TX 4 FONIN HON, CALL 2MWEN IM BK FRMCLOUD 9! J X\"\\nham\\tShould i send you naughty pix? :)\\nspam\\tYou are a £1000 winner or Guaranteed Caller Prize, this is our Final attempt to contact you! To Claim Call 09071517866 Now! 150ppmPOBox10183BhamB64XE\\nspam\\tXmas & New Years Eve tickets are now on sale from the club, during the day from 10am till 8pm, and on Thurs, Fri & Sat night this week. They\\'re selling fast!\\nham\\tTyler (getting an 8th) has to leave not long after 9, can you get here in like an hour?\\nham\\tPrepare to be pounded every night...\\nham\\tActually, my mobile is full of msg. And i m doing a work online, where i need to send them  &lt;#&gt;  sent msg i wil explain u later.\\nham\\tSorry, I\\'ll call later\\nham\\tGood evening! How are you?\\nham\\tI\\'m at home. Please call\\nham\\tOic cos me n my sis got no lunch today my dad went out... So dunno whether 2 eat in sch or wat...\\nham\\tMmmmm ... It was sooooo good to wake to your words this morning, my Love!! Mmmm fuck ... I love you too, my Lion ... *devouring kiss from across the sea*\\nham\\tWe are pleased to inform that your application for Airtel Broadband is processed successfully. Your installation will happen within 3 days.\\nham\\tWhat happen dear. Why you silent. I am tensed\\nham\\tI\\'ll get there at 3, unless you guys want me to come some time sooner\\nham\\tIf you are not coughing then its nothing\\nham\\tÜ come lt 25 n pass to me lar\\nham\\tI\\'m e person who\\'s doing e sms survey...\\nham\\tLol ok ill try to send. Be warned Sprint is dead slow. You\\'ll prolly get it tomorrow\\nham\\tThank You meet you monday\\nham\\tSO IS TH GOWER MATE WHICH IS WHERE I AM!?! HOW R U MAN? ALL IS GOOD IN WALES ILL B BACK \\x91MORROW. C U THIS WK? WHO WAS THE MSG 4? \\x96 RANDOM!\\nspam\\tRock yr chik. Get 100\\'s of filthy films &XXX pics on yr phone now. rply FILTH to 69669. Saristar Ltd, E14 9YT 08701752560. 450p per 5 days. Stop2 cancel\\nham\\tSingle line with a big meaning::::: \"Miss anything 4 ur \"Best Life\" but, don\\'t miss ur best life for anything... Gud nyt...\\nham\\tI got like $ &lt;#&gt; , I can get some more later though. Get whatever you feel like\\nham\\tDad wanted to talk about the apartment so I got a late start, omw now\\nham\\tI love you both too :-)\\nham\\tLol u still feeling sick?\\nham\\tDin i tell u jus now 420\\nham\\tam up to my eyes in philosophy\\nspam\\tFrom next month get upto 50% More Calls 4 Ur standard network charge 2 activate Call 9061100010 C Wire3.net 1st4Terms PoBox84 M26 3UZ Cost £1.50 min MobcudB more\\nham\\tOk lor. I\\'m in town now lei.\\nham\\tI had it already..sabarish asked me to go..\\nham\\tNo da. . Vijay going to talk in jaya tv\\nspam\\tURGENT! We are trying to contact U Todays draw shows that you have won a £800 prize GUARANTEED. Call 09050000460 from land line. Claim J89. po box245c2150pm\\nham\\tLol I know! Hey someone did a great inpersonation of flea on the forums. I love it!\\nspam\\tText BANNEDUK to 89555 to see! cost 150p textoperator g696ga 18+ XXX\\nham\\tStill chance there. If you search hard you will get it..let have a try :)\\nspam\\tAuction round 4. The highest bid is now £54. Next maximum bid is £71. To bid, send BIDS e. g. 10 (to bid £10) to 83383. Good luck.\\nham\\tDo you always celebrate NY\\'s with your family ?\\nham\\tWe know TAJ MAHAL as symbol of love. But the other lesser known facts 1. Mumtaz was Shahjahan\\'s 4th wife, out of his 7 wifes. 2. Shahjahan killed Mumtaz\\'s husband to marry her. 3. Mumtaz died in her  &lt;#&gt; th delivery. 4. He then married Mumtaz\\'s sister. Question arises where the Hell is the LOVE?:-| -The Great Hari-\\nham\\tIts ok..come to my home it vl nice to meet and v can chat..\\nspam\\tCollect your VALENTINE\\'S weekend to PARIS inc Flight & Hotel + £200 Prize guaranteed! Text: PARIS to No: 69101. www.rtf.sphosting.com\\nham\\tSent me de webadres for geting salary slip\\nham\\tShe\\'s fine. Sends her greetings\\nspam\\tCustomer Loyalty Offer:The NEW Nokia6650 Mobile from ONLY £10 at TXTAUCTION! Txt word: START to No: 81151 & get yours Now! 4T&Ctxt TC 150p/MTmsg\\nham\\tBut you dint in touch with me.\\nham\\tYup, leaving right now, be back soon\\nspam\\tYou won\\'t believe it but it\\'s true. It\\'s Incredible Txts! Reply G now to learn truly amazing things that will blow your mind. From O2FWD only 18p/txt\\nham\\tYeah sure I\\'ll leave in a min\\nham\\tAnd do you have any one that can teach me how to ship cars.\\nham\\tThe sign of maturity is not when we start saying big things.. But actually it is, when we start understanding small things... *HAVE A NICE EVENING* BSLVYL\\nham\\tYeah confirmed for you staying at  that weekend\\nham\\tThey said ü dun haf passport or smth like dat.. Or ü juz send to my email account..  \\nham\\tMultiply the numbers independently and count decimal points then, for the division, push the decimal places like i showed you.\\nham\\tHave a lovely night and when you wake up to see this message, i hope you smile knowing all is as should be. Have a great morning\\nham\\tArd 4 lor...\\nham\\tYou are right. Meanwhile how\\'s project twins comin up\\nham\\tI sent your maga that money yesterday oh.\\nspam\\tHi 07734396839 IBH Customer Loyalty Offer: The NEW NOKIA6600 Mobile from ONLY £10 at TXTAUCTION!Txt word:START to No:81151 & get Yours Now!4T&\\nham\\tHeart is empty without love.. Mind is empty without wisdom.. Eyes r empty without dreams &amp; Life is empty without frnds.. So Alwys Be In Touch. Good night &amp; sweet dreams\\nspam\\tI am hot n horny and willing I live local to you - text a reply to hear strt back from me 150p per msg Netcollex LtdHelpDesk: 02085076972 reply Stop to end\\nham\\tOur ride equally uneventful - not too many of those pesky cyclists around at that time of night ;).\\nham\\tIf you were/are free i can give. Otherwise nalla adi entey nattil kittum\\nham\\tI\\'ve sent my wife your text. After we buy them she\\'ll tell you what to do. So just relax. We should go get them this wkend.\\nham\\tI am in escape theatre now. . Going to watch KAVALAN in a few minutes\\nham\\tHow much would it cost to hire a hitman\\nham\\tI anything lor...\\nham\\tSorry, I\\'ll call later\\nspam\\tDo you want a New Nokia 3510i Colour Phone Delivered Tomorrow? With 200 FREE minutes to any mobile + 100 FREE text + FREE camcorder Reply or Call 08000930705\\nham\\tHuh but i cant go 2 ur house empty handed right?\\nham\\tGood morning princess! Happy New Year!\\nspam\\tCongratulations YOU\\'VE Won. You\\'re a Winner in our August £1000 Prize Draw. Call 09066660100 NOW. Prize Code 2309.\\nham\\tAight, we\\'ll head out in a few\\nham\\tThen wat r u doing now? Busy wif work?\\nham\\tI know you mood off today\\nham\\tJay told me already, will do\\nham\\tCps is causing the outages to conserve energy.\\nham\\tI\\'m not sure, I was just checking out what was happening around the area\\nham\\tHey morning what you come to ask:-) pa...\\nham\\tJordan got voted out last nite!\\nham\\tThat means you got an A in epi, she.s fine. She.s here now.\\nham\\tI have no idea where you are\\nham\\tPls come quick cant bare this.\\nham\\tJoy\\'s father is John. Then John is the ____ of Joy\\'s father. If u ans ths you hav  &lt;#&gt;  IQ. Tis s IAS question try to answer.\\nham\\tCall me. I m unable to cal. Lets meet bhaskar, and deep\\nham\\tNo. I.ll meet you in the library\\nham\\tK, my roommate also wants a dubsack and another friend may also want some so plan on bringing extra, I\\'ll tell you when they know for sure\\nham\\tDepends on individual lor e hair dresser say pretty but my parents say look gong. U kaypoh.. I also dunno wat she collecting.\\nham\\tOk c ü then.\\nham\\tI enjoy watching and playing football and basketball. Anything outdoors. And you?\\nham\\tCan you please ask macho what his price range is, does he want something new or used plus it he only interfued in the blackberry bold  &lt;#&gt;  or any bb\\nham\\tSorry sent blank msg again. Yup but trying 2 do some serious studying now.\\nham\\tHey check it da. I have listed da.\\nspam\\t8007 25p 4 Alfie Moon\\'s Children in Need song on ur mob. Tell ur m8s. Txt TONE CHARITY to 8007 for nokias or POLY CHARITY for polys :zed 08701417012 profit 2 charity \\nham\\tI meant as an apology from me for texting you to get me drugs at  &lt;#&gt; at night\\nham\\tThat means from february to april i\\'ll be getting a place to stay down there so i don\\'t have to hustle back and forth during audition season as i have since my sister moved away from harlem.\\nham\\tGoin to workout lor... Muz lose e fats... \\nham\\tDamn, poor zac doesn\\'t stand a chance\\nham\\tNo message..no responce..what happend?\\nham\\tI want to tel u one thing u should not mistake me k THIS IS THE MESSAGE THAT YOU SENT:)\\nham\\tYeah right! I\\'ll bring my tape measure fri!\\nham\\tStill chance there. If you search hard you will get it..let have a try :)\\nham\\tMeeting u is my work. . . Tel me when shall i do my work tomorrow\\nham\\tShould I head straight there or what\\nspam\\tGet the official ENGLAND poly ringtone or colour flag on yer mobile for tonights game! Text TONE or FLAG to 84199. Optout txt ENG STOP Box39822 W111WX £1.50\\nham\\tThank you princess! You are so sexy...\\nham\\tOooh I got plenty of those!\\nham\\tHui xin is in da lib.\\nham\\tIts a big difference.  &lt;#&gt;  versus  &lt;#&gt;  every  &lt;#&gt; hrs\\nham\\tIt\\'s not that you make me cry. It\\'s just that when all our stuff happens on top of everything else, it pushes me over the edge. You don\\'t underdtand how often i cry over my sorry, sorry life.\\nham\\t\"ME 2 BABE I FEEL THE SAME LETS JUST 4GET ABOUT IT+BOTH TRY +CHEER UP+NOT FIT SOO MUCHXXLOVE U LOCAXX\"\\nham\\tYou know what hook up means right?\\nspam\\tCustomer service announcement. We recently tried to make a delivery to you but were unable to do so, please call 07090298926 to re-schedule. Ref:9307622\\nham\\tWat\\'s da model num of ur phone?\\nham\\tHe\\'s really into skateboarding now despite the fact that he gets thrown off of it and winds up with bandages and shit all over his arms every five minutes\\nspam\\tYou can stop further club tones by replying \"STOP MIX\" See my-tone.com/enjoy. html for terms. Club tones cost GBP4.50/week. MFL, PO Box 1146 MK45 2WT (2/3)\\nham\\tMy house here e sky quite dark liao... If raining then got excuse not 2 run already rite... Hee...\\nham\\tSorry, left phone upstairs. OK, might be hectic but would be all my birds with one fell swoop. It\\'s a date.\\nham\\t* Thought I didn\\'t see you.\\nspam\\twamma get laid?want real doggin locations sent direct to your mobile? join the UKs largest dogging network. txt dogs to 69696 now!nyt. ec2a. 3lp £1.50/msg.\\nham\\tCarlos says we can pick up from him later so yeah we\\'re set\\nham\\tHey babe, my friend had to cancel, still up for a visit ?\\nham\\tAs per your request \\'Maangalyam (Alaipayuthe)\\' has been set as your callertune for all Callers. Press *9 to copy your friends Callertune\\nham\\tHmm ill have to think about it... ok you\\'re forgiven! =D\\nham\\tWe are hoping to get away by 7, from Langport. You still up for town tonight?\\nham\\tWant to send me a virtual hug?... I need one\\nham\\tProbably not, still going over some stuff here\\nham\\tIt has issues right now. Ill fix for her by tomorrow.\\nham\\tWhy i come in between you people\\nham\\tSenthil group company Apnt 5pm.\\nham\\tOh really?? Did you make it on air? What\\'s your talent?\\nham\\tStudying. But i.ll be free next weekend.\\nham\\tR u here yet? I\\'m wearing blue shirt n black pants.\\nham\\tWait.i will come out.. &lt;#&gt;  min:)\\nham\\tI will reach ur home in  &lt;#&gt;  minutes\\nham\\tWell then you have a great weekend!\\nham\\tWhat are you doing in langport? Sorry, but I\\'ll probably be in bed by 9pm. It sucks being ill at xmas! When do you and go2sri lanka? \\nham\\tFrnd s not juz a word.....not merely a relationship.....its a silent promise which says ... \" I will be with YOU \" Wherevr.. Whenevr.. Forevr... Gudnyt dear..\\nham\\tHuh? 6 also cannot? Then only how many mistakes?\\nham\\tHa... U jus ate honey ar? So sweet...\\nham\\tI\\'m turning off my phone. My moms telling everyone I have cancer. And my sister won\\'t stop calling. It hurts to talk. Can\\'t put up with it. See u when u get home. Love u\\nham\\tHoney ? Sweetheart ? Darling ? Sexy buns ? Sugar plum ? Loverboy ? I miss you, boytoy ... *smacks your ass* Did you go to the gym too ?\\nham\\tThanks for loving me so. You rock\\nham\\tYeah imma come over cause jay wants to do some drugs\\nham\\tOk thanx... Take care then...\\nham\\tYup. Thk of u oso boring wat.\\nham\\t came to look at the flat, seems ok, in his 50s? * Is away alot wiv work. Got woman coming at 6.30 too.\\nham\\tMoji just informed me that you saved our lives. Thanks.\\nspam\\tYou have won a Nokia 7250i. This is what you get when you win our FREE auction. To take part send Nokia to 86021 now. HG/Suite342/2Lands Row/W1JHL 16+\\nham\\tWhos this am in class:-)\\nham\\tHey r ü still online? I\\'ve finished the formatting...\\nham\\tGreat! So what attracts you to the brothas?\\nspam\\tPromotion Number: 8714714 - UR awarded a City Break and could WIN a £200 Summer Shopping spree every WK. Txt STORE to 88039 . SkilGme. TsCs087147403231Winawk!Age16 £1.50perWKsub\\nham\\tStupid.its not possible\\nham\\tI cant pick the phone right now. Pls send a message\\nham\\tLOL what happens in Vegas stays in vegas\\nham\\tHello, hello, hi lou sorry it took so long 2 reply- I left mobile at friends in Lancaster, just got it bak Neway im sorry I couldn\\x92t make ur b\\x92day 2 hun!\\nham\\tWhen did i use soc... I use it only at home... Ü dunno how 2 type it in word ar...\\nham\\tDad says hurry the hell up\\nham\\tWake me up at  &lt;#&gt;  am morning:)\\nham\\tI get out of class in bsn in like  &lt;#&gt;  minutes, you know where advising is?\\nham\\tGreat! I shoot big loads so get ready!\\nham\\tI\\'ll meet you in the lobby\\nham\\tYou still coming tonight?\\nham\\tWhat happen dear tell me\\nham\\tSir, i am waiting for your call, once free please call me.\\nham\\tNo i am not having not any movies in my laptop\\nham\\tI was about to do it when i texted. I finished a long time ago and showered and er\\'ything!\\nham\\tOk im not sure what time i finish tomorrow but i wanna spend the evening with you cos that would be vewy vewy lubly! Love me xxx\\nham\\tHello, As per request from  &lt;#&gt;  Rs.5 has been transfered to you\\nham\\tI am in tirupur.  call you da.\\nspam\\tYou are a winner you have been specially selected to receive £1000 cash or a £2000 award. Speak to a live operator to claim call 087147123779am-7pm. Cost 10p\\nham\\tS:)but he had some luck.2 catches put down:)\\nham\\tHow i noe... Did ü specify da domain as nusstu... Ü still in sch...\\nham\\tOh...i asked for fun. Haha...take care. ü\\nham\\tShall i get my pouch?\\nham\\tHey loverboy! I love you !! I had to tell ... I look at your picture and ache to feel you between my legs ... Fuck I want you ... I need you ... I crave you .\\nham\\tHow is my boy? No sweet words left for me this morning ... *sighs* ... How goes you day, my love ? Did you start your studying?\\nham\\tKent vale lor... Ü wait 4 me there ar?\\nham\\tOk. Very good. Its all about making that money.\\nham\\tReading gud habit.. Nan bari hudgi yorge pataistha ertini kano:-)\\nham\\tAight do you still want to get money\\nspam\\tFree Top ringtone -sub to weekly ringtone-get 1st week free-send SUBPOLY to 81618-?3 per week-stop sms-08718727870\\nham\\tOk.ok ok..then..whats ur todays plan\\nham\\tARE YOU IN TOWN? THIS IS V. IMPORTANT\\nham\\tSorry pa, i dont knw who ru pa?\\nham\\tWat u doing there?\\nham\\tIf i not meeting ü all rite then i\\'ll go home lor. If ü dun feel like comin it\\'s ok.\\nham\\tOh, i will get paid. The most outstanding one is for a commercial i did for Hasbro...in AUGUST! They made us jump through so many hoops to get paid. Still not.\\nham\\tI am late,so call you tomorrow morning.take care sweet dreams....u and me...ummifying...bye.\\nham\\tNetworking technical support associate.\\nham\\tI\\'m gonna rip out my uterus.\\nham\\tCool. Do you like swimming? I have a pool and jacuzzi at my house.\\nspam\\tThanks for your ringtone order, reference number X49. Your mobile will be charged 4.50. Should your tone not arrive please call customer services 09065989182. From: [colour=red]text[/colour]TXTstar\\nham\\tYeah why not, is the gang all ready\\nham\\tBlank is Blank. But wat is blank? Lol\\nham\\tI\\'m in a movie... Collect car oredi...\\nham\\tWe left already we at orchard now.\\nspam\\tHi there, 2nights ur lucky night! Uve been invited 2 XCHAT, the Uks wildest chat! Txt CHAT to 86688 now! 150p/MsgrcvdHG/Suite342/2Lands/Row/W1J6HL LDN 18yrs\\nham\\tNothing spl..wat abt u and whr ru?\\nham\\tNo chikku nt yet.. Ya i\\'m free\\nham\\tAldrine, rakhesh ex RTM here.pls call.urgent.\\nham\\tThe search 4 happiness is 1 of d main sources of unhappiness! Accept life the way it comes! U will find happiness in every moment u live.\\nham\\tI\\'m at home. Please call\\nham\\tI guess you could be as good an excuse as any, lol.\\nham\\tIsn\\'t frnd a necesity in life? imagine urself witout a frnd.. hw\\'d u feel at ur colleg? wat\\'ll u do wth ur cell? wat abt functions? thnk abt events espe\\'ll cared, missed &amp; irritated u? 4wrd it to all those dear-loving frnds wthout whom u cant live.. I jst did it.. Takecare..:) GOODMORNING\\nham\\tGud mrng dear hav a nice day\\nham\\tOld Orchard near univ. How about you?\\nham\\t4 tacos + 1 rajas burrito, right?\\nham\\tIt‘s £6 to get in, is that ok?\\nham\\tHows the street where the end of library walk is?\\nham\\tPlz note: if anyone calling from a mobile Co. &amp; asks u to type # &lt;#&gt;  or # &lt;#&gt; . Do not do so. Disconnect the call,coz it iz an attempt of \\'terrorist\\' to make use of the sim card no. Itz confirmd by nokia n motorola n has been verified by CNN IBN.\\nham\\tWe stopped to get ice cream and will go back after\\nham\\tDid you stitch his trouser\\nham\\tNo da. . Vijay going to talk in jaya tv\\nspam\\t2/2 146tf150p\\nham\\tHey i\\'m bored... So i\\'m thinking of u... So wat r u doing?\\nham\\tNah, Wednesday. When should I bring the mini cheetos bag over?\\nham\\tNobody names their penis a girls name this story doesn\\'t add up at all\\nham\\tAight, let me know when you\\'re gonna be around usf\\nham\\tI\\'m not. She lip synced with shangela.\\nham\\tÜ neva tell me how i noe... I\\'m not at home in da aft wat... \\nham\\tA bit of Ur smile is my hppnss, a drop of Ur tear is my sorrow, a part of Ur heart is my life, a heart like mine wil care for U, forevr as my GOODFRIEND\\nspam\\tDear Voucher Holder 2 claim your 1st class airport lounge passes when using Your holiday voucher call 08704439680. When booking quote 1st class x 2\\nham\\tBuzz! Hey, my Love ! I think of you and hope your day goes well. Did you sleep in ? I miss you babe. I long for the moment we are together again*loving smile*\\nham\\tHaha... Sounds crazy, dunno can tahan anot...\\nham\\tWhy are u up so early?\\nham\\tYa that one is slow as poo\\nspam\\tBloomberg -Message center +447797706009 Why wait? Apply for your future http://careers. bloomberg.com\\nham\\t\"Im on gloucesterroad what are uup to later?\"\\nham\\tYes:)here tv is always available in work place..\\nspam\\tYES! The only place in town to meet exciting adult singles is now in the UK. Txt CHAT to 86688 now! 150p/Msg.\\nham\\tLol no ouch but wish i\\'d stayed out a bit longer\\nham\\tGOD ASKED, \"What is forgiveness?\" A little child gave lovely reply, \"It is d wonderful fruit that a tree gives when it is being hurt by a stone.. Good night......\\nham\\tWe\\'ll join the  &lt;#&gt;  bus\\nham\\tWas just about to ask. Will keep this one. Maybe that\\'s why you didn\\'t get all the messages we sent you on glo\\nspam\\tFREE for 1st week! No1 Nokia tone 4 ur mob every week just txt NOKIA to 8007 Get txting and tell ur mates www.getzed.co.uk POBox 36504 W45WQ norm150p/tone 16+\\nham\\tK.i will send in  &lt;#&gt;  min:)\\nham\\tWould me smoking you out help us work through this difficult time\\nspam\\tSomeone U know has asked our dating service 2 contact you! Cant guess who? CALL 09058095107 NOW all will be revealed. POBox 7, S3XY 150p \\nham\\tYes.mum lookin strong:)\\nham\\tSir Goodmorning, Once free call me.\\nham\\tWhere are you call me.\\nham\\tWas gr8 to see that message. So when r u leaving? Congrats dear. What school and wat r ur plans.\\nham\\tLove it! The girls at the office may wonder why you are smiling but sore...\\nham\\tHi, wlcome back, did wonder if you got eaten by a lion or something, nothing much\\nham\\tDoes uncle timi help in clearing cars\\nham\\tI came hostel. I m going to sleep. Plz call me up before class. Hrishi.\\nham\\tOk... But bag again..\\nham\\tHi! You just spoke to MANEESHA V. We\\'d like to know if you were satisfied with the experience. Reply Toll Free with Yes or No.\\nham\\tOk lor. Msg me b4 u call.\\nspam\\tMila, age23, blonde, new in UK. I look sex with UK guys. if u like fun with me. Text MTALK to 69866.18 . 30pp/txt 1st 5free. £1.50 increments. Help08718728876\\nham\\tOnce a fishrman woke early in d mrng. It was very dark. He waited a while &amp; found a sack ful of stones. He strtd throwin thm in2 d sea 2 pass time. Atlast he had jus 1stone, sun rose up &amp; he found out tht those r nt stones, those were diamonds. Moral:\"Dont wake up early in d mrng\\'\\' GOOD night\\nspam\\tClaim a 200 shopping spree, just call 08717895698 now! Have you won! MobStoreQuiz10ppm\\nham\\tThen ur physics get a-?\\nham\\tDear friends, sorry for the late information. Today is the birthday of our loving Ar.Praveesh. for more details log on to face book and see. Its his number + &lt;#&gt; . Dont miss a delicious treat.\\nham\\tHow r ü going to send it to me?\\nham\\tCan you do online transaction?\\nham\\tDear got train and seat mine lower seat\\nham\\tLet me know if you need anything else. Salad or desert or something... How many beers shall i get?\\nham\\tWat r u doing?\\nham\\tWHORE YOU ARE UNBELIEVABLE.\\nspam\\tWant to funk up ur fone with a weekly new tone reply TONES2U 2 this text. www.ringtones.co.uk, the original n best. Tones 3GBP network operator rates apply\\nham\\tAre you sure you don\\'t mean \"get here, we made you hold all the weed\"\\nham\\tI love you !!! You know? Can you feel it? Does it make your belly warm? I wish it does, my love ... I shall meet you in your dreams, Ahmad ... *adoring kiss*\\nspam\\tTwinks, bears, scallies, skins and jocks are calling now. Don\\'t miss the weekend\\'s fun. Call 08712466669 at 10p/min. 2 stop texts call 08712460324(nat rate)\\nham\\tLove it! I want to flood that pretty pussy with cum...\\nham\\tHey are you angry with me. Reply me dr.\\nham\\tShort But Cute: \"Be a good person, but dont try to prove it..\" .Gud noon....\\nham\\tAlso remember the beads don\\'t come off. Ever.\\nham\\tThey have a thread on the wishlist section of the forums where ppl post nitro requests. Start from the last page and collect from the bottom up.\\nham\\tFor The First Time In The History \\'Need\\' \\'Comfort\\' And \\'Luxury\\' Are Sold At Same Price In India..!! Onion-Rs. &lt;#&gt;  Petrol-Rs. &lt;#&gt;  Beer-Rs. &lt;#&gt;  SHESIL  &lt;#&gt;\\nham\\tFeb  &lt;#&gt;  is \"I LOVE U\" day. Send dis to all ur \"VALUED FRNDS\" evn me. If 3 comes back u\\'ll gt married d person u luv! If u ignore dis u will lose ur luv 4 Evr\\nham\\tActually nvm, got hella cash, we still on for  &lt;#&gt; ish?\\nspam\\tWe tried to contact you re your reply to our offer of a Video Handset? 750 anytime any networks mins? UNLIMITED TEXT? Camcorder? Reply or call 08000930705 NOW\\nham\\tIt\\'s ok, at least armand\\'s still around\\nham\\tNo da. I am happy that we sit together na\\nham\\tYup song bro. No creative. Neva test quality. He said check review online.\\nham\\tNo dude, its not fake..my frnds got money, thts y i\\'m reffering u..if u member wit my mail link, u vl be credited  &lt;#&gt; rs and il be getiing  &lt;#&gt; rs..i can draw my acc wen it is  &lt;#&gt; rs..\\nham\\tDude while were makin those weirdy brownies my sister made awesome cookies. I took pics.\\nspam\\tURGENT! We are trying to contact you. Last weekends draw shows that you have won a £900 prize GUARANTEED. Call 09061701851. Claim code K61. Valid 12hours only\\nham\\tPls dont restrict her from eating anythin she likes for the next two days.\\nham\\tMm you ask him to come its enough :-)\\nham\\tAt the funeral home with Audrey and dad\\nham\\tAight, can you text me the address?\\nham\\tExcellent! Wish we were together right now!\\nham\\tYep then is fine 7.30 or 8.30 for ice age.\\nham\\tPls i wont belive god.not only jesus.\\nham\\tCan. Dunno wat to get 4 her...\\nham\\tNot yet chikku..k, then wat abt tht guy did he stopped irritating or msging to u..\\nham\\tHow long does it take to get it.\\nham\\tThis is my number by vivek..\\nspam\\t74355 XMAS iscoming & ur awarded either £500 CD gift vouchers & free entry 2 r £100 weekly draw txt MUSIC to 87066 TnC\\nham\\tsorry brah, just finished the last of my exams, what up\\nham\\tI got arrested for possession at, I shit you not,  &lt;TIME&gt;  pm\\nham\\tYou are right though. I can\\'t give you the space you want and need. This is really starting to become an issue. I was going to suggest setting a definite move out--if i\\'m still there-- after greece. But maybe you are ready and should do it now.\\nham\\tJust normal only here :)\\nham\\tPlease protect yourself from e-threats. SIB never asks for sensitive information like Passwords,ATM/SMS PIN thru email. Never share your password with anybody.\\nham\\tI miss you so much I\\'m so desparate I have recorded the message you left for me the other day and listen to it just to hear the sound of your voice. I love you\\nham\\tHi. I\\'m always online on yahoo and would like to chat with you someday\\nham\\tGoodmorning,my grandfather expired..so am on leave today.\\nspam\\tCongratulations U can claim 2 VIP row A Tickets 2 C Blu in concert in November or Blu gift guaranteed Call 09061104276 to claim TS&Cs www.smsco.net cost£3.75max \\nham\\tWhere are you ? What are you doing ? Are yuou working on getting the pc to your mom\\'s ? Did you find a spot that it would work ? I need you\\nham\\tSure, I\\'ll see if I can come by in a bit\\nham\\tI agree. So i can stop thinkin about ipad. Can you please ask macho the same question.\\nham\\tLet\\'s pool our money together and buy a bunch of lotto tickets. If we win I get &lt;#&gt; % u get &lt;#&gt; %. Deal?\\nham\\tOk.\\nham\\tI had askd u a question some hours before. Its answer\\nham\\tWatching tv lor. Nice one then i like lor.\\nham\\tI\\'m thinking that chennai forgot to come for auction..\\nham\\tThen ü come n pick me at 530 ar?\\nham\\tEarly bird! Any purchases yet?\\nham\\tWent to pay rent. So i had to go to the bank to authorise the payment.\\nham\\tErm … ill pick you up at about 6.45pm. That\\'ll give enough time to get there, park and that.\\nham\\tHEY MATE! HOWS U HONEY?DID U AVE GOOD HOLIDAY? GIMMI DE GOSS!x\\nham\\tHowz pain.it will come down today.do as i said ystrday.ice and medicine.\\nham\\tchile, please! It\\'s only a  &lt;DECIMAL&gt;  hour drive for me. I come down all the time and will be subletting feb-april for audition season.\\nham\\tYes ammae....life takes lot of turns you can only sit and try to hold the steering...\\nham\\tYeah that\\'s what I thought, lemme know if anything\\'s goin on later\\nham\\tMmmm.... I cant wait to lick it!\\nham\\tPls go there today  &lt;#&gt; . I dont want any excuses\\nspam\\tFantasy Football is back on your TV. Go to Sky Gamestar on Sky Active and play £250k Dream Team. Scoring starts on Saturday, so register now!SKY OPT OUT to 88088\\nham\\tCan you plz tell me the ans. BSLVYL sent via fullonsms.com\\nham\\tU in town alone?\\nham\\tI to am looking forward to all the sex cuddling.. Only two more sleeps \\nham\\tWe have all rounder:)so not required:)\\nham\\tNo, its true..k,Do u knw dis no. &lt;#&gt; ?\\nham\\tDont worry, 1 day very big lambu ji vl come..til then enjoy batchlor party:-)\\nham\\toh ya... Got hip hop open. Haha i was thinking can go for jazz then zoom to cine... Actually tonight i\\'m free leh... And there\\'s a kb lesson tonight\\nspam\\tFree msg: Single? Find a partner in your area! 1000s of real people are waiting to chat now!Send CHAT to 62220Cncl send STOPCS 08717890890£1.50 per msg\\nham\\tI\\'m ok. Will do my part tomorrow\\nham\\tNo! But we found a diff farm shop to buy some cheese. On way back now, can i call in?\\nham\\tR u still working now?\\nspam\\tWin the newest \\x93Harry Potter and the Order of the Phoenix (Book 5) reply HARRY, answer 5 questions - chance to be the first among readers!\\nham\\tYep. I do like the pink furniture tho.\\nspam\\tFree Msg: Ringtone!From: http://tms. widelive.com/index. wml?id=1b6a5ecef91ff9*37819&first=true18:0430-JUL-05\\nham\\tCustomer place, i wil cal u sir.\\nspam\\tOh my god! I\\'ve found your number again! I\\'m so glad, text me back xafter this msgs cst std ntwk chg £1.50\\nham\\tA pure hearted person can have a wonderful smile that makes even his/her enemies to feel guilty for being an enemy.. So catch the world with your smile..:) GOODMORNING &amp; HAVE A SMILEY SUNDAY..:)\\nham\\tTHAT\\x92S ALRITE GIRL, U KNOW GAIL IS NEVA WRONG!!TAKE CARE SWEET AND DON\\x92T WORRY.C U L8TR HUN!LOVE Yaxxx\\nham\\tTheoretically yeah, he could be able to come\\nham\\tAlright we\\'re hooked up, where you guys at\\nham\\tnot that I know of, most people up here are still out of town\\nham\\tNo let me do the math. Your not good at it.\\nham\\tOh ok wait 4 me there... My lect havent finish\\nham\\tYeah my usual guy\\'s out of town but there\\'re definitely people around I know\\nham\\tI am joining today formally.Pls keep praying.will talk later.\\nham\\tHappy or sad , one thing about past is- \"Its no more\" GOOD MORNING :-):-).\\nham\\tNo. Did you multimedia message them or e-mail?\\nham\\tOkie but i scared u say i fat... Then u dun wan me already...\\nham\\tdid u get that message\\nham\\tSorry sir, i will call you tomorrow.  senthil.hsbc\\nham\\tWhat you need. You have a person to give na.\\nham\\tShe left it very vague. She just said she would inform the person in accounting about the delayed rent and that i should discuss with the housing agency about my renting another place. But checking online now and all places around usc are  &lt;#&gt;  and up\\nham\\tHi juan. Im coming home on fri hey. Of course i expect a welcome party and lots of presents. Ill phone u when i get back. Loads of love nicky x x x x x x x x x\\nham\\tCan you plz tell me the ans. BSLVYL sent via fullonsms.com\\nham\\tShort But Cute: \"Be a good person, but dont try to prove it..\" .Gud noon....\\nham\\tGumby\\'s has a special where a  &lt;#&gt; \" cheese pizza is $2 so I know what we\\'re doin tonight\\nspam\\tA link to your picture has been sent. You can also use http://alto18.co.uk/wave/wave.asp?o=44345\\nham\\tLike a personal sized or what\\nham\\tSame, I\\'m at my great aunts anniversary party in tarpon springs\\nham\\tCab is available.they pick up and drop at door steps.\\nham\\tok....take care.umma to you too...\\nham\\tUnlimited texts. Limited minutes.\\nspam\\tDouble Mins & 1000 txts on Orange tariffs. Latest Motorola, SonyEricsson & Nokia with Bluetooth FREE! Call MobileUpd8 on 08000839402 or call2optout/HF8\\nham\\tNo problem. We will be spending a lot of quality time together...\\nspam\\tURGENT This is our 2nd attempt to contact U. Your £900 prize from YESTERDAY is still awaiting collection. To claim CALL NOW 09061702893. ACL03530150PM\\nham\\tHave you heard from this week?\\nspam\\tDear Dave this is your final notice to collect your 4* Tenerife Holiday or #5000 CASH award! Call 09061743806 from landline. TCs SAE Box326 CW25WX 150ppm\\nham\\tYes. Last  practice\\nspam\\ttells u 2 call 09066358152 to claim £5000 prize. U have 2 enter all ur mobile & personal details @ the prompts. Careful!\\nham\\tNo. Thank you. You\\'ve been wonderful\\nham\\tOtherwise had part time job na-tuition..\\nham\\tÜ mean it\\'s confirmed... I tot they juz say oni... Ok then... \\nham\\tOkie\\nham\\tThat depends. How would you like to be treated? :)\\nham\\tRight on brah, see you later\\nham\\tWaiting in e car 4 my mum lor. U leh? Reach home already?\\nspam\\tYour 2004 account for 07XXXXXXXXX shows 786 unredeemed points. To claim call 08719181259 Identifier code: XXXXX Expires 26.03.05\\nspam\\tDo you want a new video handset? 750 anytime any network mins? Half Price Line Rental? Camcorder? Reply or call 08000930705 for delivery tomorrow\\nham\\tWent fast asleep dear.take care.\\nham\\tNo that just means you have a fat head\\nham\\tSounds like a plan! Cardiff is still here and still cold! I\\'m sitting on the radiator!\\nham\\tSerious? What like proper tongued her\\nham\\tShe.s good. She was wondering if you wont say hi but she.s smiling now. So how are you coping with the long distance\\nham\\tHow i noe... She\\'s in da car now... Later then c lar... I\\'m wearing shorts...\\nspam\\tYou have an important customer service announcement. Call FREEPHONE 0800 542 0825 now!\\nham\\tYeah whatever lol\\nham\\tToday is ACCEPT DAY..U Accept me as? Brother Sister Lover Dear1 Best1 Clos1 Lvblefrnd Jstfrnd Cutefrnd Lifpartnr Belovd Swtheart Bstfrnd No rply means enemy\\nham\\tArd 530 lor. I ok then message ü lor.\\nham\\tOk. C u then.\\nham\\tEh ur laptop got no stock lei... He say mon muz come again to take a look c got a not...\\nham\\tNo need to ke qi... Ü too bored izzit y suddenly thk of this...\\nham\\tI wish! I don\\'t think its gonna snow that much. But it will be more than those flurries we usually get that melt before they hit the ground. Eek! We haven\\'t had snow since &lt;#&gt; before I was even born!\\nspam\\tFREE>Ringtone! Reply REAL or POLY eg REAL1 1. PushButton 2. DontCha 3. BabyGoodbye 4. GoldDigger 5. WeBeBurnin 1st tone FREE and 6 more when u join for £3/wk\\nham\\tDo 1 thing! Change that sentence into: \"Because i want 2 concentrate in my educational career im leaving here..\"\\nham\\tOh really? perform, write a paper, go to a movie AND be home by midnight, huh?\\nham\\tOkay lor... Will they still let us go a not ah? Coz they will not know until later. We drop our cards into the box right?\\nham\\tHow? Izzit still raining?\\nham\\tAs if i wasn\\'t having enough trouble sleeping.\\nham\\tI havent add ü yet right.. \\nham\\tLol ... I really need to remember to eat when I\\'m drinking but I do appreciate you keeping me company that night babe *smiles*\\nham\\tBabe ? I lost you ... Will you try rebooting ?\\nham\\tYes. Nigh you cant aha.\\nham\\tI thk ü gotta go home by urself. Cos i\\'ll b going out shopping 4 my frens present. \\nham\\tNooooooo I\\'m gonna be bored to death all day. Cable and internet outage.\\nham\\tSos! Any amount i can get pls.\\nham\\tPlayin space poker, u?\\nham\\tHow come guoyang go n tell her? Then u told her?\\nham\\tYou need to get up. Now.\\nham\\tThey r giving a second chance to rahul dengra.\\nham\\tYeah, in fact he just asked if we needed anything like an hour ago. When and how much?\\nham\\tWHEN THE FIRST STRIKE IS A RED ONE. THE BIRD + ANTELOPE BEGIN TOPLAY IN THE FIELDOF SELFINDEPENDENCE BELIEVE THIS + THE FLOWER OF CONTENTION WILL GROW.RANDOM!\\nham\\tY ü wan to go there? C doctor?\\nham\\tDoes daddy have a bb now.\\nspam\\tFree Msg: get Gnarls Barkleys \"Crazy\" ringtone TOTALLY FREE just reply GO to this message right now!\\nham\\tShe\\'s borderline but yeah whatever.\\nham\\tI got a call from a landline number. . . I am asked to come to anna nagar . . . I will go in the afternoon\\nham\\tUntil 545 lor... Ya, can go 4 dinner together...\\nham\\tI will be gentle princess! We will make sweet gentle love...\\nham\\tHow u doin baby girl ?? hope u are okay every time I call ure phone is off! I miss u get in touch\\nham\\tSorry, went to bed early, nightnight\\nham\\tI like to think there\\'s always the possibility of being in a pub later.\\nham\\tHMM yeah if your not too grooved out! And im looking forward to my pound special :)\\nham\\tI got to video tape pple type in message lor. U so free wan 2 help me? Hee... Cos i noe u wan 2 watch infernal affairs so ask u along. Asking shuhui oso.\\nham\\tHi dude hw r u da realy mising u today\\nham\\tMe hungry buy some food good lei... But mum n yun dun wan juz buy a little bit... \\nspam\\tRefused a loan? Secured or Unsecured? Can\\'t get credit? Call free now 0800 195 6669 or text back \\'help\\' & we will!\\nham\\tI probably won\\'t eat at all today. I think I\\'m gonna pop. How was your weekend? Did u miss me?\\nham\\tI knew it... U slept v late yest? Wake up so late...\\nham\\tHaha... dont be angry with yourself... Take it as a practice for the real thing. =) \\nham\\tWhere is that one day training:-)\\nham\\tSo i could kiss and feel you next to me...\\nham\\tHave a nice day my dear.\\nham\\tI sent lanre fakeye\\'s Eckankar details to the mail box\\nham\\tYour dad is back in ph?\\nspam\\tYou have been specially selected to receive a \"3000 award! Call 08712402050 BEFORE the lines close. Cost 10ppm. 16+. T&Cs apply. AG Promo\\nham\\tIf you ask her or she say any please message.\\nham\\tIf e timing can, then i go w u lor...\\nham\\tLove you aathi..love u lot..\\nham\\tI was just callin to say hi. Take care bruv!\\nspam\\tYOU HAVE WON! As a valued Vodafone customer our computer has picked YOU to win a £150 prize. To collect is easy. Just call 09061743386\\nham\\tDid u turn on the heater? The heater was on and set to &lt;#&gt; degrees.\\nham\\tThanks for your message. I really appreciate your sacrifice. I\\'m not sure of the process of direct pay but will find out on my way back from the test tomorrow. I\\'m in class now. Do have a wonderful day.\\nham\\tThat\\'s the trouble with classes that go well - you\\'re due a dodgey one … Expecting mine tomo! See you for recovery, same time, same place \\nspam\\tFree video camera phones with Half Price line rental for 12 mths and 500 cross ntwk mins 100 txts. Call MobileUpd8 08001950382 or Call2OptOut/674&\\nham\\tWOT U UP 2 J?\\nham\\tNight night, see you tomorrow\\nham\\tRoger that. We‘re probably going to rem in about 20\\nham\\tdo u think that any girl will propose u today by seing ur bloody funky shit fucking face...............asssssholeeee................\\nham\\tI wish u were here. I feel so alone\\nspam\\tGreat NEW Offer - DOUBLE Mins & DOUBLE Txt on best Orange tariffs AND get latest camera phones 4 FREE! Call MobileUpd8 free on 08000839402 NOW! or 2stoptxt T&Cs\\nham\\tReason is if the team budget is available at last they buy the unsold players for at base rate..\\nham\\tCERI U REBEL! SWEET DREAMZ ME LITTLE BUDDY!! C YA 2MORO! WHO NEEDS BLOKES\\nspam\\tringtoneking 84484\\nham\\tHuh i cant thk of more oredi how many pages do we have?\\nham\\tHis frens go then he in lor. Not alone wif my mum n sis lor.\\nham\\tNationwide auto centre (or something like that) on Newport road. I liked them there\\nham\\tHey, I missed you tm of last night as my phone was on the charge ... *smiles* ... I am meeting a friend shortly\\nham\\tWhatever, juliana. Do whatever you want.\\nham\\tFriendship is not a game to play, It is not a word to say, It doesn\\\\\\'t start on March and ends on May, It is tomorrow, yesterday, today and e\\nspam\\tRingtone Club: Gr8 new polys direct to your mobile every week !\\nham\\tHello. Sort of out in town already. That . So dont rush home, I am eating nachos. Will let you know eta.\\nham\\tOk lor. Anyway i thk we cant get tickets now cos like quite late already. U wan 2 go look 4 ur frens a not? Darren is wif them now...\\nspam\\t(Bank of Granite issues Strong-Buy) EXPLOSIVE PICK FOR OUR MEMBERS *****UP OVER 300% *********** Nasdaq Symbol CDGT That is a $5.00 per..\\nham\\tI am on the way to ur home\\nham\\tDizzamn, aight I\\'ll ask my suitemates when I get back\\nham\\tNimbomsons. Yep phone knows that one. Obviously, cos thats a real word\\nham\\tI love to cuddle! I want to hold you in my strong arms right now...\\nham\\tR u in this continent?\\nham\\tWe\\'ll you pay over like  &lt;#&gt; yrs so its not too difficult\\nspam\\tBored housewives! Chat n date now! 0871750.77.11! BT-national rate 10p/min only from landlines!\\nspam\\tWe tried to call you re your reply to our sms for a video mobile 750 mins UNLIMITED TEXT free camcorder Reply or call now 08000930705 Del Thurs\\nham\\tK...k...when will you give treat?\\nspam\\tThis is the 2nd time we have tried to contact u. U have won the £400 prize. 2 claim is easy, just call 087104711148 NOW! Only 10p per minute. BT-national-rate\\nham\\tHe\\'s just gonna worry for nothing. And he won\\'t give you money its no use.\\nham\\tDid you get any gift? This year i didnt get anything. So bad\\nham\\tsomewhere out there beneath the pale moon light someone think in of u some where out there where dreams come true... goodnite &amp; sweet dreams\\nham\\tWell there\\'s a pattern emerging of my friends telling me to drive up and come smoke with them and then telling me that I\\'m a weed fiend/make them smoke too much/impede their doing other things so you see how I\\'m hesitant\\nham\\t, ow u dey.i paid 60,400thousad.i told  u would call . \\nham\\tIM FINE BABES AINT BEEN UP 2 MUCH THO! SAW SCARY MOVIE YEST ITS QUITE FUNNY! WANT 2MRW AFTERNOON? AT TOWN OR MALL OR SUMTHIN?xx\\nham\\tI\\'m reaching home in 5 min.\\nham\\tForgot you were working today! Wanna chat, but things are ok so drop me a text when you\\'re free / bored etc and i\\'ll ring. Hope all is well, nose essay and all xx\\nham\\tHa... Then we must walk to everywhere... Cannot take tram. My cousin said can walk to vic market from our hotel \\nspam\\tWan2 win a Meet+Greet with Westlife 4 U or a m8? They are currently on what tour? 1)Unbreakable, 2)Untamed, 3)Unkempt. Text 1,2 or 3 to 83049. Cost 50p +std text\\nspam\\tPlease call our customer service representative on FREEPHONE 0808 145 4742 between 9am-11pm as you have WON a guaranteed £1000 cash or £5000 prize!\\nham\\tDiscussed with your mother ah?\\nham\\tOk.\\nham\\tSorry, I can\\'t text &amp; drive coherently, see you in twenty\\nspam\\tYou will be receiving this week\\'s Triple Echo ringtone shortly. Enjoy it!\\nham\\tIn which place i can get rooms cheap:-)\\nham\\tEek that\\'s a lot of time especially since American Pie is like 8 minutes long. I can\\'t stop singing it.\\nham\\t\"GRAN ONLYFOUND OUT AFEW DAYS AGO.CUSOON HONI\"\\nspam\\tU\\'ve been selected to stay in 1 of 250 top British hotels - FOR NOTHING! Holiday valued at £350! Dial 08712300220 to claim - National Rate Call. Bx526, SW73SS\\nham\\tUniversity of southern california.\\nham\\tWe have to pick rayan macleran there.\\nham\\tU gd lor go shopping i got stuff to do. U wan 2 watch infernal affairs a not? Come lar...\\nham\\tWell. Balls. Time to make calls\\nham\\tWat time ü wan today?\\nham\\t &lt;#&gt;  in mca. But not conform.\\nham\\tOh ok.. Wat\\'s ur email?\\nham\\tYes, princess. Are you going to make me moan?\\nham\\tLol its ok I didn\\'t remember til last nite\\nham\\t[…] anyway, many good evenings to u! s\\nham\\tCool, I\\'ll text you in a few\\nham\\tSorry vikky, i\\'m Watching olave mandara movie kano in trishul theatre wit my frnds..\\nham\\tI\\'m very happy for you babe ! Woo hoo party on dude!\\nham\\tI am taking you for italian food. How about a pretty dress with no panties? :)\\nham\\tWot u up 2? Thout u were gonna call me!! Txt bak luv K\\nspam\\tYOU ARE CHOSEN TO RECEIVE A £350 AWARD! Pls call claim number 09066364311 to collect your award which you are selected to receive as a valued mobile customer.\\nham\\tHow are you holding up?\\nham\\tDont flatter yourself... Tell that man of mine two pints of carlin in ten minutes please.... \\nham\\tHope you are not scared!\\nham\\tI cant pick the phone right now. Pls send a message\\nham\\tI\\'m at home n ready...\\nspam\\tPlease call our customer service representative on FREEPHONE 0808 145 4742 between 9am-11pm as you have WON a guaranteed £1000 cash or £5000 prize!\\nham\\tWhat time do u get out?\\nham\\tI am literally in bed and have been up for like  &lt;#&gt;  hours\\nham\\tYes, my reg is  Ciao!\\nham\\tIf You mean the website. Yes.\\nspam\\tWin a £1000 cash prize or a prize worth £5000\\nspam\\tThanks for your ringtone order, reference number X49.Your mobile will be charged 4.50. Should your tone not arrive please call customer services 09065989182\\nham\\tLol or I could just starve and lose a pound by the end of the day.\\nham\\tYeah that\\'s the impression I got\\nham\\tOk ok take care. I can understand.\\nham\\tMotivate Behind every darkness, there is a shining light waiting for you to find it... Behind every best friend, there is always trust and love... BSLVYL\\nham\\tYa ok, then had dinner?\\nham\\tI was slept that time.you there?\\nham\\tdont make ne plans for nxt wknd coz she wants us to come down then ok\\nham\\tWhen is school starting. Where will you stay. What\\'s the weather like. And the food. Do you have a social support system like friends in the school. All these things are important.\\nham\\tHa ha nan yalrigu heltini..Iyo kothi chikku, u shared many things wit me..so far i didn\\'t told any body and even uttered a word abt u.. If ur trusting me so much how can i tell these to others.. Plz nxt time dont use those words to me..ok, chikku:-);-)B-)\\nham\\tNoice. Text me when you\\'re here\\nham\\tHi di is yijue we\\'re meeting at 7 pm at esaplanade tonight.\\nspam\\tMoby Pub Quiz.Win a £100 High Street prize if u know who the new Duchess of Cornwall will be? Txt her first name to 82277.unsub STOP £1.50 008704050406 SP\\nspam\\tThis weeks SavaMob member offers are now accessible. Just call 08709501522 for details! SavaMob, POBOX 139, LA3 2WU. Only £1.50/week. SavaMob - offers mobile!\\nham\\tAight I\\'ve been set free, think you could text me blake\\'s address? It occurs to me I\\'m not quite as sure what I\\'m doing as I thought I was\\nham\\tHi dear we saw dear. We both are happy. Where you my battery is low\\nham\\tHow are you. Its been ages. How\\'s abj\\nham\\tProf: you have passed in all the papers in this sem congrats . . . . Student: Enna kalaachutaarama..!! Prof:???? Gud mrng!\\nham\\tDont kick coco when he\\'s down\\nham\\tFyi I\\'m gonna call you sporadically starting at like  &lt;#&gt;  bc we are not not doin this shit\\nspam\\tYou are being contacted by our Dating Service by someone you know! To find out who it is, call from your mobile or landline 09064017305 PoBox75LDNS7 \\nspam\\tTBS/PERSOLVO. been chasing us since Sept for£38 definitely not paying now thanks to your information. We will ignore them. Kath. Manchester.\\nham\\tHope you\\x92re not having too much fun without me!! see u tomorrow love jess x\\nham\\tOk i wont call or disturb any one. I know all are avoiding me. I am a burden for all\\nham\\tI\\'ve reached home n i bathe liao... U can call me now...\\nspam\\tLoans for any purpose even if you have Bad Credit! Tenants Welcome. Call NoWorriesLoans.com on 08717111821\\nham\\tWas the actual exam harder than NBME\\nham\\tA lot of this sickness thing going round. Take it easy. Hope u feel better soon. Lol\\nham\\tGod picked up a flower and dippeditinaDEW, lovingly touched itwhichturnedinto u, and the he gifted tomeandsaid,THIS FRIEND IS 4U\\nspam\\t87077: Kick off a new season with 2wks FREE goals & news to ur mobile! Txt ur club name to 87077 eg VILLA to 87077\\nham\\tHey sathya till now we dint meet not even a single time then how can i saw the situation sathya.\\nham\\tGam gone after outstanding innings.\\nham\\tO i played smash bros  &lt;#&gt;  religiously.\\nham\\tSir, good morning. Hope you had a good weekend. I called to let you know that i was able to raise  &lt;#&gt;  from my dad. He however said he would make the rest available by mid feb. This amount is still quite short and i was hoping you would help. Do have a good day. Abiola\\nham\\tHurry home. Soup is DONE!\\nham\\tNo no. I will check all rooms befor activities\\nham\\tGood afternoon, my love. It was good to see your words on YM and get your tm. Very smart move, my slave ... *smiles* ... I drink my coffee and await you.\\nham\\tQuite ok but a bit ex... U better go eat smth now else i\\'ll feel guilty...\\nspam\\tOrange brings you ringtones from all time Chart Heroes, with a free hit each week! Go to Ringtones & Pics on wap. To stop receiving these tips reply STOP.\\nham\\tLemme know when you\\'re here\\nspam\\tPRIVATE! Your 2003 Account Statement for 07973788240 shows 800 un-redeemed S. I. M. points. Call 08715203649 Identifier Code: 40533 Expires 31/10/04\\nham\\tHe needs to stop going to bed and make with the fucking dealing\\nham\\tHow are you, my Love ? Are you with your brother ? Time to talk english with him ? *grins* Say : Hey Muhommad, Penny says hello from across the sea\\nspam\\tWe tried to call you re your reply to our sms for a video mobile 750 mins UNLIMITED TEXT + free camcorder Reply of call 08000930705 Now\\nham\\tHey doc pls I want to get nice t shirt for my hubby nice fiting ones my budget is  &lt;#&gt; k help pls I will load d card abi hw,keep me posted luv. 2 mj\\nham\\tI remain unconvinced that this isn\\'t an elaborate test of my willpower\\nham\\t\"Life is nothing wen v get everything\". But \"life is everything wen v miss something \". Real value of people wil be realized only in their absence.... gud mrng\\nham\\thow are you? I miss you!\\nham\\tI ain\\'t answerin no phone at what is actually a pretty reasonable hour but I\\'m sleepy\\nham\\tHey , is * rite u put »10 evey mnth is that all?\\nham\\ti am going to bed now prin\\nham\\tI think just yourself …Thanks and see you tomo\\nham\\tIf u dun drive then how i go 2 sch.\\nham\\tI not at home now lei...\\nspam\\tGSOH? Good with SPAM the ladies?U could b a male gigolo? 2 join the uk\\'s fastest growing mens club reply ONCALL. mjzgroup. 08714342399.2stop reply STOP. msg@£1.50rcvd\\nham\\tOk then i will come to ur home after half an hour\\nspam\\tU have a secret admirer who is looking 2 make contact with U-find out who they R*reveal who thinks UR so special-call on 09058094599\\nham\\tDo u hav any frnd by name ashwini in ur college?\\nham\\tJus finish my lunch on my way home lor... I tot u dun wan 2 stay in sch today...\\nham\\tK then 2marrow are you coming to class.\\nspam\\tHOT LIVE FANTASIES call now 08707500020 Just 20p per min NTT Ltd, PO Box 1327 Croydon CR9 5WB 0870 is a national rate call\\nham\\tPls send me your address sir.\\nham\\tI want to lick your pussy now...\\nham\\tYo, you gonna still be in stock tomorrow/today? I\\'m trying to get a dubsack\\nspam\\tURGENT! Your Mobile number has been awarded a <UKP>2000 prize GUARANTEED. Call 09061790125 from landline. Claim 3030. Valid 12hrs only 150ppm\\nham\\tI\\'ll see, but prolly yeah\\nham\\tThought we could go out for dinner. I\\'ll treat you! Seem ok?\\nham\\tWhere are you ? What do you do ? How can you stand to be away from me ? Doesn\\'t your heart ache without me ? Don\\'t you wonder of me ? Don\\'t you crave me ?\\nham\\tSorry. You never hear unless you book it. One was kinda a joke--thet were really looking for skinny white girls. The other was one line--you can only do so much on camera with that. Something like that they\\'re casting on the look.\\nham\\tWhat you doing?how are you?\\nham\\tSure thing big man. i have hockey elections at 6, shouldn‘t go on longer than an hour though\\nham\\tWatch lor. I saw a few swatch one i thk quite ok. Ard 116 but i need 2nd opinion leh...\\nham\\tHiya do u like the hlday pics looked horrible in them so took mo out! Hows the camp Amrca thing? Speak soon Serena:)\\nham\\tBabe! How goes that day ? What are you up to ? I miss you already, my Love ... * loving kiss* ... I hope everything goes well.\\nham\\tYunny... I\\'m goin to be late\\nham\\tDoc prescribed me morphine cause the other pain meds aren\\'t enough. Waiting for my mom to bring it. That med should kick in fast so I\\'m gonna try to be on later\\nham\\tCool, want me to go to kappa or should I meet you outside mu\\nham\\tHey sexy buns ! Have I told you ? I adore you, loverboy. I hope you remember to thank your sister in law for those meatballs *grins* ... i love you, babe\\nham\\tMay b approve panalam...but it should have more posts..\\nspam\\tSPJanuary Male Sale! Hot Gay chat now cheaper, call 08709222922. National rate from 1.5p/min cheap to 7.8p/min peak! To stop texts call 08712460324 (10p/min)\\nham\\tSorry, I\\'ll call later\\nham\\tI dont thnk its a wrong calling between us\\nham\\tMe i\\'m not workin. Once i get job...\\nham\\tAnd by when you\\'re done I mean now\\nham\\t\"Its Ur luck to Love someone. Its Ur fortune to Love the one who Loves U. But, its a miracle to Love a person who can\\'t Love anyone except U...\" Gud nyt...\\nham\\tHi baby ive just got back from work and i was wanting to see u allday! I hope i didnt piss u off on the phone today. If u are up give me a call xxx\\nspam\\tFreeMsg Today\\'s the day if you are ready! I\\'m horny & live in your town. I love sex fun & games! Netcollex Ltd 08700621170150p per msg reply Stop to end\\nham\\tIs it your yahoo boys that bring in the perf? Or legal.\\nham\\tNo need to say anything to me. I know i am an outsider\\nham\\thave you ever had one foot before?\\nham\\tJust got to  &lt;#&gt;\\nham\\tGood! No, don‘t need any receipts—well done! (…) Yes, please tell . What‘s her number, i could ring her\\nham\\tEver green quote ever told by Jerry in cartoon \"A Person Who Irritates u Always Is the one Who Loves u Vry Much But Fails to Express It...!..!! :-) :-) gud nyt\\nham\\tLeave it wif me lar... Ü wan to carry meh so heavy... Is da num 98321561 familiar to ü?\\nham\\tBeautiful truth : Expression of the face could Be seen by everyone... But the depression of heart Could be understood only By the Loved ones.. Gud Ni8;-)\\nham\\tInfact happy new year. How are you where are you when are we seeing\\nspam\\tIn The Simpsons Movie released in July 2007 name the band that died at the start of the film? A-Green Day, B-Blue Day, C-Red Day. (Send A, B or C)\\nham\\tThat\\'s a shame! Maybe cld meet for few hrs tomo?\\nham\\tLol I would but despite these cramps I like being a girl.\\nham\\tI can\\x92t wait for cornwall. Hope tonight isn\\x92t too bad as well but it\\x92s rock night shite. Anyway i\\x92m going for a kip now have a good night. Speak to you soon.\\nham\\tPls help me tell sura that i\\'m expecting a battery from hont. And that if should pls send me a message about how to download movies. Thanks\\nspam\\tPlease call Amanda with regard to renewing or upgrading your current T-Mobile handset free of charge. Offer ends today. Tel 0845 021 3680 subject to T\\'s and C\\'s\\nham\\tHaven\\'t found a way to get another app for your phone, eh ? Will you go to the net cafe ? Did you take that job? Geeee I need you babe. I crave to see you ...\\nham\\tI only work from mon to thurs but Sat i cant leh... Booked liao... Which other day u free?\\nham\\tÜ comin to fetch us oredi...\\nham\\tWhat\\'s nannys address?\\nspam\\tURGENT!! Your 4* Costa Del Sol Holiday or £5000 await collection. Call 09050090044 Now toClaim. SAE, TC s, POBox334, Stockport, SK38xh, Cost£1.50/pm, Max10mins\\nham\\tHaf u eaten? Wat time u wan me 2 come?\\nspam\\tWant a new Video Phone? 750 anytime any network mins? Half price line rental free text for 3 months? Reply or call 08000930705 for free delivery\\nham\\tYo, call me when you get the chance, a friend of mine wanted me to ask you about a big order\\nham\\tThis single single answers are we fighting? Plus i said am broke and you didnt reply\\nham\\tIt certainly puts things into perspective when something like this happens\\nham\\tNow got tv 2 watch meh? U no work today?\\nham\\ti felt so...not any conveying reason.. Ese he... What about me?\\nspam\\tHad your mobile 11 months or more? U R entitled to Update to the latest colour mobiles with camera for Free! Call The Mobile Update Co FREE on 08002986030\\nham\\tHow\\'s it going? Got any exciting karaoke type activities planned? I\\'m debating whether to play football this eve. Feeling lazy though.\\nham\\tI told that am coming on wednesday.\\nham\\tIts ok, called mom instead have fun\\nspam\\tDear Voucher Holder, To claim this weeks offer, at your PC please go to http://www.wtlp.co.uk/text. Ts&Cs apply.\\nham\\tWell if I\\'m that desperate I\\'ll just call armand again\\nham\\tAre you at work right now ?\\nspam\\tCongrats! Nokia 3650 video camera phone is your Call 09066382422 Calls cost 150ppm Ave call 3mins vary from mobiles 16+ Close 300603 post BCM4284 Ldn WC1N3XX\\nham\\tHaven\\'t heard anything and he\\'s not answering my texts so I\\'m guessing he flaked. That said the jb is fantastic\\nham\\tMmmmmm ... I love you,so much, Ahmad ... I can\\'t wait for this year to begin as every second takes me closer to being at your side. Happy New Year, my love!!\\nham\\tPls what\\'s the full name of joke\\'s school cos fees in university of florida seem to actually be  &lt;#&gt; k. Pls holla back\\nham\\tSorry, I\\'ll call later\\nham\\tOk... But they said i\\'ve got wisdom teeth hidden inside n mayb need 2 remove.\\nham\\tAnd pls pls drink plenty plenty water\\nham\\tHow are you doing. How\\'s the queen. Are you going for the royal wedding\\nham\\tHe\\'s in lag. That\\'s just the sad part but we keep in touch thanks to skype\\nham\\tOk lor then we go tog lor...\\nham\\tTwo teams waiting for some players\\nham\\tCan ü send me a copy of da report?\\nham\\tswhrt how u dey,hope ur ok, tot about u 2day.love n miss.take care.\\nham\\tOk da, i already planned. I wil pick you.\\nspam\\tUrgent! Please call 0906346330. Your ABTA complimentary 4* Spanish Holiday or £10,000 cash await collection SAE T&Cs BOX 47 PO19 2EZ 150ppm 18+\\nham\\tSorry, I\\'ll call later in meeting\\nham\\tI just really need shit before tomorrow and I know you won\\'t be awake before like 6\\nham\\tI\\'m good. Have you registered to vote?\\nham\\tHmm ok, i\\'ll stay for like an hour cos my eye is really sore!\\nham\\tDear got bus directly to calicut\\nham\\tMm umma ask vava also to come tell him can play later together\\nham\\tWell the general price is  &lt;#&gt; /oz, let me know if/when/how much you want\\nham\\tSorry, I\\'ll call later\\nham\\tEach Moment in a day,has its own value-Morning brings hope,afternoon brings faith,Evening brings luv,Night brings rest,Wish u find them all today.Good Morning\\nham\\t&lt;#&gt;  w jetton ave if you forgot\\nham\\tOk i\\'m coming home now.\\nham\\tCan not use foreign stamps in this country.\\nspam\\tDouble mins and txts 4 6months FREE Bluetooth on Orange. Available on Sony, Nokia Motorola phones. Call MobileUpd8 on 08000839402 or call2optout/N9DX\\nham\\tSorry, it\\'s a lot of friend-of-a-friend stuff, I\\'m just now about to talk to the actual guy who wants to buy\\nspam\\tFREE for 1st week! No1 Nokia tone 4 ur mob every week just txt NOKIA to 8007 Get txting and tell ur mates www.getzed.co.uk POBox 36504 W45WQ norm150p/tone 16+\\nspam\\tWant to funk up ur fone with a weekly new tone reply TONES2U 2 this text. www.ringtones.co.uk, the original n best. Tones 3GBP network operator rates apply\\nspam\\tcmon babe, make me horny, *turn* me on! Txt me your fantasy now babe -) Im hot, sticky and need you now. All replies cost £1.50. 2 cancel send STOP\\nham\\tI will come tomorrow di\\nham\\tWylie update: my weed dealer carlos went to freedom and had a class with lunsford\\nham\\tAre you happy baby ? Are you alright ? Did you take that job ? I hope your fine. I send you a kiss to make you smile from across the sea ... *kiss* *kiss*\\nham\\tC movie is juz last minute decision mah. Juz watch 2 lar but i tot ü not interested.\\nham\\tHow are you enjoying this semester? Take care brother.\\nspam\\tIMPORTANT INFORMATION 4 ORANGE USER 0796XXXXXX. TODAY IS UR LUCKY DAY!2 FIND OUT WHY LOG ONTO http://www.urawinner.com THERE\\'S A FANTASTIC PRIZEAWAITING YOU!\\nham\\tGet the door, I\\'m here\\nham\\tLets use it next week, princess :)\\nham\\tOr i go home first lar ü wait 4 me lor.. I put down my stuff first..\\nham\\tI want kfc its Tuesday. Only buy 2 meals ONLY 2. No gravy. Only 2 Mark. 2!\\nham\\tNo da:)he is stupid da..always sending like this:)don believe any of those message.pandy is a mental:)\\nham\\tOi when you gonna ring\\nspam\\tMissed call alert. These numbers called but left no message. 07008009200\\nham\\tI attended but nothing is there.\\nham\\tArd 530 like dat lor. We juz meet in mrt station then ü dun haf to come out.\\nham\\tNo dear i was sleeping :-P\\nham\\tEr mw im filled tuth is aight\\nham\\tWill be office around 4 pm. Now i am going hospital.\\nham\\tActually i\\'m waiting for 2 weeks when they start putting ad.\\nham\\tAnything lor if they all go then i go lor...\\nham\\tU free on sat rite? U wan 2 watch infernal affairs wif me n darren n mayb xy?\\nham\\tPlz note: if anyone calling from a mobile Co. &amp; asks u to type # &lt;#&gt;  or # &lt;#&gt; . Do not do so. Disconnect the call,coz it iz an attempt of \\'terrorist\\' to make use of the sim card no. Itz confirmd by nokia n motorola n has been verified by CNN IBN.\\nham\\tYo you around? A friend of mine\\'s lookin to pick up later tonight\\nham\\tStupid auto correct on my phone\\nham\\tDouble eviction this week - Spiral and Michael and good riddance to them!\\nham\\t\"The world suffers a lot... Not because of the violence of bad people. But because of the silence of good people!\", Gud night....\\nham\\tOk thats cool. Its , just off either raglan rd or edward rd. Behind the cricket ground. Gimme ring when ur closeby see you tuesday.\\nham\\tBuy one egg for me da..please:)\\nham\\tHave you started in skye\\nham\\tHave you bookedthe hut? And also your time off? How are you by the way?\\nham\\tAnd several to you sir.\\nham\\tU really pig leh sleep so much. My dad wake me up at 10 smth 2 eat lunch today.\\nham\\tI\\'m at home. Please call\\nham\\tMy love ... I hope your not doing anything drastic. Don\\'t you dare sell your pc or your phone ...\\nham\\tNow only i reached home. . . I am very tired now. . I will come tomorro\\nspam\\tFREEMSG: Our records indicate you may be entitled to 3750 pounds for the Accident you had. To claim for free reply with YES to this msg. To opt out text STOP\\nspam\\tU can WIN £100 of Music Gift Vouchers every week starting NOW Txt the word DRAW to 87066 TsCs www.Idew.com SkillGame, 1Winaweek, age16. 150ppermessSubscription\\nham\\tLife style garments account no please.\\nham\\tLol wtf random. Btw is that your lunch break\\nham\\tSez, hows u & de arab boy? Hope u r all good give my love 2 evry1 love ya eshxxxxxxxxxxx\\nham\\tThe LAY MAN! Just to let you know you are missed and thought off. Do have a great day. And if you can send me bimbo and ugo\\'s numbers, ill appreciate. Safe\\nham\\tDetroit. The home of snow. Enjoy it.\\nspam\\tShow ur colours! Euro 2004 2-4-1 Offer! Get an England Flag & 3Lions tone on ur phone! Click on the following service message for info!\\nham\\tOkie...\\nham\\tAight, I\\'m chillin in a friend\\'s room so text me when you\\'re on the way\\nham\\tIs toshiba portege m100 gd?\\nham\\tWell welp is sort of a semiobscure internet thing\\nspam\\tText PASS to 69669 to collect your polyphonic ringtones. Normal gprs charges apply only. Enjoy your tones\\nspam\\taccordingly. I repeat, just text the word ok on your mobile phone and send\\nham\\tLoosu go to hospital. De dont let it careless.\\nham\\tHow much for an eighth?\\nham\\tOmg Joanna is freaking me out. She\\'s looked thru all my friends to find photos of me. And then she\\'s asking about stuff on my MySpace which I haven\\'t even logged on in like a year. :/\\nham\\tSend ur birthdate with month and year, I will tel u ur LIFE PARTNER\\'S name. and the method of calculation. Reply must.\\nham\\tJuz now havent woke up so a bit blur blur... Can? Dad went out liao... I cant cum now oso...\\nham\\tHow about clothes, jewelry, and trips?\\nspam\\tBlock Breaker now comes in deluxe format with new features and great graphics from T-Mobile. Buy for just £5 by replying GET BBDELUXE and take the challenge\\nham\\tAah! A cuddle would be lush! I\\'d need lots of tea and soup before any kind of fumbling!\\nspam\\timportant information 4 orange user . today is your lucky day!2find out why log onto http://www.urawinner.com THERE\\'S A FANTASTIC SURPRISE AWAITING YOU!\\nham\\tI am late. I will be there at\\nham\\tSad story of a Man - Last week was my b\\'day. My Wife did\\'nt wish me. My Parents forgot n so did my Kids . I went to work. Even my Colleagues did not wish.\\nham\\tAre you plans with your family set in stone ?\\nham\\tPls dont forget to study\\nham\\tYou\\'ll never believe this but i have actually got off at taunton. Wow\\nham\\tDen only weekdays got special price... Haiz... Cant eat liao... Cut nails oso muz wait until i finish drivin wat, lunch still muz eat wat... \\nham\\tShe just broke down a list of reasons why nobody\\'s in town and I can\\'t tell if she\\'s being sarcastic or just faggy\\nham\\t &lt;DECIMAL&gt; m but its not a common car here so its better to buy from china or asia. Or if i find it less expensive. I.ll holla\\nham\\tThe greatest test of courage on earth is to bear defeat without losing heart....gn tc\\nham\\tSORRY IM STIL FUCKED AFTER LAST NITE WENT TOBED AT 430 GOT UP 4 WORK AT 630\\nham\\tHey so whats the plan this sat? \\nham\\tBeauty sleep can help ur pimples too.\\nham\\tGreat. Hope you are using your connections from mode men also cos you can never know why old friends can lead you to today\\nspam\\tNatalja (25/F) is inviting you to be her friend. Reply YES-440 or NO-440 See her: www.SMS.ac/u/nat27081980 STOP? Send STOP FRND to 62468\\nham\\tWhere to get those?\\nham\\tKind of. Just missed train cos of asthma attack, nxt one in half hr so driving in. not sure where to park.\\nham\\tBall is moving a lot.will spin in last :)so very difficult to bat:)\\nham\\tHaiyoh... Maybe your hamster was jealous of million\\nham\\tCan you please send me my aunty\\'s number\\nham\\tI\\'m glad. You are following your dreams.\\nham\\tI\\'ve reached home finally...\\nspam\\tURGENT. Important information for 02 user. Today is your lucky day! 2 find out why , log onto http://www.urawinner.com there is a fantastic surprise awaiting you !\\nspam\\tWINNER!! As a valued network customer you have been selected to receivea £900 prize reward! To claim call 09061701461. Claim code KL341. Valid 12 hours only.\\nham\\tWn u r hurt by d prsn who s close 2 u, do fight wit dem. Coz somtimes dis fight saves a relation bt being quiet leaves nothin in a relation.. Gud eveB-)\\nham\\tU can call now...\\nham\\tScience tells that chocolate will melt under the sunlight. Please don\\'t walk under the sunlight. BCoz,I don\\'t want to loss a sweet friend.\\nham\\tYes. I come to nyc for audiitions and am trying to relocate.\\nham\\tI pocked you up there before\\nham\\tCongrats. That\\'s great. I wanted to tell you not to tell me your score cos it might make me relax. But its motivating me so thanks for sharing\\nham\\tI wud never mind if u dont miss me or if u dont need me.. But u wil really hurt me wen u need me &amp; u dont tell me......... Take care:-)\\nham\\tHey mr whats the name of that bill brison book the one about language and words \\nham\\tOkay, good, no problem, and thanx!\\nham\\tFor you information, IKEA is spelled with all caps. That is not yelling. when you thought i had left you, you were sitting on the bed among the mess when i came in. i said we were going after you got home from class. please don\\'t try and bullshit me. It makes me want to listen to you less.\\nham\\tCall me when u\\'re done...\\nham\\tG.W.R\\nham\\tYou best watch what you say cause I get drunk as a motherfucker\\nspam\\tKit Strip - you have been billed 150p. Netcollex Ltd. PO Box 1013 IG11 OJA\\nspam\\tHMV BONUS SPECIAL 500 pounds of genuine HMV vouchers to be won. Just answer 4 easy questions. Play Now! Send HMV to 86688 More info:www.100percent-real.com\\nspam\\tPlease CALL 08712402578 immediately as there is an urgent message waiting for you\\nspam\\tthesmszone.com lets you send free anonymous and masked messages..im sending this message from there..do you see the potential for abuse???\\nspam\\tWELL DONE! Your 4* Costa Del Sol Holiday or £5000 await collection. Call 09050090044 Now toClaim. SAE, TCs, POBox334, Stockport, SK38xh, Cost£1.50/pm, Max10mins\\nham\\tHurt me... Tease me... Make me cry... But in the end of my life when i die plz keep one rose on my grave and say STUPID I MISS U.. HAVE A NICE DAY BSLVYL\\nham\\tErm... Woodland avenue somewhere. Do you get the parish magazine, his telephone number will be in there.\\nham\\tAre there TA jobs available? Let me know please cos i really need to start working\\nham\\tAiyar hard 2 type. U later free then tell me then i call n scold n tell u.\\nham\\tYup i\\'m free...\\nham\\tGood good, billy mates all gone. Just been jogging, again! Did enjoy concert?\\nham\\tYo come over carlos will be here soon\\nham\\tAwww dat is sweet! We can think of something to do he he! Have a nice time tonight ill probably txt u later cos im lonely :( xxx.\\nham\\tI guess it is useless calling u 4 something important.\\nham\\tHa ha - had popped down to the loo when you hello-ed me. Hello!\\nham\\tHe dint tell anything. He is angry on me that why you told to abi.\\nspam\\tSomeone U know has asked our dating service 2 contact you! Cant Guess who? CALL 09058091854 NOW all will be revealed. PO BOX385 M6 6WU\\nham\\tIt so happens that there r 2waxsto do wat you want. She can come and ill get her medical insurance. And she\\'ll be able to deliver and have basic care. I\\'m currently shopping for the right medical insurance for her. So just give me til friday morning. Thats when i.ll see the major person that can guide me to the right insurance.\\nham\\tI keep ten rs in my shelf:) buy two egg.\\nham\\tI wasn\\'t well babe, i have swollen glands at my throat ... What did you end up doing ?\\nham\\tIs ur changes 2 da report big? Cos i\\'ve already made changes 2 da previous report.\\nham\\tCaptain is in our room:)\\nham\\tI can\\'t speak, bcaz mobile have problem. I can listen you but you cann\\'t listen my voice. So i calls you later.\\nham\\tHIYA STU WOT U UP 2.IM IN SO MUCH TRUBLE AT HOME AT MOMENT EVONE HATES ME EVEN U! WOT THE HELL AV I DONE NOW? Y WONT U JUST TELL ME TEXT BCK PLEASE LUV DAN \\nham\\tS...i will take mokka players only:)\\nham\\tAre you still playing with gautham?\\nham\\tHey mr  and I are going to the sea view and having a couple of gays I mean games! Give me a bell when ya finish \\nham\\tK, jason says he\\'s gonna be around so I\\'ll be up there around  &lt;#&gt;\\nham\\tSorry . I will be able to get to you. See you in the morning.\\nham\\tAight well keep me informed\\nham\\tI am not having her number sir\\nham\\tAm only searching for good dual sim mobile pa.\\nham\\tThat seems unnecessarily hostile\\nham\\tDude got a haircut. Now its breezy up there\\nspam\\tCongrats! 2 mobile 3G Videophones R yours. call 09061744553 now! videochat wid ur mates, play java games, Dload polyH music, noline rentl. bx420. ip4. 5we. 150pm\\nham\\t1Apple/Day=No Doctor. 1Tulsi Leaf/Day=No Cancer. 1Lemon/Day=No Fat. 1Cup Milk/day=No Bone Problms 3 Litres Watr/Day=No Diseases Snd ths 2 Whom U Care..:-)\\nham\\ti thought we were doing a king of the hill thing there.\\nham\\tNope i\\'ll come online now..\\nham\\tALSO TELL HIM I SAID HAPPY BIRTHDAY\\nham\\tY bishan lei... I tot ü say lavender? \\nham\\tBoo what time u get out? U were supposed to take me shopping today. :(\\nham\\tNow u sound like manky scouse boy steve,like! I is travelling on da bus home.wot has u inmind 4 recreation dis eve?\\nham\\tFyi I\\'m taking a quick shower, be at epsilon in like  &lt;#&gt;  min\\nham\\ton a Tuesday night r u 4 real\\nham\\tYes when is the appt again?\\nham\\tJust got outta class gonna go gym.\\nham\\tI want to sent  &lt;#&gt; mesages today. Thats y. Sorry if i hurts\\nham\\tÜ all write or wat..\\nham\\tHa! I wouldn\\'t say that I just didn\\'t read anything into way u seemed. I don\\'t like 2 be judgemental....i save that for fridays in the pub!\\nham\\tIts a valentine game. . . send dis msg to all ur friends. . If 5 answers r d same then someone really loves u. . Ques- which colour suits me the best?\\nham\\tHi:)did you asked to waheeda fathima about leave?\\nham\\tEnjoy urself tmr...\\nham\\tYou still around? I could use a half-8th\\nspam\\tU 447801259231 have a secret admirer who is looking 2 make contact with U-find out who they R*reveal who thinks UR so special-call on 09058094597\\nham\\tYou give us back my id proof and  &lt;#&gt;  rs. We wont allow you to work. We will come to your home within days\\nham\\tÜ bot notes oredi... Cos i juz rem i got...\\nham\\tYes. Rent is very expensive so its the way we save.\\nham\\tNight has ended for another day, morning has come in a special way. May you smile like the sunny rays and leaves your worries at the blue blue bay. Gud mrng\\nham\\tHows the pain dear?y r u smiling?\\nham\\tFun fact: although you would think armand would eventually build up a tolerance or some shit considering how much he smokes, he gets fucked up in like 2 hits\\nspam\\timportant information 4 orange user 0789xxxxxxx. today is your lucky day!2find out why log onto http://www.urawinner.com THERE\\'S A FANTASTIC SURPRISE AWAITING YOU!\\nham\\tSorry, I can\\'t help you on this.\\nham\\tGreat. So should i send you my account number.\\nham\\tHELLOGORGEOUS, HOWS U? MY FONE WAS ON CHARGE LST NITW WEN U TEXD ME. HOPEU AD A NICE WKEND AS IM SURE U DID LOOKIN 4WARD 2 C-IN U 2MRW LUV JAZ\\nspam\\tOur dating service has been asked 2 contact U by someone shy! CALL 09058091870 NOW all will be revealed. POBox84, M26 3UZ 150p\\nham\\tÜ only send me the contents page...\\nham\\tNight sweet, sleep well! I\\'ve just been to see The Exorcism of Emily Rose and may never sleep again! Hugs and snogs! \\nham\\tDon\\'t Think About \"What u Have Got\" Think About \"How to Use It That You Have Got\" gooD ni8\\nham\\tI can\\'t right this second, gotta hit people up first\\nham\\tEvry Emotion dsn\\'t hav Words.Evry Wish dsn\\'t hav Prayrs.. If u Smile,D World is wit u.Othrwise even d Drop of Tear dsn\\'t lik 2 Stay wit u.So b happy.. Good morning, keep smiling:-)\\nham\\tSo what about you. What do you remember\\nham\\tUjhhhhhhh computer shipped out with address to sandiago and parantella lane. Wtf. Poop.\\nham\\tMm yes dear look how i am hugging you both. :-P\\nham\\tI like dis sweater fr mango but no more my size already so irritating.\\nham\\t1 I don\\'t have her number and 2 its gonna be a massive pain in the ass and i\\'d rather not get involved if that\\'s possible\\nham\\tAnytime lor...\\nspam\\tDo you want a new Video handset? 750 any time any network mins? UNLIMITED TEXT? Camcorder? Reply or Call now 08000930705 for del Sat AM\\nham\\tPurity of friendship between two is not about smiling after reading the forwarded message..Its about smiling just by seeing the name. Gud evng\\nspam\\tUr balance is now £600. Next question: Complete the landmark, Big, A. Bob, B. Barry or C. Ben ?. Text A, B or C to 83738. Good luck!\\nham\\tMe fine..absolutly fine\\nham\\tK and you\\'re sure I don\\'t have to have consent forms to do it :V\\nspam\\tUr TONEXS subscription has been renewed and you have been charged £4.50. You can choose 10 more polys this month. www.clubzed.co.uk *BILLING MSG*\\nspam\\tIf you don\\'t, your prize will go to another customer. T&C at www.t-c.biz 18+ 150p/min Polo Ltd Suite 373 London W1J 6HL Please call back if busy\\nham\\tHow much is torch in 9ja.\\nham\\tDoing nothing, then u not having dinner w us?\\nham\\tHow are you. Just checking up on you\\nham\\tDone it but internet connection v slow and can‘t send it. Will try again later or first thing tomo.\\nham\\tMathews or tait or edwards or anderson\\nham\\tyeah sure thing mate haunt got all my stuff sorted but im going sound anyway promoting hex for .by the way who is this? dont know number. Joke\\nham\\tNo need lar i go engin? Cos my sis at arts today...\\nham\\tThanks honey but still haven\\'t heard anything I will leave it a bit longer so not 2 crowd him and will try later - great advice thanks hope cardiff is still there!\\nspam\\tDo you want a New Nokia 3510i Colour Phone Delivered Tomorrow? With 200 FREE minutes to any mobile + 100 FREE text + FREE camcorder Reply or Call 8000930705\\nham\\t, im .. On the snowboarding trip. I was wondering if your planning to get everyone together befor we go..a meet and greet kind of affair? Cheers, \\nham\\tS.i\\'m watching it in live..\\nham\\tsee you then, we\\'re all christmassy here!\\nham\\tK I\\'m ready,  &lt;#&gt; ?\\nham\\tDo you know why god created gap between your fingers..? So that, One who is made for you comes &amp; fills those gaps by holding your hand with LOVE..!\\nham\\tThe greatest test of courage on earth is to bear defeat without losing heart....gn tc\\nham\\twhat are your new years plans?\\nspam\\tRECPT 1/3. You have ordered a Ringtone. Your order is being processed...\\nham\\tBaaaaaaaabe! Wake up ! I miss you ! I crave you! I need you!\\nham\\tOnly just got this message, not ignoring you. Yes, i was. Shopping that is\\nham\\tDear :-/ why you mood off. I cant drive so i brother to drive\\nham\\tWhen did dad get back.\\nham\\tCan you tell Shola to please go to college of medicine and visit the academic department, tell the academic secretary what the current situation is and ask if she can transfer there. She should ask someone to check Sagamu for the same thing and lautech. Its vital she completes her medical education in Nigeria. Its less expensive much less expensive. Unless she will be getting citizen rates in new zealand.\\nham\\tYes just finished watching days of our lives. I love it.\\nham\\tJuz go google n search 4 qet...\\nham\\tMany times we lose our best ones bcoz we are \\nham\\tGood FRIENDS CaRE for each Other.. CLoSE Friends UNDERSTaND each Other... and TRUE Friends STaY forever beyond words, beyond time. Gud ni8\\nham\\tJust getting back home\\nham\\tSorry, I\\'ll call later  &lt;#&gt; mins\\nham\\tDun need to use dial up juz open da browser n surf...\\nspam\\tAs one of our registered subscribers u can enter the draw 4 a 100 G.B. gift voucher by replying with ENTER. To unsubscribe text STOP\\nham\\tAwesome, plan to get here any time after like  &lt;#&gt; , I\\'ll text you details in a wee bit\\nham\\tTake care and sleep well.you need to learn to change in life.you only need to get CONVINCED on that.i will wait but no more conversations between us.GET CONVINCED by that time.Your family is over for you in many senses.respect them but not overemphasise.or u have no role in my life.\\nspam\\tFor your chance to WIN a FREE Bluetooth Headset then simply reply back with \"ADP\"\\nham\\tYou also didnt get na hi hi hi hi hi\\nham\\tYa but it cant display internal subs so i gotta extract them\\nham\\tIf i said anything wrong sorry de:-)\\nham\\tSad story of a Man - Last week was my b\\'day. My Wife did\\'nt wish me. My Parents forgot n so did my Kids . I went to work. Even my Colleagues did not wish.\\nham\\tHow stupid to say that i challenge god.You dont think at all on what i write instead you respond immed.\\nham\\tYeah I should be able to, I\\'ll text you when I\\'m ready to meet up\\nham\\tV skint too but fancied few bevies.waz gona go meet &othrs in spoon but jst bin watchng planet earth&sofa is v comfey; If i dont make it hav gd night\\nham\\t says that he\\'s quitting at least5times a day so i wudn\\'t take much notice of that. Nah, she didn\\'t mind. Are you gonna see him again? Do you want to come to taunton tonight? U can tell me all about !\\nham\\tWhen you get free, call me\\nham\\tHow have your little darlings been so far this week? Need a coffee run tomo?Can\\'t believe it\\'s that time of week already …\\nham\\tOk i msg u b4 i leave my house.\\nham\\tStill at west coast... Haiz... Ü\\'ll take forever to come back...\\nham\\tMMM ... Fuck .... Merry Christmas to me\\nham\\talright. Thanks for the advice. Enjoy your night out. I\\'ma try to get some sleep...\\nham\\tUpdate your face book status frequently :)\\nham\\tJust now saw your message.it k da:)\\nham\\tWas it something u ate?\\nham\\tSo what did the bank say about the money?\\nham\\tAiyar dun disturb u liao... Thk u have lots 2 do aft ur cupboard come...\\nham\\tHey they r not watching movie tonight so i\\'ll prob b home early...\\nham\\tYar lor... How u noe? U used dat route too?\\nham\\t2mro i am not coming to gym machan. Goodnight.\\nham\\tDont think you need yellow card for uk travel. Ask someone that has gone before. If you do its just  &lt;#&gt; bucks\\nham\\tCan u look 4 me in da lib i got stuff havent finish yet.\\nham\\tSounds great! Im going to sleep now. Have a good night!\\nspam\\tDon\\'t b floppy... b snappy & happy! Only gay chat service with photo upload call 08718730666 (10p/min). 2 stop our texts call 08712460324\\nham\\tHouse-Maid is the murderer, coz the man was murdered on  &lt;#&gt; th January.. As public holiday all govt.instituitions are closed,including post office..understand?\\nham\\tHow come u got nothing to do?\\nham\\tNothing will ever be easy. But don\\'t be looking for a reason not to take a risk on life and love\\nham\\ti want to grasp your pretty booty :)\\nham\\tI\\'ve got it down to a tea. not sure which flavour\\nham\\tI\\'m going 2 orchard now laready me reaching soon. U reaching?\\nham\\tDear i am not denying your words please\\nham\\tYou know my old Dom I told you about yesterday ? His name is Roger? He got in touch with me last night and wants me to meet him today at 2 pm\\nham\\tCOME BACK TO TAMPA FFFFUUUUUUU\\nham\\t2 celebrate my b\\x92day, y else?\\nham\\tMerry christmas to u too annie!\\nham\\tPlease tell me you have some of that special stock you were talking about\\nham\\tI sent them. Do you like?\\nspam\\tUrgent UR awarded a complimentary trip to EuroDisinc Trav, Aco&Entry41 Or £1000. To claim txt DIS to 87121 18+6*£1.50(moreFrmMob. ShrAcomOrSglSuplt)10, LS1 3AJ\\nham\\tAwesome, be there in a minute\\nham\\tAnd that is the problem. You walk around in \"julianaland\" oblivious to what is going on around you. I say the same things constantly and they go in one ear and out the other while you go off doing whatever you want to do. It\\'s not that you don\\'t know why I\\'m upset--it\\'s that you don\\'t listen when i tell you WHAT is going to upset me. Then you want to be surprised when I\\'m mad.\\nham\\tI\\'ve told you everything will stop. Just dont let her get dehydrated.\\nham\\tOr I guess  &lt;#&gt;  min\\nham\\tI\\'m home. Ard wat time will u reach?\\nham\\tStorming msg: Wen u lift d phne, u say \"HELLO\" Do u knw wt is d real meaning of HELLO?? . . . It\\'s d name of a girl..! . . . Yes.. And u knw who is dat girl?? \"Margaret Hello\" She is d girlfrnd f Grahmbell who invnted telphone... . . . . Moral:One can 4get d name of a person, bt not his girlfrnd... G o o d n i g h t . . .@\\nham\\tIf you want to mapquest it or something look up \"usf dogwood drive\", that\\'s the tiny street where the parking lot is\\nham\\tAight should I just plan to come up later tonight?\\nham\\tDie... I accidentally deleted e msg i suppose 2 put in e sim archive. Haiz... I so sad...\\nspam\\tWelcome to UK-mobile-date this msg is FREE giving you free calling to 08719839835. Future mgs billed at 150p daily. To cancel send \"go stop\" to 89123\\nham\\tThis is wishing you a great day. Moji told me about your offer and as always i was speechless. You offer so easily to go to great lengths on my behalf and its stunning. My exam is next friday. After that i will keep in touch more. Sorry.\\nham\\tThanks again for your reply today. When is ur visa coming in. And r u still buying the gucci and bags. My sister things are not easy, uncle john also has his own bills so i really need to think about how to make my own money. Later sha.\\nham\\tSorry I flaked last night, shit\\'s seriously goin down with my roommate, what you up to tonight?\\nham\\tHe said i look pretty wif long hair wat. But i thk he\\'s cutting quite short 4 me leh.\\nham\\tRanjith cal drpd Deeraj and deepak 5min hold\\nham\\t\"CHEERS FOR CALLIN BABE.SOZI CULDNT TALKBUT I WANNATELL U DETAILS LATER WENWECAN CHAT PROPERLY X\"\\nham\\tHey u still at the gym?\\nham\\tShe said,\\'\\' do u mind if I go into the bedroom for a minute ? \\'\\' \\'\\'OK\\'\\', I sed in a sexy mood. She came out 5 minuts latr wid a cake...n My Wife,\\nham\\tMuch better now thanks lol\\nham\\tNothing, smsing u n xy lor. Sorry lor da guys neva c u in person but they sort of know u lor. So u wan 2 meet them xy ask me 2 bring u along 4 our next meeting.\\nham\\tLemme know when I can swing by and pick up, I\\'m free basically any time after 1 all this semester\\nham\\tWa... U so efficient... Gee... Thanx...\\nspam\\t3. You have received your mobile content. Enjoy\\nham\\tS but not able to sleep.\\nspam\\tWant explicit SEX in 30 secs? Ring 02073162414 now! Costs 20p/min\\nham\\tWe will meet soon princess! Ttyl!\\nham\\tI\\'ll pick you up at about 5.15pm to go to taunton if you still want to come.\\nham\\tOh :-)only 4 outside players allowed to play know\\nham\\tI anything lor.\\nham\\tErutupalam thandiyachu\\nham\\tY cant u try new invention to fly..i\\'m not joking.,\\nham\\tNo..its ful of song lyrics..\\nham\\tWhat do u reckon as need 2 arrange transport if u can\\'t do it, thanks\\nham\\tTrue lov n care wil nevr go unrecognized. though somone often makes mistakes when valuing it. but they will definitly undrstnd once when they start missing it.\\nham\\tShopping? Eh ger i toking abt syd leh...Haha\\nham\\tWhat not under standing.\\nham\\thave * good weekend.\\nham\\tMiss call miss call khelate kintu opponenter miss call dhorte lage. Thats d rule. One with great phone receiving quality wins.\\nham\\tCall me when you get the chance plz &lt;3\\nham\\tThe new deus ex game comin early next yr\\nham\\tMy computer just fried the only essential part we don\\'t keep spares of because my fucking idiot roommates looovvve leaving the thing running on full  &lt;#&gt; /7\\nham\\tMy friend, she\\'s studying at warwick, we\\'ve planned to go shopping and to concert tmw, but it may be canceled, havn\\'t seen  for ages, yeah we should get together sometime!\\nham\\tProbably a couple hours tops\\nham\\tLOL .. *grins* .. I\\'m not babe, but thanks for thinking of me!\\nham\\tMan this bus is so so so slow. I think you\\'re gonna get there before me\\nham\\tHope this text meets you smiling. If not then let this text give you a reason to smile. Have a beautiful day.\\nham\\tIn case you wake up wondering where I am, I forgot I have to take care of something for grandma today, should be done before the parade\\nham\\tOk\\nspam\\tLatest Nokia Mobile or iPOD MP3 Player +£400 proze GUARANTEED! Reply with: WIN to 83355 now! Norcorp Ltd.£1,50/Mtmsgrcvd18+\\nspam\\tSMS SERVICES. for your inclusive text credits, pls goto www.comuk.net login= 3qxj9 unsubscribe with STOP, no extra charge. help 08702840625.COMUK. 220-CM2 9AE\\nham\\tNvm take ur time.\\nham\\tSo wat\\'s da decision?\\nham\\tWot is u up 2 then bitch?\\nham\\tStupid.its not possible\\nham\\tShe told to hr that he want posting in chennai:)because i\\'m working here:)\\nspam\\tMobile Club: Choose any of the top quality items for your mobile. 7cfca1a\\nham\\tWhen are you guys leaving?\\nham\\tHe neva grumble but i sad lor... Hee... Buy tmr lor aft lunch. But we still meetin 4 lunch tmr a not. Neva hear fr them lei. Ü got a lot of work ar?\\nham\\tNot able to do anything.\\nham\\tÜ takin linear algebra today?\\nham\\tThis weekend is fine (an excuse not to do too much decorating)\\nham\\tSorry I missed you babe. I was up late and slept in. I hope you enjoy your driving lesson, boytoy. I miss you too ... *teasing kiss*\\nham\\tNow project pa. After that only i can come.\\nspam\\tMoney i have won wining number 946 wot do i do next\\nham\\tSure, whenever you show the fuck up &gt;:(\\nham\\tThat was random saw my old roomate on campus. He graduated\\nspam\\tCongrats! 2 mobile 3G Videophones R yours. call 09061744553 now! videochat wid ur mates, play java games, Dload polyH music, noline rentl. bx420. ip4. 5we. 150pm\\nham\\tMen always needs a beautiful, intelligent, caring, loving, adjustable, cooperative wife. But the law allows only one wife....\\nham\\tThat sucks. So what do you got planned for your yo valentine? I am your yo valentine aren\\'t I?\\nham\\tJust got part Nottingham - 3 hrs 63miles. Good thing i love my man so much, but only doing 40mph. Hey ho\\nham\\tWhat to think no one saying clearly. Ok leave no need to ask her. I will go if she come or not\\nham\\tHi good mornin.. Thanku wish u d same..\\nham\\tDO U WANT 2 MEET UP 2MORRO\\nham\\tActually I decided I was too hungry so I haven\\'t left yet :V\\nham\\tI\\'ve sent ü my part..\\nham\\tCos i was out shopping wif darren jus now n i called him 2 ask wat present he wan lor. Then he started guessing who i was wif n he finally guessed darren lor.\\nspam\\tI want some cock! My hubby\\'s away, I need a real man 2 satisfy me. Txt WIFE to 89938 for no strings action. (Txt STOP 2 end, txt rec £1.50ea. OTBox 731 LA1 7WS. )\\nham\\tUnderstand. his loss is my gain :) so do you work? School?\\nham\\tHOW ARE U? I HAVE MISSED U! I HAVENT BEEN UP 2 MUCH A BIT BORED WITH THE HOLIDAY WANT 2 GO BAK 2 COLLEGE! SAD ISNT IT?xx\\nham\\tHiya, probably coming home * weekend after next\\nham\\tDon\\'t forget though that I love you .... And I walk beside you. Watching over you and keeping your heart warm.\\nham\\tI wish things were different. I wonder when i will be able to show you how much i value you. Pls continue the brisk walks no drugs without askin me please and find things to laugh about. I love you dearly.\\nham\\tOk both our days. So what are you making for dinner tonite? Am I invited?\\nspam\\tGr8 new service - live sex video chat on your mob - see the sexiest dirtiest girls live on ur phone - 4 details text horny to 89070 to cancel send STOP to 89070\\nham\\tI have no money 4 steve mate! !\\nham\\tIM LATE TELLMISS IM ON MY WAY\\nham\\tNever blame a day in ur life. Good days give u happiness. Bad days give u experience. Both are essential in life! All are Gods blessings! good morning.:\\nham\\tNormally i use to drink more water daily:)\\nham\\tDare i ask... Any luck with sorting out the car?\\nham\\tParty\\'s at my place at usf, no charge (but if you can contribute in any way it is greatly appreciated) and yeah, we got room for one more\\nham\\tUrgh, coach hot, smells of chip fat! Thanks again, especially for the duvet (not a predictive text word).\\nham\\tHiya. How was last night? I\\'ve been naughty and bought myself clothes and very little ... Ready for more shopping tho! What kind of time do you wanna meet?\\nspam\\tFreeMsg Hi baby wow just got a new cam moby. Wanna C a hot pic? or Fancy a chat?Im w8in 4uTxt / rply CHAT to 82242 Hlp 08712317606 Msg150p 2rcv\\nham\\tI\\'ve been trying to reach him without success\\nham\\twhen you and derek done with class?\\nham\\tNever y lei... I v lazy... Got wat? Dat day ü send me da url cant work one...\\nham\\tNever try alone to take the weight of a tear that comes out of ur heart and falls through ur eyes... Always remember a STUPID FRIEND is here to share... BSLVYL\\nham\\tHey mate. Spoke to the mag people. We‘re on.  the is deliver by the end of the month. Deliver on the 24th sept. Talk later. \\nham\\tHope you are having a good week. Just checking in\\nham\\tHaha, my friend tyler literally just asked if you could get him a dubsack\\nham\\t\"Hey! do u fancy meetin me at 4 at cha \\x96 hav a lil beverage on me. if not txt or ring me and we can meet up l8r. quite tired got in at 3 v.pist ;) love Pete x x x\"\\nham\\tGreat. Have a safe trip. Dont panic surrender all.\\nham\\t\"SYMPTOMS\" when U are in love: \"1.U like listening songs 2.U get stopped where u see the name of your beloved 3.U won\\'t get angry when your\\nham\\tSun ah... Thk mayb can if dun have anythin on... Thk have to book e lesson... E pilates is at orchard mrt u noe hor...  \\nham\\tTry to do something dear. You read something for exams\\nham\\t7 wonders in My WORLD 7th You 6th Ur style 5th Ur smile 4th Ur Personality 3rd Ur Nature 2nd Ur SMS and 1st \"Ur Lovely Friendship\"... good morning dear\\nham\\tGettin rdy to ship comp\\nham\\tI am in hospital da. . I will return home in evening\\nham\\tPISS IS TALKING IS SOMEONE THAT REALISE U THAT POINT THIS AT IS IT.(NOW READ IT BACKWARDS)\\nham\\tThink + da. You wil do.\\nham\\tI\\'m awake oh. What\\'s up.\\nham\\tGood afternoon my boytoy. How goes that walking here and there day ? Did you get that police abstract? Are you still out and about? I wake and miss you babe\\nham\\tHow much u trying to get?\\nham\\tCome around  &lt;DECIMAL&gt; pm vikky..i\\'m otside nw, il come by tht time\\nham\\tTell me again what your address is\\nham\\tHoneybee Said: *I\\'m d Sweetest in d World* God Laughed &amp; Said: *Wait,U Havnt Met d Person Reading This Msg* MORAL: Even GOD Can Crack Jokes! GM+GN+GE+GN:)\\nham\\tShould i buy him a blackberry bold 2 or torch. Should i buy him new or used. Let me know. Plus are you saying i should buy the  &lt;#&gt; g wifi ipad. And what are you saying about the about the  &lt;#&gt; g?\\nham\\tBut you were together so you should be thinkin about him\\nham\\thiya hows it going in sunny africa? hope u r avin a good time. give that big old silver back a big kiss from me.\\nham\\tAt WHAT TIME should i come tomorrow\\nspam\\tWanna have a laugh? Try CHIT-CHAT on your mobile now! Logon by txting the word: CHAT and send it to No: 8883 CM PO Box 4217 London W1A 6ZF 16+ 118p/msg rcvd\\nham\\t\"CHA QUITEAMUZING THAT\\x92SCOOL BABE,PROBPOP IN & CU SATTHEN HUNNY 4BREKKIE! LOVE JEN XXX. PSXTRA LRG PORTIONS 4 ME PLEASE \"\\nham\\tOmg how did u know what I ate?\\nspam\\t\"URGENT! This is the 2nd attempt to contact U!U have WON £1000CALL 09071512432 b4 300603t&csBCM4235WC1N3XX.callcost150ppmmobilesvary. max£7. 50\"\\nham\\t:( but your not here....\\nham\\tNot directly behind... Abt 4 rows behind ü...\\nspam\\tCongratulations ur awarded 500 of CD vouchers or 125gift guaranteed & Free entry 2 100 wkly draw txt MUSIC to 87066\\nspam\\tHad your contract mobile 11 Mnths? Latest Motorola, Nokia etc. all FREE! Double Mins & Text on Orange tariffs. TEXT YES for callback, no to remove from records\\nspam\\tUrgent! call 09066350750 from your landline. Your complimentary 4* Ibiza Holiday or 10,000 cash await collection SAE T&Cs PO BOX 434 SK3 8WP 150 ppm 18+\\nham\\tNo plans yet. What are you doing ?\\nham\\tHi ....My engagement has been fixd on  &lt;#&gt; th of next month. I know its really shocking bt....hmm njan vilikkam....t ws al of a sudn;-(.\\nham\\tNot course. Only maths one day one chapter with in one month we can finish.\\nham\\tWow didn\\'t think it was that common. I take it all back ur not a freak! Unless u chop it off:-)\\nspam\\tFor ur chance to win a £250 wkly shopping spree TXT: SHOP to 80878. T\\'s&C\\'s www.txt-2-shop.com custcare 08715705022, 1x150p/wk\\nham\\tNoooooooo please. Last thing I need is stress. For once in your life be fair.\\nspam\\tU have a Secret Admirer who is looking 2 make contact with U-find out who they R*reveal who thinks UR so special-call on 09065171142-stopsms-08718727870150ppm\\nspam\\tMila, age23, blonde, new in UK. I look sex with UK guys. if u like fun with me. Text MTALK to 69866.18 . 30pp/txt 1st 5free. £1.50 increments. Help08718728876\\nham\\tI\\'ll see if I can swing by in a bit, got some things to take care of here firsg\\nham\\tI wanted to wish you a Happy New Year and I wanted to talk to you about some legal advice to do with when Gary and I split but in person. I\\'ll make a trip to Ptbo for that. I hope everything is good with you babe and I love ya :)\\nham\\tHave you not finished work yet or something?\\nham\\tTomorrow i am not going to theatre. . . So i can come wherever u call me. . . Tell me where and when to come tomorrow\\nspam\\tWell done ENGLAND! Get the official poly ringtone or colour flag on yer mobile! text TONE or FLAG to 84199 NOW! Opt-out txt ENG STOP. Box39822 W111WX £1.50\\nham\\tRight it wasnt you who phoned it was someone with a number like yours!\\nham\\tIt\\'s ok i wun b angry. Msg u aft i come home tonight.\\nham\\tI had a good time too. Its nice to do something a bit different with my weekends for a change. See ya soon\\nham\\tYo sorry was in the shower sup\\nham\\tCarlos is down but I have to pick it up from him, so I\\'ll swing by usf in a little bit\\nham\\tFull heat pa:-) i have applyed oil pa.\\nham\\tI\\'m stuck in da middle of da row on da right hand side of da lt... \\nham\\tHave you laid your airtel line to rest?\\nham\\tHi did u decide wot 2 get 4 his bday if not ill prob jus get him a voucher frm virgin or sumfing \\nspam\\tFreeMsg: Txt: CALL to No: 86888 & claim your reward of 3 hours talk time to use from your phone now! Subscribe6GBP/mnth inc 3hrs 16 stop?txtStop\\nham\\t\"Hey j! r u feeling any better, hopeSo hunny. i amnow feelin ill & ithink i may have tonsolitusaswell! damn iam layin in bedreal bored. lotsof luv me xxxx\"\\nham\\tAnd I don\\'t plan on staying the night but I prolly won\\'t be back til late\\nham\\tTHANX 4 PUTTIN DA FONE DOWN ON ME!!\\nham\\tI need an 8th but I\\'m off campus atm, could I pick up in an hour or two?\\nham\\tOh... Haha... Den we shld had went today too... Gee, nvm la... Kaiez, i dun mind goin jazz oso... Scared hiphop open cant catch up... \\nham\\tBeen running but only managed 5 minutes and then needed oxygen! Might have to resort to the roller option!\\nham\\tWe live in the next  &lt;#&gt; mins\\nham\\tY de asking like this.\\nham\\tJust glad to be talking to you.\\nham\\tWat time ü finish?\\nham\\tSorry da. I gone mad so many pending works what to do.\\nham\\tHow much you got for cleaning\\nham\\thows my favourite person today? r u workin hard? couldn\\'t sleep again last nite nearly rang u at 4.30\\nspam\\tSunshine Quiz! Win a super Sony DVD recorder if you canname the capital of Australia? Text MQUIZ to 82277. B\\nham\\tÜ called dad oredi...\\nham\\tGood. do you think you could send me some pix? I would love to see your top and bottom...\\nham\\tNvm... I\\'m going to wear my sport shoes anyway... I\\'m going to be late leh.\\nham\\tSorry, I\\'ll call later In meeting.\\nham\\tTHIS IS A LONG FUCKIN SHOWR\\nham\\tReceived, understood n acted upon!\\nham\\tThey finally came to fix the ceiling.\\nham\\tU need my presnts always bcz U cant mis love. \"jeevithathile irulinae neekunna prakasamanu sneham\" prakasam ennal prabha \\'That mns prabha is\\'LOVE\\' Got it. Dont mis me....\\nham\\tJus finish blowing my hair. U finish dinner already?\\nham\\tI\\'m on the bus. Love you\\nham\\tLol ... I knew that .... I saw him in the dollar store\\nspam\\tPlease call our customer service representative on 0800 169 6031 between 10am-9pm as you have WON a guaranteed £1000 cash or £5000 prize!\\nspam\\tTodays Voda numbers ending with 7634 are selected to receive a £350 reward. If you have a match please call 08712300220 quoting claim code 7684 standard rates apply.\\nham\\tOnly saturday and sunday holiday so its very difficult:)\\nham\\tEverybody had fun this evening. Miss you.\\nham\\tGot hella gas money, want to go on a grand nature adventure with galileo in a little bit?\\nham\\tI\\'m in a meeting, call me later at\\nham\\tOh wow thats gay. Will firmware update help\\nham\\tThese won\\'t do. Have to move on to morphine\\nham\\tHow come i din c ü... Yup i cut my hair...\\nham\\tK k pa Had your lunch aha.\\nham\\tOh ho. Is this the first time u use these type of words\\nham\\tCaptain vijaykanth is doing comedy in captain tv..he is drunken :)\\nham\\tOf course. I guess god\\'s just got me on hold right now.\\nham\\tDo you hide anythiing or keeping distance from me\\nham\\tHavent.\\nspam\\tYou are being ripped off! Get your mobile content from www.clubmoby.com call 08717509990 poly/true/Pix/Ringtones/Games six downloads for only 3\\nham\\tSorry i din lock my keypad.\\nham\\tDid u got that persons story\\nham\\tAre you planning to come chennai?\\nspam\\tWe tried to contact you re your reply to our offer of a Video Phone 750 anytime any network mins Half Price Line Rental Camcorder Reply or call 08000930705\\nham\\tGod created gap btwn ur fingers so dat sum1 vry special will fill those gaps by holding ur hands.. Now plz dont ask y he created so much gap between legs !!!\\nham\\tWe are okay. Going to sleep now. Later\\nham\\tPlease protect yourself from e-threats. SIB never asks for sensitive information like Passwords,ATM/SMS PIN thru email. Never share your password with anybody.\\nham\\tFinally it has happened..! Aftr decades..! BEER is now cheaper than PETROL! The goverment expects us to \"DRINK\". . . But don\\'t \"DRIVE \"\\nspam\\tA £400 XMAS REWARD IS WAITING FOR YOU! Our computer has randomly picked you from our loyal mobile customers to receive a £400 reward. Just call 09066380611 \\nham\\tWhere r e meeting tmr?\\nham\\tLol yes. But it will add some spice to your day.\\nham\\tHope you are having a great day.\\nham\\tOur Prasanth ettans mother passed away last night. Just pray for her and family.\\nham\\tK, I\\'ll work something out\\nspam\\tPRIVATE! Your 2003 Account Statement for shows 800 un-redeemed S. I. M. points. Call 08718738002 Identifier Code: 48922 Expires 21/11/04\\nham\\tThis message is from a great Doctor in India:-): 1) Do not drink APPY FIZZ. It contains Cancer causing age\\nham\\tI cant pick the phone right now. Pls send a message\\nham\\tYou call him and tell now infront of them. Call him now.\\nham\\tOk no prob...\\nham\\tLadies first and genus second k .\\nham\\tNo. Yes please. Been swimming?\\nham\\tMum not going robinson already.\\nham\\tOk set let u noe e details later...\\nham\\tNot..tel software name..\\nham\\tI send the print  outs da.\\nham\\tIM REALY SOZ IMAT MY MUMS 2NITE WHAT ABOUT 2MORO \\nham\\tWhen I was born, GOD said, \"Oh No! Another IDIOT\". When you were born, GOD said, \"OH No! COMPETITION\". Who knew, one day these two will become FREINDS FOREVER!\\nham\\tI didnt get ur full msg..sometext is missing, send it again\\nham\\tProbably not, I\\'m almost out of gas and I get some cash tomorrow\\nspam\\tCustomer service announcement. We recently tried to make a delivery to you but were unable to do so, please call 07099833605 to re-schedule. Ref:9280114\\nham\\tI forgot 2 ask ü all smth.. There\\'s a card on da present lei... How? Ü all want 2 write smth or sign on it?\\nham\\tI\\'m leaving my house now.\\nspam\\tHi babe its Chloe, how r u? I was smashed on saturday night, it was great! How was your weekend? U been missing me? SP visionsms.com Text stop to stop 150p/text\\nham\\tÜ ready then call me...\\nham\\tWewa is 130. Iriver 255. All 128 mb.\\nham\\tIt is a good thing I\\'m now getting the connection to bw\\nham\\tSry da..jst nw only i came to home..\\nham\\tThat\\'s cool he\\'ll be here all night, lemme know when you\\'re around\\nham\\tAre you staying in town ?\\nham\\tHaha yeah, 2 oz is kind of a shitload\\nham\\tOk u can take me shopping when u get paid =D\\nham\\tMy life Means a lot to me, Not because I love my life, But because I love the people in my life, The world calls them friends, I call them my World:-).. Ge:-)..\\nham\\tAlright we\\'ll bring it to you, see you in like  &lt;#&gt;  mins\\nham\\tBut pls dont play in others life.\\nham\\tEatin my lunch...\\nham\\tHmmm.but you should give it on one day..\\nham\\tDidn\\'t try, g and I decided not to head out\\nham\\tOk no prob\\nham\\tSurly ill give it to you:-) while coming to review.\\nham\\tBy march ending, i should be ready. But will call you for sure. The problem is that my capital never complete. How far with you. How\\'s work and the ladies\\nham\\tTessy..pls do me a favor. Pls convey my birthday wishes to Nimya..pls dnt forget it. Today is her birthday Shijas\\nham\\tPls give her the food preferably pap very slowly with loads of sugar. You can take up to an hour to give it. And then some water. Very very slowly.\\nspam\\tURGENT! Your Mobile No 07808726822 was awarded a £2,000 Bonus Caller Prize on 02/09/03! This is our 2nd attempt to contact YOU! Call 0871-872-9758 BOX95QU\\nham\\tA guy who gets used but is too dumb to realize it.\\nham\\tOkey dokey, i‘ll be over in a bit just sorting some stuff out.\\nham\\tDon no da:)whats you plan?\\nham\\tYes fine \\nspam\\tWIN: We have a winner! Mr. T. Foley won an iPod! More exciting prizes soon, so keep an eye on ur mobile or visit www.win-82050.co.uk\\nham\\tI liked the new mobile\\nham\\tAnytime...\\nham\\tMmmmmmm *snuggles into you* ...*deep contented sigh* ... *whispers* ... I fucking love you so much I can barely stand it ...\\nham\\tYar but they say got some error.\\nham\\tHey anyway i have to :-)\\nham\\tWow so healthy. Old airport rd lor. Cant thk of anything else. But i\\'ll b bathing my dog later.\\nham\\tWif my family booking tour package.\\nham\\tDid you say bold, then torch later. Or one torch and 2bold?\\nham\\tHaha awesome, I might need to take you up on that, what you doin tonight?\\nham\\tYa i knw u vl giv..its ok thanks kano..anyway enjoy wit ur family wit 1st salary..:-);-)\\nham\\tHuh so slow i tot u reach long ago liao... U 2 more days only i 4 more leh...\\nham\\tThats cool princess! I will cover your face in hot sticky cum :)\\nham\\tBig brother‘s really scraped the barrel with this shower of social misfits\\nham\\tOops i thk i dun haf enuff... I go check then tell ü..\\nham\\tS:)8 min to go for lunch:)\\nham\\tHey. What happened? U switch off ur cell d whole day. This isnt good. Now if u do care, give me a call tomorrow.\\nham\\tK will do, addie &amp; I are doing some art so I\\'ll be here when you get home\\nham\\tMy uncles in Atlanta. Wish you guys a great semester.\\nham\\tAiyo... Her lesson so early... I\\'m still sleepin, haha... Okie, u go home liao den confirm w me lor...\\nham\\tForgot to tell ü smth.. Can ü like number the sections so that it\\'s clearer..\\nham\\tYup. Anything lor, if u dun wan it\\'s ok...\\nham\\tI\\'m home, my love ... If your still awake ... *loving kiss*\\nham\\tHELLO PEACH! MY CAKE TASTS LUSH!\\nspam\\tFREE GAME. Get Rayman Golf 4 FREE from the O2 Games Arcade. 1st get UR games settings. Reply POST, then save & activ8. Press 0 key for Arcade. Termsapply\\nham\\tThere\\'ll be a minor shindig at my place later tonight, you interested?\\nham\\tJason says it\\'s cool if we pick some up from his place in like an hour\\nspam\\tHad your mobile 10 mths? Update to the latest Camera/Video phones for FREE. KEEP UR SAME NUMBER, Get extra free mins/texts. Text YES for a call\\nham\\tI (Career Tel) have added u as a contact on INDYAROCKS.COM to send FREE SMS. To remove from phonebook - sms NO to  &lt;#&gt;\\nham\\tI\\'ve reached already.\\nham\\tI dont know ask to my brother. Nothing problem some thing that. Just i told .\\nham\\tK:)eng rocking in ashes:)\\nham\\tWat time r ü going to xin\\'s hostel?\\nham\\tGood Morning my Dear Shijutta........... Have a great &amp; successful day.\\nspam\\tBuy Space Invaders 4 a chance 2 win orig Arcade Game console. Press 0 for Games Arcade (std WAP charge) See o2.co.uk/games 4 Terms + settings. No purchase\\nham\\tOh k:)after that placement there ah?\\nham\\tNot for possession, especially not first offense\\nham\\tNt only for driving even for many reasons she is called BBD..thts it chikku, then hw abt dvg cold..heard tht vinobanagar violence hw is the condition..and hw ru ? Any problem?\\nham\\tI bought the test yesterday. Its something that lets you know the exact day u ovulate.when will get 2u in about 2 to 3wks. But pls pls dont fret. I know u r worried. Pls relax. Also is there anything in ur past history u need to tell me?\\nham\\tWe have pizza if u want\\nham\\tI keep seeing weird shit and bein all \"woah\" then realising it\\'s actually reasonable and I\\'m all \"oh\"\\nham\\tMany more happy returns of the day. I wish you happy birthday.\\nham\\tYa very nice. . .be ready on thursday\\nham\\tI am in hospital da. . I will return home in evening\\nham\\t\"Thinking of u ;) x\"\\nspam\\tCamera - You are awarded a SiPix Digital Camera! call 09061221066 fromm landline. Delivery within 28 days.\\nham\\tOrh i tot u say she now still dun believe.\\nham\\tWhen you just put in the + sign, choose my number and the pin will show. Right?\\nham\\tThe beauty of life is in next second.. which hides thousands of secrets. I wish every second will be wonderful in ur life...!! gud n8\\nham\\tThanx u darlin!im cool thanx. A few bday drinks 2 nite. 2morrow off! Take care c u soon.xxx\\nham\\tIf you\\'re still up, maybe leave the credit card so I can get gas when I get back like he told me to\\nspam\\tYour weekly Cool-Mob tones are ready to download !This weeks new Tones include: 1) Crazy Frog-AXEL F>>> 2) Akon-Lonely>>> 3) Black Eyed-Dont P >>>More info in n\\nham\\tWell boy am I glad G wasted all night at applebees for nothing\\nspam\\tCashbin.co.uk (Get lots of cash this weekend!) www.cashbin.co.uk Dear Welcome to the weekend We have got our biggest and best EVER cash give away!! These..\\nham\\tOk lor... Or u wan me go look 4 u?\\nham\\tU wan 2 haf lunch i\\'m in da canteen now.\\nham\\tDon\\'t make life too stressfull.. Always find time to Laugh.. It may not add years to your Life! But surely adds more life to ur years!! Gud ni8..swt dreams..\\nham\\they, looks like I was wrong and one of the kappa guys numbers is still on my phone, if you want I can text him and see if he\\'s around\\nspam\\tURGENT! Your Mobile number has been awarded with a £2000 prize GUARANTEED. Call 09061790121 from land line. Claim 3030. Valid 12hrs only 150ppm\\nspam\\tThanks 4 your continued support Your question this week will enter u in2 our draw 4 £100 cash. Name the NEW US President? txt ans to 80082\\nham\\tI\\'m home. Doc gave me pain meds says everything is fine.\\nham\\tIt\\'s é only $140 ard...É rest all ard $180 at least...Which is é price 4 é 2 bedrm ($900)\\nham\\tMe too! Have a lovely night xxx\\nham\\tPrepare to be pleasured :)\\nham\\tHi.:)technical support.providing assistance to us customer through call and email:)\\nham\\tif you text on your way to cup stop that should work. And that should be BUS\\nham\\tWhens your radio show?\\nspam\\tYour unique user ID is 1172. For removal send STOP to 87239 customer services 08708034412\\nham\\tI\\'m not sure if its still available though\\nham\\twatever reLation u built up in dis world only thing which remains atlast iz lonlines with lotz n lot memories! feeling..\\nham\\tCHEERS LOU! YEAH WAS A GOODNITE SHAME U NEVA CAME! C YA GAILxx\\nham\\tHi..i got the money da:)\\nham\\tHi, Mobile no.  &lt;#&gt;  has added you in their contact list on www.fullonsms.com It s a great place to send free sms to people For more visit fullonsms.com\\nham\\tOk then u tell me wat time u coming later lor.\\nham\\tU repeat e instructions again. Wat\\'s e road name of ur house?\\nham\\tSo many people seems to be special at first sight, But only very few will remain special to you till your last sight.. Maintain them till life ends.. Sh!jas\\nham\\tQuite lor. But dun tell him wait he get complacent...\\nham\\tSorry completely forgot * will pop em round this week if your still here?\\nham\\tU R THE MOST BEAUTIFUL GIRL IVE EVER SEEN. U R MY BABY COME AND C ME IN THE COMMON ROOM\\nham\\tO we cant see if we can join denis and mina? Or does denis want alone time\\nham\\tSen told that he is going to join his uncle finance in cbe\\nham\\tYup... Hey then one day on fri we can ask miwa and jiayin take leave go karaoke \\nham\\tCall me, i am senthil from hsbc.\\nham\\tEspecially since i talk about boston all up in my personal statement, lol! I woulda changed that if i had realized it said nyc! It says boston now.\\nham\\tIndeed and by the way it was either or - not both !\\nspam\\tUrgent -call 09066649731from Landline. Your complimentary 4* Ibiza Holiday or £10,000 cash await collection SAE T&Cs PO BOX 434 SK3 8WP 150ppm 18+\\nham\\tHoly living christ what is taking you so long\\nham\\tÜ thk of wat to eat tonight.\\nham\\tThanx. Yup we coming back on sun. Finish dinner going back 2 hotel now. Time flies, we\\'re tog 4 exactly a mth today. Hope we\\'ll haf many more mths to come...\\nham\\tWe\\'re on the opposite side from where we dropped you off\\nham\\tYup. Izzit still raining heavily cos i\\'m in e mrt i can\\'t c outside.\\nham\\tSend me your resume:-)\\nham\\tGd luck 4 ur exams :-)\\nham\\tOr u ask they all if next sat can a not. If all of them can make it then i\\'m ok lor.\\nham\\tSorry that was my uncle. I.ll keep in touch\\nham\\tSaw Guys and Dolls last night with Patrick Swayze it was great\\nspam\\tURGENT This is our 2nd attempt to contact U. Your £900 prize from YESTERDAY is still awaiting collection. To claim CALL NOW 09061702893\\nspam\\tSanta calling! Would your little ones like a call from Santa Xmas Eve? Call 09077818151 to book you time. Calls1.50ppm last 3mins 30s T&C www.santacalling.com\\nham\\tJust come home. I don\\'t want u to be miserable\\nham\\tI dont know why she.s not getting your messages\\nham\\tits cool but tyler had to take off so we\\'re gonna buy for him and drop it off at his place later tonight. Our total order is a quarter, you got enough?\\nham\\tThe guy at the car shop who was flirting with me got my phone number from the paperwork and called and texted me. I\\'m nervous because of course now he may have my address. Should i call his boss and tell him, knowing this may get him fired?\\nham\\tReverse is cheating. That is not mathematics.\\nham\\tHow do you plan to manage that\\nham\\tEr, hello, things didn‘t quite go to plan – is limping slowly home followed by aa and with exhaust hanging off\\nham\\tSorry for the delay. Yes masters\\nham\\tCall me when u finish then i come n pick u.\\nspam\\tPRIVATE! Your 2004 Account Statement for 078498****7 shows 786 unredeemed Bonus Points. To claim call 08719180219 Identifier Code: 45239 Expires 06.05.05\\nham\\tWhat\\'s up my own oga. Left my phone at home and just saw ur messages. Hope you are good. Have a great weekend.\\nham\\tDon\\'t worry though, I understand how important it is that I be put in my place with a poorly thought out punishment in the face of the worst thing that has ever happened to me. Brb gonna go kill myself\\nham\\tHoney, can you pls find out how much they sell Predicte in Nigeria. And how many times can it be used. Its very important to have a reply before monday\\nham\\tE admin building there? I might b slightly earlier... I\\'ll call u when i\\'m reaching...\\nham\\tfyi I\\'m at usf now, swing by the room whenever\\nham\\ti can call in  &lt;#&gt;  min if thats ok\\nham\\tUmmmmmaah Many many happy returns of d day my dear sweet heart.. HAPPY BIRTHDAY dear\\nham\\tÜ no home work to do meh... \\nham\\tAnything is valuable in only 2 situations: First- Before getting it... Second- After loosing it...\\nham\\tMe too. Mark is taking forever to pick up my prescription and the pain is coming back.\\nham\\tHow\\'s ur paper?\\nham\\tGot smaller capacity one? Quite ex...\\nspam\\tCheck Out Choose Your Babe Videos @ sms.shsex.netUN fgkslpoPW fgkslpo\\nham\\tIm good! I have been thinking about you...\\nspam\\tu r a winner U ave been specially selected 2 receive £1000 cash or a 4* holiday (flights inc) speak to a live operator 2 claim 0871277810710p/min (18 )\\nham\\t:-) :-)\\nham\\tNot thought bout it... || Drink in tap & spile at seven. || Is that pub on gas st off broad st by canal. || Ok?\\nham\\tI am going to sleep. I am tired of travel.\\nham\\tHaha, just what I was thinkin\\nham\\tYup but it\\'s not giving me problems now so mayb i\\'ll jus leave it...\\nham\\tLol no. Just trying to make your day a little more interesting\\nham\\tHow long before you get reply, just defer admission til next semester\\nham\\tThe word \"Checkmate\" in chess comes from the Persian phrase \"Shah Maat\" which means; \"the king is dead..\" Goodmorning.. Have a good day..:)\\nham\\tPo de :-):):-):-):-). No need job aha.\\nham\\tRats. Hey did u ever vote for the next themes?\\nspam\\tNew Mobiles from 2004, MUST GO! Txt: NOKIA to No: 89545 & collect yours today! From ONLY £1. www.4-tc.biz 2optout 087187262701.50gbp/mtmsg18 TXTAUCTION.\\nham\\tI hope your pee burns tonite.\\nham\\tOH RITE. WELL IM WITH MY BEST MATE PETE, WHO I WENT OUT WITH 4 A WEEK+ NOW WERE 2GEVA AGAIN. ITS BEEN LONGER THAN A WEEK.\\nham\\tYay can\\'t wait to party together!\\nham\\t....photoshop makes my computer shut down.\\nham\\tAll boys made fun of me today. Ok i have no problem. I just sent one message just for fun\\nham\\tThat\\'s one of the issues but california is okay. No snow so its manageable\\nspam\\tPRIVATE! Your 2003 Account Statement for shows 800 un-redeemed S. I. M. points. Call 08715203652 Identifier Code: 42810 Expires 29/10/0\\nham\\tHmmm.... Mayb can try e shoppin area one, but forgot e name of hotel...\\nham\\tAwesome, that gonna be soon or later tonight?\\nham\\tI need details about that online job.\\nspam\\tYOU HAVE WON! As a valued Vodafone customer our computer has picked YOU to win a £150 prize. To collect is easy. Just call 09061743386 \\nham\\tMissing you too.pray inshah allah\\nham\\tPls help me tell Ashley that i cant find her number oh\\nham\\tI am in escape theatre now. . Going to watch KAVALAN in a few minutes\\nham\\tS.this will increase the chance of winning.\\nham\\teither way works for me. I am  &lt;#&gt;  years old. Hope that doesnt bother you.\\nham\\tMaybe you should find something else to do instead???\\nham\\tGain the rights of a wife.dont demand it.i am trying as husband too.Lets see\\nham\\tI liked your new house\\nham\\tI\\'m fine. Hope you are also\\nham\\tAlso north carolina and texas atm, you would just go to the gre site and pay for the test results to be sent.\\nham\\tSame to u...\\nham\\tyes baby! I need to stretch open your pussy!\\nham\\tThanks  and ! Or bomb and date as my phone wanted to say! \\nham\\tOk...\\nham\\tHey, a guy I know is breathing down my neck to get him some bud, anyway you\\'d be able to get a half track to usf tonight?\\nham\\t\"Response\" is one of d powerful weapon 2 occupy a place in others \\'HEART\\'... So, always give response 2 who cares 4 U\"... Gud night..swt dreams..take care\\nham\\tNokia phone is lovly..\\nspam\\t**FREE MESSAGE**Thanks for using the Auction Subscription Service. 18 . 150p/MSGRCVD 2 Skip an Auction txt OUT. 2 Unsubscribe txt STOP CustomerCare 08718726270\\nspam\\tBored housewives! Chat n date now! 0871750.77.11! BT-national rate 10p/min only from landlines!\\nham\\tSorry da..today i wont come to play..i have driving clas..\\nham\\tI\\'m really sorry I lit your hair on fire\\nham\\tOh! Shit, I thought that was your trip! Loooooool ... That just makes SO much more sense now ... *grins* and the sofa reference was ... The \"sleep on a couch\" link you sent me ... Wasn\\'t that how you went on your trip ? Oh ... And didn\\'t your babe go with you for that celebration with your rents?\\nham\\tOkey dokey swashbuckling stuff what oh.\\nham\\tWatching cartoon, listening music &amp; at eve had to go temple &amp; church.. What about u?\\nham\\t1. Tension face 2. Smiling face 3. Waste face 4. Innocent face 5.Terror face 6.Cruel face 7.Romantic face 8.Lovable face 9.decent face  &lt;#&gt; .joker face.\\nham\\tDip\\'s cell dead. So i m coming with him. U better respond else we shall come back.\\nham\\tWell. You know what i mean. Texting\\nham\\tHi dis is yijue i would be happy to work wif ü all for gek1510...\\nham\\tLol! Oops sorry! Have fun. \\nham\\tWat happened to the cruise thing\\nham\\tI know dat feelin had it with Pete! Wuld get with em , nuther place nuther time mayb?\\nspam\\tlyricalladie(21/F) is inviting you to be her friend. Reply YES-910 or NO-910. See her: www.SMS.ac/u/hmmross STOP? Send STOP FRND to 62468\\nham\\tThe world\\'s most happiest frnds never have the same characters... Dey just have the best understanding of their differences...\\nspam\\tNo 1 POLYPHONIC tone 4 ur mob every week! Just txt PT2 to 87575. 1st Tone FREE ! so get txtin now and tell ur friends. 150p/tone. 16 reply HL 4info\\nham\\tYeah just open chat and click friend lists. Then make the list. Easy as pie\\nham\\talright tyler\\'s got a minor crisis and has to be home sooner than he thought so be here asap\\nham\\tWhen/where do I pick you up\\nham\\tAs usual u can call me ard 10 smth.\\nham\\tNew Theory: Argument wins d SITUATION, but loses the PERSON. So dont argue with ur friends just.. . . . kick them &amp; say, I\\'m always correct.!\\nham\\tFor many things its an antibiotic and it can be used for chest abdomen and gynae infections even bone infections.\\nham\\tPoor girl can\\'t go one day lmao\\nham\\tOr just do that 6times\\nspam\\tTodays Vodafone numbers ending with 4882 are selected to a receive a £350 award. If your number matches call 09064019014 to receive your £350 award.\\nham\\tYou have to pls make a note of all she.s exposed to. Also find out from her school if anyone else was vomiting. Is there a dog or cat in the house? Let me know later.\\nham\\tJapanese Proverb: If one Can do it, U too Can do it, If none Can do it,U must do it Indian version: If one Can do it, LET HIM DO it.. If none Can do it,LEAVE it!! And finally Kerala version: If one can do it, Stop him doing it.. If none can do it, Make a strike against it ...\\nham\\tSounds like there could be a lot of time spent in that chastity device boy ... *grins* ... Or take your beatings like a good dog. Going to lounge in a nice long bath now ?\\nham\\tIts worse if if uses half way then stops. Its better for him to complete it.\\nham\\tMiserable. They don\\'t tell u that the side effects of birth control are massive gut wrenching cramps for the first 2 months. I didn\\'t sleep at all last night.\\nham\\tSend me the new number\\nham\\tConvey my regards to him\\nspam\\tWant the latest Video handset? 750 anytime any network mins? Half price line rental? Reply or call 08000930705 for delivery tomorrow\\nham\\t2 and half years i missed your friendship:-)\\nham\\tI cant pick the phone right now. Pls send a message\\nham\\tOh for fuck\\'s sake she\\'s in like tallahassee\\nham\\tHaha, that was the first person I was gonna ask\\nspam\\tou are guaranteed the latest Nokia Phone, a 40GB iPod MP3 player or a £500 prize! Txt word: COLLECT to No: 83355! IBHltd LdnW15H 150p/Mtmsgrcvd18\\nham\\tTaka lor. Wat time u wan 2 come n look 4 us?\\nspam\\t* FREE* POLYPHONIC RINGTONE Text SUPER to 87131 to get your FREE POLY TONE of the week now! 16 SN PoBox202 NR31 7ZS subscription 450pw\\nham\\t\"I;m reaching in another 2 stops.\"\\nham\\tno, i *didn\\'t* mean to post it. I wrote it, and like so many other times i\\'ve ritten stuff to you, i let it sit there. it WAS what i was feeling at the time. I was angry. Before i left, i hit send, then stop. It wasn\\'t there. I checked on my phone when i got to my car. It wasn\\'t there. You said you didn\\'t sleep, you were bored. So why wouldn\\'t THAT be the time to clean, fold laundry, etc.? At least make the bed?\\nspam\\tWarner Village 83118 C Colin Farrell in SWAT this wkend @Warner Village & get 1 free med. Popcorn!Just show msg+ticket@kiosk.Valid 4-7/12. C t&c @kiosk. Reply SONY 4 mre film offers\\nham\\tWill you come online today night\\nham\\tThen anything special?\\nham\\tI\\'m in solihull, | do you want anything?\\nham\\tWill do. Have a good day\\nham\\tWE REGRET TO INFORM U THAT THE NHS HAS MADE A MISTAKE.U WERE NEVER ACTUALLY BORN.PLEASE REPORT 2 YOR LOCAL HOSPITAL 2B TERMINATED.WE R SORRY 4 THE INCONVENIENCE\\nham\\tLove that holiday Monday feeling even if I have to go to the dentists in an hour\\nham\\tI am on the way to tirupur.\\nspam\\tGoal! Arsenal 4 (Henry, 7 v Liverpool 2 Henry scores with a simple shot from 6 yards from a pass by Bergkamp to give Arsenal a 2 goal margin after 78 mins.\\nham\\tYou\\'ve already got a flaky parent. It\\'snot supposed to be the child\\'s job to support the parent...not until they\\'re The Ride age anyway. I\\'m supposed to be there to support you. And now i\\'ve hurt you. unintentional. But hurt nonetheless.\\nham\\tWe took hooch for a walk toaday and i fell over! Splat! Grazed my knees and everything! Should have stayed at home! See you tomorrow! \\nham\\tJust dropped em off, omw back now\\nspam\\tThis is the 2nd time we have tried 2 contact u. U have won the 750 Pound prize. 2 claim is easy, call 08712101358 NOW! Only 10p per min. BT-national-rate\\nham\\tSitting in mu waiting for everyone to get out of my suite so I can take a shower\\nham\\tRe your call; You didn\\'t see my facebook huh?\\nham\\tG says you never answer your texts, confirm/deny\\nham\\tIts so common hearin How r u? Wat r u doing? How was ur day? So let me ask u something different. Did u smile today? If not, do it now.... Gud evng.\\nham\\tHi Dear Call me its urgnt. I don\\'t know whats your problem. You don\\'t want to work or if you have any other problem at least tell me. Wating for your reply.\\nham\\tOh yah... We never cancel leh... Haha \\nham\\tWe can go 4 e normal pilates after our intro...  \\nham\\tOk... Let u noe when i leave my house.\\nham\\tOh yes, why is it like torture watching england?\\nham\\tWanna do some art?! :D\\nham\\tJust hopeing that wasn‘t too pissed up to remember and has gone off to his sisters or something!\\nspam\\tGot what it takes 2 take part in the WRC Rally in Oz? U can with Lucozade Energy! Text RALLY LE to 61200 (25p), see packs or lucozade.co.uk/wrc & itcould be u!\\nspam\\tHi, the SEXYCHAT girls are waiting for you to text them. Text now for a great night chatting. send STOP to stop this service\\nham\\tGood morning, my boytoy! How\\'s those yummy lips ? Where\\'s my sexy buns now ? What do you do ? Do you think of me ? Do you crave me ? Do you need me ?\\nham\\tMatch started.india  &lt;#&gt;  for 2\\nham\\tOnce free call me sir.\\nham\\tHey do you want anything to buy:)\\nham\\tHey babe, how\\'s it going ? Did you ever figure out where your going for New Years ?\\nham\\tK..k.:)congratulation ..\\nham\\tG wants to know where the fuck you are\\nham\\tNo it was cancelled yeah baby! Well that sounds important so i understand my darlin give me a ring later on this fone love Kate x\\nham\\tTomarrow i want to got to court. At  &lt;DECIMAL&gt; . So you come to bus stand at 9.\\nham\\tÜ go home liao? Ask dad to pick me up at 6...\\nham\\tOmg you can make a wedding chapel in frontierville? Why do they get all the good stuff?\\nham\\tI\\'m eatin now lor, but goin back to work soon... E mountain deer show huh... I watch b4 liao, very nice...\\nham\\tCheck mail.i have mailed varma and kept copy to you regarding membership.take care.insha allah.\\nham\\tWrong phone! This phone! I answer this one but assume the other is people i don\\'t well\\nham\\tAnyway I don\\'t think I can secure anything up here, lemme know if you want me to drive down south and chill\\nham\\tI\\'m already back home so no probably not\\nspam\\tGreat News! Call FREEFONE 08006344447 to claim your guaranteed £1000 CASH or £2000 gift. Speak to a live operator NOW!\\nspam\\tHi this is Amy, we will be sending you a free phone number in a couple of days, which will give you an access to all the adult parties...\\nham\\tI am in bus on the way to calicut\\nham\\tHi its me you are probably having too much fun to get this message but i thought id txt u cos im bored! and james has been farting at me all night\\nham\\thi baby im sat on the bloody bus at the mo and i wont be home until about 7:30 wanna do somethin later? call me later ortxt back jess xx\\nspam\\tWelcome to Select, an O2 service with added benefits. You can now call our specially trained advisors FREE from your mobile by dialling 402.\\nham\\tI lost 4 pounds since my doc visit last week woot woot! Now I\\'m gonna celebrate by stuffing my face!\\nham\\tU coming back 4 dinner rite? Dad ask me so i re confirm wif u...\\nham\\tDoing my masters. When will you buy a bb cos i have for sale and how\\'s bf\\nham\\tAhhhh...just woken up!had a bad dream about u tho,so i dont like u right now :) i didnt know anything about comedy night but i guess im up for it.\\nham\\tI\\'m vivek:)i got call from your number.\\nham\\tWhy didn\\'t u call on your lunch?\\nham\\tWhat i mean was i left too early to check, cos i\\'m working a 9-6.\\nham\\tI want  &lt;#&gt;  rs da:)do you have it?\\nham\\tA bit of Ur smile is my hppnss, a drop of Ur tear is my sorrow, a part of Ur heart is my life, a heart like mine wil care for U, forevr as my GOODFRIEND\\nham\\tYup ok...\\nham\\tI want to see your pretty pussy...\\nspam\\tDear Voucher holder Have your next meal on us. Use the following link on your pc 2 enjoy a 2 4 1 dining experiencehttp://www.vouch4me.com/etlp/dining.asp\\nham\\tA few people are at the game, I\\'m at the mall with iouri and kaila\\nspam\\tURGENT! We are trying to contact U. Todays draw shows that you have won a £2000 prize GUARANTEED. Call 09058094507 from land line. Claim 3030. Valid 12hrs only\\nspam\\tYou can donate £2.50 to UNICEF\\'s Asian Tsunami disaster support fund by texting DONATE to 864233. £2.50 will be added to your next bill\\nham\\tFuture is not what we planned for tomorrow.....! it is the result of what we do today...! Do the best in present... enjoy the future.\\nham\\tI will cme i want to go to hos 2morow. After that i wil cme. This what i got from her dear what to do. She didnt say any time\\nham\\tWe are supposed to meet to discuss abt our trip... Thought xuhui told you? In the afternoon. Thought we can go for lesson after that\\nham\\tHey come online! Use msn... We are all there\\nham\\tI\\'m fine. Hope you are good. Do take care.\\nham\\tOops I was in the shower when u called. Hey a parking garage collapsed at university hospital. See I\\'m not crazy. Stuff like that DOES happen.\\nham\\tAiyo u so poor thing... Then u dun wan 2 eat? U bathe already?\\nham\\tYar... I tot u knew dis would happen long ago already.\\nham\\tYou are gorgeous! keep those pix cumming :) thank you!\\nham\\tA boy was late 2 home. His father: \"POWER OF FRNDSHIP\"\\nham\\tJADE ITS PAUL. Y DIDN\\x92T U TXT ME? DO U REMEMBER ME FROM BARMED? I WANT 2 TALK 2 U! TXT ME\\nham\\tSpending new years with my brother and his family. Lets plan to meet next week. Are you ready to be spoiled? :)\\nham\\tSo what u doing today?\\nham\\tI said its okay. Sorry\\nham\\tSlept? I thinkThis time ( &lt;#&gt;  pm) is not dangerous\\nham\\tNetworking job is there.\\nspam\\tgoldviking (29/M) is inviting you to be his friend. Reply YES-762 or NO-762 See him: www.SMS.ac/u/goldviking STOP? Send STOP FRND to 62468\\nham\\tDont let studying stress you out. L8r.\\nham\\tThat\\'s y u haf 2 keep me busy...\\nham\\tNo rushing. I\\'m not working. I\\'m in school so if we rush we go hungry.\\nham\\tWhich channel:-):-):):-).\\nham\\tSo your telling me I coulda been your real Valentine and I wasn\\'t? U never pick me for NOTHING!!\\nspam\\tPhony £350 award - Todays Voda numbers ending XXXX are selected to receive a £350 award. If you have a match please call 08712300220 quoting claim code 3100 standard rates app\\nham\\tWe made it! Eta at taunton is 12:30 as planned, hope that‘s still okday?! Good to see you! :-xx\\nham\\tI\\'m hungry buy smth home...\\nham\\t\"HEY KATE, HOPE UR OK... WILL GIVE U A BUZ WEDLUNCH. GO OUTSOMEWHERE 4 ADRINK IN TOWN..CUD GO 2WATERSHD 4 A BIT? PPL FROMWRK WILL BTHERE. LOVE PETEXXX.\"\\nham\\tMy drive can only be read. I need to write\\nham\\tJust looked it up and addie goes back Monday, sucks to be her\\nham\\tHappy new year. Hope you are having a good semester\\nham\\tEsplanade lor. Where else...\\nham\\tCan you talk with me..\\nham\\tHmph. Go head, big baller.\\nham\\tWell its not like you actually called someone a punto. That woulda been worse.\\nham\\tNope. Since ayo travelled, he has forgotten his guy\\nham\\tYou still around? Looking to pick up later\\nspam\\tCDs 4u: Congratulations ur awarded £500 of CD gift vouchers or £125 gift guaranteed & Freeentry 2 £100 wkly draw xt MUSIC to 87066 TnCs www.ldew.com1win150ppmx3age16 \\nham\\tThere\\'s someone here that has a year  &lt;#&gt;  toyota camry like mr olayiwola\\'s own. Mileage is  &lt;#&gt; k.its clean but i need to know how much will it sell for. If i can raise the dough for it how soon after landing will it sell. Holla back.\\nham\\tGuess which pub im in? Im as happy as a pig in clover or whatever the saying is! \\nham\\tILL B DOWN SOON\\nham\\tOh k. . I will come tomorrow\\nham\\tGo fool dont cheat others ok\\nham\\tMy mobile number.pls sms ur mail id.convey regards to achan,amma.Rakhesh.Qatar\\nham\\tBy the way, \\'rencontre\\' is to meet again. Mountains dont....\\nspam\\tYou have WON a guaranteed £1000 cash or a £2000 prize. To claim yr prize call our customer service representative on 08714712412 between 10am-7pm Cost 10p\\nham\\tU attend ur driving lesson how many times a wk n which day?\\nham\\tUncle G, just checking up on you. Do have a rewarding month\\nham\\tHello boytoy ! Geeee ... I\\'m missing you today. I like to send you a tm and remind you I\\'m thinking of you ... And you are loved ... *loving kiss*\\nham\\tI think the other two still need to get cash but we can def be ready by 9\\nham\\tHey gals...U all wanna meet 4 dinner at nìte? \\nspam\\tDear 0776xxxxxxx U\\'ve been invited to XCHAT. This is our final attempt to contact u! Txt CHAT to 86688 150p/MsgrcvdHG/Suite342/2Lands/Row/W1J6HL LDN 18yrs\\nham\\tBabe ! What are you doing ? Where are you ? Who are you talking to ? Do you think of me ? Are you being a good boy? Are you missing me? Do you love me ?\\nham\\tGreat! How is the office today?\\nham\\tIt\\'s cool, we can last a little while. Getting more any time soon?\\nham\\t:-( sad puppy noise\\nham\\tYes its possible but dint try. Pls dont tell to any one k\\nham\\tAnyway holla at me whenever you\\'re around because I need an excuse to go creep on people in sarasota\\nham\\tWhere you. What happen\\nham\\tI was gonna ask you lol but i think its at 7\\nspam\\tUr cash-balance is currently 500 pounds - to maximize ur cash-in now send GO to 86688 only 150p/meg. CC: 08718720201 HG/Suite342/2lands Row/W1j6HL\\nspam\\tPRIVATE! Your 2003 Account Statement for shows 800 un-redeemed S.I.M. points. Call 08715203685 Identifier Code:4xx26 Expires 13/10/04\\nham\\tGo chase after her and run her over while she\\'s crossing the street\\nspam\\tI\\'d like to tell you my deepest darkest fantasies. Call me 09094646631 just 60p/min. To stop texts call 08712460324 (nat rate)\\nham\\tIs there coming friday is leave for pongal?do you get any news from your work place.\\nham\\tHey... Very inconvenient for your sis a not huh?\\nham\\tOk i vl..do u know i got adsense approved..\\nham\\t* Was really good to see you the other day dudette, been missing you!\\nham\\tI want to go to perumbavoor\\nham\\tHow many times i told in the stage all use to laugh. You not listen aha.\\nspam\\tYou won\\'t believe it but it\\'s true. It\\'s Incredible Txts! Reply G now to learn truly amazing things that will blow your mind. From O2FWD only 18p/txt\\nham\\t(You didn\\'t hear it from me)\\nham\\tThanks for being there for me just to talk to on saturday. You are very dear to me. I cherish having you as a brother and role model.\\nham\\tPls clarify back if an open return ticket that i have can be preponed for me to go back to kerala.\\nspam\\tNatalie (20/F) is inviting you to be her friend. Reply YES-165 or NO-165 See her: www.SMS.ac/u/natalie2k9 STOP? Send STOP FRND to 62468\\nham\\tShe ran off with a younger man. we will make pretty babies together :)\\nspam\\tJamster! To get your free wallpaper text HEART to 88888 now! T&C apply. 16 only. Need Help? Call 08701213186.\\nham\\tO ic lol. Should play 9 doors sometime yo\\nham\\tDunno, my dad said he coming home 2 bring us out 4 lunch. Yup i go w u lor. I call u when i reach school lor...\\nham\\tWe have sent JD for Customer Service cum Accounts Executive to ur mail id, For details contact us\\nham\\tDesires- u going to doctor 4 liver. And get a bit stylish. Get ur hair managed. Thats it.\\nham\\tHmmm.still we dont have opener?\\nham\\tYeah so basically any time next week you can get away from your mom &amp; get up before 3\\nham\\tEdison has rightly said, \"A fool can ask more questions than a wise man can answer\" Now you know why all of us are speechless during ViVa.. GM,GN,GE,GNT:-)\\nham\\tI will vote for wherever my heart guides me\\nham\\tWith my sis lor... We juz watched italian job.\\nham\\tTick, tick, tick .... Where are you ? I could die of loneliness you know ! *pouts* *stomps feet* I need you ...\\nham\\tLmao you know me so well...\\nspam\\tDouble Mins & Double Txt & 1/2 price Linerental on Latest Orange Bluetooth mobiles. Call MobileUpd8 for the very latest offers. 08000839402 or call2optout/LF56\\nham\\tAm on a train back from northampton so i\\'m afraid not! I\\'m staying skyving off today ho ho! Will be around wednesday though. Do you fancy the comedy club this week by the way?\\nham\\tGoodnight da thangam I really miss u dear.\\nham\\tHey next sun 1030 there\\'s a basic yoga course... at bugis... We can go for that... Pilates intro next sat.... Tell me what time you r free\\nham\\tGeeeee ... Your internet is really bad today, eh ?\\nspam\\tFree video camera phones with Half Price line rental for 12 mths and 500 cross ntwk mins 100 txts. Call MobileUpd8 08001950382 or Call2OptOut/674\\nham\\tI think i am disturbing her da\\nham\\tSorry, I\\'ll call you  later. I am in meeting sir.\\nham\\tHavent stuck at orchard in my dad\\'s car. Going 4 dinner now. U leh? So r they free tonight?\\nham\\tOk i also wan 2 watch e 9 pm show...\\nham\\tI dunno lei... Like dun haf...\\nham\\tBut your brother transfered only  &lt;#&gt;  +  &lt;#&gt; . Pa.\\nham\\tI calls you later. Afternoon onwords mtnl service get problem in south mumbai. I can hear you but you cann\\'t listen me.\\nspam\\t83039 62735=£450 UK Break AccommodationVouchers terms & conditions apply. 2 claim you mustprovide your claim number which is 15541 \\nham\\tTalk to g and x about that\\nham\\tHai dear friends... This is my new &amp; present number..:) By Rajitha Raj (Ranju)\\nspam\\t5p 4 alfie Moon\\'s Children in need song on ur mob. Tell ur m8s. Txt Tone charity to 8007 for Nokias or Poly charity for polys: zed 08701417012 profit 2 charity.\\nham\\tAs in different styles?\\nspam\\tWIN a £200 Shopping spree every WEEK Starting NOW. 2 play text STORE to 88039. SkilGme. TsCs08714740323 1Winawk! age16 £1.50perweeksub.\\nham\\tGud ni8 dear..slp well..take care..swt dreams..Muah..\\nham\\tI want to sent  &lt;#&gt; mesages today. Thats y. Sorry if i hurts\\nspam\\tThis is the 2nd attempt to contract U, you have won this weeks top prize of either £1000 cash or £200 prize. Just call 09066361921\\nham\\tWell, i\\'m glad you didn\\'t find it totally disagreeable ... Lol\\nham\\tGuy, no flash me now. If you go call me, call me. How madam. Take care oh.\\nspam\\tDo you want a New Nokia 3510i colour phone DeliveredTomorrow? With 300 free minutes to any mobile + 100 free texts + Free Camcorder reply or call 08000930705.\\nham\\tMark works tomorrow. He gets out at 5. His work is by your house so he can meet u afterwards.\\nham\\t\"Keep ur problems in ur heart, b\\'coz nobody will fight for u. Only u &amp; u have to fight for ur self &amp; win the battle. -VIVEKANAND- G 9t.. SD..\\nham\\tYeah, give me a call if you\\'ve got a minute\\nham\\t\"HI BABE UAWAKE?FEELLIKW SHIT.JUSTFOUND OUT VIA ALETTER THATMUM GOTMARRIED 4thNOV.BEHIND OURBACKS \\x96 FUCKINNICE!SELFISH,DEVIOUSBITCH.ANYWAY,I\\x92L CALL U\"\\nham\\tAmazing : If you rearrange these letters it gives the same meaning... Dormitory = Dirty room Astronomer = Moon starer The eyes = They see Election results = Lies lets recount Mother-in-law = Woman Hitler Eleven plus two =Twelve plus one Its Amazing... !:-)\\nham\\tAiya we discuss later lar... Pick ü up at 4 is it?\\nham\\tHey happy birthday...\\nham\\tSorry i missed your call. Can you please call back.\\nham\\tOmg if its not one thing its another. My cat has worms :/ when does this bad day end?\\nham\\tGood morning, im suffering from fever and dysentry ..will not be able to come to office today.\\nham\\tI wont do anything de.\\nham\\tWhat type of stuff do you sing?\\nham\\tSt andre, virgil\\'s cream\\nham\\tNo no. I will check all rooms befor activities\\nham\\tMy fri ah... Okie lor,goin 4 my drivin den go shoppin after tt...\\nham\\tGokila is talking with you aha:)\\nham\\tHi Shanil,Rakhesh here.thanks,i have exchanged the uncut diamond stuff.leaving back. Excellent service by Dino and Prem.\\nham\\tK.k.this month kotees birthday know?\\nham\\tBut i\\'m really really broke oh. No amount is too small even  &lt;#&gt; \\nham\\tSorry about that this is my mates phone and i didnt write it love Kate\\nspam\\tTheMob>Hit the link to get a premium Pink Panther game, the new no. 1 from Sugababes, a crazy Zebra animation or a badass Hoody wallpaper-all 4 FREE!\\nham\\tAh, well that confuses things, doesnt it? I thought was friends with now. Maybe i did the wrong thing but i already sort of invited -tho he may not come cos of money.\\nham\\tAight, call me once you\\'re close\\nham\\tNope thats fine. I might have a nap tho! \\nspam\\tThis msg is for your mobile content order It has been resent as previous attempt failed due to network error Queries to customersqueries@netvision.uk.com\\nham\\tIn other news after hassling me to get him weed for a week andres has no money. HAUGHAIGHGTUJHYGUJ\\nham\\tA Boy loved a gal. He propsd bt she didnt mind. He gv lv lttrs, Bt her frnds threw thm. Again d boy decided 2 aproach d gal , dt time a truck was speeding towards d gal. Wn it was about 2 hit d girl,d boy ran like hell n saved her. She asked \\'hw cn u run so fast?\\' D boy replied \"Boost is d secret of my energy\" n instantly d girl shouted \"our energy\" n Thy lived happily 2gthr drinking boost evrydy Moral of d story:- I hv free msgs:D;): gud ni8\\nham\\tI wnt to buy a BMW car urgently..its vry urgent.but hv a shortage of  &lt;#&gt; Lacs.there is no source to arng dis amt. &lt;#&gt; lacs..thats my prob\\nham\\tDing me on ya break fassyole! Blacko from londn\\nham\\tI REALLY NEED 2 KISS U I MISS U MY BABY FROM UR BABY 4EVA\\nham\\tThe sign of maturity is not when we start saying big things.. But actually it is, when we start understanding small things... *HAVE A NICE EVENING* BSLVYL\\nham\\tOh you got many responsibilities.\\nspam\\tYou have 1 new message. Please call 08715205273\\nham\\tI\\'ve reached sch already...\\nspam\\tDecember only! Had your mobile 11mths+? You are entitled to update to the latest colour camera mobile for Free! Call The Mobile Update VCo FREE on 08002986906 \\nham\\tU definitely need a module from e humanities dis sem izzit? U wan 2 take other modules 1st?\\nham\\tArgh why the fuck is nobody in town ;_;\\nspam\\tGet 3 Lions England tone, reply lionm 4 mono or lionp 4 poly. 4 more go 2 www.ringtones.co.uk, the original n best. Tones 3GBP network operator rates apply.\\nham\\tThanks. Fills me with complete calm and reassurance! \\nham\\tAslamalaikkum....insha allah tohar beeen muht albi mufti mahfuuz...meaning same here....\\nham\\tAre you driving or training?\\nham\\tLol for real. She told my dad I have cancer\\nspam\\tPRIVATE! Your 2003 Account Statement for 078\\nham\\tOops I did have it,  &lt;#&gt; ?\\nham\\t\"NOT ENUFCREDEIT TOCALL.SHALL ILEAVE UNI AT 6 +GET A BUS TO YOR HOUSE?\"\\nham\\tHi Chikku, send some nice msgs\\nham\\tHe is impossible to argue with and he always treats me like his sub, like he never released me ... Which he did and I will remind him of that if necessary\\nham\\tAfter my work ah... Den 6 plus lor... U workin oso rite... Den go orchard lor, no other place to go liao...\\nham\\tTo the wonderful Okors, have a great month. We cherish you guys and wish you well each day. MojiBiola\\nham\\tCuz ibored. And don wanna study\\nham\\tWot about on wed nite I am 3 then but only til 9!\\nham\\tRose for red,red for blood,blood for heart,heart for u. But u for me.... Send tis to all ur friends.. Including me.. If u like me.. If u get back, 1-u r poor in relation! 2-u need some 1 to support 3-u r frnd 2 many 4-some1 luvs u 5+- some1 is praying god to marry u.:-) try it....\\nham\\tAny way where are you and what doing.\\nham\\tThat sucks. I\\'ll go over so u can do my hair. You\\'ll do it free right?\\nham\\tit\\'s still not working. And this time i also tried adding zeros. That was the savings. The checking is  &lt;#&gt; \\nham\\tHmm... Dunno leh, mayb a bag 4 goigng out dat is not too small. Or jus anything except perfume, smth dat i can keep.\\nham\\tSday only joined.so training we started today:)\\nham\\tSorry * was at the grocers.\\nham\\tThere are some nice pubs near here or there is Frankie n Bennys near the warner cinema?\\nspam\\tYOU VE WON! Your 4* Costa Del Sol Holiday or £5000 await collection. Call 09050090044 Now toClaim. SAE, TC s, POBox334, Stockport, SK38xh, Cost£1.50/pm, Max10mins\\nham\\tYup... I havent been there before... You want to go for the yoga? I can call up to book \\nham\\tOh shut it. Omg yesterday I had a dream that I had 2 kids both boys. I was so pissed. Not only about the kids but them being boys. I even told mark in my dream that he was changing diapers cause I\\'m not getting owed in the face.\\nham\\tYeah I imagine he would be really gentle. Unlike the other docs who treat their patients like turkeys.\\nspam\\tFREE for 1st week! No1 Nokia tone 4 ur mobile every week just txt NOKIA to 8077 Get txting and tell ur mates. www.getzed.co.uk POBox 36504 W45WQ 16+ norm150p/tone\\nham\\tNow that you have started dont stop. Just pray for more good ideas and anything i see that can help you guys i.ll forward you a link.\\nham\\tHi darlin im on helens fone im gonna b up the princes 2 nite please come up tb love Kate\\nham\\tI\\'m in office now da:)where are you?\\nham\\tAiyar u so poor thing... I give u my support k... Jia you! I\\'ll think of u...\\nham\\tOh unintentionally not bad timing. Great. Fingers  the trains play along! Will give fifteen min warning.\\nspam\\tGet your garden ready for summer with a FREE selection of summer bulbs and seeds worth £33:50 only with The Scotsman this Saturday. To stop go2 notxt.co.uk\\nham\\tK..then come wenever u lik to come and also tel vikky to come by getting free time..:-)\\nham\\tPls call me da. What happen.\\nham\\tHappy new year to u and ur family...may this new year bring happiness , stability and tranquility to ur vibrant colourful life:):)\\nham\\tNo problem with the renewal. I.ll do it right away but i dont know his details.\\nham\\tIdk. I\\'m sitting here in a stop and shop parking lot right now bawling my eyes out because i feel like i\\'m a failure in everything. Nobody wants me and now i feel like i\\'m failing you.\\nham\\tHaven\\'t left yet so probably gonna be here til dinner\\nham\\tLike  &lt;#&gt; , same question\\nham\\tMY NEW YEARS EVE WAS OK. I WENT TO A PARTY WITH MY BOYFRIEND. WHO IS THIS SI THEN HEY\\nham\\tSir, I need Velusamy sir\\'s date of birth and company bank facilities details.\\nham\\tK k:) sms chat with me.\\nham\\tI will come with karnan car. Please wait till 6pm will directly goto doctor.\\nham\\tNo but the bluray player can\\nham\\tOk... Then r we meeting later?\\nham\\tLol no. I just need to cash in my nitros. Hurry come on before I crash out!\\nham\\tJust send a text. We\\'ll skype later.\\nham\\tOk leave no need to ask\\nspam\\tCongrats 2 mobile 3G Videophones R yours. call 09063458130 now! videochat wid ur mates, play java games, Dload polypH music, noline rentl. bx420. ip4. 5we. 150p\\nham\\tÜ still got lessons?  Ü in sch?\\nham\\tY she dun believe leh? I tot i told her it\\'s true already. I thk she muz c us tog then she believe.\\nham\\tOh did you charge camera\\nham\\tI‘ve got some salt, you can rub it in my open wounds if you like!\\nham\\tNow i\\'m going for lunch.\\nham\\tI\\'m in school now n i\\'ll be in da lab doing some stuff give me a call when ü r done.\\nham\\tOh k. . I will come tomorrow\\nham\\tAight, text me tonight and we\\'ll see what\\'s up\\nham\\tU 2.\\nham\\tWater logging in desert. Geoenvironmental implications.\\nham\\tRaji..pls do me a favour. Pls convey my Birthday wishes to Nimya. Pls. Today is her birthday.\\nham\\tCompany is very good.environment is terrific and food is really nice:)\\nham\\tVery strange.  and  are watching the 2nd one now but i\\'m in bed. Sweet dreams, miss u \\nspam\\tSMS AUCTION - A BRAND NEW Nokia 7250 is up 4 auction today! Auction is FREE 2 join & take part! Txt NOKIA to 86021 now!\\nham\\tHi hope u r both ok, he said he would text and he hasn\\'t, have u seen him, let me down gently please \\nham\\tBabe! I fucking love you too !! You know? Fuck it was so good to hear your voice. I so need that. I crave it. I can\\'t get enough. I adore you, Ahmad *kisses*\\nham\\tK sure am in my relatives home. Sms me de. Pls:-)\\nham\\tI sent them. Do you like?\\nham\\tFuuuuck I need to stop sleepin, sup\\nham\\tI\\'m in town now so i\\'ll jus take mrt down later.\\nham\\tI just cooked a rather nice salmon a la you\\nham\\tI uploaded mine to Facebook\\nham\\tWHAT TIME U WRKIN?\\nham\\tOkie\\nspam\\tree entry in 2 a weekly comp for a chance to win an ipod. Txt POD to 80182 to get entry (std txt rate) T&C\\'s apply 08452810073 for details 18+\\nspam\\tOur records indicate u maybe entitled to 5000 pounds in compensation for the Accident you had. To claim 4 free reply with CLAIM to this msg. 2 stop txt STOP\\nham\\tSorry, I\\'ll call later\\nham\\tOh oh... Den muz change plan liao... Go back have to yan jiu again...\\nham\\tIt\\'s wylie, you in tampa or sarasota?\\nham\\tOk... Take ur time n enjoy ur dinner...\\nham\\tDarren was saying dat if u meeting da ge den we dun meet 4 dinner. Cos later u leave xy will feel awkward. Den u meet him 4 lunch lor.\\nspam\\tSpook up your mob with a Halloween collection of a logo & pic message plus a free eerie tone, txt CARD SPOOK to 8007 zed 08701417012150p per logo/pic \\nham\\tI like cheap! But i‘m happy to splash out on the wine if it makes you feel better..\\nham\\tShe.s fine. I have had difficulties with her phone. It works with mine. Can you pls send her another friend request.\\nham\\tUgh my leg hurts. Musta overdid it on mon.\\nspam\\tCall Germany for only 1 pence per minute! Call from a fixed line via access number 0844 861 85 85. No prepayment. Direct access! www.telediscount.co.uk\\nspam\\tYOU VE WON! Your 4* Costa Del Sol Holiday or £5000 await collection. Call 09050090044 Now toClaim. SAE, TC s, POBox334, Stockport, SK38xh, Cost£1.50/pm, Max10mins\\nham\\tWOT STUDENT DISCOUNT CAN U GET ON BOOKS?\\nham\\tMe fine..absolutly fine\\nham\\tHow come she can get it? Should b quite diff to guess rite...\\nspam\\tHad your mobile 11mths ? Update for FREE to Oranges latest colour camera mobiles & unlimited weekend calls. Call Mobile Upd8 on freefone 08000839402 or 2StopTxt\\nham\\tI will reach ur home in  &lt;#&gt;  minutes\\nham\\tBabe, I\\'m answering you, can\\'t you see me ? Maybe you\\'d better reboot YM ... I got the photo ... It\\'s great !\\nham\\tHi.what you think about match?\\nham\\tI know you are thinkin malaria. But relax, children cant handle malaria. She would have been worse and its gastroenteritis. If she takes enough to replace her loss her temp will reduce. And if you give her malaria meds now she will just vomit. Its a self limiting illness she has which means in a few days it will completely stop\\nham\\tDai i downloaded but there is only exe file which i can only run that exe after installing.\\nham\\tIt is only yesterday true true.\\nham\\tK.k.how is your business now?\\nham\\t3 pa but not selected.\\nspam\\tNatalja (25/F) is inviting you to be her friend. Reply YES-440 or NO-440 See her: www.SMS.ac/u/nat27081980 STOP? Send STOP FRND to 62468\\nham\\tI keep ten rs in my shelf:) buy two egg.\\nham\\tI am late. I will be there at\\nham\\tWell thats nice. Too bad i cant eat it\\nham\\tI accidentally brought em home in the box\\nham\\tPls she needs to dat slowly or she will vomit more.\\nham\\tI have to take exam with in march 3\\nham\\tJane babes not goin 2 wrk, feel ill after lst nite. Foned in already cover 4 me chuck.:-)\\nham\\t5 nights...We nt staying at port step liao...Too ex\\nham\\tIf I die I want u to have all my stuffs.\\nham\\t\"OH FUCK. JUSWOKE UP IN A BED ON A BOATIN THE DOCKS. SLEPT WID 25 YEAR OLD. SPINOUT! GIV U DA GOSSIP L8R. XXX\"\\nham\\tSmile in Pleasure Smile in Pain Smile when trouble pours like Rain Smile when sum1 Hurts U Smile becoz SOMEONE still Loves to see u Smiling!!\\nham\\tPrabha..i\\'m soryda..realy..frm heart i\\'m sory\\nham\\tI re-met alex nichols from middle school and it turns out he\\'s dealing!\\nspam\\tPRIVATE! Your 2003 Account Statement for <fone no> shows 800 un-redeemed S. I. M. points. Call 08715203656 Identifier Code: 42049 Expires 26/10/04\\nham\\tIt means u could not keep ur words.\\nham\\tNope, I\\'m still in the market\\nham\\tI realise you are a busy guy and i\\'m trying not to be a bother. I have to get some exams outta the way and then try the cars. Do have a gr8 day\\nspam\\tYOU ARE CHOSEN TO RECEIVE A £350 AWARD! Pls call claim number 09066364311 to collect your award which you are selected to receive as a valued mobile customer.\\nham\\tHey what how about your project. Started aha da.\\nham\\tOk cool. See ya then.\\nham\\tAm on the uworld site. Am i buying the qbank only or am i buying it with the self assessment also?\\nham\\tYour opinion about me? 1. Over 2. Jada 3. Kusruthi 4. Lovable 5. Silent 6. Spl character 7. Not matured 8. Stylish 9. Simple Pls reply..\\nspam\\tSomeonone you know is trying to contact you via our dating service! To find out who it could be call from your mobile or landline 09064015307 BOX334SK38ch \\nham\\tYeah I can still give you a ride\\nham\\tJay wants to work out first, how\\'s 4 sound?\\nham\\tGud gud..k, chikku tke care.. sleep well gud nyt\\nham\\tIts a part of checking IQ\\nham\\tHmm thinking lor...\\nham\\tOf course ! Don\\'t tease me ... You know I simply must see ! *grins* ... Do keep me posted my prey ... *loving smile* *devouring kiss*\\nham\\tthanks for the temales it was wonderful. Thank. Have a great week.\\nham\\tThank you princess! I want to see your nice juicy booty...\\nham\\tHaven\\'t eaten all day. I\\'m sitting here staring at this juicy pizza and I can\\'t eat it. These meds are ruining my life.\\nham\\tGud ni8 dear..slp well..take care..swt dreams..Muah..\\nham\\tU come n search tat vid..not finishd..\\nham\\tK I\\'m leaving soon, be there a little after 9\\nspam\\tUrgent! Please call 09061213237 from a landline. £5000 cash or a 4* holiday await collection. T &Cs SAE PO Box 177 M227XY. 16+\\nham\\tYeah work is fine, started last week, all the same stuff as before, dull but easy and guys are fun!\\nham\\tYou do your studies alone without anyones help. If you cant no need to study.\\nham\\tPlease tell me not all of my car keys are in your purse\\nham\\tI didnt get anything da\\nham\\tOk... Sweet dreams...\\nham\\tWell she\\'s in for a big surprise!\\nham\\tAs usual..iam fine, happy &amp; doing well..:)\\nham\\t1 in cbe. 2 in chennai.\\nham\\tCan help u swoop by picking u up from wherever ur other birds r meeting if u want.\\nham\\tIf anyone calls for a treadmill say you\\'ll buy it. Make sure its working. I found an ad on Craigslist selling for $ &lt;#&gt; .\\nham\\tI absolutely LOVE South Park! I only recently started watching the office.\\nham\\tDid you see that film:)\\nham\\tPls speak with me. I wont ask anything other then you friendship.\\nham\\tStorming msg: Wen u lift d phne, u say \"HELLO\" Do u knw wt is d real meaning of HELLO?? . . . It\\'s d name of a girl..! . . . Yes.. And u knw who is dat girl?? \"Margaret Hello\" She is d girlfrnd f Grahmbell who invnted telphone... . . . . Moral:One can 4get d name of a person, bt not his girlfrnd... G o o d n i g h t . . .@\\nham\\tGud ni8.swt drms.take care\\nham\\tHI DARLIN ITS KATE ARE U UP FOR DOIN SOMETHIN TONIGHT? IM GOING TO A PUB CALLED THE SWAN OR SOMETHING WITH MY PARENTS FOR ONE DRINK SO PHONE ME IF U CAN\\nham\\tAnything lar then ü not going home 4 dinner?\\nham\\t\"ER, ENJOYIN INDIANS AT THE MO..yeP. SaLL gOoD HehE ;> hows bout u shexy? Pete Xx\"\\nspam\\tIf you don\\'t, your prize will go to another customer. T&C at www.t-c.biz 18+ 150p/min Polo Ltd Suite 373 London W1J 6HL Please call back if busy \\nham\\tDid u fix the teeth?if not do it asap.ok take care.\\nham\\tSo u wan 2 come for our dinner tonight a not?\\nham\\tHello.How u doing?What u been up 2?When will u b moving out of the flat, cos I will need to arrange to pick up the lamp, etc. Take care. Hello caroline!\\nham\\tIts too late:)but its k.wish you the same.\\nham\\tHi. Hope ur day * good! Back from walk, table booked for half eight. Let me know when ur coming over.\\nham\\tOh yeah clearly it\\'s my fault\\nham\\tDunno leh cant remember mayb lor. So wat time r we meeting tmr?\\nham\\tBest msg: It\\'s hard to be with a person, when u know that one more step foward will make u fall in love.. &amp; One step back can ruin ur friendship.. good night:-) ...\\nspam\\tURGENT! Your Mobile number has been awarded with a £2000 prize GUARANTEED. Call 09061790126 from land line. Claim 3030. Valid 12hrs only 150ppm\\nham\\tHelloooo... Wake up..! \"Sweet\" \"morning\" \"welcomes\" \"You\" \"Enjoy\" \"This Day\" \"with full of joy\".. \"GUD MRNG\".\\nham\\tVikky, come around  &lt;TIME&gt; ..\\nham\\tAnd how you will do that, princess? :)\\nham\\tI have gone into get info bt dont know what to do\\nham\\tYeah, probably here for a while\\nham\\tSent me ur email id soon\\nspam\\tURGENT! You have won a 1 week FREE membership in our £100,000 Prize Jackpot! Txt the word: CLAIM to No: 81010 T&C www.dbuk.net LCCLTD POBOX 4403LDNW1A7RW18\\nham\\tI\\'m still pretty weak today .. Bad day ?\\nham\\tHey ! Don\\'t forget ... You are MINE ... For ME ... My possession ... MY property ... MMM ... *childish smile* ...\\nham\\tAn excellent thought by a misundrstud frnd: I knw u hate me bt the day wen u\\'ll knw the truth u\\'ll hate urself:-( Gn:-)\\nham\\tHey! Congrats 2u2. id luv 2 but ive had 2 go home!\\nham\\tDear where you. Call me\\nham\\tXy trying smth now. U eat already? We havent...\\nspam\\tUrgent! Please call 09061213237 from landline. £5000 cash or a luxury 4* Canary Islands Holiday await collection. T&Cs SAE PO Box 177. M227XY. 150ppm. 16+\\nham\\tI donno its in your genes or something\\nspam\\tXMAS iscoming & ur awarded either £500 CD gift vouchers & free entry 2 r £100 weekly draw txt MUSIC to 87066 TnC www.Ldew.com1win150ppmx3age16subscription \\nham\\tAlex says he\\'s not ok with you not being ok with it\\nham\\tAre u coming to the funeral home\\nham\\tMy darling sister. How are you doing. When\\'s school resuming. Is there a minimum wait period before you reapply? Do take care\\nham\\tI.ll hand her my phone to chat wit u\\nham\\tWell good morning mr . Hows london treatin\\' ya treacle?\\nham\\tI can\\'t make it tonight\\nham\\tAt WHAT TIME should i come tomorrow\\nham\\tAbout  &lt;#&gt; bucks. The banks fees are fixed. Better to call the bank and find out.\\nham\\tI can. But it will tell quite long, cos i haven\\'t finish my film yet...\\nham\\tPls ask macho how much is budget for bb bold 2 is cos i saw a new one for  &lt;#&gt;  dollars.\\nham\\t\"Hi missed your Call and my mumHas beendropping red wine all over theplace! what is your adress?\"\\nham\\tIll be at yours in about 3 mins but look out for me\\nham\\tWhat you did in  leave.\\nham\\tI\\'m coming back on Thursday. Yay. Is it gonna be ok to get the money. Cheers. Oh yeah and how are you. Everything alright. Hows school. Or do you call it work now\\nham\\tJolly good! By the way,  will give u tickets for sat eve 7.30. Speak before then x\\nham\\tyeah, that\\'s what I was thinking\\nham\\tK.k:)i\\'m going to tirunelvali this week to see my uncle ..i already spend the amount by taking dress .so only i want money.i will give it on feb 1\\nham\\tHere got ur favorite oyster... N got my favorite sashimi... Ok lar i dun say already... Wait ur stomach start rumbling...\\nham\\tMy sister going to earn more than me da.\\nspam\\tGet the official ENGLAND poly ringtone or colour flag on yer mobile for tonights game! Text TONE or FLAG to 84199. Optout txt ENG STOP Box39822 W111WX £1.50\\nham\\tHahaha..use your brain dear\\nham\\tJus finish watching tv... U?\\nham\\tK, fyi I\\'m back in my parents\\' place in south tampa so I might need to do the deal somewhere else\\nham\\tGood morning, my Love ... I go to sleep now and wish you a great day full of feeling better and opportunity ... You are my last thought babe, I LOVE YOU *kiss*\\nham\\tKothi print out marandratha.\\nham\\tBut we havent got da topic yet rite?\\nham\\tOk no problem... Yup i\\'m going to sch at 4 if i rem correctly...\\nham\\tThanks, I\\'ll keep that in mind\\nham\\tAah bless! How\\'s your arm?\\nham\\tDear Sir,Salam Alaikkum.Pride and Pleasure meeting you today at the Tea Shop.We are pleased to send you our contact number at Qatar.Rakhesh an Indian.Pls save our Number.Respectful Regards.\\nham\\tGal n boy walking in d park. gal-can i hold ur hand? boy-y? do u think i would run away? gal-no, jst wana c how it feels walking in heaven with an prince..GN:-)\\nham\\tWhat makes you most happy?\\nham\\tWishing you a wonderful week.\\nham\\tSweet heart how are you?\\nham\\tSir, waiting for your letter.\\nham\\tDude im no longer a pisces. Im an aquarius now.\\nham\\tX course it 2yrs. Just so her messages on messenger lik you r sending me\\nham\\tI think steyn surely get one wicket:)\\nham\\tNeither [in sterm voice] - i\\'m studying. All fine with me! Not sure the  thing will be resolved, tho. Anyway. Have a fab hols\\nham\\tGarbage bags, eggs, jam, bread, hannaford wheat chex\\nham\\tNo. It\\'s not pride. I\\'m almost  &lt;#&gt;  years old and shouldn\\'t be takin money from my kid. You\\'re not supposed to have to deal with this stuff. This is grownup stuff--why i don\\'t tell you.\\nham\\tSounds better than my evening im just doing my costume. Im not sure what time i finish tomorrow but i will txt you at the end.\\nham\\tMy birthday is on feb  &lt;#&gt;  da. .\\nham\\tSo when do you wanna gym?\\nham\\tYou\\'d like that wouldn\\'t you? Jerk!\\nham\\tAre u awake? Is there snow there?\\nham\\tAnd of course you should make a stink!\\nspam\\tu r subscribed 2 TEXTCOMP 250 wkly comp. 1st wk?s free question follows, subsequent wks charged@150p/msg.2 unsubscribe txt STOP 2 84128,custcare 08712405020\\nham\\tNo go. No openings for that room \\'til after thanksgiving without an upcharge.\\nham\\tWhen you guys planning on coming over?\\nham\\tWat ü doing now?\\nham\\tMy Parents, My Kidz, My Friends n My Colleagues. All screaming.. SURPRISE !! and I was waiting on the sofa.. ... ..... \\' NAKED...!\\nham\\tNo sir. That\\'s why i had an 8-hr trip on the bus last week. Have another audition next wednesday but i think i might drive this time.\\nham\\tDo I? I thought I put it back in the box\\nham\\tI\\'m home...\\nham\\tNo one interested. May be some business plan.\\nham\\tYup it\\'s at paragon... I havent decided whether 2 cut yet... Hee...\\nham\\tGood morning princess! Have a great day!\\nham\\tGuai... Ü shd haf seen him when he\\'s naughty... Ü so free today? Can go jogging...\\nham\\tAiyo cos i sms ü then ü neva reply so i wait 4 ü to reply lar. I tot ü havent finish ur lab wat.\\nham\\tLiving is very simple.. Loving is also simple.. Laughing is too simple.. Winning is tooo simple.. But, Being \\'SIMPLE\\' is very difficult...;-) :-)\\nham\\tTell me something. Thats okay.\\nham\\tOk\\nham\\tHmm. Shall i bring a bottle of wine to keep us amused? Just joking! I\\'ll still bring a bottle. Red or white? See you tomorrow\\nham\\tThis is ur face test ( 1 2 3 4 5 6 7 8 9  &lt;#&gt;  ) select any number i will tell ur face astrology.... am waiting. quick reply...\\nham\\tHey, iouri gave me your number, I\\'m wylie, ryan\\'s friend\\nham\\tYep get with the program. You\\'re slacking.\\nham\\tI\\'m in inside office..still filling forms.don know when they leave me.\\nham\\tI think your mentor is , but not 100 percent sure.\\nspam\\tCall 09095350301 and send our girls into erotic ecstacy. Just 60p/min. To stop texts call 08712460324 (nat rate)\\nspam\\tCamera - You are awarded a SiPix Digital Camera! call 09061221066 fromm landline. Delivery within 28 days.\\nspam\\tA £400 XMAS REWARD IS WAITING FOR YOU! Our computer has randomly picked you from our loyal mobile customers to receive a £400 reward. Just call 09066380611\\nham\\tJust trying to figure out when I\\'m suppose to see a couple different people this week. We said we\\'d get together but I didn\\'t set dates\\nspam\\tIMPORTANT MESSAGE. This is a final contact attempt. You have important messages waiting out our customer claims dept. Expires 13/4/04. Call 08717507382 NOW!\\nham\\tHi mom we might be back later than  &lt;#&gt; \\nspam\\tdating:i have had two of these. Only started after i sent a text to talk sport radio last week. Any connection do you think or coincidence?\\nham\\tLol, oh you got a friend for the dog ?\\nham\\tOk., is any problem to u frm him? Wats matter?\\nham\\tK I\\'ll head out in a few mins, see you there\\nham\\tDo u konw waht is rael FRIENDSHIP Im gving yuo an exmpel: Jsut ese tihs msg.. Evrey splleing of tihs msg is wrnog.. Bt sitll yuo can raed it wihtuot ayn mitsake.. GOODNIGHT &amp; HAVE A NICE SLEEP..SWEET DREAMS..\\nham\\tI cant pick the phone right now. Pls send a message\\nham\\tI don\\'t want you to leave. But i\\'m barely doing what i can to stay sane. fighting with you constantly isn\\'t helping.\\nspam\\tThe current leading bid is 151. To pause this auction send OUT. Customer Care: 08718726270\\nspam\\tFree entry to the gr8prizes wkly comp 4 a chance to win the latest Nokia 8800, PSP or £250 cash every wk.TXT GREAT to 80878 http//www.gr8prizes.com 08715705022\\nham\\tSomebody set up a website where you can play hold em using eve online spacebucks\\nham\\tIts sunny in california. The weather\\'s just cool\\nspam\\tYou have 1 new message. Call 0207-083-6089\\nham\\tI can make it up there, squeezed  &lt;#&gt;  bucks out of my dad\\nham\\tGood day to You too.Pray for me.Remove the teeth as its painful maintaining other stuff.\\nham\\tHow are you babes. Hope your doing ok. I had a shit nights sleep. I fell asleep at 5.I\\x92m knackered and i\\x92m dreading work tonight. What are thou upto tonight. X\\nham\\tHow do friends help us in problems? They give the most stupid suggestion that Lands us into another problem and helps us forgt the previous problem\\nham\\tI\\'m at work. Please call\\nham\\tI will be gentle baby! Soon you will be taking all  &lt;#&gt;  inches deep inside your tight pussy...\\nham\\tNOT MUCH NO FIGHTS. IT WAS A GOOD NITE!!\\nham\\tOk.ok ok..then..whats ur todays plan\\nham\\tNt joking seriously i told\\nham\\tWatching ajith film ah?\\nham\\tOoooooh I forgot to tell u I can get on yoville on my phone\\nham\\tAll done, all handed in. Don\\'t know if mega shop in asda counts as celebration but thats what i\\'m doing!\\nham\\tI dont know exactly could you ask chechi.\\nham\\tDunno lei shd b driving lor cos i go sch 1 hr oni.\\nham\\tAs in i want custom officer discount oh.\\nham\\tThat\\'s necessarily respectful\\nham\\tHi. Hope you had a good day. Have a better night.\\nham\\tAnd he\\'s apparently bffs with carly quick now\\nham\\tHARD BUT TRUE: How much you show &amp;  express your love to someone....that much it will hurt when they leave you or you get seperated...!鈥┾??〨ud evening...\\nham\\tBabes I think I got ur brolly I left it in English wil bring it in 2mrw 4 u luv Franxx\\nham\\tHi babe its me thanks for coming even though it didnt go that well!i just wanted my bed! Hope to see you soon love and kisses xxx\\nham\\tSo gd got free ice cream... I oso wan...\\nham\\tPls give her prometazine syrup. 5mls then  &lt;#&gt; mins later feed.\\nham\\tSo how many days since then?\\nham\\tDear are you angry i was busy dear\\nham\\tYup he msg me: is tat yijue? Then i tot it\\'s my group mate cos we meeting today mah... I\\'m askin if ü leaving earlier or wat mah cos mayb ü haf to walk v far...\\nham\\t... Are you in the pub?\\nham\\tThere is a first time for everything :)\\nham\\tDaddy, shu shu is looking 4 u... U wan me 2 tell him u\\'re not in singapore or wat?\\nham\\tI ask if u meeting da ge tmr nite...\\nham\\tGr8. So how do you handle the victoria island traffic. Plus when\\'s the album due\\nham\\tNite nite pocay wocay luv u more than n e thing 4eva I promise ring u 2morrowxxxx\\nham\\tEast coast\\nham\\tYou should get more chicken broth if you want ramen unless there\\'s some I don\\'t know about\\nham\\tMy slave! I want you to take 2 or 3 pictures of yourself today in bright light on your cell phone! Bright light!\\nham\\tNope. I just forgot. Will show next week\\nham\\tSo how are you really. What are you up to. How\\'s the masters. And so on.\\nham\\tI\\'m at bruce &amp; fowler now but I\\'m in my mom\\'s car so I can\\'t park (long story)\\nham\\tI dont know oh. Hopefully this month.\\nham\\tHi elaine, is today\\'s meeting confirmed?\\nham\\tOk k..sry i knw 2 siva..tats y i askd..\\nham\\tSorry, I\\'ll call later\\nham\\tU horrible gal... U knew dat i was going out wif him yest n u still come n ask me...\\nham\\tOtherwise had part time job na-tuition..\\nham\\tOh yeah! And my diet just flew out the window\\nspam\\tSanta Calling! Would your little ones like a call from Santa Xmas eve? Call 09058094583 to book your time.\\nham\\tYou didnt complete your gist oh.\\nham\\tEr yeah, i will b there at 15:26, sorry! Just tell me which pub/cafe to sit in and come wen u can\\nham\\tIf you can make it any time tonight or whenever you can it\\'s cool, just text me whenever you\\'re around\\nham\\tIf I was I wasn\\'t paying attention\\nham\\tThanx a lot 4 ur help!\\nham\\tYou\\'re gonna have to be way more specific than that\\nham\\tJesus armand really is trying to tell everybody he can find\\nham\\tI\\'m wif him now buying tix lar...\\nham\\tMode men or have you left.\\nham\\tAm slow in using biola\\'s fne\\nham\\t\"What are youdoing later? Sar xxx\"\\nham\\tHey i\\'ve booked the 2 lessons on sun liao...\\nham\\tThank you. do you generally date the brothas?\\nham\\tBy the way, make sure u get train to worc foregate street not shrub hill. Have fun night x\\nham\\tI thought i\\'d get him a watch, just cos thats the kind of thing u get4an18th. And he loves so much!\\nspam\\tYou have won a guaranteed 32000 award or maybe even £1000 cash to claim ur award call free on 0800 ..... (18+). Its a legitimat efreefone number wat do u think???\\nham\\tGood morning. At the repair shop--the ONLY reason i\\'m up at this hour.\\nham\\tAnd that\\'s fine, I got enough bud to last most of the night at least\\nham\\tI am back. Good journey! Let me know if you need any of the receipts. Shall i tell you like the pendent?\\nham\\tSo that takes away some money worries\\nham\\taight we can pick some up, you open before tonight?\\nspam\\tLatest News! Police station toilet stolen, cops have nothing to go on!\\nham\\tSac needs to carry on:)\\nham\\tJust sing HU. I think its also important to find someone female that know the place well preferably a citizen that is also smart to help you navigate through. Even things like choosing a phone plan require guidance. When in doubt ask especially girls.\\nham\\tWhat???? Hello wats talks email address?\\nham\\tExcept theres a chick with huge boobs.\\nham\\tIm just wondering what your doing right now?\\nham\\tWishing you a beautiful day. Each moment revealing even more things to keep you smiling. Do enjoy it.\\nspam\\t\"For the most sparkling shopping breaks from 45 per person; call 0121 2025050 or visit www.shortbreaks.org.uk\"\\nham\\tArun can u transfr me d amt\\nham\\tSorry, I\\'ll call later\\nham\\tIf you hear a loud scream in about &lt;#&gt; minutes its cause my Gyno will be shoving things up me that don\\'t belong :/\\nspam\\tDecember only! Had your mobile 11mths+? You are entitled to update to the latest colour camera mobile for Free! Call The Mobile Update Co FREE on 08002986906\\nham\\tOk i thk i got it. Then u wan me 2 come now or wat?\\nspam\\tTxt: CALL to No: 86888 & claim your reward of 3 hours talk time to use from your phone now! Subscribe6GBP/mnth inc 3hrs 16 stop?txtStop www.gamb.tv\\nham\\tU GOIN OUT 2NITE?\\nham\\tI will treasure every moment we spend together...\\nham\\tShall I bring us a bottle of wine to keep us amused? Only joking! I‘ll bring one anyway\\nspam\\thttp//tms. widelive.com/index. wml?id=820554ad0a1705572711&first=true¡C C Ringtone¡\\nspam\\tGet your garden ready for summer with a FREE selection of summer bulbs and seeds worth £33:50 only with The Scotsman this Saturday. To stop go2 notxt.co.uk\\nspam\\tURGENT! Last weekend\\'s draw shows that you have won £1000 cash or a Spanish holiday! CALL NOW 09050000332 to claim. T&C: RSTM, SW7 3SS. 150ppm\\nham\\tOk lor.\\nham\\tI thought slide is enough.\\nham\\tYup\\nham\\tWell obviously not because all the people in my cool college life went home ;_;\\nham\\tOk lor ü reaching then message me.\\nham\\tWhere\\'s mummy\\'s boy ? Is he being good or bad ? Is he being positive or negative ? Why is mummy being made to wait? Hmmmm?\\nham\\tDhoni have luck to win some big title.so we will win:)\\nham\\tYes princess! I want to please you every night. Your wish is my command...\\nham\\tWhat Today-sunday..sunday is holiday..so no work..\\nham\\tNo probably  &lt;#&gt; %.\\nham\\tReally do hope the work doesnt get stressful. Have a gr8 day.\\nham\\tHave you seen who\\'s back at Holby?!\\nham\\tShall call now dear having food\\nspam\\tURGENT We are trying to contact you Last weekends draw shows u have won a £1000 prize GUARANTEED Call 09064017295 Claim code K52 Valid 12hrs 150p pm\\nham\\tSo li hai... Me bored now da lecturer repeating last weeks stuff waste time... \\nham\\t, ,  and  picking them up from various points | going 2 yeovil | and they will do the motor project 4 3 hours | and then u take them home. || 12 2 5.30 max. || Very easy\\nham\\tAlso fuck you and your family for going to rhode island or wherever the fuck and leaving me all alone the week I have a new bong &gt;:(\\nham\\tOfcourse I also upload some songs\\nspam\\t2p per min to call Germany 08448350055 from your BT line. Just 2p per min. Check PlanetTalkInstant.com for info & T\\'s & C\\'s. Text stop to opt out\\nham\\tK. I will sent it again\\nham\\tOh thanks a lot..i already bought 2 eggs ..\\nham\\tK. I will sent it again\\nham\\tU studying in sch or going home? Anyway i\\'ll b going 2 sch later.\\nspam\\tMarvel Mobile Play the official Ultimate Spider-man game (£4.50) on ur mobile right now. Text SPIDER to 83338 for the game & we ll send u a FREE 8Ball wallpaper\\nham\\tI think if he rule tamilnadu..then its very tough for our people.\\nham\\tCool, we shall go and see, have to go to tip anyway. Are you at home, got something to drop in later? So lets go to town tonight! Maybe mum can take us in.\\nham\\tGood afternoon, my love ... How goes your day ? How did you sleep ? I hope your well, my boytoy ... I think of you ...\\nham\\tYes... I trust u to buy new stuff ASAP so I can try it out\\nspam\\tSMS SERVICES. for your inclusive text credits, pls goto www.comuk.net login= 3qxj9 unsubscribe with STOP, no extra charge. help 08702840625.COMUK. 220-CM2 9AE\\nham\\tWhy did I wake up on my own &gt;:(\\nham\\tNow get step 2 outta the way. Congrats again.\\nham\\tLove has one law; Make happy the person you love. In the same way friendship has one law; Never make ur friend feel alone until you are alive.... Gud night\\nspam\\tPRIVATE! Your 2003 Account Statement for 07808247860 shows 800 un-redeemed S. I. M. points. Call 08719899229 Identifier Code: 40411 Expires 06/11/04\\nham\\tApo all other are mokka players only\\nham\\tPerhaps * is much easy give your account identification, so i will tomorrow at UNI\\nham\\tWait . I will msg after  &lt;#&gt;  min.\\nham\\tWhat i told before i tell. Stupid hear after i wont tell anything to you. You dad called to my brother and spoken. Not with me.\\nham\\tGod\\'s love has no limit. God\\'s grace has no measure. God\\'s power has no boundaries. May u have God\\'s endless blessings always in ur life...!! Gud ni8\\nham\\tI want to be inside you every night...\\nham\\tMachan you go to gym tomorrow,  i wil come late goodnight.\\nham\\tLol they were mad at first but then they woke up and gave in.\\nham\\tI went to project centre\\nham\\tIt‘s reassuring, in this crazy world.\\nham\\tJust making dinner, you ?\\nham\\tYes. Please leave at  &lt;#&gt; . So that at  &lt;#&gt;  we can leave\\nham\\tOh... Okie lor...We go on sat... \\nham\\tYou are a great role model. You are giving so much and i really wish each day for a miracle but God as a reason for everything and i must say i wish i knew why but i dont. I\\'ve looked up to you since i was young and i still do. Have a great day.\\nham\\tYa, i\\'m referin to mei\\'s ex wat... No ah, waitin 4 u to treat, somebody shld b rich liao...So gd, den u dun have to work frm tmr onwards...\\nham\\tMiles and smiles r made frm same letters but do u know d difference..? smile on ur face keeps me happy even though I am miles away from u.. :-)keep smiling.. Good nyt\\nham\\tBy the way, i\\'ve put a skip right outside the front of the house so you can see which house it is. Just pull up before it.\\nham\\tCan you pls send me that company name. In saibaba colany\\nham\\tNo. I dont want to hear anything\\nham\\tYou are a big chic. Common. Declare\\nham\\tThats cool. I want to please you...\\nham\\tGoing to join tomorrow.\\nspam\\tYou are awarded a SiPix Digital Camera! call 09061221061 from landline. Delivery within 28days. T Cs Box177. M221BP. 2yr warranty. 150ppm. 16 . p p£3.99\\nham\\tI want to tell you how bad I feel that basically the only times I text you lately are when I need drugs\\nspam\\tPRIVATE! Your 2003 Account Statement for shows 800 un-redeemed S.I.M. points. Call 08718738001 Identifier Code: 49557 Expires 26/11/04\\nham\\tTotal disappointment, when I texted you was the craziest shit got :(\\nham\\tIts just the effect of irritation. Just ignore it\\nham\\tWhat about this one then.\\nham\\tI think that tantrum\\'s finished so yeah I\\'ll be by at some point\\nham\\tCompliments to you. Was away from the system. How your side.\\nham\\thappened here while you were adventuring\\nham\\tHey chief, can you give me a bell when you get this. Need to talk to you about this royal visit on the 1st june. \\nham\\tOk which your another number\\nham\\tI know you are thinkin malaria. But relax, children cant handle malaria. She would have been worse and its gastroenteritis. If she takes enough to replace her loss her temp will reduce. And if you give her malaria meds now she will just vomit. Its a self limiting illness she has which means in a few days it will completely stop\\nham\\tAiyah ok wat as long as got improve can already wat...\\nspam\\tWant explicit SEX in 30 secs? Ring 02073162414 now! Costs 20p/min Gsex POBOX 2667 WC1N 3XX\\nham\\tI can\\'t believe how attached I am to seeing you every day. I know you will do the best you can to get to me babe. I will go to teach my class at your midnight\\nham\\tJust sleeping..and surfing\\nspam\\tASKED 3MOBILE IF 0870 CHATLINES INCLU IN FREE MINS. INDIA CUST SERVs SED YES. L8ER GOT MEGA BILL. 3 DONT GIV A SHIT. BAILIFF DUE IN DAYS. I O £250 3 WANT £800\\nham\\tYeah it\\'s jus rite...\\nham\\tArmand says get your ass over to epsilon\\nham\\tU still havent got urself a jacket ah?\\nham\\tI\\'m taking derek &amp; taylor to walmart, if I\\'m not back by the time you\\'re done just leave the mouse on my desk and I\\'ll text you when priscilla\\'s ready\\nham\\tHi its in durban are you still on this number\\nham\\tIc. There are a lotta childporn cars then.\\nspam\\tHad your contract mobile 11 Mnths? Latest Motorola, Nokia etc. all FREE! Double Mins & Text on Orange tariffs. TEXT YES for callback, no to remove from records.\\nham\\tNo, I was trying it all weekend ;V\\nham\\tYou know, wot people wear. T shirts, jumpers, hat, belt, is all we know. We r at Cribbs\\nham\\tCool, what time you think you can get here?\\nham\\tWen did you get so spiritual and deep. That\\'s great\\nham\\tHave a safe trip to Nigeria. Wish you happiness and very soon company to share moments with\\nham\\tHahaha..use your brain dear\\nham\\tWell keep in mind I\\'ve only got enough gas for one more round trip barring a sudden influx of cash\\nham\\tYeh. Indians was nice. Tho it did kane me off a bit he he. We shud go out 4 a drink sometime soon. Mite hav 2 go 2 da works 4 a laugh soon. Love Pete x x\\nham\\tYes i have. So that\\'s why u texted. Pshew...missing you so much\\nham\\tNo. I meant the calculation is the same. That  &lt;#&gt; units at  &lt;#&gt; . This school is really expensive. Have you started practicing your accent. Because its important. And have you decided if you are doing 4years of dental school or if you\\'ll just do the nmde exam.\\nham\\tSorry, I\\'ll call later\\nham\\tif you aren\\'t here in the next  &lt;#&gt;  hours imma flip my shit\\nham\\tAnything lor. Juz both of us lor.\\nham\\tGet me out of this dump heap. My mom decided to come to lowes. BORING.\\nham\\tOk lor... Sony ericsson salesman... I ask shuhui then she say quite gd 2 use so i considering...\\nham\\tArd 6 like dat lor.\\nham\\tWhy don\\'t you wait \\'til at least wednesday to see if you get your .\\nham\\tHuh y lei...\\nspam\\tREMINDER FROM O2: To get 2.50 pounds free call credit and details of great offers pls reply 2 this text with your valid name, house no and postcode\\nspam\\tThis is the 2nd time we have tried 2 contact u. U have won the £750 Pound prize. 2 claim is easy, call 087187272008 NOW1! Only 10p per minute. BT-national-rate.\\nham\\tWill ü b going to esplanade fr home?\\nham\\tPity, * was in mood for that. So...any other suggestions?\\nham\\tThe guy did some bitching but I acted like i\\'d be interested in buying something else next week and he gave it to us for free\\nham\\tRofl. Its true to its name\\n'"
      ]
     },
     "execution_count": 11,
     "metadata": {},
     "output_type": "execute_result"
    }
   ],
   "source": [
    "file"
   ]
  },
  {
   "cell_type": "code",
   "execution_count": 12,
   "metadata": {},
   "outputs": [],
   "source": [
    "file=open('Input/smsspamcollection/SMSSpamCollection').readlines()"
   ]
  },
  {
   "cell_type": "code",
   "execution_count": 15,
   "metadata": {},
   "outputs": [
    {
     "data": {
      "text/plain": [
       "['ham\\tGo until jurong point, crazy.. Available only in bugis n great world la e buffet... Cine there got amore wat...\\n',\n",
       " 'ham\\tOk lar... Joking wif u oni...\\n',\n",
       " \"spam\\tFree entry in 2 a wkly comp to win FA Cup final tkts 21st May 2005. Text FA to 87121 to receive entry question(std txt rate)T&C's apply 08452810075over18's\\n\",\n",
       " 'ham\\tU dun say so early hor... U c already then say...\\n',\n",
       " \"ham\\tNah I don't think he goes to usf, he lives around here though\\n\",\n",
       " \"spam\\tFreeMsg Hey there darling it's been 3 week's now and no word back! I'd like some fun you up for it still? Tb ok! XxX std chgs to send, £1.50 to rcv\\n\",\n",
       " 'ham\\tEven my brother is not like to speak with me. They treat me like aids patent.\\n',\n",
       " \"ham\\tAs per your request 'Melle Melle (Oru Minnaminunginte Nurungu Vettam)' has been set as your callertune for all Callers. Press *9 to copy your friends Callertune\\n\",\n",
       " 'spam\\tWINNER!! As a valued network customer you have been selected to receivea £900 prize reward! To claim call 09061701461. Claim code KL341. Valid 12 hours only.\\n',\n",
       " 'spam\\tHad your mobile 11 months or more? U R entitled to Update to the latest colour mobiles with camera for Free! Call The Mobile Update Co FREE on 08002986030\\n',\n",
       " \"ham\\tI'm gonna be home soon and i don't want to talk about this stuff anymore tonight, k? I've cried enough today.\\n\",\n",
       " 'spam\\tSIX chances to win CASH! From 100 to 20,000 pounds txt> CSH11 and send to 87575. Cost 150p/day, 6days, 16+ TsandCs apply Reply HL 4 info\\n',\n",
       " 'spam\\tURGENT! You have won a 1 week FREE membership in our £100,000 Prize Jackpot! Txt the word: CLAIM to No: 81010 T&C www.dbuk.net LCCLTD POBOX 4403LDNW1A7RW18\\n',\n",
       " \"ham\\tI've been searching for the right words to thank you for this breather. I promise i wont take your help for granted and will fulfil my promise. You have been wonderful and a blessing at all times.\\n\",\n",
       " 'ham\\tI HAVE A DATE ON SUNDAY WITH WILL!!\\n',\n",
       " 'spam\\tXXXMobileMovieClub: To use your credit, click the WAP link in the next txt message or click here>> http://wap. xxxmobilemovieclub.com?n=QJKGIGHJJGCBL\\n',\n",
       " \"ham\\tOh k...i'm watching here:)\\n\",\n",
       " 'ham\\tEh u remember how 2 spell his name... Yes i did. He v naughty make until i v wet.\\n',\n",
       " 'ham\\tFine if that\\x92s the way u feel. That\\x92s the way its gota b\\n',\n",
       " 'spam\\tEngland v Macedonia - dont miss the goals/team news. Txt ur national team to 87077 eg ENGLAND to 87077 Try:WALES, SCOTLAND 4txt/ú1.20 POBOXox36504W45WQ 16+\\n',\n",
       " 'ham\\tIs that seriously how you spell his name?\\n',\n",
       " 'ham\\tI‘m going to try for 2 months ha ha only joking\\n',\n",
       " 'ham\\tSo ü pay first lar... Then when is da stock comin...\\n',\n",
       " 'ham\\tAft i finish my lunch then i go str down lor. Ard 3 smth lor. U finish ur lunch already?\\n',\n",
       " 'ham\\tFfffffffff. Alright no way I can meet up with you sooner?\\n',\n",
       " \"ham\\tJust forced myself to eat a slice. I'm really not hungry tho. This sucks. Mark is getting worried. He knows I'm sick when I turn down pizza. Lol\\n\",\n",
       " 'ham\\tLol your always so convincing.\\n',\n",
       " \"ham\\tDid you catch the bus ? Are you frying an egg ? Did you make a tea? Are you eating your mom's left over dinner ? Do you feel my Love ?\\n\",\n",
       " \"ham\\tI'm back &amp; we're packing the car now, I'll let you know if there's room\\n\",\n",
       " 'ham\\tAhhh. Work. I vaguely remember that! What does it feel like? Lol\\n',\n",
       " \"ham\\tWait that's still not all that clear, were you not sure about me being sarcastic or that that's why x doesn't want to live with us\\n\",\n",
       " \"ham\\tYeah he got in at 2 and was v apologetic. n had fallen out and she was actin like spoilt child and he got caught up in that. Till 2! But we won't go there! Not doing too badly cheers. You? \\n\",\n",
       " 'ham\\tK tell me anything about you.\\n',\n",
       " 'ham\\tFor fear of fainting with the of all that housework you just did? Quick have a cuppa\\n',\n",
       " 'spam\\tThanks for your subscription to Ringtone UK your mobile will be charged £5/month Please confirm by replying YES or NO. If you reply NO you will not be charged\\n',\n",
       " 'ham\\tYup... Ok i go home look at the timings then i msg ü again... Xuhui going to learn on 2nd may too but her lesson is at 8am\\n',\n",
       " \"ham\\tOops, I'll let you know when my roommate's done\\n\",\n",
       " 'ham\\tI see the letter B on my car\\n',\n",
       " 'ham\\tAnything lor... U decide...\\n',\n",
       " \"ham\\tHello! How's you and how did saturday go? I was just texting to see if you'd decided to do anything tomo. Not that i'm trying to invite myself or anything!\\n\",\n",
       " 'ham\\tPls go ahead with watts. I just wanted to be sure. Do have a great weekend. Abiola\\n',\n",
       " 'ham\\tDid I forget to tell you ? I want you , I need you, I crave you ... But most of all ... I love you my sweet Arabian steed ... Mmmmmm ... Yummy\\n',\n",
       " 'spam\\t07732584351 - Rodger Burns - MSG = We tried to call you re your reply to our sms for a free nokia mobile + free camcorder. Please call now 08000930705 for delivery tomorrow\\n',\n",
       " 'ham\\tWHO ARE YOU SEEING?\\n',\n",
       " 'ham\\tGreat! I hope you like your man well endowed. I am  &lt;#&gt;  inches...\\n',\n",
       " 'ham\\tNo calls..messages..missed calls\\n',\n",
       " \"ham\\tDidn't you get hep b immunisation in nigeria.\\n\",\n",
       " 'ham\\tFair enough, anything going on?\\n',\n",
       " \"ham\\tYeah hopefully, if tyler can't do it I could maybe ask around a bit\\n\",\n",
       " \"ham\\tU don't know how stubborn I am. I didn't even want to go to the hospital. I kept telling Mark I'm not a weak sucker. Hospitals are for weak suckers.\\n\",\n",
       " 'ham\\tWhat you thinked about me. First time you saw me in class.\\n',\n",
       " 'ham\\tA gram usually runs like  &lt;#&gt; , a half eighth is smarter though and gets you almost a whole second gram for  &lt;#&gt;\\n',\n",
       " \"ham\\tK fyi x has a ride early tomorrow morning but he's crashing at our place tonight\\n\",\n",
       " 'ham\\tWow. I never realized that you were so embarassed by your accomodations. I thought you liked it, since i was doing the best i could and you always seemed so happy about \"the cave\". I\\'m sorry I didn\\'t and don\\'t have more to give. I\\'m sorry i offered. I\\'m sorry your room was so embarassing.\\n',\n",
       " 'spam\\tSMS. ac Sptv: The New Jersey Devils and the Detroit Red Wings play Ice Hockey. Correct or Incorrect? End? Reply END SPTV\\n',\n",
       " 'ham\\tDo you know what Mallika Sherawat did yesterday? Find out now @  &lt;URL&gt;\\n',\n",
       " 'spam\\tCongrats! 1 year special cinema pass for 2 is yours. call 09061209465 now! C Suprman V, Matrix3, StarWars3, etc all 4 FREE! bx420-ip4-5we. 150pm. Dont miss out! \\n',\n",
       " \"ham\\tSorry, I'll call later in meeting.\\n\",\n",
       " 'ham\\tTell where you reached\\n',\n",
       " 'ham\\tYes..gauti and sehwag out of odi series.\\n',\n",
       " \"ham\\tYour gonna have to pick up a $1 burger for yourself on your way home. I can't even move. Pain is killing me.\\n\",\n",
       " 'ham\\tHa ha ha good joke. Girls are situation seekers.\\n',\n",
       " 'ham\\tIts a part of checking IQ\\n',\n",
       " 'ham\\tSorry my roommates took forever, it ok if I come by now?\\n',\n",
       " 'ham\\tOk lar i double check wif da hair dresser already he said wun cut v short. He said will cut until i look nice.\\n',\n",
       " 'spam\\tAs a valued customer, I am pleased to advise you that following recent review of your Mob No. you are awarded with a £1500 Bonus Prize, call 09066364589\\n',\n",
       " 'ham\\tToday is \"song dedicated day..\" Which song will u dedicate for me? Send this to all ur valuable frnds but first rply me...\\n',\n",
       " 'spam\\tUrgent UR awarded a complimentary trip to EuroDisinc Trav, Aco&Entry41 Or £1000. To claim txt DIS to 87121 18+6*£1.50(moreFrmMob. ShrAcomOrSglSuplt)10, LS1 3AJ\\n',\n",
       " 'spam\\tDid you hear about the new \"Divorce Barbie\"? It comes with all of Ken\\'s stuff!\\n',\n",
       " 'ham\\tI plane to give on this month end.\\n',\n",
       " 'ham\\tWah lucky man... Then can save money... Hee...\\n',\n",
       " 'ham\\tFinished class where are you.\\n',\n",
       " 'ham\\tHI BABE IM AT HOME NOW WANNA DO SOMETHING? XX\\n',\n",
       " 'ham\\tK..k:)where are you?how did you performed?\\n',\n",
       " 'ham\\tU can call me now...\\n',\n",
       " 'ham\\tI am waiting machan. Call me once you free.\\n',\n",
       " 'ham\\tThats cool. i am a gentleman and will treat you with dignity and respect.\\n',\n",
       " 'ham\\tI like you peoples very much:) but am very shy pa.\\n',\n",
       " 'ham\\tDoes not operate after  &lt;#&gt;  or what\\n',\n",
       " \"ham\\tIts not the same here. Still looking for a job. How much do Ta's earn there.\\n\",\n",
       " \"ham\\tSorry, I'll call later\\n\",\n",
       " 'ham\\tK. Did you call me just now ah? \\n',\n",
       " 'ham\\tOk i am on the way to home hi hi\\n',\n",
       " 'ham\\tYou will be in the place of that man\\n',\n",
       " 'ham\\tYup next stop.\\n',\n",
       " \"ham\\tI call you later, don't have network. If urgnt, sms me.\\n\",\n",
       " \"ham\\tFor real when u getting on yo? I only need 2 more tickets and one more jacket and I'm done. I already used all my multis.\\n\",\n",
       " \"ham\\tYes I started to send requests to make it but pain came back so I'm back in bed. Double coins at the factory too. I gotta cash in all my nitros.\\n\",\n",
       " \"ham\\tI'm really not up to it still tonight babe\\n\",\n",
       " 'ham\\tEla kano.,il download, come wen ur free..\\n',\n",
       " 'ham\\tYeah do! Don‘t stand to close tho- you‘ll catch something!\\n',\n",
       " \"ham\\tSorry to be a pain. Is it ok if we meet another night? I spent late afternoon in casualty and that means i haven't done any of y stuff42moro and that includes all my time sheets and that. Sorry. \\n\",\n",
       " 'ham\\tSmile in Pleasure Smile in Pain Smile when trouble pours like Rain Smile when sum1 Hurts U Smile becoz SOMEONE still Loves to see u Smiling!!\\n',\n",
       " 'spam\\tPlease call our customer service representative on 0800 169 6031 between 10am-9pm as you have WON a guaranteed £1000 cash or £5000 prize!\\n',\n",
       " 'ham\\tHavent planning to buy later. I check already lido only got 530 show in e afternoon. U finish work already?\\n',\n",
       " 'spam\\tYour free ringtone is waiting to be collected. Simply text the password \"MIX\" to 85069 to verify. Get Usher and Britney. FML, PO Box 5249, MK17 92H. 450Ppw 16\\n',\n",
       " 'ham\\tWatching telugu movie..wat abt u?\\n',\n",
       " 'ham\\ti see. When we finish we have loads of loans to pay\\n',\n",
       " 'ham\\tHi. Wk been ok - on hols now! Yes on for a bit of a run. Forgot that i have hairdressers appointment at four so need to get home n shower beforehand. Does that cause prob for u?\"\\n',\n",
       " 'ham\\tI see a cup of coffee animation\\n',\n",
       " \"ham\\tPlease don't text me anymore. I have nothing else to say.\\n\",\n",
       " 'ham\\tOkay name ur price as long as its legal! Wen can I pick them up? Y u ave x ams xx\\n',\n",
       " \"ham\\tI'm still looking for a car to buy. And have not gone 4the driving test yet.\\n\",\n",
       " \"ham\\tAs per your request 'Melle Melle (Oru Minnaminunginte Nurungu Vettam)' has been set as your callertune for all Callers. Press *9 to copy your friends Callertune\\n\",\n",
       " \"ham\\twow. You're right! I didn't mean to do that. I guess once i gave up on boston men and changed my search location to nyc, something changed. Cuz on my signin page it still says boston.\\n\",\n",
       " 'ham\\tUmma my life and vava umma love you lot dear\\n',\n",
       " 'ham\\tThanks a lot for your wishes on my birthday. Thanks you for making my birthday truly memorable.\\n',\n",
       " \"ham\\tAight, I'll hit you up when I get some cash\\n\",\n",
       " \"ham\\tHow would my ip address test that considering my computer isn't a minecraft server\\n\",\n",
       " 'ham\\tI know! Grumpy old people. My mom was like you better not be lying. Then again I am always the one to play jokes...\\n',\n",
       " \"ham\\tDont worry. I guess he's busy.\\n\",\n",
       " 'ham\\tWhat is the plural of the noun research?\\n',\n",
       " 'ham\\tGoing for dinner.msg you after.\\n',\n",
       " \"ham\\tI'm ok wif it cos i like 2 try new things. But i scared u dun like mah. Cos u said not too loud.\\n\",\n",
       " 'spam\\tGENT! We are trying to contact you. Last weekends draw shows that you won a £1000 prize GUARANTEED. Call 09064012160. Claim Code K52. Valid 12hrs only. 150ppm\\n',\n",
       " \"ham\\tWa, ur openin sentence very formal... Anyway, i'm fine too, juz tt i'm eatin too much n puttin on weight...Haha... So anythin special happened?\\n\",\n",
       " \"ham\\tAs I entered my cabin my PA said, '' Happy B'day Boss !!''. I felt special. She askd me 4 lunch. After lunch she invited me to her apartment. We went there.\\n\",\n",
       " 'spam\\tYou are a winner U have been specially selected 2 receive £1000 or a 4* holiday (flights inc) speak to a live operator 2 claim 0871277810910p/min (18+) \\n',\n",
       " 'ham\\tGoodo! Yes we must speak friday - egg-potato ratio for tortilla needed! \\n',\n",
       " \"ham\\tHmm...my uncle just informed me that he's paying the school directly. So pls buy food.\\n\",\n",
       " 'spam\\tPRIVATE! Your 2004 Account Statement for 07742676969 shows 786 unredeemed Bonus Points. To claim call 08719180248 Identifier Code: 45239 Expires\\n',\n",
       " 'spam\\tURGENT! Your Mobile No. was awarded £2000 Bonus Caller Prize on 5/9/03 This is our final try to contact U! Call from Landline 09064019788 BOX42WR29C, 150PPM\\n',\n",
       " 'ham\\there is my new address -apples&pairs&all that malarky\\n',\n",
       " 'spam\\tTodays Voda numbers ending 7548 are selected to receive a $350 award. If you have a match please call 08712300220 quoting claim code 4041 standard rates app\\n',\n",
       " 'ham\\tI am going to sao mu today. Will be done only at 12 \\n',\n",
       " \"ham\\tÜ predict wat time ü'll finish buying?\\n\",\n",
       " 'ham\\tGood stuff, will do.\\n',\n",
       " \"ham\\tJust so that you know,yetunde hasn't sent money yet. I just sent her a text not to bother sending. So its over, you dont have to involve yourself in anything. I shouldn't have imposed anything on you in the first place so for that, i apologise.\\n\",\n",
       " 'ham\\tAre you there in room.\\n',\n",
       " 'ham\\tHEY GIRL. HOW R U? HOPE U R WELL ME AN DEL R BAK! AGAIN LONG TIME NO C! GIVE ME A CALL SUM TIME FROM LUCYxx\\n',\n",
       " 'ham\\tK..k:)how much does it cost?\\n',\n",
       " \"ham\\tI'm home.\\n\",\n",
       " 'ham\\tDear, will call Tmorrow.pls accomodate.\\n',\n",
       " 'ham\\tFirst answer my question.\\n',\n",
       " 'spam\\tSunshine Quiz Wkly Q! Win a top Sony DVD player if u know which country the Algarve is in? Txt ansr to 82277. £1.50 SP:Tyrone\\n',\n",
       " \"spam\\tWant 2 get laid tonight? Want real Dogging locations sent direct 2 ur mob? Join the UK's largest Dogging Network bt Txting GRAVEL to 69888! Nt. ec2a. 31p.msg@150p\\n\",\n",
       " \"ham\\tI only haf msn. It's yijue@hotmail.com\\n\",\n",
       " 'ham\\tHe is there. You call and meet him\\n',\n",
       " 'ham\\tNo no. I will check all rooms befor activities\\n',\n",
       " \"spam\\tYou'll not rcv any more msgs from the chat svc. For FREE Hardcore services text GO to: 69988 If u get nothing u must Age Verify with yr network & try again\\n\",\n",
       " 'ham\\tGot c... I lazy to type... I forgot ü in lect... I saw a pouch but like not v nice...\\n',\n",
       " \"ham\\tK, text me when you're on the way\\n\",\n",
       " 'ham\\tSir, Waiting for your mail.\\n',\n",
       " 'ham\\tA swt thought: \"Nver get tired of doing little things 4 lovable persons..\" Coz..somtimes those little things occupy d biggest part in their Hearts.. Gud ni8\\n',\n",
       " 'ham\\tI know you are. Can you pls open the back?\\n',\n",
       " 'ham\\tYes see ya not on the dot\\n',\n",
       " 'ham\\tWhats the staff name who is taking class for us?\\n',\n",
       " \"spam\\tFreeMsg Why haven't you replied to my text? I'm Randy, sexy, female and live local. Luv to hear from u. Netcollex Ltd 08700621170150p per msg reply Stop to end\\n\",\n",
       " 'ham\\tUmmma.will call after check in.our life will begin from qatar so pls pray very hard.\\n',\n",
       " 'ham\\tK..i deleted my contact that why?\\n',\n",
       " 'ham\\tSindu got job in birla soft ..\\n',\n",
       " \"ham\\tThe wine is flowing and i'm i have nevering..\\n\",\n",
       " 'ham\\tYup i thk cine is better cos no need 2 go down 2 plaza mah.\\n',\n",
       " 'ham\\tOk... Ur typical reply...\\n',\n",
       " \"ham\\tAs per your request 'Melle Melle (Oru Minnaminunginte Nurungu Vettam)' has been set as your callertune for all Callers. Press *9 to copy your friends Callertune\\n\",\n",
       " 'ham\\tYou are everywhere dirt, on the floor, the windows, even on my shirt. And sometimes when i open my mouth, you are all that comes flowing out. I dream of my world without you, then half my chores are out too. A time of joy for me, lots of tv shows i.ll see. But i guess like all things you just must exist, like rain, hail and mist, and when my time here is done, you and i become one.\\n',\n",
       " 'ham\\tAaooooright are you at work?\\n',\n",
       " \"ham\\tI'm leaving my house now...\\n\",\n",
       " 'ham\\tHello, my love. What are you doing? Did you get to that interview today? Are you you happy? Are you being a good boy? Do you think of me?Are you missing me ?\\n',\n",
       " 'spam\\tCustomer service annoncement. You have a New Years delivery waiting for you. Please call 07046744435 now to arrange delivery\\n',\n",
       " 'spam\\tYou are a winner U have been specially selected 2 receive £1000 cash or a 4* holiday (flights inc) speak to a live operator 2 claim 0871277810810\\n',\n",
       " \"ham\\tKeep yourself safe for me because I need you and I miss you already and I envy everyone that see's you in real life\\n\",\n",
       " 'ham\\tNew car and house for my parents.:)i have only new job in hand:)\\n',\n",
       " \"ham\\tI'm so in love with you. I'm excited each day i spend with you. You make me so happy.\\n\",\n",
       " 'spam\\t-PLS STOP bootydelious (32/F) is inviting you to be her friend. Reply YES-434 or NO-434 See her: www.SMS.ac/u/bootydelious STOP? Send STOP FRND to 62468\\n',\n",
       " 'spam\\tBangBabes Ur order is on the way. U SHOULD receive a Service Msg 2 download UR content. If U do not, GoTo wap. bangb. tv on UR mobile internet/service menu\\n',\n",
       " 'ham\\tI place all ur points on e cultures module already.\\n',\n",
       " 'spam\\tURGENT! We are trying to contact you. Last weekends draw shows that you have won a £900 prize GUARANTEED. Call 09061701939. Claim code S89. Valid 12hrs only\\n',\n",
       " \"ham\\tHi frnd, which is best way to avoid missunderstding wit our beloved one's?\\n\",\n",
       " 'ham\\tGreat escape. I fancy the bridge but needs her lager. See you tomo \\n',\n",
       " 'ham\\tYes :)it completely in out of form:)clark also utter waste.\\n',\n",
       " 'ham\\tSir, I need AXIS BANK account no and bank address.\\n',\n",
       " 'ham\\tHmmm.. Thk sure got time to hop ard... Ya, can go 4 free abt... Muz call u to discuss liao... \\n',\n",
       " 'ham\\tWhat time you coming down later? \\n',\n",
       " 'ham\\tBloody hell, cant believe you forgot my surname Mr . Ill give u a clue, its spanish and begins with m... \\n',\n",
       " \"ham\\tWell, i'm gonna finish my bath now. Have a good...fine night.\\n\",\n",
       " \"ham\\tLet me know when you've got the money so carlos can make the call\\n\",\n",
       " 'ham\\tU still going to the mall?\\n',\n",
       " \"ham\\tTurns out my friends are staying for the whole show and won't be back til ~ &lt;#&gt; , so feel free to go ahead and smoke that $ &lt;#&gt;  worth\\n\",\n",
       " 'ham\\tText her. If she doesnt reply let me know so i can have her log in\\n',\n",
       " \"ham\\tHi! You just spoke to MANEESHA V. We'd like to know if you were satisfied with the experience. Reply Toll Free with Yes or No.\\n\",\n",
       " 'ham\\tYou lifted my hopes with the offer of money. I am in need. Especially when the end of the month approaches and it hurts my studying. Anyways have a gr8 weekend\\n',\n",
       " 'ham\\tLol no. U can trust me.\\n',\n",
       " 'ham\\tok. I am a gentleman and will treat you with dignity and respect.\\n',\n",
       " 'ham\\tHe will, you guys close?\\n',\n",
       " 'ham\\tGoing on nothing great.bye\\n',\n",
       " \"ham\\tHello handsome ! Are you finding that job ? Not being lazy ? Working towards getting back that net for mummy ? Where's my boytoy now ? Does he miss me ?\\n\",\n",
       " 'ham\\tHaha awesome, be there in a minute\\n',\n",
       " 'spam\\tPlease call our customer service representative on FREEPHONE 0808 145 4742 between 9am-11pm as you have WON a guaranteed £1000 cash or £5000 prize!\\n',\n",
       " 'ham\\tHave you got Xmas radio times. If not i will get it now\\n',\n",
       " 'ham\\tI jus reached home. I go bathe first. But my sis using net tell u when she finishes k...\\n',\n",
       " 'spam\\tAre you unique enough? Find out from 30th August. www.areyouunique.co.uk\\n',\n",
       " \"ham\\tI'm sorry. I've joined the league of people that dont keep in touch. You mean a great deal to me. You have been a friend at all times even at great personal cost. Do have a great week.|\\n\",\n",
       " 'ham\\tHi :)finally i completed the course:)\\n',\n",
       " 'ham\\tIt will stop on itself. I however suggest she stays with someone that will be able to give ors for every stool.\\n',\n",
       " \"ham\\tHow are you doing? Hope you've settled in for the new school year. Just wishin you a gr8 day\\n\",\n",
       " 'ham\\tGud mrng dear hav a nice day\\n',\n",
       " 'ham\\tDid u got that persons story\\n',\n",
       " 'ham\\tis your hamster dead? Hey so tmr i meet you at 1pm orchard mrt? \\n',\n",
       " 'ham\\tHi its Kate how is your evening? I hope i can see you tomorrow for a bit but i have to bloody babyjontet! Txt back if u can. :) xxx\\n',\n",
       " 'ham\\tFound it, ENC  &lt;#&gt; , where you at?\\n',\n",
       " 'ham\\tI sent you  &lt;#&gt;  bucks\\n',\n",
       " 'ham\\tHello darlin ive finished college now so txt me when u finish if u can love Kate xxx\\n',\n",
       " 'ham\\tYour account has been refilled successfully by INR  &lt;DECIMAL&gt; . Your KeralaCircle prepaid account balance is Rs  &lt;DECIMAL&gt; . Your Transaction ID is KR &lt;#&gt; .\\n',\n",
       " 'ham\\tGoodmorning sleeping ga.\\n',\n",
       " 'ham\\tU call me alter at 11 ok.\\n',\n",
       " 'ham\\tÜ say until like dat i dun buy ericsson oso cannot oredi lar...\\n',\n",
       " \"ham\\tAs I entered my cabin my PA said, '' Happy B'day Boss !!''. I felt special. She askd me 4 lunch. After lunch she invited me to her apartment. We went there.\\n\",\n",
       " 'ham\\tAight yo, dats straight dogg\\n',\n",
       " 'ham\\tYou please give us connection today itself before  &lt;DECIMAL&gt;  or refund the bill\\n',\n",
       " 'ham\\tBoth :) i shoot big loads so get ready!\\n',\n",
       " \"ham\\tWhat's up bruv, hope you had a great break. Do have a rewarding semester.\\n\",\n",
       " 'ham\\tHome so we can always chat\\n',\n",
       " 'ham\\tK:)k:)good:)study well.\\n',\n",
       " 'ham\\tYup... How ü noe leh...\\n',\n",
       " 'ham\\tSounds great! Are you home now?\\n',\n",
       " 'ham\\tFinally the match heading towards draw as your prediction.\\n',\n",
       " \"ham\\tTired. I haven't slept well the past few nights.\\n\",\n",
       " 'ham\\tEasy ah?sen got selected means its good..\\n',\n",
       " 'ham\\tI have to take exam with march 3\\n',\n",
       " \"ham\\tYeah you should. I think you can use your gt atm now to register. Not sure but if there's anyway i can help let me know. But when you do be sure you are ready.\\n\",\n",
       " 'ham\\tOk no prob. Take ur time.\\n',\n",
       " 'ham\\tThere is os called ubandu which will run without installing in hard disk...you can use that os to copy the important files in system and give it to repair shop..\\n',\n",
       " \"ham\\tSorry, I'll call later\\n\",\n",
       " 'ham\\tU say leh... Of course nothing happen lar. Not say v romantic jus a bit only lor. I thk e nite scenery not so nice leh.\\n',\n",
       " 'spam\\t500 New Mobiles from 2004, MUST GO! Txt: NOKIA to No: 89545 & collect yours today!From ONLY £1 www.4-tc.biz 2optout 087187262701.50gbp/mtmsg18\\n',\n",
       " 'ham\\tWould really appreciate if you call me. Just need someone to talk to.\\n',\n",
       " 'spam\\tWill u meet ur dream partner soon? Is ur career off 2 a flyng start? 2 find out free, txt HORO followed by ur star sign, e. g. HORO ARIES\\n',\n",
       " 'ham\\tHey company elama po mudyadhu.\\n',\n",
       " 'ham\\tLife is more strict than teacher... Bcoz Teacher teaches lesson &amp; then conducts exam, But Life first conducts Exam &amp; then teaches Lessons. Happy morning. . .\\n',\n",
       " 'ham\\tDear good morning now only i am up\\n',\n",
       " 'ham\\tGet down in gandhipuram and walk to cross cut road. Right side &lt;#&gt; street road and turn at first right.\\n',\n",
       " 'ham\\tDear we are going to our rubber place\\n',\n",
       " \"ham\\tSorry battery died, yeah I'm here\\n\",\n",
       " 'ham\\tYes:)here tv is always available in work place..\\n',\n",
       " 'spam\\tText & meet someone sexy today. U can find a date or even flirt its up to U. Join 4 just 10p. REPLY with NAME & AGE eg Sam 25. 18 -msg recd@thirtyeight pence\\n',\n",
       " 'ham\\tI have printed it oh. So  &lt;#&gt;  come upstairs\\n',\n",
       " 'ham\\tOr ill be a little closer like at the bus stop on the same street\\n',\n",
       " 'ham\\tWhere are you?when wil you reach here?\\n',\n",
       " \"ham\\tNew Theory: Argument wins d SITUATION, but loses the PERSON. So dont argue with ur friends just.. . . . kick them &amp; say, I'm always correct.!\\n\",\n",
       " 'spam\\tU 447801259231 have a secret admirer who is looking 2 make contact with U-find out who they R*reveal who thinks UR so special-call on 09058094597\\n',\n",
       " 'ham\\tTomarrow final hearing on my laptop case so i cant.\\n',\n",
       " 'ham\\tPLEASSSSSSSEEEEEE TEL ME V AVENT DONE SPORTSx\\n',\n",
       " 'ham\\tOkay. No no, just shining on. That was meant to be signing, but that sounds better.\\n',\n",
       " \"ham\\tAlthough i told u dat i'm into baig face watches now but i really like e watch u gave cos it's fr u. Thanx 4 everything dat u've done today, i'm touched...\\n\",\n",
       " \"ham\\tU don't remember that old commercial?\\n\",\n",
       " \"ham\\tToo late. I said i have the website. I didn't i have or dont have the slippers\\n\",\n",
       " 'ham\\tI asked you to call him now ok\\n',\n",
       " 'ham\\tKallis wont bat in 2nd innings.\\n',\n",
       " 'ham\\tIt didnt work again oh. Ok goodnight then. I.ll fix and have it ready by the time you wake up. You are very dearly missed have a good night sleep.\\n',\n",
       " 'spam\\tCongratulations ur awarded 500 of CD vouchers or 125gift guaranteed & Free entry 2 100 wkly draw txt MUSIC to 87066 TnCs www.Ldew.com1win150ppmx3age16\\n',\n",
       " 'ham\\tRanjith cal drpd Deeraj and deepak 5min hold\\n',\n",
       " 'ham\\tWen ur lovable bcums angry wid u, dnt take it seriously.. Coz being angry is d most childish n true way of showing deep affection, care n luv!.. kettoda manda... Have nice day da.\\n',\n",
       " 'ham\\tWhat you doing?how are you?\\n',\n",
       " 'ham\\tUps which is 3days also, and the shipping company that takes 2wks. The other way is usps which takes a week but when it gets to lag you may have to bribe nipost to get your stuff.\\n',\n",
       " \"ham\\tI'm back, lemme know when you're ready\\n\",\n",
       " \"ham\\tDon't necessarily expect it to be done before you get back though because I'm just now headin out\\n\",\n",
       " 'ham\\tMmm so yummy babe ... Nice jolt to the suzy\\n',\n",
       " 'ham\\tWhere are you lover ? I need you ...\\n',\n",
       " 'spam\\tWe tried to contact you re your reply to our offer of a Video Handset? 750 anytime networks mins? UNLIMITED TEXT? Camcorder? Reply or call 08000930705 NOW\\n',\n",
       " 'ham\\tI‘m parked next to a MINI!!!! When are you coming in today do you think?\\n',\n",
       " 'ham\\tYup\\n',\n",
       " \"ham\\tAnyway i'm going shopping on my own now. Cos my sis not done yet. Dun disturb u liao.\\n\",\n",
       " 'ham\\tMY NO. IN LUTON 0125698789 RING ME IF UR AROUND! H*\\n',\n",
       " 'spam\\tHey I am really horny want to chat or see me naked text hot to 69698 text charged at 150pm to unsubscribe text stop 69698\\n',\n",
       " 'ham\\tWhy you Dint come with us.\\n',\n",
       " 'ham\\tSame. Wana plan a trip sometme then\\n',\n",
       " 'ham\\tNot sure yet, still trying to get a hold of him\\n',\n",
       " 'spam\\tUr ringtone service has changed! 25 Free credits! Go to club4mobiles.com to choose content now! Stop? txt CLUB STOP to 87070. 150p/wk Club4 PO Box1146 MK45 2WT\\n',\n",
       " 'ham\\tThe evo. I just had to download flash. Jealous?\\n',\n",
       " 'spam\\tRingtone Club: Get the UK singles chart on your mobile each week and choose any top quality ringtone! This message is free of charge.\\n',\n",
       " \"ham\\tCome to mu, we're sorting out our narcotics situation\\n\",\n",
       " 'ham\\tNight has ended for another day, morning has come in a special way. May you smile like the sunny rays and leaves your worries at the blue blue bay.\\n',\n",
       " 'spam\\tHMV BONUS SPECIAL 500 pounds of genuine HMV vouchers to be won. Just answer 4 easy questions. Play Now! Send HMV to 86688 More info:www.100percent-real.com\\n',\n",
       " 'ham\\tUsf I guess, might as well take 1 car\\n',\n",
       " 'ham\\tNo objection. My bf not coming.\\n',\n",
       " 'ham\\tThanx...\\n',\n",
       " 'ham\\tTell rob to mack his gf in the theater\\n',\n",
       " \"ham\\tAwesome, I'll see you in a bit\\n\",\n",
       " 'ham\\tJust sent it. So what type of food do you like?\\n',\n",
       " 'ham\\tAll done? All handed in? Celebrations in full swing yet?\\n',\n",
       " 'ham\\tYou got called a tool?\\n',\n",
       " 'ham\\t\"Wen u miss someone, the person is definitely special for u..... But if the person is so special, why to miss them, just Keep-in-touch\" gdeve..\\n',\n",
       " 'ham\\tOk. I asked for money how far\\n',\n",
       " 'ham\\tOkie...\\n',\n",
       " \"ham\\tYeah I think my usual guy's still passed out from last night, if you get ahold of anybody let me know and I'll throw down\\n\",\n",
       " 'ham\\tK, I might come by tonight then if my class lets out early\\n',\n",
       " 'ham\\tOk..\\n',\n",
       " 'ham\\thi baby im cruisin with my girl friend what r u up 2? give me a call in and hour at home if thats alright or fone me on this fone now love jenny xxx\\n',\n",
       " 'ham\\tMy life Means a lot to me, Not because I love my life, But because I love the people in my life, The world calls them friends, I call them my World:-).. Ge:-)..\\n',\n",
       " 'ham\\tDear,shall mail tonite.busy in the street,shall update you tonite.things are looking ok.varunnathu edukkukayee raksha ollu.but a good one in real sense.\\n',\n",
       " 'ham\\tHey you told your name to gautham ah?\\n',\n",
       " 'ham\\tHaf u found him? I feel so stupid da v cam was working.\\n',\n",
       " 'ham\\tOops. 4 got that bit.\\n',\n",
       " 'ham\\tAre you this much buzy\\n',\n",
       " 'ham\\tI accidentally deleted the message. Resend please.\\n',\n",
       " \"spam\\tT-Mobile customer you may now claim your FREE CAMERA PHONE upgrade & a pay & go sim card for your loyalty. Call on 0845 021 3680.Offer ends 28thFeb.T&C's apply\\n\",\n",
       " \"ham\\tUnless it's a situation where YOU GO GURL would be more appropriate\\n\",\n",
       " 'ham\\tHurt me... Tease me... Make me cry... But in the end of my life when i die plz keep one rose on my grave and say STUPID I MISS U.. HAVE A NICE DAY BSLVYL\\n',\n",
       " 'ham\\tI cant pick the phone right now. Pls send a message\\n',\n",
       " \"ham\\tNeed a coffee run tomo?Can't believe it's that time of week already\\n\",\n",
       " 'ham\\tAwesome, I remember the last time we got somebody high for the first time with diesel :V\\n',\n",
       " 'ham\\tShit that is really shocking and scary, cant imagine for a second. Def up for night out. Do u think there is somewhere i could crash for night, save on taxi?\\n',\n",
       " 'ham\\tOh and by the way you do have more food in your fridge! Want to go out for a meal tonight? \\n',\n",
       " 'ham\\tHe is a womdarfull actor\\n',\n",
       " 'spam\\tSMS. ac Blind Date 4U!: Rodds1 is 21/m from Aberdeen, United Kingdom. Check Him out http://img. sms. ac/W/icmb3cktz8r7!-4 no Blind Dates send HIDE\\n',\n",
       " 'ham\\tYup... From what i remb... I think should be can book... \\n',\n",
       " 'ham\\tJos ask if u wana meet up?\\n',\n",
       " \"ham\\tLol yes. Our friendship is hanging on a thread cause u won't buy stuff.\\n\",\n",
       " 'spam\\tTheMob> Check out our newest selection of content, Games, Tones, Gossip, babes and sport, Keep your mobile fit and funky text WAP to 82468\\n',\n",
       " \"ham\\tWhere are the garage keys? They aren't on the bookshelf\\n\",\n",
       " 'ham\\tToday is ACCEPT DAY..U Accept me as? Brother Sister Lover Dear1 Best1 Clos1 Lvblefrnd Jstfrnd Cutefrnd Lifpartnr Belovd Swtheart Bstfrnd No rply means enemy\\n',\n",
       " 'spam\\tThink ur smart ? Win £200 this week in our weekly quiz, text PLAY to 85222 now!T&Cs WinnersClub PO BOX 84, M26 3UZ. 16+. GBP1.50/week\\n',\n",
       " \"ham\\tHe says he'll give me a call when his friend's got the money but that he's definitely buying before the end of the week\\n\",\n",
       " 'ham\\tHi the way I was with u 2day, is the normal way&this is the real me. UR unique&I hope I know u 4 the rest of mylife. Hope u find wot was lost.\\n',\n",
       " 'ham\\tYou made my day. Do have a great day too.\\n',\n",
       " 'ham\\tK.k:)advance happy pongal.\\n',\n",
       " 'ham\\tHmmm... Guess we can go 4 kb n power yoga... Haha, dunno we can tahan power yoga anot... Thk got lo oso, forgot liao...\\n',\n",
       " \"ham\\tNot really dude, have no friends i'm afraid :(\\n\",\n",
       " 'spam\\tDecember only! Had your mobile 11mths+? You are entitled to update to the latest colour camera mobile for Free! Call The Mobile Update Co FREE on 08002986906\\n',\n",
       " 'ham\\tCoffee cake, i guess...\\n',\n",
       " 'ham\\tMerry Christmas to you too babe, i love ya *kisses*\\n',\n",
       " 'ham\\tHey... Why dont we just go watch x men and have lunch... Haha \\n',\n",
       " 'ham\\tcud u tell ppl im gona b a bit l8 cos 2 buses hav gon past cos they were full & im still waitin 4 1. Pete x\\n',\n",
       " \"ham\\tThat would be great. We'll be at the Guild. Could meet on Bristol road or somewhere - will get in touch over weekend. Our plans take flight! Have a good week\\n\",\n",
       " 'ham\\tNo problem. How are you doing?\\n',\n",
       " 'ham\\tNo calls..messages..missed calls\\n',\n",
       " 'ham\\tHi da:)how is the todays class?\\n',\n",
       " \"ham\\tI'd say that's a good sign but, well, you know my track record at reading women\\n\",\n",
       " \"ham\\tCool, text me when you're parked\\n\",\n",
       " \"ham\\tI'm reading the text i just sent you. Its meant to be a joke. So read it in that light\\n\",\n",
       " 'ham\\tK.k:)apo k.good movie.\\n',\n",
       " 'ham\\tMaybe i could get book out tomo then return it immediately ..? Or something.\\n',\n",
       " 'spam\\tCall Germany for only 1 pence per minute! Call from a fixed line via access number 0844 861 85 85. No prepayment. Direct access!\\n',\n",
       " \"ham\\tAny chance you might have had with me evaporated as soon as you violated my privacy by stealing my phone number from your employer's paperwork. Not cool at all. Please do not contact me again or I will report you to your supervisor.\\n\",\n",
       " 'spam\\tValentines Day Special! Win over £1000 in our quiz and take your partner on the trip of a lifetime! Send GO to 83600 now. 150p/msg rcvd. CustCare:08718720201.\\n',\n",
       " 'ham\\tTa-Daaaaa! I am home babe, are you still up ?\\n',\n",
       " 'ham\\tCool. So how come you havent been wined and dined before?\\n',\n",
       " 'ham\\tJust sleeping..and surfing\\n',\n",
       " \"ham\\tSorry, I'll call later\\n\",\n",
       " 'ham\\tU calling me right? Call my hand phone...\\n',\n",
       " \"ham\\tOk that's great thanx a lot.\\n\",\n",
       " 'ham\\tI take it the post has come then! You must have 1000s of texts now! Happy reading. My one from wiv hello caroline at the end is my favourite. Bless him\\n',\n",
       " 'ham\\tWhere u been hiding stranger?\\n',\n",
       " 'ham\\tAm not interested to do like that.\\n',\n",
       " 'ham\\tMy sister cleared two round in birla soft yesterday.\\n',\n",
       " 'ham\\tGudnite....tc...practice going on\\n',\n",
       " 'ham\\tDis is yijue. I jus saw ur mail. In case huiming havent sent u my num. Dis is my num.\\n',\n",
       " 'ham\\tOne small prestige problem now.\\n',\n",
       " 'spam\\tFancy a shag? I do.Interested? sextextuk.com txt XXUK SUZY to 69876. Txts cost 1.50 per msg. TnCs on website. X\\n',\n",
       " 'ham\\tJust checking in on you. Really do miss seeing Jeremiah. Do have a great month\\n',\n",
       " \"ham\\tNah can't help you there, I've never had an iphone\\n\",\n",
       " \"ham\\tIf you're not in my car in an hour and a half I'm going apeshit\\n\",\n",
       " \"ham\\tTODAY is Sorry day.! If ever i was angry with you, if ever i misbehaved or hurt you? plz plz JUST SLAP URSELF Bcoz, Its ur fault, I'm basically GOOD\\n\",\n",
       " 'ham\\tYo you guys ever figure out how much we need for alcohol? Jay and I are trying to figure out how much we can safely spend on weed\\n',\n",
       " 'ham\\t&lt;#&gt; ISH MINUTES WAS 5 MINUTES AGO. WTF.\\n',\n",
       " 'ham\\tThank You for calling.Forgot to say Happy Onam to you Sirji.I am fine here and remembered you when i met an insurance person.Meet You in Qatar Insha Allah.Rakhesh, ex Tata AIG who joined TISSCO,Tayseer.\\n',\n",
       " 'spam\\tCongratulations ur awarded 500 of CD vouchers or 125gift guaranteed & Free entry 2 100 wkly draw txt MUSIC to 87066 TnCs www.Ldew.com1win150ppmx3age16\\n',\n",
       " 'spam\\tUr cash-balance is currently 500 pounds - to maximize ur cash-in now send CASH to 86688 only 150p/msg. CC: 08708800282 HG/Suite342/2Lands Row/W1J6HL\\n',\n",
       " \"ham\\tI'm an actor. When i work, i work in the evening and sleep late. Since i'm unemployed at the moment, i ALWAYS sleep late. When you're unemployed, every day is saturday.\\n\",\n",
       " 'ham\\tHello! Just got here, st andrews-boy its a long way! Its cold. I will keep you posted\\n',\n",
       " 'ham\\tHa ha cool cool chikku chikku:-):-DB-)\\n',\n",
       " 'ham\\tOh ok no prob..\\n',\n",
       " \"ham\\tCheck audrey's status right now\\n\",\n",
       " 'ham\\tBusy here. Trying to finish for new year. I am looking forward to finally meeting you...\\n',\n",
       " 'ham\\tGood afternoon sunshine! How dawns that day ? Are we refreshed and happy to be alive? Do we breathe in the air and smile ? I think of you, my love ... As always\\n',\n",
       " 'ham\\tWell i know Z will take care of me. So no worries.\\n',\n",
       " 'spam\\tUpdate_Now - Xmas Offer! Latest Motorola, SonyEricsson & Nokia & FREE Bluetooth! Double Mins & 1000 Txt on Orange. Call MobileUpd8 on 08000839402 or call2optout/F4Q=\\n',\n",
       " 'spam\\tHere is your discount code RP176781. To stop further messages reply stop. www.regalportfolio.co.uk. Customer Services 08717205546\\n',\n",
       " 'ham\\tWat uniform? In where get?\\n',\n",
       " \"ham\\tCool, text me when you're ready\\n\",\n",
       " 'ham\\tHello my boytoy ... Geeee I miss you already and I just woke up. I wish you were here in bed with me, cuddling me. I love you ...\\n',\n",
       " 'ham\\tI will spoil you in bed as well :)\\n',\n",
       " \"ham\\tI'm going for bath will msg you next  &lt;#&gt;  min..\\n\",\n",
       " 'ham\\tI cant keep talking to people if am not sure i can pay them if they agree to price. So pls tell me what you want to really buy and how much you are willing to pay\\n',\n",
       " 'spam\\tThanks for your Ringtone Order, Reference T91. You will be charged GBP 4 per week. You can unsubscribe at anytime by calling customer services on 09057039994\\n',\n",
       " 'ham\\tCan you say what happen\\n',\n",
       " \"ham\\tYou could have seen me..i did't recognise you Face.:)\\n\",\n",
       " \"ham\\tWell there's not a lot of things happening in Lindsay on New years *sighs* Some bars in Ptbo and the blue heron has something going\\n\",\n",
       " 'ham\\tKeep my payasam there if rinu brings\\n',\n",
       " 'ham\\tI taught that Ranjith sir called me. So only i sms like that. Becaus hes verifying about project. Prabu told today so only pa dont mistake me..\\n',\n",
       " \"ham\\tI guess that's why you re worried. You must know that there's a way the body repairs itself. And i'm quite sure you shouldn't worry. We'll take it slow. First the tests, they will guide when your ovulation is then just relax. Nothing you've said is a reason to worry but i.ll keep on followin you up.\\n\",\n",
       " 'ham\\tYeah sure, give me a couple minutes to track down my wallet\\n',\n",
       " 'ham\\tHey leave it. not a big deal:-) take care.\\n',\n",
       " 'ham\\tHey i will be late ah... Meet you at 945+\\n',\n",
       " 'spam\\tDouble mins and txts 4 6months FREE Bluetooth on Orange. Available on Sony, Nokia Motorola phones. Call MobileUpd8 on 08000839402 or call2optout/N9DX\\n',\n",
       " 'ham\\tIt took Mr owl 3 licks\\n',\n",
       " 'ham\\tCustomer place i will call you.\\n',\n",
       " 'ham\\tMm that time you dont like fun\\n',\n",
       " 'spam\\t4mths half price Orange line rental & latest camera phones 4 FREE. Had your phone 11mths ? Call MobilesDirect free on 08000938767 to update now! or2stoptxt\\n',\n",
       " 'ham\\tYup having my lunch buffet now.. U eat already?\\n',\n",
       " 'ham\\tHuh so late... Fr dinner?\\n',\n",
       " 'ham\\tHey so this sat are we going for the intro pilates only? Or the kickboxing too? \\n',\n",
       " 'ham\\tMorning only i can ok.\\n',\n",
       " 'ham\\tYes i think so. I am in office but my lap is in room i think thats on for the last few days. I didnt shut that down\\n',\n",
       " 'ham\\tPick you up bout 7.30ish? What time are  and that going?\\n',\n",
       " 'ham\\tFrom here after The performance award is calculated every two month.not for current one month period..\\n',\n",
       " 'ham\\tWas actually sleeping and still might when u call back. So a text is gr8. You rock sis. Will send u a text wen i wake.\\n',\n",
       " \"ham\\tYou are always putting your business out there. You put pictures of your ass on facebook. You are one of the most open people i've ever met. Why would i think a picture of your room would hurt you, make you feel violated.\\n\",\n",
       " 'ham\\tGood evening Sir, Al Salam Wahleykkum.sharing a happy news.By the grace of God, i got an offer from Tayseer,TISSCO and i joined.Hope you are fine.Inshah Allah,meet you sometime.Rakhesh,visitor from India.\\n',\n",
       " 'ham\\tHmmm...k...but i want to change the field quickly da:-)i wanna get system administrator or network administrator..\\n',\n",
       " 'spam\\tFREE RINGTONE text FIRST to 87131 for a poly or text GET to 87131 for a true tone! Help? 0845 2814032 16 after 1st free, tones are 3x£150pw to e£nd txt stop\\n',\n",
       " 'ham\\tDear how is chechi. Did you talk to her\\n',\n",
       " 'ham\\tThe hair cream has not been shipped.\\n',\n",
       " \"ham\\tNone of that's happening til you get here though\\n\",\n",
       " 'ham\\tYep, the great loxahatchee xmas tree burning of  &lt;#&gt;  starts in an hour\\n',\n",
       " 'ham\\tHaha get used to driving to usf man, I know a lot of stoners\\n',\n",
       " \"ham\\tAll was well until slightly disastrous class this pm with my fav darlings! Hope day off ok. Coffee wld be good as can't stay late tomorrow. Same time + place as always?\\n\",\n",
       " 'ham\\tHello! Good week? Fancy a drink or something later?\\n',\n",
       " 'ham\\tHeadin towards busetop\\n',\n",
       " 'ham\\tMessage:some text missing* Sender:Name Missing* *Number Missing *Sent:Date missing *Missing U a lot thats y everything is missing sent via fullonsms.com\\n',\n",
       " 'ham\\tCome by our room at some point so we can iron out the plan for this weekend\\n',\n",
       " 'ham\\tCos i want it to be your thing\\n',\n",
       " \"ham\\tOkies... I'll go yan jiu too... We can skip ard oso, go cine den go mrt one, blah blah blah... \\n\",\n",
       " 'ham\\tBring home some Wendy =D\\n',\n",
       " 'spam\\t100 dating service cal;l 09064012103 box334sk38ch\\n',\n",
       " 'ham\\tWhatsup there. Dont u want to sleep\\n',\n",
       " 'ham\\tAlright i have a new goal now\\n',\n",
       " 'spam\\tFREE entry into our £250 weekly competition just text the word WIN to 80086 NOW. 18 T&C www.txttowin.co.uk\\n',\n",
       " \"ham\\tAlright, I'll head out in a few minutes, text me where to meet you\\n\",\n",
       " 'spam\\tSend a logo 2 ur lover - 2 names joined by a heart. Txt LOVE NAME1 NAME2 MOBNO eg LOVE ADAM EVE 07123456789 to 87077 Yahoo! POBox36504W45WQ TxtNO 4 no ads 150p\\n',\n",
       " \"ham\\tYes:)from last week itself i'm taking live call.\\n\",\n",
       " 'spam\\tSomeone has contacted our dating service and entered your phone because they fancy you! To find out who it is call from a landline 09111032124 . PoBox12n146tf150p\\n',\n",
       " 'ham\\tSiva is in hostel aha:-.\\n',\n",
       " 'spam\\tURGENT! Your Mobile number has been awarded with a £2000 prize GUARANTEED. Call 09058094455 from land line. Claim 3030. Valid 12hrs only\\n',\n",
       " 'ham\\tSend this to ur friends and receive something about ur voice..... How is my speaking expression? 1.childish 2.naughty 3.Sentiment 4.rowdy 5.ful of attitude 6.romantic 7.shy 8.Attractive 9.funny  &lt;#&gt; .irritating  &lt;#&gt; .lovable. reply me..\\n',\n",
       " \"ham\\tOk. She'll be ok. I guess\\n\",\n",
       " 'ham\\taathi..where are you dear..\\n',\n",
       " 'ham\\tAny pain on urination any thing else?\\n',\n",
       " 'ham\\t7 at esplanade.. Do ü mind giving me a lift cos i got no car today..\\n',\n",
       " 'ham\\tI wnt to buy a BMW car urgently..its vry urgent.but hv a shortage of  &lt;#&gt; Lacs.there is no source to arng dis amt. &lt;#&gt; lacs..thats my prob\\n',\n",
       " 'ham\\tAt home watching tv lor.\\n',\n",
       " 'ham\\tDoes she usually take fifteen fucking minutes to respond to a yes or no question\\n',\n",
       " 'spam\\tCongrats! Nokia 3650 video camera phone is your Call 09066382422 Calls cost 150ppm Ave call 3mins vary from mobiles 16+ Close 300603 post BCM4284 Ldn WC1N3XX\\n',\n",
       " 'ham\\tBooked ticket for pongal?\\n',\n",
       " \"ham\\tYou available now? I'm like right around hillsborough &amp;  &lt;#&gt; th\\n\",\n",
       " 'ham\\tThe message sent is askin for  &lt;#&gt; dollars. Shoul i pay  &lt;#&gt;  or  &lt;#&gt; ?\\n',\n",
       " \"ham\\tAsk g or iouri, I've told the story like ten times already\\n\",\n",
       " 'ham\\tHow long does applebees fucking take\\n',\n",
       " 'ham\\tHi hope u get this txt~journey hasnt been gd,now about 50 mins late I think.\\n',\n",
       " 'ham\\tBut i have to. I like to have love and arrange.\\n',\n",
       " 'ham\\tYes..he is really great..bhaji told kallis best cricketer after sachin in world:).very tough to get out.\\n',\n",
       " 'ham\\tYou were supposed to wake ME up &gt;:(\\n',\n",
       " 'ham\\tOic... I saw him too but i tot he din c me... I found a group liao...\\n',\n",
       " \"ham\\tSorry, I'll call later\\n\",\n",
       " 'ham\\t\"HEY HEY WERETHE MONKEESPEOPLE SAY WE MONKEYAROUND! HOWDY GORGEOUS, HOWU DOIN? FOUNDURSELF A JOBYET SAUSAGE?LOVE JEN XXX\"\\n',\n",
       " \"ham\\tSorry, my battery died, I can come by but I'm only getting a gram for now, where's your place?\\n\",\n",
       " 'ham\\tWell done, blimey, exercise, yeah, i kinda remember wot that is, hmm. \\n',\n",
       " 'ham\\tI wont get concentration dear you know you are my mind and everything :-)\\n',\n",
       " 'ham\\tLOL ... Have you made plans for new years?\\n',\n",
       " 'ham\\t10 min later k...\\n',\n",
       " 'ham\\thanks lotsly!\\n',\n",
       " 'ham\\tThanks for this hope you had a good day today\\n',\n",
       " 'ham\\tK:)k:)what are detail you want to transfer?acc no enough?\\n',\n",
       " 'ham\\tOk i will tell her to stay out. Yeah its been tough but we are optimistic things will improve this month.\\n',\n",
       " \"spam\\tLoan for any purpose £500 - £75,000. Homeowners + Tenants welcome. Have you been previously refused? We can still help. Call Free 0800 1956669 or text back 'help'\\n\",\n",
       " 'ham\\tSi si. I think ill go make those oreo truffles.\\n',\n",
       " 'ham\\tLOOK AT AMY URE A BEAUTIFUL, INTELLIGENT WOMAN AND I LIKE U A LOT. I KNOW U DON\\x92T LIKE ME LIKE THAT SO DON\\x92T WORRY.\\n',\n",
       " \"ham\\tI hope you that's the result of being consistently intelligent and kind. Start asking him about practicum links and keep your ears open and all the best. ttyl\\n\",\n",
       " 'ham\\t1.20 that call cost. Which i guess isnt bad. Miss ya, need ya, want ya, love ya\\n',\n",
       " 'ham\\tGoing thru a very different feeling.wavering decisions and coping up with the same is the same individual.time will heal everything i believe.\\n',\n",
       " 'ham\\tWhere did u go? My phone is gonna die you have to stay in here\\n',\n",
       " 'ham\\tGreat. Never been better. Each day gives even more reasons to thank God\\n',\n",
       " \"spam\\tUpgrdCentre Orange customer, you may now claim your FREE CAMERA PHONE upgrade for your loyalty. Call now on 0207 153 9153. Offer ends 26th July. T&C's apply. Opt-out available\\n\",\n",
       " \"ham\\tSorry, I'll call later ok bye\\n\",\n",
       " 'ham\\tOk i am on the way to railway\\n',\n",
       " 'ham\\tgreat princess! I love giving and receiving oral. Doggy style is my fave position. How about you? I enjoy making love  &lt;#&gt;  times per night :)\\n',\n",
       " \"ham\\tThey don't put that stuff on the roads to keep it from getting slippery over there?\\n\",\n",
       " 'ham\\tWhen are you going to ride your bike?\\n',\n",
       " \"ham\\tYup, no need. I'll jus wait 4 e rain 2 stop.\\n\",\n",
       " 'ham\\tThere are many company. Tell me the language.\\n',\n",
       " 'spam\\tokmail: Dear Dave this is your final notice to collect your 4* Tenerife Holiday or #5000 CASH award! Call 09061743806 from landline. TCs SAE Box326 CW25WX 150ppm\\n',\n",
       " 'ham\\tHow long has it been since you screamed, princess?\\n',\n",
       " 'ham\\tNothing. I meant that once the money enters your account here, the bank will remove its flat rate. Someone transfered  &lt;#&gt;  to my account and  &lt;#&gt; dollars got removed. So the banks differ and charges also differ.be sure you trust the 9ja person you are sending account details to cos...\\n',\n",
       " \"spam\\tWant 2 get laid tonight? Want real Dogging locations sent direct 2 ur Mob? Join the UK's largest Dogging Network by txting MOAN to 69888Nyt. ec2a. 31p.msg@150p\\n\",\n",
       " \"ham\\tNice line said by a broken heart- Plz don't cum 1 more times infront of me... Other wise once again I ll trust U... Good 9t:)\\n\",\n",
       " \"ham\\tOk I'm gonna head up to usf in like fifteen minutes\\n\",\n",
       " 'ham\\tLove you aathi..love u lot..\\n',\n",
       " 'ham\\tTension ah?what machi?any problem?\\n',\n",
       " \"ham\\tK, can I pick up another 8th when you're done?\\n\",\n",
       " \"ham\\tWhen're you guys getting back? G said you were thinking about not staying for mcr\\n\",\n",
       " 'ham\\tAlmost there, see u in a sec\\n',\n",
       " 'ham\\tYo carlos, a few friends are already asking me about you, you working at all this weekend?\\n',\n",
       " 'ham\\tWatching tv lor...\\n',\n",
       " 'ham\\tThank you baby! I cant wait to taste the real thing...\\n',\n",
       " 'ham\\tYou should change your fb to jaykwon thuglyfe falconerf\\n',\n",
       " 'ham\\tIf we win its really no 1 side for long time.\\n',\n",
       " 'spam\\tFREE MESSAGE Activate your 500 FREE Text Messages by replying to this message with the word FREE For terms & conditions, visit www.07781482378.com\\n',\n",
       " 'ham\\tDear reached railway. What happen to you\\n',\n",
       " 'ham\\tDepends on quality. If you want the type i sent boye, faded glory, then about 6. If you want ralphs maybe 2\\n',\n",
       " \"ham\\tI think i've fixed it can you send a test message?\\n\",\n",
       " \"ham\\tSorry man my account's dry or I would, if you want we could trade back half or I could buy some shit with my credit card\\n\",\n",
       " 'spam\\tCongrats! 1 year special cinema pass for 2 is yours. call 09061209465 now! C Suprman V, Matrix3, StarWars3, etc all 4 FREE! bx420-ip4-5we. 150pm. Dont miss out!\\n',\n",
       " \"ham\\tSorry,in meeting I'll call later\\n\",\n",
       " 'ham\\tWhat class of  &lt;#&gt;  reunion?\\n',\n",
       " 'ham\\tAre you free now?can i call now?\\n',\n",
       " 'ham\\tGot meh... When?\\n',\n",
       " 'ham\\tNope... Think i will go for it on monday... Sorry i replied so late\\n',\n",
       " 'ham\\tSome of them told accenture is not confirm. Is it true.\\n',\n",
       " 'ham\\tKate jackson rec center before 7ish, right?\\n',\n",
       " 'ham\\tDear i have reache room\\n',\n",
       " 'ham\\tFighting with the world is easy, u either win or lose bt fightng with some1 who is close to u is dificult if u lose - u lose if u win - u still lose.\\n',\n",
       " 'ham\\tWhen can ü come out?\\n',\n",
       " 'ham\\tCheck with nuerologist.\\n',\n",
       " 'ham\\tLolnice. I went from a fish to ..water.?\\n',\n",
       " \"spam\\t+123 Congratulations - in this week's competition draw u have won the £1450 prize to claim just call 09050002311 b4280703. T&Cs/stop SMS 08718727868. Over 18 only 150ppm\\n\",\n",
       " \"ham\\tNo it's waiting in e car dat's bored wat. Cos wait outside got nothing 2 do. At home can do my stuff or watch tv wat.\\n\",\n",
       " 'ham\\tMaybe westshore or hyde park village, the place near my house?\\n',\n",
       " \"ham\\tYou should know now. So how's anthony. Are you bringing money. I've school fees to pay and rent and stuff like that. Thats why i need your help. A friend in need....|\\n\",\n",
       " \"ham\\tWhat's the significance?\\n\",\n",
       " 'ham\\tYour opinion about me? 1. Over 2. Jada 3. Kusruthi 4. Lovable 5. Silent 6. Spl character 7. Not matured 8. Stylish 9. Simple Pls reply..\\n',\n",
       " \"ham\\t8 at the latest, g's still there if you can scrounge up some ammo and want to give the new ak a try\\n\",\n",
       " \"ham\\tPrabha..i'm soryda..realy..frm heart i'm sory\\n\",\n",
       " 'ham\\tLol ok your forgiven :)\\n',\n",
       " 'ham\\tNo..jst change tat only..\\n',\n",
       " 'spam\\tYou are guaranteed the latest Nokia Phone, a 40GB iPod MP3 player or a £500 prize! Txt word: COLLECT to No: 83355! IBHltd LdnW15H 150p/Mtmsgrcvd18+\\n',\n",
       " 'ham\\tS:)no competition for him.\\n',\n",
       " 'spam\\tBoltblue tones for 150p Reply POLY# or MONO# eg POLY3 1. Cha Cha Slide 2. Yeah 3. Slow Jamz 6. Toxic 8. Come With Me or STOP 4 more tones txt MORE\\n',\n",
       " 'spam\\tYour credits have been topped up for http://www.bubbletext.com Your renewal Pin is tgxxrz\\n',\n",
       " 'ham\\tThat way transport is less problematic than on sat night. By the way, if u want to ask  n  to join my bday, feel free. But need to know definite nos as booking on fri. \\n',\n",
       " \"ham\\tUsually the person is unconscious that's in children but in adults they may just behave abnormally. I.ll call you now\\n\",\n",
       " \"ham\\tBut that's on ebay it might be less elsewhere.\\n\",\n",
       " 'ham\\tShall i come to get pickle\\n',\n",
       " 'ham\\tWere gonna go get some tacos\\n',\n",
       " \"ham\\tThat's very rude, you on campus?\\n\",\n",
       " 'spam\\tURGENT!: Your Mobile No. was awarded a £2,000 Bonus Caller Prize on 02/09/03! This is our 2nd attempt to contact YOU! Call 0871-872-9755 BOX95QU\\n',\n",
       " \"ham\\tHi i won't b ard 4 christmas. But do enjoy n merry x'mas.\\n\",\n",
       " \"spam\\tToday's Offer! Claim ur £150 worth of discount vouchers! Text YES to 85023 now! SavaMob, member offers mobile! T Cs 08717898035. £3.00 Sub. 16 . Unsub reply X\\n\",\n",
       " 'ham\\tYes! How is a pretty lady like you single?\\n',\n",
       " 'spam\\tYou will recieve your tone within the next 24hrs. For Terms and conditions please see Channel U Teletext Pg 750\\n',\n",
       " \"ham\\tJay says that you're a double-faggot\\n\",\n",
       " 'spam\\tPRIVATE! Your 2003 Account Statement for 07815296484 shows 800 un-redeemed S.I.M. points. Call 08718738001 Identifier Code 41782 Expires 18/11/04 \\n',\n",
       " 'ham\\tWhat Today-sunday..sunday is holiday..so no work..\\n',\n",
       " 'ham\\tGudnite....tc...practice going on\\n',\n",
       " \"ham\\tI'll be late...\\n\",\n",
       " \"ham\\tI've not called you in a while. This is hoping it was l8r malaria and that you know that we miss you guys. I miss Bani big, so pls give her my love especially. Have a great day.\\n\",\n",
       " 'ham\\tGood afternoon, my love! How goes that day ? I hope maybe you got some leads on a job. I think of you, boytoy and send you a passionate kiss from across the sea\\n',\n",
       " 'ham\\tProbably gonna be here for a while, see you later tonight &lt;)\\n',\n",
       " \"ham\\tOr maybe my fat fingers just press all these buttons and it doesn't know what to do.\\n\",\n",
       " 'ham\\tUmmmmmaah Many many happy returns of d day my dear sweet heart.. HAPPY BIRTHDAY dear\\n',\n",
       " 'ham\\tI am in tirupur da, once you started from office call me.\\n',\n",
       " 'spam\\tfrom www.Applausestore.com MonthlySubscription@50p/msg max6/month T&CsC web age16 2stop txt stop\\n',\n",
       " \"ham\\tA famous quote : when you develop the ability to listen to 'anything' unconditionally without losing your temper or self confidence, it means you are ......... 'MARRIED'\\n\",\n",
       " 'ham\\tBut am going to college pa. What to do. are else ill come there it self. Pa.\\n',\n",
       " 'ham\\t4 oclock at mine. Just to bash out a flat plan.\\n',\n",
       " \"ham\\tThis girl does not stay in bed. This girl doesn't need recovery time. Id rather pass out while having fun then be cooped up in bed\\n\",\n",
       " 'ham\\tThen any special there?\\n',\n",
       " \"ham\\tI know but you need to get hotel now. I just got my invitation but i had to apologise. Cali is to sweet for me to come to some english bloke's weddin\\n\",\n",
       " 'ham\\tSorry that took so long, omw now\\n',\n",
       " 'ham\\tWait  &lt;#&gt;  min..\\n',\n",
       " \"ham\\tOk give me 5 minutes I think I see her. BTW you're my alibi. You were cutting my hair the whole time.\\n\",\n",
       " 'ham\\tImagine you finally get to sink into that bath after I have put you through your paces, maybe even having you eat me for a while before I left ... But also imagine the feel of that cage on your cock surrounded by the bath water, reminding you always who owns you ... Enjoy, my cuck\\n',\n",
       " \"ham\\tHurry up, I've been weed-deficient for like three days\\n\",\n",
       " \"ham\\tSure, if I get an acknowledgement from you that it's astoundingly tactless and generally faggy to demand a blood oath fo\\n\",\n",
       " \"ham\\tOk. Every night take a warm bath drink a cup of milk and you'll see a work of magic. You still need to loose weight. Just so that you know\\n\",\n",
       " 'ham\\tI‘ll have a look at the frying pan in case it‘s cheap or a book perhaps. No that‘s silly a frying pan isn‘t likely to be a book\\n',\n",
       " 'ham\\tO. Well uv causes mutations. Sunscreen is like essential thesedays\\n',\n",
       " 'ham\\tHaving lunch:)you are not in online?why?\\n',\n",
       " 'ham\\tI know that my friend already told that.\\n',\n",
       " 'ham\\tHi Princess! Thank you for the pics. You are very pretty. How are you?\\n',\n",
       " 'ham\\tAiyo... U always c our ex one... I dunno abt mei, she haven reply... First time u reply so fast... Y so lucky not workin huh, got bao by ur sugardad ah...gee.. \\n',\n",
       " \"ham\\tHi msg me:)i'm in office..\\n\",\n",
       " \"ham\\tThanx 4 e brownie it's v nice...\\n\",\n",
       " 'ham\\tGeeeee ... I love you so much I can barely stand it\\n',\n",
       " 'spam\\tGENT! We are trying to contact you. Last weekends draw shows that you won a £1000 prize GUARANTEED. Call 09064012160. Claim Code K52. Valid 12hrs only. 150ppm \\n',\n",
       " \"ham\\tFuck babe ... I miss you already, you know ? Can't you let me send you some money towards your net ? I need you ... I want you ... I crave you ...\\n\",\n",
       " 'ham\\tIll call u 2mrw at ninish, with my address that icky American freek wont stop callin me 2 bad Jen k eh?\\n',\n",
       " 'ham\\tOooh bed ridden ey? What are YOU thinking of?\\n',\n",
       " 'ham\\tSo anyways, you can just go to your gym or whatever, my love *smiles* I hope your ok and having a good day babe ... I miss you so much already\\n',\n",
       " 'ham\\tLove it! Daddy will make you scream with pleasure! I am going to slap your ass with my dick!\\n',\n",
       " 'ham\\tWOT U WANNA DO THEN MISSY?\\n',\n",
       " 'ham\\tYar lor wait 4 my mum 2 finish sch then have lunch lor... I whole morning stay at home clean my room now my room quite clean... Hee...\\n',\n",
       " 'ham\\tDo you know where my lab goggles went\\n',\n",
       " 'ham\\tCan you open the door?\\n',\n",
       " 'ham\\tWaiting for your call.\\n',\n",
       " 'ham\\tNope i waiting in sch 4 daddy... \\n',\n",
       " 'spam\\tYou have won ?1,000 cash or a ?2,000 prize! To claim, call09050000327\\n',\n",
       " \"ham\\tI'm tired of arguing with you about this week after week. Do what you want and from now on, i'll do the same.\\n\",\n",
       " 'ham\\tÜ wait 4 me in sch i finish ard 5..\\n',\n",
       " 'spam\\tour mobile number has won £5000, to claim calls us back or ring the claims hot line on 09050005321.\\n',\n",
       " 'ham\\tArngd marriage is while u r walkin unfortuntly a snake bites u. bt love marriage is dancing in frnt of d snake &amp; sayin Bite me, bite me.\\n',\n",
       " 'ham\\tHuh so early.. Then ü having dinner outside izzit?\\n',\n",
       " 'ham\\tOk anyway no need to change with what you said\\n',\n",
       " 'spam\\tWe tried to contact you re your reply to our offer of 750 mins 150 textand a new video phone call 08002988890 now or reply for free delivery tomorrow\\n',\n",
       " 'ham\\tmy ex-wife was not able to have kids. Do you want kids one day?\\n',\n",
       " \"ham\\tSo how's scotland. Hope you are not over showing your JJC tendencies. Take care. Live the dream\\n\",\n",
       " 'ham\\tTell them u have a headache and just want to use 1 hour of sick time.\\n',\n",
       " \"ham\\tI dun thk i'll quit yet... Hmmm, can go jazz ? Yogasana oso can... We can go meet em after our lessons den... \\n\",\n",
       " 'ham\\t\"Pete can you please ring meive hardly gotany credit\"\\n',\n",
       " 'ham\\tYa srsly better than yi tho\\n',\n",
       " \"ham\\tI'm in a meeting, call me later at\\n\",\n",
       " \"spam\\tFor ur chance to win a £250 wkly shopping spree TXT: SHOP to 80878. T's&C's www.txt-2-shop.com custcare 08715705022, 1x150p/wk\\n\",\n",
       " 'spam\\tYou have been specially selected to receive a 2000 pound award! Call 08712402050 BEFORE the lines close. Cost 10ppm. 16+. T&Cs apply. AG Promo\\n',\n",
       " 'spam\\tPRIVATE! Your 2003 Account Statement for 07753741225 shows 800 un-redeemed S. I. M. points. Call 08715203677 Identifier Code: 42478 Expires 24/10/04\\n',\n",
       " 'ham\\tYou still at grand prix?\\n',\n",
       " 'ham\\tI met you as a stranger and choose you as my friend. As long as the world stands, our friendship never ends. Lets be Friends forever!!! Gud nitz...\\n',\n",
       " 'ham\\tI am great! How are you?\\n',\n",
       " 'ham\\tGud mrng dear have a nice day\\n',\n",
       " 'spam\\tYou have an important customer service announcement. Call FREEPHONE 0800 542 0825 now!\\n',\n",
       " 'ham\\tWill do. Was exhausted on train this morning. Too much wine and pie. You sleep well too\\n',\n",
       " \"ham\\tI'm going out to buy mum's present ar.\\n\",\n",
       " 'ham\\tMind blastin.. No more Tsunamis will occur from now on.. Rajnikant stopped swimming in Indian Ocean..:-D\\n',\n",
       " \"ham\\tIf u sending her home first it's ok lor. I'm not ready yet.\\n\",\n",
       " 'ham\\tSpeaking of does he have any cash yet?\\n',\n",
       " 'ham\\tBe happy there. I will come after noon\\n',\n",
       " 'ham\\tMeet after lunch la...\\n',\n",
       " 'ham\\tTaKe CaRE n gET WeLL sOOn\\n',\n",
       " 'spam\\tXCLUSIVE@CLUBSAISAI 2MOROW 28/5 SOIREE SPECIALE ZOUK WITH NICHOLS FROM PARIS.FREE ROSES 2 ALL LADIES !!! info: 07946746291/07880867867 \\n',\n",
       " 'ham\\twhat I meant to say is cant wait to see u again getting bored of this bridgwater banter\\n',\n",
       " \"ham\\tNeva mind it's ok..\\n\",\n",
       " \"ham\\tIt's fine, imma get a drink or somethin. Want me to come find you?\\n\",\n",
       " 'spam\\t22 days to kick off! For Euro2004 U will be kept up to date with the latest news and results daily. To be removed send GET TXT STOP to 83222\\n',\n",
       " 'ham\\tIts a valentine game. . . Send dis msg to all ur friends. .. If 5 answers r d same then someone really loves u. Ques- which colour suits me the best?rply me\\n',\n",
       " 'ham\\tI have many dependents\\n',\n",
       " 'ham\\tTHANX4 TODAY CER IT WAS NICE 2 CATCH UP BUT WE AVE 2 FIND MORE TIME MORE OFTEN OH WELL TAKE CARE C U SOON.C\\n',\n",
       " 'ham\\tI called and said all to him:)then he have to choose this future.\\n',\n",
       " 'ham\\t\"Happy valentines day\" I know its early but i have hundreds of handsomes and beauties to wish. So i thought to finish off aunties and uncles 1st...\\n',\n",
       " 'ham\\tHe like not v shock leh. Cos telling shuhui is like telling leona also. Like dat almost all know liao. He got ask me abt ur reaction lor.\\n',\n",
       " 'ham\\tFor my family happiness..\\n',\n",
       " 'ham\\tI come n pick ü up... Come out immediately aft ur lesson...\\n',\n",
       " 'ham\\tLet there be snow. Let there be snow. This kind of weather brings ppl together so friendships can grow.\\n',\n",
       " 'ham\\tDear we got  &lt;#&gt;  dollars hi hi\\n',\n",
       " 'ham\\tGood words.... But words may leave u in dismay many times.\\n',\n",
       " \"ham\\tMAKE SURE ALEX KNOWS HIS BIRTHDAY IS OVER IN FIFTEEN MINUTES AS FAR AS YOU'RE CONCERNED\\n\",\n",
       " 'ham\\tsorry, no, have got few things to do. may be in pub later.\\n',\n",
       " \"ham\\tNah it's straight, if you can just bring bud or drinks or something that's actually a little more useful than straight cash\\n\",\n",
       " \"ham\\tHaha good to hear, I'm officially paid and on the market for an 8th\\n\",\n",
       " 'ham\\tHow many licks does it take to get to the center of a tootsie pop?\\n',\n",
       " 'ham\\tYup i thk they r e teacher said that will make my face look longer. Darren ask me not 2 cut too short.\\n',\n",
       " 'spam\\tNew TEXTBUDDY Chat 2 horny guys in ur area 4 just 25p Free 2 receive Search postcode or at gaytextbuddy.com. TXT ONE name to 89693\\n',\n",
       " 'spam\\tTodays Vodafone numbers ending with 4882 are selected to a receive a £350 award. If your number matches call 09064019014 to receive your £350 award.\\n',\n",
       " 'ham\\tPlease dont say like that. Hi hi hi\\n',\n",
       " 'ham\\tThank u!\\n',\n",
       " 'ham\\tOh that was a forwarded message. I thought you send that to me\\n',\n",
       " 'ham\\tGot it. Seventeen pounds for seven hundred ml – hope ok.\\n',\n",
       " 'spam\\tDear Voucher Holder, 2 claim this weeks offer, at your PC go to http://www.e-tlp.co.uk/expressoffer Ts&Cs apply.2 stop texts txt STOP to 80062.\\n',\n",
       " 'ham\\tMe n him so funny...\\n',\n",
       " 'ham\\tSweetheart, hope you are not having that kind of day! Have one with loads of reasons to smile. Biola\\n',\n",
       " 'ham\\tWhen ü login dat time... Dad fetching ü home now?\\n',\n",
       " 'ham\\tWhat will we do in the shower, baby?\\n',\n",
       " 'ham\\tI had askd u a question some hours before. Its answer\\n',\n",
       " \"ham\\tWell imma definitely need to restock before thanksgiving, I'll let you know when I'm out\\n\",\n",
       " \"ham\\t said kiss, kiss, i can't do the sound effects! He is a gorgeous man isn't he! Kind of person who needs a smile to brighten his day! \\n\",\n",
       " 'ham\\tProbably gonna swing by in a wee bit\\n',\n",
       " 'ham\\tYa very nice. . .be ready on thursday\\n',\n",
       " 'ham\\tAllo! We have braved the buses and taken on the trains and triumphed. I mean we‘re in b‘ham. Have a jolly good rest of week\\n',\n",
       " 'ham\\tWatching cartoon, listening music &amp; at eve had to go temple &amp; church.. What about u?\\n',\n",
       " 'ham\\tDo you mind if I ask what happened? You dont have to say if it is uncomfortable.\\n',\n",
       " 'spam\\tPRIVATE! Your 2003 Account Statement for shows 800 un-redeemed S. I. M. points. Call 08715203694 Identifier Code: 40533 Expires 31/10/04\\n',\n",
       " 'ham\\tNo prob. I will send to your email.\\n',\n",
       " 'spam\\tYou have won ?1,000 cash or a ?2,000 prize! To claim, call09050000327. T&C: RSTM, SW7 3SS. 150ppm\\n',\n",
       " 'ham\\tThats cool! Sometimes slow and gentle. Sonetimes rough and hard :)\\n',\n",
       " \"ham\\tI'm gonna say no. Sorry. I would but as normal am starting to panic about time. Sorry again! Are you seeing on Tuesday?\\n\",\n",
       " 'ham\\tWait, do you know if wesleys in town? I bet she does hella drugs!\\n',\n",
       " 'ham\\tFine i miss you very much.\\n',\n",
       " 'ham\\tDid u got that persons story\\n',\n",
       " \"ham\\tTell them the drug dealer's getting impatient\\n\",\n",
       " 'ham\\tSun cant come to earth but send luv as rays. cloud cant come to river but send luv as rain. I cant come to meet U, but can send my care as msg to U. Gud evng\\n',\n",
       " 'ham\\tYou will be in the place of that man\\n',\n",
       " 'ham\\tIt doesnt make sense to take it there unless its free. If you need to know more, wikipedia.com\\n',\n",
       " 'spam\\t88800 and 89034 are premium phone services call 08718711108\\n',\n",
       " \"ham\\tUnder the sea, there lays a rock. In the rock, there is an envelope. In the envelope, there is a paper. On the paper, there are 3 words... '\\n\",\n",
       " \"ham\\tThen mum's repent how?\\n\",\n",
       " 'ham\\tSorry me going home first... Daddy come fetch ü later...\\n',\n",
       " 'ham\\tLeave it de:-). Start Prepare for next:-)..\\n',\n",
       " 'ham\\tYes baby! We can study all the positions of the kama sutra ;)\\n',\n",
       " 'ham\\tEn chikku nange bakra msg kalstiya..then had tea/coffee?\\n',\n",
       " \"ham\\tCarlos'll be here in a minute if you still need to buy\\n\",\n",
       " 'ham\\tThis pay is  &lt;DECIMAL&gt;  lakhs:)\\n',\n",
       " 'ham\\tHave a good evening! Ttyl\\n',\n",
       " 'ham\\tDid u receive my msg?\\n',\n",
       " 'ham\\tHo ho - big belly laugh! See ya tomo\\n',\n",
       " 'spam\\tSMS. ac sun0819 posts HELLO:\"You seem cool, wanted to say hi. HI!!!\" Stop? Send STOP to 62468\\n',\n",
       " 'spam\\tGet ur 1st RINGTONE FREE NOW! Reply to this msg with TONE. Gr8 TOP 20 tones to your phone every week just £1.50 per wk 2 opt out send STOP 08452810071 16\\n',\n",
       " \"ham\\tDitto. And you won't have to worry about me saying ANYTHING to you anymore. Like i said last night, you do whatever you want and i'll do the same. Peace.\\n\",\n",
       " \"ham\\tI've got  &lt;#&gt; , any way I could pick up?\\n\",\n",
       " 'ham\\tI dont knw pa, i just drink milk..\\n',\n",
       " 'ham\\tMaybe?! Say hi to  and find out if  got his card. Great escape or wetherspoons? \\n',\n",
       " \"ham\\tPiggy, r u awake? I bet u're still sleeping. I'm going 4 lunch now...\\n\",\n",
       " \"ham\\tCause I'm not freaky lol\\n\",\n",
       " \"ham\\tMissed your call cause I was yelling at scrappy. Miss u. Can't wait for u to come home. I'm so lonely today.\\n\",\n",
       " \"ham\\tWhat is this 'hex' place you talk of? Explain!\\n\",\n",
       " \"ham\\tÜ log off 4 wat. It's sdryb8i\\n\",\n",
       " 'ham\\tIs xy going 4 e lunch?\\n',\n",
       " \"spam\\tHi I'm sue. I am 20 years old and work as a lapdancer. I love sex. Text me live - I'm i my bedroom now. text SUE to 89555. By TextOperator G2 1DA 150ppmsg 18+\\n\",\n",
       " 'ham\\tI wanted to ask ü to wait 4 me to finish lect. Cos my lect finishes in an hour anyway.\\n',\n",
       " 'ham\\tHave you finished work yet? :)\\n',\n",
       " 'ham\\tEvery King Was Once A Crying Baby And Every Great Building Was Once A Map.. Not Imprtant Where U r TODAY, BUT Where U Wil Reach TOMORW. Gud ni8\\n',\n",
       " 'ham\\tDear,Me at cherthala.in case u r coming cochin pls call bfore u start.i shall also reach accordingly.or tell me which day u r coming.tmorow i am engaged ans its holiday.\\n',\n",
       " 'ham\\tThanks love. But am i doing torch or bold.\\n',\n",
       " 'spam\\t<Forwarded from 448712404000>Please CALL 08712404000 immediately as there is an urgent message waiting for you.\\n',\n",
       " 'ham\\tWas the farm open?\\n',\n",
       " 'ham\\tSorry to trouble u again. Can buy 4d for my dad again? 1405, 1680, 1843. All 2 big 1 small, sat n sun. Thanx.\\n',\n",
       " 'ham\\tMy sister in law, hope you are having a great month. Just saying hey. Abiola\\n',\n",
       " 'ham\\tWill purchase d stuff today and mail to you. Do you have a po box number?\\n',\n",
       " 'ham\\tAh poop. Looks like ill prob have to send in my laptop to get fixed cuz it has a gpu problem\\n',\n",
       " 'ham\\tGood. Good job. I like entrepreneurs\\n',\n",
       " \"ham\\tAight, you close by or still down around alex's place?\\n\",\n",
       " 'ham\\tmeet you in corporation st outside gap … you can see how my mind is working!\\n',\n",
       " 'ham\\tMum ask ü to buy food home...\\n',\n",
       " 'ham\\tK..u also dont msg or reply to his msg..\\n',\n",
       " 'ham\\tHow much r ü willing to pay?\\n',\n",
       " \"ham\\tSorry, I'll call later\\n\",\n",
       " 'ham\\tWhat is important is that you prevent dehydration by giving her enough fluids\\n',\n",
       " 'ham\\tThats a bit weird, even ?- where is the do supposed to be happening? But good idea, sure they will be in pub!\\n',\n",
       " \"ham\\tTrue dear..i sat to pray evening and felt so.so i sms'd you in some time...\\n\",\n",
       " \"ham\\tI don't think I can get away for a trek that long with family in town, sorry\\n\",\n",
       " 'ham\\tSo when do you wanna gym harri\\n',\n",
       " 'ham\\tQuite late lar... Ard 12 anyway i wun b drivin...\\n',\n",
       " 'spam\\tTo review and KEEP the fantastic Nokia N-Gage game deck with Club Nokia, go 2 www.cnupdates.com/newsletter. unsubscribe from alerts reply with the word OUT\\n',\n",
       " 'spam\\t4mths half price Orange line rental & latest camera phones 4 FREE. Had your phone 11mths+? Call MobilesDirect free on 08000938767 to update now! or2stoptxt T&Cs\\n',\n",
       " 'ham\\tHeight of Confidence: All the Aeronautics professors wer calld &amp; they wer askd 2 sit in an aeroplane. Aftr they sat they wer told dat the plane ws made by their students. Dey all hurried out of d plane.. Bt only 1 didnt move... He said:\"if it is made by my students,this wont even start........ Datz confidence..\\n',\n",
       " 'ham\\tIt just seems like weird timing that the night that all you and g want is for me to come smoke is the same day as when a shitstorm is attributed to me always coming over and making everyone smoke\\n',\n",
       " 'spam\\t08714712388 between 10am-7pm Cost 10p\\n',\n",
       " 'ham\\tSave yourself the stress. If the person has a dorm account, just send your account details and the money will be sent to you.\\n',\n",
       " 'ham\\tHe also knows about lunch menu only da. . I know\\n',\n",
       " 'ham\\tWhen i have stuff to sell i.ll tell you\\n',\n",
       " 'spam\\t+449071512431 URGENT! This is the 2nd attempt to contact U!U have WON £1250 CALL 09071512433 b4 050703 T&CsBCM4235WC1N3XX. callcost 150ppm mobilesvary. max£7. 50\\n',\n",
       " \"ham\\tBook which lesson? then you msg me... I will call up after work or sth... I'm going to get specs. My membership is PX3748\\n\",\n",
       " 'spam\\tYou have WON a guaranteed £1000 cash or a £2000 prize. To claim yr prize call our customer service representative on 08714712394 between 10am-7pm\\n',\n",
       " 'ham\\tMacha dont feel upset.i can assume your mindset.believe me one evening with me and i have some wonderful plans for both of us.LET LIFE BEGIN AGAIN.call me anytime\\n',\n",
       " 'ham\\tOh is it? Send me the address\\n',\n",
       " \"ham\\tS'fine. Anytime. All the best with it.\\n\",\n",
       " 'ham\\tThat is wondar full flim.\\n',\n",
       " 'ham\\tYa even those cookies have jelly on them\\n',\n",
       " 'ham\\tThe world is running and i am still.maybe all are feeling the same,so be it.or i have to admit,i am mad.then where is the correction?or let me call this is life.and keep running with the world,may be u r also running.lets run.\\n',\n",
       " 'ham\\tGot it! It looks scrumptious... daddy wants to eat you all night long!\\n',\n",
       " \"ham\\tOf cos can lar i'm not so ba dao ok... 1 pm lor... Y u never ask where we go ah... I said u would ask on fri but he said u will ask today...\\n\",\n",
       " 'ham\\tAlright omw, gotta change my order to a half8th\\n',\n",
       " 'ham\\tExactly. Anyways how far. Is jide her to study or just visiting\\n',\n",
       " 'ham\\tDunno y u ask me.\\n',\n",
       " 'spam\\tEmail AlertFrom: Jeri StewartSize: 2KBSubject: Low-cost prescripiton drvgsTo listen to email call 123\\n',\n",
       " \"ham\\tNo he didn't. Spring is coming early yay!\\n\",\n",
       " \"ham\\tLol you won't feel bad when I use her money to take you out to a steak dinner =D\\n\",\n",
       " 'ham\\tEven u dont get in trouble while convincing..just tel him once or twice and just tel neglect his msgs dont c and read it..just dont reply\\n',\n",
       " 'ham\\tLeaving to qatar tonite in search of an opportunity.all went fast.pls add me in ur prayers dear.Rakhesh\\n',\n",
       " 'ham\\tThen why no one talking to me\\n',\n",
       " 'ham\\tThanks for looking out for me. I really appreciate.\\n',\n",
       " 'spam\\tHi. Customer Loyalty Offer:The NEW Nokia6650 Mobile from ONLY £10 at TXTAUCTION! Txt word: START to No: 81151 & get yours Now! 4T&Ctxt TC 150p/MTmsg\\n',\n",
       " 'ham\\tWish i were with you now!\\n',\n",
       " \"ham\\tHaha mayb u're rite... U know me well. Da feeling of being liked by someone is gd lor. U faster go find one then all gals in our group attached liao.\\n\",\n",
       " 'ham\\tYes i will be there. Glad you made it.\\n',\n",
       " 'ham\\tDo well :)all will for little time. Thing of good times ahead:\\n',\n",
       " \"ham\\tJust got up. have to be out of the room very soon. …. i hadn't put the clocks back til at 8 i shouted at everyone to get up and then realised it was 7. wahay. another hour in bed.\\n\",\n",
       " 'ham\\tOk. There may be a free gym about.\\n',\n",
       " 'ham\\tMen like shorter ladies. Gaze up into his eyes.\\n',\n",
       " 'ham\\tDunno he jus say go lido. Same time 930.\\n',\n",
       " 'ham\\tI promise to take good care of you, princess. I have to run now. Please send pics when you get a chance. Ttyl!\\n',\n",
       " 'spam\\tU are subscribed to the best Mobile Content Service in the UK for £3 per 10 days until you send STOP to 82324. Helpline 08706091795\\n',\n",
       " \"ham\\tIs there a reason we've not spoken this year? Anyways have a great week and all the best in your exam\\n\",\n",
       " 'ham\\tBy monday next week. Give me the full gist\\n',\n",
       " \"spam\\tDo you realize that in about 40 years, we'll have thousands of old ladies running around with tattoos?\\n\",\n",
       " 'spam\\tYou have an important customer service announcement from PREMIER.\\n',\n",
       " 'ham\\tDont gimme that lip caveboy\\n',\n",
       " 'ham\\tWhen did you get to the library\\n',\n",
       " \"ham\\tRealy sorry-i don't recognise this number and am now confused :) who r u please?! \\n\",\n",
       " 'ham\\tSo why didnt you holla?\\n',\n",
       " 'ham\\tCant think of anyone with * spare room off * top of my head\\n',\n",
       " 'ham\\tFaith makes things possible,Hope makes things work,Love makes things beautiful,May you have all three this Christmas!Merry Christmas!\\n',\n",
       " 'ham\\tU should have made an appointment\\n',\n",
       " \"ham\\tCall me when you/carlos is/are here, my phone's vibrate is acting up and I might not hear texts\\n\",\n",
       " 'spam\\tRomantic Paris. 2 nights, 2 flights from £79 Book now 4 next year. Call 08704439680Ts&Cs apply.\\n',\n",
       " 'ham\\tWe are at grandmas. Oh dear, u still ill? I felt Shit this morning but i think i am just hungover! Another night then. We leave on sat.\\n',\n",
       " 'spam\\tUrgent Ur £500 guaranteed award is still unclaimed! Call 09066368327 NOW closingdate04/09/02 claimcode M39M51 £1.50pmmorefrommobile2Bremoved-MobyPOBox734LS27YF\\n',\n",
       " 'ham\\tNothing but we jus tot u would ask cos u ba gua... But we went mt faber yest... Yest jus went out already mah so today not going out... Jus call lor...\\n',\n",
       " 'ham\\tWishing you and your family Merry \"X\" mas and HAPPY NEW Year in advance..\\n',\n",
       " 'spam\\tUR awarded a City Break and could WIN a £200 Summer Shopping spree every WK. Txt STORE to 88039 . SkilGme. TsCs087147403231Winawk!Age16 £1.50perWKsub\\n',\n",
       " \"ham\\tI'm nt goin, got somethin on, unless they meetin 4 dinner lor... Haha, i wonder who will go tis time...\\n\",\n",
       " \"ham\\tSorry, I'll call later\\n\",\n",
       " 'ham\\tI cant pick the phone right now. Pls send a message\\n',\n",
       " \"ham\\tLol I know! They're so dramatic. Schools already closed for tomorrow. Apparently we can't drive in the inch of snow were supposed to get.\\n\",\n",
       " 'ham\\tNot getting anywhere with this damn job hunting over here!\\n',\n",
       " 'ham\\tLol! U drunkard! Just doing my hair at d moment. Yeah still up 4 tonight. Wats the plan? \\n',\n",
       " 'ham\\tidc get over here, you are not weaseling your way out of this shit twice in a row\\n',\n",
       " 'ham\\tI wil be there with in  &lt;#&gt;  minutes. Got any space\\n',\n",
       " 'ham\\tJust sleeping..and surfing\\n',\n",
       " 'ham\\tThanks for picking up the trash.\\n',\n",
       " \"ham\\tWhy don't you go tell your friend you're not sure you want to live with him because he smokes too much then spend hours begging him to come smoke\\n\",\n",
       " 'ham\\t\"Hi its Kate it was lovely to see you tonight and ill phone you tomorrow. I got to sing and a guy gave me his card! xxx\"\\n',\n",
       " 'ham\\tHappy New year my dear brother. I really do miss you. Just got your number and decided to send you this text wishing you only happiness. Abiola\\n',\n",
       " 'ham\\tThat means get the door\\n',\n",
       " 'ham\\tYour opinion about me? 1. Over 2. Jada 3. Kusruthi 4. Lovable 5. Silent 6. Spl character 7. Not matured 8. Stylish 9. Simple Pls reply..\\n',\n",
       " 'ham\\tHmmm ... I thought we said 2 hours slave, not 3 ... You are late ... How should I punish you ?\\n',\n",
       " 'ham\\tBeerage?\\n',\n",
       " 'spam\\tYou have an important customer service announcement from PREMIER. Call FREEPHONE 0800 542 0578 now!\\n',\n",
       " 'ham\\tDont think so. It turns off like randomlly within 5min of opening\\n',\n",
       " \"ham\\tShe was supposed to be but couldn't make it, she's still in town though\\n\",\n",
       " 'ham\\tIt does it on its own. Most of the time it fixes my spelling. But sometimes it gets a completely diff word. Go figure\\n',\n",
       " 'spam\\tEver thought about living a good life with a perfect partner? Just txt back NAME and AGE to join the mobile community. (100p/SMS)\\n',\n",
       " 'spam\\t5 Free Top Polyphonic Tones call 087018728737, National Rate. Get a toppoly tune sent every week, just text SUBPOLY to 81618, £3 per pole. UnSub 08718727870.\\n',\n",
       " 'ham\\tGud mrng dear hav a nice day\\n',\n",
       " \"ham\\tThis is hoping you enjoyed your game yesterday. Sorry i've not been in touch but pls know that you are fondly bein thot off. Have a great week. Abiola\\n\",\n",
       " 'ham\\tAll e best 4 ur driving tmr :-)\\n',\n",
       " 'ham\\tY?WHERE U AT DOGBREATH? ITS JUST SOUNDING LIKE JAN C THAT\\x92S AL!!!!!!!!!\\n',\n",
       " 'ham\\tOmg I want to scream. I weighed myself and I lost more weight! Woohoo!\\n',\n",
       " \"ham\\tThere generally isn't one. It's an uncountable noun - u in the dictionary. pieces of research?\\n\",\n",
       " \"ham\\tit's really getting me down just hanging around.\\n\",\n",
       " \"spam\\tOrange customer, you may now claim your FREE CAMERA PHONE upgrade for your loyalty. Call now on 0207 153 9996. Offer ends 14thMarch. T&C's apply. Opt-out availa\\n\",\n",
       " 'ham\\t\"Petey boy whereare you me and all your friendsare in theKingshead come down if you canlove Nic\"\\n',\n",
       " 'ham\\tOk i msg u b4 i leave my house.\\n',\n",
       " 'ham\\t\"Gimme a few\" was  &lt;#&gt;  minutes ago\\n',\n",
       " 'spam\\tLast Chance! Claim ur £150 worth of discount vouchers today! Text SHOP to 85023 now! SavaMob, offers mobile! T Cs SavaMob POBOX84, M263UZ. £3.00 Sub. 16\\n',\n",
       " \"ham\\tAppt is at &lt;TIME&gt; am. Not my fault u don't listen. I told u twice\\n\",\n",
       " 'spam\\tFREE for 1st week! No1 Nokia tone 4 ur mobile every week just txt NOKIA to 8077 Get txting and tell ur mates. www.getzed.co.uk POBox 36504 W45WQ 16+ norm150p/tone\\n',\n",
       " 'spam\\tYou have won a guaranteed £200 award or even £1000 cashto claim UR award call free on 08000407165 (18+) 2 stop getstop on 88222 PHP. RG21 4JX\\n',\n",
       " \"ham\\tK I'll be there before 4.\\n\",\n",
       " 'ham\\tI dled 3d its very imp\\n',\n",
       " \"ham\\tsure, but make sure he knows we ain't smokin yet\\n\",\n",
       " 'ham\\tBoooo you always work. Just quit.\\n',\n",
       " 'ham\\tI am taking half day leave bec i am not well\\n',\n",
       " \"ham\\tUgh I don't wanna get out of bed. It's so warm.\\n\",\n",
       " 'ham\\tS:)s.nervous  &lt;#&gt; :)\\n',\n",
       " \"ham\\tSo there's a ring that comes with the guys costumes. It's there so they can gift their future yowifes. Hint hint\\n\",\n",
       " 'spam\\tCongratulations ur awarded either £500 of CD gift vouchers & Free entry 2 our £100 weekly draw txt MUSIC to 87066 TnCs www.Ldew.com1win150ppmx3age16\\n',\n",
       " 'ham\\tI borrow ur bag ok.\\n',\n",
       " 'spam\\tU were outbid by simonwatson5120 on the Shinco DVD Plyr. 2 bid again, visit sms. ac/smsrewards 2 end bid notifications, reply END OUT\\n',\n",
       " \"ham\\tWhere's my boytoy? I miss you ... What happened?\\n\",\n",
       " \"ham\\tHe has lots of used ones babe, but the model doesn't help. Youi have to bring it over and he'll match it up\\n\",\n",
       " 'ham\\tAlso are you bringing galileo or dobby\\n',\n",
       " 'ham\\tThen why you not responding\\n',\n",
       " 'ham\\t\"BOO BABE! U ENJOYIN YOURJOB? U SEEMED 2 B GETTIN ON WELL HUNNY!HOPE URE OK?TAKE CARE & I\\x92LLSPEAK 2U SOONLOTS OF LOVEME XXXX.\"\\n',\n",
       " \"ham\\tGood afternoon starshine! How's my boytoy? Does he crave me yet? Ache to fuck me ? *sips cappuccino* I miss you babe *teasing kiss*\\n\",\n",
       " 'ham\\tOn the road so cant txt\\n',\n",
       " 'spam\\tSMSSERVICES. for yourinclusive text credits, pls goto www.comuk.net login= 3qxj9 unsubscribe with STOP, no extra charge. help 08702840625.COMUK. 220-CM2 9AE\\n',\n",
       " \"spam\\t25p 4 alfie Moon's Children in need song on ur mob. Tell ur m8s. Txt Tone charity to 8007 for Nokias or Poly charity for polys: zed 08701417012 profit 2 charity.\\n\",\n",
       " 'ham\\tHave a good evening! Ttyl\\n',\n",
       " 'ham\\tHmm .. Bits and pieces lol ... *sighs* ...\\n',\n",
       " 'ham\\tHahaha..use your brain dear\\n',\n",
       " 'ham\\tHey. You got any mail?\\n',\n",
       " 'ham\\tSorry light turned green, I meant another friend wanted  &lt;#&gt;  worth but he may not be around\\n',\n",
       " 'ham\\tThanks for yesterday sir. You have been wonderful. Hope you enjoyed the burial. MojiBiola\\n',\n",
       " 'spam\\tU have a secret admirer. REVEAL who thinks U R So special. Call 09065174042. To opt out Reply REVEAL STOP. 1.50 per msg recd. Cust care 07821230901\\n',\n",
       " 'ham\\tHi mate its RV did u hav a nice hol just a message 3 say hello coz haven\\x92t sent u 1 in ages started driving so stay off roads!RVx\\n',\n",
       " 'spam\\tDear Voucher Holder, To claim this weeks offer, at you PC please go to http://www.e-tlp.co.uk/expressoffer Ts&Cs apply. To stop texts, txt STOP to 80062\\n',\n",
       " \"ham\\tThank you so much. When we skyped wit kz and sura, we didnt get the pleasure of your company. Hope you are good. We've given you ultimatum oh! We are countin down to aburo. Enjoy! This is the message i sent days ago\\n\",\n",
       " 'ham\\tSurely result will offer:)\\n',\n",
       " 'ham\\tGood Morning my Dear........... Have a great &amp; successful day.\\n',\n",
       " 'spam\\tDo you want 750 anytime any network mins 150 text and a NEW VIDEO phone for only five pounds per week call 08002888812 or reply for delivery tomorrow\\n',\n",
       " \"ham\\tSir, I have been late in paying rent for the past few months and had to pay a $ &lt;#&gt;  charge. I felt it would be inconsiderate of me to nag about something you give at great cost to yourself and that's why i didnt speak up. I however am in a recession and wont be able to pay the charge this month hence my askin well ahead of month's end. Can you please help. Thanks\\n\",\n",
       " 'spam\\tWe tried to contact you re our offer of New Video Phone 750 anytime any network mins HALF PRICE Rental camcorder call 08000930705 or reply for delivery Wed\\n',\n",
       " 'spam\\tLast chance 2 claim ur £150 worth of discount vouchers-Text YES to 85023 now!SavaMob-member offers mobile T Cs 08717898035. £3.00 Sub. 16 . Remove txt X or STOP\\n',\n",
       " 'ham\\tI luv u soo much u don\\x92t understand how special u r 2 me ring u 2morrow luv u xxx\\n',\n",
       " \"ham\\tPls send me a comprehensive mail about who i'm paying, when and how much.\\n\",\n",
       " \"ham\\tOur Prashanthettan's mother passed away last night. pray for her and family.\\n\",\n",
       " 'spam\\tUrgent! call 09066350750 from your landline. Your complimentary 4* Ibiza Holiday or 10,000 cash await collection SAE T&Cs PO BOX 434 SK3 8WP 150 ppm 18+ \\n',\n",
       " 'ham\\tK.k:)when are you going?\\n',\n",
       " \"ham\\tMeanwhile in the shit suite: xavier decided to give us  &lt;#&gt;  seconds of warning that samantha was coming over and is playing jay's guitar to impress her or some shit. Also I don't think doug realizes I don't live here anymore\\n\",\n",
       " \"ham\\tMy stomach has been thru so much trauma I swear I just can't eat. I better lose weight.\\n\",\n",
       " 'ham\\tI am in office:)whats the matter..msg me now.i will call you at break:).\\n',\n",
       " \"ham\\tYeah there's barely enough room for the two of us, x has too many fucking shoes. Sorry man, see you later\\n\",\n",
       " \"spam\\tToday's Offer! Claim ur £150 worth of discount vouchers! Text YES to 85023 now! SavaMob, member offers mobile! T Cs 08717898035. £3.00 Sub. 16 . Unsub reply X\\n\",\n",
       " 'ham\\tU reach orchard already? U wan 2 go buy tickets first?\\n',\n",
       " 'ham\\tI am real, baby! I want to bring out your inner tigress...\\n',\n",
       " 'ham\\tNo da if you run that it activate the full version da.\\n',\n",
       " 'ham\\t\"AH POOR BABY!HOPE URFEELING BETTERSN LUV! PROBTHAT OVERDOSE OF WORK HEY GO CAREFUL SPK 2 U SN LOTS OF LOVEJEN XXX.\"\\n',\n",
       " \"ham\\tStop the story. I've told him i've returned it and he's saying i should not re order it.\\n\",\n",
       " 'spam\\tTalk sexy!! Make new friends or fall in love in the worlds most discreet text dating service. Just text VIP to 83110 and see who you could meet.\\n',\n",
       " 'ham\\tGoing to take your babe out ?\\n',\n",
       " 'ham\\tHai ana tomarrow am coming on morning.  &lt;DECIMAL&gt;  ill be there in sathy then we ll go to RTO office. Reply me after came to home.\\n',\n",
       " 'ham\\tSpoons it is then okay?\\n',\n",
       " 'ham\\tDid he just say somebody is named tampa\\n',\n",
       " 'ham\\tIn work now. Going have in few min.\\n',\n",
       " 'ham\\tYour brother is a genius\\n',\n",
       " \"ham\\tSorry, I guess whenever I can get a hold of my connections, maybe an hour or two? I'll text you\\n\",\n",
       " 'ham\\tDid u find out what time the bus is at coz i need to sort some stuff out.\\n',\n",
       " 'ham\\tDude ive been seeing a lotta corvettes lately\\n',\n",
       " 'spam\\tCongratulations ur awarded either a yrs supply of CDs from Virgin Records or a Mystery Gift GUARANTEED Call 09061104283 Ts&Cs www.smsco.net £1.50pm approx 3mins\\n',\n",
       " \"ham\\tSame here, but I consider walls and bunkers and shit important just because I never play on peaceful but I guess your place is high enough that it don't matter\\n\",\n",
       " 'spam\\tPRIVATE! Your 2003 Account Statement for 07808 XXXXXX shows 800 un-redeemed S. I. M. points. Call 08719899217 Identifier Code: 41685 Expires 07/11/04\\n',\n",
       " 'spam\\tHello. We need some posh birds and chaps to user trial prods for champneys. Can i put you down? I need your address and dob asap. Ta r\\n',\n",
       " 'spam\\tWhat do U want for Xmas? How about 100 free text messages & a new video phone with half price line rental? Call free now on 0800 0721072 to find out more!\\n',\n",
       " 'ham\\tWell am officially in a philosophical hole, so if u wanna call am at home ready to be saved!\\n',\n",
       " 'ham\\tIts going good...no problem..but still need little experience to understand american customer voice...\\n',\n",
       " \"ham\\tI'll text you when I drop x off\\n\",\n",
       " \"ham\\tUgh its been a long day. I'm exhausted. Just want to cuddle up and take a nap\\n\",\n",
       " 'ham\\tTalk With Yourself Atleast Once In A Day...!!! Otherwise You Will Miss Your Best FRIEND In This WORLD...!!! -Shakespeare- SHESIL  &lt;#&gt;\\n',\n",
       " 'spam\\tShop till u Drop, IS IT YOU, either 10K, 5K, £500 Cash or £100 Travel voucher, Call now, 09064011000. NTT PO Box CR01327BT fixedline Cost 150ppm mobile vary\\n',\n",
       " 'ham\\tAre you in castor? You need to see something\\n',\n",
       " 'spam\\tSunshine Quiz Wkly Q! Win a top Sony DVD player if u know which country Liverpool played in mid week? Txt ansr to 82277. £1.50 SP:Tyrone\\n',\n",
       " 'spam\\tU have a secret admirer who is looking 2 make contact with U-find out who they R*reveal who thinks UR so special-call on 09058094565\\n',\n",
       " 'spam\\tU have a Secret Admirer who is looking 2 make contact with U-find out who they R*reveal who thinks UR so special-call on 09065171142-stopsms-08\\n',\n",
       " 'spam\\tReminder: You have not downloaded the content you have already paid for. Goto http://doit. mymoby. tv/ to collect your content.\\n',\n",
       " \"ham\\tsee, i knew giving you a break a few times woul lead to you always wanting to miss curfew. I was gonna gibe you 'til one, but a MIDNIGHT movie is not gonna get out til after 2. You need to come home. You need to getsleep and, if anything, you need to b studdying ear training.\\n\",\n",
       " 'ham\\tI love to give massages. I use lots of baby oil... What is your fave position?\\n',\n",
       " 'ham\\tDude we should go sup again\\n',\n",
       " 'ham\\tYoyyooo u know how to change permissions for a drive in mac. My usb flash drive\\n',\n",
       " 'ham\\tGibbs unsold.mike hussey\\n',\n",
       " 'ham\\tI like to talk pa but am not able to. I dont know y.\\n',\n",
       " \"ham\\tY dun cut too short leh. U dun like ah? She failed. She's quite sad.\\n\",\n",
       " 'ham\\tYou unbelievable faglord\\n',\n",
       " 'ham\\tWife.how she knew the time of murder exactly\\n',\n",
       " 'ham\\tWhy do you ask princess?\\n',\n",
       " 'ham\\tI am great princess! What are you thinking about me? :)\\n',\n",
       " 'ham\\tNutter. Cutter. Ctter. Cttergg. Cttargg. Ctargg. Ctagg. ie you\\n',\n",
       " \"ham\\tIt's ok i noe u're busy but i'm really too bored so i msg u. I oso dunno wat colour she choose 4 me one.\\n\",\n",
       " \"ham\\tDoesn't g have class early tomorrow and thus shouldn't be trying to smoke at  &lt;#&gt;\\n\",\n",
       " 'ham\\tSuperb Thought- \"Be grateful that u dont have everything u want. That means u still have an opportunity to be happier tomorrow than u are today.\":-)\\n',\n",
       " 'ham\\tHope you are having a good week. Just checking in\\n',\n",
       " \"ham\\tI'm used to it. I just hope my agents don't drop me since i've only booked a few things this year. This whole me in boston, them in nyc was an experiment.\\n\",\n",
       " \"ham\\tThursday night? Yeah, sure thing, we'll work it out then\\n\",\n",
       " 'spam\\tYour free ringtone is waiting to be collected. Simply text the password \"MIX\" to 85069 to verify. Get Usher and Britney. FML, PO Box 5249, MK17 92H. 450Ppw 16\\n',\n",
       " 'ham\\tProbably money worries. Things are coming due and i have several outstanding invoices for work i did two and three months ago.\\n',\n",
       " 'ham\\tHow is it possible to teach you. And where.\\n',\n",
       " 'ham\\tI wonder if your phone battery went dead ? I had to tell you, I love you babe\\n',\n",
       " \"ham\\tLovely smell on this bus and it ain't tobacco... \\n\",\n",
       " \"ham\\tWe're all getting worried over here, derek and taylor have already assumed the worst\\n\",\n",
       " \"ham\\tHey what's up charles sorry about the late reply.\\n\",\n",
       " 'spam\\tall the lastest from Stereophonics, Marley, Dizzee Racal, Libertines and The Strokes! Win Nookii games with Flirt!! Click TheMob WAP Bookmark or text WAP to 82468\\n',\n",
       " 'ham\\tI.ll give her once i have it. Plus she said grinule greet you whenever we speak\\n',\n",
       " 'ham\\tWHITE FUDGE OREOS ARE IN STORES\\n',\n",
       " 'spam\\tJanuary Male Sale! Hot Gay chat now cheaper, call 08709222922. National rate from 1.5p/min cheap to 7.8p/min peak! To stop texts call 08712460324 (10p/min)\\n',\n",
       " \"ham\\tMy love ! How come it took you so long to leave for Zaher's? I got your words on ym and was happy to see them but was sad you had left. I miss you\\n\",\n",
       " 'ham\\tI am sorry it hurt you.\\n',\n",
       " \"ham\\tCan't. I feel nauseous. I'm so pissed. I didn't eat any sweets all week cause today I was planning to pig out. I was dieting all week. And now I'm not hungry :/\\n\",\n",
       " 'ham\\tOk lor but not too early. Me still having project meeting now.\\n',\n",
       " 'ham\\tCall me da, i am waiting for your call.\\n',\n",
       " 'ham\\tI could ask carlos if we could get more if anybody else can chip in\\n',\n",
       " 'ham\\tWas actually about to send you a reminder today. Have a wonderful weekend\\n',\n",
       " \"ham\\tWhen people see my msgs, They think Iam addicted to msging... They are wrong, Bcoz They don\\\\'t know that Iam addicted to my sweet Friends..!! BSLVYL\\n\",\n",
       " 'ham\\tHey you gave them your photo when you registered for driving ah? Tmr wanna meet at yck? \\n',\n",
       " 'ham\\tDont talk to him ever ok its my word.\\n',\n",
       " 'ham\\tWhen u wana see it then\\n',\n",
       " \"ham\\tOn ma way to school. Can you pls send me ashley's number\\n\",\n",
       " 'ham\\tIt shall be fine. I have avalarr now. Will hollalater\\n',\n",
       " \"ham\\tShe went to attend another two rounds today..but still did't reach home..\\n\",\n",
       " 'ham\\tActually i deleted my old website..now i m blogging at magicalsongs.blogspot.com\\n',\n",
       " 'ham\\tK, wait chikku..il send aftr  &lt;#&gt; mins\\n',\n",
       " \"ham\\tBut I'm on a diet. And I ate 1 too many slices of pizza yesterday. Ugh I'm ALWAYS on a diet.\\n\",\n",
       " 'ham\\tK:)i will give my kvb acc details:)\\n',\n",
       " 'ham\\tOh all have to come ah?\\n',\n",
       " 'spam\\tmoney!!! you r a lucky winner ! 2 claim your prize text money 2 88600 over £1million to give away ! ppt150x3+normal text rate box403 w1t1jy\\n',\n",
       " \"ham\\tI'm really sorry i won't b able 2 do this friday.hope u can find an alternative.hope yr term's going ok:-)\\n\",\n",
       " 'ham\\tCongratulations ore mo owo re wa. Enjoy it and i wish you many happy moments to and fro wherever you go\\n',\n",
       " 'ham\\tSo do you have samus shoulders yet\\n',\n",
       " \"ham\\tWhat time you think you'll have it? Need to know when I should be near campus\\n\",\n",
       " 'spam\\tDear Matthew please call 09063440451 from a landline, your complimentary 4*Lux Tenerife holiday or £1000 CASH await collection. ppm150 SAE T&Cs Box334 SK38XH.\\n',\n",
       " 'ham\\tThen dun wear jeans lor...\\n',\n",
       " 'ham\\tSince when, which side, any fever, any vomitin.\\n',\n",
       " 'ham\\tK:)k.are you in college?\\n',\n",
       " 'spam\\tUrgent! call 09061749602 from Landline. Your complimentary 4* Tenerife Holiday or £10,000 cash await collection SAE T&Cs BOX 528 HP20 1YF 150ppm 18+\\n',\n",
       " 'ham\\tBetter. Made up for Friday and stuffed myself like a pig yesterday. Now I feel bleh. But at least its not writhing pain kind of bleh.\\n',\n",
       " \"ham\\tNo we sell it all so we'll have tons if coins. Then sell our coins to someone thru paypal. Voila! Money back in life pockets:)\\n\",\n",
       " 'ham\\tTheyre doing it to lots of places. Only hospitals and medical places are safe.\\n',\n",
       " 'spam\\tHow about getting in touch with folks waiting for company? Just txt back your NAME and AGE to opt in! Enjoy the community (150p/SMS)\\n',\n",
       " \"ham\\tAnd also I've sorta blown him off a couple times recently so id rather not text him out of the blue looking for weed\\n\",\n",
       " 'ham\\tI sent my scores to sophas and i had to do secondary application for a few schools. I think if you are thinking of applying, do a research on cost also. Contact joke ogunrinde, her school is one me the less expensive ones\\n',\n",
       " 'ham\\tI cant wait to see you! How were the photos were useful? :)\\n',\n",
       " 'spam\\tUr cash-balance is currently 500 pounds - to maximize ur cash-in now send GO to 86688 only 150p/msg. CC: 08718720201 PO BOX 114/14 TCR/W1\\n',\n",
       " 'ham\\tHey i booked the kb on sat already... what other lessons are we going for ah? Keep your sat night free we need to meet and confirm our lodging \\n',\n",
       " 'ham\\tChk in ur belovd ms dict\\n',\n",
       " 'ham\\tIs that what time you want me to come?\\n',\n",
       " \"ham\\tAwesome, lemme know whenever you're around\\n\",\n",
       " 'ham\\tShb b ok lor... Thanx...\\n',\n",
       " 'ham\\tBeautiful Truth against Gravity.. Read carefully: \"Our heart feels light when someone is in it.. But it feels very heavy when someone leaves it..\" GOOD NIGHT\\n',\n",
       " \"ham\\tAlso remember to get dobby's bowl from your car\\n\",\n",
       " 'spam\\tFilthy stories and GIRLS waiting for your\\n',\n",
       " \"ham\\tSorry i now then c ur msg... Yar lor so poor thing... But only 4 one night... Tmr u'll have a brand new room 2 sleep in...\\n\",\n",
       " \"ham\\tLove isn't a decision, it's a feeling. If we could decide who to love, then, life would be much simpler, but then less magical\\n\",\n",
       " 'ham\\tWelp apparently he retired\\n',\n",
       " \"ham\\tMy sort code is  and acc no is . The bank is natwest. Can you reply to confirm i've sent this to the right person!\\n\",\n",
       " 'ham\\tWhere @\\n',\n",
       " \"ham\\tU sure u can't take any sick time?\\n\",\n",
       " 'spam\\tURGENT! We are trying to contact U. Todays draw shows that you have won a £800 prize GUARANTEED. Call 09050001808 from land line. Claim M95. Valid12hrs only\\n',\n",
       " 'ham\\tWatching cartoon, listening music &amp; at eve had to go temple &amp; church.. What about u?\\n',\n",
       " 'ham\\tYo chad which gymnastics class do you wanna take? The site says Christians class is full..\\n',\n",
       " 'ham\\tAre you this much buzy\\n',\n",
       " 'ham\\tOr better still can you catch her and let ask her if she can sell  &lt;#&gt;  for me.\\n',\n",
       " 'ham\\tI am not sure about night menu. . . I know only about noon menu\\n',\n",
       " 'ham\\tWhat do u want when i come back?.a beautiful necklace as a token of my heart for you.thats what i will give but ONLY to MY WIFE OF MY LIKING.BE THAT AND SEE..NO ONE can give you that.dont call me.i will wait till i come.\\n',\n",
       " 'ham\\tAre you willing to go for aptitude class.\\n',\n",
       " 'ham\\tIt wont b until 2.15 as trying 2 sort house out, is that ok?\\n',\n",
       " 'ham\\tYar lor he wan 2 go c horse racing today mah, so eat earlier lor. I ate chicken rice. U?\\n',\n",
       " 'ham\\tHaha awesome, omw back now then\\n',\n",
       " 'ham\\tYup i thk so until e shop closes lor.\\n',\n",
       " 'ham\\twhat is your account number?\\n',\n",
       " 'ham\\tEh u send wrongly lar...\\n',\n",
       " 'ham\\tHey no I ad a crap nite was borin without ya 2 boggy with me u boring biatch! Thanx but u wait til nxt time il ave ya \\n',\n",
       " 'ham\\tOk i shall talk to him\\n',\n",
       " 'ham\\tDont hesitate. You know this is the second time she has had weakness like that. So keep i notebook of what she eat and did the day before or if anything changed the day before so that we can be sure its nothing\\n',\n",
       " 'ham\\tHey you can pay. With salary de. Only  &lt;#&gt; .\\n',\n",
       " 'ham\\tAnother month. I need chocolate weed and alcohol.\\n',\n",
       " 'ham\\tIf he started searching he will get job in few days.he have great potential and talent.\\n',\n",
       " 'ham\\tReckon need to be in town by eightish to walk from * carpark.\\n',\n",
       " 'spam\\tCongrats! 2 mobile 3G Videophones R yours. call 09063458130 now! videochat wid your mates, play java games, Dload polyPH music, noline rentl.\\n',\n",
       " 'ham\\tLOOK AT THE FUCKIN TIME. WHAT THE FUCK YOU THINK IS UP\\n',\n",
       " 'ham\\tYo guess what I just dropped\\n',\n",
       " \"ham\\tCarlos says he'll be at mu in  &lt;#&gt;  minutes\\n\",\n",
       " \"ham\\tI'm in office now . I will call you  &lt;#&gt;  min:)\\n\",\n",
       " \"ham\\tGeeee ... I miss you already, you know ? Your all I can think about. Fuck, I can't wait till next year when we will be together ... *loving kiss*\\n\",\n",
       " 'ham\\tYun ah.the ubi one say if ü wan call by tomorrow.call 67441233 look for irene.ere only got bus8,22,65,61,66,382. Ubi cres,ubi tech park.6ph for 1st 5wkg days.èn\\n',\n",
       " 'ham\\tUgh. Gotta drive back to sd from la. My butt is sore.\\n',\n",
       " 'ham\\t26th OF JULY\\n',\n",
       " 'ham\\tHi im having the most relaxing time ever! we have to get up at 7am every day! was the party good the other night? I get home tomorrow at 5ish.\\n',\n",
       " 'ham\\tUp to ü... Ü wan come then come lor... But i din c any stripes skirt...\\n',\n",
       " 'ham\\tThe Xmas story is peace.. The Xmas msg is love.. The Xmas miracle is jesus.. Hav a blessed month ahead &amp; wish U Merry Xmas...\\n',\n",
       " \"ham\\tI can't, I don't have her number!\\n\",\n",
       " \"ham\\tChange again... It's e one next to escalator...\\n\",\n",
       " \"ham\\tYetunde i'm in class can you not run water on it to make it ok. Pls now.\\n\",\n",
       " 'ham\\tNot a lot has happened here. Feels very quiet. Beth is at her aunts and charlie is working lots. Just me and helen in at the mo. How have you been? \\n',\n",
       " 'ham\\tThen ü wait 4 me at bus stop aft ur lect lar. If i dun c ü then i go get my car then come back n pick ü.\\n',\n",
       " ...]"
      ]
     },
     "execution_count": 15,
     "metadata": {},
     "output_type": "execute_result"
    }
   ],
   "source": [
    "file"
   ]
  },
  {
   "cell_type": "code",
   "execution_count": 11,
   "metadata": {},
   "outputs": [
    {
     "data": {
      "text/plain": [
       "list"
      ]
     },
     "execution_count": 11,
     "metadata": {},
     "output_type": "execute_result"
    }
   ],
   "source": [
    "type(file)"
   ]
  },
  {
   "cell_type": "code",
   "execution_count": 12,
   "metadata": {},
   "outputs": [
    {
     "data": {
      "text/plain": [
       "5574"
      ]
     },
     "execution_count": 12,
     "metadata": {},
     "output_type": "execute_result"
    }
   ],
   "source": [
    "len(file)"
   ]
  },
  {
   "cell_type": "code",
   "execution_count": 13,
   "metadata": {},
   "outputs": [
    {
     "data": {
      "text/plain": [
       "['ham\\tGo until jurong point, crazy.. Available only in bugis n great world la e buffet... Cine there got amore wat...\\n',\n",
       " 'ham\\tOk lar... Joking wif u oni...\\n',\n",
       " \"spam\\tFree entry in 2 a wkly comp to win FA Cup final tkts 21st May 2005. Text FA to 87121 to receive entry question(std txt rate)T&C's apply 08452810075over18's\\n\",\n",
       " 'ham\\tU dun say so early hor... U c already then say...\\n',\n",
       " \"ham\\tNah I don't think he goes to usf, he lives around here though\\n\"]"
      ]
     },
     "execution_count": 13,
     "metadata": {},
     "output_type": "execute_result"
    }
   ],
   "source": [
    "file[0:5]"
   ]
  },
  {
   "cell_type": "code",
   "execution_count": 16,
   "metadata": {},
   "outputs": [],
   "source": [
    "#now open the same file in pandas\n",
    "import pandas as pd\n",
    "data = pd.read_csv('Input/smsspamcollection/SMSSpamCollection', sep='\\t',names=[\"label\", \"message\"])"
   ]
  },
  {
   "cell_type": "code",
   "execution_count": 17,
   "metadata": {},
   "outputs": [
    {
     "data": {
      "text/html": [
       "<div>\n",
       "<style scoped>\n",
       "    .dataframe tbody tr th:only-of-type {\n",
       "        vertical-align: middle;\n",
       "    }\n",
       "\n",
       "    .dataframe tbody tr th {\n",
       "        vertical-align: top;\n",
       "    }\n",
       "\n",
       "    .dataframe thead th {\n",
       "        text-align: right;\n",
       "    }\n",
       "</style>\n",
       "<table border=\"1\" class=\"dataframe\">\n",
       "  <thead>\n",
       "    <tr style=\"text-align: right;\">\n",
       "      <th></th>\n",
       "      <th>label</th>\n",
       "      <th>message</th>\n",
       "    </tr>\n",
       "  </thead>\n",
       "  <tbody>\n",
       "    <tr>\n",
       "      <th>0</th>\n",
       "      <td>ham</td>\n",
       "      <td>Go until jurong point, crazy.. Available only ...</td>\n",
       "    </tr>\n",
       "    <tr>\n",
       "      <th>1</th>\n",
       "      <td>ham</td>\n",
       "      <td>Ok lar... Joking wif u oni...</td>\n",
       "    </tr>\n",
       "    <tr>\n",
       "      <th>2</th>\n",
       "      <td>spam</td>\n",
       "      <td>Free entry in 2 a wkly comp to win FA Cup fina...</td>\n",
       "    </tr>\n",
       "    <tr>\n",
       "      <th>3</th>\n",
       "      <td>ham</td>\n",
       "      <td>U dun say so early hor... U c already then say...</td>\n",
       "    </tr>\n",
       "    <tr>\n",
       "      <th>4</th>\n",
       "      <td>ham</td>\n",
       "      <td>Nah I don't think he goes to usf, he lives aro...</td>\n",
       "    </tr>\n",
       "  </tbody>\n",
       "</table>\n",
       "</div>"
      ],
      "text/plain": [
       "  label                                            message\n",
       "0   ham  Go until jurong point, crazy.. Available only ...\n",
       "1   ham                      Ok lar... Joking wif u oni...\n",
       "2  spam  Free entry in 2 a wkly comp to win FA Cup fina...\n",
       "3   ham  U dun say so early hor... U c already then say...\n",
       "4   ham  Nah I don't think he goes to usf, he lives aro..."
      ]
     },
     "execution_count": 17,
     "metadata": {},
     "output_type": "execute_result"
    }
   ],
   "source": [
    "data.head()"
   ]
  },
  {
   "cell_type": "code",
   "execution_count": 16,
   "metadata": {},
   "outputs": [
    {
     "name": "stdout",
     "output_type": "stream",
     "text": [
      "<class 'pandas.core.frame.DataFrame'>\n",
      "RangeIndex: 5572 entries, 0 to 5571\n",
      "Data columns (total 2 columns):\n",
      " #   Column   Non-Null Count  Dtype \n",
      "---  ------   --------------  ----- \n",
      " 0   label    5572 non-null   object\n",
      " 1   message  5572 non-null   object\n",
      "dtypes: object(2)\n",
      "memory usage: 87.2+ KB\n"
     ]
    }
   ],
   "source": [
    "data.info()"
   ]
  },
  {
   "cell_type": "code",
   "execution_count": 17,
   "metadata": {},
   "outputs": [
    {
     "data": {
      "text/html": [
       "<div>\n",
       "<style scoped>\n",
       "    .dataframe tbody tr th:only-of-type {\n",
       "        vertical-align: middle;\n",
       "    }\n",
       "\n",
       "    .dataframe tbody tr th {\n",
       "        vertical-align: top;\n",
       "    }\n",
       "\n",
       "    .dataframe thead th {\n",
       "        text-align: right;\n",
       "    }\n",
       "</style>\n",
       "<table border=\"1\" class=\"dataframe\">\n",
       "  <thead>\n",
       "    <tr style=\"text-align: right;\">\n",
       "      <th></th>\n",
       "      <th>label</th>\n",
       "      <th>message</th>\n",
       "    </tr>\n",
       "  </thead>\n",
       "  <tbody>\n",
       "    <tr>\n",
       "      <th>count</th>\n",
       "      <td>5572</td>\n",
       "      <td>5572</td>\n",
       "    </tr>\n",
       "    <tr>\n",
       "      <th>unique</th>\n",
       "      <td>2</td>\n",
       "      <td>5169</td>\n",
       "    </tr>\n",
       "    <tr>\n",
       "      <th>top</th>\n",
       "      <td>ham</td>\n",
       "      <td>Sorry, I'll call later</td>\n",
       "    </tr>\n",
       "    <tr>\n",
       "      <th>freq</th>\n",
       "      <td>4825</td>\n",
       "      <td>30</td>\n",
       "    </tr>\n",
       "  </tbody>\n",
       "</table>\n",
       "</div>"
      ],
      "text/plain": [
       "       label                 message\n",
       "count   5572                    5572\n",
       "unique     2                    5169\n",
       "top      ham  Sorry, I'll call later\n",
       "freq    4825                      30"
      ]
     },
     "execution_count": 17,
     "metadata": {},
     "output_type": "execute_result"
    }
   ],
   "source": [
    "data.describe()"
   ]
  },
  {
   "cell_type": "code",
   "execution_count": 18,
   "metadata": {},
   "outputs": [
    {
     "data": {
      "text/html": [
       "<div>\n",
       "<style scoped>\n",
       "    .dataframe tbody tr th:only-of-type {\n",
       "        vertical-align: middle;\n",
       "    }\n",
       "\n",
       "    .dataframe tbody tr th {\n",
       "        vertical-align: top;\n",
       "    }\n",
       "\n",
       "    .dataframe thead tr th {\n",
       "        text-align: left;\n",
       "    }\n",
       "\n",
       "    .dataframe thead tr:last-of-type th {\n",
       "        text-align: right;\n",
       "    }\n",
       "</style>\n",
       "<table border=\"1\" class=\"dataframe\">\n",
       "  <thead>\n",
       "    <tr>\n",
       "      <th></th>\n",
       "      <th colspan=\"4\" halign=\"left\">message</th>\n",
       "    </tr>\n",
       "    <tr>\n",
       "      <th></th>\n",
       "      <th>count</th>\n",
       "      <th>unique</th>\n",
       "      <th>top</th>\n",
       "      <th>freq</th>\n",
       "    </tr>\n",
       "    <tr>\n",
       "      <th>label</th>\n",
       "      <th></th>\n",
       "      <th></th>\n",
       "      <th></th>\n",
       "      <th></th>\n",
       "    </tr>\n",
       "  </thead>\n",
       "  <tbody>\n",
       "    <tr>\n",
       "      <th>ham</th>\n",
       "      <td>4825</td>\n",
       "      <td>4516</td>\n",
       "      <td>Sorry, I'll call later</td>\n",
       "      <td>30</td>\n",
       "    </tr>\n",
       "    <tr>\n",
       "      <th>spam</th>\n",
       "      <td>747</td>\n",
       "      <td>653</td>\n",
       "      <td>Please call our customer service representativ...</td>\n",
       "      <td>4</td>\n",
       "    </tr>\n",
       "  </tbody>\n",
       "</table>\n",
       "</div>"
      ],
      "text/plain": [
       "      message                                                               \n",
       "        count unique                                                top freq\n",
       "label                                                                       \n",
       "ham      4825   4516                             Sorry, I'll call later   30\n",
       "spam      747    653  Please call our customer service representativ...    4"
      ]
     },
     "execution_count": 18,
     "metadata": {},
     "output_type": "execute_result"
    }
   ],
   "source": [
    "data.groupby('label').describe()"
   ]
  },
  {
   "cell_type": "code",
   "execution_count": 19,
   "metadata": {},
   "outputs": [],
   "source": [
    "data['length'] = data['message'].apply(len)"
   ]
  },
  {
   "cell_type": "code",
   "execution_count": 20,
   "metadata": {},
   "outputs": [
    {
     "data": {
      "text/html": [
       "<div>\n",
       "<style scoped>\n",
       "    .dataframe tbody tr th:only-of-type {\n",
       "        vertical-align: middle;\n",
       "    }\n",
       "\n",
       "    .dataframe tbody tr th {\n",
       "        vertical-align: top;\n",
       "    }\n",
       "\n",
       "    .dataframe thead th {\n",
       "        text-align: right;\n",
       "    }\n",
       "</style>\n",
       "<table border=\"1\" class=\"dataframe\">\n",
       "  <thead>\n",
       "    <tr style=\"text-align: right;\">\n",
       "      <th></th>\n",
       "      <th>label</th>\n",
       "      <th>message</th>\n",
       "      <th>length</th>\n",
       "    </tr>\n",
       "  </thead>\n",
       "  <tbody>\n",
       "    <tr>\n",
       "      <th>0</th>\n",
       "      <td>ham</td>\n",
       "      <td>Go until jurong point, crazy.. Available only ...</td>\n",
       "      <td>111</td>\n",
       "    </tr>\n",
       "    <tr>\n",
       "      <th>1</th>\n",
       "      <td>ham</td>\n",
       "      <td>Ok lar... Joking wif u oni...</td>\n",
       "      <td>29</td>\n",
       "    </tr>\n",
       "    <tr>\n",
       "      <th>2</th>\n",
       "      <td>spam</td>\n",
       "      <td>Free entry in 2 a wkly comp to win FA Cup fina...</td>\n",
       "      <td>155</td>\n",
       "    </tr>\n",
       "    <tr>\n",
       "      <th>3</th>\n",
       "      <td>ham</td>\n",
       "      <td>U dun say so early hor... U c already then say...</td>\n",
       "      <td>49</td>\n",
       "    </tr>\n",
       "    <tr>\n",
       "      <th>4</th>\n",
       "      <td>ham</td>\n",
       "      <td>Nah I don't think he goes to usf, he lives aro...</td>\n",
       "      <td>61</td>\n",
       "    </tr>\n",
       "    <tr>\n",
       "      <th>...</th>\n",
       "      <td>...</td>\n",
       "      <td>...</td>\n",
       "      <td>...</td>\n",
       "    </tr>\n",
       "    <tr>\n",
       "      <th>5567</th>\n",
       "      <td>spam</td>\n",
       "      <td>This is the 2nd time we have tried 2 contact u...</td>\n",
       "      <td>160</td>\n",
       "    </tr>\n",
       "    <tr>\n",
       "      <th>5568</th>\n",
       "      <td>ham</td>\n",
       "      <td>Will ü b going to esplanade fr home?</td>\n",
       "      <td>36</td>\n",
       "    </tr>\n",
       "    <tr>\n",
       "      <th>5569</th>\n",
       "      <td>ham</td>\n",
       "      <td>Pity, * was in mood for that. So...any other s...</td>\n",
       "      <td>57</td>\n",
       "    </tr>\n",
       "    <tr>\n",
       "      <th>5570</th>\n",
       "      <td>ham</td>\n",
       "      <td>The guy did some bitching but I acted like i'd...</td>\n",
       "      <td>125</td>\n",
       "    </tr>\n",
       "    <tr>\n",
       "      <th>5571</th>\n",
       "      <td>ham</td>\n",
       "      <td>Rofl. Its true to its name</td>\n",
       "      <td>26</td>\n",
       "    </tr>\n",
       "  </tbody>\n",
       "</table>\n",
       "<p>5572 rows × 3 columns</p>\n",
       "</div>"
      ],
      "text/plain": [
       "     label                                            message  length\n",
       "0      ham  Go until jurong point, crazy.. Available only ...     111\n",
       "1      ham                      Ok lar... Joking wif u oni...      29\n",
       "2     spam  Free entry in 2 a wkly comp to win FA Cup fina...     155\n",
       "3      ham  U dun say so early hor... U c already then say...      49\n",
       "4      ham  Nah I don't think he goes to usf, he lives aro...      61\n",
       "...    ...                                                ...     ...\n",
       "5567  spam  This is the 2nd time we have tried 2 contact u...     160\n",
       "5568   ham               Will ü b going to esplanade fr home?      36\n",
       "5569   ham  Pity, * was in mood for that. So...any other s...      57\n",
       "5570   ham  The guy did some bitching but I acted like i'd...     125\n",
       "5571   ham                         Rofl. Its true to its name      26\n",
       "\n",
       "[5572 rows x 3 columns]"
      ]
     },
     "execution_count": 20,
     "metadata": {},
     "output_type": "execute_result"
    }
   ],
   "source": [
    "data"
   ]
  },
  {
   "cell_type": "code",
   "execution_count": 21,
   "metadata": {},
   "outputs": [
    {
     "data": {
      "text/plain": [
       "<matplotlib.axes._subplots.AxesSubplot at 0x7f9a88a99910>"
      ]
     },
     "execution_count": 21,
     "metadata": {},
     "output_type": "execute_result"
    },
    {
     "data": {
      "image/png": "[encoded data removed]",
      "text/plain": [
       "<Figure size 432x288 with 1 Axes>"
      ]
     },
     "metadata": {
      "needs_background": "light"
     },
     "output_type": "display_data"
    }
   ],
   "source": [
    "data['length'].plot(bins=150, kind='hist', color='blue')"
   ]
  },
  {
   "cell_type": "code",
   "execution_count": 22,
   "metadata": {},
   "outputs": [
    {
     "data": {
      "text/plain": [
       "count    5572.000000\n",
       "mean       80.489950\n",
       "std        59.942907\n",
       "min         2.000000\n",
       "25%        36.000000\n",
       "50%        62.000000\n",
       "75%       122.000000\n",
       "max       910.000000\n",
       "Name: length, dtype: float64"
      ]
     },
     "execution_count": 22,
     "metadata": {},
     "output_type": "execute_result"
    }
   ],
   "source": [
    "data.length.describe()"
   ]
  },
  {
   "cell_type": "code",
   "execution_count": 23,
   "metadata": {},
   "outputs": [
    {
     "data": {
      "text/plain": [
       "\"For me the love should start with attraction.i should feel that I need her every time around me.she should be the first thing which comes in my thoughts.I would start the day and end it with her.she should be there every time I dream.love will be then when my every breath has her name.my life should happen around her.my life will be named to her.I would cry for her.will give all my happiness and take all her sorrows.I will be ready to fight with anyone for her.I will be in love when I will be doing the craziest things for her.love will be when I don't have to proove anyone that my girl is the most beautiful lady on the whole planet.I will always be singing praises for her.love will be when I start up making chicken curry and end up makiing sambar.life will be the most beautiful then.will get every morning and thank god for the day because she is with me.I would like to say a lot..will tell later..\""
      ]
     },
     "execution_count": 23,
     "metadata": {},
     "output_type": "execute_result"
    }
   ],
   "source": [
    "#910 characters, let's see how this looks like, use .iloc[0] to show full message\n",
    "data[data['length'] == 910]['message'].iloc[0]"
   ]
  },
  {
   "cell_type": "code",
   "execution_count": 24,
   "metadata": {},
   "outputs": [
    {
     "data": {
      "text/plain": [
       "array([<matplotlib.axes._subplots.AxesSubplot object at 0x7f9a891a1fd0>,\n",
       "       <matplotlib.axes._subplots.AxesSubplot object at 0x7f9a891db610>],\n",
       "      dtype=object)"
      ]
     },
     "execution_count": 24,
     "metadata": {},
     "output_type": "execute_result"
    },
    {
     "data": {
      "image/png": "[encoded data removed]",
      "text/plain": [
       "<Figure size 720x288 with 2 Axes>"
      ]
     },
     "metadata": {
      "needs_background": "light"
     },
     "output_type": "display_data"
    }
   ],
   "source": [
    "data.hist(column='length', by='label',color='blue', bins=50, figsize=(10,4), range=[0, 250])"
   ]
  },
  {
   "cell_type": "markdown",
   "metadata": {},
   "source": [
    "## Text Pre-Processing\n",
    "\n",
    "The classification algorithms need numerical feature vector in order to perform the classification task. \n",
    "There are actually many methods to convert a corpus to a vector format. The simplest is the the bag-of-words approach, where each unique word in a text will be represented by one number. \n",
    "\n",
    "### Bag of Words Approach (BOW)\n",
    "\n",
    "The bag-of-words model is a simplifying representation used in natural language processing and information retrieval (IR). When using this representation, we discard most of the structure of the input text and count the frequency of each word in the text. Disregarding the structure and counting only word occurrences leads to the\n",
    "mental image of representing text as a `bag`. \n",
    "\n",
    "Computing the bag-of-words representation for a corpus of documents\n",
    "consists of the following three steps: \n",
    "\n",
    "i) Tokenization: Split each document into the words `tokens`, for example by splitting them on whitespace and\n",
    "punctuation.\n",
    "\n",
    "ii) Vocabulary building:  Collect a vocabulary of all words that appear\n",
    "in any of the documents\n",
    "\n",
    "iii) Encoding: For each document, we count how many times each word appears.\n",
    "\n",
    "\n",
    "For this purpose, we will use the NLTK library (alternatively you can load the stopwords list that I have provided you with). \n",
    "NLTK library, jointly with Spacy, are standard library in Python for processing text and has a lot of useful features. We'll only use some of the basic ones here."
   ]
  },
  {
   "cell_type": "code",
   "execution_count": 25,
   "metadata": {},
   "outputs": [
    {
     "data": {
      "text/plain": [
       "['i',\n",
       " 'me',\n",
       " 'my',\n",
       " 'myself',\n",
       " 'we',\n",
       " 'our',\n",
       " 'ours',\n",
       " 'ourselves',\n",
       " 'you',\n",
       " \"you're\",\n",
       " \"you've\",\n",
       " \"you'll\",\n",
       " \"you'd\",\n",
       " 'your',\n",
       " 'yours',\n",
       " 'yourself',\n",
       " 'yourselves',\n",
       " 'he',\n",
       " 'him',\n",
       " 'his',\n",
       " 'himself',\n",
       " 'she',\n",
       " \"she's\",\n",
       " 'her',\n",
       " 'hers',\n",
       " 'herself',\n",
       " 'it',\n",
       " \"it's\",\n",
       " 'its',\n",
       " 'itself',\n",
       " 'they',\n",
       " 'them',\n",
       " 'their',\n",
       " 'theirs',\n",
       " 'themselves',\n",
       " 'what',\n",
       " 'which',\n",
       " 'who',\n",
       " 'whom',\n",
       " 'this',\n",
       " 'that',\n",
       " \"that'll\",\n",
       " 'these',\n",
       " 'those',\n",
       " 'am',\n",
       " 'is',\n",
       " 'are',\n",
       " 'was',\n",
       " 'were',\n",
       " 'be',\n",
       " 'been',\n",
       " 'being',\n",
       " 'have',\n",
       " 'has',\n",
       " 'had',\n",
       " 'having',\n",
       " 'do',\n",
       " 'does',\n",
       " 'did',\n",
       " 'doing',\n",
       " 'a',\n",
       " 'an',\n",
       " 'the',\n",
       " 'and',\n",
       " 'but',\n",
       " 'if',\n",
       " 'or',\n",
       " 'because',\n",
       " 'as',\n",
       " 'until',\n",
       " 'while',\n",
       " 'of',\n",
       " 'at',\n",
       " 'by',\n",
       " 'for',\n",
       " 'with',\n",
       " 'about',\n",
       " 'against',\n",
       " 'between',\n",
       " 'into',\n",
       " 'through',\n",
       " 'during',\n",
       " 'before',\n",
       " 'after',\n",
       " 'above',\n",
       " 'below',\n",
       " 'to',\n",
       " 'from',\n",
       " 'up',\n",
       " 'down',\n",
       " 'in',\n",
       " 'out',\n",
       " 'on',\n",
       " 'off',\n",
       " 'over',\n",
       " 'under',\n",
       " 'again',\n",
       " 'further',\n",
       " 'then',\n",
       " 'once',\n",
       " 'here',\n",
       " 'there',\n",
       " 'when',\n",
       " 'where',\n",
       " 'why',\n",
       " 'how',\n",
       " 'all',\n",
       " 'any',\n",
       " 'both',\n",
       " 'each',\n",
       " 'few',\n",
       " 'more',\n",
       " 'most',\n",
       " 'other',\n",
       " 'some',\n",
       " 'such',\n",
       " 'no',\n",
       " 'nor',\n",
       " 'not',\n",
       " 'only',\n",
       " 'own',\n",
       " 'same',\n",
       " 'so',\n",
       " 'than',\n",
       " 'too',\n",
       " 'very',\n",
       " 's',\n",
       " 't',\n",
       " 'can',\n",
       " 'will',\n",
       " 'just',\n",
       " 'don',\n",
       " \"don't\",\n",
       " 'should',\n",
       " \"should've\",\n",
       " 'now',\n",
       " 'd',\n",
       " 'll',\n",
       " 'm',\n",
       " 'o',\n",
       " 're',\n",
       " 've',\n",
       " 'y',\n",
       " 'ain',\n",
       " 'aren',\n",
       " \"aren't\",\n",
       " 'couldn',\n",
       " \"couldn't\",\n",
       " 'didn',\n",
       " \"didn't\",\n",
       " 'doesn',\n",
       " \"doesn't\",\n",
       " 'hadn',\n",
       " \"hadn't\",\n",
       " 'hasn',\n",
       " \"hasn't\",\n",
       " 'haven',\n",
       " \"haven't\",\n",
       " 'isn',\n",
       " \"isn't\",\n",
       " 'ma',\n",
       " 'mightn',\n",
       " \"mightn't\",\n",
       " 'mustn',\n",
       " \"mustn't\",\n",
       " 'needn',\n",
       " \"needn't\",\n",
       " 'shan',\n",
       " \"shan't\",\n",
       " 'shouldn',\n",
       " \"shouldn't\",\n",
       " 'wasn',\n",
       " \"wasn't\",\n",
       " 'weren',\n",
       " \"weren't\",\n",
       " 'won',\n",
       " \"won't\",\n",
       " 'wouldn',\n",
       " \"wouldn't\"]"
      ]
     },
     "execution_count": 25,
     "metadata": {},
     "output_type": "execute_result"
    }
   ],
   "source": [
    "from nltk.corpus import stopwords\n",
    "stopwords.words('english')# Show the vector of stop words"
   ]
  },
  {
   "cell_type": "code",
   "execution_count": 18,
   "metadata": {},
   "outputs": [],
   "source": [
    "#Alternatively \n",
    "stopwords=open('Input/nltk_stopwords.txt').readlines()"
   ]
  },
  {
   "cell_type": "code",
   "execution_count": 19,
   "metadata": {},
   "outputs": [
    {
     "data": {
      "text/plain": [
       "['i\\n',\n",
       " 'me\\n',\n",
       " 'my\\n',\n",
       " 'myself\\n',\n",
       " 'we\\n',\n",
       " 'our\\n',\n",
       " 'ours\\n',\n",
       " 'ourselves\\n',\n",
       " 'you\\n',\n",
       " \"you're\\n\",\n",
       " \"you've\\n\",\n",
       " \"you'll\\n\",\n",
       " \"you'd\\n\",\n",
       " 'your\\n',\n",
       " 'yours\\n',\n",
       " 'yourself\\n',\n",
       " 'yourselves\\n',\n",
       " 'he\\n',\n",
       " 'him\\n',\n",
       " 'his\\n',\n",
       " 'himself\\n',\n",
       " 'she\\n',\n",
       " \"she's\\n\",\n",
       " 'her\\n',\n",
       " 'hers\\n',\n",
       " 'herself\\n',\n",
       " 'it\\n',\n",
       " \"it's\\n\",\n",
       " 'its\\n',\n",
       " 'itself\\n',\n",
       " 'they\\n',\n",
       " 'them\\n',\n",
       " 'their\\n',\n",
       " 'theirs\\n',\n",
       " 'themselves\\n',\n",
       " 'what\\n',\n",
       " 'which\\n',\n",
       " 'who\\n',\n",
       " 'whom\\n',\n",
       " 'this\\n',\n",
       " 'that\\n',\n",
       " \"that'll\\n\",\n",
       " 'these\\n',\n",
       " 'those\\n',\n",
       " 'am\\n',\n",
       " 'is\\n',\n",
       " 'are\\n',\n",
       " 'was\\n',\n",
       " 'were\\n',\n",
       " 'be\\n',\n",
       " 'been\\n',\n",
       " 'being\\n',\n",
       " 'have\\n',\n",
       " 'has\\n',\n",
       " 'had\\n',\n",
       " 'having\\n',\n",
       " 'do\\n',\n",
       " 'does\\n',\n",
       " 'did\\n',\n",
       " 'doing\\n',\n",
       " 'a\\n',\n",
       " 'an\\n',\n",
       " 'the\\n',\n",
       " 'and\\n',\n",
       " 'but\\n',\n",
       " 'if\\n',\n",
       " 'or\\n',\n",
       " 'because\\n',\n",
       " 'as\\n',\n",
       " 'until\\n',\n",
       " 'while\\n',\n",
       " 'of\\n',\n",
       " 'at\\n',\n",
       " 'by\\n',\n",
       " 'for\\n',\n",
       " 'with\\n',\n",
       " 'about\\n',\n",
       " 'against\\n',\n",
       " 'between\\n',\n",
       " 'into\\n',\n",
       " 'through\\n',\n",
       " 'during\\n',\n",
       " 'before\\n',\n",
       " 'after\\n',\n",
       " 'above\\n',\n",
       " 'below\\n',\n",
       " 'to\\n',\n",
       " 'from\\n',\n",
       " 'up\\n',\n",
       " 'down\\n',\n",
       " 'in\\n',\n",
       " 'out\\n',\n",
       " 'on\\n',\n",
       " 'off\\n',\n",
       " 'over\\n',\n",
       " 'under\\n',\n",
       " 'again\\n',\n",
       " 'further\\n',\n",
       " 'then\\n',\n",
       " 'once\\n',\n",
       " 'here\\n',\n",
       " 'there\\n',\n",
       " 'when\\n',\n",
       " 'where\\n',\n",
       " 'why\\n',\n",
       " 'how\\n',\n",
       " 'all\\n',\n",
       " 'any\\n',\n",
       " 'both\\n',\n",
       " 'each\\n',\n",
       " 'few\\n',\n",
       " 'more\\n',\n",
       " 'most\\n',\n",
       " 'other\\n',\n",
       " 'some\\n',\n",
       " 'such\\n',\n",
       " 'no\\n',\n",
       " 'nor\\n',\n",
       " 'not\\n',\n",
       " 'only\\n',\n",
       " 'own\\n',\n",
       " 'same\\n',\n",
       " 'so\\n',\n",
       " 'than\\n',\n",
       " 'too\\n',\n",
       " 'very\\n',\n",
       " 's\\n',\n",
       " 't\\n',\n",
       " 'can\\n',\n",
       " 'will\\n',\n",
       " 'just\\n',\n",
       " 'don\\n',\n",
       " \"don't\\n\",\n",
       " 'should\\n',\n",
       " \"should've\\n\",\n",
       " 'now\\n',\n",
       " 'd\\n',\n",
       " 'll\\n',\n",
       " 'm\\n',\n",
       " 'o\\n',\n",
       " 're\\n',\n",
       " 've\\n',\n",
       " 'y\\n',\n",
       " 'ain\\n',\n",
       " 'aren\\n',\n",
       " \"aren't\\n\",\n",
       " 'couldn\\n',\n",
       " \"couldn't\\n\",\n",
       " 'didn\\n',\n",
       " \"didn't\\n\",\n",
       " 'doesn\\n',\n",
       " \"doesn't\\n\",\n",
       " 'hadn\\n',\n",
       " \"hadn't\\n\",\n",
       " 'hasn\\n',\n",
       " \"hasn't\\n\",\n",
       " 'haven\\n',\n",
       " \"haven't\\n\",\n",
       " 'isn\\n',\n",
       " \"isn't\\n\",\n",
       " 'ma\\n',\n",
       " 'mightn\\n',\n",
       " \"mightn't\\n\",\n",
       " 'mustn\\n',\n",
       " \"mustn't\\n\",\n",
       " 'needn\\n',\n",
       " \"needn't\\n\",\n",
       " 'shan\\n',\n",
       " \"shan't\\n\",\n",
       " 'shouldn\\n',\n",
       " \"shouldn't\\n\",\n",
       " 'wasn\\n',\n",
       " \"wasn't\\n\",\n",
       " 'weren\\n',\n",
       " \"weren't\\n\",\n",
       " 'won\\n',\n",
       " \"won't\\n\",\n",
       " 'wouldn\\n',\n",
       " \"wouldn't\\n\"]"
      ]
     },
     "execution_count": 19,
     "metadata": {},
     "output_type": "execute_result"
    }
   ],
   "source": [
    "stopwords"
   ]
  },
  {
   "cell_type": "code",
   "execution_count": 21,
   "metadata": {},
   "outputs": [],
   "source": [
    "stopwords=[element.replace(\"\\n\", \"\") for element in stopwords]"
   ]
  },
  {
   "cell_type": "code",
   "execution_count": 22,
   "metadata": {},
   "outputs": [
    {
     "data": {
      "text/plain": [
       "['i',\n",
       " 'me',\n",
       " 'my',\n",
       " 'myself',\n",
       " 'we',\n",
       " 'our',\n",
       " 'ours',\n",
       " 'ourselves',\n",
       " 'you',\n",
       " \"you're\",\n",
       " \"you've\",\n",
       " \"you'll\",\n",
       " \"you'd\",\n",
       " 'your',\n",
       " 'yours',\n",
       " 'yourself',\n",
       " 'yourselves',\n",
       " 'he',\n",
       " 'him',\n",
       " 'his',\n",
       " 'himself',\n",
       " 'she',\n",
       " \"she's\",\n",
       " 'her',\n",
       " 'hers',\n",
       " 'herself',\n",
       " 'it',\n",
       " \"it's\",\n",
       " 'its',\n",
       " 'itself',\n",
       " 'they',\n",
       " 'them',\n",
       " 'their',\n",
       " 'theirs',\n",
       " 'themselves',\n",
       " 'what',\n",
       " 'which',\n",
       " 'who',\n",
       " 'whom',\n",
       " 'this',\n",
       " 'that',\n",
       " \"that'll\",\n",
       " 'these',\n",
       " 'those',\n",
       " 'am',\n",
       " 'is',\n",
       " 'are',\n",
       " 'was',\n",
       " 'were',\n",
       " 'be',\n",
       " 'been',\n",
       " 'being',\n",
       " 'have',\n",
       " 'has',\n",
       " 'had',\n",
       " 'having',\n",
       " 'do',\n",
       " 'does',\n",
       " 'did',\n",
       " 'doing',\n",
       " 'a',\n",
       " 'an',\n",
       " 'the',\n",
       " 'and',\n",
       " 'but',\n",
       " 'if',\n",
       " 'or',\n",
       " 'because',\n",
       " 'as',\n",
       " 'until',\n",
       " 'while',\n",
       " 'of',\n",
       " 'at',\n",
       " 'by',\n",
       " 'for',\n",
       " 'with',\n",
       " 'about',\n",
       " 'against',\n",
       " 'between',\n",
       " 'into',\n",
       " 'through',\n",
       " 'during',\n",
       " 'before',\n",
       " 'after',\n",
       " 'above',\n",
       " 'below',\n",
       " 'to',\n",
       " 'from',\n",
       " 'up',\n",
       " 'down',\n",
       " 'in',\n",
       " 'out',\n",
       " 'on',\n",
       " 'off',\n",
       " 'over',\n",
       " 'under',\n",
       " 'again',\n",
       " 'further',\n",
       " 'then',\n",
       " 'once',\n",
       " 'here',\n",
       " 'there',\n",
       " 'when',\n",
       " 'where',\n",
       " 'why',\n",
       " 'how',\n",
       " 'all',\n",
       " 'any',\n",
       " 'both',\n",
       " 'each',\n",
       " 'few',\n",
       " 'more',\n",
       " 'most',\n",
       " 'other',\n",
       " 'some',\n",
       " 'such',\n",
       " 'no',\n",
       " 'nor',\n",
       " 'not',\n",
       " 'only',\n",
       " 'own',\n",
       " 'same',\n",
       " 'so',\n",
       " 'than',\n",
       " 'too',\n",
       " 'very',\n",
       " 's',\n",
       " 't',\n",
       " 'can',\n",
       " 'will',\n",
       " 'just',\n",
       " 'don',\n",
       " \"don't\",\n",
       " 'should',\n",
       " \"should've\",\n",
       " 'now',\n",
       " 'd',\n",
       " 'll',\n",
       " 'm',\n",
       " 'o',\n",
       " 're',\n",
       " 've',\n",
       " 'y',\n",
       " 'ain',\n",
       " 'aren',\n",
       " \"aren't\",\n",
       " 'couldn',\n",
       " \"couldn't\",\n",
       " 'didn',\n",
       " \"didn't\",\n",
       " 'doesn',\n",
       " \"doesn't\",\n",
       " 'hadn',\n",
       " \"hadn't\",\n",
       " 'hasn',\n",
       " \"hasn't\",\n",
       " 'haven',\n",
       " \"haven't\",\n",
       " 'isn',\n",
       " \"isn't\",\n",
       " 'ma',\n",
       " 'mightn',\n",
       " \"mightn't\",\n",
       " 'mustn',\n",
       " \"mustn't\",\n",
       " 'needn',\n",
       " \"needn't\",\n",
       " 'shan',\n",
       " \"shan't\",\n",
       " 'shouldn',\n",
       " \"shouldn't\",\n",
       " 'wasn',\n",
       " \"wasn't\",\n",
       " 'weren',\n",
       " \"weren't\",\n",
       " 'won',\n",
       " \"won't\",\n",
       " 'wouldn',\n",
       " \"wouldn't\"]"
      ]
     },
     "execution_count": 22,
     "metadata": {},
     "output_type": "execute_result"
    }
   ],
   "source": [
    "stopwords"
   ]
  },
  {
   "cell_type": "code",
   "execution_count": 28,
   "metadata": {},
   "outputs": [],
   "source": [
    "import re"
   ]
  },
  {
   "cell_type": "code",
   "execution_count": 29,
   "metadata": {},
   "outputs": [],
   "source": [
    "#https://stackoverflow.com/questions/265960/best-way-to-strip-punctuation-from-a-string"
   ]
  },
  {
   "cell_type": "code",
   "execution_count": 30,
   "metadata": {},
   "outputs": [],
   "source": [
    "string_original = \"string. With. Punctuation?\"\n",
    "string_replaced = re.sub(r'\\W',' ', string_original)"
   ]
  },
  {
   "cell_type": "code",
   "execution_count": 31,
   "metadata": {},
   "outputs": [
    {
     "data": {
      "text/plain": [
       "'string With Punctuation'"
      ]
     },
     "execution_count": 31,
     "metadata": {},
     "output_type": "execute_result"
    }
   ],
   "source": [
    "string_replaced"
   ]
  },
  {
   "cell_type": "code",
   "execution_count": 32,
   "metadata": {},
   "outputs": [],
   "source": [
    "def remove_punct_tokenize(text):\n",
    "    text = re.sub(r'[^\\w\\s]','', text)\n",
    "    tokenized =text.lower()   \n",
    "    return tokenized.split()  "
   ]
  },
  {
   "cell_type": "markdown",
   "metadata": {},
   "source": [
    "You can also use the NLKT library to do the tokenization."
   ]
  },
  {
   "cell_type": "code",
   "execution_count": 33,
   "metadata": {},
   "outputs": [
    {
     "data": {
      "text/plain": [
       "['i', 'cannot', 'stand', 'this', 'at', 'all']"
      ]
     },
     "execution_count": 33,
     "metadata": {},
     "output_type": "execute_result"
    }
   ],
   "source": [
    "remove_punct_tokenize(\"I cannot stand this at all....\")"
   ]
  },
  {
   "cell_type": "code",
   "execution_count": 34,
   "metadata": {},
   "outputs": [
    {
     "data": {
      "text/plain": [
       "['i',\n",
       " 'me',\n",
       " 'my',\n",
       " 'myself',\n",
       " 'we',\n",
       " 'our',\n",
       " 'ours',\n",
       " 'ourselves',\n",
       " 'you',\n",
       " \"you're\",\n",
       " \"you've\",\n",
       " \"you'll\",\n",
       " \"you'd\",\n",
       " 'your',\n",
       " 'yours',\n",
       " 'yourself',\n",
       " 'yourselves',\n",
       " 'he',\n",
       " 'him',\n",
       " 'his',\n",
       " 'himself',\n",
       " 'she',\n",
       " \"she's\",\n",
       " 'her',\n",
       " 'hers',\n",
       " 'herself',\n",
       " 'it',\n",
       " \"it's\",\n",
       " 'its',\n",
       " 'itself',\n",
       " 'they',\n",
       " 'them',\n",
       " 'their',\n",
       " 'theirs',\n",
       " 'themselves',\n",
       " 'what',\n",
       " 'which',\n",
       " 'who',\n",
       " 'whom',\n",
       " 'this',\n",
       " 'that',\n",
       " \"that'll\",\n",
       " 'these',\n",
       " 'those',\n",
       " 'am',\n",
       " 'is',\n",
       " 'are',\n",
       " 'was',\n",
       " 'were',\n",
       " 'be',\n",
       " 'been',\n",
       " 'being',\n",
       " 'have',\n",
       " 'has',\n",
       " 'had',\n",
       " 'having',\n",
       " 'do',\n",
       " 'does',\n",
       " 'did',\n",
       " 'doing',\n",
       " 'a',\n",
       " 'an',\n",
       " 'the',\n",
       " 'and',\n",
       " 'but',\n",
       " 'if',\n",
       " 'or',\n",
       " 'because',\n",
       " 'as',\n",
       " 'until',\n",
       " 'while',\n",
       " 'of',\n",
       " 'at',\n",
       " 'by',\n",
       " 'for',\n",
       " 'with',\n",
       " 'about',\n",
       " 'against',\n",
       " 'between',\n",
       " 'into',\n",
       " 'through',\n",
       " 'during',\n",
       " 'before',\n",
       " 'after',\n",
       " 'above',\n",
       " 'below',\n",
       " 'to',\n",
       " 'from',\n",
       " 'up',\n",
       " 'down',\n",
       " 'in',\n",
       " 'out',\n",
       " 'on',\n",
       " 'off',\n",
       " 'over',\n",
       " 'under',\n",
       " 'again',\n",
       " 'further',\n",
       " 'then',\n",
       " 'once',\n",
       " 'here',\n",
       " 'there',\n",
       " 'when',\n",
       " 'where',\n",
       " 'why',\n",
       " 'how',\n",
       " 'all',\n",
       " 'any',\n",
       " 'both',\n",
       " 'each',\n",
       " 'few',\n",
       " 'more',\n",
       " 'most',\n",
       " 'other',\n",
       " 'some',\n",
       " 'such',\n",
       " 'no',\n",
       " 'nor',\n",
       " 'not',\n",
       " 'only',\n",
       " 'own',\n",
       " 'same',\n",
       " 'so',\n",
       " 'than',\n",
       " 'too',\n",
       " 'very',\n",
       " 's',\n",
       " 't',\n",
       " 'can',\n",
       " 'will',\n",
       " 'just',\n",
       " 'don',\n",
       " \"don't\",\n",
       " 'should',\n",
       " \"should've\",\n",
       " 'now',\n",
       " 'd',\n",
       " 'll',\n",
       " 'm',\n",
       " 'o',\n",
       " 're',\n",
       " 've',\n",
       " 'y',\n",
       " 'ain',\n",
       " 'aren',\n",
       " \"aren't\",\n",
       " 'couldn',\n",
       " \"couldn't\",\n",
       " 'didn',\n",
       " \"didn't\",\n",
       " 'doesn',\n",
       " \"doesn't\",\n",
       " 'hadn',\n",
       " \"hadn't\",\n",
       " 'hasn',\n",
       " \"hasn't\",\n",
       " 'haven',\n",
       " \"haven't\",\n",
       " 'isn',\n",
       " \"isn't\",\n",
       " 'ma',\n",
       " 'mightn',\n",
       " \"mightn't\",\n",
       " 'mustn',\n",
       " \"mustn't\",\n",
       " 'needn',\n",
       " \"needn't\",\n",
       " 'shan',\n",
       " \"shan't\",\n",
       " 'shouldn',\n",
       " \"shouldn't\",\n",
       " 'wasn',\n",
       " \"wasn't\",\n",
       " 'weren',\n",
       " \"weren't\",\n",
       " 'won',\n",
       " \"won't\",\n",
       " 'wouldn',\n",
       " \"wouldn't\"]"
      ]
     },
     "execution_count": 34,
     "metadata": {},
     "output_type": "execute_result"
    }
   ],
   "source": [
    "stopwords"
   ]
  },
  {
   "cell_type": "code",
   "execution_count": 35,
   "metadata": {},
   "outputs": [],
   "source": [
    "def remove_stopwords(text):\n",
    "    clean_stopwords=[]\n",
    "    for element in remove_punct_tokenize(text):\n",
    "        if element not in stopwords:\n",
    "            clean_stopwords.append(element)\n",
    "    return clean_stopwords"
   ]
  },
  {
   "cell_type": "code",
   "execution_count": 36,
   "metadata": {},
   "outputs": [
    {
     "data": {
      "text/plain": [
       "['cannot', 'stand']"
      ]
     },
     "execution_count": 36,
     "metadata": {},
     "output_type": "execute_result"
    }
   ],
   "source": [
    "remove_stopwords(\"I cannot stand this at all....\")"
   ]
  },
  {
   "cell_type": "code",
   "execution_count": 37,
   "metadata": {},
   "outputs": [
    {
     "data": {
      "text/plain": [
       "0       [go, jurong, point, crazy, available, bugis, n...\n",
       "1                          [ok, lar, joking, wif, u, oni]\n",
       "2       [free, entry, 2, wkly, comp, win, fa, cup, fin...\n",
       "3           [u, dun, say, early, hor, u, c, already, say]\n",
       "4       [nah, dont, think, goes, usf, lives, around, t...\n",
       "                              ...                        \n",
       "5567    [2nd, time, tried, 2, contact, u, u, 750, poun...\n",
       "5568                   [ü, b, going, esplanade, fr, home]\n",
       "5569                     [pity, mood, soany, suggestions]\n",
       "5570    [guy, bitching, acted, like, id, interested, b...\n",
       "5571                                   [rofl, true, name]\n",
       "Name: message, Length: 5572, dtype: object"
      ]
     },
     "execution_count": 37,
     "metadata": {},
     "output_type": "execute_result"
    }
   ],
   "source": [
    "data['message'].apply( remove_stopwords )"
   ]
  },
  {
   "cell_type": "code",
   "execution_count": 38,
   "metadata": {},
   "outputs": [],
   "source": [
    "from sklearn.feature_extraction.text import CountVectorizer"
   ]
  },
  {
   "cell_type": "code",
   "execution_count": 39,
   "metadata": {},
   "outputs": [],
   "source": [
    "#CountVectorizer Will convert text into token counts\n",
    "bow_transformer = CountVectorizer()"
   ]
  },
  {
   "cell_type": "code",
   "execution_count": 40,
   "metadata": {},
   "outputs": [
    {
     "data": {
      "text/plain": [
       "CountVectorizer(analyzer='word', binary=False, decode_error='strict',\n",
       "                dtype=<class 'numpy.int64'>, encoding='utf-8', input='content',\n",
       "                lowercase=True, max_df=1.0, max_features=None, min_df=1,\n",
       "                ngram_range=(1, 1), preprocessor=None, stop_words=None,\n",
       "                strip_accents=None, token_pattern='(?u)\\\\b\\\\w\\\\w+\\\\b',\n",
       "                tokenizer=None, vocabulary=None)"
      ]
     },
     "execution_count": 40,
     "metadata": {},
     "output_type": "execute_result"
    }
   ],
   "source": [
    "bow_transformer"
   ]
  },
  {
   "cell_type": "code",
   "execution_count": 41,
   "metadata": {},
   "outputs": [],
   "source": [
    "bow_transformer = CountVectorizer(analyzer=remove_stopwords).fit(data['message'])"
   ]
  },
  {
   "cell_type": "code",
   "execution_count": 42,
   "metadata": {},
   "outputs": [
    {
     "data": {
      "text/plain": [
       "CountVectorizer(analyzer=<function remove_stopwords at 0x7f9ac8fe0d40>,\n",
       "                binary=False, decode_error='strict',\n",
       "                dtype=<class 'numpy.int64'>, encoding='utf-8', input='content',\n",
       "                lowercase=True, max_df=1.0, max_features=None, min_df=1,\n",
       "                ngram_range=(1, 1), preprocessor=None, stop_words=None,\n",
       "                strip_accents=None, token_pattern='(?u)\\\\b\\\\w\\\\w+\\\\b',\n",
       "                tokenizer=None, vocabulary=None)"
      ]
     },
     "execution_count": 42,
     "metadata": {},
     "output_type": "execute_result"
    }
   ],
   "source": [
    "bow_transformer"
   ]
  },
  {
   "cell_type": "code",
   "execution_count": 43,
   "metadata": {},
   "outputs": [
    {
     "name": "stdout",
     "output_type": "stream",
     "text": [
      "9454\n"
     ]
    }
   ],
   "source": [
    "print (len(bow_transformer.vocabulary_))"
   ]
  },
  {
   "cell_type": "code",
   "execution_count": 44,
   "metadata": {},
   "outputs": [],
   "source": [
    "message9 = data['message'][8]"
   ]
  },
  {
   "cell_type": "code",
   "execution_count": 45,
   "metadata": {},
   "outputs": [
    {
     "data": {
      "text/plain": [
       "'WINNER!! As a valued network customer you have been selected to receivea £900 prize reward! To claim call 09061701461. Claim code KL341. Valid 12 hours only.'"
      ]
     },
     "execution_count": 45,
     "metadata": {},
     "output_type": "execute_result"
    }
   ],
   "source": [
    "message9"
   ]
  },
  {
   "cell_type": "code",
   "execution_count": 46,
   "metadata": {},
   "outputs": [
    {
     "name": "stdout",
     "output_type": "stream",
     "text": [
      "  (0, 218)\t1\n",
      "  (0, 326)\t1\n",
      "  (0, 915)\t1\n",
      "  (0, 1954)\t1\n",
      "  (0, 2231)\t2\n",
      "  (0, 2292)\t1\n",
      "  (0, 2578)\t1\n",
      "  (0, 4252)\t1\n",
      "  (0, 4814)\t1\n",
      "  (0, 5771)\t1\n",
      "  (0, 6612)\t1\n",
      "  (0, 6851)\t1\n",
      "  (0, 7022)\t1\n",
      "  (0, 7290)\t1\n",
      "  (0, 8789)\t1\n",
      "  (0, 8793)\t1\n",
      "  (0, 9119)\t1\n"
     ]
    }
   ],
   "source": [
    "bow9 = bow_transformer.transform([message9])\n",
    "print (bow9)"
   ]
  },
  {
   "cell_type": "code",
   "execution_count": 47,
   "metadata": {},
   "outputs": [
    {
     "name": "stdout",
     "output_type": "stream",
     "text": [
      "(1, 9454)\n"
     ]
    }
   ],
   "source": [
    "print (bow9.shape)"
   ]
  },
  {
   "cell_type": "markdown",
   "metadata": {},
   "source": [
    "Let's check what tokens are stored in (0, 218) and (0, 9119)"
   ]
  },
  {
   "cell_type": "code",
   "execution_count": 48,
   "metadata": {},
   "outputs": [
    {
     "name": "stdout",
     "output_type": "stream",
     "text": [
      "09061701461\n"
     ]
    }
   ],
   "source": [
    "print (bow_transformer.get_feature_names()[218])"
   ]
  },
  {
   "cell_type": "code",
   "execution_count": 49,
   "metadata": {},
   "outputs": [
    {
     "name": "stdout",
     "output_type": "stream",
     "text": [
      "winner\n"
     ]
    }
   ],
   "source": [
    "print (bow_transformer.get_feature_names()[9119])"
   ]
  },
  {
   "cell_type": "code",
   "execution_count": 50,
   "metadata": {},
   "outputs": [
    {
     "data": {
      "text/html": [
       "<div>\n",
       "<style scoped>\n",
       "    .dataframe tbody tr th:only-of-type {\n",
       "        vertical-align: middle;\n",
       "    }\n",
       "\n",
       "    .dataframe tbody tr th {\n",
       "        vertical-align: top;\n",
       "    }\n",
       "\n",
       "    .dataframe thead th {\n",
       "        text-align: right;\n",
       "    }\n",
       "</style>\n",
       "<table border=\"1\" class=\"dataframe\">\n",
       "  <thead>\n",
       "    <tr style=\"text-align: right;\">\n",
       "      <th></th>\n",
       "      <th>label</th>\n",
       "      <th>message</th>\n",
       "      <th>length</th>\n",
       "    </tr>\n",
       "  </thead>\n",
       "  <tbody>\n",
       "    <tr>\n",
       "      <th>1085</th>\n",
       "      <td>ham</td>\n",
       "      <td>For me the love should start with attraction.i...</td>\n",
       "      <td>910</td>\n",
       "    </tr>\n",
       "  </tbody>\n",
       "</table>\n",
       "</div>"
      ],
      "text/plain": [
       "     label                                            message  length\n",
       "1085   ham  For me the love should start with attraction.i...     910"
      ]
     },
     "execution_count": 50,
     "metadata": {},
     "output_type": "execute_result"
    }
   ],
   "source": [
    "data[data['length'] == 910]"
   ]
  },
  {
   "cell_type": "code",
   "execution_count": 51,
   "metadata": {},
   "outputs": [],
   "source": [
    "message_romeo = data['message'][1085]"
   ]
  },
  {
   "cell_type": "code",
   "execution_count": 52,
   "metadata": {},
   "outputs": [
    {
     "data": {
      "text/plain": [
       "\"For me the love should start with attraction.i should feel that I need her every time around me.she should be the first thing which comes in my thoughts.I would start the day and end it with her.she should be there every time I dream.love will be then when my every breath has her name.my life should happen around her.my life will be named to her.I would cry for her.will give all my happiness and take all her sorrows.I will be ready to fight with anyone for her.I will be in love when I will be doing the craziest things for her.love will be when I don't have to proove anyone that my girl is the most beautiful lady on the whole planet.I will always be singing praises for her.love will be when I start up making chicken curry and end up makiing sambar.life will be the most beautiful then.will get every morning and thank god for the day because she is with me.I would like to say a lot..will tell later..\""
      ]
     },
     "execution_count": 52,
     "metadata": {},
     "output_type": "execute_result"
    }
   ],
   "source": [
    "message_romeo"
   ]
  },
  {
   "cell_type": "code",
   "execution_count": 53,
   "metadata": {},
   "outputs": [],
   "source": [
    "bow_romeo = bow_transformer.transform([message_romeo])"
   ]
  },
  {
   "cell_type": "code",
   "execution_count": 54,
   "metadata": {},
   "outputs": [
    {
     "data": {
      "text/plain": [
       "(1, 9454)"
      ]
     },
     "execution_count": 54,
     "metadata": {},
     "output_type": "execute_result"
    }
   ],
   "source": [
    "bow_romeo.shape"
   ]
  },
  {
   "cell_type": "code",
   "execution_count": 55,
   "metadata": {},
   "outputs": [
    {
     "name": "stdout",
     "output_type": "stream",
     "text": [
      "  (0, 1172)\t1\n",
      "  (0, 1241)\t2\n",
      "  (0, 1324)\t2\n",
      "  (0, 1394)\t1\n",
      "  (0, 1568)\t2\n",
      "  (0, 1822)\t1\n",
      "  (0, 2173)\t1\n",
      "  (0, 2327)\t1\n",
      "  (0, 2508)\t1\n",
      "  (0, 2540)\t1\n",
      "  (0, 2572)\t1\n",
      "  (0, 2651)\t2\n",
      "  (0, 2927)\t1\n",
      "  (0, 2969)\t1\n",
      "  (0, 3134)\t2\n",
      "  (0, 3224)\t4\n",
      "  (0, 3384)\t1\n",
      "  (0, 3414)\t1\n",
      "  (0, 3460)\t1\n",
      "  (0, 3754)\t1\n",
      "  (0, 3777)\t1\n",
      "  (0, 3784)\t1\n",
      "  (0, 3811)\t1\n",
      "  (0, 4013)\t1\n",
      "  (0, 4022)\t1\n",
      "  :\t:\n",
      "  (0, 5383)\t1\n",
      "  (0, 5417)\t1\n",
      "  (0, 5585)\t1\n",
      "  (0, 5704)\t1\n",
      "  (0, 5705)\t1\n",
      "  (0, 5746)\t1\n",
      "  (0, 6388)\t1\n",
      "  (0, 6537)\t1\n",
      "  (0, 6661)\t1\n",
      "  (0, 6819)\t1\n",
      "  (0, 7168)\t1\n",
      "  (0, 7209)\t1\n",
      "  (0, 7498)\t1\n",
      "  (0, 7682)\t1\n",
      "  (0, 7829)\t3\n",
      "  (0, 8120)\t1\n",
      "  (0, 8198)\t1\n",
      "  (0, 8251)\t1\n",
      "  (0, 8283)\t1\n",
      "  (0, 8304)\t1\n",
      "  (0, 8306)\t1\n",
      "  (0, 8329)\t1\n",
      "  (0, 8367)\t2\n",
      "  (0, 9083)\t1\n",
      "  (0, 9220)\t3\n"
     ]
    }
   ],
   "source": [
    "print (bow_romeo)"
   ]
  },
  {
   "cell_type": "code",
   "execution_count": 56,
   "metadata": {},
   "outputs": [
    {
     "name": "stdout",
     "output_type": "stream",
     "text": [
      "every\n"
     ]
    }
   ],
   "source": [
    "print (bow_transformer.get_feature_names()[3224])"
   ]
  },
  {
   "cell_type": "code",
   "execution_count": 57,
   "metadata": {},
   "outputs": [
    {
     "data": {
      "text/plain": [
       "array([9453, 9452, 9451, ...,    2,    1,    0])"
      ]
     },
     "execution_count": 57,
     "metadata": {},
     "output_type": "execute_result"
    }
   ],
   "source": [
    "import numpy as np\n",
    "\n",
    "np.argsort(bow_transformer.get_feature_names())[::-1]"
   ]
  },
  {
   "cell_type": "code",
   "execution_count": 58,
   "metadata": {},
   "outputs": [
    {
     "name": "stdout",
     "output_type": "stream",
     "text": [
      "492 2daylove\n",
      "948 aathilove\n",
      "1584 bedroomlove\n",
      "1614 beloved\n",
      "2003 canlove\n",
      "2270 clover\n",
      "2969 dreamlove\n",
      "4116 herlove\n",
      "4203 homelove\n",
      "4312 hunlove\n",
      "4544 islove\n",
      "5143 love\n",
      "5144 loveable\n",
      "5145 loved\n",
      "5146 lovejen\n",
      "5147 lovely\n",
      "5148 loveme\n",
      "5149 lover\n",
      "5150 loverakhesh\n",
      "5151 loverboy\n",
      "5152 lovers\n",
      "5153 loves\n",
      "5644 muchxxlove\n",
      "6980 reslove\n",
      "7195 satlove\n",
      "7202 sausagelove\n",
      "7570 slovely\n",
      "9196 worklove\n"
     ]
    }
   ],
   "source": [
    "for index, s in enumerate(bow_transformer.get_feature_names()):\n",
    "    if \"love\" in s:\n",
    "        print (index, s)"
   ]
  },
  {
   "cell_type": "code",
   "execution_count": 59,
   "metadata": {},
   "outputs": [],
   "source": [
    "#transform now all dataset\n",
    "data_bow = bow_transformer.transform(data['message'])"
   ]
  },
  {
   "cell_type": "code",
   "execution_count": 60,
   "metadata": {},
   "outputs": [],
   "source": [
    "#now scikit learn\n",
    "\n",
    "from sklearn.feature_extraction.text import TfidfTransformer"
   ]
  },
  {
   "cell_type": "code",
   "execution_count": 61,
   "metadata": {},
   "outputs": [],
   "source": [
    "\n",
    "tfidf_transformer = TfidfTransformer().fit(data_bow)"
   ]
  },
  {
   "cell_type": "code",
   "execution_count": 62,
   "metadata": {},
   "outputs": [
    {
     "data": {
      "text/plain": [
       "TfidfTransformer(norm='l2', smooth_idf=True, sublinear_tf=False, use_idf=True)"
      ]
     },
     "execution_count": 62,
     "metadata": {},
     "output_type": "execute_result"
    }
   ],
   "source": [
    "tfidf_transformer"
   ]
  },
  {
   "cell_type": "code",
   "execution_count": 63,
   "metadata": {},
   "outputs": [
    {
     "name": "stdout",
     "output_type": "stream",
     "text": [
      "  (0, 9119)\t0.23504242276190376\n",
      "  (0, 8793)\t0.2417608717879622\n",
      "  (0, 8789)\t0.22310978582586533\n",
      "  (0, 7290)\t0.2153882708405334\n",
      "  (0, 7022)\t0.2570497663029066\n",
      "  (0, 6851)\t0.29506543469242547\n",
      "  (0, 6612)\t0.1793504751988651\n",
      "  (0, 5771)\t0.2153882708405334\n",
      "  (0, 4814)\t0.29506543469242547\n",
      "  (0, 4252)\t0.22612067118357726\n",
      "  (0, 2578)\t0.1919846371928806\n",
      "  (0, 2292)\t0.2142536330398757\n",
      "  (0, 2231)\t0.3414894763386853\n",
      "  (0, 1954)\t0.11556449460880888\n",
      "  (0, 915)\t0.2534039392300523\n",
      "  (0, 326)\t0.23714023792653083\n",
      "  (0, 218)\t0.29506543469242547\n"
     ]
    }
   ],
   "source": [
    "tfidf9 = tfidf_transformer.transform(bow9)\n",
    "print (tfidf9)"
   ]
  },
  {
   "cell_type": "code",
   "execution_count": 64,
   "metadata": {},
   "outputs": [
    {
     "name": "stdout",
     "output_type": "stream",
     "text": [
      "4.934340905340393\n"
     ]
    }
   ],
   "source": [
    "print (tfidf_transformer.idf_[bow_transformer.vocabulary_['claim']])"
   ]
  },
  {
   "cell_type": "code",
   "execution_count": 65,
   "metadata": {},
   "outputs": [
    {
     "name": "stdout",
     "output_type": "stream",
     "text": [
      "4.484025231066877\n"
     ]
    }
   ],
   "source": [
    "print (tfidf_transformer.idf_[bow_transformer.vocabulary_['love']])"
   ]
  },
  {
   "cell_type": "code",
   "execution_count": 66,
   "metadata": {},
   "outputs": [
    {
     "name": "stdout",
     "output_type": "stream",
     "text": [
      "(5572, 9454)\n"
     ]
    }
   ],
   "source": [
    "data_tfidf = tfidf_transformer.transform(data_bow)\n",
    "print (data_tfidf.shape)"
   ]
  },
  {
   "cell_type": "code",
   "execution_count": 67,
   "metadata": {},
   "outputs": [],
   "source": [
    "\n",
    "#why naive bayes?\n",
    "#http://www.inf.ed.ac.uk/teaching/courses/inf2b/learnnotes/inf2b-learn-note07-2up.pdf\n",
    "from sklearn.naive_bayes import MultinomialNB"
   ]
  },
  {
   "cell_type": "code",
   "execution_count": 68,
   "metadata": {},
   "outputs": [],
   "source": [
    "spam_detect_model = MultinomialNB().fit(data_tfidf.toarray() , data['label'])"
   ]
  },
  {
   "cell_type": "code",
   "execution_count": 69,
   "metadata": {},
   "outputs": [
    {
     "name": "stdout",
     "output_type": "stream",
     "text": [
      "['ham' 'ham' 'spam' ... 'ham' 'ham' 'ham']\n"
     ]
    }
   ],
   "source": [
    "\n",
    "all_predictions = spam_detect_model.predict(data_tfidf)\n",
    "print (all_predictions)\n"
   ]
  },
  {
   "cell_type": "code",
   "execution_count": 70,
   "metadata": {},
   "outputs": [],
   "source": [
    "\n",
    "true_val=data['label']"
   ]
  },
  {
   "cell_type": "code",
   "execution_count": 71,
   "metadata": {},
   "outputs": [
    {
     "name": "stdout",
     "output_type": "stream",
     "text": [
      "              precision    recall  f1-score   support\n",
      "\n",
      "         ham       0.98      1.00      0.99      4825\n",
      "        spam       1.00      0.84      0.91       747\n",
      "\n",
      "    accuracy                           0.98      5572\n",
      "   macro avg       0.99      0.92      0.95      5572\n",
      "weighted avg       0.98      0.98      0.98      5572\n",
      "\n"
     ]
    }
   ],
   "source": [
    "from sklearn.metrics import classification_report\n",
    "print (classification_report(data['label'], all_predictions))"
   ]
  },
  {
   "cell_type": "code",
   "execution_count": 72,
   "metadata": {},
   "outputs": [],
   "source": [
    "from sklearn.model_selection import train_test_split\n",
    "msg_train, msg_test, label_train, label_test = train_test_split(data['message'], data['label'], test_size=0.2, random_state=1)"
   ]
  },
  {
   "cell_type": "code",
   "execution_count": 73,
   "metadata": {},
   "outputs": [],
   "source": [
    "from sklearn.pipeline import Pipeline\n",
    "#create pipeline\n",
    "pipeline = Pipeline([\n",
    "    ('bow', CountVectorizer(analyzer=remove_stopwords)),  # strings to token integer counts\n",
    "    ('tfidf', TfidfTransformer( )),  # integer counts to weighted TF-IDF scores\n",
    "    ('classifier', MultinomialNB()),  # train on TF-IDF vectors w/ Naive Bayes classifier\n",
    "])"
   ]
  },
  {
   "cell_type": "code",
   "execution_count": 74,
   "metadata": {
    "scrolled": true
   },
   "outputs": [
    {
     "name": "stdout",
     "output_type": "stream",
     "text": [
      "              precision    recall  f1-score   support\n",
      "\n",
      "         ham       1.00      0.96      0.98      1005\n",
      "        spam       0.75      1.00      0.86       110\n",
      "\n",
      "    accuracy                           0.97      1115\n",
      "   macro avg       0.87      0.98      0.92      1115\n",
      "weighted avg       0.98      0.97      0.97      1115\n",
      "\n"
     ]
    },
    {
     "data": {
      "text/plain": [
       "array([[968,   0],\n",
       "       [ 37, 110]])"
      ]
     },
     "execution_count": 74,
     "metadata": {},
     "output_type": "execute_result"
    }
   ],
   "source": [
    "#Now we can directly pass message text data and the pipeline will do our pre-processing for us!\n",
    "pipeline.fit(msg_train, label_train)\n",
    "predictions = pipeline.predict(msg_test)\n",
    "\n",
    "print (classification_report(predictions, label_test))\n",
    "\n",
    "\n",
    "from sklearn.metrics import confusion_matrix\n",
    "#tn, fp, fn, tp = confusion_matrix(label_test,predictions).ravel()\n",
    "confusion_matrix(label_test, predictions)"
   ]
  }
 ],
 "metadata": {
  "kernelspec": {
   "display_name": "Python 3",
   "language": "python",
   "name": "python3"
  },
  "language_info": {
   "codemirror_mode": {
    "name": "ipython",
    "version": 3
   },
   "file_extension": ".py",
   "mimetype": "text/x-python",
   "name": "python",
   "nbconvert_exporter": "python",
   "pygments_lexer": "ipython3",
   "version": "3.7.7"
  }
 },
 "nbformat": 4,
 "nbformat_minor": 4
}
